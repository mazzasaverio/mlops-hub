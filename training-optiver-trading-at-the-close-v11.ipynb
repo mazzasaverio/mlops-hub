{
 "cells": [
  {
   "cell_type": "code",
   "execution_count": 1,
   "id": "98a747ee",
   "metadata": {
    "execution": {
     "iopub.execute_input": "2023-11-18T05:20:18.849471Z",
     "iopub.status.busy": "2023-11-18T05:20:18.848562Z",
     "iopub.status.idle": "2023-11-18T05:20:18.861701Z",
     "shell.execute_reply": "2023-11-18T05:20:18.860671Z"
    },
    "papermill": {
     "duration": 0.024115,
     "end_time": "2023-11-18T05:20:18.864543",
     "exception": false,
     "start_time": "2023-11-18T05:20:18.840428",
     "status": "completed"
    },
    "tags": []
   },
   "outputs": [],
   "source": [
    "# Constants and Configuration Variables\n",
    "DEBUG = False\n",
    "TRAIN = False\n",
    "TUNING = True\n",
    "OVERWRITE_PROCESSED_DATA = True\n",
    "N_TRIALS = 1\n",
    "STATE = 42\n",
    "N_FOLD_BREAK = 8\n",
    "\n",
    "GPU_SWITCH = \"ON\"\n",
    "N_SPLITS = 5\n",
    "N_TEST_SPLITS = 1\n",
    "N_PURGE = 11\n",
    "N_EMBARGO = 11\n",
    "\n",
    "\n",
    "VERSION_NB = 14\n",
    "EXPERIMENT_PURPOSE = \"optiver_trading_at_the_close\"\n",
    "\n",
    "model_params_dict = {\n",
    "    \"LGBMR\": {\n",
    "        \"static_params\": {\n",
    "            \"device\": \"gpu\" if GPU_SWITCH == \"ON\" else \"cpu\",\n",
    "            \"objective\": \"mae\",\n",
    "            \"boosting_type\": \"gbdt\",\n",
    "            \"random_state\": STATE,\n",
    "            \"n_jobs\": 4,\n",
    "            \"verbose\": -1,\n",
    "            \"importance_type\": \"gain\",\n",
    "        },\n",
    "        \"dynamic_params\": {\n",
    "            \"n_estimators\": {\n",
    "                \"type\": \"int\",\n",
    "                \"low\": 500,\n",
    "                \"high\": 500,\n",
    "            },\n",
    "            \"learning_rate\": {\n",
    "                \"type\": \"float\",\n",
    "                \"low\": 0.0114,\n",
    "                \"high\": 0.0114,\n",
    "            },\n",
    "            \"max_depth\": {\"type\": \"int\", \"low\": 13, \"high\": 13},\n",
    "            \"num_leaves\": {\n",
    "                \"type\": \"int\",\n",
    "                \"low\": 230,\n",
    "                \"high\": 230,\n",
    "            },\n",
    "            \"min_child_samples\": {\n",
    "                \"type\": \"int\",\n",
    "                \"low\": 20,\n",
    "                \"high\": 20,\n",
    "            },\n",
    "            \"subsample\": {\n",
    "                \"type\": \"float\",\n",
    "                \"low\": 1,\n",
    "                \"high\": 1,\n",
    "            },\n",
    "            \"colsample_bytree\": {\n",
    "                \"type\": \"float\",\n",
    "                \"low\": 1,\n",
    "                \"high\": 1,\n",
    "            },\n",
    "        },\n",
    "    },\n",
    "}\n",
    "\n",
    "# RECORD ENSAMBLE MODEL\n",
    "model_paths = [\n",
    "    \"s3://mlflow-v1/kaggle_optiver_trading_at_the_close/15d253a7751b414fbc8ec5a78c81e24c/artifacts/LGBMR_0_20231118_044309/model.pkl\",\n",
    "    \"s3://mlflow-v1/kaggle_optiver_trading_at_the_close/8a881129db7c45e9bd92094cd1097297/artifacts/LGBMR_0_20231118_044743/model.pkl\",\n",
    "    \"s3://mlflow-v1/kaggle_optiver_trading_at_the_close/9e402e7a59be460897bf7cee58fc85c5/artifacts/LGBMR_0_20231118_045214/model.pkl\",\n",
    "    \"s3://mlflow-v1/kaggle_optiver_trading_at_the_close/1ffb209c2fe2420db01bb4df17d86f1d/artifacts/LGBMR_0_20231118_045642/model.pkl\",\n",
    "    \"s3://mlflow-v1/kaggle_optiver_trading_at_the_close/562d3c3b41c74c9a90e080b88eb5af3a/artifacts/LGBMR_0_20231118_050108/model.pkl\",\n",
    "]\n",
    "\n",
    "# Define the model name for registration in MLflow\n",
    "\n",
    "version = 9\n",
    "model_name = f\"ensemble_model ({version})\"\n",
    "folder_model = f\"models-v{version}\""
   ]
  },
  {
   "cell_type": "code",
   "execution_count": null,
   "id": "7699dff3",
   "metadata": {
    "papermill": {
     "duration": 0.005857,
     "end_time": "2023-11-18T05:20:18.876460",
     "exception": false,
     "start_time": "2023-11-18T05:20:18.870603",
     "status": "completed"
    },
    "tags": []
   },
   "outputs": [],
   "source": []
  },
  {
   "cell_type": "code",
   "execution_count": 2,
   "id": "969461dd",
   "metadata": {
    "execution": {
     "iopub.execute_input": "2023-11-18T05:20:18.890905Z",
     "iopub.status.busy": "2023-11-18T05:20:18.890548Z",
     "iopub.status.idle": "2023-11-18T05:20:21.094078Z",
     "shell.execute_reply": "2023-11-18T05:20:21.092602Z"
    },
    "papermill": {
     "duration": 2.214259,
     "end_time": "2023-11-18T05:20:21.097024",
     "exception": false,
     "start_time": "2023-11-18T05:20:18.882765",
     "status": "completed"
    },
    "tags": []
   },
   "outputs": [],
   "source": [
    "# External general-purpose modules\n",
    "import gc\n",
    "import sys\n",
    "import os\n",
    "import itertools as itt\n",
    "from itertools import combinations, product\n",
    "from datetime import datetime\n",
    "import numpy as np\n",
    "import pandas as pd\n",
    "import polars as pl\n",
    "import joblib\n",
    "\n",
    "from pathlib import Path\n",
    "import warnings\n",
    "from numba import njit, prange\n",
    "import boto3\n",
    "from botocore.exceptions import NoCredentialsError\n",
    "from dotenv import load_dotenv\n",
    "\n",
    "\n",
    "# Setting pandas options and warning filters\n",
    "pd.set_option(\"display.max_columns\", None)\n",
    "warnings.filterwarnings(\"ignore\")\n",
    "warnings.simplefilter(action=\"ignore\", category=pd.errors.PerformanceWarning)\n",
    "\n",
    "# Load environment variables\n",
    "load_dotenv()\n",
    "path_root_project = Path.cwd()\n",
    "if path_root_project.name not in [\"working\", \"content\"]:\n",
    "    path_root_project = Path(os.getenv(\"ROOT_PATH\") or path_root_project)\n",
    "\n",
    "    directories_to_add = [\"utils\", \"feat_engineering\", \"validation\"]\n",
    "    for directory in directories_to_add:\n",
    "        sys.path.append(str(path_root_project / \"src\" / directory))\n",
    "\n",
    "\n",
    "from utils_training import create_model, experiments_data\n",
    "from utils_data import load_config, load_dataset, reduce_mem_usage, PathManager\n",
    "from utils_kaggle import (\n",
    "    setup_kaggle,\n",
    "    download_data,\n",
    "    get_data,\n",
    "    clean_directory_except_one,\n",
    ")\n",
    "\n",
    "from fe_optiver_trading_at_the_close import (\n",
    "    calculate_triplet_imbalance_numba,\n",
    "    convert_weights_to_dict,\n",
    "    global_stock_id_feats,\n",
    "    compute_rolling_averages,\n",
    "    generate_rsi,\n",
    ")\n",
    "\n",
    "pm = PathManager(path_root_project)\n",
    "\n",
    "if TRAIN:\n",
    "    if pm.path_root_project.name == \"working\":\n",
    "        from kaggle_secrets import UserSecretsClient\n",
    "\n",
    "        user_secrets = UserSecretsClient()\n",
    "        aws_access_key_id = user_secrets.get_secret(\"AWS_ACCESS_KEY_ID\")\n",
    "        aws_region = user_secrets.get_secret(\"AWS_DEFAULT_REGION\")\n",
    "        aws_secret_access_key = user_secrets.get_secret(\"AWS_SECRET_ACCESS_KEY\")\n",
    "        s3_bucket_name = user_secrets.get_secret(\"S3_BUCKET\")\n",
    "\n",
    "        # Set AWS credentials in the environment variables\n",
    "        os.environ[\"AWS_ACCESS_KEY_ID\"] = aws_access_key_id\n",
    "        os.environ[\"AWS_SECRET_ACCESS_KEY\"] = aws_secret_access_key\n",
    "        os.environ[\"AWS_DEFAULT_REGION\"] = aws_region\n",
    "    else:\n",
    "        aws_access_key_id = os.getenv(\"AWS_ACCESS_KEY_ID\")\n",
    "        aws_secret_access_key = os.getenv(\"AWS_SECRET_ACCESS_KEY\")"
   ]
  },
  {
   "cell_type": "code",
   "execution_count": 3,
   "id": "2c290621",
   "metadata": {
    "execution": {
     "iopub.execute_input": "2023-11-18T05:20:21.111098Z",
     "iopub.status.busy": "2023-11-18T05:20:21.110603Z",
     "iopub.status.idle": "2023-11-18T05:20:24.279669Z",
     "shell.execute_reply": "2023-11-18T05:20:24.278461Z"
    },
    "papermill": {
     "duration": 3.178952,
     "end_time": "2023-11-18T05:20:24.282126",
     "exception": false,
     "start_time": "2023-11-18T05:20:21.103174",
     "status": "completed"
    },
    "tags": []
   },
   "outputs": [],
   "source": [
    "model_prod = joblib.load(f'/kaggle/input/{folder_model}/{model_name}.pkl')"
   ]
  },
  {
   "cell_type": "code",
   "execution_count": null,
   "id": "fed7922f",
   "metadata": {
    "papermill": {
     "duration": 0.005215,
     "end_time": "2023-11-18T05:20:24.293609",
     "exception": false,
     "start_time": "2023-11-18T05:20:24.288394",
     "status": "completed"
    },
    "tags": []
   },
   "outputs": [],
   "source": []
  },
  {
   "cell_type": "code",
   "execution_count": 4,
   "id": "feb436c3",
   "metadata": {
    "execution": {
     "iopub.execute_input": "2023-11-18T05:20:24.306678Z",
     "iopub.status.busy": "2023-11-18T05:20:24.306308Z",
     "iopub.status.idle": "2023-11-18T05:20:24.320651Z",
     "shell.execute_reply": "2023-11-18T05:20:24.319056Z"
    },
    "papermill": {
     "duration": 0.02351,
     "end_time": "2023-11-18T05:20:24.322691",
     "exception": false,
     "start_time": "2023-11-18T05:20:24.299181",
     "status": "completed"
    },
    "tags": []
   },
   "outputs": [],
   "source": [
    "\n",
    "\n",
    "# Conditional imports and settings based on TRAIN constant\n",
    "if TRAIN:\n",
    "    if pm.path_root_project.name == \"working\":\n",
    "        !pip install loguru mlflow optuna > /dev/null\n",
    "\n",
    "    \n",
    "\n",
    "    from utils_mlflow import (\n",
    "        get_experiments_df,\n",
    "        delete_runs_and_artifacts,\n",
    "        download_and_load_model,\n",
    "        load_models_and_create_ensemble,\n",
    "        save_and_register_model,\n",
    "        log_model_parameters,\n",
    "        get_or_create_experiment,\n",
    "        experiments_data,\n",
    "    )\n",
    "    from utils_feat_importance import log_feature_importance, aggregate_feature_importance\n",
    "    from model_validation import time_series_split\n",
    "\n",
    "    # External Libraries\n",
    "    import boto3\n",
    "    from botocore.exceptions import NoCredentialsError\n",
    "    from mlflow.exceptions import MlflowException\n",
    "    import lightgbm as lgbm\n",
    "    import mlflow\n",
    "    import optuna\n",
    "    from mlflow.tracking import MlflowClient\n",
    "    from optuna.integration.mlflow import MLflowCallback\n",
    "    from sklearn.model_selection import KFold\n",
    "    from xgboost import XGBRegressor as XGBR\n",
    "    from lightgbm import log_evaluation, early_stopping, LGBMRegressor as LGBMR\n",
    "\n",
    "\n",
    "\n",
    "    # Auto-reload modules - Specific to Jupyter Notebooks\n",
    "    %load_ext autoreload\n",
    "    %autoreload 2\n",
    "    if not DEBUG:\n",
    "        mlflow.set_tracking_uri(pm.path_experiments_dir)\n",
    "        \n",
    "    client = MlflowClient()\n",
    "    \n",
    "    # Create an S3 client\n",
    "    s3 = boto3.client(\n",
    "        \"s3\",\n",
    "        aws_access_key_id=aws_access_key_id,\n",
    "        aws_secret_access_key=aws_secret_access_key,\n",
    "    )"
   ]
  },
  {
   "cell_type": "code",
   "execution_count": 5,
   "id": "edd06ee2",
   "metadata": {
    "execution": {
     "iopub.execute_input": "2023-11-18T05:20:24.336028Z",
     "iopub.status.busy": "2023-11-18T05:20:24.335678Z",
     "iopub.status.idle": "2023-11-18T05:20:24.341588Z",
     "shell.execute_reply": "2023-11-18T05:20:24.340240Z"
    },
    "papermill": {
     "duration": 0.015425,
     "end_time": "2023-11-18T05:20:24.344035",
     "exception": false,
     "start_time": "2023-11-18T05:20:24.328610",
     "status": "completed"
    },
    "tags": []
   },
   "outputs": [],
   "source": [
    "if TRAIN:\n",
    "     s3 = boto3.client(\n",
    "         \"s3\",\n",
    "         aws_access_key_id=aws_access_key_id,\n",
    "         aws_secret_access_key=aws_secret_access_key,\n",
    "     )\n",
    "     # Load the models and create an ensemble\n",
    "     ensemble_model = load_models_and_create_ensemble(s3, model_paths)\n",
    "\n",
    "     # Save and register the ensemble model in MLflow\n",
    "     save_and_register_model(ensemble_model, model_name)"
   ]
  },
  {
   "cell_type": "code",
   "execution_count": null,
   "id": "8bcd37dc",
   "metadata": {
    "papermill": {
     "duration": 0.005402,
     "end_time": "2023-11-18T05:20:24.355576",
     "exception": false,
     "start_time": "2023-11-18T05:20:24.350174",
     "status": "completed"
    },
    "tags": []
   },
   "outputs": [],
   "source": []
  },
  {
   "cell_type": "code",
   "execution_count": null,
   "id": "ad0839df",
   "metadata": {
    "papermill": {
     "duration": 0.005382,
     "end_time": "2023-11-18T05:20:24.366431",
     "exception": false,
     "start_time": "2023-11-18T05:20:24.361049",
     "status": "completed"
    },
    "tags": []
   },
   "outputs": [],
   "source": []
  },
  {
   "cell_type": "code",
   "execution_count": 6,
   "id": "3c2a9936",
   "metadata": {
    "execution": {
     "iopub.execute_input": "2023-11-18T05:20:24.379096Z",
     "iopub.status.busy": "2023-11-18T05:20:24.378725Z",
     "iopub.status.idle": "2023-11-18T05:20:24.386351Z",
     "shell.execute_reply": "2023-11-18T05:20:24.385250Z"
    },
    "papermill": {
     "duration": 0.016374,
     "end_time": "2023-11-18T05:20:24.388282",
     "exception": false,
     "start_time": "2023-11-18T05:20:24.371908",
     "status": "completed"
    },
    "tags": []
   },
   "outputs": [],
   "source": [
    "if TRAIN:\n",
    "    if not os.path.exists(pm.path_dataset_processed) or OVERWRITE_PROCESSED_DATA:\n",
    "        df_train_raw = pd.read_csv(pm.path_data_train_raw)\n",
    "\n",
    "        if DEBUG:\n",
    "            df_train_raw = df_train_raw[df_train_raw[\"stock_id\"].isin([0, 1, 2, 3, 4])]\n",
    "\n",
    "        drop_idx = df_train_raw.loc[\n",
    "            df_train_raw[\"target\"].isna(), \"target\"\n",
    "        ].index.to_list()\n",
    "        df_train = df_train_raw.drop(drop_idx, axis=0)\n",
    "        df_train.reset_index(drop=True, inplace=True)\n",
    "    else:\n",
    "        df_train = pd.read_csv(pm.path_dataset_processed)\n",
    "        if DEBUG:\n",
    "            df_train = df_train[df_train[\"stock_id\"].isin([0, 1, 2, 3, 4])]\n",
    "\n",
    "    df_train.sort_values([\"time_id\", \"stock_id\"], inplace=True)"
   ]
  },
  {
   "cell_type": "code",
   "execution_count": 7,
   "id": "9787184f",
   "metadata": {
    "execution": {
     "iopub.execute_input": "2023-11-18T05:20:24.401820Z",
     "iopub.status.busy": "2023-11-18T05:20:24.401456Z",
     "iopub.status.idle": "2023-11-18T05:20:24.406855Z",
     "shell.execute_reply": "2023-11-18T05:20:24.405442Z"
    },
    "papermill": {
     "duration": 0.015219,
     "end_time": "2023-11-18T05:20:24.409520",
     "exception": false,
     "start_time": "2023-11-18T05:20:24.394301",
     "status": "completed"
    },
    "tags": []
   },
   "outputs": [],
   "source": [
    "if TRAIN:\n",
    "    dict_global_stock_id_feats = global_stock_id_feats(df_train)"
   ]
  },
  {
   "cell_type": "code",
   "execution_count": 8,
   "id": "a0cacfe5",
   "metadata": {
    "execution": {
     "iopub.execute_input": "2023-11-18T05:20:24.422988Z",
     "iopub.status.busy": "2023-11-18T05:20:24.422622Z",
     "iopub.status.idle": "2023-11-18T05:20:24.438799Z",
     "shell.execute_reply": "2023-11-18T05:20:24.437576Z"
    },
    "papermill": {
     "duration": 0.025573,
     "end_time": "2023-11-18T05:20:24.441209",
     "exception": false,
     "start_time": "2023-11-18T05:20:24.415636",
     "status": "completed"
    },
    "tags": []
   },
   "outputs": [],
   "source": [
    "def imbalance_features(df):\n",
    "    # Define lists of price and size-related column names\n",
    "    prices = [\n",
    "        \"reference_price\",\n",
    "        \"far_price\",\n",
    "        \"near_price\",\n",
    "        \"ask_price\",\n",
    "        \"bid_price\",\n",
    "        \"wap\",\n",
    "    ]\n",
    "    sizes = [\"matched_size\", \"bid_size\", \"ask_size\", \"imbalance_size\"]\n",
    "    df[\"volume\"] = df.eval(\"ask_size + bid_size\")\n",
    "    df[\"mid_price\"] = df.eval(\"(ask_price + bid_price) / 2\")\n",
    "    df[\"liquidity_imbalance\"] = df.eval(\"(bid_size-ask_size)/(bid_size+ask_size)\")\n",
    "    df[\"matched_imbalance\"] = df.eval(\n",
    "        \"(imbalance_size-matched_size)/(matched_size+imbalance_size)\"\n",
    "    )\n",
    "    df[\"size_imbalance\"] = df.eval(\"bid_size / ask_size\")\n",
    "\n",
    "    for c in combinations(prices, 2):\n",
    "        df[f\"{c[0]}_{c[1]}_imb\"] = df.eval(f\"({c[0]} - {c[1]})/({c[0]} + {c[1]})\")\n",
    "\n",
    "    for c in [[\"ask_price\", \"bid_price\", \"wap\", \"reference_price\"], sizes]:\n",
    "        triplet_feature = calculate_triplet_imbalance_numba(c, df)\n",
    "        df[triplet_feature.columns] = triplet_feature.values\n",
    "\n",
    "    df[\"imbalance_momentum\"] = (\n",
    "        df.groupby([\"stock_id\"])[\"imbalance_size\"].diff(periods=1) / df[\"matched_size\"]\n",
    "    )\n",
    "    df[\"price_spread\"] = df[\"ask_price\"] - df[\"bid_price\"]\n",
    "    df[\"spread_intensity\"] = df.groupby([\"stock_id\"])[\"price_spread\"].diff()\n",
    "    df[\"price_pressure\"] = df[\"imbalance_size\"] * (df[\"ask_price\"] - df[\"bid_price\"])\n",
    "    df[\"market_urgency\"] = df[\"price_spread\"] * df[\"liquidity_imbalance\"]\n",
    "    df[\"depth_pressure\"] = (df[\"ask_size\"] - df[\"bid_size\"]) * (\n",
    "        df[\"far_price\"] - df[\"near_price\"]\n",
    "    )\n",
    "\n",
    "    # Calculate various statistical aggregation features\n",
    "    for func in [\"mean\", \"std\", \"skew\", \"kurt\"]:\n",
    "        df[f\"all_prices_{func}\"] = df[prices].agg(func, axis=1)\n",
    "        df[f\"all_sizes_{func}\"] = df[sizes].agg(func, axis=1)\n",
    "\n",
    "    for col in [\n",
    "        \"matched_size\",\n",
    "        \"imbalance_size\",\n",
    "        \"reference_price\",\n",
    "        \"imbalance_buy_sell_flag\",\n",
    "    ]:\n",
    "        for window in [1, 2, 3, 10]:\n",
    "            df[f\"{col}_shift_{window}\"] = df.groupby(\"stock_id\")[col].shift(window)\n",
    "            df[f\"{col}_ret_{window}\"] = df.groupby(\"stock_id\")[col].pct_change(window)\n",
    "\n",
    "    # Calculate diff features for specific columns\n",
    "    for col in [\n",
    "        \"ask_price\",\n",
    "        \"bid_price\",\n",
    "        \"ask_size\",\n",
    "        \"bid_size\",\n",
    "        \"market_urgency\",\n",
    "        \"imbalance_momentum\",\n",
    "        \"size_imbalance\",\n",
    "    ]:\n",
    "        for window in [1, 2, 3, 10]:\n",
    "            df[f\"{col}_diff_{window}\"] = df.groupby(\"stock_id\")[col].diff(window)\n",
    "\n",
    "    return df.replace([np.inf, -np.inf], 0)\n",
    "\n",
    "\n",
    "def other_features(df):\n",
    "    df[\"dow\"] = df[\"date_id\"] % 5  # Day of the week\n",
    "    df[\"seconds\"] = df[\"seconds_in_bucket\"] % 60\n",
    "    df[\"minute\"] = df[\"seconds_in_bucket\"] // 60\n",
    "    for key, value in dict_global_stock_id_feats.items():\n",
    "        df[f\"global_{key}\"] = df[\"stock_id\"].map(value.to_dict())\n",
    "\n",
    "    return df\n",
    "\n",
    "\n",
    "def feat_engineering(df):\n",
    "    # Select relevant columns for feature generation\n",
    "    cols = [c for c in df.columns if c not in [\"row_id\"]]\n",
    "    df = df[cols]\n",
    "\n",
    "    # Generate imbalance features\n",
    "    df = imbalance_features(df)\n",
    "    df = other_features(df)\n",
    "    gc.collect()\n",
    "    list_cols = [i for i in df.columns if i not in [\"row_id\"]]\n",
    "\n",
    "    return df[list_cols]"
   ]
  },
  {
   "cell_type": "code",
   "execution_count": 9,
   "id": "3ed13446",
   "metadata": {
    "execution": {
     "iopub.execute_input": "2023-11-18T05:20:24.455575Z",
     "iopub.status.busy": "2023-11-18T05:20:24.454625Z",
     "iopub.status.idle": "2023-11-18T05:20:24.460706Z",
     "shell.execute_reply": "2023-11-18T05:20:24.459351Z"
    },
    "papermill": {
     "duration": 0.015739,
     "end_time": "2023-11-18T05:20:24.463006",
     "exception": false,
     "start_time": "2023-11-18T05:20:24.447267",
     "status": "completed"
    },
    "tags": []
   },
   "outputs": [],
   "source": [
    "if TRAIN:\n",
    "    df_train_feats = feat_engineering(df_train)\n",
    "    print(\"Build Online Train Feats Finished.\")\n",
    "\n",
    "    df_train_feats = reduce_mem_usage(df_train_feats)"
   ]
  },
  {
   "cell_type": "code",
   "execution_count": 10,
   "id": "731dc78a",
   "metadata": {
    "execution": {
     "iopub.execute_input": "2023-11-18T05:20:24.477254Z",
     "iopub.status.busy": "2023-11-18T05:20:24.476205Z",
     "iopub.status.idle": "2023-11-18T05:20:24.484160Z",
     "shell.execute_reply": "2023-11-18T05:20:24.482829Z"
    },
    "papermill": {
     "duration": 0.017845,
     "end_time": "2023-11-18T05:20:24.486940",
     "exception": false,
     "start_time": "2023-11-18T05:20:24.469095",
     "status": "completed"
    },
    "tags": []
   },
   "outputs": [],
   "source": [
    "if TRAIN:\n",
    "    col_split = \"time_id\"\n",
    "    df_train_feats.sort_values([col_split], inplace=True)\n",
    "\n",
    "    df_train_feats[\"factorized\"] = pd.factorize(df_train_feats[col_split])[0]\n",
    "\n",
    "    df_train_feats.sort_values([\"time_id\", \"stock_id\"], inplace=True)\n",
    "    list_cols_drop = [\"date_id\", \"time_id\"]\n",
    "\n",
    "    df_train_feats.reset_index(drop=True, inplace=True)\n",
    "    df_train_feats.drop(list_cols_drop, axis=1, inplace=True)"
   ]
  },
  {
   "cell_type": "code",
   "execution_count": null,
   "id": "5de0309d",
   "metadata": {
    "papermill": {
     "duration": 0.005907,
     "end_time": "2023-11-18T05:20:24.499120",
     "exception": false,
     "start_time": "2023-11-18T05:20:24.493213",
     "status": "completed"
    },
    "tags": []
   },
   "outputs": [],
   "source": []
  },
  {
   "cell_type": "code",
   "execution_count": 11,
   "id": "dcfad749",
   "metadata": {
    "execution": {
     "iopub.execute_input": "2023-11-18T05:20:24.512453Z",
     "iopub.status.busy": "2023-11-18T05:20:24.512092Z",
     "iopub.status.idle": "2023-11-18T05:20:24.520170Z",
     "shell.execute_reply": "2023-11-18T05:20:24.518961Z"
    },
    "papermill": {
     "duration": 0.017563,
     "end_time": "2023-11-18T05:20:24.522734",
     "exception": false,
     "start_time": "2023-11-18T05:20:24.505171",
     "status": "completed"
    },
    "tags": []
   },
   "outputs": [],
   "source": [
    "if TRAIN:\n",
    "    experiment_name = f\"{EXPERIMENT_PURPOSE}_v{VERSION_NB}\"\n",
    "    name_folder_models = f\"models_v{VERSION_NB}\"\n",
    "\n",
    "    experiment_date_str = datetime.now().strftime(\"%y_%m_%d_%H%M\")\n",
    "\n",
    "    if DEBUG:\n",
    "        experiment_name = f\"{experiment_name}_debug\"\n",
    "        name_folder_models = f\"{name_folder_models}_debug\"\n",
    "        path_artifact_location = \".\"\n",
    "    else:\n",
    "        path_artifact_location = pm.path_artifact_location\n",
    "\n",
    "    experiment_id = get_or_create_experiment(\n",
    "        client, experiment_name, artifact_location=path_artifact_location\n",
    "    )\n",
    "\n",
    "    nbrnd_erly_stp = 130\n",
    "    cv_mthd = \"KF\"\n",
    "\n",
    "    mlflow_callback = MLflowCallback(\n",
    "        tracking_uri=mlflow.get_tracking_uri(), metric_name=\"mae\"\n",
    "    )\n",
    "\n",
    "    all_cv = {\"KF\": KFold(n_splits=5, shuffle=True, random_state=STATE)}\n",
    "    cv = all_cv[cv_mthd]\n",
    "\n",
    "    dict_models = {\"LGBMR\": LGBMR}\n",
    "\n",
    "    log_model = True\n",
    "\n",
    "    args = {\n",
    "        \"cv_mthd\": cv_mthd,\n",
    "        \"experiment_purpose\": EXPERIMENT_PURPOSE,\n",
    "        \"experiment_name\": experiment_name,\n",
    "        \"dict_models\": dict_models,\n",
    "        \"model_params_dict\": model_params_dict,\n",
    "        \"n_splits\": N_SPLITS,\n",
    "        \"n_test_splits\": N_TEST_SPLITS,\n",
    "        \"n_purge\": N_PURGE,\n",
    "        \"n_embargo\": N_EMBARGO,\n",
    "        \"experiment_date_str\": experiment_date_str,\n",
    "        \"path_artifact_location\": pm.path_artifact_location,\n",
    "        \"target_col\": \"target\",\n",
    "    }"
   ]
  },
  {
   "cell_type": "code",
   "execution_count": null,
   "id": "7760076b",
   "metadata": {
    "papermill": {
     "duration": 0.006116,
     "end_time": "2023-11-18T05:20:24.535900",
     "exception": false,
     "start_time": "2023-11-18T05:20:24.529784",
     "status": "completed"
    },
    "tags": []
   },
   "outputs": [],
   "source": []
  },
  {
   "cell_type": "code",
   "execution_count": null,
   "id": "9cf393cf",
   "metadata": {
    "papermill": {
     "duration": 0.006018,
     "end_time": "2023-11-18T05:20:24.547903",
     "exception": false,
     "start_time": "2023-11-18T05:20:24.541885",
     "status": "completed"
    },
    "tags": []
   },
   "outputs": [],
   "source": []
  },
  {
   "cell_type": "code",
   "execution_count": 12,
   "id": "284679f2",
   "metadata": {
    "execution": {
     "iopub.execute_input": "2023-11-18T05:20:24.563039Z",
     "iopub.status.busy": "2023-11-18T05:20:24.562666Z",
     "iopub.status.idle": "2023-11-18T05:20:24.582619Z",
     "shell.execute_reply": "2023-11-18T05:20:24.581016Z"
    },
    "papermill": {
     "duration": 0.02999,
     "end_time": "2023-11-18T05:20:24.584705",
     "exception": false,
     "start_time": "2023-11-18T05:20:24.554715",
     "status": "completed"
    },
    "tags": []
   },
   "outputs": [],
   "source": [
    "def run_mlflow_experiment(df_train, args, trial=None):\n",
    "    cv_mthd = args[\"cv_mthd\"]\n",
    "    experiment_purpose = args[\"experiment_purpose\"]\n",
    "    experiment_name = args[\"experiment_name\"]\n",
    "    dict_models = args[\"dict_models\"]\n",
    "    model_params_dict = args[\"model_params_dict\"]\n",
    "\n",
    "    n_splits = args[\"n_splits\"]\n",
    "    n_test_splits = args[\"n_test_splits\"]\n",
    "    n_purge = args[\"n_purge\"]\n",
    "    n_embargo = args[\"n_embargo\"]\n",
    "\n",
    "    experiment_date_str = args[\"experiment_date_str\"]\n",
    "    path_artifact_location = args[\"path_artifact_location\"]\n",
    "    target_col = args[\"target_col\"]\n",
    "\n",
    "    if trial == None:\n",
    "        trial = optuna.trial.FixedTrial(\n",
    "            {\n",
    "                \"n_estimators\": 500,\n",
    "                \"learning_rate\": 0.005,\n",
    "                \"max_depth\": 10,\n",
    "                \"num_leaves\": 20,\n",
    "                \"min_child_samples\": 10,\n",
    "                \"subsample\": 0.7,\n",
    "                \"colsample_bytree\": 1.0,\n",
    "                \"min_split_gain\": 0.0,\n",
    "                \"reg_alpha\": 0.0,\n",
    "                \"reg_lambda\": 0.0,\n",
    "                \"device\": \"gpu\" if GPU_SWITCH == \"ON\" else \"cpu\",\n",
    "            }\n",
    "        )\n",
    "\n",
    "    run_time_start_trial = datetime.now().strftime(\"%y_%m_%d_%H%M%S\")\n",
    "\n",
    "    with mlflow.start_run(\n",
    "        run_name=run_time_start_trial, experiment_id=experiment_id\n",
    "    ) as run:\n",
    "        score_list = []\n",
    "\n",
    "        # mlflow.set_tag(\"cv_mthd\", cv_mthd)\n",
    "        mlflow.set_tag(\"n_splits\", n_splits)\n",
    "        mlflow.set_tag(\"n_test_splits\", n_test_splits)\n",
    "        mlflow.set_tag(\"n_purge\", n_purge)\n",
    "        mlflow.set_tag(\"n_embargo\", n_embargo)\n",
    "\n",
    "        for model_name, model_class in dict_models.items():\n",
    "            if TUNING:\n",
    "                model = create_model(\n",
    "                    trial,\n",
    "                    model_class,\n",
    "                    model_params_dict[model_name][\"static_params\"],\n",
    "                    model_params_dict[model_name][\"dynamic_params\"],\n",
    "                )\n",
    "            else:\n",
    "                params = model_prod.get_params()\n",
    "                params[\"device\"] = \"gpu\"\n",
    "\n",
    "                model = model_class(**params)\n",
    "\n",
    "            priority_params = [\"learning_rate\", \"max_depth\"]\n",
    "            excluded_params = [\n",
    "                \"device\",\n",
    "                \"class_weight\",\n",
    "                \"random_state\",\n",
    "                \"silent\",\n",
    "                \"verbose\",\n",
    "                \"n_jobs\",\n",
    "            ]\n",
    "\n",
    "            ordered_params = log_model_parameters(\n",
    "                model, priority_params, excluded_params, verbose=True\n",
    "            )\n",
    "\n",
    "            mlflow.log_params(ordered_params)\n",
    "\n",
    "            for fold_n, (train_indices, test_indices) in enumerate(\n",
    "                time_series_split(\n",
    "                    df_train,\n",
    "                    n_splits=n_splits,\n",
    "                    n_test_splits=n_test_splits,\n",
    "                    n_purge=n_purge,\n",
    "                    n_embargo=n_embargo,\n",
    "                )\n",
    "            ):\n",
    "                # if fold_n == 0:\n",
    "                with mlflow.start_run(\n",
    "                    run_name=f\"fold_{fold_n+1}\",\n",
    "                    nested=True,\n",
    "                    experiment_id=experiment_id,\n",
    "                ) as nested_run:\n",
    "                    mlflow.set_tag(\"n_trial\", str(trial.number))\n",
    "\n",
    "                    mask_train = df_train[\"factorized\"].isin(train_indices)\n",
    "                    mask_test = df_train[\"factorized\"].isin(test_indices)\n",
    "\n",
    "                    y_train = df_train.loc[mask_train, target_col]\n",
    "                    y_val = df_train.loc[mask_test, target_col]\n",
    "                    X_train = df_train.loc[mask_train].drop(\n",
    "                        [target_col, \"factorized\"], axis=1\n",
    "                    )\n",
    "                    X_val = df_train.loc[mask_test].drop(\n",
    "                        [target_col, \"factorized\"], axis=1\n",
    "                    )\n",
    "\n",
    "                    mlflow.log_param(\"train_rows\", X_train.shape[0])\n",
    "                    mlflow.log_param(\"train_cols\", X_train.shape[1])\n",
    "\n",
    "                    model.fit(\n",
    "                        X_train,\n",
    "                        y_train,\n",
    "                        eval_set=[(X_val, y_val)],\n",
    "                        eval_metric=\"mae\",\n",
    "                        callbacks=[\n",
    "                            lgbm.callback.early_stopping(stopping_rounds=100),\n",
    "                            lgbm.callback.log_evaluation(period=100000),\n",
    "                        ],\n",
    "                    )\n",
    "\n",
    "                    log_feature_importance(\n",
    "                        trial.number,\n",
    "                        model,\n",
    "                        X_train,\n",
    "                        fold_n,\n",
    "                        experiment_purpose,\n",
    "                        experiment_date_str,\n",
    "                    )\n",
    "\n",
    "                    fold_score = model.best_score_[\"valid_0\"][\"l1\"]\n",
    "\n",
    "                    score_list.append(fold_score)\n",
    "\n",
    "                    mlflow.log_metric(\"fold_score\", round(fold_score, 6))\n",
    "                    mlflow.log_param(\"fold_number\", fold_n + 1)\n",
    "                    mlflow.log_param(\"model_name\", model_name)\n",
    "\n",
    "                    mlflow.log_params(ordered_params)\n",
    "\n",
    "                    current_time_str = datetime.now().strftime(\"%Y%m%d_%H%M%S\")\n",
    "                    model_log_name = f\"{model_name}_{trial.number}_{current_time_str}\"\n",
    "\n",
    "                    mlflow.sklearn.log_model(model, model_log_name)\n",
    "\n",
    "                    mlflow.log_param(\"run_time\", current_time_str)\n",
    "\n",
    "                    nested_run_id = nested_run.info.run_id\n",
    "                    model_path = f\"{path_artifact_location}/{run.info.experiment_id}/{nested_run_id}/artifacts/{model_log_name}/model.pkl\"\n",
    "                    mlflow.log_param(\"model_path\", model_path)\n",
    "\n",
    "                avg_score = sum(score_list) / len(score_list)\n",
    "                median_score = np.median(score_list)\n",
    "                mlflow.log_metric(\"avg score\", round(avg_score, 6))\n",
    "                mlflow.log_metric(\"median score\", round(median_score, 6))\n",
    "\n",
    "                if fold_n >= N_FOLD_BREAK:\n",
    "                    break\n",
    "\n",
    "        return avg_score\n",
    "\n",
    "\n",
    "def objective(trial, df_train):\n",
    "    avg_score = run_mlflow_experiment(df_train, args, trial)\n",
    "    return avg_score\n",
    "\n",
    "\n",
    "# Run the Optuna study\n",
    "if TRAIN:\n",
    "    study = optuna.create_study(\n",
    "        direction=\"minimize\",\n",
    "        study_name=\"Your Study Name\",\n",
    "        load_if_exists=True,\n",
    "    )\n",
    "    study.optimize(lambda trial: objective(trial, df_train_feats), n_trials=N_TRIALS)"
   ]
  },
  {
   "cell_type": "code",
   "execution_count": 13,
   "id": "66f6a092",
   "metadata": {
    "_cell_guid": "51030a77-aba3-469f-9c08-7963bc8a09d2",
    "_uuid": "6ff7d358-62f0-4ac9-b028-d1c920bb4eaf",
    "collapsed": false,
    "execution": {
     "iopub.execute_input": "2023-11-18T05:20:24.598313Z",
     "iopub.status.busy": "2023-11-18T05:20:24.597947Z",
     "iopub.status.idle": "2023-11-18T05:20:24.605322Z",
     "shell.execute_reply": "2023-11-18T05:20:24.604162Z"
    },
    "jupyter": {
     "outputs_hidden": false
    },
    "papermill": {
     "duration": 0.016271,
     "end_time": "2023-11-18T05:20:24.607205",
     "exception": false,
     "start_time": "2023-11-18T05:20:24.590934",
     "status": "completed"
    },
    "tags": []
   },
   "outputs": [],
   "source": [
    "if TRAIN:\n",
    "    df_exp = experiments_data(\n",
    "        client, list_experiment_id=None, save_df=None, list_columns=None\n",
    "    )\n",
    "    list_base_cols = [\n",
    "        \"run_time\",\n",
    "        \"experiment_id\",\n",
    "        \"n_trial\",\n",
    "        \"run_id\",\n",
    "        \"model_name\",\n",
    "        \"fold_number\",\n",
    "        \"fold_score\",\n",
    "    ]\n",
    "    list_dynamic_params = list(model_params_dict[\"LGBMR\"][\"dynamic_params\"].keys())\n",
    "\n",
    "    df_exp[\"run_time\"] = pd.to_datetime(\n",
    "        df_exp[\"run_time\"], format=\"%Y%m%d_%H%M%S\", errors=\"coerce\"\n",
    "    )\n",
    "\n",
    "    for col in df_exp.columns:\n",
    "        df_exp[col] = pd.to_numeric(df_exp[col], errors=\"ignore\")\n",
    "\n",
    "    for col in df_exp.select_dtypes(include=[\"float\", \"int\"]):\n",
    "        df_exp[col] = df_exp[col].round(5)\n",
    "\n",
    "    list_cols_exp = [\"run_time\"] + list_base_cols + list_dynamic_params + [\"model_path\"]\n",
    "\n",
    "    experiment_id\n",
    "    df_exp = df_exp[df_exp[\"experiment_id\"] != 0]\n",
    "\n",
    "    df_exp = df_exp[list_cols_exp]"
   ]
  },
  {
   "cell_type": "code",
   "execution_count": null,
   "id": "195e1665",
   "metadata": {
    "papermill": {
     "duration": 0.006141,
     "end_time": "2023-11-18T05:20:24.620107",
     "exception": false,
     "start_time": "2023-11-18T05:20:24.613966",
     "status": "completed"
    },
    "tags": []
   },
   "outputs": [],
   "source": []
  },
  {
   "cell_type": "code",
   "execution_count": null,
   "id": "ca960b08",
   "metadata": {
    "papermill": {
     "duration": 0.005864,
     "end_time": "2023-11-18T05:20:24.632065",
     "exception": false,
     "start_time": "2023-11-18T05:20:24.626201",
     "status": "completed"
    },
    "tags": []
   },
   "outputs": [],
   "source": []
  },
  {
   "cell_type": "code",
   "execution_count": null,
   "id": "378e4a4f",
   "metadata": {
    "papermill": {
     "duration": 0.005995,
     "end_time": "2023-11-18T05:20:24.644300",
     "exception": false,
     "start_time": "2023-11-18T05:20:24.638305",
     "status": "completed"
    },
    "tags": []
   },
   "outputs": [],
   "source": []
  },
  {
   "cell_type": "code",
   "execution_count": 14,
   "id": "5a1ae550",
   "metadata": {
    "_cell_guid": "d4bfb979-2758-4fe9-8947-399b1c3a574c",
    "_uuid": "bef1a199-0988-4743-813e-99d4308fc9bb",
    "collapsed": false,
    "execution": {
     "iopub.execute_input": "2023-11-18T05:20:24.657930Z",
     "iopub.status.busy": "2023-11-18T05:20:24.657549Z",
     "iopub.status.idle": "2023-11-18T05:20:24.685904Z",
     "shell.execute_reply": "2023-11-18T05:20:24.684273Z"
    },
    "jupyter": {
     "outputs_hidden": false
    },
    "papermill": {
     "duration": 0.038052,
     "end_time": "2023-11-18T05:20:24.688280",
     "exception": false,
     "start_time": "2023-11-18T05:20:24.650228",
     "status": "completed"
    },
    "tags": []
   },
   "outputs": [],
   "source": [
    "import optiver2023\n",
    "\n",
    "env = optiver2023.make_env()\n",
    "iter_test = env.iter_test()"
   ]
  },
  {
   "cell_type": "code",
   "execution_count": 15,
   "id": "15a62635",
   "metadata": {
    "execution": {
     "iopub.execute_input": "2023-11-18T05:20:24.703136Z",
     "iopub.status.busy": "2023-11-18T05:20:24.702796Z",
     "iopub.status.idle": "2023-11-18T05:20:37.896234Z",
     "shell.execute_reply": "2023-11-18T05:20:37.894901Z"
    },
    "papermill": {
     "duration": 13.20407,
     "end_time": "2023-11-18T05:20:37.899255",
     "exception": false,
     "start_time": "2023-11-18T05:20:24.695185",
     "status": "completed"
    },
    "tags": []
   },
   "outputs": [],
   "source": [
    "df_train = pd.read_csv(\"/kaggle/input/optiver-trading-at-the-close/train.csv\")"
   ]
  },
  {
   "cell_type": "code",
   "execution_count": null,
   "id": "31743766",
   "metadata": {
    "papermill": {
     "duration": 0.006189,
     "end_time": "2023-11-18T05:20:37.912175",
     "exception": false,
     "start_time": "2023-11-18T05:20:37.905986",
     "status": "completed"
    },
    "tags": []
   },
   "outputs": [],
   "source": []
  },
  {
   "cell_type": "code",
   "execution_count": 16,
   "id": "b2673840",
   "metadata": {
    "execution": {
     "iopub.execute_input": "2023-11-18T05:20:37.926825Z",
     "iopub.status.busy": "2023-11-18T05:20:37.926361Z",
     "iopub.status.idle": "2023-11-18T05:20:39.248514Z",
     "shell.execute_reply": "2023-11-18T05:20:39.247288Z"
    },
    "papermill": {
     "duration": 1.332639,
     "end_time": "2023-11-18T05:20:39.251312",
     "exception": false,
     "start_time": "2023-11-18T05:20:37.918673",
     "status": "completed"
    },
    "tags": []
   },
   "outputs": [],
   "source": [
    "dict_global_stock_id_feats = global_stock_id_feats(df_train)"
   ]
  },
  {
   "cell_type": "code",
   "execution_count": 17,
   "id": "657abef5",
   "metadata": {
    "_cell_guid": "d30f3862-dca2-4242-9db0-ab9750118622",
    "_uuid": "efd9073c-aaef-4135-bf7c-1e892e9aa831",
    "collapsed": false,
    "execution": {
     "iopub.execute_input": "2023-11-18T05:20:39.265415Z",
     "iopub.status.busy": "2023-11-18T05:20:39.265071Z",
     "iopub.status.idle": "2023-11-18T05:21:35.944432Z",
     "shell.execute_reply": "2023-11-18T05:21:35.943236Z"
    },
    "jupyter": {
     "outputs_hidden": false
    },
    "papermill": {
     "duration": 56.689428,
     "end_time": "2023-11-18T05:21:35.947169",
     "exception": false,
     "start_time": "2023-11-18T05:20:39.257741",
     "status": "completed"
    },
    "tags": []
   },
   "outputs": [
    {
     "name": "stdout",
     "output_type": "stream",
     "text": [
      "This version of the API is not optimized and should not be used to estimate the runtime of your code on the hidden test set.\n"
     ]
    }
   ],
   "source": [
    "counter = 0\n",
    "df_tot_test = []\n",
    "for test, revealed_targets, sample_prediction in iter_test:\n",
    "    test[\"time_id\"] = counter\n",
    "    test[\"target\"] = \"none\"\n",
    "\n",
    "    if counter < 12:\n",
    "        df_tot_test.append(test)\n",
    "    else:\n",
    "        df_tot_test = df_tot_test[1:]\n",
    "        df_tot_test.append(test)\n",
    "\n",
    "    df_test = pd.concat(df_tot_test, axis=0, ignore_index=True)\n",
    "\n",
    "    feat = feat_engineering(df_test)\n",
    "    feat = feat.sort_values([\"date_id\", \"seconds_in_bucket\", \"stock_id\"])[-len(test) :]\n",
    "\n",
    "    list_cols_drop = [\"date_id\"]\n",
    "    feat.drop(list_cols_drop, axis=1, inplace=True)\n",
    "\n",
    "    list_features = model_prod.models[0].feature_name_\n",
    "    feat = feat[list_features]\n",
    "    sample_prediction[\"target\"] = model_prod.predict(feat, \"mean\")\n",
    "    env.predict(sample_prediction)\n",
    "    counter += 1"
   ]
  },
  {
   "cell_type": "code",
   "execution_count": null,
   "id": "75d25799",
   "metadata": {
    "papermill": {
     "duration": 0.005884,
     "end_time": "2023-11-18T05:21:35.959666",
     "exception": false,
     "start_time": "2023-11-18T05:21:35.953782",
     "status": "completed"
    },
    "tags": []
   },
   "outputs": [],
   "source": []
  },
  {
   "cell_type": "code",
   "execution_count": 18,
   "id": "380c9b86",
   "metadata": {
    "execution": {
     "iopub.execute_input": "2023-11-18T05:21:35.973724Z",
     "iopub.status.busy": "2023-11-18T05:21:35.973399Z",
     "iopub.status.idle": "2023-11-18T05:21:35.978796Z",
     "shell.execute_reply": "2023-11-18T05:21:35.977434Z"
    },
    "papermill": {
     "duration": 0.014743,
     "end_time": "2023-11-18T05:21:35.980707",
     "exception": false,
     "start_time": "2023-11-18T05:21:35.965964",
     "status": "completed"
    },
    "tags": []
   },
   "outputs": [],
   "source": [
    "# clean_directory_except_one('/kaggle/working/','submission.csv')"
   ]
  }
 ],
 "metadata": {
  "kaggle": {
   "accelerator": "none",
   "dataSources": [
    {
     "databundleVersionId": 7056235,
     "sourceId": 57891,
     "sourceType": "competition"
    },
    {
     "datasetId": 4019630,
     "sourceId": 6993423,
     "sourceType": "datasetVersion"
    },
    {
     "sourceId": 150406473,
     "sourceType": "kernelVersion"
    },
    {
     "sourceId": 150406565,
     "sourceType": "kernelVersion"
    },
    {
     "sourceId": 150406696,
     "sourceType": "kernelVersion"
    },
    {
     "sourceId": 150407056,
     "sourceType": "kernelVersion"
    },
    {
     "sourceId": 150412552,
     "sourceType": "kernelVersion"
    },
    {
     "sourceId": 150429530,
     "sourceType": "kernelVersion"
    },
    {
     "sourceId": 151165317,
     "sourceType": "kernelVersion"
    },
    {
     "sourceId": 151165495,
     "sourceType": "kernelVersion"
    }
   ],
   "isGpuEnabled": false,
   "isInternetEnabled": false,
   "language": "python",
   "sourceType": "notebook"
  },
  "kernelspec": {
   "display_name": "Python 3",
   "language": "python",
   "name": "python3"
  },
  "language_info": {
   "codemirror_mode": {
    "name": "ipython",
    "version": 3
   },
   "file_extension": ".py",
   "mimetype": "text/x-python",
   "name": "python",
   "nbconvert_exporter": "python",
   "pygments_lexer": "ipython3",
   "version": "3.10.12"
  },
  "papermill": {
   "default_parameters": {},
   "duration": 81.034991,
   "end_time": "2023-11-18T05:21:37.008445",
   "environment_variables": {},
   "exception": null,
   "input_path": "__notebook__.ipynb",
   "output_path": "__notebook__.ipynb",
   "parameters": {},
   "start_time": "2023-11-18T05:20:15.973454",
   "version": "2.4.0"
  }
 },
 "nbformat": 4,
 "nbformat_minor": 5
}
