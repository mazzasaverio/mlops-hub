{
 "cells": [
  {
   "cell_type": "code",
   "execution_count": 1,
   "id": "0d80bbae",
   "metadata": {
    "execution": {
     "iopub.execute_input": "2023-11-18T06:21:38.591251Z",
     "iopub.status.busy": "2023-11-18T06:21:38.590785Z",
     "iopub.status.idle": "2023-11-18T06:21:38.611712Z",
     "shell.execute_reply": "2023-11-18T06:21:38.610372Z"
    },
    "papermill": {
     "duration": 0.037115,
     "end_time": "2023-11-18T06:21:38.614768",
     "exception": false,
     "start_time": "2023-11-18T06:21:38.577653",
     "status": "completed"
    },
    "tags": []
   },
   "outputs": [],
   "source": [
    "# Constants and Configuration Variables\n",
    "DEBUG = False\n",
    "TRAIN = False\n",
    "TUNING = True\n",
    "OVERWRITE_PROCESSED_DATA = True\n",
    "N_TRIALS = 1\n",
    "STATE = 42\n",
    "N_FOLD_BREAK = 8\n",
    "\n",
    "GPU_SWITCH = \"ON\"\n",
    "N_SPLITS = 5\n",
    "N_TEST_SPLITS = 1\n",
    "N_PURGE = 11\n",
    "N_EMBARGO = 11\n",
    "\n",
    "\n",
    "VERSION_NB = 14\n",
    "EXPERIMENT_PURPOSE = \"optiver_trading_at_the_close\"\n",
    "\n",
    "model_params_dict = {\n",
    "    \"LGBMR\": {\n",
    "        \"static_params\": {\n",
    "            \"device\": \"gpu\" if GPU_SWITCH == \"ON\" else \"cpu\",\n",
    "            \"objective\": \"mae\",\n",
    "            \"boosting_type\": \"gbdt\",\n",
    "            \"random_state\": STATE,\n",
    "            \"n_jobs\": 4,\n",
    "            \"verbose\": -1,\n",
    "            \"importance_type\": \"gain\",\n",
    "        },\n",
    "        \"dynamic_params\": {\n",
    "            \"n_estimators\": {\n",
    "                \"type\": \"int\",\n",
    "                \"low\": 500,\n",
    "                \"high\": 500,\n",
    "            },\n",
    "            \"learning_rate\": {\n",
    "                \"type\": \"float\",\n",
    "                \"low\": 0.0114,\n",
    "                \"high\": 0.0114,\n",
    "            },\n",
    "            \"max_depth\": {\"type\": \"int\", \"low\": 13, \"high\": 13},\n",
    "            \"num_leaves\": {\n",
    "                \"type\": \"int\",\n",
    "                \"low\": 230,\n",
    "                \"high\": 230,\n",
    "            },\n",
    "            \"min_child_samples\": {\n",
    "                \"type\": \"int\",\n",
    "                \"low\": 20,\n",
    "                \"high\": 20,\n",
    "            },\n",
    "            \"subsample\": {\n",
    "                \"type\": \"float\",\n",
    "                \"low\": 1,\n",
    "                \"high\": 1,\n",
    "            },\n",
    "            \"colsample_bytree\": {\n",
    "                \"type\": \"float\",\n",
    "                \"low\": 1,\n",
    "                \"high\": 1,\n",
    "            },\n",
    "        },\n",
    "    },\n",
    "}\n",
    "\n",
    "# RECORD ENSAMBLE MODEL\n",
    "model_paths = [\n",
    "    \"s3://mlflow-v1/kaggle_optiver_trading_at_the_close/15d253a7751b414fbc8ec5a78c81e24c/artifacts/LGBMR_0_20231118_044309/model.pkl\",\n",
    "    \"s3://mlflow-v1/kaggle_optiver_trading_at_the_close/8a881129db7c45e9bd92094cd1097297/artifacts/LGBMR_0_20231118_044743/model.pkl\",\n",
    "    \"s3://mlflow-v1/kaggle_optiver_trading_at_the_close/9e402e7a59be460897bf7cee58fc85c5/artifacts/LGBMR_0_20231118_045214/model.pkl\",\n",
    "    \"s3://mlflow-v1/kaggle_optiver_trading_at_the_close/1ffb209c2fe2420db01bb4df17d86f1d/artifacts/LGBMR_0_20231118_045642/model.pkl\",\n",
    "    \"s3://mlflow-v1/kaggle_optiver_trading_at_the_close/562d3c3b41c74c9a90e080b88eb5af3a/artifacts/LGBMR_0_20231118_050108/model.pkl\",\n",
    "]\n",
    "\n",
    "# Define the model name for registration in MLflow\n",
    "\n",
    "version = 9\n",
    "model_name = f\"ensemble_model ({version})\"\n",
    "folder_model = f\"models-v{version}\""
   ]
  },
  {
   "cell_type": "code",
   "execution_count": null,
   "id": "59c92fde",
   "metadata": {
    "papermill": {
     "duration": 0.010731,
     "end_time": "2023-11-18T06:21:38.636354",
     "exception": false,
     "start_time": "2023-11-18T06:21:38.625623",
     "status": "completed"
    },
    "tags": []
   },
   "outputs": [],
   "source": []
  },
  {
   "cell_type": "code",
   "execution_count": 2,
   "id": "6418c0ec",
   "metadata": {
    "execution": {
     "iopub.execute_input": "2023-11-18T06:21:38.660446Z",
     "iopub.status.busy": "2023-11-18T06:21:38.660030Z",
     "iopub.status.idle": "2023-11-18T06:21:41.139010Z",
     "shell.execute_reply": "2023-11-18T06:21:41.137662Z"
    },
    "papermill": {
     "duration": 2.494742,
     "end_time": "2023-11-18T06:21:41.141940",
     "exception": false,
     "start_time": "2023-11-18T06:21:38.647198",
     "status": "completed"
    },
    "tags": []
   },
   "outputs": [],
   "source": [
    "# External general-purpose modules\n",
    "import gc\n",
    "import sys\n",
    "import os\n",
    "import itertools as itt\n",
    "from itertools import combinations, product\n",
    "from datetime import datetime\n",
    "import numpy as np\n",
    "import pandas as pd\n",
    "import polars as pl\n",
    "import joblib\n",
    "\n",
    "from pathlib import Path\n",
    "import warnings\n",
    "from numba import njit, prange\n",
    "import boto3\n",
    "from botocore.exceptions import NoCredentialsError\n",
    "from dotenv import load_dotenv\n",
    "\n",
    "\n",
    "# Setting pandas options and warning filters\n",
    "pd.set_option(\"display.max_columns\", None)\n",
    "warnings.filterwarnings(\"ignore\")\n",
    "warnings.simplefilter(action=\"ignore\", category=pd.errors.PerformanceWarning)\n",
    "\n",
    "# Load environment variables\n",
    "load_dotenv()\n",
    "path_root_project = Path.cwd()\n",
    "if path_root_project.name not in [\"working\", \"content\"]:\n",
    "    path_root_project = Path(os.getenv(\"ROOT_PATH\") or path_root_project)\n",
    "\n",
    "    directories_to_add = [\"utils\", \"feat_engineering\", \"validation\"]\n",
    "    for directory in directories_to_add:\n",
    "        sys.path.append(str(path_root_project / \"src\" / directory))\n",
    "\n",
    "\n",
    "from utils_training import create_model, experiments_data\n",
    "from utils_data import load_config, load_dataset, reduce_mem_usage, PathManager\n",
    "from utils_kaggle import (\n",
    "    setup_kaggle,\n",
    "    download_data,\n",
    "    get_data,\n",
    "    clean_directory_except_one,\n",
    ")\n",
    "\n",
    "from fe_optiver_trading_at_the_close import (\n",
    "    calculate_triplet_imbalance_numba,\n",
    "    convert_weights_to_dict,\n",
    "    global_stock_id_feats,\n",
    "    compute_rolling_averages,\n",
    "    generate_rsi,\n",
    ")\n",
    "\n",
    "pm = PathManager(path_root_project)\n",
    "\n",
    "if TRAIN:\n",
    "    if pm.path_root_project.name == \"working\":\n",
    "        from kaggle_secrets import UserSecretsClient\n",
    "\n",
    "        user_secrets = UserSecretsClient()\n",
    "        aws_access_key_id = user_secrets.get_secret(\"AWS_ACCESS_KEY_ID\")\n",
    "        aws_region = user_secrets.get_secret(\"AWS_DEFAULT_REGION\")\n",
    "        aws_secret_access_key = user_secrets.get_secret(\"AWS_SECRET_ACCESS_KEY\")\n",
    "        s3_bucket_name = user_secrets.get_secret(\"S3_BUCKET\")\n",
    "\n",
    "        # Set AWS credentials in the environment variables\n",
    "        os.environ[\"AWS_ACCESS_KEY_ID\"] = aws_access_key_id\n",
    "        os.environ[\"AWS_SECRET_ACCESS_KEY\"] = aws_secret_access_key\n",
    "        os.environ[\"AWS_DEFAULT_REGION\"] = aws_region\n",
    "    else:\n",
    "        aws_access_key_id = os.getenv(\"AWS_ACCESS_KEY_ID\")\n",
    "        aws_secret_access_key = os.getenv(\"AWS_SECRET_ACCESS_KEY\")"
   ]
  },
  {
   "cell_type": "code",
   "execution_count": 3,
   "id": "33c2796b",
   "metadata": {
    "execution": {
     "iopub.execute_input": "2023-11-18T06:21:41.164339Z",
     "iopub.status.busy": "2023-11-18T06:21:41.163797Z",
     "iopub.status.idle": "2023-11-18T06:21:44.682045Z",
     "shell.execute_reply": "2023-11-18T06:21:44.681130Z"
    },
    "papermill": {
     "duration": 3.532818,
     "end_time": "2023-11-18T06:21:44.685039",
     "exception": false,
     "start_time": "2023-11-18T06:21:41.152221",
     "status": "completed"
    },
    "tags": []
   },
   "outputs": [],
   "source": [
    "model_prod = joblib.load(f'/kaggle/input/{folder_model}/{model_name}.pkl')"
   ]
  },
  {
   "cell_type": "code",
   "execution_count": null,
   "id": "a0172b16",
   "metadata": {
    "papermill": {
     "duration": 0.009946,
     "end_time": "2023-11-18T06:21:44.705380",
     "exception": false,
     "start_time": "2023-11-18T06:21:44.695434",
     "status": "completed"
    },
    "tags": []
   },
   "outputs": [],
   "source": []
  },
  {
   "cell_type": "code",
   "execution_count": 4,
   "id": "2ede6031",
   "metadata": {
    "execution": {
     "iopub.execute_input": "2023-11-18T06:21:44.727629Z",
     "iopub.status.busy": "2023-11-18T06:21:44.726998Z",
     "iopub.status.idle": "2023-11-18T06:21:44.746472Z",
     "shell.execute_reply": "2023-11-18T06:21:44.745543Z"
    },
    "papermill": {
     "duration": 0.034103,
     "end_time": "2023-11-18T06:21:44.749324",
     "exception": false,
     "start_time": "2023-11-18T06:21:44.715221",
     "status": "completed"
    },
    "tags": []
   },
   "outputs": [],
   "source": [
    "\n",
    "\n",
    "# Conditional imports and settings based on TRAIN constant\n",
    "if TRAIN:\n",
    "    if pm.path_root_project.name == \"working\":\n",
    "        !pip install loguru mlflow optuna > /dev/null\n",
    "\n",
    "    \n",
    "\n",
    "    from utils_mlflow import (\n",
    "        get_experiments_df,\n",
    "        delete_runs_and_artifacts,\n",
    "        download_and_load_model,\n",
    "        load_models_and_create_ensemble,\n",
    "        save_and_register_model,\n",
    "        log_model_parameters,\n",
    "        get_or_create_experiment,\n",
    "        experiments_data,\n",
    "    )\n",
    "    from utils_feat_importance import log_feature_importance, aggregate_feature_importance\n",
    "    from model_validation import time_series_split\n",
    "\n",
    "    # External Libraries\n",
    "    import boto3\n",
    "    from botocore.exceptions import NoCredentialsError\n",
    "    from mlflow.exceptions import MlflowException\n",
    "    import lightgbm as lgbm\n",
    "    import mlflow\n",
    "    import optuna\n",
    "    from mlflow.tracking import MlflowClient\n",
    "    from optuna.integration.mlflow import MLflowCallback\n",
    "    from sklearn.model_selection import KFold\n",
    "    from xgboost import XGBRegressor as XGBR\n",
    "    from lightgbm import log_evaluation, early_stopping, LGBMRegressor as LGBMR\n",
    "\n",
    "\n",
    "\n",
    "    # Auto-reload modules - Specific to Jupyter Notebooks\n",
    "    %load_ext autoreload\n",
    "    %autoreload 2\n",
    "    if not DEBUG:\n",
    "        mlflow.set_tracking_uri(pm.path_experiments_dir)\n",
    "        \n",
    "    client = MlflowClient()\n",
    "    \n",
    "    # Create an S3 client\n",
    "    s3 = boto3.client(\n",
    "        \"s3\",\n",
    "        aws_access_key_id=aws_access_key_id,\n",
    "        aws_secret_access_key=aws_secret_access_key,\n",
    "    )"
   ]
  },
  {
   "cell_type": "code",
   "execution_count": 5,
   "id": "64c7eedd",
   "metadata": {
    "execution": {
     "iopub.execute_input": "2023-11-18T06:21:44.772908Z",
     "iopub.status.busy": "2023-11-18T06:21:44.772317Z",
     "iopub.status.idle": "2023-11-18T06:21:44.777669Z",
     "shell.execute_reply": "2023-11-18T06:21:44.776652Z"
    },
    "papermill": {
     "duration": 0.020579,
     "end_time": "2023-11-18T06:21:44.780552",
     "exception": false,
     "start_time": "2023-11-18T06:21:44.759973",
     "status": "completed"
    },
    "tags": []
   },
   "outputs": [],
   "source": [
    "if TRAIN:\n",
    "     s3 = boto3.client(\n",
    "         \"s3\",\n",
    "         aws_access_key_id=aws_access_key_id,\n",
    "         aws_secret_access_key=aws_secret_access_key,\n",
    "     )\n",
    "     # Load the models and create an ensemble\n",
    "     ensemble_model = load_models_and_create_ensemble(s3, model_paths)\n",
    "\n",
    "     # Save and register the ensemble model in MLflow\n",
    "     save_and_register_model(ensemble_model, model_name)"
   ]
  },
  {
   "cell_type": "code",
   "execution_count": null,
   "id": "986c9ae1",
   "metadata": {
    "papermill": {
     "duration": 0.009911,
     "end_time": "2023-11-18T06:21:44.800969",
     "exception": false,
     "start_time": "2023-11-18T06:21:44.791058",
     "status": "completed"
    },
    "tags": []
   },
   "outputs": [],
   "source": []
  },
  {
   "cell_type": "code",
   "execution_count": null,
   "id": "8966a180",
   "metadata": {
    "papermill": {
     "duration": 0.009795,
     "end_time": "2023-11-18T06:21:44.820758",
     "exception": false,
     "start_time": "2023-11-18T06:21:44.810963",
     "status": "completed"
    },
    "tags": []
   },
   "outputs": [],
   "source": []
  },
  {
   "cell_type": "code",
   "execution_count": 6,
   "id": "c584d164",
   "metadata": {
    "execution": {
     "iopub.execute_input": "2023-11-18T06:21:44.843008Z",
     "iopub.status.busy": "2023-11-18T06:21:44.842465Z",
     "iopub.status.idle": "2023-11-18T06:21:44.851501Z",
     "shell.execute_reply": "2023-11-18T06:21:44.850176Z"
    },
    "papermill": {
     "duration": 0.023091,
     "end_time": "2023-11-18T06:21:44.853933",
     "exception": false,
     "start_time": "2023-11-18T06:21:44.830842",
     "status": "completed"
    },
    "tags": []
   },
   "outputs": [],
   "source": [
    "if TRAIN:\n",
    "    if not os.path.exists(pm.path_dataset_processed) or OVERWRITE_PROCESSED_DATA:\n",
    "        df_train_raw = pd.read_csv(pm.path_data_train_raw)\n",
    "\n",
    "        if DEBUG:\n",
    "            df_train_raw = df_train_raw[df_train_raw[\"stock_id\"].isin([0, 1, 2, 3, 4])]\n",
    "\n",
    "        drop_idx = df_train_raw.loc[\n",
    "            df_train_raw[\"target\"].isna(), \"target\"\n",
    "        ].index.to_list()\n",
    "        df_train = df_train_raw.drop(drop_idx, axis=0)\n",
    "        df_train.reset_index(drop=True, inplace=True)\n",
    "    else:\n",
    "        df_train = pd.read_csv(pm.path_dataset_processed)\n",
    "        if DEBUG:\n",
    "            df_train = df_train[df_train[\"stock_id\"].isin([0, 1, 2, 3, 4])]\n",
    "\n",
    "    df_train.sort_values([\"time_id\", \"stock_id\"], inplace=True)"
   ]
  },
  {
   "cell_type": "code",
   "execution_count": 7,
   "id": "fa527990",
   "metadata": {
    "execution": {
     "iopub.execute_input": "2023-11-18T06:21:44.875878Z",
     "iopub.status.busy": "2023-11-18T06:21:44.875451Z",
     "iopub.status.idle": "2023-11-18T06:21:44.881744Z",
     "shell.execute_reply": "2023-11-18T06:21:44.880685Z"
    },
    "papermill": {
     "duration": 0.020279,
     "end_time": "2023-11-18T06:21:44.884255",
     "exception": false,
     "start_time": "2023-11-18T06:21:44.863976",
     "status": "completed"
    },
    "tags": []
   },
   "outputs": [],
   "source": [
    "if TRAIN:\n",
    "    dict_global_stock_id_feats = global_stock_id_feats(df_train)"
   ]
  },
  {
   "cell_type": "code",
   "execution_count": 8,
   "id": "7a5acbc0",
   "metadata": {
    "execution": {
     "iopub.execute_input": "2023-11-18T06:21:44.906446Z",
     "iopub.status.busy": "2023-11-18T06:21:44.906082Z",
     "iopub.status.idle": "2023-11-18T06:21:44.928805Z",
     "shell.execute_reply": "2023-11-18T06:21:44.927631Z"
    },
    "papermill": {
     "duration": 0.037024,
     "end_time": "2023-11-18T06:21:44.931553",
     "exception": false,
     "start_time": "2023-11-18T06:21:44.894529",
     "status": "completed"
    },
    "tags": []
   },
   "outputs": [],
   "source": [
    "def imbalance_features(df):\n",
    "    # Define lists of price and size-related column names\n",
    "    prices = [\n",
    "        \"reference_price\",\n",
    "        \"far_price\",\n",
    "        \"near_price\",\n",
    "        \"ask_price\",\n",
    "        \"bid_price\",\n",
    "        \"wap\",\n",
    "    ]\n",
    "    sizes = [\"matched_size\", \"bid_size\", \"ask_size\", \"imbalance_size\"]\n",
    "    df[\"volume\"] = df.eval(\"ask_size + bid_size\")\n",
    "    df[\"mid_price\"] = df.eval(\"(ask_price + bid_price) / 2\")\n",
    "    df[\"liquidity_imbalance\"] = df.eval(\"(bid_size-ask_size)/(bid_size+ask_size)\")\n",
    "    df[\"matched_imbalance\"] = df.eval(\n",
    "        \"(imbalance_size-matched_size)/(matched_size+imbalance_size)\"\n",
    "    )\n",
    "    df[\"size_imbalance\"] = df.eval(\"bid_size / ask_size\")\n",
    "\n",
    "    for c in combinations(prices, 2):\n",
    "        df[f\"{c[0]}_{c[1]}_imb\"] = df.eval(f\"({c[0]} - {c[1]})/({c[0]} + {c[1]})\")\n",
    "\n",
    "    for c in [[\"ask_price\", \"bid_price\", \"wap\", \"reference_price\"], sizes]:\n",
    "        triplet_feature = calculate_triplet_imbalance_numba(c, df)\n",
    "        df[triplet_feature.columns] = triplet_feature.values\n",
    "\n",
    "    df[\"imbalance_momentum\"] = (\n",
    "        df.groupby([\"stock_id\"])[\"imbalance_size\"].diff(periods=1) / df[\"matched_size\"]\n",
    "    )\n",
    "    df[\"price_spread\"] = df[\"ask_price\"] - df[\"bid_price\"]\n",
    "    df[\"spread_intensity\"] = df.groupby([\"stock_id\"])[\"price_spread\"].diff()\n",
    "    df[\"price_pressure\"] = df[\"imbalance_size\"] * (df[\"ask_price\"] - df[\"bid_price\"])\n",
    "    df[\"market_urgency\"] = df[\"price_spread\"] * df[\"liquidity_imbalance\"]\n",
    "    df[\"depth_pressure\"] = (df[\"ask_size\"] - df[\"bid_size\"]) * (\n",
    "        df[\"far_price\"] - df[\"near_price\"]\n",
    "    )\n",
    "\n",
    "    # Calculate various statistical aggregation features\n",
    "    for func in [\"mean\", \"std\", \"skew\", \"kurt\"]:\n",
    "        df[f\"all_prices_{func}\"] = df[prices].agg(func, axis=1)\n",
    "        df[f\"all_sizes_{func}\"] = df[sizes].agg(func, axis=1)\n",
    "\n",
    "    for col in [\n",
    "        \"matched_size\",\n",
    "        \"imbalance_size\",\n",
    "        \"reference_price\",\n",
    "        \"imbalance_buy_sell_flag\",\n",
    "    ]:\n",
    "        for window in [1, 2, 3, 10]:\n",
    "            df[f\"{col}_shift_{window}\"] = df.groupby(\"stock_id\")[col].shift(window)\n",
    "            df[f\"{col}_ret_{window}\"] = df.groupby(\"stock_id\")[col].pct_change(window)\n",
    "\n",
    "    # Calculate diff features for specific columns\n",
    "    for col in [\n",
    "        \"ask_price\",\n",
    "        \"bid_price\",\n",
    "        \"ask_size\",\n",
    "        \"bid_size\",\n",
    "        \"market_urgency\",\n",
    "        \"imbalance_momentum\",\n",
    "        \"size_imbalance\",\n",
    "    ]:\n",
    "        for window in [1, 2, 3, 10]:\n",
    "            df[f\"{col}_diff_{window}\"] = df.groupby(\"stock_id\")[col].diff(window)\n",
    "\n",
    "    return df.replace([np.inf, -np.inf], 0)\n",
    "\n",
    "\n",
    "def other_features(df):\n",
    "    df[\"dow\"] = df[\"date_id\"] % 5  # Day of the week\n",
    "    df[\"seconds\"] = df[\"seconds_in_bucket\"] % 60\n",
    "    df[\"minute\"] = df[\"seconds_in_bucket\"] // 60\n",
    "    for key, value in dict_global_stock_id_feats.items():\n",
    "        df[f\"global_{key}\"] = df[\"stock_id\"].map(value.to_dict())\n",
    "\n",
    "    return df\n",
    "\n",
    "\n",
    "def feat_engineering(df):\n",
    "    # Select relevant columns for feature generation\n",
    "    cols = [c for c in df.columns if c not in [\"row_id\"]]\n",
    "    df = df[cols]\n",
    "\n",
    "    # Generate imbalance features\n",
    "    df = imbalance_features(df)\n",
    "    df = other_features(df)\n",
    "    gc.collect()\n",
    "    list_cols = [i for i in df.columns if i not in [\"row_id\"]]\n",
    "\n",
    "    return df[list_cols]"
   ]
  },
  {
   "cell_type": "code",
   "execution_count": 9,
   "id": "555f61bf",
   "metadata": {
    "execution": {
     "iopub.execute_input": "2023-11-18T06:21:44.953697Z",
     "iopub.status.busy": "2023-11-18T06:21:44.953243Z",
     "iopub.status.idle": "2023-11-18T06:21:44.958883Z",
     "shell.execute_reply": "2023-11-18T06:21:44.957578Z"
    },
    "papermill": {
     "duration": 0.019714,
     "end_time": "2023-11-18T06:21:44.961374",
     "exception": false,
     "start_time": "2023-11-18T06:21:44.941660",
     "status": "completed"
    },
    "tags": []
   },
   "outputs": [],
   "source": [
    "if TRAIN:\n",
    "    df_train_feats = feat_engineering(df_train)\n",
    "    print(\"Build Online Train Feats Finished.\")\n",
    "\n",
    "    df_train_feats = reduce_mem_usage(df_train_feats)"
   ]
  },
  {
   "cell_type": "code",
   "execution_count": 10,
   "id": "6a2e26dd",
   "metadata": {
    "execution": {
     "iopub.execute_input": "2023-11-18T06:21:44.984103Z",
     "iopub.status.busy": "2023-11-18T06:21:44.983722Z",
     "iopub.status.idle": "2023-11-18T06:21:44.990822Z",
     "shell.execute_reply": "2023-11-18T06:21:44.989421Z"
    },
    "papermill": {
     "duration": 0.021445,
     "end_time": "2023-11-18T06:21:44.993358",
     "exception": false,
     "start_time": "2023-11-18T06:21:44.971913",
     "status": "completed"
    },
    "tags": []
   },
   "outputs": [],
   "source": [
    "if TRAIN:\n",
    "    col_split = \"time_id\"\n",
    "    df_train_feats.sort_values([col_split], inplace=True)\n",
    "\n",
    "    df_train_feats[\"factorized\"] = pd.factorize(df_train_feats[col_split])[0]\n",
    "\n",
    "    df_train_feats.sort_values([\"time_id\", \"stock_id\"], inplace=True)\n",
    "    list_cols_drop = [\"date_id\", \"time_id\"]\n",
    "\n",
    "    df_train_feats.reset_index(drop=True, inplace=True)\n",
    "    df_train_feats.drop(list_cols_drop, axis=1, inplace=True)"
   ]
  },
  {
   "cell_type": "code",
   "execution_count": null,
   "id": "93508248",
   "metadata": {
    "papermill": {
     "duration": 0.009834,
     "end_time": "2023-11-18T06:21:45.013477",
     "exception": false,
     "start_time": "2023-11-18T06:21:45.003643",
     "status": "completed"
    },
    "tags": []
   },
   "outputs": [],
   "source": []
  },
  {
   "cell_type": "code",
   "execution_count": 11,
   "id": "e9016e63",
   "metadata": {
    "execution": {
     "iopub.execute_input": "2023-11-18T06:21:45.035745Z",
     "iopub.status.busy": "2023-11-18T06:21:45.035330Z",
     "iopub.status.idle": "2023-11-18T06:21:45.045260Z",
     "shell.execute_reply": "2023-11-18T06:21:45.044232Z"
    },
    "papermill": {
     "duration": 0.023942,
     "end_time": "2023-11-18T06:21:45.047735",
     "exception": false,
     "start_time": "2023-11-18T06:21:45.023793",
     "status": "completed"
    },
    "tags": []
   },
   "outputs": [],
   "source": [
    "if TRAIN:\n",
    "    experiment_name = f\"{EXPERIMENT_PURPOSE}_v{VERSION_NB}\"\n",
    "    name_folder_models = f\"models_v{VERSION_NB}\"\n",
    "\n",
    "    experiment_date_str = datetime.now().strftime(\"%y_%m_%d_%H%M\")\n",
    "\n",
    "    if DEBUG:\n",
    "        experiment_name = f\"{experiment_name}_debug\"\n",
    "        name_folder_models = f\"{name_folder_models}_debug\"\n",
    "        path_artifact_location = \".\"\n",
    "    else:\n",
    "        path_artifact_location = pm.path_artifact_location\n",
    "\n",
    "    experiment_id = get_or_create_experiment(\n",
    "        client, experiment_name, artifact_location=path_artifact_location\n",
    "    )\n",
    "\n",
    "    nbrnd_erly_stp = 130\n",
    "    cv_mthd = \"KF\"\n",
    "\n",
    "    mlflow_callback = MLflowCallback(\n",
    "        tracking_uri=mlflow.get_tracking_uri(), metric_name=\"mae\"\n",
    "    )\n",
    "\n",
    "    all_cv = {\"KF\": KFold(n_splits=5, shuffle=True, random_state=STATE)}\n",
    "    cv = all_cv[cv_mthd]\n",
    "\n",
    "    dict_models = {\"LGBMR\": LGBMR}\n",
    "\n",
    "    log_model = True\n",
    "\n",
    "    args = {\n",
    "        \"cv_mthd\": cv_mthd,\n",
    "        \"experiment_purpose\": EXPERIMENT_PURPOSE,\n",
    "        \"experiment_name\": experiment_name,\n",
    "        \"dict_models\": dict_models,\n",
    "        \"model_params_dict\": model_params_dict,\n",
    "        \"n_splits\": N_SPLITS,\n",
    "        \"n_test_splits\": N_TEST_SPLITS,\n",
    "        \"n_purge\": N_PURGE,\n",
    "        \"n_embargo\": N_EMBARGO,\n",
    "        \"experiment_date_str\": experiment_date_str,\n",
    "        \"path_artifact_location\": pm.path_artifact_location,\n",
    "        \"target_col\": \"target\",\n",
    "    }"
   ]
  },
  {
   "cell_type": "code",
   "execution_count": null,
   "id": "14d99c5d",
   "metadata": {
    "papermill": {
     "duration": 0.009693,
     "end_time": "2023-11-18T06:21:45.067589",
     "exception": false,
     "start_time": "2023-11-18T06:21:45.057896",
     "status": "completed"
    },
    "tags": []
   },
   "outputs": [],
   "source": []
  },
  {
   "cell_type": "code",
   "execution_count": null,
   "id": "aa834f1b",
   "metadata": {
    "papermill": {
     "duration": 0.009629,
     "end_time": "2023-11-18T06:21:45.087421",
     "exception": false,
     "start_time": "2023-11-18T06:21:45.077792",
     "status": "completed"
    },
    "tags": []
   },
   "outputs": [],
   "source": []
  },
  {
   "cell_type": "code",
   "execution_count": 12,
   "id": "bee50187",
   "metadata": {
    "execution": {
     "iopub.execute_input": "2023-11-18T06:21:45.109621Z",
     "iopub.status.busy": "2023-11-18T06:21:45.109212Z",
     "iopub.status.idle": "2023-11-18T06:21:45.137635Z",
     "shell.execute_reply": "2023-11-18T06:21:45.136583Z"
    },
    "papermill": {
     "duration": 0.042652,
     "end_time": "2023-11-18T06:21:45.140140",
     "exception": false,
     "start_time": "2023-11-18T06:21:45.097488",
     "status": "completed"
    },
    "tags": []
   },
   "outputs": [],
   "source": [
    "def run_mlflow_experiment(df_train, args, trial=None):\n",
    "    cv_mthd = args[\"cv_mthd\"]\n",
    "    experiment_purpose = args[\"experiment_purpose\"]\n",
    "    experiment_name = args[\"experiment_name\"]\n",
    "    dict_models = args[\"dict_models\"]\n",
    "    model_params_dict = args[\"model_params_dict\"]\n",
    "\n",
    "    n_splits = args[\"n_splits\"]\n",
    "    n_test_splits = args[\"n_test_splits\"]\n",
    "    n_purge = args[\"n_purge\"]\n",
    "    n_embargo = args[\"n_embargo\"]\n",
    "\n",
    "    experiment_date_str = args[\"experiment_date_str\"]\n",
    "    path_artifact_location = args[\"path_artifact_location\"]\n",
    "    target_col = args[\"target_col\"]\n",
    "\n",
    "    if trial == None:\n",
    "        trial = optuna.trial.FixedTrial(\n",
    "            {\n",
    "                \"n_estimators\": 500,\n",
    "                \"learning_rate\": 0.005,\n",
    "                \"max_depth\": 10,\n",
    "                \"num_leaves\": 20,\n",
    "                \"min_child_samples\": 10,\n",
    "                \"subsample\": 0.7,\n",
    "                \"colsample_bytree\": 1.0,\n",
    "                \"min_split_gain\": 0.0,\n",
    "                \"reg_alpha\": 0.0,\n",
    "                \"reg_lambda\": 0.0,\n",
    "                \"device\": \"gpu\" if GPU_SWITCH == \"ON\" else \"cpu\",\n",
    "            }\n",
    "        )\n",
    "\n",
    "    run_time_start_trial = datetime.now().strftime(\"%y_%m_%d_%H%M%S\")\n",
    "\n",
    "    with mlflow.start_run(\n",
    "        run_name=run_time_start_trial, experiment_id=experiment_id\n",
    "    ) as run:\n",
    "        score_list = []\n",
    "\n",
    "        # mlflow.set_tag(\"cv_mthd\", cv_mthd)\n",
    "        mlflow.set_tag(\"n_splits\", n_splits)\n",
    "        mlflow.set_tag(\"n_test_splits\", n_test_splits)\n",
    "        mlflow.set_tag(\"n_purge\", n_purge)\n",
    "        mlflow.set_tag(\"n_embargo\", n_embargo)\n",
    "\n",
    "        for model_name, model_class in dict_models.items():\n",
    "            if TUNING:\n",
    "                model = create_model(\n",
    "                    trial,\n",
    "                    model_class,\n",
    "                    model_params_dict[model_name][\"static_params\"],\n",
    "                    model_params_dict[model_name][\"dynamic_params\"],\n",
    "                )\n",
    "            else:\n",
    "                params = model_prod.get_params()\n",
    "                params[\"device\"] = \"gpu\"\n",
    "\n",
    "                model = model_class(**params)\n",
    "\n",
    "            priority_params = [\"learning_rate\", \"max_depth\"]\n",
    "            excluded_params = [\n",
    "                \"device\",\n",
    "                \"class_weight\",\n",
    "                \"random_state\",\n",
    "                \"silent\",\n",
    "                \"verbose\",\n",
    "                \"n_jobs\",\n",
    "            ]\n",
    "\n",
    "            ordered_params = log_model_parameters(\n",
    "                model, priority_params, excluded_params, verbose=True\n",
    "            )\n",
    "\n",
    "            mlflow.log_params(ordered_params)\n",
    "\n",
    "            for fold_n, (train_indices, test_indices) in enumerate(\n",
    "                time_series_split(\n",
    "                    df_train,\n",
    "                    n_splits=n_splits,\n",
    "                    n_test_splits=n_test_splits,\n",
    "                    n_purge=n_purge,\n",
    "                    n_embargo=n_embargo,\n",
    "                )\n",
    "            ):\n",
    "                # if fold_n == 0:\n",
    "                with mlflow.start_run(\n",
    "                    run_name=f\"fold_{fold_n+1}\",\n",
    "                    nested=True,\n",
    "                    experiment_id=experiment_id,\n",
    "                ) as nested_run:\n",
    "                    mlflow.set_tag(\"n_trial\", str(trial.number))\n",
    "\n",
    "                    mask_train = df_train[\"factorized\"].isin(train_indices)\n",
    "                    mask_test = df_train[\"factorized\"].isin(test_indices)\n",
    "\n",
    "                    y_train = df_train.loc[mask_train, target_col]\n",
    "                    y_val = df_train.loc[mask_test, target_col]\n",
    "                    X_train = df_train.loc[mask_train].drop(\n",
    "                        [target_col, \"factorized\"], axis=1\n",
    "                    )\n",
    "                    X_val = df_train.loc[mask_test].drop(\n",
    "                        [target_col, \"factorized\"], axis=1\n",
    "                    )\n",
    "\n",
    "                    mlflow.log_param(\"train_rows\", X_train.shape[0])\n",
    "                    mlflow.log_param(\"train_cols\", X_train.shape[1])\n",
    "\n",
    "                    model.fit(\n",
    "                        X_train,\n",
    "                        y_train,\n",
    "                        eval_set=[(X_val, y_val)],\n",
    "                        eval_metric=\"mae\",\n",
    "                        callbacks=[\n",
    "                            lgbm.callback.early_stopping(stopping_rounds=100),\n",
    "                            lgbm.callback.log_evaluation(period=100000),\n",
    "                        ],\n",
    "                    )\n",
    "\n",
    "                    log_feature_importance(\n",
    "                        trial.number,\n",
    "                        model,\n",
    "                        X_train,\n",
    "                        fold_n,\n",
    "                        experiment_purpose,\n",
    "                        experiment_date_str,\n",
    "                    )\n",
    "\n",
    "                    fold_score = model.best_score_[\"valid_0\"][\"l1\"]\n",
    "\n",
    "                    score_list.append(fold_score)\n",
    "\n",
    "                    mlflow.log_metric(\"fold_score\", round(fold_score, 6))\n",
    "                    mlflow.log_param(\"fold_number\", fold_n + 1)\n",
    "                    mlflow.log_param(\"model_name\", model_name)\n",
    "\n",
    "                    mlflow.log_params(ordered_params)\n",
    "\n",
    "                    current_time_str = datetime.now().strftime(\"%Y%m%d_%H%M%S\")\n",
    "                    model_log_name = f\"{model_name}_{trial.number}_{current_time_str}\"\n",
    "\n",
    "                    mlflow.sklearn.log_model(model, model_log_name)\n",
    "\n",
    "                    mlflow.log_param(\"run_time\", current_time_str)\n",
    "\n",
    "                    nested_run_id = nested_run.info.run_id\n",
    "                    model_path = f\"{path_artifact_location}/{run.info.experiment_id}/{nested_run_id}/artifacts/{model_log_name}/model.pkl\"\n",
    "                    mlflow.log_param(\"model_path\", model_path)\n",
    "\n",
    "                avg_score = sum(score_list) / len(score_list)\n",
    "                median_score = np.median(score_list)\n",
    "                mlflow.log_metric(\"avg score\", round(avg_score, 6))\n",
    "                mlflow.log_metric(\"median score\", round(median_score, 6))\n",
    "\n",
    "                if fold_n >= N_FOLD_BREAK:\n",
    "                    break\n",
    "\n",
    "        return avg_score\n",
    "\n",
    "\n",
    "def objective(trial, df_train):\n",
    "    avg_score = run_mlflow_experiment(df_train, args, trial)\n",
    "    return avg_score\n",
    "\n",
    "\n",
    "# Run the Optuna study\n",
    "if TRAIN:\n",
    "    study = optuna.create_study(\n",
    "        direction=\"minimize\",\n",
    "        study_name=\"Your Study Name\",\n",
    "        load_if_exists=True,\n",
    "    )\n",
    "    study.optimize(lambda trial: objective(trial, df_train_feats), n_trials=N_TRIALS)"
   ]
  },
  {
   "cell_type": "code",
   "execution_count": 13,
   "id": "ec8b423f",
   "metadata": {
    "_cell_guid": "51030a77-aba3-469f-9c08-7963bc8a09d2",
    "_uuid": "6ff7d358-62f0-4ac9-b028-d1c920bb4eaf",
    "collapsed": false,
    "execution": {
     "iopub.execute_input": "2023-11-18T06:21:45.161957Z",
     "iopub.status.busy": "2023-11-18T06:21:45.161591Z",
     "iopub.status.idle": "2023-11-18T06:21:45.170225Z",
     "shell.execute_reply": "2023-11-18T06:21:45.169033Z"
    },
    "jupyter": {
     "outputs_hidden": false
    },
    "papermill": {
     "duration": 0.022538,
     "end_time": "2023-11-18T06:21:45.172808",
     "exception": false,
     "start_time": "2023-11-18T06:21:45.150270",
     "status": "completed"
    },
    "tags": []
   },
   "outputs": [],
   "source": [
    "if TRAIN:\n",
    "    df_exp = experiments_data(\n",
    "        client, list_experiment_id=None, save_df=None, list_columns=None\n",
    "    )\n",
    "    list_base_cols = [\n",
    "        \"run_time\",\n",
    "        \"experiment_id\",\n",
    "        \"n_trial\",\n",
    "        \"run_id\",\n",
    "        \"model_name\",\n",
    "        \"fold_number\",\n",
    "        \"fold_score\",\n",
    "    ]\n",
    "    list_dynamic_params = list(model_params_dict[\"LGBMR\"][\"dynamic_params\"].keys())\n",
    "\n",
    "    df_exp[\"run_time\"] = pd.to_datetime(\n",
    "        df_exp[\"run_time\"], format=\"%Y%m%d_%H%M%S\", errors=\"coerce\"\n",
    "    )\n",
    "\n",
    "    for col in df_exp.columns:\n",
    "        df_exp[col] = pd.to_numeric(df_exp[col], errors=\"ignore\")\n",
    "\n",
    "    for col in df_exp.select_dtypes(include=[\"float\", \"int\"]):\n",
    "        df_exp[col] = df_exp[col].round(5)\n",
    "\n",
    "    list_cols_exp = [\"run_time\"] + list_base_cols + list_dynamic_params + [\"model_path\"]\n",
    "\n",
    "    experiment_id\n",
    "    df_exp = df_exp[df_exp[\"experiment_id\"] != 0]\n",
    "\n",
    "    df_exp = df_exp[list_cols_exp]"
   ]
  },
  {
   "cell_type": "code",
   "execution_count": null,
   "id": "a11f1eab",
   "metadata": {
    "papermill": {
     "duration": 0.009601,
     "end_time": "2023-11-18T06:21:45.192260",
     "exception": false,
     "start_time": "2023-11-18T06:21:45.182659",
     "status": "completed"
    },
    "tags": []
   },
   "outputs": [],
   "source": []
  },
  {
   "cell_type": "code",
   "execution_count": null,
   "id": "3a7edc85",
   "metadata": {
    "papermill": {
     "duration": 0.009663,
     "end_time": "2023-11-18T06:21:45.212199",
     "exception": false,
     "start_time": "2023-11-18T06:21:45.202536",
     "status": "completed"
    },
    "tags": []
   },
   "outputs": [],
   "source": []
  },
  {
   "cell_type": "code",
   "execution_count": null,
   "id": "190e2f23",
   "metadata": {
    "papermill": {
     "duration": 0.009629,
     "end_time": "2023-11-18T06:21:45.231687",
     "exception": false,
     "start_time": "2023-11-18T06:21:45.222058",
     "status": "completed"
    },
    "tags": []
   },
   "outputs": [],
   "source": []
  },
  {
   "cell_type": "code",
   "execution_count": null,
   "id": "e11ea863",
   "metadata": {
    "_cell_guid": "d4bfb979-2758-4fe9-8947-399b1c3a574c",
    "_uuid": "bef1a199-0988-4743-813e-99d4308fc9bb",
    "collapsed": false,
    "jupyter": {
     "outputs_hidden": false
    },
    "papermill": {
     "duration": 0.009527,
     "end_time": "2023-11-18T06:21:45.251209",
     "exception": false,
     "start_time": "2023-11-18T06:21:45.241682",
     "status": "completed"
    },
    "tags": []
   },
   "outputs": [],
   "source": []
  },
  {
   "cell_type": "code",
   "execution_count": 14,
   "id": "bdd3519a",
   "metadata": {
    "execution": {
     "iopub.execute_input": "2023-11-18T06:21:45.272818Z",
     "iopub.status.busy": "2023-11-18T06:21:45.272418Z",
     "iopub.status.idle": "2023-11-18T06:22:06.251078Z",
     "shell.execute_reply": "2023-11-18T06:22:06.249797Z"
    },
    "papermill": {
     "duration": 20.992826,
     "end_time": "2023-11-18T06:22:06.253927",
     "exception": false,
     "start_time": "2023-11-18T06:21:45.261101",
     "status": "completed"
    },
    "tags": []
   },
   "outputs": [],
   "source": [
    "df_train = pd.read_csv(\"/kaggle/input/optiver-trading-at-the-close/train.csv\")"
   ]
  },
  {
   "cell_type": "code",
   "execution_count": null,
   "id": "881d174b",
   "metadata": {
    "papermill": {
     "duration": 0.009847,
     "end_time": "2023-11-18T06:22:06.274066",
     "exception": false,
     "start_time": "2023-11-18T06:22:06.264219",
     "status": "completed"
    },
    "tags": []
   },
   "outputs": [],
   "source": []
  },
  {
   "cell_type": "code",
   "execution_count": 15,
   "id": "5cecd558",
   "metadata": {
    "execution": {
     "iopub.execute_input": "2023-11-18T06:22:06.296234Z",
     "iopub.status.busy": "2023-11-18T06:22:06.295857Z",
     "iopub.status.idle": "2023-11-18T06:22:08.378818Z",
     "shell.execute_reply": "2023-11-18T06:22:08.377579Z"
    },
    "papermill": {
     "duration": 2.097679,
     "end_time": "2023-11-18T06:22:08.381905",
     "exception": false,
     "start_time": "2023-11-18T06:22:06.284226",
     "status": "completed"
    },
    "tags": []
   },
   "outputs": [],
   "source": [
    "dict_global_stock_id_feats = global_stock_id_feats(df_train)"
   ]
  },
  {
   "cell_type": "code",
   "execution_count": 16,
   "id": "6543beb0",
   "metadata": {
    "_cell_guid": "d30f3862-dca2-4242-9db0-ab9750118622",
    "_uuid": "efd9073c-aaef-4135-bf7c-1e892e9aa831",
    "collapsed": false,
    "execution": {
     "iopub.execute_input": "2023-11-18T06:22:08.405206Z",
     "iopub.status.busy": "2023-11-18T06:22:08.404759Z",
     "iopub.status.idle": "2023-11-18T06:22:08.409867Z",
     "shell.execute_reply": "2023-11-18T06:22:08.408688Z"
    },
    "jupyter": {
     "outputs_hidden": false
    },
    "papermill": {
     "duration": 0.019715,
     "end_time": "2023-11-18T06:22:08.412282",
     "exception": false,
     "start_time": "2023-11-18T06:22:08.392567",
     "status": "completed"
    },
    "tags": []
   },
   "outputs": [],
   "source": [
    "import time"
   ]
  },
  {
   "cell_type": "code",
   "execution_count": 17,
   "id": "74464cce",
   "metadata": {
    "execution": {
     "iopub.execute_input": "2023-11-18T06:22:08.435337Z",
     "iopub.status.busy": "2023-11-18T06:22:08.434903Z",
     "iopub.status.idle": "2023-11-18T06:23:12.605430Z",
     "shell.execute_reply": "2023-11-18T06:23:12.604150Z"
    },
    "papermill": {
     "duration": 64.198556,
     "end_time": "2023-11-18T06:23:12.621245",
     "exception": false,
     "start_time": "2023-11-18T06:22:08.422689",
     "status": "completed"
    },
    "tags": []
   },
   "outputs": [
    {
     "name": "stdout",
     "output_type": "stream",
     "text": [
      "This version of the API is not optimized and should not be used to estimate the runtime of your code on the hidden test set.\n",
      "10 qps: 0.7001684427261352\n",
      "20 qps: 0.5313056945800781\n",
      "30 qps: 0.4739795764287313\n",
      "40 qps: 0.44733635783195497\n",
      "50 qps: 0.42745734691619874\n",
      "60 qps: 0.4185858011245728\n",
      "70 qps: 0.40816481454031805\n",
      "80 qps: 0.4035548657178879\n",
      "90 qps: 0.3979415125317044\n",
      "100 qps: 0.392982234954834\n",
      "110 qps: 0.389130687713623\n",
      "120 qps: 0.3858372112115224\n",
      "130 qps: 0.3829213710931631\n",
      "140 qps: 0.38265040602002826\n",
      "150 qps: 0.3811934757232666\n",
      "160 qps: 0.3819782495498657\n",
      "The code will take approximately 0.4387 hours to reason about\n"
     ]
    }
   ],
   "source": [
    "def zero_sum(prices, volumes):\n",
    "    std_error = np.sqrt(volumes)\n",
    "    step = np.sum(prices) / np.sum(std_error)\n",
    "    out = prices - std_error * step\n",
    "    return out\n",
    "\n",
    "import optiver2023\n",
    "env = optiver2023.make_env()\n",
    "iter_test = env.iter_test()\n",
    "counter = 0\n",
    "y_min, y_max = -64, 64\n",
    "qps, predictions = [], []\n",
    "cache = pd.DataFrame()\n",
    "\n",
    "for (test, revealed_targets, sample_prediction) in iter_test:\n",
    "    now_time = time.time()\n",
    "    cache = pd.concat([cache, test], ignore_index=True, axis=0)\n",
    "    if counter > 0:\n",
    "        cache = cache.groupby(['stock_id']).tail(21).sort_values(by=['date_id', 'seconds_in_bucket', 'stock_id']).reset_index(drop=True)\n",
    "\n",
    "    feat = feat_engineering(cache)[-len(test):]\n",
    "\n",
    "    # added after new API, reference: https://www.kaggle.com/competitions/optiver-trading-at-the-close/discussion/455690#2526672\n",
    "    if test.currently_scored.iloc[0]== False:\n",
    "        sample_prediction['target'] = 0\n",
    "        env.predict(sample_prediction)\n",
    "        counter += 1\n",
    "        qps.append(time.time() - now_time)\n",
    "        if counter % 10 == 0:\n",
    "            print(counter, 'qps:', np.mean(qps))\n",
    "        continue\n",
    "\n",
    "    #feat = feat.drop(columns = [\"currently_scored\"])    \n",
    "    # end of new codes for new API\n",
    "\n",
    "    # Generate predictions for each model and calculate the weighted average\n",
    "\n",
    "    list_cols_drop = [\"date_id\"]\n",
    "    feat.drop(list_cols_drop, axis=1, inplace=True)\n",
    "\n",
    "    list_features = model_prod.models[0].feature_name_\n",
    "    feat = feat[list_features]\n",
    "    lgb_predictions = model_prod.predict(feat, \"mean\")\n",
    "\n",
    "\n",
    "    lgb_predictions = zero_sum(lgb_predictions, test['bid_size'] + test['ask_size'])\n",
    "    clipped_predictions = np.clip(lgb_predictions, y_min, y_max)\n",
    "    sample_prediction['target'] = clipped_predictions\n",
    "    env.predict(sample_prediction)\n",
    "    counter += 1\n",
    "    qps.append(time.time() - now_time)\n",
    "    if counter % 10 == 0:\n",
    "        print(counter, 'qps:', np.mean(qps))\n",
    "\n",
    "time_cost = 1.146 * np.mean(qps)\n",
    "print(f\"The code will take approximately {np.round(time_cost, 4)} hours to reason about\")"
   ]
  },
  {
   "cell_type": "code",
   "execution_count": 18,
   "id": "588491cf",
   "metadata": {
    "execution": {
     "iopub.execute_input": "2023-11-18T06:23:12.647594Z",
     "iopub.status.busy": "2023-11-18T06:23:12.647108Z",
     "iopub.status.idle": "2023-11-18T06:23:12.651437Z",
     "shell.execute_reply": "2023-11-18T06:23:12.650616Z"
    },
    "papermill": {
     "duration": 0.020543,
     "end_time": "2023-11-18T06:23:12.653748",
     "exception": false,
     "start_time": "2023-11-18T06:23:12.633205",
     "status": "completed"
    },
    "tags": []
   },
   "outputs": [],
   "source": [
    "# clean_directory_except_one('/kaggle/working/','submission.csv')"
   ]
  }
 ],
 "metadata": {
  "kaggle": {
   "accelerator": "none",
   "dataSources": [
    {
     "databundleVersionId": 7056235,
     "sourceId": 57891,
     "sourceType": "competition"
    },
    {
     "datasetId": 4019630,
     "sourceId": 6993423,
     "sourceType": "datasetVersion"
    },
    {
     "sourceId": 150406473,
     "sourceType": "kernelVersion"
    },
    {
     "sourceId": 150406565,
     "sourceType": "kernelVersion"
    },
    {
     "sourceId": 150406696,
     "sourceType": "kernelVersion"
    },
    {
     "sourceId": 150407056,
     "sourceType": "kernelVersion"
    },
    {
     "sourceId": 150412552,
     "sourceType": "kernelVersion"
    },
    {
     "sourceId": 150429530,
     "sourceType": "kernelVersion"
    },
    {
     "sourceId": 151165317,
     "sourceType": "kernelVersion"
    },
    {
     "sourceId": 151165495,
     "sourceType": "kernelVersion"
    }
   ],
   "isGpuEnabled": false,
   "isInternetEnabled": false,
   "language": "python",
   "sourceType": "notebook"
  },
  "kernelspec": {
   "display_name": "Python 3",
   "language": "python",
   "name": "python3"
  },
  "language_info": {
   "codemirror_mode": {
    "name": "ipython",
    "version": 3
   },
   "file_extension": ".py",
   "mimetype": "text/x-python",
   "name": "python",
   "nbconvert_exporter": "python",
   "pygments_lexer": "ipython3",
   "version": "3.10.12"
  },
  "papermill": {
   "default_parameters": {},
   "duration": 98.942766,
   "end_time": "2023-11-18T06:23:13.990481",
   "environment_variables": {},
   "exception": null,
   "input_path": "__notebook__.ipynb",
   "output_path": "__notebook__.ipynb",
   "parameters": {},
   "start_time": "2023-11-18T06:21:35.047715",
   "version": "2.4.0"
  }
 },
 "nbformat": 4,
 "nbformat_minor": 5
}
