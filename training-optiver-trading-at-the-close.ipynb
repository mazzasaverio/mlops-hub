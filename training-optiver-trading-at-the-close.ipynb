{
 "cells": [
  {
   "cell_type": "code",
   "execution_count": 1,
   "id": "1bc24582",
   "metadata": {
    "execution": {
     "iopub.execute_input": "2023-10-29T15:10:54.583744Z",
     "iopub.status.busy": "2023-10-29T15:10:54.582799Z",
     "iopub.status.idle": "2023-10-29T15:10:55.362170Z",
     "shell.execute_reply": "2023-10-29T15:10:55.360755Z"
    },
    "papermill": {
     "duration": 0.799911,
     "end_time": "2023-10-29T15:10:55.364724",
     "exception": false,
     "start_time": "2023-10-29T15:10:54.564813",
     "status": "completed"
    },
    "tags": []
   },
   "outputs": [
    {
     "data": {
      "text/plain": [
       "False"
      ]
     },
     "execution_count": 1,
     "metadata": {},
     "output_type": "execute_result"
    }
   ],
   "source": [
    "    # Constants\n",
    "TRAIN = False\n",
    "OVERWRITE = False\n",
    "DEBUG = False\n",
    "DEBUG_SAMPLE = 10000\n",
    "\n",
    "N_TRIALS = 10\n",
    "\n",
    "VERSION_NB = 1 \n",
    "\n",
    "state = 42\n",
    "\n",
    "download_kaggle_data = False\n",
    "\n",
    "# External general-purpose modules\n",
    "import os\n",
    "import shutil\n",
    "import warnings\n",
    "from datetime import datetime\n",
    "import glob\n",
    "\n",
    "import numpy as np\n",
    "import pandas as pd\n",
    "import polars as pl\n",
    "from dotenv import load_dotenv\n",
    "from joblib import dump\n",
    "import joblib\n",
    "import os\n",
    "\n",
    "# Setting pandas options and warning filters\n",
    "pd.set_option(\"display.max_columns\", None)\n",
    "warnings.filterwarnings(\"ignore\", category=FutureWarning)\n",
    "warnings.filterwarnings(\"ignore\", category=UserWarning)\n",
    "\n",
    "# Load environment variables\n",
    "load_dotenv()"
   ]
  },
  {
   "cell_type": "code",
   "execution_count": 2,
   "id": "9bc22144",
   "metadata": {
    "_cell_guid": "3bdaa15b-0b9e-4b3b-9c47-58e6b9b18b5e",
    "_uuid": "206043b9-f1d5-4691-b03a-935f2177086d",
    "collapsed": false,
    "execution": {
     "iopub.execute_input": "2023-10-29T15:10:55.403746Z",
     "iopub.status.busy": "2023-10-29T15:10:55.402834Z",
     "iopub.status.idle": "2023-10-29T15:10:55.430363Z",
     "shell.execute_reply": "2023-10-29T15:10:55.428467Z"
    },
    "jupyter": {
     "outputs_hidden": false
    },
    "papermill": {
     "duration": 0.051692,
     "end_time": "2023-10-29T15:10:55.433866",
     "exception": false,
     "start_time": "2023-10-29T15:10:55.382174",
     "status": "completed"
    },
    "tags": []
   },
   "outputs": [
    {
     "name": "stdout",
     "output_type": "stream",
     "text": [
      "/kaggle/working\n"
     ]
    }
   ],
   "source": [
    "# Setting up the project directory path\n",
    "path_project_dir = os.getcwd()\n",
    "if path_project_dir not in [\"/kaggle/working\", \"/content\"]:\n",
    "    path_project_dir = os.getenv(\"ROOT_PATH\")\n",
    "\n",
    "print(path_project_dir)\n",
    "\n",
    "# Imports and setup for training\n",
    "if TRAIN:\n",
    "    # Install packages and import logging libraries\n",
    "    if path_project_dir == '/kaggle/working':\n",
    "        !pip install loguru mlflow optuna > /dev/null\n",
    "        from utils_1 import get_data, log_training_details, clean_directory_except_one\n",
    "\n",
    "    from utils_1 import log_feature_importance\n",
    "    \n",
    "    from loguru import logger\n",
    "    import mlflow\n",
    "    import optuna\n",
    "    from optuna.integration.mlflow import MLflowCallback\n",
    "    from mlflow.tracking import MlflowClient\n",
    "    import zipfile\n",
    "    \n",
    "    from tqdm import tqdm\n",
    "\n",
    "    # Import machine learning libraries\n",
    "    from lightgbm import log_evaluation, early_stopping, LGBMRegressor as LGBMR\n",
    "    from sklearn.model_selection import KFold\n",
    "    from xgboost import XGBRegressor as XGBR\n",
    "\n",
    "    # Set logging\n",
    "    logger.add(\"logs.log\", format=\"{time:YYYY-MM-DD HH:mm} | {level} | {message}\")\n",
    "    optuna.logging.set_verbosity(optuna.logging.WARNING)\n",
    "    warnings.filterwarnings(\"ignore\", category=optuna.exceptions.ExperimentalWarning)\n",
    "    \n",
    "    # Auto-reload modules\n",
    "    %load_ext autoreload\n",
    "    %autoreload 2\n",
    "\n",
    "    # Initialize MLflow callback\n",
    "    mlflow_callback = MLflowCallback(\n",
    "        tracking_uri=mlflow.get_tracking_uri(), metric_name=\"mae\"\n",
    "    )"
   ]
  },
  {
   "cell_type": "code",
   "execution_count": 3,
   "id": "c1646a14",
   "metadata": {
    "_cell_guid": "9765420b-f8ab-46ba-8b4c-e4487eb04b76",
    "_uuid": "c4174134-1441-41f8-adbf-f03ad3f7d7dc",
    "collapsed": false,
    "execution": {
     "iopub.execute_input": "2023-10-29T15:10:55.474226Z",
     "iopub.status.busy": "2023-10-29T15:10:55.472868Z",
     "iopub.status.idle": "2023-10-29T15:10:55.496045Z",
     "shell.execute_reply": "2023-10-29T15:10:55.493478Z"
    },
    "jupyter": {
     "outputs_hidden": false
    },
    "papermill": {
     "duration": 0.048878,
     "end_time": "2023-10-29T15:10:55.500951",
     "exception": false,
     "start_time": "2023-10-29T15:10:55.452073",
     "status": "completed"
    },
    "tags": []
   },
   "outputs": [],
   "source": [
    "if path_project_dir == \"/kaggle/working\":\n",
    "    path_data_project_dir = \"/kaggle/input/optiver-trading-at-the-close\"\n",
    "    path_experiments_storage = os.path.join(path_project_dir, \"experiments_storage\")\n",
    "\n",
    "    path_dataset_train_raw = \"/kaggle/input/optiver-trading-at-the-close/train.csv\"\n",
    "    path_dataset_test_raw = (\n",
    "        \"/kaggle/input/optiver-trading-at-the-close/example_test_files/test.csv\"\n",
    "    )\n",
    "\n",
    "    path_dataset_processed = \"/kaggle/working/processed_data\"\n",
    "    path_dataset_train = os.path.join(path_dataset_processed, \"train.csv\")\n",
    "    path_dataset_test = os.path.join(path_dataset_processed, \"test.csv\")\n",
    "\n",
    "else:\n",
    "    name_folder_data_project = \"kaggle_optiver_trading_at_the_close\"\n",
    "\n",
    "    path_data_dir = os.path.join(path_project_dir, \"data\")\n",
    "    path_dataset_train_raw = os.path.join(\n",
    "        path_data_dir, \"kaggle_optiver_trading_at_the_close/raw\", \"train.csv\"\n",
    "    )\n",
    "    path_dataset_processed = os.path.join(\n",
    "        path_data_dir, \"kaggle_optiver_trading_at_the_close/processed\"\n",
    "    )\n",
    "\n",
    "    path_data_project_dir = os.path.join(path_data_dir, name_folder_data_project)\n",
    "\n",
    "    path_config_dir = os.path.join(path_project_dir, \"config\")\n",
    "    path_config_train = os.path.join(path_config_dir, \"train_config.yaml\")\n",
    "\n",
    "    path_experiments_storage = os.path.join(\n",
    "        path_data_project_dir, \"experiments_storage\"\n",
    "    )\n",
    "\n",
    "    if download_kaggle_data:\n",
    "        dataset_name = \"ravi20076/optiver-memoryreduceddatasets\"\n",
    "        kaggle_json_path = os.path.join(path_project_dir, \"kaggle.json\")\n",
    "        get_data(\n",
    "            kaggle_json_path,\n",
    "            path_data_project_dir,\n",
    "            dataset_name=dataset_name,\n",
    "            specific_file=None,\n",
    "        )\n",
    "\n",
    "    file_name_df_train = \"train.csv\"\n",
    "    file_name_df_test = \"test.csv\"\n",
    "\n",
    "    path_dataset_train = os.path.join(path_data_project_dir, file_name_df_train)\n",
    "    path_dataset_test = os.path.join(path_data_project_dir, file_name_df_test)\n",
    "\n",
    "if TRAIN:\n",
    "    mlflow.set_tracking_uri(path_experiments_storage)\n",
    "    client = MlflowClient()"
   ]
  },
  {
   "cell_type": "markdown",
   "id": "c815a02f",
   "metadata": {
    "_cell_guid": "b8d09bc0-2c22-4c0c-9142-ab698ac4e6ea",
    "_uuid": "858fa67e-742c-461a-9c05-5ec2e4554328",
    "papermill": {
     "duration": 0.019237,
     "end_time": "2023-10-29T15:10:55.538650",
     "exception": false,
     "start_time": "2023-10-29T15:10:55.519413",
     "status": "completed"
    },
    "tags": []
   },
   "source": [
    "## Constants and Settings\n"
   ]
  },
  {
   "cell_type": "code",
   "execution_count": 4,
   "id": "5f5909bd",
   "metadata": {
    "execution": {
     "iopub.execute_input": "2023-10-29T15:10:55.576635Z",
     "iopub.status.busy": "2023-10-29T15:10:55.576175Z",
     "iopub.status.idle": "2023-10-29T15:10:55.584688Z",
     "shell.execute_reply": "2023-10-29T15:10:55.583094Z"
    },
    "papermill": {
     "duration": 0.028861,
     "end_time": "2023-10-29T15:10:55.587966",
     "exception": false,
     "start_time": "2023-10-29T15:10:55.559105",
     "status": "completed"
    },
    "tags": []
   },
   "outputs": [],
   "source": [
    "if TRAIN:\n",
    "    if not os.path.exists(path_dataset_processed):\n",
    "        os.makedirs(path_dataset_processed)\n",
    "\n",
    "    if not os.path.exists(path_dataset_train) or OVERWRITE:\n",
    "        df_train = pd.read_csv(path_dataset_train_raw)\n",
    "    else:\n",
    "        df_train = pd.read_csv(path_dataset_train)\n",
    "\n",
    "    if DEBUG:\n",
    "        df_train = df_train[df_train[\"stock_id\"].isin([0, 1, 2, 3, 4, 5])]"
   ]
  },
  {
   "cell_type": "code",
   "execution_count": 5,
   "id": "018f9d0a",
   "metadata": {
    "execution": {
     "iopub.execute_input": "2023-10-29T15:10:55.621131Z",
     "iopub.status.busy": "2023-10-29T15:10:55.620697Z",
     "iopub.status.idle": "2023-10-29T15:10:55.627127Z",
     "shell.execute_reply": "2023-10-29T15:10:55.625666Z"
    },
    "papermill": {
     "duration": 0.026159,
     "end_time": "2023-10-29T15:10:55.629903",
     "exception": false,
     "start_time": "2023-10-29T15:10:55.603744",
     "status": "completed"
    },
    "tags": []
   },
   "outputs": [],
   "source": [
    "if TRAIN:\n",
    "    # Dropping rows with null targets:-\n",
    "    drop_idx = df_train.loc[df_train[\"target\"].isna(), \"target\"].index.to_list()\n",
    "    df_train = df_train.drop(drop_idx, axis=0)\n",
    "    # df_train.drop(\"row_id\", axis=1, inplace=True)"
   ]
  },
  {
   "cell_type": "code",
   "execution_count": 6,
   "id": "2caff467",
   "metadata": {
    "execution": {
     "iopub.execute_input": "2023-10-29T15:10:55.663582Z",
     "iopub.status.busy": "2023-10-29T15:10:55.663097Z",
     "iopub.status.idle": "2023-10-29T15:10:55.702156Z",
     "shell.execute_reply": "2023-10-29T15:10:55.700894Z"
    },
    "papermill": {
     "duration": 0.060007,
     "end_time": "2023-10-29T15:10:55.705088",
     "exception": false,
     "start_time": "2023-10-29T15:10:55.645081",
     "status": "completed"
    },
    "tags": []
   },
   "outputs": [],
   "source": [
    "\n",
    "def feat_engineering(df_train):\n",
    "    df_train_pol = pl.DataFrame(df_train)\n",
    "    df = df_train_pol\n",
    "    # 7. Handle Missing Values\n",
    "    df = df.with_columns(\n",
    "        [\n",
    "            pl.col(\"far_price\").fill_null(strategy=\"forward\").alias(\"far_price\"),\n",
    "            pl.col(\"near_price\").fill_null(strategy=\"forward\").alias(\"near_price\"),\n",
    "        ]\n",
    "    )\n",
    "    # Level 1 Features\n",
    "    level_one_features = [\n",
    "        (pl.col(\"imbalance_size\") / pl.col(\"matched_size\")).alias(\n",
    "            \"imbalance_to_matched_size\"\n",
    "        ),\n",
    "        (pl.col(\"imbalance_size\") * pl.col(\"imbalance_buy_sell_flag\")).alias(\n",
    "            \"imbalance_flag_to_size\"\n",
    "        ),\n",
    "        (pl.col(\"ask_price\") - pl.col(\"bid_price\")).alias(\"spread\"),\n",
    "        (pl.col(\"bid_size\") - pl.col(\"ask_size\")).alias(\"bid_ask_imbalance\"),\n",
    "        (pl.col(\"bid_size\") / pl.col(\"ask_size\")).alias(\"liquidity\"),\n",
    "        (pl.col(\"bid_price\") - pl.col(\"wap\")).alias(\"price_diff_bid_to_wap\"),\n",
    "        (pl.col(\"ask_price\") - pl.col(\"wap\")).alias(\"price_diff_ask_to_wap\"),\n",
    "        (pl.col(\"bid_size\") - pl.col(\"wap\")).alias(\"size_diff_bid_to_wap\"),\n",
    "        (pl.col(\"ask_size\") - pl.col(\"wap\")).alias(\"size_diff_ask_to_wap\"),\n",
    "        (pl.col(\"wap\") - pl.col(\"wap\").shift(1).over([\"stock_id\", \"date_id\"])).alias(\n",
    "            \"wap_velocity\"\n",
    "        ),\n",
    "        (\n",
    "            pl.col(\"wap\") / pl.col(\"wap\").shift(5).over([\"stock_id\", \"date_id\"]) - 1\n",
    "        ).alias(\"wap_momentum_5\"),\n",
    "        (\n",
    "            pl.col(\"wap\")\n",
    "            .std()\n",
    "            .over([\"stock_id\", \"date_id\"])\n",
    "            .alias(\"short_term_volatility\")\n",
    "        ),\n",
    "        (\n",
    "            (\n",
    "                pl.col(\"imbalance_size\")\n",
    "                / (pl.col(\"matched_size\") + pl.col(\"imbalance_size\"))\n",
    "            ).alias(\"price_impact\")\n",
    "        ),\n",
    "        (\n",
    "            (pl.col(\"bid_size\") - pl.col(\"ask_size\"))\n",
    "            / (pl.col(\"bid_size\") + pl.col(\"ask_size\"))\n",
    "        ).alias(\"order_imbalance_ratio\"),\n",
    "        (\n",
    "            (pl.col(\"ask_price\") - pl.col(\"bid_price\"))\n",
    "            / (pl.col(\"ask_price\") + pl.col(\"bid_price\"))\n",
    "        ).alias(\"price_skewness\"),\n",
    "        (pl.col(\"seconds_in_bucket\") / 600).alias(\"time_decay\"),\n",
    "    ]\n",
    "\n",
    "    # Level 2 Features\n",
    "    level_two_features = [\n",
    "        (\n",
    "            pl.col(\"wap_velocity\")\n",
    "            - pl.col(\"wap_velocity\").shift(1).over([\"stock_id\", \"date_id\"])\n",
    "        ).alias(\"wap_acceleration\"),\n",
    "        (\n",
    "            pl.col(\"short_term_volatility\").shift(1).over([\"stock_id\", \"date_id\"])\n",
    "            - pl.col(\"short_term_volatility\")\n",
    "        ).alias(\"volatility_rate_of_change\"),\n",
    "        (\n",
    "            (\n",
    "                pl.col(\"liquidity\")\n",
    "                - pl.col(\"liquidity\").shift(1).over([\"stock_id\", \"date_id\"])\n",
    "            )\n",
    "            / pl.col(\"liquidity\").shift(1).over([\"stock_id\", \"date_id\"])\n",
    "        ).alias(\"liquidity_ratio_change\"),\n",
    "        (\n",
    "            (\n",
    "                pl.col(\"order_imbalance_ratio\")\n",
    "                - pl.col(\"order_imbalance_ratio\").shift(1).over([\"stock_id\", \"date_id\"])\n",
    "            )\n",
    "            / pl.col(\"order_imbalance_ratio\").shift(1).over([\"stock_id\", \"date_id\"])\n",
    "        ).alias(\"order_imbalance_over_time\"),\n",
    "        (\n",
    "            (\n",
    "                pl.col(\"price_skewness\")\n",
    "                - pl.col(\"price_skewness\").shift(1).over([\"stock_id\", \"date_id\"])\n",
    "            )\n",
    "            / pl.col(\"price_skewness\").shift(1).over([\"stock_id\", \"date_id\"])\n",
    "        ).alias(\"price_skewness_rate_of_change\"),\n",
    "    ]\n",
    "\n",
    "    # Level 3 Features\n",
    "    level_three_aggregations = [\n",
    "        pl.col(\"wap\").mean().alias(\"avg_wap_by_market\"),\n",
    "        pl.col(\"near_price\").mean().alias(\"avg_near_price_by_market\"),\n",
    "        pl.col(\"matched_size\").mean().alias(\"avg_matched_size_by_market\"),\n",
    "        pl.col(\"imbalance_to_matched_size\")\n",
    "        .mean()\n",
    "        .alias(\"avg_imbalance_to_matched_size_by_market\"),\n",
    "        pl.col(\"spread\").mean().alias(\"avg_spread_by_market\"),\n",
    "        pl.col(\"liquidity\").mean().alias(\"avg_liquidity_by_market\"),\n",
    "        pl.col(\"short_term_volatility\").mean().alias(\"avg_market_volatility\"),\n",
    "        pl.col(\"order_imbalance_ratio\").mean().alias(\"avg_market_imbalance\"),\n",
    "        pl.col(\"liquidity\").mean().alias(\"avg_market_liquidity\"),\n",
    "        pl.col(\"price_impact\").mean().alias(\"avg_market_price_impact\"),\n",
    "        pl.col(\"price_skewness\").mean().alias(\"avg_market_price_skewness\"),\n",
    "    ]\n",
    "\n",
    "    # Adding all features and performing join operation\n",
    "    df = df.with_columns(level_one_features)\n",
    "    df = df.with_columns(level_two_features)\n",
    "    group_by_market = df.groupby([\"date_id\", \"seconds_in_bucket\"]).agg(\n",
    "        *level_three_aggregations\n",
    "    )\n",
    "    df = df.join(group_by_market, on=[\"date_id\", \"seconds_in_bucket\"], how=\"left\")\n",
    "\n",
    "\n",
    "    polynomial_and_interaction_features = [\n",
    "        (pl.col(\"seconds_in_bucket\") * pl.col(\"near_price\")).alias(\n",
    "            \"seconds_in_bucket_X_near_price\"\n",
    "        ),\n",
    "        (pl.col(\"matched_size\") * pl.col(\"near_price\")).alias(\n",
    "            \"matched_size_X_near_price\"\n",
    "        ),\n",
    "        (pl.col(\"near_price\") ** 2).alias(\"near_price_squared\"),\n",
    "        (pl.col(\"matched_size\") ** 2).alias(\"matched_size_squared\"),\n",
    "        (pl.col(\"seconds_in_bucket\") * pl.col(\"imbalance_flag_to_size\")).alias(\n",
    "            \"seconds_in_bucket_X_imbalance_flag_to_size\"\n",
    "        ),\n",
    "        (pl.col(\"seconds_in_bucket\") ** 2).alias(\"seconds_in_bucket_squared\"),\n",
    "        (pl.col(\"imbalance_flag_to_size\") ** 2).alias(\"imbalance_flag_to_size_squared\"),\n",
    "    ]\n",
    "\n",
    "    # Relative to Market Features\n",
    "    relative_to_market_features = [\n",
    "        (pl.col(\"wap\") / pl.col(\"avg_wap_by_market\")).alias(\"relative_wap_to_market\"),\n",
    "        (pl.col(\"near_price\") / pl.col(\"avg_near_price_by_market\")).alias(\n",
    "            \"relative_near_price_to_market\"\n",
    "        ),\n",
    "        (pl.col(\"matched_size\") / pl.col(\"avg_matched_size_by_market\")).alias(\n",
    "            \"relative_matched_size_to_market\"\n",
    "        ),\n",
    "        (\n",
    "            pl.col(\"imbalance_to_matched_size\")\n",
    "            / pl.col(\"avg_imbalance_to_matched_size_by_market\")\n",
    "        ).alias(\"relative_imbalance_to_matched_size_to_market\"),\n",
    "        (pl.col(\"spread\") / pl.col(\"avg_spread_by_market\")).alias(\n",
    "            \"relative_spread_to_market\"\n",
    "        ),\n",
    "        (pl.col(\"liquidity\") / pl.col(\"avg_liquidity_by_market\")).alias(\n",
    "            \"relative_liquidity_to_market\"\n",
    "        ),\n",
    "    ]\n",
    "\n",
    "    # Combine all Level 4 features and add them to the DataFrame\n",
    "    all_level_four_features = (\n",
    "        polynomial_and_interaction_features + relative_to_market_features\n",
    "    )\n",
    "    df = df.with_columns(all_level_four_features)\n",
    "\n",
    "    for window in [5, 10]:\n",
    "        rolling_group = df.group_by_rolling(\n",
    "            index_column=\"seconds_in_bucket\",\n",
    "            period=f\"{window}i\",  # 'i' denotes index count (integer)\n",
    "            by=[\"stock_id\", \"date_id\"],\n",
    "            closed=\"left\",  # Adjust as needed\n",
    "        )\n",
    "\n",
    "        # Apply to basic and new features\n",
    "        for col in [\n",
    "            \"wap\",\n",
    "            \"imbalance_size\",\n",
    "            \"bid_price\",\n",
    "            \"ask_price\",\n",
    "            \"relative_wap_to_market\",\n",
    "            \"wap_momentum_5\",\n",
    "        ]:\n",
    "            df = df.join(\n",
    "                rolling_group.agg(pl.col(col).mean().alias(f\"{col}_mean_{window}\")),\n",
    "                on=[\"stock_id\", \"date_id\", \"seconds_in_bucket\"],\n",
    "                how=\"left\",\n",
    "            )\n",
    "\n",
    "    low_importance_cols = [\n",
    "        \"wap_mean_5\",\n",
    "        \"imbalance_buy_sell_flag\",\n",
    "        \"imbalance_flag_to_size_squared\",\n",
    "        # Add more columns as needed\n",
    "    ]\n",
    "\n",
    "    existing_cols = df.columns\n",
    "\n",
    "    # Drop columns only if they exist in DataFrame\n",
    "    cols_to_drop = [col for col in low_importance_cols if col in existing_cols]\n",
    "\n",
    "    if cols_to_drop:\n",
    "        engineered_df = df.drop(cols_to_drop)\n",
    "    else:\n",
    "        engineered_df = df.to_pandas()\n",
    "\n",
    "    engineered_df = engineered_df.to_pandas()\n",
    "\n",
    "    return engineered_df"
   ]
  },
  {
   "cell_type": "code",
   "execution_count": 7,
   "id": "bf692921",
   "metadata": {
    "execution": {
     "iopub.execute_input": "2023-10-29T15:10:55.738571Z",
     "iopub.status.busy": "2023-10-29T15:10:55.738182Z",
     "iopub.status.idle": "2023-10-29T15:10:55.743736Z",
     "shell.execute_reply": "2023-10-29T15:10:55.742274Z"
    },
    "papermill": {
     "duration": 0.026135,
     "end_time": "2023-10-29T15:10:55.747271",
     "exception": false,
     "start_time": "2023-10-29T15:10:55.721136",
     "status": "completed"
    },
    "tags": []
   },
   "outputs": [],
   "source": [
    "if TRAIN:\n",
    "    engineered_df = feat_engineering(df_train)"
   ]
  },
  {
   "cell_type": "code",
   "execution_count": 8,
   "id": "8d1bbcd8",
   "metadata": {
    "execution": {
     "iopub.execute_input": "2023-10-29T15:10:55.780947Z",
     "iopub.status.busy": "2023-10-29T15:10:55.780464Z",
     "iopub.status.idle": "2023-10-29T15:10:55.786895Z",
     "shell.execute_reply": "2023-10-29T15:10:55.785820Z"
    },
    "papermill": {
     "duration": 0.025337,
     "end_time": "2023-10-29T15:10:55.789061",
     "exception": false,
     "start_time": "2023-10-29T15:10:55.763724",
     "status": "completed"
    },
    "tags": []
   },
   "outputs": [],
   "source": [
    "if TRAIN:\n",
    "    list_cols_drop = [\"stock_id\", \"date_id\", \"row_id\", \"time_id\", \"target\"]\n",
    "\n",
    "    y_train = engineered_df[\"target\"]\n",
    "\n",
    "    X_train = engineered_df.drop(list_cols_drop, axis=1).copy()\n",
    "\n",
    "    y_train = y_train.loc[X_train.index].squeeze()"
   ]
  },
  {
   "cell_type": "code",
   "execution_count": 9,
   "id": "dae8785b",
   "metadata": {
    "_cell_guid": "334e81a6-b09b-4a3d-96a1-fe0278deff13",
    "_uuid": "4288a49c-b472-4af2-b2bb-95cf0cd2bd6d",
    "collapsed": false,
    "execution": {
     "iopub.execute_input": "2023-10-29T15:10:55.822607Z",
     "iopub.status.busy": "2023-10-29T15:10:55.822151Z",
     "iopub.status.idle": "2023-10-29T15:10:55.856594Z",
     "shell.execute_reply": "2023-10-29T15:10:55.855539Z"
    },
    "jupyter": {
     "outputs_hidden": false
    },
    "papermill": {
     "duration": 0.054986,
     "end_time": "2023-10-29T15:10:55.859524",
     "exception": false,
     "start_time": "2023-10-29T15:10:55.804538",
     "status": "completed"
    },
    "tags": []
   },
   "outputs": [],
   "source": [
    "gpu_switch = \"OFF\"\n",
    "n_splits = 5\n",
    "n_test_split = 1\n",
    "embargo_td = 100\n",
    "\n",
    "n_repeats = 1\n",
    "nbrnd_erly_stp = 130\n",
    "\n",
    "cv_mthd = \"KF\"\n",
    "\n",
    "# Cross-Validation Setup\n",
    "if TRAIN:\n",
    "    all_cv = {\"KF\": KFold(n_splits=n_splits, shuffle=True, random_state=state)}\n",
    "    cv = all_cv[cv_mthd]\n",
    "\n",
    "    model_params_dict = {\n",
    "        \"LGBMR\": {\n",
    "            \"static_params\": {\n",
    "                \"device\": \"gpu\" if gpu_switch == \"ON\" else \"cpu\",\n",
    "                \"objective\": \"regression_l1\",\n",
    "                \"boosting_type\": \"gbdt\",\n",
    "                \"random_state\": state,\n",
    "                \"verbose\": -1,\n",
    "                \"verbose_eval\": False,\n",
    "            },\n",
    "            \"dynamic_params\": {\n",
    "                \"n_estimators\": {\n",
    "                    \"type\": \"int\",\n",
    "                    \"low\": 620,\n",
    "                    \"high\": 730,\n",
    "                },\n",
    "                \"learning_rate\": {\n",
    "                    \"type\": \"float\",\n",
    "                    \"low\": 0.05,\n",
    "                    \"high\": 0.07,\n",
    "                },\n",
    "                \"max_depth\": {\"type\": \"int\", \"low\": 14, \"high\": 19},\n",
    "                \"num_leaves\": {\n",
    "                    \"type\": \"int\",\n",
    "                    \"low\": 65,\n",
    "                    \"high\": 85,\n",
    "                },\n",
    "                \"min_child_samples\": {\n",
    "                    \"type\": \"int\",\n",
    "                    \"low\": 71,\n",
    "                    \"high\": 74,\n",
    "                },\n",
    "                \"subsample\": {\n",
    "                    \"type\": \"float\",\n",
    "                    \"low\": 0.63,\n",
    "                    \"high\": 0.71,\n",
    "                },\n",
    "                \"colsample_bytree\": {\n",
    "                    \"type\": \"float\",\n",
    "                    \"low\": 0.74,\n",
    "                    \"high\": 0.77,\n",
    "                },\n",
    "                \"min_split_gain\": {\n",
    "                    \"type\": \"float\",\n",
    "                    \"low\": 0.08,\n",
    "                    \"high\": 0.11,\n",
    "                },\n",
    "                \"reg_alpha\": {\n",
    "                    \"type\": \"float\",\n",
    "                    \"low\": 0.7,\n",
    "                    \"high\": 1.3,\n",
    "                },\n",
    "                \"reg_lambda\": {\n",
    "                    \"type\": \"float\",\n",
    "                    \"low\": 1.9,\n",
    "                    \"high\": 3.0,\n",
    "                },\n",
    "            },\n",
    "        },\n",
    "    }\n",
    "\n",
    "    dict_models = {\"LGBMR\": LGBMR}\n",
    "\n",
    "    log_model = True\n",
    "\n",
    "    experiment_date_str = datetime.now().strftime(\"%Y%m%d_%H%M%S\")\n",
    "    experiment_purpose = \"optiver_trading_at_the_close\"\n",
    "    experiment_name = f\"{experiment_purpose}_{experiment_date_str}\"\n",
    "\n",
    "    mlflow.set_experiment(experiment_name)\n",
    "\n",
    "\n",
    "def create_model(trial, model_class, static_params, dynamic_params):\n",
    "    dynamic_params_values = {}\n",
    "    for param_name, suggestions in dynamic_params.items():\n",
    "        suggestion_type = suggestions[\"type\"]\n",
    "        if suggestion_type == \"int\":\n",
    "            dynamic_params_values[param_name] = trial.suggest_int(\n",
    "                param_name, suggestions[\"low\"], suggestions[\"high\"]\n",
    "            )\n",
    "        elif suggestion_type == \"float\":\n",
    "            dynamic_params_values[param_name] = trial.suggest_float(\n",
    "                param_name, suggestions[\"low\"], suggestions[\"high\"]\n",
    "            )\n",
    "        elif suggestion_type == \"categorical\":\n",
    "            dynamic_params_values[param_name] = trial.suggest_categorical(\n",
    "                param_name, suggestions[\"choices\"]\n",
    "            )\n",
    "        elif suggestion_type == \"discrete_uniform\":\n",
    "            dynamic_params_values[param_name] = trial.suggest_discrete_uniform(\n",
    "                param_name, suggestions[\"low\"], suggestions[\"high\"], suggestions[\"q\"]\n",
    "            )\n",
    "        elif suggestion_type == \"loguniform\":\n",
    "            dynamic_params_values[param_name] = trial.suggest_loguniform(\n",
    "                param_name, suggestions[\"low\"], suggestions[\"high\"]\n",
    "            )\n",
    "        else:\n",
    "            raise ValueError(f\"Unsupported suggestion type: {suggestion_type}\")\n",
    "\n",
    "    model_params = {**static_params, **dynamic_params_values}\n",
    "    return model_class(**model_params)\n",
    "\n",
    "\n",
    "def objective(trial, X, y):\n",
    "    try:\n",
    "        with mlflow.start_run() as run:\n",
    "            mlflow.log_param(\"cv_mthd\", cv_mthd)\n",
    "            mlflow.set_tag(\"experiment_purpose\", experiment_purpose)\n",
    "            mlflow.set_tag(\"experiment_name\", experiment_name)\n",
    "            mlflow.set_tag(\"version_nb\",VERSION_NB)\n",
    "            for model_name, model_class in dict_models.items():\n",
    "                model = create_model(\n",
    "                    trial,\n",
    "                    dict_models[model_name],\n",
    "                    model_params_dict[model_name][\"static_params\"],\n",
    "                    model_params_dict[model_name][\"dynamic_params\"],\n",
    "                )\n",
    "                mae_list = []\n",
    "\n",
    "                log_training_details(logger, model, trial, model_name)\n",
    "\n",
    "                for fold_n, (train_idx, val_idx) in enumerate(cv.split(X, y)):\n",
    "                    with mlflow.start_run(\n",
    "                        run_name=f\"fold_{fold_n+1}\", nested=True\n",
    "                    ) as nested_run:\n",
    "                        X_train, X_val = X.iloc[train_idx], X.iloc[val_idx]\n",
    "                        y_train, y_val = y.iloc[train_idx], y.iloc[val_idx]\n",
    "\n",
    "                        mlflow.log_param(\"training_data_rows\", X_train.shape[0])\n",
    "                        mlflow.log_param(\"training_data_columns\", X_train.shape[1])\n",
    "\n",
    "                        model.fit(\n",
    "                            X_train,\n",
    "                            y_train,\n",
    "                            eval_set=[(X_val, y_val)],\n",
    "                            eval_metric=\"mae\",\n",
    "                            early_stopping_rounds=nbrnd_erly_stp,\n",
    "                            callbacks=[\n",
    "                                log_evaluation(0),\n",
    "                                early_stopping(nbrnd_erly_stp, verbose=False),\n",
    "                            ],\n",
    "                        )\n",
    "\n",
    "                        log_feature_importance(model, X, fold_n, experiment_purpose, experiment_date_str)\n",
    "\n",
    "                        fold_mae = model.best_score_[\"valid_0\"][\"l1\"]\n",
    "                        mae_list.append(fold_mae)\n",
    "                        logger.info(f\"{fold_n + 1:<5} {'|':<2} {fold_mae:<20}\")\n",
    "\n",
    "                        mlflow.log_metric(\"mae\", fold_mae)\n",
    "                        mlflow.log_param(\"fold_number\", fold_n + 1)\n",
    "                        mlflow.log_param(\"model_name\", model_name)\n",
    "                        mlflow.log_param(\"log_model\", log_model)\n",
    "\n",
    "                        params_to_log = model.get_params()\n",
    "                        mlflow.log_params(params_to_log)\n",
    "\n",
    "                        if log_model:\n",
    "                            current_time_str = datetime.now().strftime(\"%Y%m%d_%H%M%S\")\n",
    "                            model_log_name = (\n",
    "                                f\"{model_name}_{trial.number}_{current_time_str}\"\n",
    "                            )\n",
    "\n",
    "                            mlflow.log_param(\"model_log_name\", model_log_name)\n",
    "\n",
    "                            mlflow.sklearn.log_model(model, model_log_name)\n",
    "\n",
    "                            mlflow.log_param(\"run_time\", current_time_str)\n",
    "\n",
    "                        nested_run_id = nested_run.info.run_id\n",
    "                        model_path = f\"{path_experiments_storage}/{run.info.experiment_id}/{nested_run_id}/artifacts/{model_log_name}/model.pkl\"\n",
    "                        mlflow.log_param(\"model_path\", model_path)\n",
    "                avg_mae = sum(mae_list) / len(mae_list)\n",
    "\n",
    "                mlflow.log_param(\"model_name\", model_name)\n",
    "\n",
    "                return avg_mae\n",
    "\n",
    "    except Exception as e:\n",
    "        logger.error(f\"An exception occurred: {e}\")\n",
    "        return float(\"inf\")"
   ]
  },
  {
   "cell_type": "code",
   "execution_count": 10,
   "id": "507ec0fe",
   "metadata": {
    "execution": {
     "iopub.execute_input": "2023-10-29T15:10:55.892679Z",
     "iopub.status.busy": "2023-10-29T15:10:55.892297Z",
     "iopub.status.idle": "2023-10-29T15:10:55.898308Z",
     "shell.execute_reply": "2023-10-29T15:10:55.897279Z"
    },
    "papermill": {
     "duration": 0.025794,
     "end_time": "2023-10-29T15:10:55.900603",
     "exception": false,
     "start_time": "2023-10-29T15:10:55.874809",
     "status": "completed"
    },
    "tags": []
   },
   "outputs": [],
   "source": [
    "# Run the Optuna study\n",
    "if TRAIN:\n",
    "    study = optuna.create_study(\n",
    "        direction=\"minimize\",\n",
    "        study_name=\"Your Study Name\",\n",
    "        load_if_exists=True,\n",
    "    )\n",
    "    study.optimize(lambda trial: objective(trial, X_train, y_train), n_trials=N_TRIALS)"
   ]
  },
  {
   "cell_type": "code",
   "execution_count": null,
   "id": "06835d20",
   "metadata": {
    "papermill": {
     "duration": 0.015145,
     "end_time": "2023-10-29T15:10:55.931212",
     "exception": false,
     "start_time": "2023-10-29T15:10:55.916067",
     "status": "completed"
    },
    "tags": []
   },
   "outputs": [],
   "source": []
  },
  {
   "cell_type": "code",
   "execution_count": 11,
   "id": "f6fbaf7d",
   "metadata": {
    "_cell_guid": "0a91a281-846a-4119-9fee-268d2f6e2195",
    "_uuid": "02e23e01-f0f7-426e-b170-55ac4273b88f",
    "collapsed": false,
    "execution": {
     "iopub.execute_input": "2023-10-29T15:10:56.027075Z",
     "iopub.status.busy": "2023-10-29T15:10:56.026632Z",
     "iopub.status.idle": "2023-10-29T15:10:56.034946Z",
     "shell.execute_reply": "2023-10-29T15:10:56.034072Z"
    },
    "jupyter": {
     "outputs_hidden": false
    },
    "papermill": {
     "duration": 0.027139,
     "end_time": "2023-10-29T15:10:56.037180",
     "exception": false,
     "start_time": "2023-10-29T15:10:56.010041",
     "status": "completed"
    },
    "tags": []
   },
   "outputs": [],
   "source": [
    "def save_and_version_df(df_new):\n",
    "    # Read existing df_runs CSV files and concatenate them with the new df_runs\n",
    "    existing_files = [\n",
    "        f for f in os.listdir() if f.startswith(\"df_runs_\") and f.endswith(\".csv\")\n",
    "    ]\n",
    "    dfs = [pd.read_csv(f) for f in existing_files]\n",
    "\n",
    "    for old_file, old_df in zip(existing_files, dfs):\n",
    "        print(f\"Removed old file: {old_file}, Shape: {old_df.shape}\")\n",
    "        os.remove(old_file)\n",
    "\n",
    "    dfs.append(df_new)\n",
    "    df_concatenated = pd.concat(dfs, ignore_index=True)\n",
    "\n",
    "    # Remove duplicates\n",
    "    df_unique = df_concatenated.drop_duplicates()\n",
    "\n",
    "    # Save the new concatenated and deduplicated df_runs to a new versioned CSV file\n",
    "    timestamp = datetime.now().strftime(\"%Y%m%d_%H%M\")\n",
    "    csv_filename = f\"df_runs_{timestamp}.csv\"\n",
    "    df_unique.to_csv(csv_filename, index=False)\n",
    "\n",
    "    print(f\"DataFrame saved to {csv_filename}, Shape: {df_unique.shape}\")\n",
    "\n",
    "    return df_unique"
   ]
  },
  {
   "cell_type": "code",
   "execution_count": 12,
   "id": "b7fff047",
   "metadata": {
    "_cell_guid": "51030a77-aba3-469f-9c08-7963bc8a09d2",
    "_uuid": "6ff7d358-62f0-4ac9-b028-d1c920bb4eaf",
    "collapsed": false,
    "execution": {
     "iopub.execute_input": "2023-10-29T15:10:56.071322Z",
     "iopub.status.busy": "2023-10-29T15:10:56.070859Z",
     "iopub.status.idle": "2023-10-29T15:10:56.080151Z",
     "shell.execute_reply": "2023-10-29T15:10:56.078936Z"
    },
    "jupyter": {
     "outputs_hidden": false
    },
    "papermill": {
     "duration": 0.029815,
     "end_time": "2023-10-29T15:10:56.082963",
     "exception": false,
     "start_time": "2023-10-29T15:10:56.053148",
     "status": "completed"
    },
    "tags": []
   },
   "outputs": [],
   "source": [
    "def gather_runs_data():\n",
    "    experiments = client.search_experiments()\n",
    "    all_runs_data = []\n",
    "    for exp in experiments:\n",
    "        experiment_id = exp.experiment_id\n",
    "        run_infos = client.search_runs(experiment_ids=[experiment_id])\n",
    "\n",
    "        for run_info in run_infos:\n",
    "            run_data = {\n",
    "                \"experiment_id\": experiment_id,\n",
    "                \"experiment_name\": exp.name,\n",
    "                \"run_id\": run_info.info.run_id,\n",
    "            }\n",
    "\n",
    "            # Add metrics to run_data\n",
    "            for key, value in run_info.data.metrics.items():\n",
    "                run_data[f\"{key}\"] = value\n",
    "\n",
    "            # Add params to run_data\n",
    "            for key, value in run_info.data.params.items():\n",
    "                run_data[f\"{key}\"] = value\n",
    "\n",
    "            all_runs_data.append(run_data)\n",
    "\n",
    "    df_runs_new = pd.DataFrame(all_runs_data)\n",
    "\n",
    "\n",
    "    df_runs_unique = save_and_version_df(df_runs_new)\n",
    "\n",
    "    df_runs_unique = df_runs_unique[~df_runs_unique[\"model_name\"].isna()]\n",
    "\n",
    "    return df_runs_unique"
   ]
  },
  {
   "cell_type": "code",
   "execution_count": 13,
   "id": "02f11a24",
   "metadata": {
    "_cell_guid": "50c86d61-2198-45c1-8106-1ff027f1f87a",
    "_uuid": "6491f1de-d47e-4d76-8eb4-7cf869d5313a",
    "collapsed": false,
    "execution": {
     "iopub.execute_input": "2023-10-29T15:10:56.116179Z",
     "iopub.status.busy": "2023-10-29T15:10:56.115271Z",
     "iopub.status.idle": "2023-10-29T15:10:56.122552Z",
     "shell.execute_reply": "2023-10-29T15:10:56.121486Z"
    },
    "jupyter": {
     "outputs_hidden": false
    },
    "papermill": {
     "duration": 0.026801,
     "end_time": "2023-10-29T15:10:56.125258",
     "exception": false,
     "start_time": "2023-10-29T15:10:56.098457",
     "status": "completed"
    },
    "tags": []
   },
   "outputs": [],
   "source": [
    "cols_id = [\"experiment_id\", \"run_id\"]\n",
    "cols_info = [\"training_data_rows\", \"training_data_columns\"]\n",
    "cols_metrics = [\"mae\"]\n",
    "cols_param_exp = [\"date_exp\", \"log_model\", \"cv_mthd\", \"fold_number\"]\n",
    "cols_others_info = [\n",
    "    \"experiment_name\",\n",
    "    \"model_path\",\n",
    "    \"device\",\n",
    "    \"n_jobs\",\n",
    "    \"importance_type\",\n",
    "    \"random_state\",\n",
    "    \"model_name\",\n",
    "    \"subsample_freq\",\n",
    "    \"verbose_eval\",\n",
    "    \"class_weight\",\n",
    "    \"model_log_name\",\n",
    "    \"verbose\",\n",
    "    \"silent\",\n",
    "]"
   ]
  },
  {
   "cell_type": "code",
   "execution_count": 14,
   "id": "44855ea3",
   "metadata": {
    "_cell_guid": "cb16e35c-caf0-4a29-803b-ce578697b66a",
    "_uuid": "d14695ff-57de-4e99-833e-5ef5e6f1038d",
    "collapsed": false,
    "execution": {
     "iopub.execute_input": "2023-10-29T15:10:56.159083Z",
     "iopub.status.busy": "2023-10-29T15:10:56.158320Z",
     "iopub.status.idle": "2023-10-29T15:10:56.164963Z",
     "shell.execute_reply": "2023-10-29T15:10:56.163942Z"
    },
    "jupyter": {
     "outputs_hidden": false
    },
    "papermill": {
     "duration": 0.026607,
     "end_time": "2023-10-29T15:10:56.167701",
     "exception": false,
     "start_time": "2023-10-29T15:10:56.141094",
     "status": "completed"
    },
    "tags": []
   },
   "outputs": [],
   "source": [
    "if TRAIN:\n",
    "    df_runs = gather_runs_data()\n",
    "    df_runs = df_runs.drop_duplicates()\n",
    "    cols_params = df_runs.columns.tolist()\n",
    "\n",
    "    for col in cols_param_exp + cols_metrics + cols_info + cols_id + cols_others_info:\n",
    "        cols_params.remove(col)\n",
    "\n",
    "    new_col_order = (\n",
    "        cols_param_exp\n",
    "        + cols_metrics\n",
    "        + cols_info\n",
    "        + cols_id\n",
    "        + cols_params\n",
    "        + cols_others_info\n",
    "    )\n",
    "\n",
    "    df_runs = df_runs[~df_runs[\"fold_number\"].isna()]\n",
    "    df_runs = df_runs[new_col_order]"
   ]
  },
  {
   "cell_type": "code",
   "execution_count": 15,
   "id": "4be05925",
   "metadata": {
    "execution": {
     "iopub.execute_input": "2023-10-29T15:10:56.202771Z",
     "iopub.status.busy": "2023-10-29T15:10:56.202068Z",
     "iopub.status.idle": "2023-10-29T15:10:56.206232Z",
     "shell.execute_reply": "2023-10-29T15:10:56.205300Z"
    },
    "papermill": {
     "duration": 0.02443,
     "end_time": "2023-10-29T15:10:56.208454",
     "exception": false,
     "start_time": "2023-10-29T15:10:56.184024",
     "status": "completed"
    },
    "tags": []
   },
   "outputs": [],
   "source": [
    "#df_runs[[\"date_exp\"] + cols_info + cols_metrics + cols_params].drop_duplicates()"
   ]
  },
  {
   "cell_type": "code",
   "execution_count": null,
   "id": "14ebe005",
   "metadata": {
    "papermill": {
     "duration": 0.016147,
     "end_time": "2023-10-29T15:10:56.241763",
     "exception": false,
     "start_time": "2023-10-29T15:10:56.225616",
     "status": "completed"
    },
    "tags": []
   },
   "outputs": [],
   "source": []
  },
  {
   "cell_type": "code",
   "execution_count": null,
   "id": "6bd58983",
   "metadata": {
    "papermill": {
     "duration": 0.01622,
     "end_time": "2023-10-29T15:10:56.274312",
     "exception": false,
     "start_time": "2023-10-29T15:10:56.258092",
     "status": "completed"
    },
    "tags": []
   },
   "outputs": [],
   "source": []
  },
  {
   "cell_type": "code",
   "execution_count": null,
   "id": "e4f5a804",
   "metadata": {
    "papermill": {
     "duration": 0.01642,
     "end_time": "2023-10-29T15:10:56.306364",
     "exception": false,
     "start_time": "2023-10-29T15:10:56.289944",
     "status": "completed"
    },
    "tags": []
   },
   "outputs": [],
   "source": []
  },
  {
   "cell_type": "code",
   "execution_count": 16,
   "id": "3900e3a6",
   "metadata": {
    "execution": {
     "iopub.execute_input": "2023-10-29T15:10:56.339957Z",
     "iopub.status.busy": "2023-10-29T15:10:56.339597Z",
     "iopub.status.idle": "2023-10-29T15:10:56.354063Z",
     "shell.execute_reply": "2023-10-29T15:10:56.352936Z"
    },
    "papermill": {
     "duration": 0.033877,
     "end_time": "2023-10-29T15:10:56.356554",
     "exception": false,
     "start_time": "2023-10-29T15:10:56.322677",
     "status": "completed"
    },
    "tags": []
   },
   "outputs": [],
   "source": [
    "def aggregate_feature_importance(path_to_csvs):\n",
    "    \"\"\"\n",
    "    Aggregates feature importances from multiple CSV files and calculates mean importance.\n",
    "    \"\"\"\n",
    "    all_files = glob.glob(f\"{path_to_csvs}/*.csv\")\n",
    "    list_of_dfs = [pd.read_csv(filename) for filename in all_files]\n",
    "\n",
    "    if not list_of_dfs:\n",
    "        print(\"No CSV files found.\")\n",
    "        return None\n",
    "\n",
    "    # Concatenate all Jdataframes\n",
    "    aggregated_df = pd.concat(list_of_dfs, ignore_index=True)\n",
    "\n",
    "    # Calculate mean importance for each feature\n",
    "    mean_importance = (\n",
    "        aggregated_df.groupby(\"Feature\")[\"Importance\"].mean().reset_index()\n",
    "    )\n",
    "    mean_importance = mean_importance.sort_values(by=\"Importance\", ascending=False)\n",
    "\n",
    "    return mean_importance\n",
    "\n",
    "\n",
    "def analyze_feature_importance(aggregated_df, top_n=100):\n",
    "    \"\"\"\n",
    "    Analyzes aggregated feature importances.\n",
    "    \"\"\"\n",
    "    if aggregated_df is None:\n",
    "        print(\"No aggregated DataFrame provided.\")\n",
    "        return None\n",
    "\n",
    "    top_n_features = aggregated_df.nlargest(top_n, \"Importance\")\n",
    "\n",
    "    return top_n_features\n",
    "\n",
    "\n",
    "def count_top_n_features(path_to_csvs, top_n=100):\n",
    "    \"\"\"\n",
    "    Counts how many times each feature appears in the top N most important features across multiple experiments.\n",
    "\n",
    "    Parameters:\n",
    "    path_to_csvs (str): Path to the folder containing feature importance CSV files.\n",
    "    top_n (int): The number of top features to consider.\n",
    "\n",
    "    Returns:\n",
    "    DataFrame: A DataFrame showing the count of appearances in the top N features for each feature.\n",
    "    \"\"\"\n",
    "\n",
    "    all_files = glob.glob(f\"{path_to_csvs}/*.csv\")\n",
    "    list_of_dfs = [pd.read_csv(filename) for filename in all_files]\n",
    "\n",
    "    if not list_of_dfs:\n",
    "        print(\"No CSV files found.\")\n",
    "        return None\n",
    "\n",
    "    feature_count = {}\n",
    "\n",
    "    # Count how many times each feature appears in the top N features\n",
    "    for df in list_of_dfs:\n",
    "        top_features = df.nlargest(top_n, \"Importance\")[\"Feature\"].tolist()\n",
    "        for feature in top_features:\n",
    "            if feature in feature_count:\n",
    "                feature_count[feature] += 1\n",
    "            else:\n",
    "                feature_count[feature] = 1\n",
    "\n",
    "    # Convert to DataFrame for easier analysis\n",
    "    feature_count_df = pd.DataFrame(\n",
    "        list(feature_count.items()), columns=[\"Feature\", \"Count\"]\n",
    "    )\n",
    "    feature_count_df = feature_count_df.sort_values(by=\"Count\", ascending=False)\n",
    "\n",
    "    return feature_count_df"
   ]
  },
  {
   "cell_type": "code",
   "execution_count": 17,
   "id": "3fd19a73",
   "metadata": {
    "execution": {
     "iopub.execute_input": "2023-10-29T15:10:56.389674Z",
     "iopub.status.busy": "2023-10-29T15:10:56.389299Z",
     "iopub.status.idle": "2023-10-29T15:10:56.395552Z",
     "shell.execute_reply": "2023-10-29T15:10:56.394325Z"
    },
    "papermill": {
     "duration": 0.025875,
     "end_time": "2023-10-29T15:10:56.398160",
     "exception": false,
     "start_time": "2023-10-29T15:10:56.372285",
     "status": "completed"
    },
    "tags": []
   },
   "outputs": [],
   "source": [
    "# Example usageJ\n",
    "if TRAIN:\n",
    "    path_to_csvs = \"/kaggle/working/\"\n",
    "    aggregated_df = aggregate_feature_importance(path_to_csvs)\n",
    "    top_n_features = analyze_feature_importance(aggregated_df)\n",
    "    list_features = [\n",
    "        col for col in list(top_n_features[\"Feature\"]) if col in engineered_df.columns\n",
    "    ]"
   ]
  },
  {
   "cell_type": "code",
   "execution_count": 18,
   "id": "7c2d49fa",
   "metadata": {
    "execution": {
     "iopub.execute_input": "2023-10-29T15:10:56.433341Z",
     "iopub.status.busy": "2023-10-29T15:10:56.432524Z",
     "iopub.status.idle": "2023-10-29T15:10:56.437499Z",
     "shell.execute_reply": "2023-10-29T15:10:56.436610Z"
    },
    "papermill": {
     "duration": 0.025161,
     "end_time": "2023-10-29T15:10:56.440099",
     "exception": false,
     "start_time": "2023-10-29T15:10:56.414938",
     "status": "completed"
    },
    "tags": []
   },
   "outputs": [],
   "source": [
    "#top_n_features[top_n_features[\"Feature\"].isin(list_features)]"
   ]
  },
  {
   "cell_type": "code",
   "execution_count": 19,
   "id": "691bed46",
   "metadata": {
    "_cell_guid": "95e6c8a8-62ed-4412-944a-5b08508702fc",
    "_uuid": "60c6783c-1e42-43ca-ba32-bda313deb585",
    "collapsed": false,
    "execution": {
     "iopub.execute_input": "2023-10-29T15:10:56.475192Z",
     "iopub.status.busy": "2023-10-29T15:10:56.474439Z",
     "iopub.status.idle": "2023-10-29T15:10:56.483688Z",
     "shell.execute_reply": "2023-10-29T15:10:56.482875Z"
    },
    "jupyter": {
     "outputs_hidden": false
    },
    "papermill": {
     "duration": 0.029844,
     "end_time": "2023-10-29T15:10:56.486196",
     "exception": false,
     "start_time": "2023-10-29T15:10:56.456352",
     "status": "completed"
    },
    "tags": []
   },
   "outputs": [],
   "source": [
    "def ensemble_predict(model_paths, X_test):\n",
    "    models = []\n",
    "    predictions = []\n",
    "\n",
    "    # Load models based on full artifact paths\n",
    "    for model_path in model_paths:\n",
    "        try:\n",
    "            # If using direct path to pkl\n",
    "            if model_path.endswith(\".pkl\"):\n",
    "                model = joblib.load(model_path)\n",
    "            else:\n",
    "                print(f\"Unsupported model format for {model_path}. Skipping.\")\n",
    "                continue  # Skip this iteration\n",
    "\n",
    "            models.append(model)\n",
    "        except Exception as e:\n",
    "            print(f\"Failed to load model at {model_path}. Error: {e}\")\n",
    "\n",
    "    # Make predictions\n",
    "    for model in models:\n",
    "        try:\n",
    "            pred = model.predict(X_test)\n",
    "            predictions.append(pred)\n",
    "        except Exception as e:\n",
    "            print(f\"Failed to make prediction with model. Error: {e}\")\n",
    "\n",
    "    # Average predictions\n",
    "    if len(predictions) > 0:\n",
    "        ensemble_pred = np.mean(predictions, axis=0)\n",
    "    else:\n",
    "        print(\"No valid models loaded. Cannot make ensemble predictions.\")\n",
    "        ensemble_pred = None\n",
    "\n",
    "    return ensemble_pred"
   ]
  },
  {
   "cell_type": "code",
   "execution_count": null,
   "id": "bce16b22",
   "metadata": {
    "papermill": {
     "duration": 0.015417,
     "end_time": "2023-10-29T15:10:56.517608",
     "exception": false,
     "start_time": "2023-10-29T15:10:56.502191",
     "status": "completed"
    },
    "tags": []
   },
   "outputs": [],
   "source": []
  },
  {
   "cell_type": "code",
   "execution_count": 20,
   "id": "b0a9e4c0",
   "metadata": {
    "execution": {
     "iopub.execute_input": "2023-10-29T15:10:56.550758Z",
     "iopub.status.busy": "2023-10-29T15:10:56.550310Z",
     "iopub.status.idle": "2023-10-29T15:10:56.555103Z",
     "shell.execute_reply": "2023-10-29T15:10:56.553933Z"
    },
    "papermill": {
     "duration": 0.024154,
     "end_time": "2023-10-29T15:10:56.557375",
     "exception": false,
     "start_time": "2023-10-29T15:10:56.533221",
     "status": "completed"
    },
    "tags": []
   },
   "outputs": [],
   "source": [
    "#df_runs = df_runs[df_runs['date_exp'] == 134604.0]"
   ]
  },
  {
   "cell_type": "code",
   "execution_count": 21,
   "id": "742e1b0f",
   "metadata": {
    "execution": {
     "iopub.execute_input": "2023-10-29T15:10:56.593411Z",
     "iopub.status.busy": "2023-10-29T15:10:56.592583Z",
     "iopub.status.idle": "2023-10-29T15:10:56.611139Z",
     "shell.execute_reply": "2023-10-29T15:10:56.608805Z"
    },
    "papermill": {
     "duration": 0.042125,
     "end_time": "2023-10-29T15:10:56.615350",
     "exception": false,
     "start_time": "2023-10-29T15:10:56.573225",
     "status": "completed"
    },
    "tags": []
   },
   "outputs": [],
   "source": [
    "\n",
    "models_dir = \"models_0\"\n",
    "\n",
    "if TRAIN:\n",
    "    \n",
    "\n",
    "    model_paths = list(\n",
    "        df_runs[~df_runs[\"model_path\"].isna()].sort_values(\"mae\")[\"model_path\"]\n",
    "    )[:5]\n",
    "\n",
    "    \n",
    "    if not os.path.exists(models_dir):\n",
    "        os.makedirs(models_dir)\n",
    "\n",
    "    for model_path in model_paths:\n",
    "        print(f\"Checking if model path exists: {model_path}\")\n",
    "\n",
    "        if not os.path.exists(model_path):\n",
    "            print(f\"File does not exist: {model_path}\")\n",
    "            continue  # Skip to the next iteration\n",
    "\n",
    "        specific_part = model_path.split(\"/\")[-2]\n",
    "        dest_path = os.path.join(models_dir, f\"{specific_part}.pkl\")\n",
    "        if not os.path.exists(dest_path):\n",
    "            print(f\"Copying from {model_path} to {dest_path}\")\n",
    "            shutil.copy(model_path, dest_path)\n",
    "        else:\n",
    "            print(f\"File {dest_path} already exists. Skipping copy.\")\n",
    "\n",
    "    zipf = zipfile.ZipFile(f\"/kaggle/working/{models_dir}.zip\", \"w\", zipfile.ZIP_DEFLATED)\n",
    "\n",
    "    # Navigate through the folder and add each file to the ZIP\n",
    "    for root, dirs, files in os.walk(f\"/kaggle/working/{models_dir}\"):\n",
    "        for file in files:\n",
    "            zipf.write(\n",
    "                os.path.join(root, file),\n",
    "                os.path.relpath(os.path.join(root, file), f\"/kaggle/working/{models_dir}\"),\n",
    "            )\n",
    "\n",
    "\n",
    "    zipf.close()\n"
   ]
  },
  {
   "cell_type": "code",
   "execution_count": null,
   "id": "a48434d3",
   "metadata": {
    "papermill": {
     "duration": 0.021847,
     "end_time": "2023-10-29T15:10:56.664056",
     "exception": false,
     "start_time": "2023-10-29T15:10:56.642209",
     "status": "completed"
    },
    "tags": []
   },
   "outputs": [],
   "source": []
  },
  {
   "cell_type": "code",
   "execution_count": 22,
   "id": "a0154257",
   "metadata": {
    "execution": {
     "iopub.execute_input": "2023-10-29T15:10:56.710929Z",
     "iopub.status.busy": "2023-10-29T15:10:56.710171Z",
     "iopub.status.idle": "2023-10-29T15:10:56.726381Z",
     "shell.execute_reply": "2023-10-29T15:10:56.724462Z"
    },
    "papermill": {
     "duration": 0.041859,
     "end_time": "2023-10-29T15:10:56.729352",
     "exception": false,
     "start_time": "2023-10-29T15:10:56.687493",
     "status": "completed"
    },
    "tags": []
   },
   "outputs": [
    {
     "name": "stdout",
     "output_type": "stream",
     "text": [
      "List of file paths: ['/kaggle/input/models-0/LGBMR_0_20231029_140035.pkl', '/kaggle/input/models-0/LGBMR_0_20231029_141504.pkl', '/kaggle/input/models-0/LGBMR_0_20231029_135312.pkl', '/kaggle/input/models-0/LGBMR_0_20231029_140748.pkl', '/kaggle/input/models-0/LGBMR_0_20231029_142223.pkl']\n"
     ]
    }
   ],
   "source": [
    "model_paths = []\n",
    "models_dir_input  = models_dir.replace(\"_\",\"-\")\n",
    "directory = f\"/kaggle/input/{models_dir_input}\"\n",
    "\n",
    "# Check if the directory exists\n",
    "if os.path.exists(directory):\n",
    "    # Traverse the directory and collect file paths\n",
    "    for filename in os.listdir(directory):\n",
    "        full_path = os.path.join(directory, filename)\n",
    "\n",
    "        # Check if the item is a file (and not a sub-directory)\n",
    "        if os.path.isfile(full_path):\n",
    "            model_paths.append(full_path)\n",
    "else:\n",
    "    print(f\"The directory {directory} does not exist.\")\n",
    "\n",
    "# Print or return the list of file paths\n",
    "print(\"List of file paths:\", model_paths)"
   ]
  },
  {
   "cell_type": "code",
   "execution_count": null,
   "id": "4a612539",
   "metadata": {
    "papermill": {
     "duration": 0.017223,
     "end_time": "2023-10-29T15:10:56.763885",
     "exception": false,
     "start_time": "2023-10-29T15:10:56.746662",
     "status": "completed"
    },
    "tags": []
   },
   "outputs": [],
   "source": []
  },
  {
   "cell_type": "code",
   "execution_count": 23,
   "id": "c7fce172",
   "metadata": {
    "_cell_guid": "79aa495a-7580-497c-b913-8941cf7d0c61",
    "_uuid": "b3efe16f-ca61-4000-94d7-568364d0e11b",
    "collapsed": false,
    "execution": {
     "iopub.execute_input": "2023-10-29T15:10:56.798715Z",
     "iopub.status.busy": "2023-10-29T15:10:56.797958Z",
     "iopub.status.idle": "2023-10-29T15:10:56.802520Z",
     "shell.execute_reply": "2023-10-29T15:10:56.801431Z"
    },
    "jupyter": {
     "outputs_hidden": false
    },
    "papermill": {
     "duration": 0.024918,
     "end_time": "2023-10-29T15:10:56.805281",
     "exception": false,
     "start_time": "2023-10-29T15:10:56.780363",
     "status": "completed"
    },
    "tags": []
   },
   "outputs": [],
   "source": [
    "# Assuming X_test for predict\n",
    "#ensemble_predictions = ensemble_predict(model_paths, df_test, mlflow_client)"
   ]
  },
  {
   "cell_type": "code",
   "execution_count": 24,
   "id": "dc5fbd50",
   "metadata": {
    "_cell_guid": "d4bfb979-2758-4fe9-8947-399b1c3a574c",
    "_uuid": "bef1a199-0988-4743-813e-99d4308fc9bb",
    "collapsed": false,
    "execution": {
     "iopub.execute_input": "2023-10-29T15:10:56.840671Z",
     "iopub.status.busy": "2023-10-29T15:10:56.839792Z",
     "iopub.status.idle": "2023-10-29T15:10:56.865880Z",
     "shell.execute_reply": "2023-10-29T15:10:56.864451Z"
    },
    "jupyter": {
     "outputs_hidden": false
    },
    "papermill": {
     "duration": 0.047646,
     "end_time": "2023-10-29T15:10:56.869212",
     "exception": false,
     "start_time": "2023-10-29T15:10:56.821566",
     "status": "completed"
    },
    "tags": []
   },
   "outputs": [],
   "source": [
    "import optiver2023\n",
    "\n",
    "env = optiver2023.make_env()\n",
    "iter_test = env.iter_test()"
   ]
  },
  {
   "cell_type": "code",
   "execution_count": null,
   "id": "e900c4fd",
   "metadata": {
    "papermill": {
     "duration": 0.016092,
     "end_time": "2023-10-29T15:10:56.902581",
     "exception": false,
     "start_time": "2023-10-29T15:10:56.886489",
     "status": "completed"
    },
    "tags": []
   },
   "outputs": [],
   "source": []
  },
  {
   "cell_type": "code",
   "execution_count": 25,
   "id": "02ba3044",
   "metadata": {
    "_cell_guid": "d30f3862-dca2-4242-9db0-ab9750118622",
    "_uuid": "efd9073c-aaef-4135-bf7c-1e892e9aa831",
    "collapsed": false,
    "execution": {
     "iopub.execute_input": "2023-10-29T15:10:56.938940Z",
     "iopub.status.busy": "2023-10-29T15:10:56.938174Z",
     "iopub.status.idle": "2023-10-29T15:12:02.407336Z",
     "shell.execute_reply": "2023-10-29T15:12:02.406035Z"
    },
    "jupyter": {
     "outputs_hidden": false
    },
    "papermill": {
     "duration": 65.490842,
     "end_time": "2023-10-29T15:12:02.410562",
     "exception": false,
     "start_time": "2023-10-29T15:10:56.919720",
     "status": "completed"
    },
    "tags": []
   },
   "outputs": [
    {
     "name": "stdout",
     "output_type": "stream",
     "text": [
      "This version of the API is not optimized and should not be used to estimate the runtime of your code on the hidden test set.\n"
     ]
    },
    {
     "name": "stderr",
     "output_type": "stream",
     "text": [
      "/tmp/ipykernel_20/201834297.py:108: DeprecationWarning: `groupby` is deprecated. It has been renamed to `group_by`.\n",
      "  group_by_market = df.groupby([\"date_id\", \"seconds_in_bucket\"]).agg(\n",
      "/tmp/ipykernel_20/201834297.py:108: DeprecationWarning: `groupby` is deprecated. It has been renamed to `group_by`.\n",
      "  group_by_market = df.groupby([\"date_id\", \"seconds_in_bucket\"]).agg(\n",
      "/tmp/ipykernel_20/201834297.py:108: DeprecationWarning: `groupby` is deprecated. It has been renamed to `group_by`.\n",
      "  group_by_market = df.groupby([\"date_id\", \"seconds_in_bucket\"]).agg(\n",
      "/tmp/ipykernel_20/201834297.py:108: DeprecationWarning: `groupby` is deprecated. It has been renamed to `group_by`.\n",
      "  group_by_market = df.groupby([\"date_id\", \"seconds_in_bucket\"]).agg(\n",
      "/tmp/ipykernel_20/201834297.py:108: DeprecationWarning: `groupby` is deprecated. It has been renamed to `group_by`.\n",
      "  group_by_market = df.groupby([\"date_id\", \"seconds_in_bucket\"]).agg(\n",
      "/tmp/ipykernel_20/201834297.py:108: DeprecationWarning: `groupby` is deprecated. It has been renamed to `group_by`.\n",
      "  group_by_market = df.groupby([\"date_id\", \"seconds_in_bucket\"]).agg(\n",
      "/tmp/ipykernel_20/201834297.py:108: DeprecationWarning: `groupby` is deprecated. It has been renamed to `group_by`.\n",
      "  group_by_market = df.groupby([\"date_id\", \"seconds_in_bucket\"]).agg(\n",
      "/tmp/ipykernel_20/201834297.py:108: DeprecationWarning: `groupby` is deprecated. It has been renamed to `group_by`.\n",
      "  group_by_market = df.groupby([\"date_id\", \"seconds_in_bucket\"]).agg(\n",
      "/tmp/ipykernel_20/201834297.py:108: DeprecationWarning: `groupby` is deprecated. It has been renamed to `group_by`.\n",
      "  group_by_market = df.groupby([\"date_id\", \"seconds_in_bucket\"]).agg(\n",
      "/tmp/ipykernel_20/201834297.py:108: DeprecationWarning: `groupby` is deprecated. It has been renamed to `group_by`.\n",
      "  group_by_market = df.groupby([\"date_id\", \"seconds_in_bucket\"]).agg(\n",
      "/tmp/ipykernel_20/201834297.py:108: DeprecationWarning: `groupby` is deprecated. It has been renamed to `group_by`.\n",
      "  group_by_market = df.groupby([\"date_id\", \"seconds_in_bucket\"]).agg(\n",
      "/tmp/ipykernel_20/201834297.py:108: DeprecationWarning: `groupby` is deprecated. It has been renamed to `group_by`.\n",
      "  group_by_market = df.groupby([\"date_id\", \"seconds_in_bucket\"]).agg(\n",
      "/tmp/ipykernel_20/201834297.py:108: DeprecationWarning: `groupby` is deprecated. It has been renamed to `group_by`.\n",
      "  group_by_market = df.groupby([\"date_id\", \"seconds_in_bucket\"]).agg(\n",
      "/tmp/ipykernel_20/201834297.py:108: DeprecationWarning: `groupby` is deprecated. It has been renamed to `group_by`.\n",
      "  group_by_market = df.groupby([\"date_id\", \"seconds_in_bucket\"]).agg(\n",
      "/tmp/ipykernel_20/201834297.py:108: DeprecationWarning: `groupby` is deprecated. It has been renamed to `group_by`.\n",
      "  group_by_market = df.groupby([\"date_id\", \"seconds_in_bucket\"]).agg(\n",
      "/tmp/ipykernel_20/201834297.py:108: DeprecationWarning: `groupby` is deprecated. It has been renamed to `group_by`.\n",
      "  group_by_market = df.groupby([\"date_id\", \"seconds_in_bucket\"]).agg(\n",
      "/tmp/ipykernel_20/201834297.py:108: DeprecationWarning: `groupby` is deprecated. It has been renamed to `group_by`.\n",
      "  group_by_market = df.groupby([\"date_id\", \"seconds_in_bucket\"]).agg(\n",
      "/tmp/ipykernel_20/201834297.py:108: DeprecationWarning: `groupby` is deprecated. It has been renamed to `group_by`.\n",
      "  group_by_market = df.groupby([\"date_id\", \"seconds_in_bucket\"]).agg(\n",
      "/tmp/ipykernel_20/201834297.py:108: DeprecationWarning: `groupby` is deprecated. It has been renamed to `group_by`.\n",
      "  group_by_market = df.groupby([\"date_id\", \"seconds_in_bucket\"]).agg(\n",
      "/tmp/ipykernel_20/201834297.py:108: DeprecationWarning: `groupby` is deprecated. It has been renamed to `group_by`.\n",
      "  group_by_market = df.groupby([\"date_id\", \"seconds_in_bucket\"]).agg(\n",
      "/tmp/ipykernel_20/201834297.py:108: DeprecationWarning: `groupby` is deprecated. It has been renamed to `group_by`.\n",
      "  group_by_market = df.groupby([\"date_id\", \"seconds_in_bucket\"]).agg(\n",
      "/tmp/ipykernel_20/201834297.py:108: DeprecationWarning: `groupby` is deprecated. It has been renamed to `group_by`.\n",
      "  group_by_market = df.groupby([\"date_id\", \"seconds_in_bucket\"]).agg(\n",
      "/tmp/ipykernel_20/201834297.py:108: DeprecationWarning: `groupby` is deprecated. It has been renamed to `group_by`.\n",
      "  group_by_market = df.groupby([\"date_id\", \"seconds_in_bucket\"]).agg(\n",
      "/tmp/ipykernel_20/201834297.py:108: DeprecationWarning: `groupby` is deprecated. It has been renamed to `group_by`.\n",
      "  group_by_market = df.groupby([\"date_id\", \"seconds_in_bucket\"]).agg(\n",
      "/tmp/ipykernel_20/201834297.py:108: DeprecationWarning: `groupby` is deprecated. It has been renamed to `group_by`.\n",
      "  group_by_market = df.groupby([\"date_id\", \"seconds_in_bucket\"]).agg(\n",
      "/tmp/ipykernel_20/201834297.py:108: DeprecationWarning: `groupby` is deprecated. It has been renamed to `group_by`.\n",
      "  group_by_market = df.groupby([\"date_id\", \"seconds_in_bucket\"]).agg(\n",
      "/tmp/ipykernel_20/201834297.py:108: DeprecationWarning: `groupby` is deprecated. It has been renamed to `group_by`.\n",
      "  group_by_market = df.groupby([\"date_id\", \"seconds_in_bucket\"]).agg(\n",
      "/tmp/ipykernel_20/201834297.py:108: DeprecationWarning: `groupby` is deprecated. It has been renamed to `group_by`.\n",
      "  group_by_market = df.groupby([\"date_id\", \"seconds_in_bucket\"]).agg(\n",
      "/tmp/ipykernel_20/201834297.py:108: DeprecationWarning: `groupby` is deprecated. It has been renamed to `group_by`.\n",
      "  group_by_market = df.groupby([\"date_id\", \"seconds_in_bucket\"]).agg(\n",
      "/tmp/ipykernel_20/201834297.py:108: DeprecationWarning: `groupby` is deprecated. It has been renamed to `group_by`.\n",
      "  group_by_market = df.groupby([\"date_id\", \"seconds_in_bucket\"]).agg(\n",
      "/tmp/ipykernel_20/201834297.py:108: DeprecationWarning: `groupby` is deprecated. It has been renamed to `group_by`.\n",
      "  group_by_market = df.groupby([\"date_id\", \"seconds_in_bucket\"]).agg(\n",
      "/tmp/ipykernel_20/201834297.py:108: DeprecationWarning: `groupby` is deprecated. It has been renamed to `group_by`.\n",
      "  group_by_market = df.groupby([\"date_id\", \"seconds_in_bucket\"]).agg(\n",
      "/tmp/ipykernel_20/201834297.py:108: DeprecationWarning: `groupby` is deprecated. It has been renamed to `group_by`.\n",
      "  group_by_market = df.groupby([\"date_id\", \"seconds_in_bucket\"]).agg(\n",
      "/tmp/ipykernel_20/201834297.py:108: DeprecationWarning: `groupby` is deprecated. It has been renamed to `group_by`.\n",
      "  group_by_market = df.groupby([\"date_id\", \"seconds_in_bucket\"]).agg(\n",
      "/tmp/ipykernel_20/201834297.py:108: DeprecationWarning: `groupby` is deprecated. It has been renamed to `group_by`.\n",
      "  group_by_market = df.groupby([\"date_id\", \"seconds_in_bucket\"]).agg(\n",
      "/tmp/ipykernel_20/201834297.py:108: DeprecationWarning: `groupby` is deprecated. It has been renamed to `group_by`.\n",
      "  group_by_market = df.groupby([\"date_id\", \"seconds_in_bucket\"]).agg(\n",
      "/tmp/ipykernel_20/201834297.py:108: DeprecationWarning: `groupby` is deprecated. It has been renamed to `group_by`.\n",
      "  group_by_market = df.groupby([\"date_id\", \"seconds_in_bucket\"]).agg(\n",
      "/tmp/ipykernel_20/201834297.py:108: DeprecationWarning: `groupby` is deprecated. It has been renamed to `group_by`.\n",
      "  group_by_market = df.groupby([\"date_id\", \"seconds_in_bucket\"]).agg(\n",
      "/tmp/ipykernel_20/201834297.py:108: DeprecationWarning: `groupby` is deprecated. It has been renamed to `group_by`.\n",
      "  group_by_market = df.groupby([\"date_id\", \"seconds_in_bucket\"]).agg(\n",
      "/tmp/ipykernel_20/201834297.py:108: DeprecationWarning: `groupby` is deprecated. It has been renamed to `group_by`.\n",
      "  group_by_market = df.groupby([\"date_id\", \"seconds_in_bucket\"]).agg(\n",
      "/tmp/ipykernel_20/201834297.py:108: DeprecationWarning: `groupby` is deprecated. It has been renamed to `group_by`.\n",
      "  group_by_market = df.groupby([\"date_id\", \"seconds_in_bucket\"]).agg(\n",
      "/tmp/ipykernel_20/201834297.py:108: DeprecationWarning: `groupby` is deprecated. It has been renamed to `group_by`.\n",
      "  group_by_market = df.groupby([\"date_id\", \"seconds_in_bucket\"]).agg(\n",
      "/tmp/ipykernel_20/201834297.py:108: DeprecationWarning: `groupby` is deprecated. It has been renamed to `group_by`.\n",
      "  group_by_market = df.groupby([\"date_id\", \"seconds_in_bucket\"]).agg(\n",
      "/tmp/ipykernel_20/201834297.py:108: DeprecationWarning: `groupby` is deprecated. It has been renamed to `group_by`.\n",
      "  group_by_market = df.groupby([\"date_id\", \"seconds_in_bucket\"]).agg(\n",
      "/tmp/ipykernel_20/201834297.py:108: DeprecationWarning: `groupby` is deprecated. It has been renamed to `group_by`.\n",
      "  group_by_market = df.groupby([\"date_id\", \"seconds_in_bucket\"]).agg(\n",
      "/tmp/ipykernel_20/201834297.py:108: DeprecationWarning: `groupby` is deprecated. It has been renamed to `group_by`.\n",
      "  group_by_market = df.groupby([\"date_id\", \"seconds_in_bucket\"]).agg(\n",
      "/tmp/ipykernel_20/201834297.py:108: DeprecationWarning: `groupby` is deprecated. It has been renamed to `group_by`.\n",
      "  group_by_market = df.groupby([\"date_id\", \"seconds_in_bucket\"]).agg(\n",
      "/tmp/ipykernel_20/201834297.py:108: DeprecationWarning: `groupby` is deprecated. It has been renamed to `group_by`.\n",
      "  group_by_market = df.groupby([\"date_id\", \"seconds_in_bucket\"]).agg(\n",
      "/tmp/ipykernel_20/201834297.py:108: DeprecationWarning: `groupby` is deprecated. It has been renamed to `group_by`.\n",
      "  group_by_market = df.groupby([\"date_id\", \"seconds_in_bucket\"]).agg(\n",
      "/tmp/ipykernel_20/201834297.py:108: DeprecationWarning: `groupby` is deprecated. It has been renamed to `group_by`.\n",
      "  group_by_market = df.groupby([\"date_id\", \"seconds_in_bucket\"]).agg(\n",
      "/tmp/ipykernel_20/201834297.py:108: DeprecationWarning: `groupby` is deprecated. It has been renamed to `group_by`.\n",
      "  group_by_market = df.groupby([\"date_id\", \"seconds_in_bucket\"]).agg(\n",
      "/tmp/ipykernel_20/201834297.py:108: DeprecationWarning: `groupby` is deprecated. It has been renamed to `group_by`.\n",
      "  group_by_market = df.groupby([\"date_id\", \"seconds_in_bucket\"]).agg(\n",
      "/tmp/ipykernel_20/201834297.py:108: DeprecationWarning: `groupby` is deprecated. It has been renamed to `group_by`.\n",
      "  group_by_market = df.groupby([\"date_id\", \"seconds_in_bucket\"]).agg(\n",
      "/tmp/ipykernel_20/201834297.py:108: DeprecationWarning: `groupby` is deprecated. It has been renamed to `group_by`.\n",
      "  group_by_market = df.groupby([\"date_id\", \"seconds_in_bucket\"]).agg(\n",
      "/tmp/ipykernel_20/201834297.py:108: DeprecationWarning: `groupby` is deprecated. It has been renamed to `group_by`.\n",
      "  group_by_market = df.groupby([\"date_id\", \"seconds_in_bucket\"]).agg(\n",
      "/tmp/ipykernel_20/201834297.py:108: DeprecationWarning: `groupby` is deprecated. It has been renamed to `group_by`.\n",
      "  group_by_market = df.groupby([\"date_id\", \"seconds_in_bucket\"]).agg(\n",
      "/tmp/ipykernel_20/201834297.py:108: DeprecationWarning: `groupby` is deprecated. It has been renamed to `group_by`.\n",
      "  group_by_market = df.groupby([\"date_id\", \"seconds_in_bucket\"]).agg(\n",
      "/tmp/ipykernel_20/201834297.py:108: DeprecationWarning: `groupby` is deprecated. It has been renamed to `group_by`.\n",
      "  group_by_market = df.groupby([\"date_id\", \"seconds_in_bucket\"]).agg(\n",
      "/tmp/ipykernel_20/201834297.py:108: DeprecationWarning: `groupby` is deprecated. It has been renamed to `group_by`.\n",
      "  group_by_market = df.groupby([\"date_id\", \"seconds_in_bucket\"]).agg(\n",
      "/tmp/ipykernel_20/201834297.py:108: DeprecationWarning: `groupby` is deprecated. It has been renamed to `group_by`.\n",
      "  group_by_market = df.groupby([\"date_id\", \"seconds_in_bucket\"]).agg(\n",
      "/tmp/ipykernel_20/201834297.py:108: DeprecationWarning: `groupby` is deprecated. It has been renamed to `group_by`.\n",
      "  group_by_market = df.groupby([\"date_id\", \"seconds_in_bucket\"]).agg(\n",
      "/tmp/ipykernel_20/201834297.py:108: DeprecationWarning: `groupby` is deprecated. It has been renamed to `group_by`.\n",
      "  group_by_market = df.groupby([\"date_id\", \"seconds_in_bucket\"]).agg(\n",
      "/tmp/ipykernel_20/201834297.py:108: DeprecationWarning: `groupby` is deprecated. It has been renamed to `group_by`.\n",
      "  group_by_market = df.groupby([\"date_id\", \"seconds_in_bucket\"]).agg(\n",
      "/tmp/ipykernel_20/201834297.py:108: DeprecationWarning: `groupby` is deprecated. It has been renamed to `group_by`.\n",
      "  group_by_market = df.groupby([\"date_id\", \"seconds_in_bucket\"]).agg(\n",
      "/tmp/ipykernel_20/201834297.py:108: DeprecationWarning: `groupby` is deprecated. It has been renamed to `group_by`.\n",
      "  group_by_market = df.groupby([\"date_id\", \"seconds_in_bucket\"]).agg(\n",
      "/tmp/ipykernel_20/201834297.py:108: DeprecationWarning: `groupby` is deprecated. It has been renamed to `group_by`.\n",
      "  group_by_market = df.groupby([\"date_id\", \"seconds_in_bucket\"]).agg(\n",
      "/tmp/ipykernel_20/201834297.py:108: DeprecationWarning: `groupby` is deprecated. It has been renamed to `group_by`.\n",
      "  group_by_market = df.groupby([\"date_id\", \"seconds_in_bucket\"]).agg(\n",
      "/tmp/ipykernel_20/201834297.py:108: DeprecationWarning: `groupby` is deprecated. It has been renamed to `group_by`.\n",
      "  group_by_market = df.groupby([\"date_id\", \"seconds_in_bucket\"]).agg(\n",
      "/tmp/ipykernel_20/201834297.py:108: DeprecationWarning: `groupby` is deprecated. It has been renamed to `group_by`.\n",
      "  group_by_market = df.groupby([\"date_id\", \"seconds_in_bucket\"]).agg(\n",
      "/tmp/ipykernel_20/201834297.py:108: DeprecationWarning: `groupby` is deprecated. It has been renamed to `group_by`.\n",
      "  group_by_market = df.groupby([\"date_id\", \"seconds_in_bucket\"]).agg(\n",
      "/tmp/ipykernel_20/201834297.py:108: DeprecationWarning: `groupby` is deprecated. It has been renamed to `group_by`.\n",
      "  group_by_market = df.groupby([\"date_id\", \"seconds_in_bucket\"]).agg(\n",
      "/tmp/ipykernel_20/201834297.py:108: DeprecationWarning: `groupby` is deprecated. It has been renamed to `group_by`.\n",
      "  group_by_market = df.groupby([\"date_id\", \"seconds_in_bucket\"]).agg(\n",
      "/tmp/ipykernel_20/201834297.py:108: DeprecationWarning: `groupby` is deprecated. It has been renamed to `group_by`.\n",
      "  group_by_market = df.groupby([\"date_id\", \"seconds_in_bucket\"]).agg(\n",
      "/tmp/ipykernel_20/201834297.py:108: DeprecationWarning: `groupby` is deprecated. It has been renamed to `group_by`.\n",
      "  group_by_market = df.groupby([\"date_id\", \"seconds_in_bucket\"]).agg(\n",
      "/tmp/ipykernel_20/201834297.py:108: DeprecationWarning: `groupby` is deprecated. It has been renamed to `group_by`.\n",
      "  group_by_market = df.groupby([\"date_id\", \"seconds_in_bucket\"]).agg(\n",
      "/tmp/ipykernel_20/201834297.py:108: DeprecationWarning: `groupby` is deprecated. It has been renamed to `group_by`.\n",
      "  group_by_market = df.groupby([\"date_id\", \"seconds_in_bucket\"]).agg(\n",
      "/tmp/ipykernel_20/201834297.py:108: DeprecationWarning: `groupby` is deprecated. It has been renamed to `group_by`.\n",
      "  group_by_market = df.groupby([\"date_id\", \"seconds_in_bucket\"]).agg(\n",
      "/tmp/ipykernel_20/201834297.py:108: DeprecationWarning: `groupby` is deprecated. It has been renamed to `group_by`.\n",
      "  group_by_market = df.groupby([\"date_id\", \"seconds_in_bucket\"]).agg(\n",
      "/tmp/ipykernel_20/201834297.py:108: DeprecationWarning: `groupby` is deprecated. It has been renamed to `group_by`.\n",
      "  group_by_market = df.groupby([\"date_id\", \"seconds_in_bucket\"]).agg(\n",
      "/tmp/ipykernel_20/201834297.py:108: DeprecationWarning: `groupby` is deprecated. It has been renamed to `group_by`.\n",
      "  group_by_market = df.groupby([\"date_id\", \"seconds_in_bucket\"]).agg(\n",
      "/tmp/ipykernel_20/201834297.py:108: DeprecationWarning: `groupby` is deprecated. It has been renamed to `group_by`.\n",
      "  group_by_market = df.groupby([\"date_id\", \"seconds_in_bucket\"]).agg(\n",
      "/tmp/ipykernel_20/201834297.py:108: DeprecationWarning: `groupby` is deprecated. It has been renamed to `group_by`.\n",
      "  group_by_market = df.groupby([\"date_id\", \"seconds_in_bucket\"]).agg(\n",
      "/tmp/ipykernel_20/201834297.py:108: DeprecationWarning: `groupby` is deprecated. It has been renamed to `group_by`.\n",
      "  group_by_market = df.groupby([\"date_id\", \"seconds_in_bucket\"]).agg(\n",
      "/tmp/ipykernel_20/201834297.py:108: DeprecationWarning: `groupby` is deprecated. It has been renamed to `group_by`.\n",
      "  group_by_market = df.groupby([\"date_id\", \"seconds_in_bucket\"]).agg(\n",
      "/tmp/ipykernel_20/201834297.py:108: DeprecationWarning: `groupby` is deprecated. It has been renamed to `group_by`.\n",
      "  group_by_market = df.groupby([\"date_id\", \"seconds_in_bucket\"]).agg(\n",
      "/tmp/ipykernel_20/201834297.py:108: DeprecationWarning: `groupby` is deprecated. It has been renamed to `group_by`.\n",
      "  group_by_market = df.groupby([\"date_id\", \"seconds_in_bucket\"]).agg(\n",
      "/tmp/ipykernel_20/201834297.py:108: DeprecationWarning: `groupby` is deprecated. It has been renamed to `group_by`.\n",
      "  group_by_market = df.groupby([\"date_id\", \"seconds_in_bucket\"]).agg(\n",
      "/tmp/ipykernel_20/201834297.py:108: DeprecationWarning: `groupby` is deprecated. It has been renamed to `group_by`.\n",
      "  group_by_market = df.groupby([\"date_id\", \"seconds_in_bucket\"]).agg(\n",
      "/tmp/ipykernel_20/201834297.py:108: DeprecationWarning: `groupby` is deprecated. It has been renamed to `group_by`.\n",
      "  group_by_market = df.groupby([\"date_id\", \"seconds_in_bucket\"]).agg(\n",
      "/tmp/ipykernel_20/201834297.py:108: DeprecationWarning: `groupby` is deprecated. It has been renamed to `group_by`.\n",
      "  group_by_market = df.groupby([\"date_id\", \"seconds_in_bucket\"]).agg(\n",
      "/tmp/ipykernel_20/201834297.py:108: DeprecationWarning: `groupby` is deprecated. It has been renamed to `group_by`.\n",
      "  group_by_market = df.groupby([\"date_id\", \"seconds_in_bucket\"]).agg(\n",
      "/tmp/ipykernel_20/201834297.py:108: DeprecationWarning: `groupby` is deprecated. It has been renamed to `group_by`.\n",
      "  group_by_market = df.groupby([\"date_id\", \"seconds_in_bucket\"]).agg(\n",
      "/tmp/ipykernel_20/201834297.py:108: DeprecationWarning: `groupby` is deprecated. It has been renamed to `group_by`.\n",
      "  group_by_market = df.groupby([\"date_id\", \"seconds_in_bucket\"]).agg(\n",
      "/tmp/ipykernel_20/201834297.py:108: DeprecationWarning: `groupby` is deprecated. It has been renamed to `group_by`.\n",
      "  group_by_market = df.groupby([\"date_id\", \"seconds_in_bucket\"]).agg(\n",
      "/tmp/ipykernel_20/201834297.py:108: DeprecationWarning: `groupby` is deprecated. It has been renamed to `group_by`.\n",
      "  group_by_market = df.groupby([\"date_id\", \"seconds_in_bucket\"]).agg(\n",
      "/tmp/ipykernel_20/201834297.py:108: DeprecationWarning: `groupby` is deprecated. It has been renamed to `group_by`.\n",
      "  group_by_market = df.groupby([\"date_id\", \"seconds_in_bucket\"]).agg(\n",
      "/tmp/ipykernel_20/201834297.py:108: DeprecationWarning: `groupby` is deprecated. It has been renamed to `group_by`.\n",
      "  group_by_market = df.groupby([\"date_id\", \"seconds_in_bucket\"]).agg(\n",
      "/tmp/ipykernel_20/201834297.py:108: DeprecationWarning: `groupby` is deprecated. It has been renamed to `group_by`.\n",
      "  group_by_market = df.groupby([\"date_id\", \"seconds_in_bucket\"]).agg(\n",
      "/tmp/ipykernel_20/201834297.py:108: DeprecationWarning: `groupby` is deprecated. It has been renamed to `group_by`.\n",
      "  group_by_market = df.groupby([\"date_id\", \"seconds_in_bucket\"]).agg(\n",
      "/tmp/ipykernel_20/201834297.py:108: DeprecationWarning: `groupby` is deprecated. It has been renamed to `group_by`.\n",
      "  group_by_market = df.groupby([\"date_id\", \"seconds_in_bucket\"]).agg(\n",
      "/tmp/ipykernel_20/201834297.py:108: DeprecationWarning: `groupby` is deprecated. It has been renamed to `group_by`.\n",
      "  group_by_market = df.groupby([\"date_id\", \"seconds_in_bucket\"]).agg(\n",
      "/tmp/ipykernel_20/201834297.py:108: DeprecationWarning: `groupby` is deprecated. It has been renamed to `group_by`.\n",
      "  group_by_market = df.groupby([\"date_id\", \"seconds_in_bucket\"]).agg(\n",
      "/tmp/ipykernel_20/201834297.py:108: DeprecationWarning: `groupby` is deprecated. It has been renamed to `group_by`.\n",
      "  group_by_market = df.groupby([\"date_id\", \"seconds_in_bucket\"]).agg(\n",
      "/tmp/ipykernel_20/201834297.py:108: DeprecationWarning: `groupby` is deprecated. It has been renamed to `group_by`.\n",
      "  group_by_market = df.groupby([\"date_id\", \"seconds_in_bucket\"]).agg(\n",
      "/tmp/ipykernel_20/201834297.py:108: DeprecationWarning: `groupby` is deprecated. It has been renamed to `group_by`.\n",
      "  group_by_market = df.groupby([\"date_id\", \"seconds_in_bucket\"]).agg(\n",
      "/tmp/ipykernel_20/201834297.py:108: DeprecationWarning: `groupby` is deprecated. It has been renamed to `group_by`.\n",
      "  group_by_market = df.groupby([\"date_id\", \"seconds_in_bucket\"]).agg(\n",
      "/tmp/ipykernel_20/201834297.py:108: DeprecationWarning: `groupby` is deprecated. It has been renamed to `group_by`.\n",
      "  group_by_market = df.groupby([\"date_id\", \"seconds_in_bucket\"]).agg(\n",
      "/tmp/ipykernel_20/201834297.py:108: DeprecationWarning: `groupby` is deprecated. It has been renamed to `group_by`.\n",
      "  group_by_market = df.groupby([\"date_id\", \"seconds_in_bucket\"]).agg(\n",
      "/tmp/ipykernel_20/201834297.py:108: DeprecationWarning: `groupby` is deprecated. It has been renamed to `group_by`.\n",
      "  group_by_market = df.groupby([\"date_id\", \"seconds_in_bucket\"]).agg(\n",
      "/tmp/ipykernel_20/201834297.py:108: DeprecationWarning: `groupby` is deprecated. It has been renamed to `group_by`.\n",
      "  group_by_market = df.groupby([\"date_id\", \"seconds_in_bucket\"]).agg(\n",
      "/tmp/ipykernel_20/201834297.py:108: DeprecationWarning: `groupby` is deprecated. It has been renamed to `group_by`.\n",
      "  group_by_market = df.groupby([\"date_id\", \"seconds_in_bucket\"]).agg(\n",
      "/tmp/ipykernel_20/201834297.py:108: DeprecationWarning: `groupby` is deprecated. It has been renamed to `group_by`.\n",
      "  group_by_market = df.groupby([\"date_id\", \"seconds_in_bucket\"]).agg(\n",
      "/tmp/ipykernel_20/201834297.py:108: DeprecationWarning: `groupby` is deprecated. It has been renamed to `group_by`.\n",
      "  group_by_market = df.groupby([\"date_id\", \"seconds_in_bucket\"]).agg(\n",
      "/tmp/ipykernel_20/201834297.py:108: DeprecationWarning: `groupby` is deprecated. It has been renamed to `group_by`.\n",
      "  group_by_market = df.groupby([\"date_id\", \"seconds_in_bucket\"]).agg(\n",
      "/tmp/ipykernel_20/201834297.py:108: DeprecationWarning: `groupby` is deprecated. It has been renamed to `group_by`.\n",
      "  group_by_market = df.groupby([\"date_id\", \"seconds_in_bucket\"]).agg(\n",
      "/tmp/ipykernel_20/201834297.py:108: DeprecationWarning: `groupby` is deprecated. It has been renamed to `group_by`.\n",
      "  group_by_market = df.groupby([\"date_id\", \"seconds_in_bucket\"]).agg(\n",
      "/tmp/ipykernel_20/201834297.py:108: DeprecationWarning: `groupby` is deprecated. It has been renamed to `group_by`.\n",
      "  group_by_market = df.groupby([\"date_id\", \"seconds_in_bucket\"]).agg(\n",
      "/tmp/ipykernel_20/201834297.py:108: DeprecationWarning: `groupby` is deprecated. It has been renamed to `group_by`.\n",
      "  group_by_market = df.groupby([\"date_id\", \"seconds_in_bucket\"]).agg(\n",
      "/tmp/ipykernel_20/201834297.py:108: DeprecationWarning: `groupby` is deprecated. It has been renamed to `group_by`.\n",
      "  group_by_market = df.groupby([\"date_id\", \"seconds_in_bucket\"]).agg(\n",
      "/tmp/ipykernel_20/201834297.py:108: DeprecationWarning: `groupby` is deprecated. It has been renamed to `group_by`.\n",
      "  group_by_market = df.groupby([\"date_id\", \"seconds_in_bucket\"]).agg(\n",
      "/tmp/ipykernel_20/201834297.py:108: DeprecationWarning: `groupby` is deprecated. It has been renamed to `group_by`.\n",
      "  group_by_market = df.groupby([\"date_id\", \"seconds_in_bucket\"]).agg(\n",
      "/tmp/ipykernel_20/201834297.py:108: DeprecationWarning: `groupby` is deprecated. It has been renamed to `group_by`.\n",
      "  group_by_market = df.groupby([\"date_id\", \"seconds_in_bucket\"]).agg(\n",
      "/tmp/ipykernel_20/201834297.py:108: DeprecationWarning: `groupby` is deprecated. It has been renamed to `group_by`.\n",
      "  group_by_market = df.groupby([\"date_id\", \"seconds_in_bucket\"]).agg(\n",
      "/tmp/ipykernel_20/201834297.py:108: DeprecationWarning: `groupby` is deprecated. It has been renamed to `group_by`.\n",
      "  group_by_market = df.groupby([\"date_id\", \"seconds_in_bucket\"]).agg(\n",
      "/tmp/ipykernel_20/201834297.py:108: DeprecationWarning: `groupby` is deprecated. It has been renamed to `group_by`.\n",
      "  group_by_market = df.groupby([\"date_id\", \"seconds_in_bucket\"]).agg(\n",
      "/tmp/ipykernel_20/201834297.py:108: DeprecationWarning: `groupby` is deprecated. It has been renamed to `group_by`.\n",
      "  group_by_market = df.groupby([\"date_id\", \"seconds_in_bucket\"]).agg(\n",
      "/tmp/ipykernel_20/201834297.py:108: DeprecationWarning: `groupby` is deprecated. It has been renamed to `group_by`.\n",
      "  group_by_market = df.groupby([\"date_id\", \"seconds_in_bucket\"]).agg(\n",
      "/tmp/ipykernel_20/201834297.py:108: DeprecationWarning: `groupby` is deprecated. It has been renamed to `group_by`.\n",
      "  group_by_market = df.groupby([\"date_id\", \"seconds_in_bucket\"]).agg(\n",
      "/tmp/ipykernel_20/201834297.py:108: DeprecationWarning: `groupby` is deprecated. It has been renamed to `group_by`.\n",
      "  group_by_market = df.groupby([\"date_id\", \"seconds_in_bucket\"]).agg(\n",
      "/tmp/ipykernel_20/201834297.py:108: DeprecationWarning: `groupby` is deprecated. It has been renamed to `group_by`.\n",
      "  group_by_market = df.groupby([\"date_id\", \"seconds_in_bucket\"]).agg(\n",
      "/tmp/ipykernel_20/201834297.py:108: DeprecationWarning: `groupby` is deprecated. It has been renamed to `group_by`.\n",
      "  group_by_market = df.groupby([\"date_id\", \"seconds_in_bucket\"]).agg(\n",
      "/tmp/ipykernel_20/201834297.py:108: DeprecationWarning: `groupby` is deprecated. It has been renamed to `group_by`.\n",
      "  group_by_market = df.groupby([\"date_id\", \"seconds_in_bucket\"]).agg(\n",
      "/tmp/ipykernel_20/201834297.py:108: DeprecationWarning: `groupby` is deprecated. It has been renamed to `group_by`.\n",
      "  group_by_market = df.groupby([\"date_id\", \"seconds_in_bucket\"]).agg(\n",
      "/tmp/ipykernel_20/201834297.py:108: DeprecationWarning: `groupby` is deprecated. It has been renamed to `group_by`.\n",
      "  group_by_market = df.groupby([\"date_id\", \"seconds_in_bucket\"]).agg(\n",
      "/tmp/ipykernel_20/201834297.py:108: DeprecationWarning: `groupby` is deprecated. It has been renamed to `group_by`.\n",
      "  group_by_market = df.groupby([\"date_id\", \"seconds_in_bucket\"]).agg(\n",
      "/tmp/ipykernel_20/201834297.py:108: DeprecationWarning: `groupby` is deprecated. It has been renamed to `group_by`.\n",
      "  group_by_market = df.groupby([\"date_id\", \"seconds_in_bucket\"]).agg(\n",
      "/tmp/ipykernel_20/201834297.py:108: DeprecationWarning: `groupby` is deprecated. It has been renamed to `group_by`.\n",
      "  group_by_market = df.groupby([\"date_id\", \"seconds_in_bucket\"]).agg(\n",
      "/tmp/ipykernel_20/201834297.py:108: DeprecationWarning: `groupby` is deprecated. It has been renamed to `group_by`.\n",
      "  group_by_market = df.groupby([\"date_id\", \"seconds_in_bucket\"]).agg(\n",
      "/tmp/ipykernel_20/201834297.py:108: DeprecationWarning: `groupby` is deprecated. It has been renamed to `group_by`.\n",
      "  group_by_market = df.groupby([\"date_id\", \"seconds_in_bucket\"]).agg(\n",
      "/tmp/ipykernel_20/201834297.py:108: DeprecationWarning: `groupby` is deprecated. It has been renamed to `group_by`.\n",
      "  group_by_market = df.groupby([\"date_id\", \"seconds_in_bucket\"]).agg(\n",
      "/tmp/ipykernel_20/201834297.py:108: DeprecationWarning: `groupby` is deprecated. It has been renamed to `group_by`.\n",
      "  group_by_market = df.groupby([\"date_id\", \"seconds_in_bucket\"]).agg(\n",
      "/tmp/ipykernel_20/201834297.py:108: DeprecationWarning: `groupby` is deprecated. It has been renamed to `group_by`.\n",
      "  group_by_market = df.groupby([\"date_id\", \"seconds_in_bucket\"]).agg(\n",
      "/tmp/ipykernel_20/201834297.py:108: DeprecationWarning: `groupby` is deprecated. It has been renamed to `group_by`.\n",
      "  group_by_market = df.groupby([\"date_id\", \"seconds_in_bucket\"]).agg(\n",
      "/tmp/ipykernel_20/201834297.py:108: DeprecationWarning: `groupby` is deprecated. It has been renamed to `group_by`.\n",
      "  group_by_market = df.groupby([\"date_id\", \"seconds_in_bucket\"]).agg(\n",
      "/tmp/ipykernel_20/201834297.py:108: DeprecationWarning: `groupby` is deprecated. It has been renamed to `group_by`.\n",
      "  group_by_market = df.groupby([\"date_id\", \"seconds_in_bucket\"]).agg(\n",
      "/tmp/ipykernel_20/201834297.py:108: DeprecationWarning: `groupby` is deprecated. It has been renamed to `group_by`.\n",
      "  group_by_market = df.groupby([\"date_id\", \"seconds_in_bucket\"]).agg(\n",
      "/tmp/ipykernel_20/201834297.py:108: DeprecationWarning: `groupby` is deprecated. It has been renamed to `group_by`.\n",
      "  group_by_market = df.groupby([\"date_id\", \"seconds_in_bucket\"]).agg(\n",
      "/tmp/ipykernel_20/201834297.py:108: DeprecationWarning: `groupby` is deprecated. It has been renamed to `group_by`.\n",
      "  group_by_market = df.groupby([\"date_id\", \"seconds_in_bucket\"]).agg(\n",
      "/tmp/ipykernel_20/201834297.py:108: DeprecationWarning: `groupby` is deprecated. It has been renamed to `group_by`.\n",
      "  group_by_market = df.groupby([\"date_id\", \"seconds_in_bucket\"]).agg(\n",
      "/tmp/ipykernel_20/201834297.py:108: DeprecationWarning: `groupby` is deprecated. It has been renamed to `group_by`.\n",
      "  group_by_market = df.groupby([\"date_id\", \"seconds_in_bucket\"]).agg(\n",
      "/tmp/ipykernel_20/201834297.py:108: DeprecationWarning: `groupby` is deprecated. It has been renamed to `group_by`.\n",
      "  group_by_market = df.groupby([\"date_id\", \"seconds_in_bucket\"]).agg(\n",
      "/tmp/ipykernel_20/201834297.py:108: DeprecationWarning: `groupby` is deprecated. It has been renamed to `group_by`.\n",
      "  group_by_market = df.groupby([\"date_id\", \"seconds_in_bucket\"]).agg(\n",
      "/tmp/ipykernel_20/201834297.py:108: DeprecationWarning: `groupby` is deprecated. It has been renamed to `group_by`.\n",
      "  group_by_market = df.groupby([\"date_id\", \"seconds_in_bucket\"]).agg(\n",
      "/tmp/ipykernel_20/201834297.py:108: DeprecationWarning: `groupby` is deprecated. It has been renamed to `group_by`.\n",
      "  group_by_market = df.groupby([\"date_id\", \"seconds_in_bucket\"]).agg(\n",
      "/tmp/ipykernel_20/201834297.py:108: DeprecationWarning: `groupby` is deprecated. It has been renamed to `group_by`.\n",
      "  group_by_market = df.groupby([\"date_id\", \"seconds_in_bucket\"]).agg(\n",
      "/tmp/ipykernel_20/201834297.py:108: DeprecationWarning: `groupby` is deprecated. It has been renamed to `group_by`.\n",
      "  group_by_market = df.groupby([\"date_id\", \"seconds_in_bucket\"]).agg(\n",
      "/tmp/ipykernel_20/201834297.py:108: DeprecationWarning: `groupby` is deprecated. It has been renamed to `group_by`.\n",
      "  group_by_market = df.groupby([\"date_id\", \"seconds_in_bucket\"]).agg(\n",
      "/tmp/ipykernel_20/201834297.py:108: DeprecationWarning: `groupby` is deprecated. It has been renamed to `group_by`.\n",
      "  group_by_market = df.groupby([\"date_id\", \"seconds_in_bucket\"]).agg(\n",
      "/tmp/ipykernel_20/201834297.py:108: DeprecationWarning: `groupby` is deprecated. It has been renamed to `group_by`.\n",
      "  group_by_market = df.groupby([\"date_id\", \"seconds_in_bucket\"]).agg(\n",
      "/tmp/ipykernel_20/201834297.py:108: DeprecationWarning: `groupby` is deprecated. It has been renamed to `group_by`.\n",
      "  group_by_market = df.groupby([\"date_id\", \"seconds_in_bucket\"]).agg(\n",
      "/tmp/ipykernel_20/201834297.py:108: DeprecationWarning: `groupby` is deprecated. It has been renamed to `group_by`.\n",
      "  group_by_market = df.groupby([\"date_id\", \"seconds_in_bucket\"]).agg(\n",
      "/tmp/ipykernel_20/201834297.py:108: DeprecationWarning: `groupby` is deprecated. It has been renamed to `group_by`.\n",
      "  group_by_market = df.groupby([\"date_id\", \"seconds_in_bucket\"]).agg(\n",
      "/tmp/ipykernel_20/201834297.py:108: DeprecationWarning: `groupby` is deprecated. It has been renamed to `group_by`.\n",
      "  group_by_market = df.groupby([\"date_id\", \"seconds_in_bucket\"]).agg(\n",
      "/tmp/ipykernel_20/201834297.py:108: DeprecationWarning: `groupby` is deprecated. It has been renamed to `group_by`.\n",
      "  group_by_market = df.groupby([\"date_id\", \"seconds_in_bucket\"]).agg(\n",
      "/tmp/ipykernel_20/201834297.py:108: DeprecationWarning: `groupby` is deprecated. It has been renamed to `group_by`.\n",
      "  group_by_market = df.groupby([\"date_id\", \"seconds_in_bucket\"]).agg(\n"
     ]
    }
   ],
   "source": [
    "counter = 0\n",
    "for test, revealed_targets, sample_prediction in iter_test:\n",
    "    #df_test_raw = pl.DataFrame(test)\n",
    "\n",
    "    feat = feat_engineering(test)\n",
    "    \n",
    "\n",
    "    #feat = df_test.to_pandas()\n",
    "\n",
    "    list_cols_drop = [\"stock_id\", \"date_id\", \"row_id\"]\n",
    "    feat = feat.drop(list_cols_drop, axis=1)\n",
    "\n",
    "    sample_prediction[\"target\"] = ensemble_predict(model_paths, feat)\n",
    "    env.predict(sample_prediction)\n",
    "    counter += 1"
   ]
  },
  {
   "cell_type": "code",
   "execution_count": 26,
   "id": "cce4ea30",
   "metadata": {
    "_cell_guid": "1bca4965-2df1-4a88-bc93-1e6d8fea7ac3",
    "_uuid": "0a5200ae-92df-4b21-bf5c-6e255b90676f",
    "collapsed": false,
    "execution": {
     "iopub.execute_input": "2023-10-29T15:12:02.478187Z",
     "iopub.status.busy": "2023-10-29T15:12:02.477391Z",
     "iopub.status.idle": "2023-10-29T15:12:02.482823Z",
     "shell.execute_reply": "2023-10-29T15:12:02.482061Z"
    },
    "jupyter": {
     "outputs_hidden": false
    },
    "papermill": {
     "duration": 0.040975,
     "end_time": "2023-10-29T15:12:02.485223",
     "exception": false,
     "start_time": "2023-10-29T15:12:02.444248",
     "status": "completed"
    },
    "tags": []
   },
   "outputs": [],
   "source": [
    "if TRAIN:\n",
    "    list_cols_drop = [\"stock_id\", \"date_id\", \"row_id\"]\n",
    "    feat = feat.drop(list_cols_drop, axis=1)"
   ]
  },
  {
   "cell_type": "code",
   "execution_count": null,
   "id": "87ed0b6a",
   "metadata": {
    "papermill": {
     "duration": 0.03139,
     "end_time": "2023-10-29T15:12:02.547780",
     "exception": false,
     "start_time": "2023-10-29T15:12:02.516390",
     "status": "completed"
    },
    "tags": []
   },
   "outputs": [],
   "source": []
  },
  {
   "cell_type": "code",
   "execution_count": null,
   "id": "c5395434",
   "metadata": {
    "papermill": {
     "duration": 0.031791,
     "end_time": "2023-10-29T15:12:02.611499",
     "exception": false,
     "start_time": "2023-10-29T15:12:02.579708",
     "status": "completed"
    },
    "tags": []
   },
   "outputs": [],
   "source": []
  },
  {
   "cell_type": "code",
   "execution_count": null,
   "id": "5bc2c0be",
   "metadata": {
    "papermill": {
     "duration": 0.030911,
     "end_time": "2023-10-29T15:12:02.674973",
     "exception": false,
     "start_time": "2023-10-29T15:12:02.644062",
     "status": "completed"
    },
    "tags": []
   },
   "outputs": [],
   "source": []
  },
  {
   "cell_type": "code",
   "execution_count": null,
   "id": "a0b599a7",
   "metadata": {
    "papermill": {
     "duration": 0.031391,
     "end_time": "2023-10-29T15:12:02.738143",
     "exception": false,
     "start_time": "2023-10-29T15:12:02.706752",
     "status": "completed"
    },
    "tags": []
   },
   "outputs": [],
   "source": []
  },
  {
   "cell_type": "code",
   "execution_count": null,
   "id": "bb8c9dd5",
   "metadata": {
    "_cell_guid": "18344629-3cbc-4244-ac34-c8af6b88b0d8",
    "_uuid": "667a4d83-d235-446e-a72c-cf02718a1a7b",
    "collapsed": false,
    "jupyter": {
     "outputs_hidden": false
    },
    "papermill": {
     "duration": 0.030883,
     "end_time": "2023-10-29T15:12:02.800264",
     "exception": false,
     "start_time": "2023-10-29T15:12:02.769381",
     "status": "completed"
    },
    "tags": []
   },
   "outputs": [],
   "source": []
  },
  {
   "cell_type": "code",
   "execution_count": null,
   "id": "a4435c5c",
   "metadata": {
    "papermill": {
     "duration": 0.031216,
     "end_time": "2023-10-29T15:12:02.862800",
     "exception": false,
     "start_time": "2023-10-29T15:12:02.831584",
     "status": "completed"
    },
    "tags": []
   },
   "outputs": [],
   "source": []
  },
  {
   "cell_type": "code",
   "execution_count": 27,
   "id": "6b934250",
   "metadata": {
    "execution": {
     "iopub.execute_input": "2023-10-29T15:12:02.928688Z",
     "iopub.status.busy": "2023-10-29T15:12:02.927856Z",
     "iopub.status.idle": "2023-10-29T15:12:02.933297Z",
     "shell.execute_reply": "2023-10-29T15:12:02.932086Z"
    },
    "papermill": {
     "duration": 0.041217,
     "end_time": "2023-10-29T15:12:02.936268",
     "exception": false,
     "start_time": "2023-10-29T15:12:02.895051",
     "status": "completed"
    },
    "tags": []
   },
   "outputs": [],
   "source": [
    "#clean_directory_except_one('/kaggle/working/', 'submission.csv')"
   ]
  },
  {
   "cell_type": "code",
   "execution_count": null,
   "id": "da6475df",
   "metadata": {
    "_cell_guid": "3ef4ae54-1bb4-4cc3-a7da-a6691a272d30",
    "_uuid": "495a4e04-554d-4ef1-919d-62bc59f089c4",
    "collapsed": false,
    "jupyter": {
     "outputs_hidden": false
    },
    "papermill": {
     "duration": 0.032221,
     "end_time": "2023-10-29T15:12:02.999980",
     "exception": false,
     "start_time": "2023-10-29T15:12:02.967759",
     "status": "completed"
    },
    "tags": []
   },
   "outputs": [],
   "source": []
  },
  {
   "cell_type": "code",
   "execution_count": null,
   "id": "4791ca5f",
   "metadata": {
    "papermill": {
     "duration": 0.031703,
     "end_time": "2023-10-29T15:12:03.063462",
     "exception": false,
     "start_time": "2023-10-29T15:12:03.031759",
     "status": "completed"
    },
    "tags": []
   },
   "outputs": [],
   "source": []
  },
  {
   "cell_type": "code",
   "execution_count": null,
   "id": "f3b54d28",
   "metadata": {
    "_cell_guid": "5498ae4b-62e8-4050-91e7-075fc549380f",
    "_uuid": "ce9653b2-7dff-4c5b-af77-5f0ef88b6e86",
    "collapsed": false,
    "jupyter": {
     "outputs_hidden": false
    },
    "papermill": {
     "duration": 0.031978,
     "end_time": "2023-10-29T15:12:03.129363",
     "exception": false,
     "start_time": "2023-10-29T15:12:03.097385",
     "status": "completed"
    },
    "tags": []
   },
   "outputs": [],
   "source": []
  },
  {
   "cell_type": "code",
   "execution_count": null,
   "id": "17d842fb",
   "metadata": {
    "_cell_guid": "92a8ed18-3a63-464e-9d62-17cea3baed59",
    "_uuid": "0b017968-3b5a-4465-820e-e89659b10afd",
    "collapsed": false,
    "jupyter": {
     "outputs_hidden": false
    },
    "papermill": {
     "duration": 0.050168,
     "end_time": "2023-10-29T15:12:03.217581",
     "exception": false,
     "start_time": "2023-10-29T15:12:03.167413",
     "status": "completed"
    },
    "tags": []
   },
   "outputs": [],
   "source": []
  },
  {
   "cell_type": "code",
   "execution_count": null,
   "id": "84614fcc",
   "metadata": {
    "_cell_guid": "f9d19e8d-0074-4ae2-adfb-4c039b700215",
    "_uuid": "b6096d27-d452-4593-9832-d15bfbd83e1b",
    "collapsed": false,
    "jupyter": {
     "outputs_hidden": false
    },
    "papermill": {
     "duration": 0.032257,
     "end_time": "2023-10-29T15:12:03.286068",
     "exception": false,
     "start_time": "2023-10-29T15:12:03.253811",
     "status": "completed"
    },
    "tags": []
   },
   "outputs": [],
   "source": []
  },
  {
   "cell_type": "code",
   "execution_count": null,
   "id": "b85069fb",
   "metadata": {
    "_cell_guid": "855f8db3-e344-4d4d-b577-36499775f352",
    "_uuid": "fde5edb9-d23d-41ac-92c6-593f299230c2",
    "collapsed": false,
    "jupyter": {
     "outputs_hidden": false
    },
    "papermill": {
     "duration": 0.032257,
     "end_time": "2023-10-29T15:12:03.349819",
     "exception": false,
     "start_time": "2023-10-29T15:12:03.317562",
     "status": "completed"
    },
    "tags": []
   },
   "outputs": [],
   "source": []
  },
  {
   "cell_type": "code",
   "execution_count": null,
   "id": "5c7f853a",
   "metadata": {
    "_cell_guid": "82330d89-f35e-4cae-876c-de852438527d",
    "_uuid": "f90f329d-b882-464c-84fc-74a815cfe1cd",
    "collapsed": false,
    "jupyter": {
     "outputs_hidden": false
    },
    "papermill": {
     "duration": 0.030995,
     "end_time": "2023-10-29T15:12:03.412185",
     "exception": false,
     "start_time": "2023-10-29T15:12:03.381190",
     "status": "completed"
    },
    "tags": []
   },
   "outputs": [],
   "source": []
  },
  {
   "cell_type": "code",
   "execution_count": null,
   "id": "44a085d4",
   "metadata": {
    "_cell_guid": "ed96eca6-9765-4c90-a6bf-3071518ba2f0",
    "_uuid": "ca1d48b9-5537-491b-9de2-57360edd9844",
    "collapsed": false,
    "jupyter": {
     "outputs_hidden": false
    },
    "papermill": {
     "duration": 0.031659,
     "end_time": "2023-10-29T15:12:03.475037",
     "exception": false,
     "start_time": "2023-10-29T15:12:03.443378",
     "status": "completed"
    },
    "tags": []
   },
   "outputs": [],
   "source": []
  },
  {
   "cell_type": "code",
   "execution_count": null,
   "id": "11df7d1a",
   "metadata": {
    "_cell_guid": "06b24b0a-6515-48c6-b4a0-240865cfc1ea",
    "_uuid": "5e9b8536-f812-432a-ba05-c2f0b0f8994f",
    "collapsed": false,
    "jupyter": {
     "outputs_hidden": false
    },
    "papermill": {
     "duration": 0.031607,
     "end_time": "2023-10-29T15:12:03.538128",
     "exception": false,
     "start_time": "2023-10-29T15:12:03.506521",
     "status": "completed"
    },
    "tags": []
   },
   "outputs": [],
   "source": []
  }
 ],
 "metadata": {
  "kernelspec": {
   "display_name": "Python 3",
   "language": "python",
   "name": "python3"
  },
  "language_info": {
   "codemirror_mode": {
    "name": "ipython",
    "version": 3
   },
   "file_extension": ".py",
   "mimetype": "text/x-python",
   "name": "python",
   "nbconvert_exporter": "python",
   "pygments_lexer": "ipython3",
   "version": "3.10.12"
  },
  "papermill": {
   "default_parameters": {},
   "duration": 74.093589,
   "end_time": "2023-10-29T15:12:04.392692",
   "environment_variables": {},
   "exception": null,
   "input_path": "__notebook__.ipynb",
   "output_path": "__notebook__.ipynb",
   "parameters": {},
   "start_time": "2023-10-29T15:10:50.299103",
   "version": "2.4.0"
  }
 },
 "nbformat": 4,
 "nbformat_minor": 5
}
