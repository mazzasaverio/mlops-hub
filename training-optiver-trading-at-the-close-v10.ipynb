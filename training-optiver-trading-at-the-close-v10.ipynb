{
 "cells": [
  {
   "cell_type": "code",
   "execution_count": 1,
   "id": "ff2ed02c",
   "metadata": {
    "execution": {
     "iopub.execute_input": "2023-11-14T14:56:12.424688Z",
     "iopub.status.busy": "2023-11-14T14:56:12.423824Z",
     "iopub.status.idle": "2023-11-14T14:56:18.929983Z",
     "shell.execute_reply": "2023-11-14T14:56:18.928915Z"
    },
    "papermill": {
     "duration": 6.524524,
     "end_time": "2023-11-14T14:56:18.932693",
     "exception": false,
     "start_time": "2023-11-14T14:56:12.408169",
     "status": "completed"
    },
    "tags": []
   },
   "outputs": [],
   "source": [
    "# Constants and Configuration Variables\n",
    "DEBUG = True\n",
    "TRAIN = True\n",
    "TUNING = True\n",
    "OVERWRITE_PROCESSED_DATA = True\n",
    "N_TRIALS = 1\n",
    "STATE = 42\n",
    "N_FOLD_BREAK = 1\n",
    "\n",
    "GPU_SWITCH = \"OFF\"\n",
    "N_SPLITS = 7\n",
    "N_TEST_SPLITS = 1\n",
    "N_PURGE = 11\n",
    "N_EMBARGO = 11\n",
    "\n",
    "\n",
    "VERSION_NB = 11\n",
    "EXPERIMENT_PURPOSE = \"optiver_trading_at_the_close\"\n",
    "\n",
    "model_params_dict = {\n",
    "    \"LGBMR\": {\n",
    "        \"static_params\": {\n",
    "            \"device\": \"gpu\" if GPU_SWITCH == \"ON\" else \"cpu\",\n",
    "            \"objective\": \"mae\",\n",
    "            \"boosting_type\": \"gbdt\",\n",
    "            \"random_state\": STATE,\n",
    "            \"n_jobs\": 4,\n",
    "            \"verbose\": -1,\n",
    "            \"importance_type\": \"gain\",\n",
    "        },\n",
    "        \"dynamic_params\": {\n",
    "            \"n_estimators\": {\n",
    "                \"type\": \"int\",\n",
    "                \"low\": 4052,\n",
    "                \"high\": 4052,\n",
    "            },\n",
    "            \"learning_rate\": {\n",
    "                \"type\": \"float\",\n",
    "                \"low\": 0.012,\n",
    "                \"high\": 0.012,\n",
    "            },\n",
    "            \"max_depth\": {\"type\": \"int\", \"low\": 49, \"high\": 49},\n",
    "            \"num_leaves\": {\n",
    "                \"type\": \"int\",\n",
    "                \"low\": 63,\n",
    "                \"high\": 63,\n",
    "            },\n",
    "            \"min_child_samples\": {\n",
    "                \"type\": \"int\",\n",
    "                \"low\": 23,\n",
    "                \"high\": 23,\n",
    "            },\n",
    "            \"subsample\": {\n",
    "                \"type\": \"float\",\n",
    "                \"low\": 1,\n",
    "                \"high\": 1,\n",
    "            },\n",
    "            \"colsample_bytree\": {\n",
    "                \"type\": \"float\",\n",
    "                \"low\": 1,\n",
    "                \"high\": 1,\n",
    "            },\n",
    "        },\n",
    "    },\n",
    "}\n",
    "\n",
    "# RECORD ENSAMBLE MODEL\n",
    "model_paths = [\n",
    "    \"s3://mlflow-v1/kaggle_optiver_trading_at_the_close/0f6ce4df6744464bbd4123566a088d27/artifacts/LGBMR_0_20231114_095007/model.pkl\",\n",
    "    \"s3://mlflow-v1/kaggle_optiver_trading_at_the_close/47d294f60f9642248cb2d0fb8ccd9bf6/artifacts/LGBMR_0_20231114_100521/model.pkl\",\n",
    "    \"s3://mlflow-v1/kaggle_optiver_trading_at_the_close/9431eeeeaf6b4690a6a11d9b9d0ad52a/artifacts/LGBMR_0_20231114_101915/model.pkl\",\n",
    "    \"s3://mlflow-v1/kaggle_optiver_trading_at_the_close/e603fb30d1b04756b34e443325924da4/artifacts/LGBMR_0_20231114_103413/model.pkl\",\n",
    "    \"s3://mlflow-v1/kaggle_optiver_trading_at_the_close/748ddac91acf4ead85cc0f567d053596/artifacts/LGBMR_0_20231114_104931/model.pkl\",\n",
    "    \"s3://mlflow-v1/kaggle_optiver_trading_at_the_close/814b2dc76eb14d57a80a79e100c50c3a/artifacts/LGBMR_0_20231114_110439/model.pkl\",\n",
    "    \"s3://mlflow-v1/kaggle_optiver_trading_at_the_close/5ab9ade2bcdb46e8bd86ae1e5f8f2df4/artifacts/LGBMR_0_20231114_111703/model.pkl\",\n",
    "]\n",
    "\n",
    "# Define the model name for registration in MLflow\n",
    "\n",
    "model_name = f\"ensemble_model (7)\"\n",
    "folder_model = f\"models-v8\""
   ]
  },
  {
   "cell_type": "code",
   "execution_count": null,
   "metadata": {},
   "outputs": [],
   "source": []
  },
  {
   "cell_type": "code",
   "execution_count": 2,
   "id": "480b09dc",
   "metadata": {
    "execution": {
     "iopub.execute_input": "2023-11-14T14:56:19.042210Z",
     "iopub.status.busy": "2023-11-14T14:56:19.041835Z",
     "iopub.status.idle": "2023-11-14T14:56:21.132287Z",
     "shell.execute_reply": "2023-11-14T14:56:21.131346Z"
    },
    "papermill": {
     "duration": 2.108409,
     "end_time": "2023-11-14T14:56:21.135276",
     "exception": false,
     "start_time": "2023-11-14T14:56:19.026867",
     "status": "completed"
    },
    "tags": []
   },
   "outputs": [],
   "source": [
    "# External general-purpose modules\n",
    "import gc\n",
    "import sys\n",
    "import os\n",
    "import itertools as itt\n",
    "from itertools import combinations, product\n",
    "from datetime import datetime\n",
    "import numpy as np\n",
    "import pandas as pd\n",
    "import polars as pl\n",
    "import joblib\n",
    "\n",
    "from pathlib import Path\n",
    "import warnings\n",
    "from numba import njit, prange\n",
    "import boto3\n",
    "from botocore.exceptions import NoCredentialsError\n",
    "from dotenv import load_dotenv\n",
    "\n",
    "\n",
    "# Setting pandas options and warning filters\n",
    "pd.set_option(\"display.max_columns\", None)\n",
    "warnings.filterwarnings(\"ignore\")\n",
    "warnings.simplefilter(action=\"ignore\", category=pd.errors.PerformanceWarning)\n",
    "\n",
    "# Load environment variables\n",
    "load_dotenv()\n",
    "path_root_project = Path.cwd()\n",
    "if path_root_project.name not in [\"working\", \"content\"]:\n",
    "    path_root_project = Path(os.getenv(\"ROOT_PATH\") or path_root_project)\n",
    "\n",
    "    directories_to_add = [\"utils\", \"feat_engineering\", \"validation\"]\n",
    "    for directory in directories_to_add:\n",
    "        sys.path.append(str(path_root_project / \"src\" / directory))\n",
    "\n",
    "\n",
    "from utils_training import create_model, experiments_data\n",
    "from utils_data import load_config, load_dataset, reduce_mem_usage, PathManager\n",
    "from utils_kaggle import (\n",
    "    setup_kaggle,\n",
    "    download_data,\n",
    "    get_data,\n",
    "    clean_directory_except_one,\n",
    ")\n",
    "\n",
    "from fe_optiver_trading_at_the_close import (\n",
    "    calculate_triplet_imbalance_numba,\n",
    "    convert_weights_to_dict,\n",
    "    global_stock_id_feats,\n",
    "    compute_rolling_averages,\n",
    "    generate_rsi,\n",
    ")\n",
    "\n",
    "pm = PathManager(path_root_project)\n",
    "\n",
    "if TRAIN:\n",
    "    if pm.path_root_project.name == \"working\":\n",
    "        from kaggle_secrets import UserSecretsClient\n",
    "\n",
    "        user_secrets = UserSecretsClient()\n",
    "        aws_access_key_id = user_secrets.get_secret(\"AWS_ACCESS_KEY_ID\")\n",
    "        aws_region = user_secrets.get_secret(\"AWS_DEFAULT_REGION\")\n",
    "        aws_secret_access_key = user_secrets.get_secret(\"AWS_SECRET_ACCESS_KEY\")\n",
    "        s3_bucket_name = user_secrets.get_secret(\"S3_BUCKET\")\n",
    "\n",
    "        # Set AWS credentials in the environment variables\n",
    "        os.environ[\"AWS_ACCESS_KEY_ID\"] = aws_access_key_id\n",
    "        os.environ[\"AWS_SECRET_ACCESS_KEY\"] = aws_secret_access_key\n",
    "        os.environ[\"AWS_DEFAULT_REGION\"] = aws_region\n",
    "    else:\n",
    "        aws_access_key_id = os.getenv(\"AWS_ACCESS_KEY_ID\")\n",
    "        aws_secret_access_key = os.getenv(\"AWS_SECRET_ACCESS_KEY\")"
   ]
  },
  {
   "cell_type": "code",
   "execution_count": 3,
   "metadata": {},
   "outputs": [],
   "source": [
    "# model_prod = joblib.load('/kaggle/input/{folder_model}/{model_name}')"
   ]
  },
  {
   "cell_type": "code",
   "execution_count": null,
   "id": "4033be52",
   "metadata": {
    "execution": {
     "iopub.execute_input": "2023-11-14T14:56:21.244071Z",
     "iopub.status.busy": "2023-11-14T14:56:21.243329Z",
     "iopub.status.idle": "2023-11-14T14:56:21.248459Z",
     "shell.execute_reply": "2023-11-14T14:56:21.247399Z"
    },
    "papermill": {
     "duration": 0.022293,
     "end_time": "2023-11-14T14:56:21.250975",
     "exception": false,
     "start_time": "2023-11-14T14:56:21.228682",
     "status": "completed"
    },
    "tags": []
   },
   "outputs": [],
   "source": []
  },
  {
   "cell_type": "code",
   "execution_count": 4,
   "id": "1dc1ddfa",
   "metadata": {
    "execution": {
     "iopub.execute_input": "2023-11-14T14:56:21.279866Z",
     "iopub.status.busy": "2023-11-14T14:56:21.279451Z",
     "iopub.status.idle": "2023-11-14T14:56:21.298016Z",
     "shell.execute_reply": "2023-11-14T14:56:21.296730Z"
    },
    "papermill": {
     "duration": 0.035618,
     "end_time": "2023-11-14T14:56:21.300299",
     "exception": false,
     "start_time": "2023-11-14T14:56:21.264681",
     "status": "completed"
    },
    "tags": []
   },
   "outputs": [],
   "source": [
    "\n",
    "\n",
    "# Conditional imports and settings based on TRAIN constant\n",
    "if TRAIN:\n",
    "    if pm.path_root_project.name == \"working\":\n",
    "        !pip install loguru mlflow optuna > /dev/null\n",
    "\n",
    "    \n",
    "\n",
    "    from utils_mlflow import (\n",
    "        get_experiments_df,\n",
    "        delete_runs_and_artifacts,\n",
    "        download_and_load_model,\n",
    "        load_models_and_create_ensemble,\n",
    "        save_and_register_model,\n",
    "        log_model_parameters,\n",
    "        get_or_create_experiment,\n",
    "        experiments_data,\n",
    "    )\n",
    "    from utils_feat_importance import log_feature_importance, aggregate_feature_importance\n",
    "    from model_validation import time_series_split\n",
    "\n",
    "    # External Libraries\n",
    "    import boto3\n",
    "    from botocore.exceptions import NoCredentialsError\n",
    "    from mlflow.exceptions import MlflowException\n",
    "    import lightgbm as lgbm\n",
    "    import mlflow\n",
    "    import optuna\n",
    "    from mlflow.tracking import MlflowClient\n",
    "    from optuna.integration.mlflow import MLflowCallback\n",
    "    from sklearn.model_selection import KFold\n",
    "    from xgboost import XGBRegressor as XGBR\n",
    "    from lightgbm import log_evaluation, early_stopping, LGBMRegressor as LGBMR\n",
    "\n",
    "\n",
    "\n",
    "    # Auto-reload modules - Specific to Jupyter Notebooks\n",
    "    %load_ext autoreload\n",
    "    %autoreload 2\n",
    "    if not DEBUG:\n",
    "        mlflow.set_tracking_uri(pm.path_experiments_dir)\n",
    "        \n",
    "    client = MlflowClient()\n",
    "    \n",
    "    # Create an S3 client\n",
    "    s3 = boto3.client(\n",
    "        \"s3\",\n",
    "        aws_access_key_id=aws_access_key_id,\n",
    "        aws_secret_access_key=aws_secret_access_key,\n",
    "    )"
   ]
  },
  {
   "cell_type": "code",
   "execution_count": 5,
   "id": "949cfed8",
   "metadata": {
    "execution": {
     "iopub.execute_input": "2023-11-14T14:56:21.329341Z",
     "iopub.status.busy": "2023-11-14T14:56:21.328656Z",
     "iopub.status.idle": "2023-11-14T14:56:21.333586Z",
     "shell.execute_reply": "2023-11-14T14:56:21.332840Z"
    },
    "papermill": {
     "duration": 0.021792,
     "end_time": "2023-11-14T14:56:21.335759",
     "exception": false,
     "start_time": "2023-11-14T14:56:21.313967",
     "status": "completed"
    },
    "tags": []
   },
   "outputs": [],
   "source": [
    "# if TRAIN:\n",
    "#     s3 = boto3.client(\n",
    "#         \"s3\",\n",
    "#         aws_access_key_id=aws_access_key_id,\n",
    "#         aws_secret_access_key=aws_secret_access_key,\n",
    "#     )\n",
    "#     # Load the models and create an ensemble\n",
    "#     ensemble_model = load_models_and_create_ensemble(s3, model_paths)\n",
    "\n",
    "#     # Save and register the ensemble model in MLflow\n",
    "#     save_and_register_model(ensemble_model, model_name)"
   ]
  },
  {
   "cell_type": "code",
   "execution_count": null,
   "id": "e8557b6d",
   "metadata": {
    "papermill": {
     "duration": 0.013331,
     "end_time": "2023-11-14T14:56:21.362906",
     "exception": false,
     "start_time": "2023-11-14T14:56:21.349575",
     "status": "completed"
    },
    "tags": []
   },
   "outputs": [],
   "source": []
  },
  {
   "cell_type": "code",
   "execution_count": 6,
   "id": "0cfa3eb7",
   "metadata": {
    "execution": {
     "iopub.execute_input": "2023-11-14T14:56:21.392753Z",
     "iopub.status.busy": "2023-11-14T14:56:21.392062Z",
     "iopub.status.idle": "2023-11-14T14:56:21.399254Z",
     "shell.execute_reply": "2023-11-14T14:56:21.398436Z"
    },
    "papermill": {
     "duration": 0.02474,
     "end_time": "2023-11-14T14:56:21.401516",
     "exception": false,
     "start_time": "2023-11-14T14:56:21.376776",
     "status": "completed"
    },
    "tags": []
   },
   "outputs": [],
   "source": [
    "if TRAIN:\n",
    "    if not os.path.exists(pm.path_dataset_processed) or OVERWRITE_PROCESSED_DATA:\n",
    "        df_train_raw = pd.read_csv(pm.path_data_train_raw)\n",
    "\n",
    "        if DEBUG:\n",
    "            df_train_raw = df_train_raw[df_train_raw[\"stock_id\"].isin([0, 1, 2, 3, 4])]\n",
    "\n",
    "        drop_idx = df_train_raw.loc[\n",
    "            df_train_raw[\"target\"].isna(), \"target\"\n",
    "        ].index.to_list()\n",
    "        df_train = df_train_raw.drop(drop_idx, axis=0)\n",
    "        df_train.reset_index(drop=True, inplace=True)\n",
    "    else:\n",
    "        df_train = pd.read_csv(pm.path_dataset_processed)\n",
    "        if DEBUG:\n",
    "            df_train = df_train[df_train[\"stock_id\"].isin([0, 1, 2, 3, 4])]\n",
    "\n",
    "    df_train.sort_values([\"time_id\", \"stock_id\"], inplace=True)"
   ]
  },
  {
   "cell_type": "code",
   "execution_count": 7,
   "id": "fe94d607",
   "metadata": {
    "execution": {
     "iopub.execute_input": "2023-11-14T14:56:21.430335Z",
     "iopub.status.busy": "2023-11-14T14:56:21.429684Z",
     "iopub.status.idle": "2023-11-14T14:56:21.433828Z",
     "shell.execute_reply": "2023-11-14T14:56:21.432965Z"
    },
    "papermill": {
     "duration": 0.02096,
     "end_time": "2023-11-14T14:56:21.435912",
     "exception": false,
     "start_time": "2023-11-14T14:56:21.414952",
     "status": "completed"
    },
    "tags": []
   },
   "outputs": [],
   "source": [
    "if TRAIN:\n",
    "    global_stock_id_feats = global_stock_id_feats(df_train)"
   ]
  },
  {
   "cell_type": "code",
   "execution_count": 8,
   "id": "2153bb8f",
   "metadata": {
    "execution": {
     "iopub.execute_input": "2023-11-14T14:56:21.865014Z",
     "iopub.status.busy": "2023-11-14T14:56:21.864644Z",
     "iopub.status.idle": "2023-11-14T14:56:21.896367Z",
     "shell.execute_reply": "2023-11-14T14:56:21.895039Z"
    },
    "papermill": {
     "duration": 0.049258,
     "end_time": "2023-11-14T14:56:21.898846",
     "exception": false,
     "start_time": "2023-11-14T14:56:21.849588",
     "status": "completed"
    },
    "tags": []
   },
   "outputs": [],
   "source": [
    "def imbalance_features(df):\n",
    "    # Define lists of price and size-related column names\n",
    "    prices = [\n",
    "        \"reference_price\",\n",
    "        \"far_price\",\n",
    "        \"near_price\",\n",
    "        \"ask_price\",\n",
    "        \"bid_price\",\n",
    "        \"wap\",\n",
    "    ]\n",
    "    sizes = [\"matched_size\", \"bid_size\", \"ask_size\", \"imbalance_size\"]\n",
    "    df[\"volume\"] = df.eval(\"ask_size + bid_size\")\n",
    "    df[\"mid_price\"] = df.eval(\"(ask_price + bid_price) / 2\")\n",
    "    df[\"liquidity_imbalance\"] = df.eval(\"(bid_size-ask_size)/(bid_size+ask_size)\")\n",
    "    df[\"matched_imbalance\"] = df.eval(\n",
    "        \"(imbalance_size-matched_size)/(matched_size+imbalance_size)\"\n",
    "    )\n",
    "    df[\"size_imbalance\"] = df.eval(\"bid_size / ask_size\")\n",
    "\n",
    "    for c in combinations(prices, 2):\n",
    "        df[f\"{c[0]}_{c[1]}_imb\"] = df.eval(f\"({c[0]} - {c[1]})/({c[0]} + {c[1]})\")\n",
    "\n",
    "    for c in [[\"ask_price\", \"bid_price\", \"wap\", \"reference_price\"], sizes]:\n",
    "        triplet_feature = calculate_triplet_imbalance_numba(c, df)\n",
    "        df[triplet_feature.columns] = triplet_feature.values\n",
    "\n",
    "    df[\"imbalance_momentum\"] = (\n",
    "        df.groupby([\"stock_id\"])[\"imbalance_size\"].diff(periods=1) / df[\"matched_size\"]\n",
    "    )\n",
    "    df[\"price_spread\"] = df[\"ask_price\"] - df[\"bid_price\"]\n",
    "    df[\"spread_intensity\"] = df.groupby([\"stock_id\"])[\"price_spread\"].diff()\n",
    "    df[\"price_pressure\"] = df[\"imbalance_size\"] * (df[\"ask_price\"] - df[\"bid_price\"])\n",
    "    df[\"market_urgency\"] = df[\"price_spread\"] * df[\"liquidity_imbalance\"]\n",
    "    df[\"depth_pressure\"] = (df[\"ask_size\"] - df[\"bid_size\"]) * (\n",
    "        df[\"far_price\"] - df[\"near_price\"]\n",
    "    )\n",
    "\n",
    "    # Calculate various statistical aggregation features\n",
    "    for func in [\"mean\", \"std\", \"skew\", \"kurt\"]:\n",
    "        df[f\"all_prices_{func}\"] = df[prices].agg(func, axis=1)\n",
    "        df[f\"all_sizes_{func}\"] = df[sizes].agg(func, axis=1)\n",
    "\n",
    "    for col in [\n",
    "        \"matched_size\",\n",
    "        \"imbalance_size\",\n",
    "        \"reference_price\",\n",
    "        \"imbalance_buy_sell_flag\",\n",
    "    ]:\n",
    "        for window in [1, 2, 3, 10]:\n",
    "            df[f\"{col}_shift_{window}\"] = df.groupby(\"stock_id\")[col].shift(window)\n",
    "            df[f\"{col}_ret_{window}\"] = df.groupby(\"stock_id\")[col].pct_change(window)\n",
    "\n",
    "    # Calculate diff features for specific columns\n",
    "    for col in [\n",
    "        \"ask_price\",\n",
    "        \"bid_price\",\n",
    "        \"ask_size\",\n",
    "        \"bid_size\",\n",
    "        \"market_urgency\",\n",
    "        \"imbalance_momentum\",\n",
    "        \"size_imbalance\",\n",
    "    ]:\n",
    "        for window in [1, 2, 3, 10]:\n",
    "            df[f\"{col}_diff_{window}\"] = df.groupby(\"stock_id\")[col].diff(window)\n",
    "\n",
    "    return df.replace([np.inf, -np.inf], 0)\n",
    "\n",
    "\n",
    "def other_features(df):\n",
    "    df[\"dow\"] = df[\"date_id\"] % 5  # Day of the week\n",
    "    df[\"seconds\"] = df[\"seconds_in_bucket\"] % 60\n",
    "    df[\"minute\"] = df[\"seconds_in_bucket\"] // 60\n",
    "    for key, value in global_stock_id_feats.items():\n",
    "        df[f\"global_{key}\"] = df[\"stock_id\"].map(value.to_dict())\n",
    "\n",
    "    return df\n",
    "\n",
    "\n",
    "def feat_engineering(df):\n",
    "    # Select relevant columns for feature generation\n",
    "    cols = [c for c in df.columns if c not in [\"row_id\"]]\n",
    "    df = df[cols]\n",
    "\n",
    "    # Generate imbalance features\n",
    "    df = imbalance_features(df)\n",
    "    df = other_features(df)\n",
    "    gc.collect()\n",
    "    list_cols = [i for i in df.columns if i not in [\"row_id\"]]\n",
    "\n",
    "    return df[list_cols]"
   ]
  },
  {
   "cell_type": "code",
   "execution_count": 9,
   "id": "85c4ec33",
   "metadata": {
    "execution": {
     "iopub.execute_input": "2023-11-14T14:56:21.928285Z",
     "iopub.status.busy": "2023-11-14T14:56:21.927530Z",
     "iopub.status.idle": "2023-11-14T14:56:21.932693Z",
     "shell.execute_reply": "2023-11-14T14:56:21.931916Z"
    },
    "papermill": {
     "duration": 0.022316,
     "end_time": "2023-11-14T14:56:21.934972",
     "exception": false,
     "start_time": "2023-11-14T14:56:21.912656",
     "status": "completed"
    },
    "tags": []
   },
   "outputs": [
    {
     "name": "stdout",
     "output_type": "stream",
     "text": [
      "Build Online Train Feats Finished.\n"
     ]
    }
   ],
   "source": [
    "if TRAIN:\n",
    "    df_train_feats = feat_engineering(df_train)\n",
    "    print(\"Build Online Train Feats Finished.\")\n",
    "\n",
    "    df_train_feats = reduce_mem_usage(df_train_feats)"
   ]
  },
  {
   "cell_type": "code",
   "execution_count": 10,
   "id": "db932eda",
   "metadata": {
    "execution": {
     "iopub.execute_input": "2023-11-14T14:56:21.963988Z",
     "iopub.status.busy": "2023-11-14T14:56:21.963198Z",
     "iopub.status.idle": "2023-11-14T14:56:21.969390Z",
     "shell.execute_reply": "2023-11-14T14:56:21.968663Z"
    },
    "papermill": {
     "duration": 0.023188,
     "end_time": "2023-11-14T14:56:21.971602",
     "exception": false,
     "start_time": "2023-11-14T14:56:21.948414",
     "status": "completed"
    },
    "tags": []
   },
   "outputs": [],
   "source": [
    "if TRAIN:\n",
    "    col_split = \"time_id\"\n",
    "    df_train_feats.sort_values([col_split], inplace=True)\n",
    "\n",
    "    df_train_feats[\"factorized\"] = pd.factorize(df_train_feats[col_split])[0]\n",
    "\n",
    "    df_train_feats.sort_values([\"time_id\", \"stock_id\"], inplace=True)\n",
    "    list_cols_drop = [\"date_id\", \"time_id\"]\n",
    "\n",
    "    df_train_feats.reset_index(drop=True, inplace=True)\n",
    "    df_train_feats.drop(list_cols_drop, axis=1, inplace=True)"
   ]
  },
  {
   "cell_type": "code",
   "execution_count": null,
   "id": "b736c1c1",
   "metadata": {
    "papermill": {
     "duration": 0.013082,
     "end_time": "2023-11-14T14:56:22.051720",
     "exception": false,
     "start_time": "2023-11-14T14:56:22.038638",
     "status": "completed"
    },
    "tags": []
   },
   "outputs": [],
   "source": []
  },
  {
   "cell_type": "code",
   "execution_count": 11,
   "id": "019696f7",
   "metadata": {
    "execution": {
     "iopub.execute_input": "2023-11-14T14:56:22.081267Z",
     "iopub.status.busy": "2023-11-14T14:56:22.080457Z",
     "iopub.status.idle": "2023-11-14T14:56:22.094680Z",
     "shell.execute_reply": "2023-11-14T14:56:22.093460Z"
    },
    "papermill": {
     "duration": 0.032117,
     "end_time": "2023-11-14T14:56:22.097275",
     "exception": false,
     "start_time": "2023-11-14T14:56:22.065158",
     "status": "completed"
    },
    "tags": []
   },
   "outputs": [
    {
     "name": "stdout",
     "output_type": "stream",
     "text": [
      "Experiment 'optiver_trading_at_the_close_v11_debug' already exists with ID 989081662363163097.\n"
     ]
    }
   ],
   "source": [
    "if TRAIN:\n",
    "    experiment_name = f\"{EXPERIMENT_PURPOSE}_v{VERSION_NB}\"\n",
    "    name_folder_models = f\"models_v{VERSION_NB}\"\n",
    "\n",
    "    experiment_date_str = datetime.now().strftime(\"%y_%m_%d_%H%M\")\n",
    "\n",
    "    if DEBUG:\n",
    "        experiment_name = f\"{experiment_name}_debug\"\n",
    "        name_folder_models = f\"{name_folder_models}_debug\"\n",
    "        path_artifact_location = \".\"\n",
    "    else:\n",
    "        path_artifact_location = pm.path_artifact_location\n",
    "\n",
    "    experiment_id = get_or_create_experiment(\n",
    "        client, experiment_name, artifact_location=path_artifact_location\n",
    "    )\n",
    "\n",
    "    nbrnd_erly_stp = 130\n",
    "    cv_mthd = \"KF\"\n",
    "\n",
    "    mlflow_callback = MLflowCallback(\n",
    "        tracking_uri=mlflow.get_tracking_uri(), metric_name=\"mae\"\n",
    "    )\n",
    "\n",
    "    all_cv = {\"KF\": KFold(n_splits=5, shuffle=True, random_state=STATE)}\n",
    "    cv = all_cv[cv_mthd]\n",
    "\n",
    "    dict_models = {\"LGBMR\": LGBMR}\n",
    "\n",
    "    log_model = True\n",
    "\n",
    "    args = {\n",
    "        \"cv_mthd\": cv_mthd,\n",
    "        \"experiment_purpose\": EXPERIMENT_PURPOSE,\n",
    "        \"experiment_name\": experiment_name,\n",
    "        \"dict_models\": dict_models,\n",
    "        \"model_params_dict\": model_params_dict,\n",
    "        \"n_splits\": N_SPLITS,\n",
    "        \"n_test_splits\": N_TEST_SPLITS,\n",
    "        \"n_purge\": N_PURGE,\n",
    "        \"n_embargo\": N_EMBARGO,\n",
    "        \"experiment_date_str\": experiment_date_str,\n",
    "        \"path_artifact_location\": pm.path_artifact_location,\n",
    "        \"target_col\": \"target\",\n",
    "    }"
   ]
  },
  {
   "cell_type": "code",
   "execution_count": null,
   "metadata": {},
   "outputs": [],
   "source": []
  },
  {
   "cell_type": "code",
   "execution_count": null,
   "id": "ec35ae90",
   "metadata": {
    "papermill": {
     "duration": 0.013498,
     "end_time": "2023-11-14T14:56:22.125143",
     "exception": false,
     "start_time": "2023-11-14T14:56:22.111645",
     "status": "completed"
    },
    "tags": []
   },
   "outputs": [],
   "source": []
  },
  {
   "cell_type": "code",
   "execution_count": 12,
   "id": "bfb4e452",
   "metadata": {
    "execution": {
     "iopub.execute_input": "2023-11-14T14:56:22.154960Z",
     "iopub.status.busy": "2023-11-14T14:56:22.154576Z",
     "iopub.status.idle": "2023-11-14T14:56:22.182467Z",
     "shell.execute_reply": "2023-11-14T14:56:22.181597Z"
    },
    "papermill": {
     "duration": 0.045154,
     "end_time": "2023-11-14T14:56:22.184731",
     "exception": false,
     "start_time": "2023-11-14T14:56:22.139577",
     "status": "completed"
    },
    "tags": []
   },
   "outputs": [
    {
     "name": "stderr",
     "output_type": "stream",
     "text": [
      "[I 2023-11-17 18:01:43,195] A new study created in memory with name: Your Study Name\n"
     ]
    },
    {
     "name": "stdout",
     "output_type": "stream",
     "text": [
      "\n",
      "learning_rate: 0.012 | max_depth: 49 | boosting_type: gbdt | colsample_bytree: 1.0 | importance_type: gain | min_child_samples: 23 | min_child_weight: 0.001 | min_split_gain: 0.0 | n_estimators: 4052 | num_leaves: 63 | objective: mae | reg_alpha: 0.0 | reg_lambda: 0.0 | subsample: 1.0 | subsample_for_bin: 200000 | subsample_freq: 0\n",
      "\n",
      "Training until validation scores don't improve for 100 rounds\n",
      "Early stopping, best iteration is:\n",
      "[228]\tvalid_0's l1: 5.18005\n"
     ]
    },
    {
     "name": "stderr",
     "output_type": "stream",
     "text": [
      "[I 2023-11-17 18:02:07,095] Trial 0 finished with value: 5.18005299772072 and parameters: {'n_estimators': 4052, 'learning_rate': 0.012, 'max_depth': 49, 'num_leaves': 63, 'min_child_samples': 23, 'subsample': 1.0, 'colsample_bytree': 1.0}. Best is trial 0 with value: 5.18005299772072.\n"
     ]
    }
   ],
   "source": [
    "def run_mlflow_experiment(df_train, args, trial=None):\n",
    "    cv_mthd = args[\"cv_mthd\"]\n",
    "    experiment_purpose = args[\"experiment_purpose\"]\n",
    "    experiment_name = args[\"experiment_name\"]\n",
    "    dict_models = args[\"dict_models\"]\n",
    "    model_params_dict = args[\"model_params_dict\"]\n",
    "\n",
    "    n_splits = args[\"n_splits\"]\n",
    "    n_test_splits = args[\"n_test_splits\"]\n",
    "    n_purge = args[\"n_purge\"]\n",
    "    n_embargo = args[\"n_embargo\"]\n",
    "\n",
    "    experiment_date_str = args[\"experiment_date_str\"]\n",
    "    path_artifact_location = args[\"path_artifact_location\"]\n",
    "    target_col = args[\"target_col\"]\n",
    "\n",
    "    if trial == None:\n",
    "        trial = optuna.trial.FixedTrial(\n",
    "            {\n",
    "                \"n_estimators\": 500,\n",
    "                \"learning_rate\": 0.005,\n",
    "                \"max_depth\": 10,\n",
    "                \"num_leaves\": 20,\n",
    "                \"min_child_samples\": 10,\n",
    "                \"subsample\": 0.7,\n",
    "                \"colsample_bytree\": 1.0,\n",
    "                \"min_split_gain\": 0.0,\n",
    "                \"reg_alpha\": 0.0,\n",
    "                \"reg_lambda\": 0.0,\n",
    "                \"device\": \"gpu\" if GPU_SWITCH == \"ON\" else \"cpu\",\n",
    "            }\n",
    "        )\n",
    "\n",
    "    run_time_start_trial = datetime.now().strftime(\"%y_%m_%d_%H%M%S\")\n",
    "\n",
    "    with mlflow.start_run(\n",
    "        run_name=run_time_start_trial, experiment_id=experiment_id\n",
    "    ) as run:\n",
    "        score_list = []\n",
    "\n",
    "        # mlflow.set_tag(\"cv_mthd\", cv_mthd)\n",
    "        mlflow.set_tag(\"n_splits\", n_splits)\n",
    "        mlflow.set_tag(\"n_test_splits\", n_test_splits)\n",
    "        mlflow.set_tag(\"n_purge\", n_purge)\n",
    "        mlflow.set_tag(\"n_embargo\", n_embargo)\n",
    "\n",
    "        for model_name, model_class in dict_models.items():\n",
    "            if TUNING:\n",
    "                model = create_model(\n",
    "                    trial,\n",
    "                    model_class,\n",
    "                    model_params_dict[model_name][\"static_params\"],\n",
    "                    model_params_dict[model_name][\"dynamic_params\"],\n",
    "                )\n",
    "            else:\n",
    "                params = model_prod.get_params()\n",
    "                params[\"device\"] = \"gpu\"\n",
    "\n",
    "                model = model_class(**params)\n",
    "\n",
    "            priority_params = [\"learning_rate\", \"max_depth\"]\n",
    "            excluded_params = [\n",
    "                \"device\",\n",
    "                \"class_weight\",\n",
    "                \"random_state\",\n",
    "                \"silent\",\n",
    "                \"verbose\",\n",
    "                \"n_jobs\",\n",
    "            ]\n",
    "\n",
    "            ordered_params = log_model_parameters(\n",
    "                model, priority_params, excluded_params, verbose=True\n",
    "            )\n",
    "\n",
    "            mlflow.log_params(ordered_params)\n",
    "\n",
    "            for fold_n, (train_indices, test_indices) in enumerate(\n",
    "                time_series_split(\n",
    "                    df_train,\n",
    "                    n_splits=n_splits,\n",
    "                    n_test_splits=n_test_splits,\n",
    "                    n_purge=n_purge,\n",
    "                    n_embargo=n_embargo,\n",
    "                )\n",
    "            ):\n",
    "                # if fold_n == 0:\n",
    "                with mlflow.start_run(\n",
    "                    run_name=f\"fold_{fold_n+1}\",\n",
    "                    nested=True,\n",
    "                    experiment_id=experiment_id,\n",
    "                ) as nested_run:\n",
    "                    mlflow.set_tag(\"n_trial\", str(trial.number))\n",
    "\n",
    "                    mask_train = df_train[\"factorized\"].isin(train_indices)\n",
    "                    mask_test = df_train[\"factorized\"].isin(test_indices)\n",
    "\n",
    "                    y_train = df_train.loc[mask_train, target_col]\n",
    "                    y_val = df_train.loc[mask_test, target_col]\n",
    "                    X_train = df_train.loc[mask_train].drop(\n",
    "                        [target_col, \"factorized\"], axis=1\n",
    "                    )\n",
    "                    X_val = df_train.loc[mask_test].drop(\n",
    "                        [target_col, \"factorized\"], axis=1\n",
    "                    )\n",
    "\n",
    "                    mlflow.log_param(\"train_rows\", X_train.shape[0])\n",
    "                    mlflow.log_param(\"train_cols\", X_train.shape[1])\n",
    "\n",
    "                    model.fit(\n",
    "                        X_train,\n",
    "                        y_train,\n",
    "                        eval_set=[(X_val, y_val)],\n",
    "                        eval_metric=\"mae\",\n",
    "                        callbacks=[\n",
    "                            lgbm.callback.early_stopping(stopping_rounds=100),\n",
    "                            lgbm.callback.log_evaluation(period=100000),\n",
    "                        ],\n",
    "                    )\n",
    "\n",
    "                    log_feature_importance(\n",
    "                        trial.number,\n",
    "                        model,\n",
    "                        X_train,\n",
    "                        fold_n,\n",
    "                        experiment_purpose,\n",
    "                        experiment_date_str,\n",
    "                    )\n",
    "\n",
    "                    fold_score = model.best_score_[\"valid_0\"][\"l1\"]\n",
    "\n",
    "                    score_list.append(fold_score)\n",
    "\n",
    "                    mlflow.log_metric(\"fold_score\", round(fold_score, 6))\n",
    "                    mlflow.log_param(\"fold_number\", fold_n + 1)\n",
    "                    mlflow.log_param(\"model_name\", model_name)\n",
    "\n",
    "                    mlflow.log_params(ordered_params)\n",
    "\n",
    "                    current_time_str = datetime.now().strftime(\"%Y%m%d_%H%M%S\")\n",
    "                    model_log_name = f\"{model_name}_{trial.number}_{current_time_str}\"\n",
    "\n",
    "                    mlflow.sklearn.log_model(model, model_log_name)\n",
    "\n",
    "                    mlflow.log_param(\"run_time\", current_time_str)\n",
    "\n",
    "                    nested_run_id = nested_run.info.run_id\n",
    "                    model_path = f\"{path_artifact_location}/{run.info.experiment_id}/{nested_run_id}/artifacts/{model_log_name}/model.pkl\"\n",
    "                    mlflow.log_param(\"model_path\", model_path)\n",
    "\n",
    "                avg_score = sum(score_list) / len(score_list)\n",
    "                median_score = np.median(score_list)\n",
    "                mlflow.log_metric(\"avg score\", round(avg_score, 6))\n",
    "                mlflow.log_metric(\"median score\", round(median_score, 6))\n",
    "\n",
    "                if fold_n < N_FOLD_BREAK:\n",
    "                    break\n",
    "\n",
    "        return avg_score\n",
    "\n",
    "\n",
    "def objective(trial, df_train):\n",
    "    avg_score = run_mlflow_experiment(df_train, args, trial)\n",
    "    return avg_score\n",
    "\n",
    "\n",
    "# Run the Optuna study\n",
    "if TRAIN:\n",
    "    study = optuna.create_study(\n",
    "        direction=\"minimize\",\n",
    "        study_name=\"Your Study Name\",\n",
    "        load_if_exists=True,\n",
    "    )\n",
    "    study.optimize(lambda trial: objective(trial, df_train_feats), n_trials=N_TRIALS)"
   ]
  },
  {
   "cell_type": "code",
   "execution_count": null,
   "id": "b6088b94",
   "metadata": {
    "_cell_guid": "51030a77-aba3-469f-9c08-7963bc8a09d2",
    "_uuid": "6ff7d358-62f0-4ac9-b028-d1c920bb4eaf",
    "collapsed": false,
    "execution": {
     "iopub.execute_input": "2023-11-14T14:56:22.214485Z",
     "iopub.status.busy": "2023-11-14T14:56:22.213408Z",
     "iopub.status.idle": "2023-11-14T14:56:22.222688Z",
     "shell.execute_reply": "2023-11-14T14:56:22.221764Z"
    },
    "jupyter": {
     "outputs_hidden": false
    },
    "papermill": {
     "duration": 0.026377,
     "end_time": "2023-11-14T14:56:22.224975",
     "exception": false,
     "start_time": "2023-11-14T14:56:22.198598",
     "status": "completed"
    },
    "tags": []
   },
   "outputs": [],
   "source": [
    "if TRAIN:\n",
    "    df_exp = experiments_data(\n",
    "        client, list_experiment_id=None, save_df=None, list_columns=None\n",
    "    )\n",
    "    list_base_cols = [\n",
    "        \"run_time\",\n",
    "        \"experiment_id\",\n",
    "        \"n_trial\",\n",
    "        \"run_id\",\n",
    "        \"model_name\",\n",
    "        \"fold_number\",\n",
    "        \"fold_score\",\n",
    "    ]\n",
    "    list_dynamic_params = list(model_params_dict[\"LGBMR\"][\"dynamic_params\"].keys())\n",
    "\n",
    "    df_exp[\"run_time\"] = pd.to_datetime(\n",
    "        df_exp[\"run_time\"], format=\"%Y%m%d_%H%M%S\", errors=\"coerce\"\n",
    "    )\n",
    "\n",
    "    for col in df_exp.columns:\n",
    "        df_exp[col] = pd.to_numeric(df_exp[col], errors=\"ignore\")\n",
    "\n",
    "    for col in df_exp.select_dtypes(include=[\"float\", \"int\"]):\n",
    "        df_exp[col] = df_exp[col].round(5)\n",
    "\n",
    "    list_cols_exp = [\"run_time\"] + list_base_cols + list_dynamic_params + [\"model_path\"]\n",
    "\n",
    "    experiment_id\n",
    "    df_exp = df_exp[df_exp[\"experiment_id\"] != 0]\n",
    "\n",
    "    df_exp = df_exp[list_cols_exp]"
   ]
  },
  {
   "cell_type": "code",
   "execution_count": null,
   "id": "650227f9",
   "metadata": {
    "papermill": {
     "duration": 0.013015,
     "end_time": "2023-11-14T14:56:22.251650",
     "exception": false,
     "start_time": "2023-11-14T14:56:22.238635",
     "status": "completed"
    },
    "tags": []
   },
   "outputs": [],
   "source": []
  },
  {
   "cell_type": "code",
   "execution_count": null,
   "id": "f38daf82",
   "metadata": {
    "papermill": {
     "duration": 0.012914,
     "end_time": "2023-11-14T14:56:22.278091",
     "exception": false,
     "start_time": "2023-11-14T14:56:22.265177",
     "status": "completed"
    },
    "tags": []
   },
   "outputs": [],
   "source": []
  },
  {
   "cell_type": "code",
   "execution_count": null,
   "id": "73877ef5",
   "metadata": {
    "papermill": {
     "duration": 0.013003,
     "end_time": "2023-11-14T14:56:22.304410",
     "exception": false,
     "start_time": "2023-11-14T14:56:22.291407",
     "status": "completed"
    },
    "tags": []
   },
   "outputs": [],
   "source": []
  },
  {
   "cell_type": "code",
   "execution_count": 24,
   "id": "5606dd12",
   "metadata": {
    "_cell_guid": "d4bfb979-2758-4fe9-8947-399b1c3a574c",
    "_uuid": "bef1a199-0988-4743-813e-99d4308fc9bb",
    "collapsed": false,
    "execution": {
     "iopub.execute_input": "2023-11-14T14:56:22.335141Z",
     "iopub.status.busy": "2023-11-14T14:56:22.333876Z",
     "iopub.status.idle": "2023-11-14T14:56:22.358965Z",
     "shell.execute_reply": "2023-11-14T14:56:22.357967Z"
    },
    "jupyter": {
     "outputs_hidden": false
    },
    "papermill": {
     "duration": 0.042912,
     "end_time": "2023-11-14T14:56:22.361956",
     "exception": false,
     "start_time": "2023-11-14T14:56:22.319044",
     "status": "completed"
    },
    "tags": []
   },
   "outputs": [],
   "source": [
    "import optiver2023\n",
    "\n",
    "env = optiver2023.make_env()\n",
    "iter_test = env.iter_test()"
   ]
  },
  {
   "cell_type": "code",
   "execution_count": 25,
   "id": "6df7da97",
   "metadata": {
    "execution": {
     "iopub.execute_input": "2023-11-14T14:56:22.392008Z",
     "iopub.status.busy": "2023-11-14T14:56:22.391633Z",
     "iopub.status.idle": "2023-11-14T14:56:41.824995Z",
     "shell.execute_reply": "2023-11-14T14:56:41.823989Z"
    },
    "papermill": {
     "duration": 19.451534,
     "end_time": "2023-11-14T14:56:41.827800",
     "exception": false,
     "start_time": "2023-11-14T14:56:22.376266",
     "status": "completed"
    },
    "tags": []
   },
   "outputs": [],
   "source": [
    "df_train = pd.read_csv(\"/kaggle/input/optiver-trading-at-the-close/train.csv\")"
   ]
  },
  {
   "cell_type": "code",
   "execution_count": 26,
   "id": "c5a271b2",
   "metadata": {
    "execution": {
     "iopub.execute_input": "2023-11-14T14:56:41.857224Z",
     "iopub.status.busy": "2023-11-14T14:56:41.856845Z",
     "iopub.status.idle": "2023-11-14T14:56:43.623746Z",
     "shell.execute_reply": "2023-11-14T14:56:43.622743Z"
    },
    "papermill": {
     "duration": 1.784748,
     "end_time": "2023-11-14T14:56:43.626460",
     "exception": false,
     "start_time": "2023-11-14T14:56:41.841712",
     "status": "completed"
    },
    "tags": []
   },
   "outputs": [],
   "source": [
    "global_stock_id_feats = global_stock_id_feats(df_train)"
   ]
  },
  {
   "cell_type": "code",
   "execution_count": 27,
   "id": "02332bd9",
   "metadata": {
    "_cell_guid": "d30f3862-dca2-4242-9db0-ab9750118622",
    "_uuid": "efd9073c-aaef-4135-bf7c-1e892e9aa831",
    "collapsed": false,
    "execution": {
     "iopub.execute_input": "2023-11-14T14:56:43.655573Z",
     "iopub.status.busy": "2023-11-14T14:56:43.655161Z",
     "iopub.status.idle": "2023-11-14T15:04:39.777125Z",
     "shell.execute_reply": "2023-11-14T15:04:39.776168Z"
    },
    "jupyter": {
     "outputs_hidden": false
    },
    "papermill": {
     "duration": 476.139875,
     "end_time": "2023-11-14T15:04:39.780027",
     "exception": false,
     "start_time": "2023-11-14T14:56:43.640152",
     "status": "completed"
    },
    "tags": []
   },
   "outputs": [
    {
     "name": "stdout",
     "output_type": "stream",
     "text": [
      "This version of the API is not optimized and should not be used to estimate the runtime of your code on the hidden test set.\n"
     ]
    }
   ],
   "source": [
    "counter = 0\n",
    "df_tot_test = []\n",
    "for test, revealed_targets, sample_prediction in iter_test:\n",
    "    test[\"time_id\"] = counter\n",
    "    test[\"target\"] = \"none\"\n",
    "\n",
    "    if counter < 12:\n",
    "        df_tot_test.append(test)\n",
    "    else:\n",
    "        df_tot_test = df_tot_test[1:]\n",
    "        df_tot_test.append(test)\n",
    "\n",
    "    df_test = pd.concat(df_tot_test, axis=0, ignore_index=True)\n",
    "\n",
    "    feat = feat_engineering(df_test)\n",
    "    feat = feat.sort_values([\"date_id\", \"seconds_in_bucket\", \"stock_id\"])[-len(test) :]\n",
    "\n",
    "    list_cols_drop = [\"date_id\"]\n",
    "    feat.drop(list_cols_drop, axis=1, inplace=True)\n",
    "\n",
    "    list_features = model_prod.models[0].feature_name_\n",
    "    feat = feat[list_features]\n",
    "    sample_prediction[\"target\"] = model_prod.predict(feat, \"median\")\n",
    "    env.predict(sample_prediction)\n",
    "    counter += 1"
   ]
  },
  {
   "cell_type": "code",
   "execution_count": null,
   "id": "65e1d7f3",
   "metadata": {
    "papermill": {
     "duration": 0.013508,
     "end_time": "2023-11-14T15:04:39.808301",
     "exception": false,
     "start_time": "2023-11-14T15:04:39.794793",
     "status": "completed"
    },
    "tags": []
   },
   "outputs": [],
   "source": []
  },
  {
   "cell_type": "code",
   "execution_count": null,
   "id": "d81e6c85",
   "metadata": {
    "papermill": {
     "duration": 0.013731,
     "end_time": "2023-11-14T15:04:39.835856",
     "exception": false,
     "start_time": "2023-11-14T15:04:39.822125",
     "status": "completed"
    },
    "tags": []
   },
   "outputs": [],
   "source": [
    "# clean_directory_except_one('/kaggle/working/','submission.csv')"
   ]
  }
 ],
 "metadata": {
  "kernelspec": {
   "display_name": "Python 3",
   "language": "python",
   "name": "python3"
  },
  "language_info": {
   "codemirror_mode": {
    "name": "ipython",
    "version": 3
   },
   "file_extension": ".py",
   "mimetype": "text/x-python",
   "name": "python",
   "nbconvert_exporter": "python",
   "pygments_lexer": "ipython3",
   "version": "3.10.13"
  },
  "papermill": {
   "default_parameters": {},
   "duration": 512.699896,
   "end_time": "2023-11-14T15:04:41.475793",
   "environment_variables": {},
   "exception": null,
   "input_path": "__notebook__.ipynb",
   "output_path": "__notebook__.ipynb",
   "parameters": {},
   "start_time": "2023-11-14T14:56:08.775897",
   "version": "2.4.0"
  }
 },
 "nbformat": 4,
 "nbformat_minor": 5
}
