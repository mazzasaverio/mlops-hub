{
 "cells": [
  {
   "cell_type": "code",
   "execution_count": 1,
   "id": "dd2b4af9",
   "metadata": {
    "execution": {
     "iopub.execute_input": "2023-11-30T20:10:23.354908Z",
     "iopub.status.busy": "2023-11-30T20:10:23.354418Z",
     "iopub.status.idle": "2023-11-30T20:10:23.374378Z",
     "shell.execute_reply": "2023-11-30T20:10:23.372908Z"
    },
    "papermill": {
     "duration": 0.03726,
     "end_time": "2023-11-30T20:10:23.377479",
     "exception": false,
     "start_time": "2023-11-30T20:10:23.340219",
     "status": "completed"
    },
    "tags": []
   },
   "outputs": [],
   "source": [
    "# Constants and Configuration Variables\n",
    "DEBUG = False\n",
    "TRAIN = False\n",
    "TUNING = True\n",
    "OVERWRITE_PROCESSED_DATA = True\n",
    "N_TRIALS = 10\n",
    "STATE = 42\n",
    "N_FOLD_BREAK = 7\n",
    "\n",
    "GPU_SWITCH = \"OFF\"\n",
    "N_SPLITS = 5\n",
    "N_TEST_SPLITS = 1\n",
    "N_PURGE = 20\n",
    "N_EMBARGO = 20\n",
    "\n",
    "SAVE_MODELS = False\n",
    "\n",
    "VERSION_NB = 22\n",
    "EXPERIMENT_PURPOSE = \"optiver_trading_at_the_close\"\n",
    "\n",
    "list_experiment_id = [\"329561590225205643\"]\n",
    "run_name_startswith = \"23_11_20_111711_fold\"\n",
    "\n",
    "model_params_dict = {\n",
    "    \"LGBMR\": {\n",
    "        \"static_params\": {\n",
    "            \"device\": \"gpu\" if GPU_SWITCH == \"ON\" else \"cpu\",\n",
    "            \"objective\": \"mae\",\n",
    "            \"boosting_type\": \"gbdt\",\n",
    "            \"random_state\": STATE,\n",
    "            \"n_jobs\": 4,\n",
    "            \"verbose\": -1,\n",
    "            \"importance_type\": \"gain\",\n",
    "            \"max_bin\": 254,\n",
    "        },\n",
    "        \"dynamic_params\": {\n",
    "            \"n_estimators\": {\n",
    "                \"type\": \"int\",\n",
    "                \"low\": 1000,\n",
    "                \"high\": 1000,\n",
    "            },\n",
    "            \"learning_rate\": {\n",
    "                \"type\": \"float\",\n",
    "                \"low\": 0.0131,\n",
    "                \"high\": 0.0131,\n",
    "            },\n",
    "            \"max_depth\": {\"type\": \"int\", \"low\": 13, \"high\": 13},\n",
    "            \"num_leaves\": {\n",
    "                \"type\": \"int\",\n",
    "                \"low\": 205,\n",
    "                \"high\": 205,\n",
    "            },\n",
    "            \"min_child_samples\": {\n",
    "                \"type\": \"int\",\n",
    "                \"low\": 20,\n",
    "                \"high\": 20,\n",
    "            },\n",
    "            \"subsample\": {\n",
    "                \"type\": \"float\",\n",
    "                \"low\": 0.45,\n",
    "                \"high\": 0.45,\n",
    "            },\n",
    "            \"colsample_bytree\": {\n",
    "                \"type\": \"float\",\n",
    "                \"low\": 0.5,\n",
    "                \"high\": 0.5,\n",
    "            },\n",
    "        },\n",
    "    },\n",
    "}\n",
    "\n",
    "\n",
    "# Define the model name for registration in MLflow\n",
    "version = 12\n",
    "model_name = f\"ensemble_model_{version}.pkl\"\n",
    "folder_model = f\"models-v{version}\""
   ]
  },
  {
   "cell_type": "code",
   "execution_count": 2,
   "id": "ff6e885f",
   "metadata": {
    "execution": {
     "iopub.execute_input": "2023-11-30T20:10:23.403974Z",
     "iopub.status.busy": "2023-11-30T20:10:23.403530Z",
     "iopub.status.idle": "2023-11-30T20:10:25.824022Z",
     "shell.execute_reply": "2023-11-30T20:10:25.822751Z"
    },
    "papermill": {
     "duration": 2.437614,
     "end_time": "2023-11-30T20:10:25.827494",
     "exception": false,
     "start_time": "2023-11-30T20:10:23.389880",
     "status": "completed"
    },
    "tags": []
   },
   "outputs": [],
   "source": [
    "# External general-purpose modules\n",
    "import gc\n",
    "import sys\n",
    "import os\n",
    "import pickle\n",
    "import itertools as itt\n",
    "from itertools import combinations, product\n",
    "from datetime import datetime\n",
    "import numpy as np\n",
    "import pandas as pd\n",
    "\n",
    "import joblib\n",
    "import time\n",
    "from tqdm import tqdm\n",
    "\n",
    "from pathlib import Path\n",
    "import warnings\n",
    "from numba import njit, prange\n",
    "import boto3\n",
    "from botocore.exceptions import NoCredentialsError\n",
    "from dotenv import load_dotenv\n",
    "\n",
    "\n",
    "# Setting pandas options and warning filters\n",
    "pd.set_option(\"display.max_columns\", None)\n",
    "warnings.filterwarnings(\"ignore\")\n",
    "warnings.simplefilter(action=\"ignore\", category=pd.errors.PerformanceWarning)\n",
    "\n",
    "# Load environment variables\n",
    "load_dotenv()\n",
    "path_root_project = Path.cwd()\n",
    "if path_root_project.name not in [\"working\", \"content\"]:\n",
    "    path_root_project = Path(os.getenv(\"ROOT_PATH\") or path_root_project)\n",
    "\n",
    "    directories_to_add = [\"utils\", \"feat_engineering\", \"validation\"]\n",
    "    for directory in directories_to_add:\n",
    "        sys.path.append(str(path_root_project / \"src\" / directory))\n",
    "\n",
    "\n",
    "from utils_training import create_model, experiments_data\n",
    "from utils_data import load_config, load_dataset, reduce_mem_usage, PathManager\n",
    "from utils_kaggle import (\n",
    "    setup_kaggle,\n",
    "    download_data,\n",
    "    get_data,\n",
    "    clean_directory_except_one,\n",
    ")\n",
    "\n",
    "from fe_optiver_trading_at_the_close import (\n",
    "    calculate_triplet_imbalance_numba,\n",
    "    convert_weights_to_dict,\n",
    "    global_stock_id_feats,\n",
    "    compute_rolling_averages,\n",
    "    generate_rsi,\n",
    ")\n",
    "\n",
    "pm = PathManager(path_root_project)\n",
    "\n",
    "if TRAIN:\n",
    "    if pm.path_root_project.name == \"working\":\n",
    "        from kaggle_secrets import UserSecretsClient\n",
    "\n",
    "        user_secrets = UserSecretsClient()\n",
    "        aws_access_key_id = user_secrets.get_secret(\"AWS_ACCESS_KEY_ID\")\n",
    "        aws_region = user_secrets.get_secret(\"AWS_DEFAULT_REGION\")\n",
    "        aws_secret_access_key = user_secrets.get_secret(\"AWS_SECRET_ACCESS_KEY\")\n",
    "        s3_bucket_name = user_secrets.get_secret(\"S3_BUCKET\")\n",
    "\n",
    "        # Set AWS credentials in the environment variables\n",
    "        os.environ[\"AWS_ACCESS_KEY_ID\"] = aws_access_key_id\n",
    "        os.environ[\"AWS_SECRET_ACCESS_KEY\"] = aws_secret_access_key\n",
    "        os.environ[\"AWS_DEFAULT_REGION\"] = aws_region\n",
    "    else:\n",
    "        aws_access_key_id = os.getenv(\"AWS_ACCESS_KEY_ID\")\n",
    "        aws_secret_access_key = os.getenv(\"AWS_SECRET_ACCESS_KEY\")"
   ]
  },
  {
   "cell_type": "code",
   "execution_count": 3,
   "id": "8aad6102",
   "metadata": {
    "execution": {
     "iopub.execute_input": "2023-11-30T20:10:25.854876Z",
     "iopub.status.busy": "2023-11-30T20:10:25.854079Z",
     "iopub.status.idle": "2023-11-30T20:10:30.579272Z",
     "shell.execute_reply": "2023-11-30T20:10:30.578036Z"
    },
    "papermill": {
     "duration": 4.741418,
     "end_time": "2023-11-30T20:10:30.581998",
     "exception": false,
     "start_time": "2023-11-30T20:10:25.840580",
     "status": "completed"
    },
    "tags": []
   },
   "outputs": [
    {
     "name": "stdout",
     "output_type": "stream",
     "text": [
      "defaultdict(<class 'collections.OrderedDict'>, {'valid_0': OrderedDict([('l1', 5.655647631686068)])})\n",
      "defaultdict(<class 'collections.OrderedDict'>, {'valid_0': OrderedDict([('l1', 7.070589227107189)])})\n",
      "defaultdict(<class 'collections.OrderedDict'>, {'valid_0': OrderedDict([('l1', 6.410497376211345)])})\n",
      "defaultdict(<class 'collections.OrderedDict'>, {'valid_0': OrderedDict([('l1', 6.336143849666122)])})\n",
      "defaultdict(<class 'collections.OrderedDict'>, {'valid_0': OrderedDict([('l1', 5.967429157930154)])})\n"
     ]
    }
   ],
   "source": [
    "model_prod = joblib.load(pm.path_model_production / folder_model / model_name)\n",
    "\n",
    "model = model_prod.models[0]\n",
    "for model in model_prod.models:\n",
    "    print(model.best_score_)"
   ]
  },
  {
   "cell_type": "code",
   "execution_count": null,
   "id": "fe53ea7f",
   "metadata": {
    "papermill": {
     "duration": 0.01272,
     "end_time": "2023-11-30T20:10:30.607109",
     "exception": false,
     "start_time": "2023-11-30T20:10:30.594389",
     "status": "completed"
    },
    "tags": []
   },
   "outputs": [],
   "source": []
  },
  {
   "cell_type": "code",
   "execution_count": 4,
   "id": "951f3d0c",
   "metadata": {
    "execution": {
     "iopub.execute_input": "2023-11-30T20:10:30.634072Z",
     "iopub.status.busy": "2023-11-30T20:10:30.633643Z",
     "iopub.status.idle": "2023-11-30T20:10:30.638706Z",
     "shell.execute_reply": "2023-11-30T20:10:30.637490Z"
    },
    "papermill": {
     "duration": 0.021179,
     "end_time": "2023-11-30T20:10:30.641166",
     "exception": false,
     "start_time": "2023-11-30T20:10:30.619987",
     "status": "completed"
    },
    "tags": []
   },
   "outputs": [],
   "source": [
    "# df_feat = pd.read_csv(\"/kaggle/working/feat_impor_optiver_trading_at_the_close_23_11_18_0438.csv\").sort_values(\"t0_imp_fold_1\")"
   ]
  },
  {
   "cell_type": "code",
   "execution_count": 5,
   "id": "0a1d67c5",
   "metadata": {
    "execution": {
     "iopub.execute_input": "2023-11-30T20:10:30.668692Z",
     "iopub.status.busy": "2023-11-30T20:10:30.668224Z",
     "iopub.status.idle": "2023-11-30T20:10:30.678704Z",
     "shell.execute_reply": "2023-11-30T20:10:30.677501Z"
    },
    "papermill": {
     "duration": 0.027551,
     "end_time": "2023-11-30T20:10:30.681269",
     "exception": false,
     "start_time": "2023-11-30T20:10:30.653718",
     "status": "completed"
    },
    "tags": []
   },
   "outputs": [],
   "source": [
    "def aggregate_feature_importance(df_feat_importance):\n",
    "    df_feat_importance[\"feat_imp_mean\"] = df_feat_importance.loc[\n",
    "        :, df_feat_importance.columns != \"feat\"\n",
    "    ].mean(axis=1, skipna=True)\n",
    "\n",
    "    df_feat_importance.sort_values(\"feat_imp_mean\", inplace=True, ascending=False)\n",
    "    df_feat_importance.reset_index(drop=True, inplace=True)\n",
    "\n",
    "    cols = [\n",
    "        col\n",
    "        for col in df_feat_importance.columns\n",
    "        if col not in [\"feat\", \"feat_imp_mean\"]\n",
    "    ]\n",
    "\n",
    "    df_feat_importance[\"feat_imp_std\"] = df_feat_importance.loc[:, cols].std(\n",
    "        axis=1, skipna=True\n",
    "    )\n",
    "\n",
    "    df_feat_importance[\"feat_imp_variability\"] = (\n",
    "        df_feat_importance[\"feat_imp_std\"] / df_feat_importance[\"feat_imp_mean\"]\n",
    "    )\n",
    "\n",
    "    return df_feat_importance"
   ]
  },
  {
   "cell_type": "code",
   "execution_count": 6,
   "id": "367c7a50",
   "metadata": {
    "execution": {
     "iopub.execute_input": "2023-11-30T20:10:30.708284Z",
     "iopub.status.busy": "2023-11-30T20:10:30.707897Z",
     "iopub.status.idle": "2023-11-30T20:10:30.716415Z",
     "shell.execute_reply": "2023-11-30T20:10:30.715124Z"
    },
    "papermill": {
     "duration": 0.024956,
     "end_time": "2023-11-30T20:10:30.718965",
     "exception": false,
     "start_time": "2023-11-30T20:10:30.694009",
     "status": "completed"
    },
    "tags": []
   },
   "outputs": [],
   "source": [
    "def log_feature_importance(trial_number, model, X, fold_n, exp_purpose, exp_date_str):\n",
    "    \"\"\"\n",
    "    Logs the feature importances for a given model and fold number.\n",
    "    \"\"\"\n",
    "\n",
    "    feature_importances = model.feature_importances_\n",
    "    new_importance_df = pd.DataFrame(\n",
    "        {\"feat\": X.columns, f\"t{trial_number}_imp_fold_{fold_n+1}\": feature_importances}\n",
    "    )\n",
    "\n",
    "    csv_path = f\"feat_impor_{exp_purpose}_{exp_date_str}.csv\"\n",
    "\n",
    "    # Check if the CSV already exists\n",
    "    if os.path.exists(csv_path):\n",
    "        # If so, read it and merge with the new importance values\n",
    "        existing_df = pd.read_csv(csv_path)\n",
    "        importance_df = pd.merge(existing_df, new_importance_df, on=\"feat\", how=\"outer\")\n",
    "    else:\n",
    "        # If not, create a new DataFrame\n",
    "        importance_df = new_importance_df\n",
    "\n",
    "    # Save the updated DataFrame to CSV\n",
    "    importance_df.to_csv(csv_path, index=False)\n",
    "\n",
    "\n",
    "#    mlflow.log_artifact(csv_path)"
   ]
  },
  {
   "cell_type": "code",
   "execution_count": null,
   "id": "77a559d2",
   "metadata": {
    "papermill": {
     "duration": 0.012108,
     "end_time": "2023-11-30T20:10:30.743514",
     "exception": false,
     "start_time": "2023-11-30T20:10:30.731406",
     "status": "completed"
    },
    "tags": []
   },
   "outputs": [],
   "source": []
  },
  {
   "cell_type": "code",
   "execution_count": null,
   "id": "d7867e12",
   "metadata": {
    "papermill": {
     "duration": 0.012043,
     "end_time": "2023-11-30T20:10:30.768018",
     "exception": false,
     "start_time": "2023-11-30T20:10:30.755975",
     "status": "completed"
    },
    "tags": []
   },
   "outputs": [],
   "source": []
  },
  {
   "cell_type": "code",
   "execution_count": 7,
   "id": "3d3f74eb",
   "metadata": {
    "execution": {
     "iopub.execute_input": "2023-11-30T20:10:30.794963Z",
     "iopub.status.busy": "2023-11-30T20:10:30.794252Z",
     "iopub.status.idle": "2023-11-30T20:10:30.821855Z",
     "shell.execute_reply": "2023-11-30T20:10:30.820529Z"
    },
    "papermill": {
     "duration": 0.044408,
     "end_time": "2023-11-30T20:10:30.824893",
     "exception": false,
     "start_time": "2023-11-30T20:10:30.780485",
     "status": "completed"
    },
    "tags": []
   },
   "outputs": [],
   "source": [
    "\n",
    "\n",
    "# Conditional imports and settings based on TRAIN constant\n",
    "if TRAIN:\n",
    "    if pm.path_root_project.name == \"working\":\n",
    "        !pip install loguru mlflow optuna > /dev/null\n",
    "\n",
    "        #!pip uninstall -y polars\n",
    "\n",
    "        #!pip install functime --no-index --find-links=file:///kaggle/input/functime/functime/\n",
    "        #!pip install polars --no-index --find-links=file:///kaggle/input/polars/polars/\n",
    "        !pip install polars\n",
    "        from functime.functime.cross_validation import train_test_split\n",
    "        #import polars.polars as pl\n",
    "        import polars as pl\n",
    "    from utils_mlflow import (\n",
    "        get_experiments_df,\n",
    "        delete_runs_and_artifacts,\n",
    "        download_and_load_model,\n",
    "        load_models_and_create_ensemble,\n",
    "        save_and_register_model,\n",
    "        log_model_parameters,\n",
    "        get_or_create_experiment,\n",
    "        experiments_data,\n",
    "      #  list_path_models\n",
    "        )\n",
    "    from utils_feat_importance import log_feature_importance, aggregate_feature_importance\n",
    "    from model_validation import time_series_split\n",
    "\n",
    "    # External Libraries\n",
    "    import boto3\n",
    "    from botocore.exceptions import NoCredentialsError\n",
    "    from mlflow.exceptions import MlflowException\n",
    "    import lightgbm as lgbm\n",
    "    import mlflow\n",
    "    import optuna\n",
    "    from mlflow.tracking import MlflowClient\n",
    "    from optuna.integration.mlflow import MLflowCallback\n",
    "    from sklearn.model_selection import KFold\n",
    "    from xgboost import XGBRegressor as XGBR\n",
    "    from lightgbm import log_evaluation, early_stopping, LGBMRegressor as LGBMR\n",
    "\n",
    "\n",
    "\n",
    "    # Auto-reload modules - Specific to Jupyter Notebooks\n",
    "    %load_ext autoreload\n",
    "    %autoreload 2\n",
    "    if not DEBUG:\n",
    "        mlflow.set_tracking_uri(pm.path_experiments_dir)\n",
    "\n",
    "    client = MlflowClient()\n",
    "\n",
    "    # Create an S3 client\n",
    "    s3 = boto3.client(\n",
    "        \"s3\",\n",
    "        aws_access_key_id=aws_access_key_id,\n",
    "        aws_secret_access_key=aws_secret_access_key,\n",
    "    )"
   ]
  },
  {
   "cell_type": "code",
   "execution_count": null,
   "id": "c3c1fa90",
   "metadata": {
    "papermill": {
     "duration": 0.012707,
     "end_time": "2023-11-30T20:10:30.850940",
     "exception": false,
     "start_time": "2023-11-30T20:10:30.838233",
     "status": "completed"
    },
    "tags": []
   },
   "outputs": [],
   "source": []
  },
  {
   "cell_type": "code",
   "execution_count": 8,
   "id": "febc2d76",
   "metadata": {
    "execution": {
     "iopub.execute_input": "2023-11-30T20:10:30.878081Z",
     "iopub.status.busy": "2023-11-30T20:10:30.877690Z",
     "iopub.status.idle": "2023-11-30T20:10:30.885579Z",
     "shell.execute_reply": "2023-11-30T20:10:30.884094Z"
    },
    "papermill": {
     "duration": 0.024529,
     "end_time": "2023-11-30T20:10:30.888388",
     "exception": false,
     "start_time": "2023-11-30T20:10:30.863859",
     "status": "completed"
    },
    "tags": []
   },
   "outputs": [],
   "source": [
    "def save_and_register_model(ensemble_model, model_name):\n",
    "    \"\"\"\n",
    "    Function to save and register the ensemble model\n",
    "    \"\"\"\n",
    "    with open(model_name, \"wb\") as f:\n",
    "        pickle.dump(ensemble_model, f)\n",
    "\n",
    "    with mlflow.start_run() as run:\n",
    "        mlflow.log_artifact(model_name, \"model\")\n",
    "        run_id = run.info.run_id\n",
    "\n",
    "        # Records the model in the Model Registry\n",
    "        model_uri = f\"runs:/{run_id}/model\"\n",
    "        mlflow.register_model(model_uri, model_name)\n",
    "\n",
    "    # Clean up the local file system\n",
    "    # if os.path.exists(temp_ensemble_path):\n",
    "    #     os.remove(temp_ensemble_path)\n",
    "\n",
    "    print(f\"Ensemble model registered under run_id: {run_id}\")"
   ]
  },
  {
   "cell_type": "code",
   "execution_count": 9,
   "id": "021b23a1",
   "metadata": {
    "execution": {
     "iopub.execute_input": "2023-11-30T20:10:30.916012Z",
     "iopub.status.busy": "2023-11-30T20:10:30.915558Z",
     "iopub.status.idle": "2023-11-30T20:10:30.924775Z",
     "shell.execute_reply": "2023-11-30T20:10:30.922658Z"
    },
    "papermill": {
     "duration": 0.02665,
     "end_time": "2023-11-30T20:10:30.927988",
     "exception": false,
     "start_time": "2023-11-30T20:10:30.901338",
     "status": "completed"
    },
    "tags": []
   },
   "outputs": [],
   "source": [
    "if SAVE_MODELS:\n",
    "    # model_paths = list_path_models(list_experiment_id, run_name_startswith)\n",
    "    model_paths = [\n",
    "        \"s3://mlflow-v1/kaggle_optiver_trading_at_the_close/b5c5ccea4db545a7ad3f8db19780e059/artifacts/LGBMR_0_20231130_184805/model.pkl\",\n",
    "        \"s3://mlflow-v1/kaggle_optiver_trading_at_the_close/cd6c9ceddd4c45c69e14311da59f66c6/artifacts/LGBMR_0_20231130_184325/model.pkl\",\n",
    "        \"s3://mlflow-v1/kaggle_optiver_trading_at_the_close/2438bcb4cafd401697dcad61c79e1517/artifacts/LGBMR_0_20231130_183846/model.pkl\",\n",
    "        \"s3://mlflow-v1/kaggle_optiver_trading_at_the_close/6f22898cbccc4959b8cd9c70bc5de2b5/artifacts/LGBMR_0_20231130_183400/model.pkl\",\n",
    "        \"s3://mlflow-v1/kaggle_optiver_trading_at_the_close/239b00d1308a4c5faf19a5c479705a8d/artifacts/LGBMR_0_20231130_182911/model.pkl\",\n",
    "    ]\n",
    "    s3 = boto3.client(\n",
    "        \"s3\",\n",
    "        aws_access_key_id=aws_access_key_id,\n",
    "        aws_secret_access_key=aws_secret_access_key,\n",
    "    )\n",
    "    # Load the models and create an ensemble\n",
    "    ensemble_model = load_models_and_create_ensemble(s3, model_paths)\n",
    "\n",
    "    # Save and register the ensemble model in MLflow\n",
    "    save_and_register_model(ensemble_model, model_name)"
   ]
  },
  {
   "cell_type": "code",
   "execution_count": null,
   "id": "4f349873",
   "metadata": {
    "papermill": {
     "duration": 0.012205,
     "end_time": "2023-11-30T20:10:30.953089",
     "exception": false,
     "start_time": "2023-11-30T20:10:30.940884",
     "status": "completed"
    },
    "tags": []
   },
   "outputs": [],
   "source": []
  },
  {
   "cell_type": "code",
   "execution_count": null,
   "id": "c690aef7",
   "metadata": {
    "papermill": {
     "duration": 0.012086,
     "end_time": "2023-11-30T20:10:30.977909",
     "exception": false,
     "start_time": "2023-11-30T20:10:30.965823",
     "status": "completed"
    },
    "tags": []
   },
   "outputs": [],
   "source": []
  },
  {
   "cell_type": "code",
   "execution_count": 10,
   "id": "f9ee5702",
   "metadata": {
    "execution": {
     "iopub.execute_input": "2023-11-30T20:10:31.005139Z",
     "iopub.status.busy": "2023-11-30T20:10:31.004741Z",
     "iopub.status.idle": "2023-11-30T20:10:31.015015Z",
     "shell.execute_reply": "2023-11-30T20:10:31.013801Z"
    },
    "papermill": {
     "duration": 0.026837,
     "end_time": "2023-11-30T20:10:31.017691",
     "exception": false,
     "start_time": "2023-11-30T20:10:30.990854",
     "status": "completed"
    },
    "tags": []
   },
   "outputs": [],
   "source": [
    "if TRAIN:\n",
    "    if not os.path.exists(pm.path_dataset_processed) or OVERWRITE_PROCESSED_DATA:\n",
    "        df_train_raw = pd.read_csv(pm.path_data_train_raw)\n",
    "\n",
    "        if DEBUG:\n",
    "            df_train_raw = df_train_raw[df_train_raw[\"stock_id\"].isin([0, 1, 2, 3, 4])]\n",
    "\n",
    "        drop_idx = df_train_raw.loc[\n",
    "            df_train_raw[\"target\"].isna(), \"target\"\n",
    "        ].index.to_list()\n",
    "        df_train = df_train_raw.drop(drop_idx, axis=0)\n",
    "        df_train.reset_index(drop=True, inplace=True)\n",
    "    else:\n",
    "        df_train = pd.read_csv(pm.path_dataset_processed)\n",
    "        if DEBUG:\n",
    "            df_train = df_train[df_train[\"stock_id\"].isin([0, 1, 2, 3, 4])]\n",
    "\n",
    "    # df_train.sort_values([\"time_id\", \"stock_id\"], inplace=True)"
   ]
  },
  {
   "cell_type": "code",
   "execution_count": null,
   "id": "da602995",
   "metadata": {
    "papermill": {
     "duration": 0.013025,
     "end_time": "2023-11-30T20:10:31.043923",
     "exception": false,
     "start_time": "2023-11-30T20:10:31.030898",
     "status": "completed"
    },
    "tags": []
   },
   "outputs": [],
   "source": []
  },
  {
   "cell_type": "code",
   "execution_count": 11,
   "id": "069f1a06",
   "metadata": {
    "execution": {
     "iopub.execute_input": "2023-11-30T20:10:31.071675Z",
     "iopub.status.busy": "2023-11-30T20:10:31.071242Z",
     "iopub.status.idle": "2023-11-30T20:10:31.092463Z",
     "shell.execute_reply": "2023-11-30T20:10:31.090950Z"
    },
    "papermill": {
     "duration": 0.03863,
     "end_time": "2023-11-30T20:10:31.095387",
     "exception": false,
     "start_time": "2023-11-30T20:10:31.056757",
     "status": "completed"
    },
    "tags": []
   },
   "outputs": [],
   "source": [
    "def feat_engineering(df_train):\n",
    "    df = pl.DataFrame(df_train)\n",
    "\n",
    "    df = df.with_columns(\n",
    "        [\n",
    "            pl.col(\"time_id\").cast(pl.Int32),\n",
    "            (pl.col(\"imbalance_size\") * pl.col(\"imbalance_buy_sell_flag\")).alias(\n",
    "                \"imbalance_size\"\n",
    "            ),\n",
    "        ]\n",
    "    )\n",
    "\n",
    "    df = df.drop(\"row_id\", \"date_id\", \"imbalance_buy_sell_flag\")\n",
    "\n",
    "    df_size_sum = df.groupby(\"time_id\").agg(\n",
    "        [pl.col(\"matched_size\").sum().alias(\"matched_size_sum\")]\n",
    "    )\n",
    "\n",
    "    df = df.join(df_size_sum, on=\"time_id\")\n",
    "\n",
    "    df = df.with_columns(\n",
    "        (pl.col(\"matched_size\") / pl.col(\"matched_size_sum\")).alias(\n",
    "            \"matched_size_ratio\"\n",
    "        )\n",
    "    )\n",
    "\n",
    "    df = df.with_columns(\n",
    "        [(pl.col(\"matched_size_ratio\") * pl.col(\"wap\")).alias(\"weighted_wap\")]\n",
    "    )\n",
    "\n",
    "    # Aggregazione delle dimensioni totali per time_id\n",
    "    df_weighted_wap_sum = df.groupby(\"time_id\").agg(\n",
    "        [pl.col(\"weighted_wap\").sum().alias(\"index_approx\")]\n",
    "    )\n",
    "\n",
    "    # Unione delle statistiche al DataFrame originale\n",
    "    df = df.join(df_weighted_wap_sum, on=\"time_id\")\n",
    "\n",
    "    #################################################################################\n",
    "\n",
    "    # Calcolo delle statistiche di mercato per WAP\n",
    "    wap_market_stats = df.groupby([\"time_id\"]).agg(\n",
    "        [\n",
    "            pl.col(\"wap\").mean().alias(\"wap_mean\"),\n",
    "            pl.col(\"wap\").median().alias(\"wap_median\"),\n",
    "            pl.col(\"wap\").std().alias(\"wap_std\"),\n",
    "            pl.col(\"wap\").quantile(0.25).alias(\"wap_quantile_25\"),\n",
    "            pl.col(\"wap\").quantile(0.75).alias(\"wap_quantile_75\"),\n",
    "        ]\n",
    "    )\n",
    "\n",
    "    # Unione delle statistiche al DataFrame originale\n",
    "    df = df.join(wap_market_stats, on=[\"time_id\"])\n",
    "\n",
    "    df = df.sort([\"stock_id\", \"time_id\"])\n",
    "\n",
    "    df = df.with_columns(\n",
    "        [\n",
    "            ((pl.col(\"wap\") / pl.col(\"wap\").shift(6)) * 10000)\n",
    "            .over(\"stock_id\")\n",
    "            .alias(\"wap_return_6\"),\n",
    "            ((pl.col(\"wap_mean\") / pl.col(\"wap_mean\").shift(6)) * 10000)\n",
    "            .over(\"stock_id\")\n",
    "            .alias(\"wap_mean_return_6\"),\n",
    "            ((pl.col(\"index_approx\") / pl.col(\"index_approx\").shift(6)) * 10000)\n",
    "            .over(\"stock_id\")\n",
    "            .alias(\"index_approx_return_6\"),\n",
    "        ]\n",
    "    )\n",
    "\n",
    "    # Calcolo della differenza dei rendimenti in basis points\n",
    "    df = df.with_columns(\n",
    "        (pl.col(\"wap_return_6\") - pl.col(\"wap_mean_return_6\")).alias(\n",
    "            \"wap_delta_return_6\"\n",
    "        )\n",
    "    )\n",
    "\n",
    "    df = df.with_columns(\n",
    "        (pl.col(\"wap_return_6\") - pl.col(\"index_approx_return_6\")).alias(\n",
    "            \"target_approx\"\n",
    "        )\n",
    "    )\n",
    "\n",
    "    list_cols = [\"wap_delta_return_6\", \"target_approx\"]\n",
    "\n",
    "    for col in list_cols:\n",
    "        for window in tqdm([3, 6, 9, 15], desc=f\"rolling mean for {col}\"):\n",
    "            rolling_group = df.group_by_rolling(\n",
    "                index_column=\"time_id\",\n",
    "                period=f\"{window}i\",\n",
    "                by=\"stock_id\",\n",
    "                closed=\"left\",  # Adjust as needed\n",
    "            )\n",
    "\n",
    "            df = df.join(\n",
    "                rolling_group.agg(pl.col(col).mean().alias(f\"{col}_mean_{window}\")),\n",
    "                on=[\"stock_id\", \"time_id\"],\n",
    "                how=\"left\",\n",
    "            )\n",
    "        for window in tqdm([9, 15, 30], desc=f\"rolling std for {col}\"):\n",
    "            rolling_group = df.group_by_rolling(\n",
    "                index_column=\"time_id\",\n",
    "                period=f\"{window}i\",\n",
    "                by=\"stock_id\",\n",
    "                closed=\"left\",  # Adjust as needed\n",
    "            )\n",
    "\n",
    "            df = df.join(\n",
    "                rolling_group.agg(pl.col(col).std().alias(f\"{col}_std_{window}\")),\n",
    "                on=[\"stock_id\", \"time_id\"],\n",
    "                how=\"left\",\n",
    "            )\n",
    "    return df.to_pandas()"
   ]
  },
  {
   "cell_type": "code",
   "execution_count": 12,
   "id": "58e21dfb",
   "metadata": {
    "execution": {
     "iopub.execute_input": "2023-11-30T20:10:31.123394Z",
     "iopub.status.busy": "2023-11-30T20:10:31.122979Z",
     "iopub.status.idle": "2023-11-30T20:10:31.128376Z",
     "shell.execute_reply": "2023-11-30T20:10:31.127242Z"
    },
    "papermill": {
     "duration": 0.022286,
     "end_time": "2023-11-30T20:10:31.130708",
     "exception": false,
     "start_time": "2023-11-30T20:10:31.108422",
     "status": "completed"
    },
    "tags": []
   },
   "outputs": [],
   "source": [
    "if TRAIN:\n",
    "    df_train_feats = feat_engineering(df_train)\n",
    "    print(\"Build Online Train Feats Finished.\")\n",
    "\n",
    "    df_train_feats = reduce_mem_usage(df_train_feats)"
   ]
  },
  {
   "cell_type": "code",
   "execution_count": null,
   "id": "d5164302",
   "metadata": {
    "papermill": {
     "duration": 0.012994,
     "end_time": "2023-11-30T20:10:31.157684",
     "exception": false,
     "start_time": "2023-11-30T20:10:31.144690",
     "status": "completed"
    },
    "tags": []
   },
   "outputs": [],
   "source": []
  },
  {
   "cell_type": "code",
   "execution_count": 13,
   "id": "5d424444",
   "metadata": {
    "execution": {
     "iopub.execute_input": "2023-11-30T20:10:31.185414Z",
     "iopub.status.busy": "2023-11-30T20:10:31.185010Z",
     "iopub.status.idle": "2023-11-30T20:10:31.191882Z",
     "shell.execute_reply": "2023-11-30T20:10:31.190532Z"
    },
    "papermill": {
     "duration": 0.023601,
     "end_time": "2023-11-30T20:10:31.194201",
     "exception": false,
     "start_time": "2023-11-30T20:10:31.170600",
     "status": "completed"
    },
    "tags": []
   },
   "outputs": [],
   "source": [
    "if TRAIN:\n",
    "    col_split = \"time_id\"\n",
    "    df_train_feats.sort_values([col_split], inplace=True)\n",
    "\n",
    "    df_train_feats[\"factorized\"] = pd.factorize(df_train_feats[col_split])[0]\n",
    "\n",
    "    df_train_feats.sort_values([\"time_id\", \"stock_id\"], inplace=True)\n",
    "    list_cols_drop = [ \"time_id\"]\n",
    "\n",
    "    df_train_feats.reset_index(drop=True, inplace=True)\n",
    "    df_train_feats.drop(list_cols_drop, axis=1, inplace=True)"
   ]
  },
  {
   "cell_type": "code",
   "execution_count": null,
   "id": "6b8c054f",
   "metadata": {
    "papermill": {
     "duration": 0.013251,
     "end_time": "2023-11-30T20:10:31.220391",
     "exception": false,
     "start_time": "2023-11-30T20:10:31.207140",
     "status": "completed"
    },
    "tags": []
   },
   "outputs": [],
   "source": []
  },
  {
   "cell_type": "code",
   "execution_count": null,
   "id": "744e9ddd",
   "metadata": {
    "papermill": {
     "duration": 0.012515,
     "end_time": "2023-11-30T20:10:31.246001",
     "exception": false,
     "start_time": "2023-11-30T20:10:31.233486",
     "status": "completed"
    },
    "tags": []
   },
   "outputs": [],
   "source": []
  },
  {
   "cell_type": "code",
   "execution_count": 14,
   "id": "c7813a17",
   "metadata": {
    "execution": {
     "iopub.execute_input": "2023-11-30T20:10:31.273797Z",
     "iopub.status.busy": "2023-11-30T20:10:31.273383Z",
     "iopub.status.idle": "2023-11-30T20:10:31.285259Z",
     "shell.execute_reply": "2023-11-30T20:10:31.284020Z"
    },
    "papermill": {
     "duration": 0.029063,
     "end_time": "2023-11-30T20:10:31.288025",
     "exception": false,
     "start_time": "2023-11-30T20:10:31.258962",
     "status": "completed"
    },
    "tags": []
   },
   "outputs": [],
   "source": [
    "if TRAIN:\n",
    "    experiment_name = f\"{EXPERIMENT_PURPOSE}_v{VERSION_NB}\"\n",
    "    name_folder_models = f\"models_v{VERSION_NB}\"\n",
    "\n",
    "    experiment_date_str = datetime.now().strftime(\"%y_%m_%d_%H%M\")\n",
    "\n",
    "    if DEBUG:\n",
    "        experiment_name = f\"{experiment_name}_debug\"\n",
    "        name_folder_models = f\"{name_folder_models}_debug\"\n",
    "        path_artifact_location = \".\"\n",
    "    else:\n",
    "        path_artifact_location = pm.path_artifact_location\n",
    "\n",
    "    experiment_id = get_or_create_experiment(\n",
    "        client, experiment_name, artifact_location=path_artifact_location\n",
    "    )\n",
    "\n",
    "    nbrnd_erly_stp = 130\n",
    "    cv_mthd = \"KF\"\n",
    "\n",
    "    mlflow_callback = MLflowCallback(\n",
    "        tracking_uri=mlflow.get_tracking_uri(), metric_name=\"mae\"\n",
    "    )\n",
    "\n",
    "    all_cv = {\"KF\": KFold(n_splits=5, shuffle=True, random_state=STATE)}\n",
    "    cv = all_cv[cv_mthd]\n",
    "\n",
    "    dict_models = {\"LGBMR\": LGBMR}\n",
    "\n",
    "    log_model = True\n",
    "\n",
    "    args = {\n",
    "        \"cv_mthd\": cv_mthd,\n",
    "        \"experiment_purpose\": EXPERIMENT_PURPOSE,\n",
    "        \"experiment_name\": experiment_name,\n",
    "        \"dict_models\": dict_models,\n",
    "        \"model_params_dict\": model_params_dict,\n",
    "        \"n_splits\": N_SPLITS,\n",
    "        \"n_test_splits\": N_TEST_SPLITS,\n",
    "        \"n_purge\": N_PURGE,\n",
    "        \"n_embargo\": N_EMBARGO,\n",
    "        \"experiment_date_str\": experiment_date_str,\n",
    "        \"path_artifact_location\": pm.path_artifact_location,\n",
    "        \"target_col\": \"target\",\n",
    "    }"
   ]
  },
  {
   "cell_type": "code",
   "execution_count": null,
   "id": "a0fe0836",
   "metadata": {
    "papermill": {
     "duration": 0.013758,
     "end_time": "2023-11-30T20:10:31.381692",
     "exception": false,
     "start_time": "2023-11-30T20:10:31.367934",
     "status": "completed"
    },
    "tags": []
   },
   "outputs": [],
   "source": []
  },
  {
   "cell_type": "code",
   "execution_count": null,
   "id": "075ab146",
   "metadata": {
    "papermill": {
     "duration": 0.013539,
     "end_time": "2023-11-30T20:10:31.408513",
     "exception": false,
     "start_time": "2023-11-30T20:10:31.394974",
     "status": "completed"
    },
    "tags": []
   },
   "outputs": [],
   "source": []
  },
  {
   "cell_type": "code",
   "execution_count": null,
   "id": "7259792d",
   "metadata": {
    "papermill": {
     "duration": 0.012926,
     "end_time": "2023-11-30T20:10:31.435195",
     "exception": false,
     "start_time": "2023-11-30T20:10:31.422269",
     "status": "completed"
    },
    "tags": []
   },
   "outputs": [],
   "source": []
  },
  {
   "cell_type": "code",
   "execution_count": 15,
   "id": "010e8519",
   "metadata": {
    "execution": {
     "iopub.execute_input": "2023-11-30T20:10:31.463812Z",
     "iopub.status.busy": "2023-11-30T20:10:31.463367Z",
     "iopub.status.idle": "2023-11-30T20:10:31.493348Z",
     "shell.execute_reply": "2023-11-30T20:10:31.492135Z"
    },
    "papermill": {
     "duration": 0.047545,
     "end_time": "2023-11-30T20:10:31.495899",
     "exception": false,
     "start_time": "2023-11-30T20:10:31.448354",
     "status": "completed"
    },
    "tags": []
   },
   "outputs": [],
   "source": [
    "def run_mlflow_experiment(df_train, args, trial=None):\n",
    "    cv_mthd = args[\"cv_mthd\"]\n",
    "    experiment_purpose = args[\"experiment_purpose\"]\n",
    "    experiment_name = args[\"experiment_name\"]\n",
    "    dict_models = args[\"dict_models\"]\n",
    "    model_params_dict = args[\"model_params_dict\"]\n",
    "\n",
    "    n_splits = args[\"n_splits\"]\n",
    "    n_test_splits = args[\"n_test_splits\"]\n",
    "    n_purge = args[\"n_purge\"]\n",
    "    n_embargo = args[\"n_embargo\"]\n",
    "\n",
    "    experiment_date_str = args[\"experiment_date_str\"]\n",
    "    path_artifact_location = args[\"path_artifact_location\"]\n",
    "    target_col = args[\"target_col\"]\n",
    "\n",
    "    if trial == None:\n",
    "        trial = optuna.trial.FixedTrial(\n",
    "            {\n",
    "                \"n_estimators\": 500,\n",
    "                \"learning_rate\": 0.005,\n",
    "                \"max_depth\": 10,\n",
    "                \"num_leaves\": 20,\n",
    "                \"min_child_samples\": 10,\n",
    "                \"subsample\": 0.7,\n",
    "                \"colsample_bytree\": 1.0,\n",
    "                \"min_split_gain\": 0.0,\n",
    "                \"reg_alpha\": 0.0,\n",
    "                \"reg_lambda\": 0.0,\n",
    "                \"device\": \"gpu\" if GPU_SWITCH == \"ON\" else \"cpu\",\n",
    "            }\n",
    "        )\n",
    "\n",
    "    run_time_start_trial = datetime.now().strftime(\"%y_%m_%d_%H%M%S\")\n",
    "\n",
    "    with mlflow.start_run(\n",
    "        run_name=run_time_start_trial, experiment_id=experiment_id\n",
    "    ) as run:\n",
    "        score_list = []\n",
    "\n",
    "        # mlflow.set_tag(\"cv_mthd\", cv_mthd)\n",
    "        mlflow.set_tag(\"n_splits\", n_splits)\n",
    "        mlflow.set_tag(\"n_test_splits\", n_test_splits)\n",
    "        mlflow.set_tag(\"n_purge\", n_purge)\n",
    "        mlflow.set_tag(\"n_embargo\", n_embargo)\n",
    "\n",
    "        for model_name, model_class in dict_models.items():\n",
    "            if TUNING:\n",
    "                model = create_model(\n",
    "                    trial,\n",
    "                    model_class,\n",
    "                    model_params_dict[model_name][\"static_params\"],\n",
    "                    model_params_dict[model_name][\"dynamic_params\"],\n",
    "                )\n",
    "\n",
    "            else:\n",
    "                params = model_prod.get_params()\n",
    "                params[\"device\"] = \"gpu\" if GPU_SWITCH == \"ON\" else \"cpu\"\n",
    "\n",
    "                model = model_class(**params)\n",
    "\n",
    "            priority_params = [\"learning_rate\", \"max_depth\"]\n",
    "            excluded_params = [\n",
    "                \"device\",\n",
    "                \"class_weight\",\n",
    "                \"random_state\",\n",
    "                \"silent\",\n",
    "                \"verbose\",\n",
    "                \"n_jobs\",\n",
    "            ]\n",
    "\n",
    "            ordered_params = log_model_parameters(\n",
    "                model, priority_params, excluded_params, verbose=True\n",
    "            )\n",
    "\n",
    "            mlflow.log_params(ordered_params)\n",
    "\n",
    "            for fold_n, (train_indices, test_indices) in enumerate(\n",
    "                time_series_split(\n",
    "                    df_train,\n",
    "                    n_splits=n_splits,\n",
    "                    n_test_splits=n_test_splits,\n",
    "                    n_purge=n_purge,\n",
    "                    n_embargo=n_embargo,\n",
    "                )\n",
    "            ):\n",
    "                with mlflow.start_run(\n",
    "                    run_name=f\"{run_time_start_trial}_fold_{fold_n+1}\",\n",
    "                    nested=True,\n",
    "                    experiment_id=experiment_id,\n",
    "                ) as nested_run:\n",
    "                    mlflow.set_tag(\"n_trial\", str(trial.number))\n",
    "\n",
    "                    mask_train = df_train[\"factorized\"].isin(train_indices)\n",
    "                    mask_test = df_train[\"factorized\"].isin(test_indices)\n",
    "\n",
    "                    y_train = df_train.loc[mask_train, target_col]\n",
    "                    y_val = df_train.loc[mask_test, target_col]\n",
    "                    X_train = df_train.loc[mask_train].drop(\n",
    "                        [target_col, \"factorized\"], axis=1\n",
    "                    )\n",
    "                    X_val = df_train.loc[mask_test].drop(\n",
    "                        [target_col, \"factorized\"], axis=1\n",
    "                    )\n",
    "\n",
    "                    print(f\"X_train shape: {X_train.shape}\")\n",
    "\n",
    "                    mlflow.log_param(\"train_rows\", X_train.shape[0])\n",
    "                    mlflow.log_param(\"train_cols\", X_train.shape[1])\n",
    "\n",
    "                    model.fit(\n",
    "                        X_train,\n",
    "                        y_train,\n",
    "                        eval_set=[(X_val, y_val)],\n",
    "                        eval_metric=\"mae\",\n",
    "                        callbacks=[\n",
    "                            lgbm.callback.early_stopping(stopping_rounds=100),\n",
    "                            lgbm.callback.log_evaluation(period=100),\n",
    "                        ],\n",
    "                    )\n",
    "\n",
    "                    log_feature_importance(\n",
    "                        trial.number,\n",
    "                        model,\n",
    "                        X_train,\n",
    "                        fold_n,\n",
    "                        experiment_purpose,\n",
    "                        experiment_date_str,\n",
    "                    )\n",
    "\n",
    "                    del mask_train, mask_test, X_train, y_train\n",
    "\n",
    "                    fold_score = model.best_score_[\"valid_0\"][\"l1\"]\n",
    "\n",
    "                    score_list.append(fold_score)\n",
    "\n",
    "                    mlflow.log_metric(\"fold_score\", round(fold_score, 6))\n",
    "                    mlflow.log_param(\"fold_number\", fold_n + 1)\n",
    "                    mlflow.log_param(\"model_name\", model_name)\n",
    "\n",
    "                    mlflow.log_params(ordered_params)\n",
    "\n",
    "                    current_time_str = datetime.now().strftime(\"%Y%m%d_%H%M%S\")\n",
    "                    model_log_name = f\"{model_name}_{trial.number}_{current_time_str}\"\n",
    "\n",
    "                    mlflow.sklearn.log_model(model, model_log_name)\n",
    "\n",
    "                    mlflow.log_param(\"run_time\", current_time_str)\n",
    "\n",
    "                    nested_run_id = nested_run.info.run_id\n",
    "                    model_path = f\"{path_artifact_location}/{nested_run_id}/artifacts/{model_log_name}/model.pkl\"\n",
    "                    mlflow.log_param(\"model_path\", model_path)\n",
    "\n",
    "                avg_score = sum(score_list) / len(score_list)\n",
    "                median_score = np.median(score_list)\n",
    "                mlflow.log_metric(\"avg score\", round(avg_score, 6))\n",
    "                mlflow.log_metric(\"median score\", round(median_score, 6))\n",
    "                gc.collect()\n",
    "                if fold_n >= N_FOLD_BREAK:\n",
    "                    break\n",
    "\n",
    "        return avg_score\n",
    "\n",
    "\n",
    "def objective(trial, df_train):\n",
    "    avg_score = run_mlflow_experiment(df_train, args, trial)\n",
    "    return avg_score\n",
    "\n",
    "\n",
    "# Run the Optuna study\n",
    "if TRAIN:\n",
    "    study = optuna.create_study(\n",
    "        direction=\"minimize\",\n",
    "        study_name=\"Your Study Name\",\n",
    "        load_if_exists=True,\n",
    "    )\n",
    "    study.optimize(lambda trial: objective(trial, df_train_feats), n_trials=N_TRIALS)"
   ]
  },
  {
   "cell_type": "code",
   "execution_count": 16,
   "id": "348266f1",
   "metadata": {
    "_cell_guid": "51030a77-aba3-469f-9c08-7963bc8a09d2",
    "_uuid": "6ff7d358-62f0-4ac9-b028-d1c920bb4eaf",
    "collapsed": false,
    "execution": {
     "iopub.execute_input": "2023-11-30T20:10:31.524799Z",
     "iopub.status.busy": "2023-11-30T20:10:31.524364Z",
     "iopub.status.idle": "2023-11-30T20:10:31.535281Z",
     "shell.execute_reply": "2023-11-30T20:10:31.533926Z"
    },
    "jupyter": {
     "outputs_hidden": false
    },
    "papermill": {
     "duration": 0.028489,
     "end_time": "2023-11-30T20:10:31.537981",
     "exception": false,
     "start_time": "2023-11-30T20:10:31.509492",
     "status": "completed"
    },
    "tags": []
   },
   "outputs": [],
   "source": [
    "if TRAIN:\n",
    "    df_exp = experiments_data(\n",
    "        client, list_experiment_id=None, save_df=None, list_columns=None\n",
    "    )\n",
    "    list_base_cols = [\n",
    "        \"run_time\",\n",
    "        \"experiment_id\",\n",
    "        \"n_trial\",\n",
    "        \"run_id\",\n",
    "        \"model_name\",\n",
    "        \"fold_number\",\n",
    "        \"fold_score\",\n",
    "    ]\n",
    "    list_dynamic_params = list(model_params_dict[\"LGBMR\"][\"dynamic_params\"].keys())\n",
    "\n",
    "    df_exp[\"run_time\"] = pd.to_datetime(\n",
    "        df_exp[\"run_time\"], format=\"%Y%m%d_%H%M%S\", errors=\"coerce\"\n",
    "    )\n",
    "\n",
    "    for col in df_exp.columns:\n",
    "        df_exp[col] = pd.to_numeric(df_exp[col], errors=\"ignore\")\n",
    "\n",
    "    for col in df_exp.select_dtypes(include=[\"float\", \"int\"]):\n",
    "        df_exp[col] = df_exp[col].round(5)\n",
    "\n",
    "    list_cols_exp = [\"run_time\"] + list_base_cols + list_dynamic_params + [\"model_path\"]\n",
    "\n",
    "    experiment_id\n",
    "    df_exp = df_exp[df_exp[\"experiment_id\"] != 0]\n",
    "\n",
    "    df_exp = df_exp[list_cols_exp]"
   ]
  },
  {
   "cell_type": "code",
   "execution_count": null,
   "id": "83f646d5",
   "metadata": {
    "papermill": {
     "duration": 0.012857,
     "end_time": "2023-11-30T20:10:31.563970",
     "exception": false,
     "start_time": "2023-11-30T20:10:31.551113",
     "status": "completed"
    },
    "tags": []
   },
   "outputs": [],
   "source": []
  },
  {
   "cell_type": "code",
   "execution_count": 17,
   "id": "4c4e8f75",
   "metadata": {
    "execution": {
     "iopub.execute_input": "2023-11-30T20:10:31.591966Z",
     "iopub.status.busy": "2023-11-30T20:10:31.591423Z",
     "iopub.status.idle": "2023-11-30T20:10:31.866531Z",
     "shell.execute_reply": "2023-11-30T20:10:31.865122Z"
    },
    "papermill": {
     "duration": 0.292513,
     "end_time": "2023-11-30T20:10:31.869658",
     "exception": false,
     "start_time": "2023-11-30T20:10:31.577145",
     "status": "completed"
    },
    "tags": []
   },
   "outputs": [],
   "source": [
    "import polars as pl"
   ]
  },
  {
   "cell_type": "code",
   "execution_count": null,
   "id": "586f17c4",
   "metadata": {
    "papermill": {
     "duration": 0.013008,
     "end_time": "2023-11-30T20:10:31.896277",
     "exception": false,
     "start_time": "2023-11-30T20:10:31.883269",
     "status": "completed"
    },
    "tags": []
   },
   "outputs": [],
   "source": []
  },
  {
   "cell_type": "code",
   "execution_count": null,
   "id": "3d8afa7a",
   "metadata": {
    "_cell_guid": "d4bfb979-2758-4fe9-8947-399b1c3a574c",
    "_uuid": "bef1a199-0988-4743-813e-99d4308fc9bb",
    "collapsed": false,
    "jupyter": {
     "outputs_hidden": false
    },
    "papermill": {
     "duration": 0.012945,
     "end_time": "2023-11-30T20:10:31.922671",
     "exception": false,
     "start_time": "2023-11-30T20:10:31.909726",
     "status": "completed"
    },
    "tags": []
   },
   "outputs": [],
   "source": []
  },
  {
   "cell_type": "code",
   "execution_count": null,
   "id": "4c97cc50",
   "metadata": {
    "_cell_guid": "d30f3862-dca2-4242-9db0-ab9750118622",
    "_uuid": "efd9073c-aaef-4135-bf7c-1e892e9aa831",
    "collapsed": false,
    "jupyter": {
     "outputs_hidden": false
    },
    "papermill": {
     "duration": 0.013056,
     "end_time": "2023-11-30T20:10:31.949779",
     "exception": false,
     "start_time": "2023-11-30T20:10:31.936723",
     "status": "completed"
    },
    "tags": []
   },
   "outputs": [],
   "source": []
  },
  {
   "cell_type": "code",
   "execution_count": 18,
   "id": "4278f3ad",
   "metadata": {
    "execution": {
     "iopub.execute_input": "2023-11-30T20:10:31.979150Z",
     "iopub.status.busy": "2023-11-30T20:10:31.978116Z",
     "iopub.status.idle": "2023-11-30T20:10:48.867561Z",
     "shell.execute_reply": "2023-11-30T20:10:48.866336Z"
    },
    "papermill": {
     "duration": 16.907442,
     "end_time": "2023-11-30T20:10:48.870666",
     "exception": false,
     "start_time": "2023-11-30T20:10:31.963224",
     "status": "completed"
    },
    "tags": []
   },
   "outputs": [
    {
     "name": "stdout",
     "output_type": "stream",
     "text": [
      "This version of the API is not optimized and should not be used to estimate the runtime of your code on the hidden test set.\n"
     ]
    },
    {
     "name": "stderr",
     "output_type": "stream",
     "text": [
      "rolling mean for wap_delta_return_6: 100%|██████████| 4/4 [00:00<00:00, 575.94it/s]\n",
      "rolling std for wap_delta_return_6: 100%|██████████| 3/3 [00:00<00:00, 944.59it/s]\n",
      "rolling mean for target_approx: 100%|██████████| 4/4 [00:00<00:00, 857.42it/s]\n",
      "rolling std for target_approx: 100%|██████████| 3/3 [00:00<00:00, 699.87it/s]\n",
      "rolling mean for wap_delta_return_6: 100%|██████████| 4/4 [00:00<00:00, 710.84it/s]\n",
      "rolling std for wap_delta_return_6: 100%|██████████| 3/3 [00:00<00:00, 753.11it/s]\n",
      "rolling mean for target_approx: 100%|██████████| 4/4 [00:00<00:00, 784.57it/s]\n",
      "rolling std for target_approx: 100%|██████████| 3/3 [00:00<00:00, 672.67it/s]\n",
      "rolling mean for wap_delta_return_6: 100%|██████████| 4/4 [00:00<00:00, 550.34it/s]\n",
      "rolling std for wap_delta_return_6: 100%|██████████| 3/3 [00:00<00:00, 497.21it/s]\n",
      "rolling mean for target_approx: 100%|██████████| 4/4 [00:00<00:00, 712.95it/s]\n",
      "rolling std for target_approx: 100%|██████████| 3/3 [00:00<00:00, 670.34it/s]\n",
      "rolling mean for wap_delta_return_6: 100%|██████████| 4/4 [00:00<00:00, 683.81it/s]\n",
      "rolling std for wap_delta_return_6: 100%|██████████| 3/3 [00:00<00:00, 505.13it/s]\n",
      "rolling mean for target_approx: 100%|██████████| 4/4 [00:00<00:00, 629.37it/s]\n",
      "rolling std for target_approx: 100%|██████████| 3/3 [00:00<00:00, 526.00it/s]\n",
      "rolling mean for wap_delta_return_6: 100%|██████████| 4/4 [00:00<00:00, 448.56it/s]\n",
      "rolling std for wap_delta_return_6: 100%|██████████| 3/3 [00:00<00:00, 423.71it/s]\n",
      "rolling mean for target_approx: 100%|██████████| 4/4 [00:00<00:00, 518.76it/s]\n",
      "rolling std for target_approx: 100%|██████████| 3/3 [00:00<00:00, 469.53it/s]\n",
      "rolling mean for wap_delta_return_6: 100%|██████████| 4/4 [00:00<00:00, 572.41it/s]\n",
      "rolling std for wap_delta_return_6: 100%|██████████| 3/3 [00:00<00:00, 536.77it/s]\n",
      "rolling mean for target_approx: 100%|██████████| 4/4 [00:00<00:00, 598.67it/s]\n",
      "rolling std for target_approx: 100%|██████████| 3/3 [00:00<00:00, 553.80it/s]\n",
      "rolling mean for wap_delta_return_6: 100%|██████████| 4/4 [00:00<00:00, 549.42it/s]\n",
      "rolling std for wap_delta_return_6: 100%|██████████| 3/3 [00:00<00:00, 460.74it/s]\n",
      "rolling mean for target_approx: 100%|██████████| 4/4 [00:00<00:00, 556.92it/s]\n",
      "rolling std for target_approx: 100%|██████████| 3/3 [00:00<00:00, 582.41it/s]\n",
      "rolling mean for wap_delta_return_6: 100%|██████████| 4/4 [00:00<00:00, 441.78it/s]\n",
      "rolling std for wap_delta_return_6: 100%|██████████| 3/3 [00:00<00:00, 469.34it/s]\n",
      "rolling mean for target_approx: 100%|██████████| 4/4 [00:00<00:00, 585.57it/s]\n",
      "rolling std for target_approx: 100%|██████████| 3/3 [00:00<00:00, 629.81it/s]\n",
      "rolling mean for wap_delta_return_6: 100%|██████████| 4/4 [00:00<00:00, 494.60it/s]\n",
      "rolling std for wap_delta_return_6: 100%|██████████| 3/3 [00:00<00:00, 434.58it/s]\n",
      "rolling mean for target_approx: 100%|██████████| 4/4 [00:00<00:00, 534.20it/s]\n",
      "rolling std for target_approx: 100%|██████████| 3/3 [00:00<00:00, 475.22it/s]\n",
      "rolling mean for wap_delta_return_6: 100%|██████████| 4/4 [00:00<00:00, 479.68it/s]\n",
      "rolling std for wap_delta_return_6: 100%|██████████| 3/3 [00:00<00:00, 466.03it/s]\n",
      "rolling mean for target_approx: 100%|██████████| 4/4 [00:00<00:00, 494.22it/s]\n",
      "rolling std for target_approx: 100%|██████████| 3/3 [00:00<00:00, 443.78it/s]\n"
     ]
    },
    {
     "name": "stdout",
     "output_type": "stream",
     "text": [
      "10 qps: 0.08428018093109131\n"
     ]
    },
    {
     "name": "stderr",
     "output_type": "stream",
     "text": [
      "rolling mean for wap_delta_return_6: 100%|██████████| 4/4 [00:00<00:00, 455.10it/s]\n",
      "rolling std for wap_delta_return_6: 100%|██████████| 3/3 [00:00<00:00, 416.54it/s]\n",
      "rolling mean for target_approx: 100%|██████████| 4/4 [00:00<00:00, 549.62it/s]\n",
      "rolling std for target_approx: 100%|██████████| 3/3 [00:00<00:00, 466.67it/s]\n",
      "rolling mean for wap_delta_return_6: 100%|██████████| 4/4 [00:00<00:00, 379.87it/s]\n",
      "rolling std for wap_delta_return_6: 100%|██████████| 3/3 [00:00<00:00, 419.28it/s]\n",
      "rolling mean for target_approx: 100%|██████████| 4/4 [00:00<00:00, 469.75it/s]\n",
      "rolling std for target_approx: 100%|██████████| 3/3 [00:00<00:00, 444.05it/s]\n",
      "rolling mean for wap_delta_return_6: 100%|██████████| 4/4 [00:00<00:00, 426.63it/s]\n",
      "rolling std for wap_delta_return_6: 100%|██████████| 3/3 [00:00<00:00, 394.63it/s]\n",
      "rolling mean for target_approx: 100%|██████████| 4/4 [00:00<00:00, 431.79it/s]\n",
      "rolling std for target_approx: 100%|██████████| 3/3 [00:00<00:00, 281.68it/s]\n",
      "rolling mean for wap_delta_return_6: 100%|██████████| 4/4 [00:00<00:00, 385.29it/s]\n",
      "rolling std for wap_delta_return_6: 100%|██████████| 3/3 [00:00<00:00, 320.10it/s]\n",
      "rolling mean for target_approx: 100%|██████████| 4/4 [00:00<00:00, 419.86it/s]\n",
      "rolling std for target_approx: 100%|██████████| 3/3 [00:00<00:00, 276.38it/s]\n",
      "rolling mean for wap_delta_return_6: 100%|██████████| 4/4 [00:00<00:00, 397.20it/s]\n",
      "rolling std for wap_delta_return_6: 100%|██████████| 3/3 [00:00<00:00, 339.02it/s]\n",
      "rolling mean for target_approx: 100%|██████████| 4/4 [00:00<00:00, 437.27it/s]\n",
      "rolling std for target_approx: 100%|██████████| 3/3 [00:00<00:00, 307.52it/s]\n",
      "rolling mean for wap_delta_return_6: 100%|██████████| 4/4 [00:00<00:00, 390.10it/s]\n",
      "rolling std for wap_delta_return_6: 100%|██████████| 3/3 [00:00<00:00, 332.04it/s]\n",
      "rolling mean for target_approx: 100%|██████████| 4/4 [00:00<00:00, 401.98it/s]\n",
      "rolling std for target_approx: 100%|██████████| 3/3 [00:00<00:00, 243.24it/s]\n",
      "rolling mean for wap_delta_return_6: 100%|██████████| 4/4 [00:00<00:00, 345.35it/s]\n",
      "rolling std for wap_delta_return_6: 100%|██████████| 3/3 [00:00<00:00, 276.94it/s]\n",
      "rolling mean for target_approx: 100%|██████████| 4/4 [00:00<00:00, 335.65it/s]\n",
      "rolling std for target_approx: 100%|██████████| 3/3 [00:00<00:00, 289.18it/s]\n",
      "rolling mean for wap_delta_return_6: 100%|██████████| 4/4 [00:00<00:00, 336.56it/s]\n",
      "rolling std for wap_delta_return_6: 100%|██████████| 3/3 [00:00<00:00, 247.91it/s]\n",
      "rolling mean for target_approx: 100%|██████████| 4/4 [00:00<00:00, 364.27it/s]\n",
      "rolling std for target_approx: 100%|██████████| 3/3 [00:00<00:00, 283.77it/s]\n",
      "rolling mean for wap_delta_return_6: 100%|██████████| 4/4 [00:00<00:00, 316.16it/s]\n",
      "rolling std for wap_delta_return_6: 100%|██████████| 3/3 [00:00<00:00, 241.27it/s]\n",
      "rolling mean for target_approx: 100%|██████████| 4/4 [00:00<00:00, 275.17it/s]\n",
      "rolling std for target_approx: 100%|██████████| 3/3 [00:00<00:00, 205.60it/s]\n",
      "rolling mean for wap_delta_return_6: 100%|██████████| 4/4 [00:00<00:00, 321.99it/s]\n",
      "rolling std for wap_delta_return_6: 100%|██████████| 3/3 [00:00<00:00, 259.06it/s]\n",
      "rolling mean for target_approx: 100%|██████████| 4/4 [00:00<00:00, 360.77it/s]\n",
      "rolling std for target_approx: 100%|██████████| 3/3 [00:00<00:00, 275.83it/s]\n"
     ]
    },
    {
     "name": "stdout",
     "output_type": "stream",
     "text": [
      "20 qps: 0.08329505920410156\n"
     ]
    },
    {
     "name": "stderr",
     "output_type": "stream",
     "text": [
      "rolling mean for wap_delta_return_6: 100%|██████████| 4/4 [00:00<00:00, 323.20it/s]\n",
      "rolling std for wap_delta_return_6: 100%|██████████| 3/3 [00:00<00:00, 245.38it/s]\n",
      "rolling mean for target_approx: 100%|██████████| 4/4 [00:00<00:00, 314.40it/s]\n",
      "rolling std for target_approx: 100%|██████████| 3/3 [00:00<00:00, 235.96it/s]\n",
      "rolling mean for wap_delta_return_6: 100%|██████████| 4/4 [00:00<00:00, 310.64it/s]\n",
      "rolling std for wap_delta_return_6: 100%|██████████| 3/3 [00:00<00:00, 242.87it/s]\n",
      "rolling mean for target_approx: 100%|██████████| 4/4 [00:00<00:00, 324.39it/s]\n",
      "rolling std for target_approx: 100%|██████████| 3/3 [00:00<00:00, 244.44it/s]\n",
      "rolling mean for wap_delta_return_6: 100%|██████████| 4/4 [00:00<00:00, 313.36it/s]\n",
      "rolling std for wap_delta_return_6: 100%|██████████| 3/3 [00:00<00:00, 232.68it/s]\n",
      "rolling mean for target_approx: 100%|██████████| 4/4 [00:00<00:00, 329.98it/s]\n",
      "rolling std for target_approx: 100%|██████████| 3/3 [00:00<00:00, 242.77it/s]\n",
      "rolling mean for wap_delta_return_6: 100%|██████████| 4/4 [00:00<00:00, 321.45it/s]\n",
      "rolling std for wap_delta_return_6: 100%|██████████| 3/3 [00:00<00:00, 248.00it/s]\n",
      "rolling mean for target_approx: 100%|██████████| 4/4 [00:00<00:00, 326.47it/s]\n",
      "rolling std for target_approx: 100%|██████████| 3/3 [00:00<00:00, 239.56it/s]\n",
      "rolling mean for wap_delta_return_6: 100%|██████████| 4/4 [00:00<00:00, 323.56it/s]\n",
      "rolling std for wap_delta_return_6: 100%|██████████| 3/3 [00:00<00:00, 243.29it/s]\n",
      "rolling mean for target_approx: 100%|██████████| 4/4 [00:00<00:00, 249.29it/s]\n",
      "rolling std for target_approx: 100%|██████████| 3/3 [00:00<00:00, 221.67it/s]\n",
      "rolling mean for wap_delta_return_6: 100%|██████████| 4/4 [00:00<00:00, 312.41it/s]\n",
      "rolling std for wap_delta_return_6: 100%|██████████| 3/3 [00:00<00:00, 225.28it/s]\n",
      "rolling mean for target_approx: 100%|██████████| 4/4 [00:00<00:00, 291.91it/s]\n",
      "rolling std for target_approx: 100%|██████████| 3/3 [00:00<00:00, 227.81it/s]\n",
      "rolling mean for wap_delta_return_6: 100%|██████████| 4/4 [00:00<00:00, 301.63it/s]\n",
      "rolling std for wap_delta_return_6: 100%|██████████| 3/3 [00:00<00:00, 242.84it/s]\n",
      "rolling mean for target_approx: 100%|██████████| 4/4 [00:00<00:00, 331.16it/s]\n",
      "rolling std for target_approx: 100%|██████████| 3/3 [00:00<00:00, 237.02it/s]\n",
      "rolling mean for wap_delta_return_6: 100%|██████████| 4/4 [00:00<00:00, 313.18it/s]\n",
      "rolling std for wap_delta_return_6: 100%|██████████| 3/3 [00:00<00:00, 236.01it/s]\n",
      "rolling mean for target_approx: 100%|██████████| 4/4 [00:00<00:00, 322.84it/s]\n",
      "rolling std for target_approx: 100%|██████████| 3/3 [00:00<00:00, 247.76it/s]\n",
      "rolling mean for wap_delta_return_6: 100%|██████████| 4/4 [00:00<00:00, 322.34it/s]\n",
      "rolling std for wap_delta_return_6: 100%|██████████| 3/3 [00:00<00:00, 250.38it/s]\n",
      "rolling mean for target_approx: 100%|██████████| 4/4 [00:00<00:00, 318.16it/s]\n",
      "rolling std for target_approx: 100%|██████████| 3/3 [00:00<00:00, 232.98it/s]\n",
      "rolling mean for wap_delta_return_6: 100%|██████████| 4/4 [00:00<00:00, 304.71it/s]\n",
      "rolling std for wap_delta_return_6: 100%|██████████| 3/3 [00:00<00:00, 221.88it/s]\n",
      "rolling mean for target_approx: 100%|██████████| 4/4 [00:00<00:00, 304.69it/s]\n",
      "rolling std for target_approx: 100%|██████████| 3/3 [00:00<00:00, 234.99it/s]\n"
     ]
    },
    {
     "name": "stdout",
     "output_type": "stream",
     "text": [
      "30 qps: 0.08730080127716064\n"
     ]
    },
    {
     "name": "stderr",
     "output_type": "stream",
     "text": [
      "rolling mean for wap_delta_return_6: 100%|██████████| 4/4 [00:00<00:00, 293.05it/s]\n",
      "rolling std for wap_delta_return_6: 100%|██████████| 3/3 [00:00<00:00, 226.40it/s]\n",
      "rolling mean for target_approx: 100%|██████████| 4/4 [00:00<00:00, 293.91it/s]\n",
      "rolling std for target_approx: 100%|██████████| 3/3 [00:00<00:00, 220.11it/s]\n",
      "rolling mean for wap_delta_return_6: 100%|██████████| 4/4 [00:00<00:00, 317.49it/s]\n",
      "rolling std for wap_delta_return_6: 100%|██████████| 3/3 [00:00<00:00, 236.74it/s]\n",
      "rolling mean for target_approx: 100%|██████████| 4/4 [00:00<00:00, 332.11it/s]\n",
      "rolling std for target_approx: 100%|██████████| 3/3 [00:00<00:00, 246.75it/s]\n",
      "rolling mean for wap_delta_return_6: 100%|██████████| 4/4 [00:00<00:00, 319.68it/s]\n",
      "rolling std for wap_delta_return_6: 100%|██████████| 3/3 [00:00<00:00, 246.30it/s]\n",
      "rolling mean for target_approx: 100%|██████████| 4/4 [00:00<00:00, 334.50it/s]\n",
      "rolling std for target_approx: 100%|██████████| 3/3 [00:00<00:00, 253.48it/s]\n",
      "rolling mean for wap_delta_return_6: 100%|██████████| 4/4 [00:00<00:00, 307.31it/s]\n",
      "rolling std for wap_delta_return_6: 100%|██████████| 3/3 [00:00<00:00, 248.79it/s]\n",
      "rolling mean for target_approx: 100%|██████████| 4/4 [00:00<00:00, 336.47it/s]\n",
      "rolling std for target_approx: 100%|██████████| 3/3 [00:00<00:00, 243.67it/s]\n",
      "rolling mean for wap_delta_return_6: 100%|██████████| 4/4 [00:00<00:00, 294.57it/s]\n",
      "rolling std for wap_delta_return_6: 100%|██████████| 3/3 [00:00<00:00, 224.17it/s]\n",
      "rolling mean for target_approx: 100%|██████████| 4/4 [00:00<00:00, 299.88it/s]\n",
      "rolling std for target_approx: 100%|██████████| 3/3 [00:00<00:00, 250.13it/s]\n",
      "rolling mean for wap_delta_return_6: 100%|██████████| 4/4 [00:00<00:00, 325.36it/s]\n",
      "rolling std for wap_delta_return_6: 100%|██████████| 3/3 [00:00<00:00, 247.97it/s]\n",
      "rolling mean for target_approx: 100%|██████████| 4/4 [00:00<00:00, 287.84it/s]\n",
      "rolling std for target_approx: 100%|██████████| 3/3 [00:00<00:00, 232.96it/s]\n",
      "rolling mean for wap_delta_return_6: 100%|██████████| 4/4 [00:00<00:00, 330.48it/s]\n",
      "rolling std for wap_delta_return_6: 100%|██████████| 3/3 [00:00<00:00, 256.75it/s]\n",
      "rolling mean for target_approx: 100%|██████████| 4/4 [00:00<00:00, 343.25it/s]\n",
      "rolling std for target_approx: 100%|██████████| 3/3 [00:00<00:00, 238.73it/s]\n",
      "rolling mean for wap_delta_return_6: 100%|██████████| 4/4 [00:00<00:00, 322.76it/s]\n",
      "rolling std for wap_delta_return_6: 100%|██████████| 3/3 [00:00<00:00, 248.74it/s]\n",
      "rolling mean for target_approx: 100%|██████████| 4/4 [00:00<00:00, 337.37it/s]\n",
      "rolling std for target_approx: 100%|██████████| 3/3 [00:00<00:00, 242.49it/s]\n",
      "rolling mean for wap_delta_return_6: 100%|██████████| 4/4 [00:00<00:00, 282.06it/s]\n",
      "rolling std for wap_delta_return_6: 100%|██████████| 3/3 [00:00<00:00, 243.57it/s]\n",
      "rolling mean for target_approx: 100%|██████████| 4/4 [00:00<00:00, 333.58it/s]\n",
      "rolling std for target_approx: 100%|██████████| 3/3 [00:00<00:00, 235.89it/s]\n",
      "rolling mean for wap_delta_return_6: 100%|██████████| 4/4 [00:00<00:00, 315.02it/s]\n",
      "rolling std for wap_delta_return_6: 100%|██████████| 3/3 [00:00<00:00, 227.93it/s]\n",
      "rolling mean for target_approx: 100%|██████████| 4/4 [00:00<00:00, 315.93it/s]\n",
      "rolling std for target_approx: 100%|██████████| 3/3 [00:00<00:00, 233.20it/s]\n"
     ]
    },
    {
     "name": "stdout",
     "output_type": "stream",
     "text": [
      "40 qps: 0.08888009190559387\n"
     ]
    },
    {
     "name": "stderr",
     "output_type": "stream",
     "text": [
      "rolling mean for wap_delta_return_6: 100%|██████████| 4/4 [00:00<00:00, 294.77it/s]\n",
      "rolling std for wap_delta_return_6: 100%|██████████| 3/3 [00:00<00:00, 258.25it/s]\n",
      "rolling mean for target_approx: 100%|██████████| 4/4 [00:00<00:00, 330.62it/s]\n",
      "rolling std for target_approx: 100%|██████████| 3/3 [00:00<00:00, 252.64it/s]\n",
      "rolling mean for wap_delta_return_6: 100%|██████████| 4/4 [00:00<00:00, 335.50it/s]\n",
      "rolling std for wap_delta_return_6: 100%|██████████| 3/3 [00:00<00:00, 252.36it/s]\n",
      "rolling mean for target_approx: 100%|██████████| 4/4 [00:00<00:00, 346.90it/s]\n",
      "rolling std for target_approx: 100%|██████████| 3/3 [00:00<00:00, 248.46it/s]\n",
      "rolling mean for wap_delta_return_6: 100%|██████████| 4/4 [00:00<00:00, 312.05it/s]\n",
      "rolling std for wap_delta_return_6: 100%|██████████| 3/3 [00:00<00:00, 254.81it/s]\n",
      "rolling mean for target_approx: 100%|██████████| 4/4 [00:00<00:00, 342.33it/s]\n",
      "rolling std for target_approx: 100%|██████████| 3/3 [00:00<00:00, 258.23it/s]\n",
      "rolling mean for wap_delta_return_6: 100%|██████████| 4/4 [00:00<00:00, 350.11it/s]\n",
      "rolling std for wap_delta_return_6: 100%|██████████| 3/3 [00:00<00:00, 261.09it/s]\n",
      "rolling mean for target_approx: 100%|██████████| 4/4 [00:00<00:00, 353.93it/s]\n",
      "rolling std for target_approx: 100%|██████████| 3/3 [00:00<00:00, 198.12it/s]\n",
      "rolling mean for wap_delta_return_6: 100%|██████████| 4/4 [00:00<00:00, 340.52it/s]\n",
      "rolling std for wap_delta_return_6: 100%|██████████| 3/3 [00:00<00:00, 264.56it/s]\n",
      "rolling mean for target_approx: 100%|██████████| 4/4 [00:00<00:00, 361.10it/s]\n",
      "rolling std for target_approx: 100%|██████████| 3/3 [00:00<00:00, 267.86it/s]\n",
      "rolling mean for wap_delta_return_6: 100%|██████████| 4/4 [00:00<00:00, 322.42it/s]\n",
      "rolling std for wap_delta_return_6: 100%|██████████| 3/3 [00:00<00:00, 256.30it/s]\n",
      "rolling mean for target_approx: 100%|██████████| 4/4 [00:00<00:00, 345.91it/s]\n",
      "rolling std for target_approx: 100%|██████████| 3/3 [00:00<00:00, 251.66it/s]\n",
      "rolling mean for wap_delta_return_6: 100%|██████████| 4/4 [00:00<00:00, 310.90it/s]\n",
      "rolling std for wap_delta_return_6: 100%|██████████| 3/3 [00:00<00:00, 253.93it/s]\n",
      "rolling mean for target_approx: 100%|██████████| 4/4 [00:00<00:00, 328.17it/s]\n",
      "rolling std for target_approx: 100%|██████████| 3/3 [00:00<00:00, 251.86it/s]\n",
      "rolling mean for wap_delta_return_6: 100%|██████████| 4/4 [00:00<00:00, 331.26it/s]\n",
      "rolling std for wap_delta_return_6: 100%|██████████| 3/3 [00:00<00:00, 238.32it/s]\n",
      "rolling mean for target_approx: 100%|██████████| 4/4 [00:00<00:00, 337.33it/s]\n",
      "rolling std for target_approx: 100%|██████████| 3/3 [00:00<00:00, 254.77it/s]\n",
      "rolling mean for wap_delta_return_6: 100%|██████████| 4/4 [00:00<00:00, 287.01it/s]\n",
      "rolling std for wap_delta_return_6: 100%|██████████| 3/3 [00:00<00:00, 244.67it/s]\n",
      "rolling mean for target_approx: 100%|██████████| 4/4 [00:00<00:00, 324.39it/s]\n",
      "rolling std for target_approx: 100%|██████████| 3/3 [00:00<00:00, 210.32it/s]\n",
      "rolling mean for wap_delta_return_6: 100%|██████████| 4/4 [00:00<00:00, 318.45it/s]\n",
      "rolling std for wap_delta_return_6: 100%|██████████| 3/3 [00:00<00:00, 227.38it/s]\n",
      "rolling mean for target_approx: 100%|██████████| 4/4 [00:00<00:00, 248.26it/s]\n",
      "rolling std for target_approx: 100%|██████████| 3/3 [00:00<00:00, 200.68it/s]\n"
     ]
    },
    {
     "name": "stdout",
     "output_type": "stream",
     "text": [
      "50 qps: 0.08954018592834473\n"
     ]
    },
    {
     "name": "stderr",
     "output_type": "stream",
     "text": [
      "rolling mean for wap_delta_return_6: 100%|██████████| 4/4 [00:00<00:00, 319.72it/s]\n",
      "rolling std for wap_delta_return_6: 100%|██████████| 3/3 [00:00<00:00, 250.34it/s]\n",
      "rolling mean for target_approx: 100%|██████████| 4/4 [00:00<00:00, 332.00it/s]\n",
      "rolling std for target_approx: 100%|██████████| 3/3 [00:00<00:00, 253.59it/s]\n",
      "rolling mean for wap_delta_return_6: 100%|██████████| 4/4 [00:00<00:00, 331.64it/s]\n",
      "rolling std for wap_delta_return_6: 100%|██████████| 3/3 [00:00<00:00, 250.24it/s]\n",
      "rolling mean for target_approx: 100%|██████████| 4/4 [00:00<00:00, 330.88it/s]\n",
      "rolling std for target_approx: 100%|██████████| 3/3 [00:00<00:00, 245.24it/s]\n",
      "rolling mean for wap_delta_return_6: 100%|██████████| 4/4 [00:00<00:00, 301.76it/s]\n",
      "rolling std for wap_delta_return_6: 100%|██████████| 3/3 [00:00<00:00, 226.89it/s]\n",
      "rolling mean for target_approx: 100%|██████████| 4/4 [00:00<00:00, 340.44it/s]\n",
      "rolling std for target_approx: 100%|██████████| 3/3 [00:00<00:00, 247.81it/s]\n",
      "rolling mean for wap_delta_return_6: 100%|██████████| 4/4 [00:00<00:00, 324.68it/s]\n",
      "rolling std for wap_delta_return_6: 100%|██████████| 3/3 [00:00<00:00, 253.08it/s]\n",
      "rolling mean for target_approx: 100%|██████████| 4/4 [00:00<00:00, 256.35it/s]\n",
      "rolling std for target_approx: 100%|██████████| 3/3 [00:00<00:00, 193.46it/s]\n",
      "rolling mean for wap_delta_return_6: 100%|██████████| 4/4 [00:00<00:00, 325.48it/s]\n",
      "rolling std for wap_delta_return_6: 100%|██████████| 3/3 [00:00<00:00, 250.33it/s]\n",
      "rolling mean for target_approx: 100%|██████████| 4/4 [00:00<00:00, 252.70it/s]\n",
      "rolling std for target_approx: 100%|██████████| 3/3 [00:00<00:00, 201.13it/s]\n",
      "rolling mean for wap_delta_return_6: 100%|██████████| 4/4 [00:00<00:00, 280.68it/s]\n",
      "rolling std for wap_delta_return_6: 100%|██████████| 3/3 [00:00<00:00, 200.65it/s]\n",
      "rolling mean for target_approx: 100%|██████████| 4/4 [00:00<00:00, 337.62it/s]\n",
      "rolling std for target_approx: 100%|██████████| 3/3 [00:00<00:00, 235.86it/s]\n",
      "rolling mean for wap_delta_return_6: 100%|██████████| 4/4 [00:00<00:00, 292.02it/s]\n",
      "rolling std for wap_delta_return_6: 100%|██████████| 3/3 [00:00<00:00, 215.56it/s]\n",
      "rolling mean for target_approx: 100%|██████████| 4/4 [00:00<00:00, 297.79it/s]\n",
      "rolling std for target_approx: 100%|██████████| 3/3 [00:00<00:00, 233.71it/s]\n",
      "rolling mean for wap_delta_return_6: 100%|██████████| 4/4 [00:00<00:00, 298.53it/s]\n",
      "rolling std for wap_delta_return_6: 100%|██████████| 3/3 [00:00<00:00, 227.74it/s]\n",
      "rolling mean for target_approx: 100%|██████████| 4/4 [00:00<00:00, 308.52it/s]\n",
      "rolling std for target_approx: 100%|██████████| 3/3 [00:00<00:00, 231.84it/s]\n",
      "rolling mean for wap_delta_return_6: 100%|██████████| 4/4 [00:00<00:00, 308.14it/s]\n",
      "rolling std for wap_delta_return_6: 100%|██████████| 3/3 [00:00<00:00, 233.43it/s]\n",
      "rolling mean for target_approx: 100%|██████████| 4/4 [00:00<00:00, 319.18it/s]\n",
      "rolling std for target_approx: 100%|██████████| 3/3 [00:00<00:00, 237.16it/s]\n",
      "rolling mean for wap_delta_return_6: 100%|██████████| 4/4 [00:00<00:00, 260.24it/s]\n",
      "rolling std for wap_delta_return_6: 100%|██████████| 3/3 [00:00<00:00, 217.61it/s]\n",
      "rolling mean for target_approx: 100%|██████████| 4/4 [00:00<00:00, 206.85it/s]\n",
      "rolling std for target_approx: 100%|██████████| 3/3 [00:00<00:00, 202.85it/s]\n"
     ]
    },
    {
     "name": "stdout",
     "output_type": "stream",
     "text": [
      "60 qps: 0.09110093116760254\n"
     ]
    },
    {
     "name": "stderr",
     "output_type": "stream",
     "text": [
      "rolling mean for wap_delta_return_6: 100%|██████████| 4/4 [00:00<00:00, 298.28it/s]\n",
      "rolling std for wap_delta_return_6: 100%|██████████| 3/3 [00:00<00:00, 235.25it/s]\n",
      "rolling mean for target_approx: 100%|██████████| 4/4 [00:00<00:00, 326.88it/s]\n",
      "rolling std for target_approx: 100%|██████████| 3/3 [00:00<00:00, 244.30it/s]\n",
      "rolling mean for wap_delta_return_6: 100%|██████████| 4/4 [00:00<00:00, 323.06it/s]\n",
      "rolling std for wap_delta_return_6: 100%|██████████| 3/3 [00:00<00:00, 238.11it/s]\n",
      "rolling mean for target_approx: 100%|██████████| 4/4 [00:00<00:00, 334.27it/s]\n",
      "rolling std for target_approx: 100%|██████████| 3/3 [00:00<00:00, 242.92it/s]\n",
      "rolling mean for wap_delta_return_6: 100%|██████████| 4/4 [00:00<00:00, 309.27it/s]\n",
      "rolling std for wap_delta_return_6: 100%|██████████| 3/3 [00:00<00:00, 231.20it/s]\n",
      "rolling mean for target_approx: 100%|██████████| 4/4 [00:00<00:00, 289.77it/s]\n",
      "rolling std for target_approx: 100%|██████████| 3/3 [00:00<00:00, 223.15it/s]\n",
      "rolling mean for wap_delta_return_6: 100%|██████████| 4/4 [00:00<00:00, 294.39it/s]\n",
      "rolling std for wap_delta_return_6: 100%|██████████| 3/3 [00:00<00:00, 223.99it/s]\n",
      "rolling mean for target_approx: 100%|██████████| 4/4 [00:00<00:00, 307.74it/s]\n",
      "rolling std for target_approx: 100%|██████████| 3/3 [00:00<00:00, 233.87it/s]\n",
      "rolling mean for wap_delta_return_6: 100%|██████████| 4/4 [00:00<00:00, 303.35it/s]\n",
      "rolling std for wap_delta_return_6: 100%|██████████| 3/3 [00:00<00:00, 234.17it/s]\n",
      "rolling mean for target_approx: 100%|██████████| 4/4 [00:00<00:00, 351.23it/s]\n",
      "rolling std for target_approx: 100%|██████████| 3/3 [00:00<00:00, 265.03it/s]\n",
      "rolling mean for wap_delta_return_6: 100%|██████████| 4/4 [00:00<00:00, 281.07it/s]\n",
      "rolling std for wap_delta_return_6: 100%|██████████| 3/3 [00:00<00:00, 215.38it/s]\n",
      "rolling mean for target_approx: 100%|██████████| 4/4 [00:00<00:00, 295.39it/s]\n",
      "rolling std for target_approx: 100%|██████████| 3/3 [00:00<00:00, 250.96it/s]\n",
      "rolling mean for wap_delta_return_6: 100%|██████████| 4/4 [00:00<00:00, 303.96it/s]\n",
      "rolling std for wap_delta_return_6: 100%|██████████| 3/3 [00:00<00:00, 239.71it/s]\n",
      "rolling mean for target_approx: 100%|██████████| 4/4 [00:00<00:00, 332.21it/s]\n",
      "rolling std for target_approx: 100%|██████████| 3/3 [00:00<00:00, 237.59it/s]\n",
      "rolling mean for wap_delta_return_6: 100%|██████████| 4/4 [00:00<00:00, 314.03it/s]\n",
      "rolling std for wap_delta_return_6: 100%|██████████| 3/3 [00:00<00:00, 250.56it/s]\n",
      "rolling mean for target_approx: 100%|██████████| 4/4 [00:00<00:00, 321.99it/s]\n",
      "rolling std for target_approx: 100%|██████████| 3/3 [00:00<00:00, 252.24it/s]\n",
      "rolling mean for wap_delta_return_6: 100%|██████████| 4/4 [00:00<00:00, 310.90it/s]\n",
      "rolling std for wap_delta_return_6: 100%|██████████| 3/3 [00:00<00:00, 236.29it/s]\n",
      "rolling mean for target_approx: 100%|██████████| 4/4 [00:00<00:00, 321.82it/s]\n",
      "rolling std for target_approx: 100%|██████████| 3/3 [00:00<00:00, 217.00it/s]\n",
      "rolling mean for wap_delta_return_6: 100%|██████████| 4/4 [00:00<00:00, 283.69it/s]\n",
      "rolling std for wap_delta_return_6: 100%|██████████| 3/3 [00:00<00:00, 230.84it/s]\n",
      "rolling mean for target_approx: 100%|██████████| 4/4 [00:00<00:00, 295.69it/s]\n",
      "rolling std for target_approx: 100%|██████████| 3/3 [00:00<00:00, 220.57it/s]\n"
     ]
    },
    {
     "name": "stdout",
     "output_type": "stream",
     "text": [
      "70 qps: 0.09188661575317383\n"
     ]
    },
    {
     "name": "stderr",
     "output_type": "stream",
     "text": [
      "rolling mean for wap_delta_return_6: 100%|██████████| 4/4 [00:00<00:00, 303.86it/s]\n",
      "rolling std for wap_delta_return_6: 100%|██████████| 3/3 [00:00<00:00, 226.63it/s]\n",
      "rolling mean for target_approx: 100%|██████████| 4/4 [00:00<00:00, 289.56it/s]\n",
      "rolling std for target_approx: 100%|██████████| 3/3 [00:00<00:00, 189.06it/s]\n",
      "rolling mean for wap_delta_return_6: 100%|██████████| 4/4 [00:00<00:00, 294.21it/s]\n",
      "rolling std for wap_delta_return_6: 100%|██████████| 3/3 [00:00<00:00, 236.66it/s]\n",
      "rolling mean for target_approx: 100%|██████████| 4/4 [00:00<00:00, 318.83it/s]\n",
      "rolling std for target_approx: 100%|██████████| 3/3 [00:00<00:00, 247.22it/s]\n",
      "rolling mean for wap_delta_return_6: 100%|██████████| 4/4 [00:00<00:00, 301.39it/s]\n",
      "rolling std for wap_delta_return_6: 100%|██████████| 3/3 [00:00<00:00, 249.17it/s]\n",
      "rolling mean for target_approx: 100%|██████████| 4/4 [00:00<00:00, 325.94it/s]\n",
      "rolling std for target_approx: 100%|██████████| 3/3 [00:00<00:00, 244.85it/s]\n",
      "rolling mean for wap_delta_return_6: 100%|██████████| 4/4 [00:00<00:00, 297.54it/s]\n",
      "rolling std for wap_delta_return_6: 100%|██████████| 3/3 [00:00<00:00, 218.87it/s]\n",
      "rolling mean for target_approx: 100%|██████████| 4/4 [00:00<00:00, 297.06it/s]\n",
      "rolling std for target_approx: 100%|██████████| 3/3 [00:00<00:00, 225.02it/s]\n",
      "rolling mean for wap_delta_return_6: 100%|██████████| 4/4 [00:00<00:00, 305.75it/s]\n",
      "rolling std for wap_delta_return_6: 100%|██████████| 3/3 [00:00<00:00, 228.44it/s]\n",
      "rolling mean for target_approx: 100%|██████████| 4/4 [00:00<00:00, 308.89it/s]\n",
      "rolling std for target_approx: 100%|██████████| 3/3 [00:00<00:00, 238.49it/s]\n",
      "rolling mean for wap_delta_return_6: 100%|██████████| 4/4 [00:00<00:00, 319.39it/s]\n",
      "rolling std for wap_delta_return_6: 100%|██████████| 3/3 [00:00<00:00, 239.63it/s]\n",
      "rolling mean for target_approx: 100%|██████████| 4/4 [00:00<00:00, 305.69it/s]\n",
      "rolling std for target_approx: 100%|██████████| 3/3 [00:00<00:00, 240.60it/s]\n",
      "rolling mean for wap_delta_return_6: 100%|██████████| 4/4 [00:00<00:00, 292.70it/s]\n",
      "rolling std for wap_delta_return_6: 100%|██████████| 3/3 [00:00<00:00, 220.64it/s]\n",
      "rolling mean for target_approx: 100%|██████████| 4/4 [00:00<00:00, 306.37it/s]\n",
      "rolling std for target_approx: 100%|██████████| 3/3 [00:00<00:00, 187.36it/s]\n",
      "rolling mean for wap_delta_return_6: 100%|██████████| 4/4 [00:00<00:00, 280.05it/s]\n",
      "rolling std for wap_delta_return_6: 100%|██████████| 3/3 [00:00<00:00, 227.21it/s]\n",
      "rolling mean for target_approx: 100%|██████████| 4/4 [00:00<00:00, 296.83it/s]\n",
      "rolling std for target_approx: 100%|██████████| 3/3 [00:00<00:00, 225.27it/s]\n",
      "rolling mean for wap_delta_return_6: 100%|██████████| 4/4 [00:00<00:00, 309.68it/s]\n",
      "rolling std for wap_delta_return_6: 100%|██████████| 3/3 [00:00<00:00, 242.74it/s]\n",
      "rolling mean for target_approx: 100%|██████████| 4/4 [00:00<00:00, 323.57it/s]\n",
      "rolling std for target_approx: 100%|██████████| 3/3 [00:00<00:00, 218.91it/s]\n",
      "rolling mean for wap_delta_return_6: 100%|██████████| 4/4 [00:00<00:00, 303.81it/s]\n",
      "rolling std for wap_delta_return_6: 100%|██████████| 3/3 [00:00<00:00, 245.54it/s]\n",
      "rolling mean for target_approx: 100%|██████████| 4/4 [00:00<00:00, 322.40it/s]\n",
      "rolling std for target_approx: 100%|██████████| 3/3 [00:00<00:00, 233.24it/s]\n"
     ]
    },
    {
     "name": "stdout",
     "output_type": "stream",
     "text": [
      "80 qps: 0.09253337681293487\n"
     ]
    },
    {
     "name": "stderr",
     "output_type": "stream",
     "text": [
      "rolling mean for wap_delta_return_6: 100%|██████████| 4/4 [00:00<00:00, 286.56it/s]\n",
      "rolling std for wap_delta_return_6: 100%|██████████| 3/3 [00:00<00:00, 232.44it/s]\n",
      "rolling mean for target_approx: 100%|██████████| 4/4 [00:00<00:00, 288.31it/s]\n",
      "rolling std for target_approx: 100%|██████████| 3/3 [00:00<00:00, 243.96it/s]\n",
      "rolling mean for wap_delta_return_6: 100%|██████████| 4/4 [00:00<00:00, 326.14it/s]\n",
      "rolling std for wap_delta_return_6: 100%|██████████| 3/3 [00:00<00:00, 234.73it/s]\n",
      "rolling mean for target_approx: 100%|██████████| 4/4 [00:00<00:00, 313.64it/s]\n",
      "rolling std for target_approx: 100%|██████████| 3/3 [00:00<00:00, 241.45it/s]\n",
      "rolling mean for wap_delta_return_6: 100%|██████████| 4/4 [00:00<00:00, 300.50it/s]\n",
      "rolling std for wap_delta_return_6: 100%|██████████| 3/3 [00:00<00:00, 232.19it/s]\n",
      "rolling mean for target_approx: 100%|██████████| 4/4 [00:00<00:00, 255.94it/s]\n",
      "rolling std for target_approx: 100%|██████████| 3/3 [00:00<00:00, 250.22it/s]\n",
      "rolling mean for wap_delta_return_6: 100%|██████████| 4/4 [00:00<00:00, 312.81it/s]\n",
      "rolling std for wap_delta_return_6: 100%|██████████| 3/3 [00:00<00:00, 234.54it/s]\n",
      "rolling mean for target_approx: 100%|██████████| 4/4 [00:00<00:00, 319.77it/s]\n",
      "rolling std for target_approx: 100%|██████████| 3/3 [00:00<00:00, 224.52it/s]\n",
      "rolling mean for wap_delta_return_6: 100%|██████████| 4/4 [00:00<00:00, 275.87it/s]\n",
      "rolling std for wap_delta_return_6: 100%|██████████| 3/3 [00:00<00:00, 224.01it/s]\n",
      "rolling mean for target_approx: 100%|██████████| 4/4 [00:00<00:00, 301.87it/s]\n",
      "rolling std for target_approx: 100%|██████████| 3/3 [00:00<00:00, 231.43it/s]\n",
      "rolling mean for wap_delta_return_6: 100%|██████████| 4/4 [00:00<00:00, 331.95it/s]\n",
      "rolling std for wap_delta_return_6: 100%|██████████| 3/3 [00:00<00:00, 236.09it/s]\n",
      "rolling mean for target_approx: 100%|██████████| 4/4 [00:00<00:00, 299.85it/s]\n",
      "rolling std for target_approx: 100%|██████████| 3/3 [00:00<00:00, 218.26it/s]\n",
      "rolling mean for wap_delta_return_6: 100%|██████████| 4/4 [00:00<00:00, 287.80it/s]\n",
      "rolling std for wap_delta_return_6: 100%|██████████| 3/3 [00:00<00:00, 222.99it/s]\n",
      "rolling mean for target_approx: 100%|██████████| 4/4 [00:00<00:00, 302.46it/s]\n",
      "rolling std for target_approx: 100%|██████████| 3/3 [00:00<00:00, 227.71it/s]\n",
      "rolling mean for wap_delta_return_6: 100%|██████████| 4/4 [00:00<00:00, 314.94it/s]\n",
      "rolling std for wap_delta_return_6: 100%|██████████| 3/3 [00:00<00:00, 234.95it/s]\n",
      "rolling mean for target_approx: 100%|██████████| 4/4 [00:00<00:00, 298.17it/s]\n",
      "rolling std for target_approx: 100%|██████████| 3/3 [00:00<00:00, 249.55it/s]\n",
      "rolling mean for wap_delta_return_6: 100%|██████████| 4/4 [00:00<00:00, 294.63it/s]\n",
      "rolling std for wap_delta_return_6: 100%|██████████| 3/3 [00:00<00:00, 224.90it/s]\n",
      "rolling mean for target_approx: 100%|██████████| 4/4 [00:00<00:00, 320.68it/s]\n",
      "rolling std for target_approx: 100%|██████████| 3/3 [00:00<00:00, 208.07it/s]\n",
      "rolling mean for wap_delta_return_6: 100%|██████████| 4/4 [00:00<00:00, 302.99it/s]\n",
      "rolling std for wap_delta_return_6: 100%|██████████| 3/3 [00:00<00:00, 241.92it/s]\n",
      "rolling mean for target_approx: 100%|██████████| 4/4 [00:00<00:00, 322.62it/s]\n",
      "rolling std for target_approx: 100%|██████████| 3/3 [00:00<00:00, 229.02it/s]\n"
     ]
    },
    {
     "name": "stdout",
     "output_type": "stream",
     "text": [
      "90 qps: 0.0930022848976983\n"
     ]
    },
    {
     "name": "stderr",
     "output_type": "stream",
     "text": [
      "rolling mean for wap_delta_return_6: 100%|██████████| 4/4 [00:00<00:00, 309.39it/s]\n",
      "rolling std for wap_delta_return_6: 100%|██████████| 3/3 [00:00<00:00, 235.51it/s]\n",
      "rolling mean for target_approx: 100%|██████████| 4/4 [00:00<00:00, 252.94it/s]\n",
      "rolling std for target_approx: 100%|██████████| 3/3 [00:00<00:00, 189.64it/s]\n",
      "rolling mean for wap_delta_return_6: 100%|██████████| 4/4 [00:00<00:00, 318.14it/s]\n",
      "rolling std for wap_delta_return_6: 100%|██████████| 3/3 [00:00<00:00, 241.10it/s]\n",
      "rolling mean for target_approx: 100%|██████████| 4/4 [00:00<00:00, 302.55it/s]\n",
      "rolling std for target_approx: 100%|██████████| 3/3 [00:00<00:00, 210.02it/s]\n",
      "rolling mean for wap_delta_return_6: 100%|██████████| 4/4 [00:00<00:00, 300.32it/s]\n",
      "rolling std for wap_delta_return_6: 100%|██████████| 3/3 [00:00<00:00, 228.64it/s]\n",
      "rolling mean for target_approx: 100%|██████████| 4/4 [00:00<00:00, 283.82it/s]\n",
      "rolling std for target_approx: 100%|██████████| 3/3 [00:00<00:00, 219.28it/s]\n",
      "rolling mean for wap_delta_return_6: 100%|██████████| 4/4 [00:00<00:00, 319.55it/s]\n",
      "rolling std for wap_delta_return_6: 100%|██████████| 3/3 [00:00<00:00, 224.37it/s]\n",
      "rolling mean for target_approx: 100%|██████████| 4/4 [00:00<00:00, 328.46it/s]\n",
      "rolling std for target_approx: 100%|██████████| 3/3 [00:00<00:00, 244.88it/s]\n",
      "rolling mean for wap_delta_return_6: 100%|██████████| 4/4 [00:00<00:00, 281.63it/s]\n",
      "rolling std for wap_delta_return_6: 100%|██████████| 3/3 [00:00<00:00, 219.17it/s]\n",
      "rolling mean for target_approx: 100%|██████████| 4/4 [00:00<00:00, 295.05it/s]\n",
      "rolling std for target_approx: 100%|██████████| 3/3 [00:00<00:00, 234.47it/s]\n",
      "rolling mean for wap_delta_return_6: 100%|██████████| 4/4 [00:00<00:00, 313.72it/s]\n",
      "rolling std for wap_delta_return_6: 100%|██████████| 3/3 [00:00<00:00, 243.58it/s]\n",
      "rolling mean for target_approx: 100%|██████████| 4/4 [00:00<00:00, 322.99it/s]\n",
      "rolling std for target_approx: 100%|██████████| 3/3 [00:00<00:00, 246.41it/s]\n",
      "rolling mean for wap_delta_return_6: 100%|██████████| 4/4 [00:00<00:00, 318.49it/s]\n",
      "rolling std for wap_delta_return_6: 100%|██████████| 3/3 [00:00<00:00, 242.29it/s]\n",
      "rolling mean for target_approx: 100%|██████████| 4/4 [00:00<00:00, 326.53it/s]\n",
      "rolling std for target_approx: 100%|██████████| 3/3 [00:00<00:00, 247.96it/s]\n",
      "rolling mean for wap_delta_return_6: 100%|██████████| 4/4 [00:00<00:00, 315.97it/s]\n",
      "rolling std for wap_delta_return_6: 100%|██████████| 3/3 [00:00<00:00, 225.91it/s]\n",
      "rolling mean for target_approx: 100%|██████████| 4/4 [00:00<00:00, 300.31it/s]\n",
      "rolling std for target_approx: 100%|██████████| 3/3 [00:00<00:00, 224.67it/s]\n",
      "rolling mean for wap_delta_return_6: 100%|██████████| 4/4 [00:00<00:00, 283.21it/s]\n",
      "rolling std for wap_delta_return_6: 100%|██████████| 3/3 [00:00<00:00, 220.65it/s]\n",
      "rolling mean for target_approx: 100%|██████████| 4/4 [00:00<00:00, 294.66it/s]\n",
      "rolling std for target_approx: 100%|██████████| 3/3 [00:00<00:00, 206.74it/s]\n",
      "rolling mean for wap_delta_return_6: 100%|██████████| 4/4 [00:00<00:00, 310.05it/s]\n",
      "rolling std for wap_delta_return_6: 100%|██████████| 3/3 [00:00<00:00, 219.31it/s]\n",
      "rolling mean for target_approx: 100%|██████████| 4/4 [00:00<00:00, 314.39it/s]\n",
      "rolling std for target_approx: 100%|██████████| 3/3 [00:00<00:00, 212.46it/s]\n"
     ]
    },
    {
     "name": "stdout",
     "output_type": "stream",
     "text": [
      "100 qps: 0.09339909315109253\n"
     ]
    },
    {
     "name": "stderr",
     "output_type": "stream",
     "text": [
      "rolling mean for wap_delta_return_6: 100%|██████████| 4/4 [00:00<00:00, 282.53it/s]\n",
      "rolling std for wap_delta_return_6: 100%|██████████| 3/3 [00:00<00:00, 252.79it/s]\n",
      "rolling mean for target_approx: 100%|██████████| 4/4 [00:00<00:00, 339.65it/s]\n",
      "rolling std for target_approx: 100%|██████████| 3/3 [00:00<00:00, 263.98it/s]\n",
      "rolling mean for wap_delta_return_6: 100%|██████████| 4/4 [00:00<00:00, 342.28it/s]\n",
      "rolling std for wap_delta_return_6: 100%|██████████| 3/3 [00:00<00:00, 250.34it/s]\n",
      "rolling mean for target_approx: 100%|██████████| 4/4 [00:00<00:00, 339.67it/s]\n",
      "rolling std for target_approx: 100%|██████████| 3/3 [00:00<00:00, 266.29it/s]\n",
      "rolling mean for wap_delta_return_6: 100%|██████████| 4/4 [00:00<00:00, 313.78it/s]\n",
      "rolling std for wap_delta_return_6: 100%|██████████| 3/3 [00:00<00:00, 243.60it/s]\n",
      "rolling mean for target_approx: 100%|██████████| 4/4 [00:00<00:00, 323.98it/s]\n",
      "rolling std for target_approx: 100%|██████████| 3/3 [00:00<00:00, 245.07it/s]\n",
      "rolling mean for wap_delta_return_6: 100%|██████████| 4/4 [00:00<00:00, 318.30it/s]\n",
      "rolling std for wap_delta_return_6: 100%|██████████| 3/3 [00:00<00:00, 232.07it/s]\n",
      "rolling mean for target_approx: 100%|██████████| 4/4 [00:00<00:00, 316.51it/s]\n",
      "rolling std for target_approx: 100%|██████████| 3/3 [00:00<00:00, 247.58it/s]\n",
      "rolling mean for wap_delta_return_6: 100%|██████████| 4/4 [00:00<00:00, 303.65it/s]\n",
      "rolling std for wap_delta_return_6: 100%|██████████| 3/3 [00:00<00:00, 241.73it/s]\n",
      "rolling mean for target_approx: 100%|██████████| 4/4 [00:00<00:00, 315.72it/s]\n",
      "rolling std for target_approx: 100%|██████████| 3/3 [00:00<00:00, 235.67it/s]\n",
      "rolling mean for wap_delta_return_6: 100%|██████████| 4/4 [00:00<00:00, 297.38it/s]\n",
      "rolling std for wap_delta_return_6: 100%|██████████| 3/3 [00:00<00:00, 238.52it/s]\n",
      "rolling mean for target_approx: 100%|██████████| 4/4 [00:00<00:00, 321.57it/s]\n",
      "rolling std for target_approx: 100%|██████████| 3/3 [00:00<00:00, 245.41it/s]\n",
      "rolling mean for wap_delta_return_6: 100%|██████████| 4/4 [00:00<00:00, 324.99it/s]\n",
      "rolling std for wap_delta_return_6: 100%|██████████| 3/3 [00:00<00:00, 241.69it/s]\n",
      "rolling mean for target_approx: 100%|██████████| 4/4 [00:00<00:00, 340.44it/s]\n",
      "rolling std for target_approx: 100%|██████████| 3/3 [00:00<00:00, 254.87it/s]\n",
      "rolling mean for wap_delta_return_6: 100%|██████████| 4/4 [00:00<00:00, 320.40it/s]\n",
      "rolling std for wap_delta_return_6: 100%|██████████| 3/3 [00:00<00:00, 242.51it/s]\n",
      "rolling mean for target_approx: 100%|██████████| 4/4 [00:00<00:00, 301.49it/s]\n",
      "rolling std for target_approx: 100%|██████████| 3/3 [00:00<00:00, 232.24it/s]\n",
      "rolling mean for wap_delta_return_6: 100%|██████████| 4/4 [00:00<00:00, 284.62it/s]\n",
      "rolling std for wap_delta_return_6: 100%|██████████| 3/3 [00:00<00:00, 213.50it/s]\n",
      "rolling mean for target_approx: 100%|██████████| 4/4 [00:00<00:00, 299.40it/s]\n",
      "rolling std for target_approx: 100%|██████████| 3/3 [00:00<00:00, 216.26it/s]\n",
      "rolling mean for wap_delta_return_6: 100%|██████████| 4/4 [00:00<00:00, 298.18it/s]\n",
      "rolling std for wap_delta_return_6: 100%|██████████| 3/3 [00:00<00:00, 209.86it/s]\n",
      "rolling mean for target_approx: 100%|██████████| 4/4 [00:00<00:00, 295.22it/s]\n",
      "rolling std for target_approx: 100%|██████████| 3/3 [00:00<00:00, 232.32it/s]\n"
     ]
    },
    {
     "name": "stdout",
     "output_type": "stream",
     "text": [
      "110 qps: 0.09352658878673206\n"
     ]
    },
    {
     "name": "stderr",
     "output_type": "stream",
     "text": [
      "rolling mean for wap_delta_return_6: 100%|██████████| 4/4 [00:00<00:00, 293.17it/s]\n",
      "rolling std for wap_delta_return_6: 100%|██████████| 3/3 [00:00<00:00, 237.70it/s]\n",
      "rolling mean for target_approx: 100%|██████████| 4/4 [00:00<00:00, 317.35it/s]\n",
      "rolling std for target_approx: 100%|██████████| 3/3 [00:00<00:00, 237.27it/s]\n",
      "rolling mean for wap_delta_return_6: 100%|██████████| 4/4 [00:00<00:00, 307.47it/s]\n",
      "rolling std for wap_delta_return_6: 100%|██████████| 3/3 [00:00<00:00, 245.98it/s]\n",
      "rolling mean for target_approx: 100%|██████████| 4/4 [00:00<00:00, 330.86it/s]\n",
      "rolling std for target_approx: 100%|██████████| 3/3 [00:00<00:00, 254.13it/s]\n",
      "rolling mean for wap_delta_return_6: 100%|██████████| 4/4 [00:00<00:00, 303.62it/s]\n",
      "rolling std for wap_delta_return_6: 100%|██████████| 3/3 [00:00<00:00, 245.71it/s]\n",
      "rolling mean for target_approx: 100%|██████████| 4/4 [00:00<00:00, 338.02it/s]\n",
      "rolling std for target_approx: 100%|██████████| 3/3 [00:00<00:00, 241.27it/s]\n",
      "rolling mean for wap_delta_return_6: 100%|██████████| 4/4 [00:00<00:00, 320.54it/s]\n",
      "rolling std for wap_delta_return_6: 100%|██████████| 3/3 [00:00<00:00, 247.49it/s]\n",
      "rolling mean for target_approx: 100%|██████████| 4/4 [00:00<00:00, 341.74it/s]\n",
      "rolling std for target_approx: 100%|██████████| 3/3 [00:00<00:00, 254.80it/s]\n",
      "rolling mean for wap_delta_return_6: 100%|██████████| 4/4 [00:00<00:00, 329.57it/s]\n",
      "rolling std for wap_delta_return_6: 100%|██████████| 3/3 [00:00<00:00, 261.72it/s]\n",
      "rolling mean for target_approx: 100%|██████████| 4/4 [00:00<00:00, 331.17it/s]\n",
      "rolling std for target_approx: 100%|██████████| 3/3 [00:00<00:00, 259.95it/s]\n",
      "rolling mean for wap_delta_return_6: 100%|██████████| 4/4 [00:00<00:00, 319.68it/s]\n",
      "rolling std for wap_delta_return_6: 100%|██████████| 3/3 [00:00<00:00, 250.02it/s]\n",
      "rolling mean for target_approx: 100%|██████████| 4/4 [00:00<00:00, 255.24it/s]\n",
      "rolling std for target_approx: 100%|██████████| 3/3 [00:00<00:00, 254.03it/s]\n",
      "rolling mean for wap_delta_return_6: 100%|██████████| 4/4 [00:00<00:00, 308.65it/s]\n",
      "rolling std for wap_delta_return_6: 100%|██████████| 3/3 [00:00<00:00, 224.38it/s]\n",
      "rolling mean for target_approx: 100%|██████████| 4/4 [00:00<00:00, 324.37it/s]\n",
      "rolling std for target_approx: 100%|██████████| 3/3 [00:00<00:00, 245.53it/s]\n",
      "rolling mean for wap_delta_return_6: 100%|██████████| 4/4 [00:00<00:00, 311.32it/s]\n",
      "rolling std for wap_delta_return_6: 100%|██████████| 3/3 [00:00<00:00, 237.16it/s]\n",
      "rolling mean for target_approx: 100%|██████████| 4/4 [00:00<00:00, 302.06it/s]\n",
      "rolling std for target_approx: 100%|██████████| 3/3 [00:00<00:00, 241.01it/s]\n",
      "rolling mean for wap_delta_return_6: 100%|██████████| 4/4 [00:00<00:00, 290.57it/s]\n",
      "rolling std for wap_delta_return_6: 100%|██████████| 3/3 [00:00<00:00, 210.28it/s]\n",
      "rolling mean for target_approx: 100%|██████████| 4/4 [00:00<00:00, 299.31it/s]\n",
      "rolling std for target_approx: 100%|██████████| 3/3 [00:00<00:00, 227.96it/s]\n",
      "rolling mean for wap_delta_return_6: 100%|██████████| 4/4 [00:00<00:00, 272.68it/s]\n",
      "rolling std for wap_delta_return_6: 100%|██████████| 3/3 [00:00<00:00, 235.28it/s]\n",
      "rolling mean for target_approx: 100%|██████████| 4/4 [00:00<00:00, 296.11it/s]\n",
      "rolling std for target_approx: 100%|██████████| 3/3 [00:00<00:00, 227.01it/s]\n"
     ]
    },
    {
     "name": "stdout",
     "output_type": "stream",
     "text": [
      "120 qps: 0.09365506172180176\n"
     ]
    },
    {
     "name": "stderr",
     "output_type": "stream",
     "text": [
      "rolling mean for wap_delta_return_6: 100%|██████████| 4/4 [00:00<00:00, 283.21it/s]\n",
      "rolling std for wap_delta_return_6: 100%|██████████| 3/3 [00:00<00:00, 217.28it/s]\n",
      "rolling mean for target_approx: 100%|██████████| 4/4 [00:00<00:00, 302.12it/s]\n",
      "rolling std for target_approx: 100%|██████████| 3/3 [00:00<00:00, 226.37it/s]\n",
      "rolling mean for wap_delta_return_6: 100%|██████████| 4/4 [00:00<00:00, 291.21it/s]\n",
      "rolling std for wap_delta_return_6: 100%|██████████| 3/3 [00:00<00:00, 242.17it/s]\n",
      "rolling mean for target_approx: 100%|██████████| 4/4 [00:00<00:00, 313.00it/s]\n",
      "rolling std for target_approx: 100%|██████████| 3/3 [00:00<00:00, 210.68it/s]\n",
      "rolling mean for wap_delta_return_6: 100%|██████████| 4/4 [00:00<00:00, 230.36it/s]\n",
      "rolling std for wap_delta_return_6: 100%|██████████| 3/3 [00:00<00:00, 208.36it/s]\n",
      "rolling mean for target_approx: 100%|██████████| 4/4 [00:00<00:00, 226.10it/s]\n",
      "rolling std for target_approx: 100%|██████████| 3/3 [00:00<00:00, 165.94it/s]\n",
      "rolling mean for wap_delta_return_6: 100%|██████████| 4/4 [00:00<00:00, 214.97it/s]\n",
      "rolling std for wap_delta_return_6: 100%|██████████| 3/3 [00:00<00:00, 161.81it/s]\n",
      "rolling mean for target_approx: 100%|██████████| 4/4 [00:00<00:00, 222.23it/s]\n",
      "rolling std for target_approx: 100%|██████████| 3/3 [00:00<00:00, 167.64it/s]\n",
      "rolling mean for wap_delta_return_6: 100%|██████████| 4/4 [00:00<00:00, 220.52it/s]\n",
      "rolling std for wap_delta_return_6: 100%|██████████| 3/3 [00:00<00:00, 163.34it/s]\n",
      "rolling mean for target_approx: 100%|██████████| 4/4 [00:00<00:00, 221.24it/s]\n",
      "rolling std for target_approx: 100%|██████████| 3/3 [00:00<00:00, 161.08it/s]\n",
      "rolling mean for wap_delta_return_6: 100%|██████████| 4/4 [00:00<00:00, 216.35it/s]\n",
      "rolling std for wap_delta_return_6: 100%|██████████| 3/3 [00:00<00:00, 150.57it/s]\n",
      "rolling mean for target_approx: 100%|██████████| 4/4 [00:00<00:00, 220.32it/s]\n",
      "rolling std for target_approx: 100%|██████████| 3/3 [00:00<00:00, 161.41it/s]\n",
      "rolling mean for wap_delta_return_6: 100%|██████████| 4/4 [00:00<00:00, 221.10it/s]\n",
      "rolling std for wap_delta_return_6: 100%|██████████| 3/3 [00:00<00:00, 159.77it/s]\n",
      "rolling mean for target_approx: 100%|██████████| 4/4 [00:00<00:00, 257.51it/s]\n",
      "rolling std for target_approx: 100%|██████████| 3/3 [00:00<00:00, 214.98it/s]\n",
      "rolling mean for wap_delta_return_6: 100%|██████████| 4/4 [00:00<00:00, 302.37it/s]\n",
      "rolling std for wap_delta_return_6: 100%|██████████| 3/3 [00:00<00:00, 229.04it/s]\n",
      "rolling mean for target_approx: 100%|██████████| 4/4 [00:00<00:00, 274.82it/s]\n",
      "rolling std for target_approx: 100%|██████████| 3/3 [00:00<00:00, 240.49it/s]\n",
      "rolling mean for wap_delta_return_6: 100%|██████████| 4/4 [00:00<00:00, 304.32it/s]\n",
      "rolling std for wap_delta_return_6: 100%|██████████| 3/3 [00:00<00:00, 206.25it/s]\n",
      "rolling mean for target_approx: 100%|██████████| 4/4 [00:00<00:00, 266.62it/s]\n",
      "rolling std for target_approx: 100%|██████████| 3/3 [00:00<00:00, 227.47it/s]\n",
      "rolling mean for wap_delta_return_6: 100%|██████████| 4/4 [00:00<00:00, 295.53it/s]\n",
      "rolling std for wap_delta_return_6: 100%|██████████| 3/3 [00:00<00:00, 223.70it/s]\n",
      "rolling mean for target_approx: 100%|██████████| 4/4 [00:00<00:00, 297.44it/s]\n",
      "rolling std for target_approx: 100%|██████████| 3/3 [00:00<00:00, 225.62it/s]\n"
     ]
    },
    {
     "name": "stdout",
     "output_type": "stream",
     "text": [
      "130 qps: 0.09529397487640381\n"
     ]
    },
    {
     "name": "stderr",
     "output_type": "stream",
     "text": [
      "rolling mean for wap_delta_return_6: 100%|██████████| 4/4 [00:00<00:00, 261.76it/s]\n",
      "rolling std for wap_delta_return_6: 100%|██████████| 3/3 [00:00<00:00, 211.99it/s]\n",
      "rolling mean for target_approx: 100%|██████████| 4/4 [00:00<00:00, 277.63it/s]\n",
      "rolling std for target_approx: 100%|██████████| 3/3 [00:00<00:00, 209.17it/s]\n",
      "rolling mean for wap_delta_return_6: 100%|██████████| 4/4 [00:00<00:00, 301.91it/s]\n",
      "rolling std for wap_delta_return_6: 100%|██████████| 3/3 [00:00<00:00, 250.18it/s]\n",
      "rolling mean for target_approx: 100%|██████████| 4/4 [00:00<00:00, 309.18it/s]\n",
      "rolling std for target_approx: 100%|██████████| 3/3 [00:00<00:00, 228.78it/s]\n",
      "rolling mean for wap_delta_return_6: 100%|██████████| 4/4 [00:00<00:00, 295.43it/s]\n",
      "rolling std for wap_delta_return_6: 100%|██████████| 3/3 [00:00<00:00, 219.31it/s]\n",
      "rolling mean for target_approx: 100%|██████████| 4/4 [00:00<00:00, 300.84it/s]\n",
      "rolling std for target_approx: 100%|██████████| 3/3 [00:00<00:00, 220.67it/s]\n",
      "rolling mean for wap_delta_return_6: 100%|██████████| 4/4 [00:00<00:00, 308.86it/s]\n",
      "rolling std for wap_delta_return_6: 100%|██████████| 3/3 [00:00<00:00, 218.82it/s]\n",
      "rolling mean for target_approx: 100%|██████████| 4/4 [00:00<00:00, 295.69it/s]\n",
      "rolling std for target_approx: 100%|██████████| 3/3 [00:00<00:00, 229.77it/s]\n",
      "rolling mean for wap_delta_return_6: 100%|██████████| 4/4 [00:00<00:00, 298.74it/s]\n",
      "rolling std for wap_delta_return_6: 100%|██████████| 3/3 [00:00<00:00, 229.28it/s]\n",
      "rolling mean for target_approx: 100%|██████████| 4/4 [00:00<00:00, 303.58it/s]\n",
      "rolling std for target_approx: 100%|██████████| 3/3 [00:00<00:00, 245.19it/s]\n",
      "rolling mean for wap_delta_return_6: 100%|██████████| 4/4 [00:00<00:00, 308.67it/s]\n",
      "rolling std for wap_delta_return_6: 100%|██████████| 3/3 [00:00<00:00, 216.85it/s]\n",
      "rolling mean for target_approx: 100%|██████████| 4/4 [00:00<00:00, 291.29it/s]\n",
      "rolling std for target_approx: 100%|██████████| 3/3 [00:00<00:00, 228.00it/s]\n",
      "rolling mean for wap_delta_return_6: 100%|██████████| 4/4 [00:00<00:00, 282.09it/s]\n",
      "rolling std for wap_delta_return_6: 100%|██████████| 3/3 [00:00<00:00, 218.94it/s]\n",
      "rolling mean for target_approx: 100%|██████████| 4/4 [00:00<00:00, 313.76it/s]\n",
      "rolling std for target_approx: 100%|██████████| 3/3 [00:00<00:00, 233.11it/s]\n",
      "rolling mean for wap_delta_return_6: 100%|██████████| 4/4 [00:00<00:00, 304.01it/s]\n",
      "rolling std for wap_delta_return_6: 100%|██████████| 3/3 [00:00<00:00, 201.34it/s]\n",
      "rolling mean for target_approx: 100%|██████████| 4/4 [00:00<00:00, 329.62it/s]\n",
      "rolling std for target_approx: 100%|██████████| 3/3 [00:00<00:00, 245.53it/s]\n",
      "rolling mean for wap_delta_return_6: 100%|██████████| 4/4 [00:00<00:00, 313.12it/s]\n",
      "rolling std for wap_delta_return_6: 100%|██████████| 3/3 [00:00<00:00, 230.51it/s]\n",
      "rolling mean for target_approx: 100%|██████████| 4/4 [00:00<00:00, 323.68it/s]\n",
      "rolling std for target_approx: 100%|██████████| 3/3 [00:00<00:00, 194.56it/s]\n",
      "rolling mean for wap_delta_return_6: 100%|██████████| 4/4 [00:00<00:00, 315.28it/s]\n",
      "rolling std for wap_delta_return_6: 100%|██████████| 3/3 [00:00<00:00, 246.98it/s]\n",
      "rolling mean for target_approx: 100%|██████████| 4/4 [00:00<00:00, 330.55it/s]\n",
      "rolling std for target_approx: 100%|██████████| 3/3 [00:00<00:00, 233.35it/s]\n"
     ]
    },
    {
     "name": "stdout",
     "output_type": "stream",
     "text": [
      "140 qps: 0.09547239201409476\n"
     ]
    },
    {
     "name": "stderr",
     "output_type": "stream",
     "text": [
      "rolling mean for wap_delta_return_6: 100%|██████████| 4/4 [00:00<00:00, 294.79it/s]\n",
      "rolling std for wap_delta_return_6: 100%|██████████| 3/3 [00:00<00:00, 245.79it/s]\n",
      "rolling mean for target_approx: 100%|██████████| 4/4 [00:00<00:00, 310.49it/s]\n",
      "rolling std for target_approx: 100%|██████████| 3/3 [00:00<00:00, 247.44it/s]\n",
      "rolling mean for wap_delta_return_6: 100%|██████████| 4/4 [00:00<00:00, 307.73it/s]\n",
      "rolling std for wap_delta_return_6: 100%|██████████| 3/3 [00:00<00:00, 235.39it/s]\n",
      "rolling mean for target_approx: 100%|██████████| 4/4 [00:00<00:00, 338.46it/s]\n",
      "rolling std for target_approx: 100%|██████████| 3/3 [00:00<00:00, 182.50it/s]\n",
      "rolling mean for wap_delta_return_6: 100%|██████████| 4/4 [00:00<00:00, 314.02it/s]\n",
      "rolling std for wap_delta_return_6: 100%|██████████| 3/3 [00:00<00:00, 252.63it/s]\n",
      "rolling mean for target_approx: 100%|██████████| 4/4 [00:00<00:00, 347.96it/s]\n",
      "rolling std for target_approx: 100%|██████████| 3/3 [00:00<00:00, 253.73it/s]\n",
      "rolling mean for wap_delta_return_6: 100%|██████████| 4/4 [00:00<00:00, 314.87it/s]\n",
      "rolling std for wap_delta_return_6: 100%|██████████| 3/3 [00:00<00:00, 248.67it/s]\n",
      "rolling mean for target_approx: 100%|██████████| 4/4 [00:00<00:00, 337.43it/s]\n",
      "rolling std for target_approx: 100%|██████████| 3/3 [00:00<00:00, 256.29it/s]\n",
      "rolling mean for wap_delta_return_6: 100%|██████████| 4/4 [00:00<00:00, 324.84it/s]\n",
      "rolling std for wap_delta_return_6: 100%|██████████| 3/3 [00:00<00:00, 234.35it/s]\n",
      "rolling mean for target_approx: 100%|██████████| 4/4 [00:00<00:00, 288.41it/s]\n",
      "rolling std for target_approx: 100%|██████████| 3/3 [00:00<00:00, 219.59it/s]\n",
      "rolling mean for wap_delta_return_6: 100%|██████████| 4/4 [00:00<00:00, 275.34it/s]\n",
      "rolling std for wap_delta_return_6: 100%|██████████| 3/3 [00:00<00:00, 211.26it/s]\n",
      "rolling mean for target_approx: 100%|██████████| 4/4 [00:00<00:00, 278.53it/s]\n",
      "rolling std for target_approx: 100%|██████████| 3/3 [00:00<00:00, 218.79it/s]\n",
      "rolling mean for wap_delta_return_6: 100%|██████████| 4/4 [00:00<00:00, 306.90it/s]\n",
      "rolling std for wap_delta_return_6: 100%|██████████| 3/3 [00:00<00:00, 243.04it/s]\n",
      "rolling mean for target_approx: 100%|██████████| 4/4 [00:00<00:00, 326.04it/s]\n",
      "rolling std for target_approx: 100%|██████████| 3/3 [00:00<00:00, 239.96it/s]\n",
      "rolling mean for wap_delta_return_6: 100%|██████████| 4/4 [00:00<00:00, 310.47it/s]\n",
      "rolling std for wap_delta_return_6: 100%|██████████| 3/3 [00:00<00:00, 249.53it/s]\n",
      "rolling mean for target_approx: 100%|██████████| 4/4 [00:00<00:00, 307.70it/s]\n",
      "rolling std for target_approx: 100%|██████████| 3/3 [00:00<00:00, 243.94it/s]\n",
      "rolling mean for wap_delta_return_6: 100%|██████████| 4/4 [00:00<00:00, 312.57it/s]\n",
      "rolling std for wap_delta_return_6: 100%|██████████| 3/3 [00:00<00:00, 244.75it/s]\n",
      "rolling mean for target_approx: 100%|██████████| 4/4 [00:00<00:00, 304.23it/s]\n",
      "rolling std for target_approx: 100%|██████████| 3/3 [00:00<00:00, 246.49it/s]\n",
      "rolling mean for wap_delta_return_6: 100%|██████████| 4/4 [00:00<00:00, 322.04it/s]\n",
      "rolling std for wap_delta_return_6: 100%|██████████| 3/3 [00:00<00:00, 247.07it/s]\n",
      "rolling mean for target_approx: 100%|██████████| 4/4 [00:00<00:00, 335.79it/s]\n",
      "rolling std for target_approx: 100%|██████████| 3/3 [00:00<00:00, 233.07it/s]\n"
     ]
    },
    {
     "name": "stdout",
     "output_type": "stream",
     "text": [
      "150 qps: 0.0954573138554891\n"
     ]
    },
    {
     "name": "stderr",
     "output_type": "stream",
     "text": [
      "rolling mean for wap_delta_return_6: 100%|██████████| 4/4 [00:00<00:00, 313.72it/s]\n",
      "rolling std for wap_delta_return_6: 100%|██████████| 3/3 [00:00<00:00, 230.02it/s]\n",
      "rolling mean for target_approx: 100%|██████████| 4/4 [00:00<00:00, 337.22it/s]\n",
      "rolling std for target_approx: 100%|██████████| 3/3 [00:00<00:00, 254.62it/s]\n",
      "rolling mean for wap_delta_return_6: 100%|██████████| 4/4 [00:00<00:00, 341.01it/s]\n",
      "rolling std for wap_delta_return_6: 100%|██████████| 3/3 [00:00<00:00, 254.81it/s]\n",
      "rolling mean for target_approx: 100%|██████████| 4/4 [00:00<00:00, 300.22it/s]\n",
      "rolling std for target_approx: 100%|██████████| 3/3 [00:00<00:00, 225.36it/s]\n",
      "rolling mean for wap_delta_return_6: 100%|██████████| 4/4 [00:00<00:00, 326.42it/s]\n",
      "rolling std for wap_delta_return_6: 100%|██████████| 3/3 [00:00<00:00, 239.21it/s]\n",
      "rolling mean for target_approx: 100%|██████████| 4/4 [00:00<00:00, 314.17it/s]\n",
      "rolling std for target_approx: 100%|██████████| 3/3 [00:00<00:00, 234.30it/s]\n",
      "rolling mean for wap_delta_return_6: 100%|██████████| 4/4 [00:00<00:00, 314.61it/s]\n",
      "rolling std for wap_delta_return_6: 100%|██████████| 3/3 [00:00<00:00, 244.34it/s]\n",
      "rolling mean for target_approx: 100%|██████████| 4/4 [00:00<00:00, 318.03it/s]\n",
      "rolling std for target_approx: 100%|██████████| 3/3 [00:00<00:00, 248.67it/s]\n",
      "rolling mean for wap_delta_return_6: 100%|██████████| 4/4 [00:00<00:00, 316.30it/s]\n",
      "rolling std for wap_delta_return_6: 100%|██████████| 3/3 [00:00<00:00, 243.14it/s]\n",
      "rolling mean for target_approx: 100%|██████████| 4/4 [00:00<00:00, 321.75it/s]\n",
      "rolling std for target_approx: 100%|██████████| 3/3 [00:00<00:00, 234.02it/s]\n",
      "rolling mean for wap_delta_return_6: 100%|██████████| 4/4 [00:00<00:00, 318.08it/s]\n",
      "rolling std for wap_delta_return_6: 100%|██████████| 3/3 [00:00<00:00, 253.40it/s]\n",
      "rolling mean for target_approx: 100%|██████████| 4/4 [00:00<00:00, 339.19it/s]\n",
      "rolling std for target_approx: 100%|██████████| 3/3 [00:00<00:00, 245.93it/s]\n",
      "rolling mean for wap_delta_return_6: 100%|██████████| 4/4 [00:00<00:00, 305.72it/s]\n",
      "rolling std for wap_delta_return_6: 100%|██████████| 3/3 [00:00<00:00, 251.17it/s]\n",
      "rolling mean for target_approx: 100%|██████████| 4/4 [00:00<00:00, 339.56it/s]\n",
      "rolling std for target_approx: 100%|██████████| 3/3 [00:00<00:00, 194.12it/s]\n",
      "rolling mean for wap_delta_return_6: 100%|██████████| 4/4 [00:00<00:00, 292.01it/s]\n",
      "rolling std for wap_delta_return_6: 100%|██████████| 3/3 [00:00<00:00, 224.02it/s]\n",
      "rolling mean for target_approx: 100%|██████████| 4/4 [00:00<00:00, 282.74it/s]\n",
      "rolling std for target_approx: 100%|██████████| 3/3 [00:00<00:00, 195.04it/s]\n",
      "rolling mean for wap_delta_return_6: 100%|██████████| 4/4 [00:00<00:00, 267.37it/s]\n",
      "rolling std for wap_delta_return_6: 100%|██████████| 3/3 [00:00<00:00, 137.02it/s]\n",
      "rolling mean for target_approx: 100%|██████████| 4/4 [00:00<00:00, 288.78it/s]\n",
      "rolling std for target_approx: 100%|██████████| 3/3 [00:00<00:00, 197.26it/s]\n",
      "rolling mean for wap_delta_return_6: 100%|██████████| 4/4 [00:00<00:00, 285.58it/s]\n",
      "rolling std for wap_delta_return_6: 100%|██████████| 3/3 [00:00<00:00, 220.32it/s]\n",
      "rolling mean for target_approx: 100%|██████████| 4/4 [00:00<00:00, 272.02it/s]\n",
      "rolling std for target_approx: 100%|██████████| 3/3 [00:00<00:00, 223.82it/s]\n"
     ]
    },
    {
     "name": "stdout",
     "output_type": "stream",
     "text": [
      "160 qps: 0.09576527178287506\n"
     ]
    },
    {
     "name": "stderr",
     "output_type": "stream",
     "text": [
      "rolling mean for wap_delta_return_6: 100%|██████████| 4/4 [00:00<00:00, 271.33it/s]\n",
      "rolling std for wap_delta_return_6: 100%|██████████| 3/3 [00:00<00:00, 214.23it/s]\n",
      "rolling mean for target_approx: 100%|██████████| 4/4 [00:00<00:00, 245.90it/s]\n",
      "rolling std for target_approx: 100%|██████████| 3/3 [00:00<00:00, 196.09it/s]\n",
      "rolling mean for wap_delta_return_6: 100%|██████████| 4/4 [00:00<00:00, 315.79it/s]\n",
      "rolling std for wap_delta_return_6: 100%|██████████| 3/3 [00:00<00:00, 240.50it/s]\n",
      "rolling mean for target_approx: 100%|██████████| 4/4 [00:00<00:00, 330.51it/s]\n",
      "rolling std for target_approx: 100%|██████████| 3/3 [00:00<00:00, 246.40it/s]\n",
      "rolling mean for wap_delta_return_6: 100%|██████████| 4/4 [00:00<00:00, 308.04it/s]\n",
      "rolling std for wap_delta_return_6: 100%|██████████| 3/3 [00:00<00:00, 240.24it/s]\n",
      "rolling mean for target_approx: 100%|██████████| 4/4 [00:00<00:00, 319.73it/s]\n",
      "rolling std for target_approx: 100%|██████████| 3/3 [00:00<00:00, 243.78it/s]\n",
      "rolling mean for wap_delta_return_6: 100%|██████████| 4/4 [00:00<00:00, 324.29it/s]\n",
      "rolling std for wap_delta_return_6: 100%|██████████| 3/3 [00:00<00:00, 230.87it/s]\n",
      "rolling mean for target_approx: 100%|██████████| 4/4 [00:00<00:00, 326.99it/s]\n",
      "rolling std for target_approx: 100%|██████████| 3/3 [00:00<00:00, 249.98it/s]\n",
      "rolling mean for wap_delta_return_6: 100%|██████████| 4/4 [00:00<00:00, 315.87it/s]\n",
      "rolling std for wap_delta_return_6: 100%|██████████| 3/3 [00:00<00:00, 237.14it/s]\n",
      "rolling mean for target_approx: 100%|██████████| 4/4 [00:00<00:00, 294.46it/s]\n",
      "rolling std for target_approx: 100%|██████████| 3/3 [00:00<00:00, 225.20it/s]\n"
     ]
    },
    {
     "name": "stdout",
     "output_type": "stream",
     "text": [
      "The code will take approximately 0.1098 hours to reason about\n"
     ]
    }
   ],
   "source": [
    "def zero_sum(prices, volumes):\n",
    "    std_error = np.sqrt(volumes)\n",
    "    step = np.sum(prices) / np.sum(std_error)\n",
    "    out = prices - std_error * step\n",
    "    return out\n",
    "\n",
    "\n",
    "import optiver2023\n",
    "\n",
    "env = optiver2023.make_env()\n",
    "iter_test = env.iter_test()\n",
    "counter = 0\n",
    "y_min, y_max = -64, 64\n",
    "qps, predictions = [], []\n",
    "cache = pd.DataFrame()\n",
    "\n",
    "for test, revealed_targets, sample_prediction in iter_test:\n",
    "    now_time = time.time()\n",
    "\n",
    "    test[\"time_id\"] = counter\n",
    "\n",
    "    cache = pd.concat([cache, test], ignore_index=True, axis=0)\n",
    "    if counter > 0:\n",
    "        cache = (\n",
    "            cache.groupby([\"stock_id\"])\n",
    "            .tail(21)\n",
    "            .sort_values(by=[\"date_id\", \"seconds_in_bucket\", \"stock_id\"])\n",
    "            .reset_index(drop=True)\n",
    "        )\n",
    "\n",
    "    feat = feat_engineering(cache)[-len(test) :]\n",
    "\n",
    "    # added after new API, reference: https://www.kaggle.com/competitions/optiver-trading-at-the-close/discussion/455690#2526672\n",
    "    if test.currently_scored.iloc[0] == False:\n",
    "        sample_prediction[\"target\"] = 0\n",
    "        env.predict(sample_prediction)\n",
    "        counter += 1\n",
    "        qps.append(time.time() - now_time)\n",
    "        if counter % 10 == 0:\n",
    "            print(counter, \"qps:\", np.mean(qps))\n",
    "        continue\n",
    "\n",
    "    # feat = feat.drop(columns = [\"currently_scored\"])\n",
    "    # end of new codes for new API\n",
    "\n",
    "    # Generate predictions for each model and calculate the weighted average\n",
    "\n",
    "    list_cols_drop = [\"date_id\"]\n",
    "    feat.drop(list_cols_drop, axis=1, inplace=True)\n",
    "\n",
    "    list_features = model_prod.models[0].feature_name_\n",
    "    feat = feat[list_features]\n",
    "    lgb_predictions = model_prod.predict(feat, \"mean\")\n",
    "\n",
    "    lgb_predictions = zero_sum(lgb_predictions, test[\"bid_size\"] + test[\"ask_size\"])\n",
    "    clipped_predictions = np.clip(lgb_predictions, y_min, y_max)\n",
    "    sample_prediction[\"target\"] = clipped_predictions\n",
    "    env.predict(sample_prediction)\n",
    "    counter += 1\n",
    "    qps.append(time.time() - now_time)\n",
    "    if counter % 10 == 0:\n",
    "        print(counter, \"qps:\", np.mean(qps))\n",
    "\n",
    "time_cost = 1.146 * np.mean(qps)\n",
    "print(\n",
    "    f\"The code will take approximately {np.round(time_cost, 4)} hours to reason about\"\n",
    ")"
   ]
  },
  {
   "cell_type": "code",
   "execution_count": 19,
   "id": "fbb2ee35",
   "metadata": {
    "execution": {
     "iopub.execute_input": "2023-11-30T20:10:49.286026Z",
     "iopub.status.busy": "2023-11-30T20:10:49.285606Z",
     "iopub.status.idle": "2023-11-30T20:10:49.290939Z",
     "shell.execute_reply": "2023-11-30T20:10:49.289344Z"
    },
    "papermill": {
     "duration": 0.214234,
     "end_time": "2023-11-30T20:10:49.293635",
     "exception": false,
     "start_time": "2023-11-30T20:10:49.079401",
     "status": "completed"
    },
    "tags": []
   },
   "outputs": [],
   "source": [
    "# clean_directory_except_one('/kaggle/working/','submission.csv')"
   ]
  },
  {
   "cell_type": "code",
   "execution_count": null,
   "id": "074090cb",
   "metadata": {
    "papermill": {
     "duration": 0.201404,
     "end_time": "2023-11-30T20:10:49.695704",
     "exception": false,
     "start_time": "2023-11-30T20:10:49.494300",
     "status": "completed"
    },
    "tags": []
   },
   "outputs": [],
   "source": []
  },
  {
   "cell_type": "code",
   "execution_count": null,
   "id": "51cf65e9",
   "metadata": {
    "papermill": {
     "duration": 0.200917,
     "end_time": "2023-11-30T20:10:50.098481",
     "exception": false,
     "start_time": "2023-11-30T20:10:49.897564",
     "status": "completed"
    },
    "tags": []
   },
   "outputs": [],
   "source": []
  },
  {
   "cell_type": "code",
   "execution_count": null,
   "id": "134495bf",
   "metadata": {
    "papermill": {
     "duration": 0.197633,
     "end_time": "2023-11-30T20:10:50.496695",
     "exception": false,
     "start_time": "2023-11-30T20:10:50.299062",
     "status": "completed"
    },
    "tags": []
   },
   "outputs": [],
   "source": []
  },
  {
   "cell_type": "code",
   "execution_count": null,
   "id": "11afc953",
   "metadata": {
    "papermill": {
     "duration": 0.199465,
     "end_time": "2023-11-30T20:10:50.894959",
     "exception": false,
     "start_time": "2023-11-30T20:10:50.695494",
     "status": "completed"
    },
    "tags": []
   },
   "outputs": [],
   "source": []
  },
  {
   "cell_type": "code",
   "execution_count": null,
   "id": "6fb177dc",
   "metadata": {
    "papermill": {
     "duration": 0.200346,
     "end_time": "2023-11-30T20:10:51.297623",
     "exception": false,
     "start_time": "2023-11-30T20:10:51.097277",
     "status": "completed"
    },
    "tags": []
   },
   "outputs": [],
   "source": []
  },
  {
   "cell_type": "code",
   "execution_count": null,
   "id": "1e19d232",
   "metadata": {
    "papermill": {
     "duration": 0.195894,
     "end_time": "2023-11-30T20:10:51.691212",
     "exception": false,
     "start_time": "2023-11-30T20:10:51.495318",
     "status": "completed"
    },
    "tags": []
   },
   "outputs": [],
   "source": []
  },
  {
   "cell_type": "code",
   "execution_count": null,
   "id": "bffb986c",
   "metadata": {
    "papermill": {
     "duration": 0.203908,
     "end_time": "2023-11-30T20:10:52.097731",
     "exception": false,
     "start_time": "2023-11-30T20:10:51.893823",
     "status": "completed"
    },
    "tags": []
   },
   "outputs": [],
   "source": []
  }
 ],
 "metadata": {
  "kaggle": {
   "accelerator": "none",
   "dataSources": [
    {
     "databundleVersionId": 7056235,
     "sourceId": 57891,
     "sourceType": "competition"
    },
    {
     "datasetId": 4019630,
     "sourceId": 6993423,
     "sourceType": "datasetVersion"
    },
    {
     "datasetId": 4030277,
     "sourceId": 7010040,
     "sourceType": "datasetVersion"
    },
    {
     "datasetId": 4088048,
     "sourceId": 7093540,
     "sourceType": "datasetVersion"
    },
    {
     "sourceId": 150406473,
     "sourceType": "kernelVersion"
    },
    {
     "sourceId": 150406565,
     "sourceType": "kernelVersion"
    },
    {
     "sourceId": 150406696,
     "sourceType": "kernelVersion"
    },
    {
     "sourceId": 150407056,
     "sourceType": "kernelVersion"
    },
    {
     "sourceId": 150412552,
     "sourceType": "kernelVersion"
    },
    {
     "sourceId": 150429530,
     "sourceType": "kernelVersion"
    },
    {
     "sourceId": 151165317,
     "sourceType": "kernelVersion"
    },
    {
     "sourceId": 151165495,
     "sourceType": "kernelVersion"
    }
   ],
   "isGpuEnabled": false,
   "isInternetEnabled": false,
   "language": "python",
   "sourceType": "notebook"
  },
  "kernelspec": {
   "display_name": "Python 3",
   "language": "python",
   "name": "python3"
  },
  "language_info": {
   "codemirror_mode": {
    "name": "ipython",
    "version": 3
   },
   "file_extension": ".py",
   "mimetype": "text/x-python",
   "name": "python",
   "nbconvert_exporter": "python",
   "pygments_lexer": "ipython3",
   "version": "3.10.12"
  },
  "papermill": {
   "default_parameters": {},
   "duration": 33.710569,
   "end_time": "2023-11-30T20:10:53.322975",
   "environment_variables": {},
   "exception": null,
   "input_path": "__notebook__.ipynb",
   "output_path": "__notebook__.ipynb",
   "parameters": {},
   "start_time": "2023-11-30T20:10:19.612406",
   "version": "2.4.0"
  }
 },
 "nbformat": 4,
 "nbformat_minor": 5
}
