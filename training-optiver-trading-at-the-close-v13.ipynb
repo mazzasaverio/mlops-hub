{
 "cells": [
  {
   "cell_type": "code",
   "execution_count": 1,
   "id": "5ceeb6ac",
   "metadata": {
    "execution": {
     "iopub.execute_input": "2023-11-30T19:48:03.251647Z",
     "iopub.status.busy": "2023-11-30T19:48:03.250873Z",
     "iopub.status.idle": "2023-11-30T19:48:03.269354Z",
     "shell.execute_reply": "2023-11-30T19:48:03.268175Z"
    },
    "papermill": {
     "duration": 0.036485,
     "end_time": "2023-11-30T19:48:03.272282",
     "exception": false,
     "start_time": "2023-11-30T19:48:03.235797",
     "status": "completed"
    },
    "tags": []
   },
   "outputs": [],
   "source": [
    "# Constants and Configuration Variables\n",
    "DEBUG = False\n",
    "TRAIN = False\n",
    "TUNING = True\n",
    "OVERWRITE_PROCESSED_DATA = True\n",
    "N_TRIALS = 10\n",
    "STATE = 42\n",
    "N_FOLD_BREAK = 7\n",
    "\n",
    "GPU_SWITCH = \"ON\"\n",
    "N_SPLITS = 5\n",
    "N_TEST_SPLITS = 1\n",
    "N_PURGE = 20\n",
    "N_EMBARGO = 20\n",
    "\n",
    "SAVE_MODELS = False\n",
    "\n",
    "VERSION_NB = 22\n",
    "EXPERIMENT_PURPOSE = \"optiver_trading_at_the_close\"\n",
    "\n",
    "list_experiment_id = [\"329561590225205643\"]\n",
    "run_name_startswith = \"23_11_20_111711_fold\"\n",
    "\n",
    "model_params_dict = {\n",
    "    \"LGBMR\": {\n",
    "        \"static_params\": {\n",
    "            \"device\": \"gpu\" if GPU_SWITCH == \"ON\" else \"cpu\",\n",
    "            \"objective\": \"mae\",\n",
    "            \"boosting_type\": \"gbdt\",\n",
    "            \"random_state\": STATE,\n",
    "            \"n_jobs\": 4,\n",
    "            \"verbose\": -1,\n",
    "            \"importance_type\": \"gain\",\n",
    "            \"max_bin\": 254,\n",
    "        },\n",
    "        \"dynamic_params\": {\n",
    "            \"n_estimators\": {\n",
    "                \"type\": \"int\",\n",
    "                \"low\": 1000,\n",
    "                \"high\": 1000,\n",
    "            },\n",
    "            \"learning_rate\": {\n",
    "                \"type\": \"float\",\n",
    "                \"low\": 0.0131,\n",
    "                \"high\": 0.0131,\n",
    "            },\n",
    "            \"max_depth\": {\"type\": \"int\", \"low\": 13, \"high\": 13},\n",
    "            \"num_leaves\": {\n",
    "                \"type\": \"int\",\n",
    "                \"low\": 205,\n",
    "                \"high\": 205,\n",
    "            },\n",
    "            \"min_child_samples\": {\n",
    "                \"type\": \"int\",\n",
    "                \"low\": 20,\n",
    "                \"high\": 20,\n",
    "            },\n",
    "            \"subsample\": {\n",
    "                \"type\": \"float\",\n",
    "                \"low\": 0.45,\n",
    "                \"high\": 0.45,\n",
    "            },\n",
    "            \"colsample_bytree\": {\n",
    "                \"type\": \"float\",\n",
    "                \"low\": 0.5,\n",
    "                \"high\": 0.5,\n",
    "            },\n",
    "        },\n",
    "    },\n",
    "}\n",
    "\n",
    "\n",
    "# Define the model name for registration in MLflow\n",
    "version = 12\n",
    "model_name = f\"ensemble_model_{version}.pkl\"\n",
    "folder_model = f\"models-v{version}\""
   ]
  },
  {
   "cell_type": "code",
   "execution_count": 2,
   "id": "3083d7d7",
   "metadata": {
    "execution": {
     "iopub.execute_input": "2023-11-30T19:48:03.298650Z",
     "iopub.status.busy": "2023-11-30T19:48:03.297719Z",
     "iopub.status.idle": "2023-11-30T19:48:05.755803Z",
     "shell.execute_reply": "2023-11-30T19:48:05.754472Z"
    },
    "papermill": {
     "duration": 2.475577,
     "end_time": "2023-11-30T19:48:05.760040",
     "exception": false,
     "start_time": "2023-11-30T19:48:03.284463",
     "status": "completed"
    },
    "tags": []
   },
   "outputs": [],
   "source": [
    "# External general-purpose modules\n",
    "import gc\n",
    "import sys\n",
    "import os\n",
    "import pickle\n",
    "import itertools as itt\n",
    "from itertools import combinations, product\n",
    "from datetime import datetime\n",
    "import numpy as np\n",
    "import pandas as pd\n",
    "\n",
    "import joblib\n",
    "import time\n",
    "from tqdm import tqdm\n",
    "\n",
    "from pathlib import Path\n",
    "import warnings\n",
    "from numba import njit, prange\n",
    "import boto3\n",
    "from botocore.exceptions import NoCredentialsError\n",
    "from dotenv import load_dotenv\n",
    "\n",
    "\n",
    "# Setting pandas options and warning filters\n",
    "pd.set_option(\"display.max_columns\", None)\n",
    "warnings.filterwarnings(\"ignore\")\n",
    "warnings.simplefilter(action=\"ignore\", category=pd.errors.PerformanceWarning)\n",
    "\n",
    "# Load environment variables\n",
    "load_dotenv()\n",
    "path_root_project = Path.cwd()\n",
    "if path_root_project.name not in [\"working\", \"content\"]:\n",
    "    path_root_project = Path(os.getenv(\"ROOT_PATH\") or path_root_project)\n",
    "\n",
    "    directories_to_add = [\"utils\", \"feat_engineering\", \"validation\"]\n",
    "    for directory in directories_to_add:\n",
    "        sys.path.append(str(path_root_project / \"src\" / directory))\n",
    "\n",
    "\n",
    "from utils_training import create_model, experiments_data\n",
    "from utils_data import load_config, load_dataset, reduce_mem_usage, PathManager\n",
    "from utils_kaggle import (\n",
    "    setup_kaggle,\n",
    "    download_data,\n",
    "    get_data,\n",
    "    clean_directory_except_one,\n",
    ")\n",
    "\n",
    "from fe_optiver_trading_at_the_close import (\n",
    "    calculate_triplet_imbalance_numba,\n",
    "    convert_weights_to_dict,\n",
    "    global_stock_id_feats,\n",
    "    compute_rolling_averages,\n",
    "    generate_rsi,\n",
    ")\n",
    "\n",
    "pm = PathManager(path_root_project)\n",
    "\n",
    "if TRAIN:\n",
    "    if pm.path_root_project.name == \"working\":\n",
    "        from kaggle_secrets import UserSecretsClient\n",
    "\n",
    "        user_secrets = UserSecretsClient()\n",
    "        aws_access_key_id = user_secrets.get_secret(\"AWS_ACCESS_KEY_ID\")\n",
    "        aws_region = user_secrets.get_secret(\"AWS_DEFAULT_REGION\")\n",
    "        aws_secret_access_key = user_secrets.get_secret(\"AWS_SECRET_ACCESS_KEY\")\n",
    "        s3_bucket_name = user_secrets.get_secret(\"S3_BUCKET\")\n",
    "\n",
    "        # Set AWS credentials in the environment variables\n",
    "        os.environ[\"AWS_ACCESS_KEY_ID\"] = aws_access_key_id\n",
    "        os.environ[\"AWS_SECRET_ACCESS_KEY\"] = aws_secret_access_key\n",
    "        os.environ[\"AWS_DEFAULT_REGION\"] = aws_region\n",
    "    else:\n",
    "        aws_access_key_id = os.getenv(\"AWS_ACCESS_KEY_ID\")\n",
    "        aws_secret_access_key = os.getenv(\"AWS_SECRET_ACCESS_KEY\")"
   ]
  },
  {
   "cell_type": "code",
   "execution_count": 3,
   "id": "df370791",
   "metadata": {
    "execution": {
     "iopub.execute_input": "2023-11-30T19:48:05.787548Z",
     "iopub.status.busy": "2023-11-30T19:48:05.786921Z",
     "iopub.status.idle": "2023-11-30T19:48:10.270335Z",
     "shell.execute_reply": "2023-11-30T19:48:10.269157Z"
    },
    "papermill": {
     "duration": 4.499669,
     "end_time": "2023-11-30T19:48:10.272885",
     "exception": false,
     "start_time": "2023-11-30T19:48:05.773216",
     "status": "completed"
    },
    "tags": []
   },
   "outputs": [
    {
     "name": "stdout",
     "output_type": "stream",
     "text": [
      "defaultdict(<class 'collections.OrderedDict'>, {'valid_0': OrderedDict([('l1', 5.655647631686068)])})\n",
      "defaultdict(<class 'collections.OrderedDict'>, {'valid_0': OrderedDict([('l1', 7.070589227107189)])})\n",
      "defaultdict(<class 'collections.OrderedDict'>, {'valid_0': OrderedDict([('l1', 6.410497376211345)])})\n",
      "defaultdict(<class 'collections.OrderedDict'>, {'valid_0': OrderedDict([('l1', 6.336143849666122)])})\n",
      "defaultdict(<class 'collections.OrderedDict'>, {'valid_0': OrderedDict([('l1', 5.967429157930154)])})\n"
     ]
    }
   ],
   "source": [
    "model_prod = joblib.load(pm.path_model_production / folder_model / model_name)\n",
    "\n",
    "model = model_prod.models[0]\n",
    "for model in model_prod.models:\n",
    "    print(model.best_score_)"
   ]
  },
  {
   "cell_type": "code",
   "execution_count": null,
   "id": "6b81ca86",
   "metadata": {
    "papermill": {
     "duration": 0.012551,
     "end_time": "2023-11-30T19:48:10.298743",
     "exception": false,
     "start_time": "2023-11-30T19:48:10.286192",
     "status": "completed"
    },
    "tags": []
   },
   "outputs": [],
   "source": []
  },
  {
   "cell_type": "code",
   "execution_count": 4,
   "id": "116d0f08",
   "metadata": {
    "execution": {
     "iopub.execute_input": "2023-11-30T19:48:10.326507Z",
     "iopub.status.busy": "2023-11-30T19:48:10.325900Z",
     "iopub.status.idle": "2023-11-30T19:48:10.331545Z",
     "shell.execute_reply": "2023-11-30T19:48:10.330301Z"
    },
    "papermill": {
     "duration": 0.022243,
     "end_time": "2023-11-30T19:48:10.334067",
     "exception": false,
     "start_time": "2023-11-30T19:48:10.311824",
     "status": "completed"
    },
    "tags": []
   },
   "outputs": [],
   "source": [
    "# df_feat = pd.read_csv(\"/kaggle/working/feat_impor_optiver_trading_at_the_close_23_11_18_0438.csv\").sort_values(\"t0_imp_fold_1\")"
   ]
  },
  {
   "cell_type": "code",
   "execution_count": 5,
   "id": "0c9f04ea",
   "metadata": {
    "execution": {
     "iopub.execute_input": "2023-11-30T19:48:10.362137Z",
     "iopub.status.busy": "2023-11-30T19:48:10.361732Z",
     "iopub.status.idle": "2023-11-30T19:48:10.370703Z",
     "shell.execute_reply": "2023-11-30T19:48:10.369321Z"
    },
    "papermill": {
     "duration": 0.026594,
     "end_time": "2023-11-30T19:48:10.373229",
     "exception": false,
     "start_time": "2023-11-30T19:48:10.346635",
     "status": "completed"
    },
    "tags": []
   },
   "outputs": [],
   "source": [
    "def aggregate_feature_importance(df_feat_importance):\n",
    "    df_feat_importance[\"feat_imp_mean\"] = df_feat_importance.loc[\n",
    "        :, df_feat_importance.columns != \"feat\"\n",
    "    ].mean(axis=1, skipna=True)\n",
    "\n",
    "    df_feat_importance.sort_values(\"feat_imp_mean\", inplace=True, ascending=False)\n",
    "    df_feat_importance.reset_index(drop=True, inplace=True)\n",
    "\n",
    "    cols = [\n",
    "        col\n",
    "        for col in df_feat_importance.columns\n",
    "        if col not in [\"feat\", \"feat_imp_mean\"]\n",
    "    ]\n",
    "\n",
    "    df_feat_importance[\"feat_imp_std\"] = df_feat_importance.loc[:, cols].std(\n",
    "        axis=1, skipna=True\n",
    "    )\n",
    "\n",
    "    df_feat_importance[\"feat_imp_variability\"] = (\n",
    "        df_feat_importance[\"feat_imp_std\"] / df_feat_importance[\"feat_imp_mean\"]\n",
    "    )\n",
    "\n",
    "    return df_feat_importance"
   ]
  },
  {
   "cell_type": "code",
   "execution_count": 6,
   "id": "d5f5d386",
   "metadata": {
    "execution": {
     "iopub.execute_input": "2023-11-30T19:48:10.400828Z",
     "iopub.status.busy": "2023-11-30T19:48:10.400432Z",
     "iopub.status.idle": "2023-11-30T19:48:10.410577Z",
     "shell.execute_reply": "2023-11-30T19:48:10.409453Z"
    },
    "papermill": {
     "duration": 0.027047,
     "end_time": "2023-11-30T19:48:10.413088",
     "exception": false,
     "start_time": "2023-11-30T19:48:10.386041",
     "status": "completed"
    },
    "tags": []
   },
   "outputs": [],
   "source": [
    "def log_feature_importance(trial_number, model, X, fold_n, exp_purpose, exp_date_str):\n",
    "    \"\"\"\n",
    "    Logs the feature importances for a given model and fold number.\n",
    "    \"\"\"\n",
    "\n",
    "    feature_importances = model.feature_importances_\n",
    "    new_importance_df = pd.DataFrame(\n",
    "        {\"feat\": X.columns, f\"t{trial_number}_imp_fold_{fold_n+1}\": feature_importances}\n",
    "    )\n",
    "\n",
    "    csv_path = f\"feat_impor_{exp_purpose}_{exp_date_str}.csv\"\n",
    "\n",
    "    # Check if the CSV already exists\n",
    "    if os.path.exists(csv_path):\n",
    "        # If so, read it and merge with the new importance values\n",
    "        existing_df = pd.read_csv(csv_path)\n",
    "        importance_df = pd.merge(existing_df, new_importance_df, on=\"feat\", how=\"outer\")\n",
    "    else:\n",
    "        # If not, create a new DataFrame\n",
    "        importance_df = new_importance_df\n",
    "\n",
    "    # Save the updated DataFrame to CSV\n",
    "    importance_df.to_csv(csv_path, index=False)\n",
    "\n",
    "\n",
    "#    mlflow.log_artifact(csv_path)"
   ]
  },
  {
   "cell_type": "code",
   "execution_count": null,
   "id": "10966821",
   "metadata": {
    "papermill": {
     "duration": 0.01191,
     "end_time": "2023-11-30T19:48:10.438005",
     "exception": false,
     "start_time": "2023-11-30T19:48:10.426095",
     "status": "completed"
    },
    "tags": []
   },
   "outputs": [],
   "source": []
  },
  {
   "cell_type": "code",
   "execution_count": null,
   "id": "b3cd13b9",
   "metadata": {
    "papermill": {
     "duration": 0.012444,
     "end_time": "2023-11-30T19:48:10.462868",
     "exception": false,
     "start_time": "2023-11-30T19:48:10.450424",
     "status": "completed"
    },
    "tags": []
   },
   "outputs": [],
   "source": []
  },
  {
   "cell_type": "code",
   "execution_count": 7,
   "id": "c9b6cbb8",
   "metadata": {
    "execution": {
     "iopub.execute_input": "2023-11-30T19:48:10.490999Z",
     "iopub.status.busy": "2023-11-30T19:48:10.490575Z",
     "iopub.status.idle": "2023-11-30T19:48:10.517304Z",
     "shell.execute_reply": "2023-11-30T19:48:10.516131Z"
    },
    "papermill": {
     "duration": 0.044084,
     "end_time": "2023-11-30T19:48:10.520053",
     "exception": false,
     "start_time": "2023-11-30T19:48:10.475969",
     "status": "completed"
    },
    "tags": []
   },
   "outputs": [],
   "source": [
    "\n",
    "\n",
    "# Conditional imports and settings based on TRAIN constant\n",
    "if TRAIN:\n",
    "    if pm.path_root_project.name == \"working\":\n",
    "        !pip install loguru mlflow optuna > /dev/null\n",
    "\n",
    "        #!pip uninstall -y polars\n",
    "\n",
    "        #!pip install functime --no-index --find-links=file:///kaggle/input/functime/functime/\n",
    "        #!pip install polars --no-index --find-links=file:///kaggle/input/polars/polars/\n",
    "        !pip install polars\n",
    "        from functime.functime.cross_validation import train_test_split\n",
    "        #import polars.polars as pl\n",
    "        import polars as pl\n",
    "    from utils_mlflow import (\n",
    "        get_experiments_df,\n",
    "        delete_runs_and_artifacts,\n",
    "        download_and_load_model,\n",
    "        load_models_and_create_ensemble,\n",
    "        save_and_register_model,\n",
    "        log_model_parameters,\n",
    "        get_or_create_experiment,\n",
    "        experiments_data,\n",
    "      #  list_path_models\n",
    "        )\n",
    "    from utils_feat_importance import log_feature_importance, aggregate_feature_importance\n",
    "    from model_validation import time_series_split\n",
    "\n",
    "    # External Libraries\n",
    "    import boto3\n",
    "    from botocore.exceptions import NoCredentialsError\n",
    "    from mlflow.exceptions import MlflowException\n",
    "    import lightgbm as lgbm\n",
    "    import mlflow\n",
    "    import optuna\n",
    "    from mlflow.tracking import MlflowClient\n",
    "    from optuna.integration.mlflow import MLflowCallback\n",
    "    from sklearn.model_selection import KFold\n",
    "    from xgboost import XGBRegressor as XGBR\n",
    "    from lightgbm import log_evaluation, early_stopping, LGBMRegressor as LGBMR\n",
    "\n",
    "\n",
    "\n",
    "    # Auto-reload modules - Specific to Jupyter Notebooks\n",
    "    %load_ext autoreload\n",
    "    %autoreload 2\n",
    "    if not DEBUG:\n",
    "        mlflow.set_tracking_uri(pm.path_experiments_dir)\n",
    "\n",
    "    client = MlflowClient()\n",
    "\n",
    "    # Create an S3 client\n",
    "    s3 = boto3.client(\n",
    "        \"s3\",\n",
    "        aws_access_key_id=aws_access_key_id,\n",
    "        aws_secret_access_key=aws_secret_access_key,\n",
    "    )"
   ]
  },
  {
   "cell_type": "code",
   "execution_count": null,
   "id": "4188cf1a",
   "metadata": {
    "papermill": {
     "duration": 0.012239,
     "end_time": "2023-11-30T19:48:10.545209",
     "exception": false,
     "start_time": "2023-11-30T19:48:10.532970",
     "status": "completed"
    },
    "tags": []
   },
   "outputs": [],
   "source": []
  },
  {
   "cell_type": "code",
   "execution_count": 8,
   "id": "5432483e",
   "metadata": {
    "execution": {
     "iopub.execute_input": "2023-11-30T19:48:10.572255Z",
     "iopub.status.busy": "2023-11-30T19:48:10.571829Z",
     "iopub.status.idle": "2023-11-30T19:48:10.579418Z",
     "shell.execute_reply": "2023-11-30T19:48:10.578169Z"
    },
    "papermill": {
     "duration": 0.023998,
     "end_time": "2023-11-30T19:48:10.581988",
     "exception": false,
     "start_time": "2023-11-30T19:48:10.557990",
     "status": "completed"
    },
    "tags": []
   },
   "outputs": [],
   "source": [
    "def save_and_register_model(ensemble_model, model_name):\n",
    "    \"\"\"\n",
    "    Function to save and register the ensemble model\n",
    "    \"\"\"\n",
    "    with open(model_name, \"wb\") as f:\n",
    "        pickle.dump(ensemble_model, f)\n",
    "\n",
    "    with mlflow.start_run() as run:\n",
    "        mlflow.log_artifact(model_name, \"model\")\n",
    "        run_id = run.info.run_id\n",
    "\n",
    "        # Records the model in the Model Registry\n",
    "        model_uri = f\"runs:/{run_id}/model\"\n",
    "        mlflow.register_model(model_uri, model_name)\n",
    "\n",
    "    # Clean up the local file system\n",
    "    # if os.path.exists(temp_ensemble_path):\n",
    "    #     os.remove(temp_ensemble_path)\n",
    "\n",
    "    print(f\"Ensemble model registered under run_id: {run_id}\")"
   ]
  },
  {
   "cell_type": "code",
   "execution_count": 9,
   "id": "797e0b37",
   "metadata": {
    "execution": {
     "iopub.execute_input": "2023-11-30T19:48:10.608597Z",
     "iopub.status.busy": "2023-11-30T19:48:10.608202Z",
     "iopub.status.idle": "2023-11-30T19:48:10.615514Z",
     "shell.execute_reply": "2023-11-30T19:48:10.614189Z"
    },
    "papermill": {
     "duration": 0.023539,
     "end_time": "2023-11-30T19:48:10.618051",
     "exception": false,
     "start_time": "2023-11-30T19:48:10.594512",
     "status": "completed"
    },
    "tags": []
   },
   "outputs": [],
   "source": [
    "if SAVE_MODELS:\n",
    "    # model_paths = list_path_models(list_experiment_id, run_name_startswith)\n",
    "    model_paths = [\n",
    "        \"s3://mlflow-v1/kaggle_optiver_trading_at_the_close/b5c5ccea4db545a7ad3f8db19780e059/artifacts/LGBMR_0_20231130_184805/model.pkl\",\n",
    "        \"s3://mlflow-v1/kaggle_optiver_trading_at_the_close/cd6c9ceddd4c45c69e14311da59f66c6/artifacts/LGBMR_0_20231130_184325/model.pkl\",\n",
    "        \"s3://mlflow-v1/kaggle_optiver_trading_at_the_close/2438bcb4cafd401697dcad61c79e1517/artifacts/LGBMR_0_20231130_183846/model.pkl\",\n",
    "        \"s3://mlflow-v1/kaggle_optiver_trading_at_the_close/6f22898cbccc4959b8cd9c70bc5de2b5/artifacts/LGBMR_0_20231130_183400/model.pkl\",\n",
    "        \"s3://mlflow-v1/kaggle_optiver_trading_at_the_close/239b00d1308a4c5faf19a5c479705a8d/artifacts/LGBMR_0_20231130_182911/model.pkl\",\n",
    "    ]\n",
    "    s3 = boto3.client(\n",
    "        \"s3\",\n",
    "        aws_access_key_id=aws_access_key_id,\n",
    "        aws_secret_access_key=aws_secret_access_key,\n",
    "    )\n",
    "    # Load the models and create an ensemble\n",
    "    ensemble_model = load_models_and_create_ensemble(s3, model_paths)\n",
    "\n",
    "    # Save and register the ensemble model in MLflow\n",
    "    save_and_register_model(ensemble_model, model_name)"
   ]
  },
  {
   "cell_type": "code",
   "execution_count": null,
   "id": "d0c3298a",
   "metadata": {
    "papermill": {
     "duration": 0.012588,
     "end_time": "2023-11-30T19:48:10.643446",
     "exception": false,
     "start_time": "2023-11-30T19:48:10.630858",
     "status": "completed"
    },
    "tags": []
   },
   "outputs": [],
   "source": []
  },
  {
   "cell_type": "code",
   "execution_count": null,
   "id": "6b17d6a3",
   "metadata": {
    "papermill": {
     "duration": 0.012688,
     "end_time": "2023-11-30T19:48:10.669070",
     "exception": false,
     "start_time": "2023-11-30T19:48:10.656382",
     "status": "completed"
    },
    "tags": []
   },
   "outputs": [],
   "source": []
  },
  {
   "cell_type": "code",
   "execution_count": 10,
   "id": "a31868f3",
   "metadata": {
    "execution": {
     "iopub.execute_input": "2023-11-30T19:48:10.696920Z",
     "iopub.status.busy": "2023-11-30T19:48:10.696520Z",
     "iopub.status.idle": "2023-11-30T19:48:10.705626Z",
     "shell.execute_reply": "2023-11-30T19:48:10.704142Z"
    },
    "papermill": {
     "duration": 0.026349,
     "end_time": "2023-11-30T19:48:10.708320",
     "exception": false,
     "start_time": "2023-11-30T19:48:10.681971",
     "status": "completed"
    },
    "tags": []
   },
   "outputs": [],
   "source": [
    "if TRAIN:\n",
    "    if not os.path.exists(pm.path_dataset_processed) or OVERWRITE_PROCESSED_DATA:\n",
    "        df_train_raw = pd.read_csv(pm.path_data_train_raw)\n",
    "\n",
    "        if DEBUG:\n",
    "            df_train_raw = df_train_raw[df_train_raw[\"stock_id\"].isin([0, 1, 2, 3, 4])]\n",
    "\n",
    "        drop_idx = df_train_raw.loc[\n",
    "            df_train_raw[\"target\"].isna(), \"target\"\n",
    "        ].index.to_list()\n",
    "        df_train = df_train_raw.drop(drop_idx, axis=0)\n",
    "        df_train.reset_index(drop=True, inplace=True)\n",
    "    else:\n",
    "        df_train = pd.read_csv(pm.path_dataset_processed)\n",
    "        if DEBUG:\n",
    "            df_train = df_train[df_train[\"stock_id\"].isin([0, 1, 2, 3, 4])]\n",
    "\n",
    "    # df_train.sort_values([\"time_id\", \"stock_id\"], inplace=True)"
   ]
  },
  {
   "cell_type": "code",
   "execution_count": null,
   "id": "76b11719",
   "metadata": {
    "papermill": {
     "duration": 0.012869,
     "end_time": "2023-11-30T19:48:10.734391",
     "exception": false,
     "start_time": "2023-11-30T19:48:10.721522",
     "status": "completed"
    },
    "tags": []
   },
   "outputs": [],
   "source": []
  },
  {
   "cell_type": "code",
   "execution_count": 11,
   "id": "d9690f5e",
   "metadata": {
    "execution": {
     "iopub.execute_input": "2023-11-30T19:48:10.762614Z",
     "iopub.status.busy": "2023-11-30T19:48:10.762237Z",
     "iopub.status.idle": "2023-11-30T19:48:10.784255Z",
     "shell.execute_reply": "2023-11-30T19:48:10.783283Z"
    },
    "papermill": {
     "duration": 0.039139,
     "end_time": "2023-11-30T19:48:10.787096",
     "exception": false,
     "start_time": "2023-11-30T19:48:10.747957",
     "status": "completed"
    },
    "tags": []
   },
   "outputs": [],
   "source": [
    "def feat_engineering(df_train):\n",
    "    df = pl.DataFrame(df_train)\n",
    "\n",
    "    df = df.with_columns(\n",
    "        [\n",
    "            pl.col(\"time_id\").cast(pl.Int32),\n",
    "            (pl.col(\"imbalance_size\") * pl.col(\"imbalance_buy_sell_flag\")).alias(\n",
    "                \"imbalance_size\"\n",
    "            ),\n",
    "        ]\n",
    "    )\n",
    "\n",
    "    df = df.drop(\"row_id\", \"date_id\", \"imbalance_buy_sell_flag\")\n",
    "\n",
    "    df_size_sum = df.groupby(\"time_id\").agg(\n",
    "        [pl.col(\"matched_size\").sum().alias(\"matched_size_sum\")]\n",
    "    )\n",
    "\n",
    "    df = df.join(df_size_sum, on=\"time_id\")\n",
    "\n",
    "    df = df.with_columns(\n",
    "        (pl.col(\"matched_size\") / pl.col(\"matched_size_sum\")).alias(\n",
    "            \"matched_size_ratio\"\n",
    "        )\n",
    "    )\n",
    "\n",
    "    df = df.with_columns(\n",
    "        [(pl.col(\"matched_size_ratio\") * pl.col(\"wap\")).alias(\"weighted_wap\")]\n",
    "    )\n",
    "\n",
    "    # Aggregazione delle dimensioni totali per time_id\n",
    "    df_weighted_wap_sum = df.groupby(\"time_id\").agg(\n",
    "        [pl.col(\"weighted_wap\").sum().alias(\"index_approx\")]\n",
    "    )\n",
    "\n",
    "    # Unione delle statistiche al DataFrame originale\n",
    "    df = df.join(df_weighted_wap_sum, on=\"time_id\")\n",
    "\n",
    "    #################################################################################\n",
    "\n",
    "    # Calcolo delle statistiche di mercato per WAP\n",
    "    wap_market_stats = df.groupby([\"time_id\"]).agg(\n",
    "        [\n",
    "            pl.col(\"wap\").mean().alias(\"wap_mean\"),\n",
    "            pl.col(\"wap\").median().alias(\"wap_median\"),\n",
    "            pl.col(\"wap\").std().alias(\"wap_std\"),\n",
    "            pl.col(\"wap\").quantile(0.25).alias(\"wap_quantile_25\"),\n",
    "            pl.col(\"wap\").quantile(0.75).alias(\"wap_quantile_75\"),\n",
    "        ]\n",
    "    )\n",
    "\n",
    "    # Unione delle statistiche al DataFrame originale\n",
    "    df = df.join(wap_market_stats, on=[\"time_id\"])\n",
    "\n",
    "    df = df.sort([\"stock_id\", \"time_id\"])\n",
    "\n",
    "    df = df.with_columns(\n",
    "        [\n",
    "            ((pl.col(\"wap\") / pl.col(\"wap\").shift(6)) * 10000)\n",
    "            .over(\"stock_id\")\n",
    "            .alias(\"wap_return_6\"),\n",
    "            ((pl.col(\"wap_mean\") / pl.col(\"wap_mean\").shift(6)) * 10000)\n",
    "            .over(\"stock_id\")\n",
    "            .alias(\"wap_mean_return_6\"),\n",
    "            ((pl.col(\"index_approx\") / pl.col(\"index_approx\").shift(6)) * 10000)\n",
    "            .over(\"stock_id\")\n",
    "            .alias(\"index_approx_return_6\"),\n",
    "        ]\n",
    "    )\n",
    "\n",
    "    # Calcolo della differenza dei rendimenti in basis points\n",
    "    df = df.with_columns(\n",
    "        (pl.col(\"wap_return_6\") - pl.col(\"wap_mean_return_6\")).alias(\n",
    "            \"wap_delta_return_6\"\n",
    "        )\n",
    "    )\n",
    "\n",
    "    df = df.with_columns(\n",
    "        (pl.col(\"wap_return_6\") - pl.col(\"index_approx_return_6\")).alias(\n",
    "            \"target_approx\"\n",
    "        )\n",
    "    )\n",
    "\n",
    "    list_cols = [\"wap_delta_return_6\", \"target_approx\"]\n",
    "\n",
    "    for col in list_cols:\n",
    "        for window in tqdm([3, 6, 9, 15], desc=f\"rolling mean for {col}\"):\n",
    "            rolling_group = df.group_by_rolling(\n",
    "                index_column=\"time_id\",\n",
    "                period=f\"{window}i\",\n",
    "                by=\"stock_id\",\n",
    "                closed=\"left\",  # Adjust as needed\n",
    "            )\n",
    "\n",
    "            df = df.join(\n",
    "                rolling_group.agg(pl.col(col).mean().alias(f\"{col}_mean_{window}\")),\n",
    "                on=[\"stock_id\", \"time_id\"],\n",
    "                how=\"left\",\n",
    "            )\n",
    "        for window in tqdm([9, 15, 30], desc=f\"rolling std for {col}\"):\n",
    "            rolling_group = df.group_by_rolling(\n",
    "                index_column=\"time_id\",\n",
    "                period=f\"{window}i\",\n",
    "                by=\"stock_id\",\n",
    "                closed=\"left\",  # Adjust as needed\n",
    "            )\n",
    "\n",
    "            df = df.join(\n",
    "                rolling_group.agg(pl.col(col).std().alias(f\"{col}_std_{window}\")),\n",
    "                on=[\"stock_id\", \"time_id\"],\n",
    "                how=\"left\",\n",
    "            )\n",
    "    return df.to_pandas()"
   ]
  },
  {
   "cell_type": "code",
   "execution_count": 12,
   "id": "b529e568",
   "metadata": {
    "execution": {
     "iopub.execute_input": "2023-11-30T19:48:10.815750Z",
     "iopub.status.busy": "2023-11-30T19:48:10.815047Z",
     "iopub.status.idle": "2023-11-30T19:48:10.821809Z",
     "shell.execute_reply": "2023-11-30T19:48:10.820523Z"
    },
    "papermill": {
     "duration": 0.024658,
     "end_time": "2023-11-30T19:48:10.824853",
     "exception": false,
     "start_time": "2023-11-30T19:48:10.800195",
     "status": "completed"
    },
    "tags": []
   },
   "outputs": [],
   "source": [
    "if TRAIN:\n",
    "    df_train_feats = feat_engineering(df_train)\n",
    "    print(\"Build Online Train Feats Finished.\")\n",
    "\n",
    "    df_train_feats = reduce_mem_usage(df_train_feats)"
   ]
  },
  {
   "cell_type": "code",
   "execution_count": null,
   "id": "2823e4e4",
   "metadata": {
    "papermill": {
     "duration": 0.012561,
     "end_time": "2023-11-30T19:48:10.851089",
     "exception": false,
     "start_time": "2023-11-30T19:48:10.838528",
     "status": "completed"
    },
    "tags": []
   },
   "outputs": [],
   "source": []
  },
  {
   "cell_type": "code",
   "execution_count": 13,
   "id": "30e33261",
   "metadata": {
    "execution": {
     "iopub.execute_input": "2023-11-30T19:48:10.879724Z",
     "iopub.status.busy": "2023-11-30T19:48:10.878537Z",
     "iopub.status.idle": "2023-11-30T19:48:10.885855Z",
     "shell.execute_reply": "2023-11-30T19:48:10.885031Z"
    },
    "papermill": {
     "duration": 0.024212,
     "end_time": "2023-11-30T19:48:10.888408",
     "exception": false,
     "start_time": "2023-11-30T19:48:10.864196",
     "status": "completed"
    },
    "tags": []
   },
   "outputs": [],
   "source": [
    "if TRAIN:\n",
    "    col_split = \"time_id\"\n",
    "    df_train_feats.sort_values([col_split], inplace=True)\n",
    "\n",
    "    df_train_feats[\"factorized\"] = pd.factorize(df_train_feats[col_split])[0]\n",
    "\n",
    "    df_train_feats.sort_values([\"time_id\", \"stock_id\"], inplace=True)\n",
    "    list_cols_drop = [ \"time_id\"]\n",
    "\n",
    "    df_train_feats.reset_index(drop=True, inplace=True)\n",
    "    df_train_feats.drop(list_cols_drop, axis=1, inplace=True)"
   ]
  },
  {
   "cell_type": "code",
   "execution_count": null,
   "id": "13183042",
   "metadata": {
    "papermill": {
     "duration": 0.013164,
     "end_time": "2023-11-30T19:48:10.914449",
     "exception": false,
     "start_time": "2023-11-30T19:48:10.901285",
     "status": "completed"
    },
    "tags": []
   },
   "outputs": [],
   "source": []
  },
  {
   "cell_type": "code",
   "execution_count": null,
   "id": "e645ccd3",
   "metadata": {
    "papermill": {
     "duration": 0.013016,
     "end_time": "2023-11-30T19:48:10.941020",
     "exception": false,
     "start_time": "2023-11-30T19:48:10.928004",
     "status": "completed"
    },
    "tags": []
   },
   "outputs": [],
   "source": []
  },
  {
   "cell_type": "code",
   "execution_count": 14,
   "id": "b36bdcf2",
   "metadata": {
    "execution": {
     "iopub.execute_input": "2023-11-30T19:48:10.972340Z",
     "iopub.status.busy": "2023-11-30T19:48:10.970716Z",
     "iopub.status.idle": "2023-11-30T19:48:10.982299Z",
     "shell.execute_reply": "2023-11-30T19:48:10.981045Z"
    },
    "papermill": {
     "duration": 0.02898,
     "end_time": "2023-11-30T19:48:10.984700",
     "exception": false,
     "start_time": "2023-11-30T19:48:10.955720",
     "status": "completed"
    },
    "tags": []
   },
   "outputs": [],
   "source": [
    "if TRAIN:\n",
    "    experiment_name = f\"{EXPERIMENT_PURPOSE}_v{VERSION_NB}\"\n",
    "    name_folder_models = f\"models_v{VERSION_NB}\"\n",
    "\n",
    "    experiment_date_str = datetime.now().strftime(\"%y_%m_%d_%H%M\")\n",
    "\n",
    "    if DEBUG:\n",
    "        experiment_name = f\"{experiment_name}_debug\"\n",
    "        name_folder_models = f\"{name_folder_models}_debug\"\n",
    "        path_artifact_location = \".\"\n",
    "    else:\n",
    "        path_artifact_location = pm.path_artifact_location\n",
    "\n",
    "    experiment_id = get_or_create_experiment(\n",
    "        client, experiment_name, artifact_location=path_artifact_location\n",
    "    )\n",
    "\n",
    "    nbrnd_erly_stp = 130\n",
    "    cv_mthd = \"KF\"\n",
    "\n",
    "    mlflow_callback = MLflowCallback(\n",
    "        tracking_uri=mlflow.get_tracking_uri(), metric_name=\"mae\"\n",
    "    )\n",
    "\n",
    "    all_cv = {\"KF\": KFold(n_splits=5, shuffle=True, random_state=STATE)}\n",
    "    cv = all_cv[cv_mthd]\n",
    "\n",
    "    dict_models = {\"LGBMR\": LGBMR}\n",
    "\n",
    "    log_model = True\n",
    "\n",
    "    args = {\n",
    "        \"cv_mthd\": cv_mthd,\n",
    "        \"experiment_purpose\": EXPERIMENT_PURPOSE,\n",
    "        \"experiment_name\": experiment_name,\n",
    "        \"dict_models\": dict_models,\n",
    "        \"model_params_dict\": model_params_dict,\n",
    "        \"n_splits\": N_SPLITS,\n",
    "        \"n_test_splits\": N_TEST_SPLITS,\n",
    "        \"n_purge\": N_PURGE,\n",
    "        \"n_embargo\": N_EMBARGO,\n",
    "        \"experiment_date_str\": experiment_date_str,\n",
    "        \"path_artifact_location\": pm.path_artifact_location,\n",
    "        \"target_col\": \"target\",\n",
    "    }"
   ]
  },
  {
   "cell_type": "code",
   "execution_count": null,
   "id": "06024a6f",
   "metadata": {
    "papermill": {
     "duration": 0.012636,
     "end_time": "2023-11-30T19:48:11.076817",
     "exception": false,
     "start_time": "2023-11-30T19:48:11.064181",
     "status": "completed"
    },
    "tags": []
   },
   "outputs": [],
   "source": []
  },
  {
   "cell_type": "code",
   "execution_count": null,
   "id": "8142fc0b",
   "metadata": {
    "papermill": {
     "duration": 0.012688,
     "end_time": "2023-11-30T19:48:11.103007",
     "exception": false,
     "start_time": "2023-11-30T19:48:11.090319",
     "status": "completed"
    },
    "tags": []
   },
   "outputs": [],
   "source": []
  },
  {
   "cell_type": "code",
   "execution_count": null,
   "id": "879971c8",
   "metadata": {
    "papermill": {
     "duration": 0.01385,
     "end_time": "2023-11-30T19:48:11.129871",
     "exception": false,
     "start_time": "2023-11-30T19:48:11.116021",
     "status": "completed"
    },
    "tags": []
   },
   "outputs": [],
   "source": []
  },
  {
   "cell_type": "code",
   "execution_count": 15,
   "id": "67c413ce",
   "metadata": {
    "execution": {
     "iopub.execute_input": "2023-11-30T19:48:11.158850Z",
     "iopub.status.busy": "2023-11-30T19:48:11.158473Z",
     "iopub.status.idle": "2023-11-30T19:48:11.188849Z",
     "shell.execute_reply": "2023-11-30T19:48:11.187823Z"
    },
    "papermill": {
     "duration": 0.047579,
     "end_time": "2023-11-30T19:48:11.191439",
     "exception": false,
     "start_time": "2023-11-30T19:48:11.143860",
     "status": "completed"
    },
    "tags": []
   },
   "outputs": [],
   "source": [
    "def run_mlflow_experiment(df_train, args, trial=None):\n",
    "    cv_mthd = args[\"cv_mthd\"]\n",
    "    experiment_purpose = args[\"experiment_purpose\"]\n",
    "    experiment_name = args[\"experiment_name\"]\n",
    "    dict_models = args[\"dict_models\"]\n",
    "    model_params_dict = args[\"model_params_dict\"]\n",
    "\n",
    "    n_splits = args[\"n_splits\"]\n",
    "    n_test_splits = args[\"n_test_splits\"]\n",
    "    n_purge = args[\"n_purge\"]\n",
    "    n_embargo = args[\"n_embargo\"]\n",
    "\n",
    "    experiment_date_str = args[\"experiment_date_str\"]\n",
    "    path_artifact_location = args[\"path_artifact_location\"]\n",
    "    target_col = args[\"target_col\"]\n",
    "\n",
    "    if trial == None:\n",
    "        trial = optuna.trial.FixedTrial(\n",
    "            {\n",
    "                \"n_estimators\": 500,\n",
    "                \"learning_rate\": 0.005,\n",
    "                \"max_depth\": 10,\n",
    "                \"num_leaves\": 20,\n",
    "                \"min_child_samples\": 10,\n",
    "                \"subsample\": 0.7,\n",
    "                \"colsample_bytree\": 1.0,\n",
    "                \"min_split_gain\": 0.0,\n",
    "                \"reg_alpha\": 0.0,\n",
    "                \"reg_lambda\": 0.0,\n",
    "                \"device\": \"gpu\" if GPU_SWITCH == \"ON\" else \"cpu\",\n",
    "            }\n",
    "        )\n",
    "\n",
    "    run_time_start_trial = datetime.now().strftime(\"%y_%m_%d_%H%M%S\")\n",
    "\n",
    "    with mlflow.start_run(\n",
    "        run_name=run_time_start_trial, experiment_id=experiment_id\n",
    "    ) as run:\n",
    "        score_list = []\n",
    "\n",
    "        # mlflow.set_tag(\"cv_mthd\", cv_mthd)\n",
    "        mlflow.set_tag(\"n_splits\", n_splits)\n",
    "        mlflow.set_tag(\"n_test_splits\", n_test_splits)\n",
    "        mlflow.set_tag(\"n_purge\", n_purge)\n",
    "        mlflow.set_tag(\"n_embargo\", n_embargo)\n",
    "\n",
    "        for model_name, model_class in dict_models.items():\n",
    "            if TUNING:\n",
    "                model = create_model(\n",
    "                    trial,\n",
    "                    model_class,\n",
    "                    model_params_dict[model_name][\"static_params\"],\n",
    "                    model_params_dict[model_name][\"dynamic_params\"],\n",
    "                )\n",
    "\n",
    "            else:\n",
    "                params = model_prod.get_params()\n",
    "                params[\"device\"] = \"gpu\" if GPU_SWITCH == \"ON\" else \"cpu\"\n",
    "\n",
    "                model = model_class(**params)\n",
    "\n",
    "            priority_params = [\"learning_rate\", \"max_depth\"]\n",
    "            excluded_params = [\n",
    "                \"device\",\n",
    "                \"class_weight\",\n",
    "                \"random_state\",\n",
    "                \"silent\",\n",
    "                \"verbose\",\n",
    "                \"n_jobs\",\n",
    "            ]\n",
    "\n",
    "            ordered_params = log_model_parameters(\n",
    "                model, priority_params, excluded_params, verbose=True\n",
    "            )\n",
    "\n",
    "            mlflow.log_params(ordered_params)\n",
    "\n",
    "            for fold_n, (train_indices, test_indices) in enumerate(\n",
    "                time_series_split(\n",
    "                    df_train,\n",
    "                    n_splits=n_splits,\n",
    "                    n_test_splits=n_test_splits,\n",
    "                    n_purge=n_purge,\n",
    "                    n_embargo=n_embargo,\n",
    "                )\n",
    "            ):\n",
    "                with mlflow.start_run(\n",
    "                    run_name=f\"{run_time_start_trial}_fold_{fold_n+1}\",\n",
    "                    nested=True,\n",
    "                    experiment_id=experiment_id,\n",
    "                ) as nested_run:\n",
    "                    mlflow.set_tag(\"n_trial\", str(trial.number))\n",
    "\n",
    "                    mask_train = df_train[\"factorized\"].isin(train_indices)\n",
    "                    mask_test = df_train[\"factorized\"].isin(test_indices)\n",
    "\n",
    "                    y_train = df_train.loc[mask_train, target_col]\n",
    "                    y_val = df_train.loc[mask_test, target_col]\n",
    "                    X_train = df_train.loc[mask_train].drop(\n",
    "                        [target_col, \"factorized\"], axis=1\n",
    "                    )\n",
    "                    X_val = df_train.loc[mask_test].drop(\n",
    "                        [target_col, \"factorized\"], axis=1\n",
    "                    )\n",
    "\n",
    "                    print(f\"X_train shape: {X_train.shape}\")\n",
    "\n",
    "                    mlflow.log_param(\"train_rows\", X_train.shape[0])\n",
    "                    mlflow.log_param(\"train_cols\", X_train.shape[1])\n",
    "\n",
    "                    model.fit(\n",
    "                        X_train,\n",
    "                        y_train,\n",
    "                        eval_set=[(X_val, y_val)],\n",
    "                        eval_metric=\"mae\",\n",
    "                        callbacks=[\n",
    "                            lgbm.callback.early_stopping(stopping_rounds=100),\n",
    "                            lgbm.callback.log_evaluation(period=100),\n",
    "                        ],\n",
    "                    )\n",
    "\n",
    "                    log_feature_importance(\n",
    "                        trial.number,\n",
    "                        model,\n",
    "                        X_train,\n",
    "                        fold_n,\n",
    "                        experiment_purpose,\n",
    "                        experiment_date_str,\n",
    "                    )\n",
    "\n",
    "                    del mask_train, mask_test, X_train, y_train\n",
    "\n",
    "                    fold_score = model.best_score_[\"valid_0\"][\"l1\"]\n",
    "\n",
    "                    score_list.append(fold_score)\n",
    "\n",
    "                    mlflow.log_metric(\"fold_score\", round(fold_score, 6))\n",
    "                    mlflow.log_param(\"fold_number\", fold_n + 1)\n",
    "                    mlflow.log_param(\"model_name\", model_name)\n",
    "\n",
    "                    mlflow.log_params(ordered_params)\n",
    "\n",
    "                    current_time_str = datetime.now().strftime(\"%Y%m%d_%H%M%S\")\n",
    "                    model_log_name = f\"{model_name}_{trial.number}_{current_time_str}\"\n",
    "\n",
    "                    mlflow.sklearn.log_model(model, model_log_name)\n",
    "\n",
    "                    mlflow.log_param(\"run_time\", current_time_str)\n",
    "\n",
    "                    nested_run_id = nested_run.info.run_id\n",
    "                    model_path = f\"{path_artifact_location}/{nested_run_id}/artifacts/{model_log_name}/model.pkl\"\n",
    "                    mlflow.log_param(\"model_path\", model_path)\n",
    "\n",
    "                avg_score = sum(score_list) / len(score_list)\n",
    "                median_score = np.median(score_list)\n",
    "                mlflow.log_metric(\"avg score\", round(avg_score, 6))\n",
    "                mlflow.log_metric(\"median score\", round(median_score, 6))\n",
    "                gc.collect()\n",
    "                if fold_n >= N_FOLD_BREAK:\n",
    "                    break\n",
    "\n",
    "        return avg_score\n",
    "\n",
    "\n",
    "def objective(trial, df_train):\n",
    "    avg_score = run_mlflow_experiment(df_train, args, trial)\n",
    "    return avg_score\n",
    "\n",
    "\n",
    "# Run the Optuna study\n",
    "if TRAIN:\n",
    "    study = optuna.create_study(\n",
    "        direction=\"minimize\",\n",
    "        study_name=\"Your Study Name\",\n",
    "        load_if_exists=True,\n",
    "    )\n",
    "    study.optimize(lambda trial: objective(trial, df_train_feats), n_trials=N_TRIALS)"
   ]
  },
  {
   "cell_type": "code",
   "execution_count": 16,
   "id": "55f22ac7",
   "metadata": {
    "_cell_guid": "51030a77-aba3-469f-9c08-7963bc8a09d2",
    "_uuid": "6ff7d358-62f0-4ac9-b028-d1c920bb4eaf",
    "collapsed": false,
    "execution": {
     "iopub.execute_input": "2023-11-30T19:48:11.220195Z",
     "iopub.status.busy": "2023-11-30T19:48:11.219757Z",
     "iopub.status.idle": "2023-11-30T19:48:11.229860Z",
     "shell.execute_reply": "2023-11-30T19:48:11.228621Z"
    },
    "jupyter": {
     "outputs_hidden": false
    },
    "papermill": {
     "duration": 0.027945,
     "end_time": "2023-11-30T19:48:11.232647",
     "exception": false,
     "start_time": "2023-11-30T19:48:11.204702",
     "status": "completed"
    },
    "tags": []
   },
   "outputs": [],
   "source": [
    "if TRAIN:\n",
    "    df_exp = experiments_data(\n",
    "        client, list_experiment_id=None, save_df=None, list_columns=None\n",
    "    )\n",
    "    list_base_cols = [\n",
    "        \"run_time\",\n",
    "        \"experiment_id\",\n",
    "        \"n_trial\",\n",
    "        \"run_id\",\n",
    "        \"model_name\",\n",
    "        \"fold_number\",\n",
    "        \"fold_score\",\n",
    "    ]\n",
    "    list_dynamic_params = list(model_params_dict[\"LGBMR\"][\"dynamic_params\"].keys())\n",
    "\n",
    "    df_exp[\"run_time\"] = pd.to_datetime(\n",
    "        df_exp[\"run_time\"], format=\"%Y%m%d_%H%M%S\", errors=\"coerce\"\n",
    "    )\n",
    "\n",
    "    for col in df_exp.columns:\n",
    "        df_exp[col] = pd.to_numeric(df_exp[col], errors=\"ignore\")\n",
    "\n",
    "    for col in df_exp.select_dtypes(include=[\"float\", \"int\"]):\n",
    "        df_exp[col] = df_exp[col].round(5)\n",
    "\n",
    "    list_cols_exp = [\"run_time\"] + list_base_cols + list_dynamic_params + [\"model_path\"]\n",
    "\n",
    "    experiment_id\n",
    "    df_exp = df_exp[df_exp[\"experiment_id\"] != 0]\n",
    "\n",
    "    df_exp = df_exp[list_cols_exp]"
   ]
  },
  {
   "cell_type": "code",
   "execution_count": null,
   "id": "ad07f062",
   "metadata": {
    "papermill": {
     "duration": 0.013132,
     "end_time": "2023-11-30T19:48:11.259613",
     "exception": false,
     "start_time": "2023-11-30T19:48:11.246481",
     "status": "completed"
    },
    "tags": []
   },
   "outputs": [],
   "source": []
  },
  {
   "cell_type": "code",
   "execution_count": 17,
   "id": "719c5382",
   "metadata": {
    "execution": {
     "iopub.execute_input": "2023-11-30T19:48:11.289695Z",
     "iopub.status.busy": "2023-11-30T19:48:11.289314Z",
     "iopub.status.idle": "2023-11-30T19:48:11.558586Z",
     "shell.execute_reply": "2023-11-30T19:48:11.557518Z"
    },
    "papermill": {
     "duration": 0.287162,
     "end_time": "2023-11-30T19:48:11.561180",
     "exception": false,
     "start_time": "2023-11-30T19:48:11.274018",
     "status": "completed"
    },
    "tags": []
   },
   "outputs": [],
   "source": [
    "import polars as pl"
   ]
  },
  {
   "cell_type": "code",
   "execution_count": null,
   "id": "f96f9a14",
   "metadata": {
    "papermill": {
     "duration": 0.012734,
     "end_time": "2023-11-30T19:48:11.587727",
     "exception": false,
     "start_time": "2023-11-30T19:48:11.574993",
     "status": "completed"
    },
    "tags": []
   },
   "outputs": [],
   "source": []
  },
  {
   "cell_type": "code",
   "execution_count": null,
   "id": "0c417794",
   "metadata": {
    "_cell_guid": "d4bfb979-2758-4fe9-8947-399b1c3a574c",
    "_uuid": "bef1a199-0988-4743-813e-99d4308fc9bb",
    "collapsed": false,
    "jupyter": {
     "outputs_hidden": false
    },
    "papermill": {
     "duration": 0.012781,
     "end_time": "2023-11-30T19:48:11.613642",
     "exception": false,
     "start_time": "2023-11-30T19:48:11.600861",
     "status": "completed"
    },
    "tags": []
   },
   "outputs": [],
   "source": []
  },
  {
   "cell_type": "code",
   "execution_count": null,
   "id": "9e827c7e",
   "metadata": {
    "_cell_guid": "d30f3862-dca2-4242-9db0-ab9750118622",
    "_uuid": "efd9073c-aaef-4135-bf7c-1e892e9aa831",
    "collapsed": false,
    "jupyter": {
     "outputs_hidden": false
    },
    "papermill": {
     "duration": 0.012908,
     "end_time": "2023-11-30T19:48:11.639795",
     "exception": false,
     "start_time": "2023-11-30T19:48:11.626887",
     "status": "completed"
    },
    "tags": []
   },
   "outputs": [],
   "source": []
  },
  {
   "cell_type": "code",
   "execution_count": 18,
   "id": "5ab5b78c",
   "metadata": {
    "execution": {
     "iopub.execute_input": "2023-11-30T19:48:11.668091Z",
     "iopub.status.busy": "2023-11-30T19:48:11.667676Z",
     "iopub.status.idle": "2023-11-30T19:48:28.339634Z",
     "shell.execute_reply": "2023-11-30T19:48:28.338190Z"
    },
    "papermill": {
     "duration": 16.689444,
     "end_time": "2023-11-30T19:48:28.342419",
     "exception": false,
     "start_time": "2023-11-30T19:48:11.652975",
     "status": "completed"
    },
    "tags": []
   },
   "outputs": [
    {
     "name": "stdout",
     "output_type": "stream",
     "text": [
      "This version of the API is not optimized and should not be used to estimate the runtime of your code on the hidden test set.\n"
     ]
    },
    {
     "name": "stderr",
     "output_type": "stream",
     "text": [
      "rolling mean for wap_delta_return_6: 100%|██████████| 4/4 [00:00<00:00, 588.47it/s]\n",
      "rolling std for wap_delta_return_6: 100%|██████████| 3/3 [00:00<00:00, 1327.45it/s]\n",
      "rolling mean for target_approx: 100%|██████████| 4/4 [00:00<00:00, 916.84it/s]\n",
      "rolling std for target_approx: 100%|██████████| 3/3 [00:00<00:00, 1316.34it/s]\n",
      "rolling mean for wap_delta_return_6: 100%|██████████| 4/4 [00:00<00:00, 682.03it/s]\n",
      "rolling std for wap_delta_return_6: 100%|██████████| 3/3 [00:00<00:00, 658.03it/s]\n",
      "rolling mean for target_approx: 100%|██████████| 4/4 [00:00<00:00, 708.80it/s]\n",
      "rolling std for target_approx: 100%|██████████| 3/3 [00:00<00:00, 646.57it/s]\n",
      "rolling mean for wap_delta_return_6: 100%|██████████| 4/4 [00:00<00:00, 646.55it/s]\n",
      "rolling std for wap_delta_return_6: 100%|██████████| 3/3 [00:00<00:00, 598.05it/s]\n",
      "rolling mean for target_approx: 100%|██████████| 4/4 [00:00<00:00, 744.10it/s]\n",
      "rolling std for target_approx: 100%|██████████| 3/3 [00:00<00:00, 734.00it/s]\n",
      "rolling mean for wap_delta_return_6: 100%|██████████| 4/4 [00:00<00:00, 650.41it/s]\n",
      "rolling std for wap_delta_return_6: 100%|██████████| 3/3 [00:00<00:00, 553.41it/s]\n",
      "rolling mean for target_approx: 100%|██████████| 4/4 [00:00<00:00, 699.43it/s]\n",
      "rolling std for target_approx: 100%|██████████| 3/3 [00:00<00:00, 638.31it/s]\n",
      "rolling mean for wap_delta_return_6: 100%|██████████| 4/4 [00:00<00:00, 473.61it/s]\n",
      "rolling std for wap_delta_return_6: 100%|██████████| 3/3 [00:00<00:00, 543.37it/s]\n",
      "rolling mean for target_approx: 100%|██████████| 4/4 [00:00<00:00, 613.88it/s]\n",
      "rolling std for target_approx: 100%|██████████| 3/3 [00:00<00:00, 715.83it/s]\n",
      "rolling mean for wap_delta_return_6: 100%|██████████| 4/4 [00:00<00:00, 591.50it/s]\n",
      "rolling std for wap_delta_return_6: 100%|██████████| 3/3 [00:00<00:00, 522.89it/s]\n",
      "rolling mean for target_approx: 100%|██████████| 4/4 [00:00<00:00, 635.02it/s]\n",
      "rolling std for target_approx: 100%|██████████| 3/3 [00:00<00:00, 563.93it/s]\n",
      "rolling mean for wap_delta_return_6: 100%|██████████| 4/4 [00:00<00:00, 475.80it/s]\n",
      "rolling std for wap_delta_return_6: 100%|██████████| 3/3 [00:00<00:00, 444.85it/s]\n",
      "rolling mean for target_approx: 100%|██████████| 4/4 [00:00<00:00, 559.50it/s]\n",
      "rolling std for target_approx: 100%|██████████| 3/3 [00:00<00:00, 518.22it/s]\n",
      "rolling mean for wap_delta_return_6: 100%|██████████| 4/4 [00:00<00:00, 420.37it/s]\n",
      "rolling std for wap_delta_return_6: 100%|██████████| 3/3 [00:00<00:00, 418.51it/s]\n",
      "rolling mean for target_approx: 100%|██████████| 4/4 [00:00<00:00, 649.42it/s]\n",
      "rolling std for target_approx: 100%|██████████| 3/3 [00:00<00:00, 623.78it/s]\n",
      "rolling mean for wap_delta_return_6: 100%|██████████| 4/4 [00:00<00:00, 373.37it/s]\n",
      "rolling std for wap_delta_return_6: 100%|██████████| 3/3 [00:00<00:00, 454.01it/s]\n",
      "rolling mean for target_approx: 100%|██████████| 4/4 [00:00<00:00, 538.58it/s]\n",
      "rolling std for target_approx: 100%|██████████| 3/3 [00:00<00:00, 495.92it/s]\n",
      "rolling mean for wap_delta_return_6: 100%|██████████| 4/4 [00:00<00:00, 403.44it/s]\n",
      "rolling std for wap_delta_return_6: 100%|██████████| 3/3 [00:00<00:00, 436.16it/s]\n",
      "rolling mean for target_approx: 100%|██████████| 4/4 [00:00<00:00, 487.34it/s]\n",
      "rolling std for target_approx: 100%|██████████| 3/3 [00:00<00:00, 422.50it/s]\n"
     ]
    },
    {
     "name": "stdout",
     "output_type": "stream",
     "text": [
      "10 qps: 0.08384740352630615\n"
     ]
    },
    {
     "name": "stderr",
     "output_type": "stream",
     "text": [
      "rolling mean for wap_delta_return_6: 100%|██████████| 4/4 [00:00<00:00, 434.63it/s]\n",
      "rolling std for wap_delta_return_6: 100%|██████████| 3/3 [00:00<00:00, 481.38it/s]\n",
      "rolling mean for target_approx: 100%|██████████| 4/4 [00:00<00:00, 553.72it/s]\n",
      "rolling std for target_approx: 100%|██████████| 3/3 [00:00<00:00, 373.79it/s]\n",
      "rolling mean for wap_delta_return_6: 100%|██████████| 4/4 [00:00<00:00, 439.50it/s]\n",
      "rolling std for wap_delta_return_6: 100%|██████████| 3/3 [00:00<00:00, 411.46it/s]\n",
      "rolling mean for target_approx: 100%|██████████| 4/4 [00:00<00:00, 539.22it/s]\n",
      "rolling std for target_approx: 100%|██████████| 3/3 [00:00<00:00, 426.34it/s]\n",
      "rolling mean for wap_delta_return_6: 100%|██████████| 4/4 [00:00<00:00, 433.30it/s]\n",
      "rolling std for wap_delta_return_6: 100%|██████████| 3/3 [00:00<00:00, 404.28it/s]\n",
      "rolling mean for target_approx: 100%|██████████| 4/4 [00:00<00:00, 534.95it/s]\n",
      "rolling std for target_approx: 100%|██████████| 3/3 [00:00<00:00, 391.42it/s]\n",
      "rolling mean for wap_delta_return_6: 100%|██████████| 4/4 [00:00<00:00, 420.79it/s]\n",
      "rolling std for wap_delta_return_6: 100%|██████████| 3/3 [00:00<00:00, 335.00it/s]\n",
      "rolling mean for target_approx: 100%|██████████| 4/4 [00:00<00:00, 455.53it/s]\n",
      "rolling std for target_approx: 100%|██████████| 3/3 [00:00<00:00, 339.27it/s]\n",
      "rolling mean for wap_delta_return_6: 100%|██████████| 4/4 [00:00<00:00, 317.63it/s]\n",
      "rolling std for wap_delta_return_6: 100%|██████████| 3/3 [00:00<00:00, 294.82it/s]\n",
      "rolling mean for target_approx: 100%|██████████| 4/4 [00:00<00:00, 373.73it/s]\n",
      "rolling std for target_approx: 100%|██████████| 3/3 [00:00<00:00, 298.74it/s]\n",
      "rolling mean for wap_delta_return_6: 100%|██████████| 4/4 [00:00<00:00, 364.38it/s]\n",
      "rolling std for wap_delta_return_6: 100%|██████████| 3/3 [00:00<00:00, 315.20it/s]\n",
      "rolling mean for target_approx: 100%|██████████| 4/4 [00:00<00:00, 394.39it/s]\n",
      "rolling std for target_approx: 100%|██████████| 3/3 [00:00<00:00, 312.95it/s]\n",
      "rolling mean for wap_delta_return_6: 100%|██████████| 4/4 [00:00<00:00, 390.61it/s]\n",
      "rolling std for wap_delta_return_6: 100%|██████████| 3/3 [00:00<00:00, 300.09it/s]\n",
      "rolling mean for target_approx: 100%|██████████| 4/4 [00:00<00:00, 410.56it/s]\n",
      "rolling std for target_approx: 100%|██████████| 3/3 [00:00<00:00, 265.50it/s]\n",
      "rolling mean for wap_delta_return_6: 100%|██████████| 4/4 [00:00<00:00, 355.49it/s]\n",
      "rolling std for wap_delta_return_6: 100%|██████████| 3/3 [00:00<00:00, 269.99it/s]\n",
      "rolling mean for target_approx: 100%|██████████| 4/4 [00:00<00:00, 348.08it/s]\n",
      "rolling std for target_approx: 100%|██████████| 3/3 [00:00<00:00, 269.49it/s]\n",
      "rolling mean for wap_delta_return_6: 100%|██████████| 4/4 [00:00<00:00, 331.06it/s]\n",
      "rolling std for wap_delta_return_6: 100%|██████████| 3/3 [00:00<00:00, 255.50it/s]\n",
      "rolling mean for target_approx: 100%|██████████| 4/4 [00:00<00:00, 291.82it/s]\n",
      "rolling std for target_approx: 100%|██████████| 3/3 [00:00<00:00, 274.89it/s]\n",
      "rolling mean for wap_delta_return_6: 100%|██████████| 4/4 [00:00<00:00, 339.37it/s]\n",
      "rolling std for wap_delta_return_6: 100%|██████████| 3/3 [00:00<00:00, 260.31it/s]\n",
      "rolling mean for target_approx: 100%|██████████| 4/4 [00:00<00:00, 358.79it/s]\n",
      "rolling std for target_approx: 100%|██████████| 3/3 [00:00<00:00, 265.42it/s]\n"
     ]
    },
    {
     "name": "stdout",
     "output_type": "stream",
     "text": [
      "20 qps: 0.08209611177444458\n"
     ]
    },
    {
     "name": "stderr",
     "output_type": "stream",
     "text": [
      "rolling mean for wap_delta_return_6: 100%|██████████| 4/4 [00:00<00:00, 327.68it/s]\n",
      "rolling std for wap_delta_return_6: 100%|██████████| 3/3 [00:00<00:00, 224.62it/s]\n",
      "rolling mean for target_approx: 100%|██████████| 4/4 [00:00<00:00, 251.52it/s]\n",
      "rolling std for target_approx: 100%|██████████| 3/3 [00:00<00:00, 200.86it/s]\n",
      "rolling mean for wap_delta_return_6: 100%|██████████| 4/4 [00:00<00:00, 318.41it/s]\n",
      "rolling std for wap_delta_return_6: 100%|██████████| 3/3 [00:00<00:00, 247.74it/s]\n",
      "rolling mean for target_approx: 100%|██████████| 4/4 [00:00<00:00, 342.46it/s]\n",
      "rolling std for target_approx: 100%|██████████| 3/3 [00:00<00:00, 243.52it/s]\n",
      "rolling mean for wap_delta_return_6: 100%|██████████| 4/4 [00:00<00:00, 314.33it/s]\n",
      "rolling std for wap_delta_return_6: 100%|██████████| 3/3 [00:00<00:00, 233.03it/s]\n",
      "rolling mean for target_approx: 100%|██████████| 4/4 [00:00<00:00, 311.83it/s]\n",
      "rolling std for target_approx: 100%|██████████| 3/3 [00:00<00:00, 231.05it/s]\n",
      "rolling mean for wap_delta_return_6: 100%|██████████| 4/4 [00:00<00:00, 306.59it/s]\n",
      "rolling std for wap_delta_return_6: 100%|██████████| 3/3 [00:00<00:00, 230.65it/s]\n",
      "rolling mean for target_approx: 100%|██████████| 4/4 [00:00<00:00, 313.22it/s]\n",
      "rolling std for target_approx: 100%|██████████| 3/3 [00:00<00:00, 231.97it/s]\n",
      "rolling mean for wap_delta_return_6: 100%|██████████| 4/4 [00:00<00:00, 313.70it/s]\n",
      "rolling std for wap_delta_return_6: 100%|██████████| 3/3 [00:00<00:00, 251.50it/s]\n",
      "rolling mean for target_approx: 100%|██████████| 4/4 [00:00<00:00, 343.13it/s]\n",
      "rolling std for target_approx: 100%|██████████| 3/3 [00:00<00:00, 260.62it/s]\n",
      "rolling mean for wap_delta_return_6: 100%|██████████| 4/4 [00:00<00:00, 317.61it/s]\n",
      "rolling std for wap_delta_return_6: 100%|██████████| 3/3 [00:00<00:00, 250.42it/s]\n",
      "rolling mean for target_approx: 100%|██████████| 4/4 [00:00<00:00, 339.25it/s]\n",
      "rolling std for target_approx: 100%|██████████| 3/3 [00:00<00:00, 261.11it/s]\n",
      "rolling mean for wap_delta_return_6: 100%|██████████| 4/4 [00:00<00:00, 342.75it/s]\n",
      "rolling std for wap_delta_return_6: 100%|██████████| 3/3 [00:00<00:00, 258.82it/s]\n",
      "rolling mean for target_approx: 100%|██████████| 4/4 [00:00<00:00, 356.42it/s]\n",
      "rolling std for target_approx: 100%|██████████| 3/3 [00:00<00:00, 257.73it/s]\n",
      "rolling mean for wap_delta_return_6: 100%|██████████| 4/4 [00:00<00:00, 346.34it/s]\n",
      "rolling std for wap_delta_return_6: 100%|██████████| 3/3 [00:00<00:00, 251.99it/s]\n",
      "rolling mean for target_approx: 100%|██████████| 4/4 [00:00<00:00, 353.01it/s]\n",
      "rolling std for target_approx: 100%|██████████| 3/3 [00:00<00:00, 258.09it/s]\n",
      "rolling mean for wap_delta_return_6: 100%|██████████| 4/4 [00:00<00:00, 341.05it/s]\n",
      "rolling std for wap_delta_return_6: 100%|██████████| 3/3 [00:00<00:00, 247.96it/s]\n",
      "rolling mean for target_approx: 100%|██████████| 4/4 [00:00<00:00, 351.13it/s]\n",
      "rolling std for target_approx: 100%|██████████| 3/3 [00:00<00:00, 253.18it/s]\n",
      "rolling mean for wap_delta_return_6: 100%|██████████| 4/4 [00:00<00:00, 341.20it/s]\n",
      "rolling std for wap_delta_return_6: 100%|██████████| 3/3 [00:00<00:00, 251.38it/s]\n",
      "rolling mean for target_approx: 100%|██████████| 4/4 [00:00<00:00, 256.83it/s]\n",
      "rolling std for target_approx: 100%|██████████| 3/3 [00:00<00:00, 251.13it/s]\n"
     ]
    },
    {
     "name": "stdout",
     "output_type": "stream",
     "text": [
      "30 qps: 0.08518937428792318\n"
     ]
    },
    {
     "name": "stderr",
     "output_type": "stream",
     "text": [
      "rolling mean for wap_delta_return_6: 100%|██████████| 4/4 [00:00<00:00, 336.59it/s]\n",
      "rolling std for wap_delta_return_6: 100%|██████████| 3/3 [00:00<00:00, 248.62it/s]\n",
      "rolling mean for target_approx: 100%|██████████| 4/4 [00:00<00:00, 338.71it/s]\n",
      "rolling std for target_approx: 100%|██████████| 3/3 [00:00<00:00, 264.90it/s]\n",
      "rolling mean for wap_delta_return_6: 100%|██████████| 4/4 [00:00<00:00, 339.90it/s]\n",
      "rolling std for wap_delta_return_6: 100%|██████████| 3/3 [00:00<00:00, 251.41it/s]\n",
      "rolling mean for target_approx: 100%|██████████| 4/4 [00:00<00:00, 342.29it/s]\n",
      "rolling std for target_approx: 100%|██████████| 3/3 [00:00<00:00, 249.30it/s]\n",
      "rolling mean for wap_delta_return_6: 100%|██████████| 4/4 [00:00<00:00, 331.78it/s]\n",
      "rolling std for wap_delta_return_6: 100%|██████████| 3/3 [00:00<00:00, 252.95it/s]\n",
      "rolling mean for target_approx: 100%|██████████| 4/4 [00:00<00:00, 341.95it/s]\n",
      "rolling std for target_approx: 100%|██████████| 3/3 [00:00<00:00, 252.39it/s]\n",
      "rolling mean for wap_delta_return_6: 100%|██████████| 4/4 [00:00<00:00, 331.38it/s]\n",
      "rolling std for wap_delta_return_6: 100%|██████████| 3/3 [00:00<00:00, 247.16it/s]\n",
      "rolling mean for target_approx: 100%|██████████| 4/4 [00:00<00:00, 323.07it/s]\n",
      "rolling std for target_approx: 100%|██████████| 3/3 [00:00<00:00, 241.30it/s]\n",
      "rolling mean for wap_delta_return_6: 100%|██████████| 4/4 [00:00<00:00, 336.43it/s]\n",
      "rolling std for wap_delta_return_6: 100%|██████████| 3/3 [00:00<00:00, 262.54it/s]\n",
      "rolling mean for target_approx: 100%|██████████| 4/4 [00:00<00:00, 320.72it/s]\n",
      "rolling std for target_approx: 100%|██████████| 3/3 [00:00<00:00, 234.51it/s]\n",
      "rolling mean for wap_delta_return_6: 100%|██████████| 4/4 [00:00<00:00, 312.19it/s]\n",
      "rolling std for wap_delta_return_6: 100%|██████████| 3/3 [00:00<00:00, 239.50it/s]\n",
      "rolling mean for target_approx: 100%|██████████| 4/4 [00:00<00:00, 339.18it/s]\n",
      "rolling std for target_approx: 100%|██████████| 3/3 [00:00<00:00, 243.27it/s]\n",
      "rolling mean for wap_delta_return_6: 100%|██████████| 4/4 [00:00<00:00, 315.76it/s]\n",
      "rolling std for wap_delta_return_6: 100%|██████████| 3/3 [00:00<00:00, 253.02it/s]\n",
      "rolling mean for target_approx: 100%|██████████| 4/4 [00:00<00:00, 333.91it/s]\n",
      "rolling std for target_approx: 100%|██████████| 3/3 [00:00<00:00, 247.27it/s]\n",
      "rolling mean for wap_delta_return_6: 100%|██████████| 4/4 [00:00<00:00, 344.34it/s]\n",
      "rolling std for wap_delta_return_6: 100%|██████████| 3/3 [00:00<00:00, 258.85it/s]\n",
      "rolling mean for target_approx: 100%|██████████| 4/4 [00:00<00:00, 306.08it/s]\n",
      "rolling std for target_approx: 100%|██████████| 3/3 [00:00<00:00, 237.92it/s]\n",
      "rolling mean for wap_delta_return_6: 100%|██████████| 4/4 [00:00<00:00, 318.58it/s]\n",
      "rolling std for wap_delta_return_6: 100%|██████████| 3/3 [00:00<00:00, 258.67it/s]\n",
      "rolling mean for target_approx: 100%|██████████| 4/4 [00:00<00:00, 325.97it/s]\n",
      "rolling std for target_approx: 100%|██████████| 3/3 [00:00<00:00, 250.72it/s]\n",
      "rolling mean for wap_delta_return_6: 100%|██████████| 4/4 [00:00<00:00, 328.82it/s]\n",
      "rolling std for wap_delta_return_6: 100%|██████████| 3/3 [00:00<00:00, 233.92it/s]\n",
      "rolling mean for target_approx: 100%|██████████| 4/4 [00:00<00:00, 315.27it/s]\n",
      "rolling std for target_approx: 100%|██████████| 3/3 [00:00<00:00, 255.69it/s]\n"
     ]
    },
    {
     "name": "stdout",
     "output_type": "stream",
     "text": [
      "40 qps: 0.08651257753372192\n"
     ]
    },
    {
     "name": "stderr",
     "output_type": "stream",
     "text": [
      "rolling mean for wap_delta_return_6: 100%|██████████| 4/4 [00:00<00:00, 340.03it/s]\n",
      "rolling std for wap_delta_return_6: 100%|██████████| 3/3 [00:00<00:00, 248.51it/s]\n",
      "rolling mean for target_approx: 100%|██████████| 4/4 [00:00<00:00, 337.03it/s]\n",
      "rolling std for target_approx: 100%|██████████| 3/3 [00:00<00:00, 248.88it/s]\n",
      "rolling mean for wap_delta_return_6: 100%|██████████| 4/4 [00:00<00:00, 305.26it/s]\n",
      "rolling std for wap_delta_return_6: 100%|██████████| 3/3 [00:00<00:00, 215.64it/s]\n",
      "rolling mean for target_approx: 100%|██████████| 4/4 [00:00<00:00, 297.66it/s]\n",
      "rolling std for target_approx: 100%|██████████| 3/3 [00:00<00:00, 230.25it/s]\n",
      "rolling mean for wap_delta_return_6: 100%|██████████| 4/4 [00:00<00:00, 318.69it/s]\n",
      "rolling std for wap_delta_return_6: 100%|██████████| 3/3 [00:00<00:00, 229.19it/s]\n",
      "rolling mean for target_approx: 100%|██████████| 4/4 [00:00<00:00, 309.74it/s]\n",
      "rolling std for target_approx: 100%|██████████| 3/3 [00:00<00:00, 241.64it/s]\n",
      "rolling mean for wap_delta_return_6: 100%|██████████| 4/4 [00:00<00:00, 311.62it/s]\n",
      "rolling std for wap_delta_return_6: 100%|██████████| 3/3 [00:00<00:00, 248.59it/s]\n",
      "rolling mean for target_approx: 100%|██████████| 4/4 [00:00<00:00, 337.64it/s]\n",
      "rolling std for target_approx: 100%|██████████| 3/3 [00:00<00:00, 255.93it/s]\n",
      "rolling mean for wap_delta_return_6: 100%|██████████| 4/4 [00:00<00:00, 315.51it/s]\n",
      "rolling std for wap_delta_return_6: 100%|██████████| 3/3 [00:00<00:00, 249.85it/s]\n",
      "rolling mean for target_approx: 100%|██████████| 4/4 [00:00<00:00, 343.33it/s]\n",
      "rolling std for target_approx: 100%|██████████| 3/3 [00:00<00:00, 257.97it/s]\n",
      "rolling mean for wap_delta_return_6: 100%|██████████| 4/4 [00:00<00:00, 311.34it/s]\n",
      "rolling std for wap_delta_return_6: 100%|██████████| 3/3 [00:00<00:00, 254.89it/s]\n",
      "rolling mean for target_approx: 100%|██████████| 4/4 [00:00<00:00, 352.50it/s]\n",
      "rolling std for target_approx: 100%|██████████| 3/3 [00:00<00:00, 250.38it/s]\n",
      "rolling mean for wap_delta_return_6: 100%|██████████| 4/4 [00:00<00:00, 347.80it/s]\n",
      "rolling std for wap_delta_return_6: 100%|██████████| 3/3 [00:00<00:00, 258.94it/s]\n",
      "rolling mean for target_approx: 100%|██████████| 4/4 [00:00<00:00, 356.33it/s]\n",
      "rolling std for target_approx: 100%|██████████| 3/3 [00:00<00:00, 201.63it/s]\n",
      "rolling mean for wap_delta_return_6: 100%|██████████| 4/4 [00:00<00:00, 340.10it/s]\n",
      "rolling std for wap_delta_return_6: 100%|██████████| 3/3 [00:00<00:00, 253.73it/s]\n",
      "rolling mean for target_approx: 100%|██████████| 4/4 [00:00<00:00, 355.37it/s]\n",
      "rolling std for target_approx: 100%|██████████| 3/3 [00:00<00:00, 260.65it/s]\n",
      "rolling mean for wap_delta_return_6: 100%|██████████| 4/4 [00:00<00:00, 321.51it/s]\n",
      "rolling std for wap_delta_return_6: 100%|██████████| 3/3 [00:00<00:00, 248.64it/s]\n",
      "rolling mean for target_approx: 100%|██████████| 4/4 [00:00<00:00, 337.76it/s]\n",
      "rolling std for target_approx: 100%|██████████| 3/3 [00:00<00:00, 260.41it/s]\n",
      "rolling mean for wap_delta_return_6: 100%|██████████| 4/4 [00:00<00:00, 342.13it/s]\n",
      "rolling std for wap_delta_return_6: 100%|██████████| 3/3 [00:00<00:00, 260.53it/s]\n",
      "rolling mean for target_approx: 100%|██████████| 4/4 [00:00<00:00, 261.38it/s]\n",
      "rolling std for target_approx: 100%|██████████| 3/3 [00:00<00:00, 201.77it/s]\n"
     ]
    },
    {
     "name": "stdout",
     "output_type": "stream",
     "text": [
      "50 qps: 0.08758815288543702\n"
     ]
    },
    {
     "name": "stderr",
     "output_type": "stream",
     "text": [
      "rolling mean for wap_delta_return_6: 100%|██████████| 4/4 [00:00<00:00, 300.25it/s]\n",
      "rolling std for wap_delta_return_6: 100%|██████████| 3/3 [00:00<00:00, 231.41it/s]\n",
      "rolling mean for target_approx: 100%|██████████| 4/4 [00:00<00:00, 315.06it/s]\n",
      "rolling std for target_approx: 100%|██████████| 3/3 [00:00<00:00, 238.98it/s]\n",
      "rolling mean for wap_delta_return_6: 100%|██████████| 4/4 [00:00<00:00, 317.78it/s]\n",
      "rolling std for wap_delta_return_6: 100%|██████████| 3/3 [00:00<00:00, 224.17it/s]\n",
      "rolling mean for target_approx: 100%|██████████| 4/4 [00:00<00:00, 303.39it/s]\n",
      "rolling std for target_approx: 100%|██████████| 3/3 [00:00<00:00, 254.74it/s]\n",
      "rolling mean for wap_delta_return_6: 100%|██████████| 4/4 [00:00<00:00, 329.35it/s]\n",
      "rolling std for wap_delta_return_6: 100%|██████████| 3/3 [00:00<00:00, 241.07it/s]\n",
      "rolling mean for target_approx: 100%|██████████| 4/4 [00:00<00:00, 344.48it/s]\n",
      "rolling std for target_approx: 100%|██████████| 3/3 [00:00<00:00, 251.97it/s]\n",
      "rolling mean for wap_delta_return_6: 100%|██████████| 4/4 [00:00<00:00, 343.82it/s]\n",
      "rolling std for wap_delta_return_6: 100%|██████████| 3/3 [00:00<00:00, 251.93it/s]\n",
      "rolling mean for target_approx: 100%|██████████| 4/4 [00:00<00:00, 336.37it/s]\n",
      "rolling std for target_approx: 100%|██████████| 3/3 [00:00<00:00, 243.73it/s]\n",
      "rolling mean for wap_delta_return_6: 100%|██████████| 4/4 [00:00<00:00, 315.08it/s]\n",
      "rolling std for wap_delta_return_6: 100%|██████████| 3/3 [00:00<00:00, 235.68it/s]\n",
      "rolling mean for target_approx: 100%|██████████| 4/4 [00:00<00:00, 302.66it/s]\n",
      "rolling std for target_approx: 100%|██████████| 3/3 [00:00<00:00, 222.98it/s]\n",
      "rolling mean for wap_delta_return_6: 100%|██████████| 4/4 [00:00<00:00, 326.45it/s]\n",
      "rolling std for wap_delta_return_6: 100%|██████████| 3/3 [00:00<00:00, 253.54it/s]\n",
      "rolling mean for target_approx: 100%|██████████| 4/4 [00:00<00:00, 340.05it/s]\n",
      "rolling std for target_approx: 100%|██████████| 3/3 [00:00<00:00, 229.35it/s]\n",
      "rolling mean for wap_delta_return_6: 100%|██████████| 4/4 [00:00<00:00, 293.46it/s]\n",
      "rolling std for wap_delta_return_6: 100%|██████████| 3/3 [00:00<00:00, 238.81it/s]\n",
      "rolling mean for target_approx: 100%|██████████| 4/4 [00:00<00:00, 283.78it/s]\n",
      "rolling std for target_approx: 100%|██████████| 3/3 [00:00<00:00, 237.47it/s]\n",
      "rolling mean for wap_delta_return_6: 100%|██████████| 4/4 [00:00<00:00, 306.69it/s]\n",
      "rolling std for wap_delta_return_6: 100%|██████████| 3/3 [00:00<00:00, 225.38it/s]\n",
      "rolling mean for target_approx: 100%|██████████| 4/4 [00:00<00:00, 328.89it/s]\n",
      "rolling std for target_approx: 100%|██████████| 3/3 [00:00<00:00, 236.00it/s]\n",
      "rolling mean for wap_delta_return_6: 100%|██████████| 4/4 [00:00<00:00, 312.90it/s]\n",
      "rolling std for wap_delta_return_6: 100%|██████████| 3/3 [00:00<00:00, 248.54it/s]\n",
      "rolling mean for target_approx: 100%|██████████| 4/4 [00:00<00:00, 330.42it/s]\n",
      "rolling std for target_approx: 100%|██████████| 3/3 [00:00<00:00, 249.47it/s]\n",
      "rolling mean for wap_delta_return_6: 100%|██████████| 4/4 [00:00<00:00, 309.03it/s]\n",
      "rolling std for wap_delta_return_6: 100%|██████████| 3/3 [00:00<00:00, 237.61it/s]\n",
      "rolling mean for target_approx: 100%|██████████| 4/4 [00:00<00:00, 349.03it/s]\n",
      "rolling std for target_approx: 100%|██████████| 3/3 [00:00<00:00, 243.16it/s]\n"
     ]
    },
    {
     "name": "stdout",
     "output_type": "stream",
     "text": [
      "60 qps: 0.08850327730178834\n"
     ]
    },
    {
     "name": "stderr",
     "output_type": "stream",
     "text": [
      "rolling mean for wap_delta_return_6: 100%|██████████| 4/4 [00:00<00:00, 319.56it/s]\n",
      "rolling std for wap_delta_return_6: 100%|██████████| 3/3 [00:00<00:00, 224.46it/s]\n",
      "rolling mean for target_approx: 100%|██████████| 4/4 [00:00<00:00, 267.59it/s]\n",
      "rolling std for target_approx: 100%|██████████| 3/3 [00:00<00:00, 251.47it/s]\n",
      "rolling mean for wap_delta_return_6: 100%|██████████| 4/4 [00:00<00:00, 300.15it/s]\n",
      "rolling std for wap_delta_return_6: 100%|██████████| 3/3 [00:00<00:00, 248.69it/s]\n",
      "rolling mean for target_approx: 100%|██████████| 4/4 [00:00<00:00, 344.90it/s]\n",
      "rolling std for target_approx: 100%|██████████| 3/3 [00:00<00:00, 246.64it/s]\n",
      "rolling mean for wap_delta_return_6: 100%|██████████| 4/4 [00:00<00:00, 326.28it/s]\n",
      "rolling std for wap_delta_return_6: 100%|██████████| 3/3 [00:00<00:00, 244.24it/s]\n",
      "rolling mean for target_approx: 100%|██████████| 4/4 [00:00<00:00, 278.16it/s]\n",
      "rolling std for target_approx: 100%|██████████| 3/3 [00:00<00:00, 207.33it/s]\n",
      "rolling mean for wap_delta_return_6: 100%|██████████| 4/4 [00:00<00:00, 308.26it/s]\n",
      "rolling std for wap_delta_return_6: 100%|██████████| 3/3 [00:00<00:00, 213.10it/s]\n",
      "rolling mean for target_approx: 100%|██████████| 4/4 [00:00<00:00, 263.25it/s]\n",
      "rolling std for target_approx: 100%|██████████| 3/3 [00:00<00:00, 183.92it/s]\n",
      "rolling mean for wap_delta_return_6: 100%|██████████| 4/4 [00:00<00:00, 316.77it/s]\n",
      "rolling std for wap_delta_return_6: 100%|██████████| 3/3 [00:00<00:00, 236.30it/s]\n",
      "rolling mean for target_approx: 100%|██████████| 4/4 [00:00<00:00, 319.80it/s]\n",
      "rolling std for target_approx: 100%|██████████| 3/3 [00:00<00:00, 219.11it/s]\n",
      "rolling mean for wap_delta_return_6: 100%|██████████| 4/4 [00:00<00:00, 245.58it/s]\n",
      "rolling std for wap_delta_return_6: 100%|██████████| 3/3 [00:00<00:00, 166.11it/s]\n",
      "rolling mean for target_approx: 100%|██████████| 4/4 [00:00<00:00, 318.12it/s]\n",
      "rolling std for target_approx: 100%|██████████| 3/3 [00:00<00:00, 258.98it/s]\n",
      "rolling mean for wap_delta_return_6: 100%|██████████| 4/4 [00:00<00:00, 279.33it/s]\n",
      "rolling std for wap_delta_return_6: 100%|██████████| 3/3 [00:00<00:00, 257.01it/s]\n",
      "rolling mean for target_approx: 100%|██████████| 4/4 [00:00<00:00, 347.61it/s]\n",
      "rolling std for target_approx: 100%|██████████| 3/3 [00:00<00:00, 262.06it/s]\n",
      "rolling mean for wap_delta_return_6: 100%|██████████| 4/4 [00:00<00:00, 331.85it/s]\n",
      "rolling std for wap_delta_return_6: 100%|██████████| 3/3 [00:00<00:00, 261.07it/s]\n",
      "rolling mean for target_approx: 100%|██████████| 4/4 [00:00<00:00, 357.12it/s]\n",
      "rolling std for target_approx: 100%|██████████| 3/3 [00:00<00:00, 256.41it/s]\n",
      "rolling mean for wap_delta_return_6: 100%|██████████| 4/4 [00:00<00:00, 325.84it/s]\n",
      "rolling std for wap_delta_return_6: 100%|██████████| 3/3 [00:00<00:00, 238.06it/s]\n",
      "rolling mean for target_approx: 100%|██████████| 4/4 [00:00<00:00, 325.42it/s]\n",
      "rolling std for target_approx: 100%|██████████| 3/3 [00:00<00:00, 256.39it/s]\n",
      "rolling mean for wap_delta_return_6: 100%|██████████| 4/4 [00:00<00:00, 337.36it/s]\n",
      "rolling std for wap_delta_return_6: 100%|██████████| 3/3 [00:00<00:00, 254.68it/s]\n",
      "rolling mean for target_approx: 100%|██████████| 4/4 [00:00<00:00, 353.59it/s]\n",
      "rolling std for target_approx: 100%|██████████| 3/3 [00:00<00:00, 253.36it/s]\n"
     ]
    },
    {
     "name": "stdout",
     "output_type": "stream",
     "text": [
      "70 qps: 0.08951924868992396\n"
     ]
    },
    {
     "name": "stderr",
     "output_type": "stream",
     "text": [
      "rolling mean for wap_delta_return_6: 100%|██████████| 4/4 [00:00<00:00, 320.52it/s]\n",
      "rolling std for wap_delta_return_6: 100%|██████████| 3/3 [00:00<00:00, 240.47it/s]\n",
      "rolling mean for target_approx: 100%|██████████| 4/4 [00:00<00:00, 320.78it/s]\n",
      "rolling std for target_approx: 100%|██████████| 3/3 [00:00<00:00, 260.94it/s]\n",
      "rolling mean for wap_delta_return_6: 100%|██████████| 4/4 [00:00<00:00, 311.01it/s]\n",
      "rolling std for wap_delta_return_6: 100%|██████████| 3/3 [00:00<00:00, 252.55it/s]\n",
      "rolling mean for target_approx: 100%|██████████| 4/4 [00:00<00:00, 342.71it/s]\n",
      "rolling std for target_approx: 100%|██████████| 3/3 [00:00<00:00, 260.57it/s]\n",
      "rolling mean for wap_delta_return_6: 100%|██████████| 4/4 [00:00<00:00, 323.84it/s]\n",
      "rolling std for wap_delta_return_6: 100%|██████████| 3/3 [00:00<00:00, 245.32it/s]\n",
      "rolling mean for target_approx: 100%|██████████| 4/4 [00:00<00:00, 317.26it/s]\n",
      "rolling std for target_approx: 100%|██████████| 3/3 [00:00<00:00, 245.47it/s]\n",
      "rolling mean for wap_delta_return_6: 100%|██████████| 4/4 [00:00<00:00, 323.52it/s]\n",
      "rolling std for wap_delta_return_6: 100%|██████████| 3/3 [00:00<00:00, 256.53it/s]\n",
      "rolling mean for target_approx: 100%|██████████| 4/4 [00:00<00:00, 297.27it/s]\n",
      "rolling std for target_approx: 100%|██████████| 3/3 [00:00<00:00, 222.39it/s]\n",
      "rolling mean for wap_delta_return_6: 100%|██████████| 4/4 [00:00<00:00, 319.93it/s]\n",
      "rolling std for wap_delta_return_6: 100%|██████████| 3/3 [00:00<00:00, 251.94it/s]\n",
      "rolling mean for target_approx: 100%|██████████| 4/4 [00:00<00:00, 336.14it/s]\n",
      "rolling std for target_approx: 100%|██████████| 3/3 [00:00<00:00, 258.13it/s]\n",
      "rolling mean for wap_delta_return_6: 100%|██████████| 4/4 [00:00<00:00, 327.03it/s]\n",
      "rolling std for wap_delta_return_6: 100%|██████████| 3/3 [00:00<00:00, 256.94it/s]\n",
      "rolling mean for target_approx: 100%|██████████| 4/4 [00:00<00:00, 337.27it/s]\n",
      "rolling std for target_approx: 100%|██████████| 3/3 [00:00<00:00, 247.22it/s]\n",
      "rolling mean for wap_delta_return_6: 100%|██████████| 4/4 [00:00<00:00, 320.77it/s]\n",
      "rolling std for wap_delta_return_6: 100%|██████████| 3/3 [00:00<00:00, 252.44it/s]\n",
      "rolling mean for target_approx: 100%|██████████| 4/4 [00:00<00:00, 323.40it/s]\n",
      "rolling std for target_approx: 100%|██████████| 3/3 [00:00<00:00, 248.20it/s]\n",
      "rolling mean for wap_delta_return_6: 100%|██████████| 4/4 [00:00<00:00, 338.71it/s]\n",
      "rolling std for wap_delta_return_6: 100%|██████████| 3/3 [00:00<00:00, 265.84it/s]\n",
      "rolling mean for target_approx: 100%|██████████| 4/4 [00:00<00:00, 350.35it/s]\n",
      "rolling std for target_approx: 100%|██████████| 3/3 [00:00<00:00, 247.35it/s]\n",
      "rolling mean for wap_delta_return_6: 100%|██████████| 4/4 [00:00<00:00, 254.48it/s]\n",
      "rolling std for wap_delta_return_6: 100%|██████████| 3/3 [00:00<00:00, 232.72it/s]\n",
      "rolling mean for target_approx: 100%|██████████| 4/4 [00:00<00:00, 361.52it/s]\n",
      "rolling std for target_approx: 100%|██████████| 3/3 [00:00<00:00, 256.89it/s]\n",
      "rolling mean for wap_delta_return_6: 100%|██████████| 4/4 [00:00<00:00, 330.68it/s]\n",
      "rolling std for wap_delta_return_6: 100%|██████████| 3/3 [00:00<00:00, 255.39it/s]\n",
      "rolling mean for target_approx: 100%|██████████| 4/4 [00:00<00:00, 337.53it/s]\n",
      "rolling std for target_approx: 100%|██████████| 3/3 [00:00<00:00, 256.35it/s]\n"
     ]
    },
    {
     "name": "stdout",
     "output_type": "stream",
     "text": [
      "80 qps: 0.08987179398536682\n"
     ]
    },
    {
     "name": "stderr",
     "output_type": "stream",
     "text": [
      "rolling mean for wap_delta_return_6: 100%|██████████| 4/4 [00:00<00:00, 325.20it/s]\n",
      "rolling std for wap_delta_return_6: 100%|██████████| 3/3 [00:00<00:00, 242.75it/s]\n",
      "rolling mean for target_approx: 100%|██████████| 4/4 [00:00<00:00, 330.32it/s]\n",
      "rolling std for target_approx: 100%|██████████| 3/3 [00:00<00:00, 225.38it/s]\n",
      "rolling mean for wap_delta_return_6: 100%|██████████| 4/4 [00:00<00:00, 331.00it/s]\n",
      "rolling std for wap_delta_return_6: 100%|██████████| 3/3 [00:00<00:00, 238.80it/s]\n",
      "rolling mean for target_approx: 100%|██████████| 4/4 [00:00<00:00, 342.33it/s]\n",
      "rolling std for target_approx: 100%|██████████| 3/3 [00:00<00:00, 249.96it/s]\n",
      "rolling mean for wap_delta_return_6: 100%|██████████| 4/4 [00:00<00:00, 305.77it/s]\n",
      "rolling std for wap_delta_return_6: 100%|██████████| 3/3 [00:00<00:00, 235.10it/s]\n",
      "rolling mean for target_approx: 100%|██████████| 4/4 [00:00<00:00, 306.28it/s]\n",
      "rolling std for target_approx: 100%|██████████| 3/3 [00:00<00:00, 233.65it/s]\n",
      "rolling mean for wap_delta_return_6: 100%|██████████| 4/4 [00:00<00:00, 307.65it/s]\n",
      "rolling std for wap_delta_return_6: 100%|██████████| 3/3 [00:00<00:00, 231.88it/s]\n",
      "rolling mean for target_approx: 100%|██████████| 4/4 [00:00<00:00, 316.06it/s]\n",
      "rolling std for target_approx: 100%|██████████| 3/3 [00:00<00:00, 238.62it/s]\n",
      "rolling mean for wap_delta_return_6: 100%|██████████| 4/4 [00:00<00:00, 307.56it/s]\n",
      "rolling std for wap_delta_return_6: 100%|██████████| 3/3 [00:00<00:00, 245.24it/s]\n",
      "rolling mean for target_approx: 100%|██████████| 4/4 [00:00<00:00, 311.40it/s]\n",
      "rolling std for target_approx: 100%|██████████| 3/3 [00:00<00:00, 213.70it/s]\n",
      "rolling mean for wap_delta_return_6: 100%|██████████| 4/4 [00:00<00:00, 257.22it/s]\n",
      "rolling std for wap_delta_return_6: 100%|██████████| 3/3 [00:00<00:00, 181.49it/s]\n",
      "rolling mean for target_approx: 100%|██████████| 4/4 [00:00<00:00, 213.81it/s]\n",
      "rolling std for target_approx: 100%|██████████| 3/3 [00:00<00:00, 204.64it/s]\n",
      "rolling mean for wap_delta_return_6: 100%|██████████| 4/4 [00:00<00:00, 286.77it/s]\n",
      "rolling std for wap_delta_return_6: 100%|██████████| 3/3 [00:00<00:00, 221.56it/s]\n",
      "rolling mean for target_approx: 100%|██████████| 4/4 [00:00<00:00, 226.35it/s]\n",
      "rolling std for target_approx: 100%|██████████| 3/3 [00:00<00:00, 145.19it/s]\n",
      "rolling mean for wap_delta_return_6: 100%|██████████| 4/4 [00:00<00:00, 220.44it/s]\n",
      "rolling std for wap_delta_return_6: 100%|██████████| 3/3 [00:00<00:00, 130.21it/s]\n",
      "rolling mean for target_approx: 100%|██████████| 4/4 [00:00<00:00, 216.27it/s]\n",
      "rolling std for target_approx: 100%|██████████| 3/3 [00:00<00:00, 166.20it/s]\n",
      "rolling mean for wap_delta_return_6: 100%|██████████| 4/4 [00:00<00:00, 194.95it/s]\n",
      "rolling std for wap_delta_return_6: 100%|██████████| 3/3 [00:00<00:00, 228.80it/s]\n",
      "rolling mean for target_approx: 100%|██████████| 4/4 [00:00<00:00, 299.81it/s]\n",
      "rolling std for target_approx: 100%|██████████| 3/3 [00:00<00:00, 221.18it/s]\n",
      "rolling mean for wap_delta_return_6: 100%|██████████| 4/4 [00:00<00:00, 306.24it/s]\n",
      "rolling std for wap_delta_return_6: 100%|██████████| 3/3 [00:00<00:00, 200.85it/s]\n",
      "rolling mean for target_approx: 100%|██████████| 4/4 [00:00<00:00, 240.80it/s]\n",
      "rolling std for target_approx: 100%|██████████| 3/3 [00:00<00:00, 176.84it/s]\n"
     ]
    },
    {
     "name": "stdout",
     "output_type": "stream",
     "text": [
      "90 qps: 0.09194361633724636\n"
     ]
    },
    {
     "name": "stderr",
     "output_type": "stream",
     "text": [
      "rolling mean for wap_delta_return_6: 100%|██████████| 4/4 [00:00<00:00, 312.74it/s]\n",
      "rolling std for wap_delta_return_6: 100%|██████████| 3/3 [00:00<00:00, 230.10it/s]\n",
      "rolling mean for target_approx: 100%|██████████| 4/4 [00:00<00:00, 323.83it/s]\n",
      "rolling std for target_approx: 100%|██████████| 3/3 [00:00<00:00, 228.20it/s]\n",
      "rolling mean for wap_delta_return_6: 100%|██████████| 4/4 [00:00<00:00, 307.37it/s]\n",
      "rolling std for wap_delta_return_6: 100%|██████████| 3/3 [00:00<00:00, 230.67it/s]\n",
      "rolling mean for target_approx: 100%|██████████| 4/4 [00:00<00:00, 284.55it/s]\n",
      "rolling std for target_approx: 100%|██████████| 3/3 [00:00<00:00, 235.52it/s]\n",
      "rolling mean for wap_delta_return_6: 100%|██████████| 4/4 [00:00<00:00, 304.66it/s]\n",
      "rolling std for wap_delta_return_6: 100%|██████████| 3/3 [00:00<00:00, 214.97it/s]\n",
      "rolling mean for target_approx: 100%|██████████| 4/4 [00:00<00:00, 293.40it/s]\n",
      "rolling std for target_approx: 100%|██████████| 3/3 [00:00<00:00, 214.42it/s]\n",
      "rolling mean for wap_delta_return_6: 100%|██████████| 4/4 [00:00<00:00, 292.55it/s]\n",
      "rolling std for wap_delta_return_6: 100%|██████████| 3/3 [00:00<00:00, 218.18it/s]\n",
      "rolling mean for target_approx: 100%|██████████| 4/4 [00:00<00:00, 314.85it/s]\n",
      "rolling std for target_approx: 100%|██████████| 3/3 [00:00<00:00, 221.92it/s]\n",
      "rolling mean for wap_delta_return_6: 100%|██████████| 4/4 [00:00<00:00, 279.64it/s]\n",
      "rolling std for wap_delta_return_6: 100%|██████████| 3/3 [00:00<00:00, 184.64it/s]\n",
      "rolling mean for target_approx: 100%|██████████| 4/4 [00:00<00:00, 235.50it/s]\n",
      "rolling std for target_approx: 100%|██████████| 3/3 [00:00<00:00, 169.63it/s]\n",
      "rolling mean for wap_delta_return_6: 100%|██████████| 4/4 [00:00<00:00, 253.70it/s]\n",
      "rolling std for wap_delta_return_6: 100%|██████████| 3/3 [00:00<00:00, 200.98it/s]\n",
      "rolling mean for target_approx: 100%|██████████| 4/4 [00:00<00:00, 249.13it/s]\n",
      "rolling std for target_approx: 100%|██████████| 3/3 [00:00<00:00, 157.25it/s]\n",
      "rolling mean for wap_delta_return_6: 100%|██████████| 4/4 [00:00<00:00, 221.07it/s]\n",
      "rolling std for wap_delta_return_6: 100%|██████████| 3/3 [00:00<00:00, 160.23it/s]\n",
      "rolling mean for target_approx: 100%|██████████| 4/4 [00:00<00:00, 233.31it/s]\n",
      "rolling std for target_approx: 100%|██████████| 3/3 [00:00<00:00, 159.62it/s]\n",
      "rolling mean for wap_delta_return_6: 100%|██████████| 4/4 [00:00<00:00, 320.72it/s]\n",
      "rolling std for wap_delta_return_6: 100%|██████████| 3/3 [00:00<00:00, 239.57it/s]\n",
      "rolling mean for target_approx: 100%|██████████| 4/4 [00:00<00:00, 318.06it/s]\n",
      "rolling std for target_approx: 100%|██████████| 3/3 [00:00<00:00, 243.96it/s]\n",
      "rolling mean for wap_delta_return_6: 100%|██████████| 4/4 [00:00<00:00, 257.86it/s]\n",
      "rolling std for wap_delta_return_6: 100%|██████████| 3/3 [00:00<00:00, 232.48it/s]\n",
      "rolling mean for target_approx: 100%|██████████| 4/4 [00:00<00:00, 315.25it/s]\n",
      "rolling std for target_approx: 100%|██████████| 3/3 [00:00<00:00, 235.38it/s]\n",
      "rolling mean for wap_delta_return_6: 100%|██████████| 4/4 [00:00<00:00, 303.39it/s]\n",
      "rolling std for wap_delta_return_6: 100%|██████████| 3/3 [00:00<00:00, 211.63it/s]\n",
      "rolling mean for target_approx: 100%|██████████| 4/4 [00:00<00:00, 308.55it/s]\n",
      "rolling std for target_approx: 100%|██████████| 3/3 [00:00<00:00, 234.53it/s]\n"
     ]
    },
    {
     "name": "stdout",
     "output_type": "stream",
     "text": [
      "100 qps: 0.09350323915481568\n"
     ]
    },
    {
     "name": "stderr",
     "output_type": "stream",
     "text": [
      "rolling mean for wap_delta_return_6: 100%|██████████| 4/4 [00:00<00:00, 269.51it/s]\n",
      "rolling std for wap_delta_return_6: 100%|██████████| 3/3 [00:00<00:00, 227.17it/s]\n",
      "rolling mean for target_approx: 100%|██████████| 4/4 [00:00<00:00, 292.89it/s]\n",
      "rolling std for target_approx: 100%|██████████| 3/3 [00:00<00:00, 238.43it/s]\n",
      "rolling mean for wap_delta_return_6: 100%|██████████| 4/4 [00:00<00:00, 309.54it/s]\n",
      "rolling std for wap_delta_return_6: 100%|██████████| 3/3 [00:00<00:00, 233.59it/s]\n",
      "rolling mean for target_approx: 100%|██████████| 4/4 [00:00<00:00, 315.86it/s]\n",
      "rolling std for target_approx: 100%|██████████| 3/3 [00:00<00:00, 215.09it/s]\n",
      "rolling mean for wap_delta_return_6: 100%|██████████| 4/4 [00:00<00:00, 324.84it/s]\n",
      "rolling std for wap_delta_return_6: 100%|██████████| 3/3 [00:00<00:00, 238.94it/s]\n",
      "rolling mean for target_approx: 100%|██████████| 4/4 [00:00<00:00, 345.02it/s]\n",
      "rolling std for target_approx: 100%|██████████| 3/3 [00:00<00:00, 248.05it/s]\n",
      "rolling mean for wap_delta_return_6: 100%|██████████| 4/4 [00:00<00:00, 322.65it/s]\n",
      "rolling std for wap_delta_return_6: 100%|██████████| 3/3 [00:00<00:00, 243.77it/s]\n",
      "rolling mean for target_approx: 100%|██████████| 4/4 [00:00<00:00, 298.30it/s]\n",
      "rolling std for target_approx: 100%|██████████| 3/3 [00:00<00:00, 235.63it/s]\n",
      "rolling mean for wap_delta_return_6: 100%|██████████| 4/4 [00:00<00:00, 311.73it/s]\n",
      "rolling std for wap_delta_return_6: 100%|██████████| 3/3 [00:00<00:00, 218.20it/s]\n",
      "rolling mean for target_approx: 100%|██████████| 4/4 [00:00<00:00, 288.98it/s]\n",
      "rolling std for target_approx: 100%|██████████| 3/3 [00:00<00:00, 211.32it/s]\n",
      "rolling mean for wap_delta_return_6: 100%|██████████| 4/4 [00:00<00:00, 277.56it/s]\n",
      "rolling std for wap_delta_return_6: 100%|██████████| 3/3 [00:00<00:00, 225.02it/s]\n",
      "rolling mean for target_approx: 100%|██████████| 4/4 [00:00<00:00, 309.58it/s]\n",
      "rolling std for target_approx: 100%|██████████| 3/3 [00:00<00:00, 232.03it/s]\n",
      "rolling mean for wap_delta_return_6: 100%|██████████| 4/4 [00:00<00:00, 326.96it/s]\n",
      "rolling std for wap_delta_return_6: 100%|██████████| 3/3 [00:00<00:00, 260.52it/s]\n",
      "rolling mean for target_approx: 100%|██████████| 4/4 [00:00<00:00, 346.54it/s]\n",
      "rolling std for target_approx: 100%|██████████| 3/3 [00:00<00:00, 251.64it/s]\n",
      "rolling mean for wap_delta_return_6: 100%|██████████| 4/4 [00:00<00:00, 318.69it/s]\n",
      "rolling std for wap_delta_return_6: 100%|██████████| 3/3 [00:00<00:00, 256.22it/s]\n",
      "rolling mean for target_approx: 100%|██████████| 4/4 [00:00<00:00, 337.07it/s]\n",
      "rolling std for target_approx: 100%|██████████| 3/3 [00:00<00:00, 257.69it/s]\n",
      "rolling mean for wap_delta_return_6: 100%|██████████| 4/4 [00:00<00:00, 336.15it/s]\n",
      "rolling std for wap_delta_return_6: 100%|██████████| 3/3 [00:00<00:00, 234.71it/s]\n",
      "rolling mean for target_approx: 100%|██████████| 4/4 [00:00<00:00, 317.97it/s]\n",
      "rolling std for target_approx: 100%|██████████| 3/3 [00:00<00:00, 198.03it/s]\n",
      "rolling mean for wap_delta_return_6: 100%|██████████| 4/4 [00:00<00:00, 279.25it/s]\n",
      "rolling std for wap_delta_return_6: 100%|██████████| 3/3 [00:00<00:00, 252.62it/s]\n",
      "rolling mean for target_approx: 100%|██████████| 4/4 [00:00<00:00, 329.33it/s]\n",
      "rolling std for target_approx: 100%|██████████| 3/3 [00:00<00:00, 251.60it/s]\n"
     ]
    },
    {
     "name": "stdout",
     "output_type": "stream",
     "text": [
      "110 qps: 0.09366058869795366\n"
     ]
    },
    {
     "name": "stderr",
     "output_type": "stream",
     "text": [
      "rolling mean for wap_delta_return_6: 100%|██████████| 4/4 [00:00<00:00, 287.25it/s]\n",
      "rolling std for wap_delta_return_6: 100%|██████████| 3/3 [00:00<00:00, 237.98it/s]\n",
      "rolling mean for target_approx: 100%|██████████| 4/4 [00:00<00:00, 310.33it/s]\n",
      "rolling std for target_approx: 100%|██████████| 3/3 [00:00<00:00, 203.68it/s]\n",
      "rolling mean for wap_delta_return_6: 100%|██████████| 4/4 [00:00<00:00, 304.76it/s]\n",
      "rolling std for wap_delta_return_6: 100%|██████████| 3/3 [00:00<00:00, 250.01it/s]\n",
      "rolling mean for target_approx: 100%|██████████| 4/4 [00:00<00:00, 333.77it/s]\n",
      "rolling std for target_approx: 100%|██████████| 3/3 [00:00<00:00, 234.62it/s]\n",
      "rolling mean for wap_delta_return_6: 100%|██████████| 4/4 [00:00<00:00, 297.26it/s]\n",
      "rolling std for wap_delta_return_6: 100%|██████████| 3/3 [00:00<00:00, 235.83it/s]\n",
      "rolling mean for target_approx: 100%|██████████| 4/4 [00:00<00:00, 277.08it/s]\n",
      "rolling std for target_approx: 100%|██████████| 3/3 [00:00<00:00, 212.92it/s]\n",
      "rolling mean for wap_delta_return_6: 100%|██████████| 4/4 [00:00<00:00, 311.84it/s]\n",
      "rolling std for wap_delta_return_6: 100%|██████████| 3/3 [00:00<00:00, 246.15it/s]\n",
      "rolling mean for target_approx: 100%|██████████| 4/4 [00:00<00:00, 295.37it/s]\n",
      "rolling std for target_approx: 100%|██████████| 3/3 [00:00<00:00, 219.19it/s]\n",
      "rolling mean for wap_delta_return_6: 100%|██████████| 4/4 [00:00<00:00, 297.80it/s]\n",
      "rolling std for wap_delta_return_6: 100%|██████████| 3/3 [00:00<00:00, 236.66it/s]\n",
      "rolling mean for target_approx: 100%|██████████| 4/4 [00:00<00:00, 329.53it/s]\n",
      "rolling std for target_approx: 100%|██████████| 3/3 [00:00<00:00, 220.03it/s]\n",
      "rolling mean for wap_delta_return_6: 100%|██████████| 4/4 [00:00<00:00, 289.80it/s]\n",
      "rolling std for wap_delta_return_6: 100%|██████████| 3/3 [00:00<00:00, 233.51it/s]\n",
      "rolling mean for target_approx: 100%|██████████| 4/4 [00:00<00:00, 232.49it/s]\n",
      "rolling std for target_approx: 100%|██████████| 3/3 [00:00<00:00, 187.09it/s]\n",
      "rolling mean for wap_delta_return_6: 100%|██████████| 4/4 [00:00<00:00, 267.06it/s]\n",
      "rolling std for wap_delta_return_6: 100%|██████████| 3/3 [00:00<00:00, 222.66it/s]\n",
      "rolling mean for target_approx: 100%|██████████| 4/4 [00:00<00:00, 330.26it/s]\n",
      "rolling std for target_approx: 100%|██████████| 3/3 [00:00<00:00, 245.63it/s]\n",
      "rolling mean for wap_delta_return_6: 100%|██████████| 4/4 [00:00<00:00, 314.23it/s]\n",
      "rolling std for wap_delta_return_6: 100%|██████████| 3/3 [00:00<00:00, 242.24it/s]\n",
      "rolling mean for target_approx: 100%|██████████| 4/4 [00:00<00:00, 331.43it/s]\n",
      "rolling std for target_approx: 100%|██████████| 3/3 [00:00<00:00, 244.51it/s]\n",
      "rolling mean for wap_delta_return_6: 100%|██████████| 4/4 [00:00<00:00, 313.00it/s]\n",
      "rolling std for wap_delta_return_6: 100%|██████████| 3/3 [00:00<00:00, 225.99it/s]\n",
      "rolling mean for target_approx: 100%|██████████| 4/4 [00:00<00:00, 290.89it/s]\n",
      "rolling std for target_approx: 100%|██████████| 3/3 [00:00<00:00, 227.87it/s]\n",
      "rolling mean for wap_delta_return_6: 100%|██████████| 4/4 [00:00<00:00, 302.91it/s]\n",
      "rolling std for wap_delta_return_6: 100%|██████████| 3/3 [00:00<00:00, 253.60it/s]\n",
      "rolling mean for target_approx: 100%|██████████| 4/4 [00:00<00:00, 340.58it/s]\n",
      "rolling std for target_approx: 100%|██████████| 3/3 [00:00<00:00, 238.27it/s]\n"
     ]
    },
    {
     "name": "stdout",
     "output_type": "stream",
     "text": [
      "120 qps: 0.09407228032747904\n"
     ]
    },
    {
     "name": "stderr",
     "output_type": "stream",
     "text": [
      "rolling mean for wap_delta_return_6: 100%|██████████| 4/4 [00:00<00:00, 319.98it/s]\n",
      "rolling std for wap_delta_return_6: 100%|██████████| 3/3 [00:00<00:00, 245.10it/s]\n",
      "rolling mean for target_approx: 100%|██████████| 4/4 [00:00<00:00, 322.36it/s]\n",
      "rolling std for target_approx: 100%|██████████| 3/3 [00:00<00:00, 225.84it/s]\n",
      "rolling mean for wap_delta_return_6: 100%|██████████| 4/4 [00:00<00:00, 308.98it/s]\n",
      "rolling std for wap_delta_return_6: 100%|██████████| 3/3 [00:00<00:00, 232.27it/s]\n",
      "rolling mean for target_approx: 100%|██████████| 4/4 [00:00<00:00, 319.97it/s]\n",
      "rolling std for target_approx: 100%|██████████| 3/3 [00:00<00:00, 204.47it/s]\n",
      "rolling mean for wap_delta_return_6: 100%|██████████| 4/4 [00:00<00:00, 314.96it/s]\n",
      "rolling std for wap_delta_return_6: 100%|██████████| 3/3 [00:00<00:00, 237.54it/s]\n",
      "rolling mean for target_approx: 100%|██████████| 4/4 [00:00<00:00, 333.87it/s]\n",
      "rolling std for target_approx: 100%|██████████| 3/3 [00:00<00:00, 236.19it/s]\n",
      "rolling mean for wap_delta_return_6: 100%|██████████| 4/4 [00:00<00:00, 323.55it/s]\n",
      "rolling std for wap_delta_return_6: 100%|██████████| 3/3 [00:00<00:00, 237.66it/s]\n",
      "rolling mean for target_approx: 100%|██████████| 4/4 [00:00<00:00, 345.01it/s]\n",
      "rolling std for target_approx: 100%|██████████| 3/3 [00:00<00:00, 240.67it/s]\n",
      "rolling mean for wap_delta_return_6: 100%|██████████| 4/4 [00:00<00:00, 322.91it/s]\n",
      "rolling std for wap_delta_return_6: 100%|██████████| 3/3 [00:00<00:00, 245.71it/s]\n",
      "rolling mean for target_approx: 100%|██████████| 4/4 [00:00<00:00, 321.12it/s]\n",
      "rolling std for target_approx: 100%|██████████| 3/3 [00:00<00:00, 208.30it/s]\n",
      "rolling mean for wap_delta_return_6: 100%|██████████| 4/4 [00:00<00:00, 294.60it/s]\n",
      "rolling std for wap_delta_return_6: 100%|██████████| 3/3 [00:00<00:00, 231.96it/s]\n",
      "rolling mean for target_approx: 100%|██████████| 4/4 [00:00<00:00, 306.72it/s]\n",
      "rolling std for target_approx: 100%|██████████| 3/3 [00:00<00:00, 236.26it/s]\n",
      "rolling mean for wap_delta_return_6: 100%|██████████| 4/4 [00:00<00:00, 323.72it/s]\n",
      "rolling std for wap_delta_return_6: 100%|██████████| 3/3 [00:00<00:00, 230.06it/s]\n",
      "rolling mean for target_approx: 100%|██████████| 4/4 [00:00<00:00, 307.04it/s]\n",
      "rolling std for target_approx: 100%|██████████| 3/3 [00:00<00:00, 234.66it/s]\n",
      "rolling mean for wap_delta_return_6: 100%|██████████| 4/4 [00:00<00:00, 329.08it/s]\n",
      "rolling std for wap_delta_return_6: 100%|██████████| 3/3 [00:00<00:00, 229.28it/s]\n",
      "rolling mean for target_approx: 100%|██████████| 4/4 [00:00<00:00, 342.39it/s]\n",
      "rolling std for target_approx: 100%|██████████| 3/3 [00:00<00:00, 210.47it/s]\n",
      "rolling mean for wap_delta_return_6: 100%|██████████| 4/4 [00:00<00:00, 304.96it/s]\n",
      "rolling std for wap_delta_return_6: 100%|██████████| 3/3 [00:00<00:00, 219.50it/s]\n",
      "rolling mean for target_approx: 100%|██████████| 4/4 [00:00<00:00, 279.84it/s]\n",
      "rolling std for target_approx: 100%|██████████| 3/3 [00:00<00:00, 255.34it/s]\n",
      "rolling mean for wap_delta_return_6: 100%|██████████| 4/4 [00:00<00:00, 321.38it/s]\n",
      "rolling std for wap_delta_return_6: 100%|██████████| 3/3 [00:00<00:00, 247.85it/s]\n",
      "rolling mean for target_approx: 100%|██████████| 4/4 [00:00<00:00, 324.98it/s]\n",
      "rolling std for target_approx: 100%|██████████| 3/3 [00:00<00:00, 254.10it/s]\n"
     ]
    },
    {
     "name": "stdout",
     "output_type": "stream",
     "text": [
      "130 qps: 0.09406865743490365\n"
     ]
    },
    {
     "name": "stderr",
     "output_type": "stream",
     "text": [
      "rolling mean for wap_delta_return_6: 100%|██████████| 4/4 [00:00<00:00, 303.98it/s]\n",
      "rolling std for wap_delta_return_6: 100%|██████████| 3/3 [00:00<00:00, 237.88it/s]\n",
      "rolling mean for target_approx: 100%|██████████| 4/4 [00:00<00:00, 334.59it/s]\n",
      "rolling std for target_approx: 100%|██████████| 3/3 [00:00<00:00, 251.67it/s]\n",
      "rolling mean for wap_delta_return_6: 100%|██████████| 4/4 [00:00<00:00, 318.99it/s]\n",
      "rolling std for wap_delta_return_6: 100%|██████████| 3/3 [00:00<00:00, 233.81it/s]\n",
      "rolling mean for target_approx: 100%|██████████| 4/4 [00:00<00:00, 277.72it/s]\n",
      "rolling std for target_approx: 100%|██████████| 3/3 [00:00<00:00, 227.35it/s]\n",
      "rolling mean for wap_delta_return_6: 100%|██████████| 4/4 [00:00<00:00, 311.38it/s]\n",
      "rolling std for wap_delta_return_6: 100%|██████████| 3/3 [00:00<00:00, 208.26it/s]\n",
      "rolling mean for target_approx: 100%|██████████| 4/4 [00:00<00:00, 306.30it/s]\n",
      "rolling std for target_approx: 100%|██████████| 3/3 [00:00<00:00, 234.45it/s]\n",
      "rolling mean for wap_delta_return_6: 100%|██████████| 4/4 [00:00<00:00, 289.35it/s]\n",
      "rolling std for wap_delta_return_6: 100%|██████████| 3/3 [00:00<00:00, 232.34it/s]\n",
      "rolling mean for target_approx: 100%|██████████| 4/4 [00:00<00:00, 339.19it/s]\n",
      "rolling std for target_approx: 100%|██████████| 3/3 [00:00<00:00, 249.27it/s]\n",
      "rolling mean for wap_delta_return_6: 100%|██████████| 4/4 [00:00<00:00, 333.26it/s]\n",
      "rolling std for wap_delta_return_6: 100%|██████████| 3/3 [00:00<00:00, 252.51it/s]\n",
      "rolling mean for target_approx: 100%|██████████| 4/4 [00:00<00:00, 326.47it/s]\n",
      "rolling std for target_approx: 100%|██████████| 3/3 [00:00<00:00, 231.78it/s]\n",
      "rolling mean for wap_delta_return_6: 100%|██████████| 4/4 [00:00<00:00, 311.57it/s]\n",
      "rolling std for wap_delta_return_6: 100%|██████████| 3/3 [00:00<00:00, 242.96it/s]\n",
      "rolling mean for target_approx: 100%|██████████| 4/4 [00:00<00:00, 223.67it/s]\n",
      "rolling std for target_approx: 100%|██████████| 3/3 [00:00<00:00, 237.42it/s]\n",
      "rolling mean for wap_delta_return_6: 100%|██████████| 4/4 [00:00<00:00, 329.75it/s]\n",
      "rolling std for wap_delta_return_6: 100%|██████████| 3/3 [00:00<00:00, 247.22it/s]\n",
      "rolling mean for target_approx: 100%|██████████| 4/4 [00:00<00:00, 353.27it/s]\n",
      "rolling std for target_approx: 100%|██████████| 3/3 [00:00<00:00, 256.15it/s]\n",
      "rolling mean for wap_delta_return_6: 100%|██████████| 4/4 [00:00<00:00, 312.40it/s]\n",
      "rolling std for wap_delta_return_6: 100%|██████████| 3/3 [00:00<00:00, 250.82it/s]\n",
      "rolling mean for target_approx: 100%|██████████| 4/4 [00:00<00:00, 325.69it/s]\n",
      "rolling std for target_approx: 100%|██████████| 3/3 [00:00<00:00, 217.25it/s]\n",
      "rolling mean for wap_delta_return_6: 100%|██████████| 4/4 [00:00<00:00, 310.32it/s]\n",
      "rolling std for wap_delta_return_6: 100%|██████████| 3/3 [00:00<00:00, 244.11it/s]\n",
      "rolling mean for target_approx: 100%|██████████| 4/4 [00:00<00:00, 310.46it/s]\n",
      "rolling std for target_approx: 100%|██████████| 3/3 [00:00<00:00, 241.99it/s]\n",
      "rolling mean for wap_delta_return_6: 100%|██████████| 4/4 [00:00<00:00, 308.18it/s]\n",
      "rolling std for wap_delta_return_6: 100%|██████████| 3/3 [00:00<00:00, 245.35it/s]\n",
      "rolling mean for target_approx: 100%|██████████| 4/4 [00:00<00:00, 332.82it/s]\n",
      "rolling std for target_approx: 100%|██████████| 3/3 [00:00<00:00, 247.54it/s]\n"
     ]
    },
    {
     "name": "stdout",
     "output_type": "stream",
     "text": [
      "140 qps: 0.09409404311861311\n"
     ]
    },
    {
     "name": "stderr",
     "output_type": "stream",
     "text": [
      "rolling mean for wap_delta_return_6: 100%|██████████| 4/4 [00:00<00:00, 311.37it/s]\n",
      "rolling std for wap_delta_return_6: 100%|██████████| 3/3 [00:00<00:00, 234.52it/s]\n",
      "rolling mean for target_approx: 100%|██████████| 4/4 [00:00<00:00, 323.24it/s]\n",
      "rolling std for target_approx: 100%|██████████| 3/3 [00:00<00:00, 227.44it/s]\n",
      "rolling mean for wap_delta_return_6: 100%|██████████| 4/4 [00:00<00:00, 270.00it/s]\n",
      "rolling std for wap_delta_return_6: 100%|██████████| 3/3 [00:00<00:00, 244.42it/s]\n",
      "rolling mean for target_approx: 100%|██████████| 4/4 [00:00<00:00, 325.45it/s]\n",
      "rolling std for target_approx: 100%|██████████| 3/3 [00:00<00:00, 251.57it/s]\n",
      "rolling mean for wap_delta_return_6: 100%|██████████| 4/4 [00:00<00:00, 310.17it/s]\n",
      "rolling std for wap_delta_return_6: 100%|██████████| 3/3 [00:00<00:00, 222.90it/s]\n",
      "rolling mean for target_approx: 100%|██████████| 4/4 [00:00<00:00, 298.67it/s]\n",
      "rolling std for target_approx: 100%|██████████| 3/3 [00:00<00:00, 254.71it/s]\n",
      "rolling mean for wap_delta_return_6: 100%|██████████| 4/4 [00:00<00:00, 332.16it/s]\n",
      "rolling std for wap_delta_return_6: 100%|██████████| 3/3 [00:00<00:00, 252.58it/s]\n",
      "rolling mean for target_approx: 100%|██████████| 4/4 [00:00<00:00, 305.21it/s]\n",
      "rolling std for target_approx: 100%|██████████| 3/3 [00:00<00:00, 248.39it/s]\n",
      "rolling mean for wap_delta_return_6: 100%|██████████| 4/4 [00:00<00:00, 305.56it/s]\n",
      "rolling std for wap_delta_return_6: 100%|██████████| 3/3 [00:00<00:00, 255.76it/s]\n",
      "rolling mean for target_approx: 100%|██████████| 4/4 [00:00<00:00, 338.74it/s]\n",
      "rolling std for target_approx: 100%|██████████| 3/3 [00:00<00:00, 246.04it/s]\n",
      "rolling mean for wap_delta_return_6: 100%|██████████| 4/4 [00:00<00:00, 309.34it/s]\n",
      "rolling std for wap_delta_return_6: 100%|██████████| 3/3 [00:00<00:00, 238.30it/s]\n",
      "rolling mean for target_approx: 100%|██████████| 4/4 [00:00<00:00, 297.77it/s]\n",
      "rolling std for target_approx: 100%|██████████| 3/3 [00:00<00:00, 225.99it/s]\n",
      "rolling mean for wap_delta_return_6: 100%|██████████| 4/4 [00:00<00:00, 320.11it/s]\n",
      "rolling std for wap_delta_return_6: 100%|██████████| 3/3 [00:00<00:00, 240.13it/s]\n",
      "rolling mean for target_approx: 100%|██████████| 4/4 [00:00<00:00, 244.32it/s]\n",
      "rolling std for target_approx: 100%|██████████| 3/3 [00:00<00:00, 191.80it/s]\n",
      "rolling mean for wap_delta_return_6: 100%|██████████| 4/4 [00:00<00:00, 328.34it/s]\n",
      "rolling std for wap_delta_return_6: 100%|██████████| 3/3 [00:00<00:00, 252.72it/s]\n",
      "rolling mean for target_approx: 100%|██████████| 4/4 [00:00<00:00, 247.13it/s]\n",
      "rolling std for target_approx: 100%|██████████| 3/3 [00:00<00:00, 233.54it/s]\n",
      "rolling mean for wap_delta_return_6: 100%|██████████| 4/4 [00:00<00:00, 293.89it/s]\n",
      "rolling std for wap_delta_return_6: 100%|██████████| 3/3 [00:00<00:00, 228.02it/s]\n",
      "rolling mean for target_approx: 100%|██████████| 4/4 [00:00<00:00, 348.44it/s]\n",
      "rolling std for target_approx: 100%|██████████| 3/3 [00:00<00:00, 246.00it/s]\n",
      "rolling mean for wap_delta_return_6: 100%|██████████| 4/4 [00:00<00:00, 307.30it/s]\n",
      "rolling std for wap_delta_return_6: 100%|██████████| 3/3 [00:00<00:00, 238.96it/s]\n",
      "rolling mean for target_approx: 100%|██████████| 4/4 [00:00<00:00, 342.73it/s]\n",
      "rolling std for target_approx: 100%|██████████| 3/3 [00:00<00:00, 255.08it/s]\n"
     ]
    },
    {
     "name": "stdout",
     "output_type": "stream",
     "text": [
      "150 qps: 0.09422580242156982\n"
     ]
    },
    {
     "name": "stderr",
     "output_type": "stream",
     "text": [
      "rolling mean for wap_delta_return_6: 100%|██████████| 4/4 [00:00<00:00, 330.43it/s]\n",
      "rolling std for wap_delta_return_6: 100%|██████████| 3/3 [00:00<00:00, 246.49it/s]\n",
      "rolling mean for target_approx: 100%|██████████| 4/4 [00:00<00:00, 337.16it/s]\n",
      "rolling std for target_approx: 100%|██████████| 3/3 [00:00<00:00, 247.93it/s]\n",
      "rolling mean for wap_delta_return_6: 100%|██████████| 4/4 [00:00<00:00, 324.22it/s]\n",
      "rolling std for wap_delta_return_6: 100%|██████████| 3/3 [00:00<00:00, 252.59it/s]\n",
      "rolling mean for target_approx: 100%|██████████| 4/4 [00:00<00:00, 338.99it/s]\n",
      "rolling std for target_approx: 100%|██████████| 3/3 [00:00<00:00, 247.82it/s]\n",
      "rolling mean for wap_delta_return_6: 100%|██████████| 4/4 [00:00<00:00, 322.58it/s]\n",
      "rolling std for wap_delta_return_6: 100%|██████████| 3/3 [00:00<00:00, 242.45it/s]\n",
      "rolling mean for target_approx: 100%|██████████| 4/4 [00:00<00:00, 300.62it/s]\n",
      "rolling std for target_approx: 100%|██████████| 3/3 [00:00<00:00, 227.80it/s]\n",
      "rolling mean for wap_delta_return_6: 100%|██████████| 4/4 [00:00<00:00, 292.67it/s]\n",
      "rolling std for wap_delta_return_6: 100%|██████████| 3/3 [00:00<00:00, 218.58it/s]\n",
      "rolling mean for target_approx: 100%|██████████| 4/4 [00:00<00:00, 265.00it/s]\n",
      "rolling std for target_approx: 100%|██████████| 3/3 [00:00<00:00, 213.54it/s]\n",
      "rolling mean for wap_delta_return_6: 100%|██████████| 4/4 [00:00<00:00, 283.03it/s]\n",
      "rolling std for wap_delta_return_6: 100%|██████████| 3/3 [00:00<00:00, 219.04it/s]\n",
      "rolling mean for target_approx: 100%|██████████| 4/4 [00:00<00:00, 300.20it/s]\n",
      "rolling std for target_approx: 100%|██████████| 3/3 [00:00<00:00, 217.45it/s]\n",
      "rolling mean for wap_delta_return_6: 100%|██████████| 4/4 [00:00<00:00, 333.07it/s]\n",
      "rolling std for wap_delta_return_6: 100%|██████████| 3/3 [00:00<00:00, 248.96it/s]\n",
      "rolling mean for target_approx: 100%|██████████| 4/4 [00:00<00:00, 316.29it/s]\n",
      "rolling std for target_approx: 100%|██████████| 3/3 [00:00<00:00, 244.44it/s]\n",
      "rolling mean for wap_delta_return_6: 100%|██████████| 4/4 [00:00<00:00, 309.67it/s]\n",
      "rolling std for wap_delta_return_6: 100%|██████████| 3/3 [00:00<00:00, 245.08it/s]\n",
      "rolling mean for target_approx: 100%|██████████| 4/4 [00:00<00:00, 343.18it/s]\n",
      "rolling std for target_approx: 100%|██████████| 3/3 [00:00<00:00, 247.30it/s]\n",
      "rolling mean for wap_delta_return_6: 100%|██████████| 4/4 [00:00<00:00, 332.89it/s]\n",
      "rolling std for wap_delta_return_6: 100%|██████████| 3/3 [00:00<00:00, 250.04it/s]\n",
      "rolling mean for target_approx: 100%|██████████| 4/4 [00:00<00:00, 335.46it/s]\n",
      "rolling std for target_approx: 100%|██████████| 3/3 [00:00<00:00, 224.89it/s]\n",
      "rolling mean for wap_delta_return_6: 100%|██████████| 4/4 [00:00<00:00, 329.32it/s]\n",
      "rolling std for wap_delta_return_6: 100%|██████████| 3/3 [00:00<00:00, 245.54it/s]\n",
      "rolling mean for target_approx: 100%|██████████| 4/4 [00:00<00:00, 338.68it/s]\n",
      "rolling std for target_approx: 100%|██████████| 3/3 [00:00<00:00, 248.63it/s]\n",
      "rolling mean for wap_delta_return_6: 100%|██████████| 4/4 [00:00<00:00, 321.61it/s]\n",
      "rolling std for wap_delta_return_6: 100%|██████████| 3/3 [00:00<00:00, 226.60it/s]\n",
      "rolling mean for target_approx: 100%|██████████| 4/4 [00:00<00:00, 276.90it/s]\n",
      "rolling std for target_approx: 100%|██████████| 3/3 [00:00<00:00, 234.34it/s]\n"
     ]
    },
    {
     "name": "stdout",
     "output_type": "stream",
     "text": [
      "160 qps: 0.09425586313009263\n"
     ]
    },
    {
     "name": "stderr",
     "output_type": "stream",
     "text": [
      "rolling mean for wap_delta_return_6: 100%|██████████| 4/4 [00:00<00:00, 283.48it/s]\n",
      "rolling std for wap_delta_return_6: 100%|██████████| 3/3 [00:00<00:00, 221.64it/s]\n",
      "rolling mean for target_approx: 100%|██████████| 4/4 [00:00<00:00, 286.70it/s]\n",
      "rolling std for target_approx: 100%|██████████| 3/3 [00:00<00:00, 233.35it/s]\n",
      "rolling mean for wap_delta_return_6: 100%|██████████| 4/4 [00:00<00:00, 301.93it/s]\n",
      "rolling std for wap_delta_return_6: 100%|██████████| 3/3 [00:00<00:00, 208.92it/s]\n",
      "rolling mean for target_approx: 100%|██████████| 4/4 [00:00<00:00, 325.00it/s]\n",
      "rolling std for target_approx: 100%|██████████| 3/3 [00:00<00:00, 216.79it/s]\n",
      "rolling mean for wap_delta_return_6: 100%|██████████| 4/4 [00:00<00:00, 308.06it/s]\n",
      "rolling std for wap_delta_return_6: 100%|██████████| 3/3 [00:00<00:00, 238.08it/s]\n",
      "rolling mean for target_approx: 100%|██████████| 4/4 [00:00<00:00, 318.78it/s]\n",
      "rolling std for target_approx: 100%|██████████| 3/3 [00:00<00:00, 244.73it/s]\n",
      "rolling mean for wap_delta_return_6: 100%|██████████| 4/4 [00:00<00:00, 308.06it/s]\n",
      "rolling std for wap_delta_return_6: 100%|██████████| 3/3 [00:00<00:00, 231.92it/s]\n",
      "rolling mean for target_approx: 100%|██████████| 4/4 [00:00<00:00, 261.12it/s]\n",
      "rolling std for target_approx: 100%|██████████| 3/3 [00:00<00:00, 190.56it/s]\n",
      "rolling mean for wap_delta_return_6: 100%|██████████| 4/4 [00:00<00:00, 204.37it/s]\n",
      "rolling std for wap_delta_return_6: 100%|██████████| 3/3 [00:00<00:00, 184.01it/s]\n",
      "rolling mean for target_approx: 100%|██████████| 4/4 [00:00<00:00, 296.52it/s]\n",
      "rolling std for target_approx: 100%|██████████| 3/3 [00:00<00:00, 254.08it/s]\n"
     ]
    },
    {
     "name": "stdout",
     "output_type": "stream",
     "text": [
      "The code will take approximately 0.1083 hours to reason about\n"
     ]
    }
   ],
   "source": [
    "def zero_sum(prices, volumes):\n",
    "    std_error = np.sqrt(volumes)\n",
    "    step = np.sum(prices) / np.sum(std_error)\n",
    "    out = prices - std_error * step\n",
    "    return out\n",
    "\n",
    "\n",
    "import optiver2023\n",
    "\n",
    "env = optiver2023.make_env()\n",
    "iter_test = env.iter_test()\n",
    "counter = 0\n",
    "y_min, y_max = -64, 64\n",
    "qps, predictions = [], []\n",
    "cache = pd.DataFrame()\n",
    "\n",
    "for test, revealed_targets, sample_prediction in iter_test:\n",
    "    now_time = time.time()\n",
    "\n",
    "    test[\"time_id\"] = counter\n",
    "\n",
    "    cache = pd.concat([cache, test], ignore_index=True, axis=0)\n",
    "    if counter > 0:\n",
    "        cache = (\n",
    "            cache.groupby([\"stock_id\"])\n",
    "            .tail(21)\n",
    "            .sort_values(by=[\"date_id\", \"seconds_in_bucket\", \"stock_id\"])\n",
    "            .reset_index(drop=True)\n",
    "        )\n",
    "\n",
    "    feat = feat_engineering(cache)[-len(test) :]\n",
    "\n",
    "    # added after new API, reference: https://www.kaggle.com/competitions/optiver-trading-at-the-close/discussion/455690#2526672\n",
    "    if test.currently_scored.iloc[0] == False:\n",
    "        sample_prediction[\"target\"] = 0\n",
    "        env.predict(sample_prediction)\n",
    "        counter += 1\n",
    "        qps.append(time.time() - now_time)\n",
    "        if counter % 10 == 0:\n",
    "            print(counter, \"qps:\", np.mean(qps))\n",
    "        continue\n",
    "\n",
    "    # feat = feat.drop(columns = [\"currently_scored\"])\n",
    "    # end of new codes for new API\n",
    "\n",
    "    # Generate predictions for each model and calculate the weighted average\n",
    "\n",
    "    list_cols_drop = [\"date_id\"]\n",
    "    feat.drop(list_cols_drop, axis=1, inplace=True)\n",
    "\n",
    "    list_features = model_prod.models[0].feature_name_\n",
    "    feat = feat[list_features]\n",
    "    lgb_predictions = model_prod.predict(feat, \"mean\")\n",
    "\n",
    "    lgb_predictions = zero_sum(lgb_predictions, test[\"bid_size\"] + test[\"ask_size\"])\n",
    "    clipped_predictions = np.clip(lgb_predictions, y_min, y_max)\n",
    "    sample_prediction[\"target\"] = clipped_predictions\n",
    "    env.predict(sample_prediction)\n",
    "    counter += 1\n",
    "    qps.append(time.time() - now_time)\n",
    "    if counter % 10 == 0:\n",
    "        print(counter, \"qps:\", np.mean(qps))\n",
    "\n",
    "time_cost = 1.146 * np.mean(qps)\n",
    "print(\n",
    "    f\"The code will take approximately {np.round(time_cost, 4)} hours to reason about\"\n",
    ")"
   ]
  },
  {
   "cell_type": "code",
   "execution_count": 19,
   "id": "b6e929b3",
   "metadata": {
    "execution": {
     "iopub.execute_input": "2023-11-30T19:48:28.740748Z",
     "iopub.status.busy": "2023-11-30T19:48:28.740377Z",
     "iopub.status.idle": "2023-11-30T19:48:28.746537Z",
     "shell.execute_reply": "2023-11-30T19:48:28.745412Z"
    },
    "papermill": {
     "duration": 0.208867,
     "end_time": "2023-11-30T19:48:28.748903",
     "exception": false,
     "start_time": "2023-11-30T19:48:28.540036",
     "status": "completed"
    },
    "tags": []
   },
   "outputs": [],
   "source": [
    "# clean_directory_except_one('/kaggle/working/','submission.csv')"
   ]
  },
  {
   "cell_type": "code",
   "execution_count": null,
   "id": "29042238",
   "metadata": {
    "papermill": {
     "duration": 0.201285,
     "end_time": "2023-11-30T19:48:29.149259",
     "exception": false,
     "start_time": "2023-11-30T19:48:28.947974",
     "status": "completed"
    },
    "tags": []
   },
   "outputs": [],
   "source": []
  },
  {
   "cell_type": "code",
   "execution_count": null,
   "id": "1e67daf4",
   "metadata": {
    "papermill": {
     "duration": 0.195853,
     "end_time": "2023-11-30T19:48:29.547016",
     "exception": false,
     "start_time": "2023-11-30T19:48:29.351163",
     "status": "completed"
    },
    "tags": []
   },
   "outputs": [],
   "source": []
  },
  {
   "cell_type": "code",
   "execution_count": null,
   "id": "8c91de48",
   "metadata": {
    "papermill": {
     "duration": 0.19785,
     "end_time": "2023-11-30T19:48:29.940622",
     "exception": false,
     "start_time": "2023-11-30T19:48:29.742772",
     "status": "completed"
    },
    "tags": []
   },
   "outputs": [],
   "source": []
  },
  {
   "cell_type": "code",
   "execution_count": null,
   "id": "26e10f2b",
   "metadata": {
    "papermill": {
     "duration": 0.204438,
     "end_time": "2023-11-30T19:48:30.344737",
     "exception": false,
     "start_time": "2023-11-30T19:48:30.140299",
     "status": "completed"
    },
    "tags": []
   },
   "outputs": [],
   "source": []
  },
  {
   "cell_type": "code",
   "execution_count": null,
   "id": "bf80b070",
   "metadata": {
    "papermill": {
     "duration": 0.195153,
     "end_time": "2023-11-30T19:48:30.737843",
     "exception": false,
     "start_time": "2023-11-30T19:48:30.542690",
     "status": "completed"
    },
    "tags": []
   },
   "outputs": [],
   "source": []
  },
  {
   "cell_type": "code",
   "execution_count": null,
   "id": "f43e596d",
   "metadata": {
    "papermill": {
     "duration": 0.199124,
     "end_time": "2023-11-30T19:48:31.138629",
     "exception": false,
     "start_time": "2023-11-30T19:48:30.939505",
     "status": "completed"
    },
    "tags": []
   },
   "outputs": [],
   "source": []
  },
  {
   "cell_type": "code",
   "execution_count": null,
   "id": "33962647",
   "metadata": {
    "papermill": {
     "duration": 0.199343,
     "end_time": "2023-11-30T19:48:31.543041",
     "exception": false,
     "start_time": "2023-11-30T19:48:31.343698",
     "status": "completed"
    },
    "tags": []
   },
   "outputs": [],
   "source": []
  }
 ],
 "metadata": {
  "kaggle": {
   "accelerator": "none",
   "dataSources": [
    {
     "databundleVersionId": 7056235,
     "sourceId": 57891,
     "sourceType": "competition"
    },
    {
     "datasetId": 4019630,
     "sourceId": 6993423,
     "sourceType": "datasetVersion"
    },
    {
     "datasetId": 4030277,
     "sourceId": 7010040,
     "sourceType": "datasetVersion"
    },
    {
     "datasetId": 4088048,
     "sourceId": 7093540,
     "sourceType": "datasetVersion"
    },
    {
     "sourceId": 150406473,
     "sourceType": "kernelVersion"
    },
    {
     "sourceId": 150406565,
     "sourceType": "kernelVersion"
    },
    {
     "sourceId": 150406696,
     "sourceType": "kernelVersion"
    },
    {
     "sourceId": 150407056,
     "sourceType": "kernelVersion"
    },
    {
     "sourceId": 150412552,
     "sourceType": "kernelVersion"
    },
    {
     "sourceId": 150429530,
     "sourceType": "kernelVersion"
    },
    {
     "sourceId": 151165317,
     "sourceType": "kernelVersion"
    },
    {
     "sourceId": 151165495,
     "sourceType": "kernelVersion"
    }
   ],
   "isGpuEnabled": false,
   "isInternetEnabled": false,
   "language": "python",
   "sourceType": "notebook"
  },
  "kernelspec": {
   "display_name": "Python 3",
   "language": "python",
   "name": "python3"
  },
  "language_info": {
   "codemirror_mode": {
    "name": "ipython",
    "version": 3
   },
   "file_extension": ".py",
   "mimetype": "text/x-python",
   "name": "python",
   "nbconvert_exporter": "python",
   "pygments_lexer": "ipython3",
   "version": "3.10.12"
  },
  "papermill": {
   "default_parameters": {},
   "duration": 33.100569,
   "end_time": "2023-11-30T19:48:32.671135",
   "environment_variables": {},
   "exception": null,
   "input_path": "__notebook__.ipynb",
   "output_path": "__notebook__.ipynb",
   "parameters": {},
   "start_time": "2023-11-30T19:47:59.570566",
   "version": "2.4.0"
  }
 },
 "nbformat": 4,
 "nbformat_minor": 5
}
