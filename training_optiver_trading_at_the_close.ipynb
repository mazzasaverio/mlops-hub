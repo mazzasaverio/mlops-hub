{
 "cells": [
  {
   "cell_type": "code",
   "execution_count": 9,
   "metadata": {},
   "outputs": [
    {
     "name": "stdout",
     "output_type": "stream",
     "text": [
      "The autoreload extension is already loaded. To reload it, use:\n",
      "  %reload_ext autoreload\n"
     ]
    },
    {
     "data": {
      "text/plain": [
       "True"
      ]
     },
     "execution_count": 9,
     "metadata": {},
     "output_type": "execute_result"
    }
   ],
   "source": [
    "# Built-in modules\n",
    "import os\n",
    "import warnings\n",
    "from tqdm import tqdm \n",
    "\n",
    "# External modules\n",
    "import pandas as pd\n",
    "from dotenv import load_dotenv\n",
    "\n",
    "# Custom modules\n",
    "from src.utils.utils_kaggle import get_data\n",
    "from src.utils.utils_general import get_project_directory, load_config\n",
    "from src.experiments.mlflow_optuna_init import initialize_mlflow, initialize_optuna\n",
    "from src.validation.cv_setup import initialize_cv_method\n",
    "from src.experiments.optuna_objective import objective\n",
    "\n",
    "# Suppress warnings\n",
    "warnings.filterwarnings('ignore', category=FutureWarning)\n",
    "warnings.filterwarnings('ignore', category=UserWarning)\n",
    "\n",
    "# Auto-reload modules\n",
    "%load_ext autoreload\n",
    "%autoreload 2\n",
    "\n",
    "load_dotenv()"
   ]
  },
  {
   "cell_type": "code",
   "execution_count": 2,
   "metadata": {},
   "outputs": [],
   "source": [
    "path_project_directory = get_project_directory()"
   ]
  },
  {
   "cell_type": "code",
   "execution_count": 3,
   "metadata": {},
   "outputs": [
    {
     "name": "stderr",
     "output_type": "stream",
     "text": [
      "2023/10/21 08:50:04 INFO mlflow.tracking.fluent: Experiment with name 'Default_Experiment' does not exist. Creating a new experiment.\n"
     ]
    },
    {
     "name": "stdout",
     "output_type": "stream",
     "text": [
      "Warning: Your Kaggle API key is readable by other users on this system! To fix this, you can run 'chmod 600 /home/sam/.kaggle/kaggle.json'\n",
      "Kaggle package is already installed.\n",
      "Directory /home/sam/github/mlops-hub/data/kaggle_optiver_trading_at_the_close already exists.\n",
      "File XTrIntCmpNewFtre.parquet already exists. Skipping download.\n"
     ]
    },
    {
     "name": "stderr",
     "output_type": "stream",
     "text": [
      "[I 2023-10-21 08:50:04,746] A new study created in RDB with name: Default_Study_Name\n"
     ]
    }
   ],
   "source": [
    "# Load configuration\n",
    "config_path = os.path.join(path_project_directory, \"config/train_config.yaml\")\n",
    "config = load_config(config_path)\n",
    "\n",
    "# Define paths\n",
    "dataset_path = os.path.join(\n",
    "    path_project_directory, \"data/processed/synthetic_ticker_data.csv\"\n",
    ")\n",
    "path_experiments_storage = os.path.join(\n",
    "    path_project_directory, \"data/experiments_storage\"\n",
    ")\n",
    "\n",
    "# Kaggle dataset parameters\n",
    "kaggle_json_path = \"/home/sam/github/kaggle.json\"\n",
    "dest_folder = \"/home/sam/github/mlops-hub/data/kaggle_optiver_trading_at_the_close\"\n",
    "dataset_name = \"ravi20076/optiver-memoryreduceddatasets\"\n",
    "specific_file = \"XTrIntCmpNewFtre.parquet\"\n",
    "\n",
    "# Download data from Kaggle\n",
    "get_data(\n",
    "    kaggle_json_path,\n",
    "    dest_folder,\n",
    "    dataset_name=dataset_name,\n",
    "    specific_file=specific_file,\n",
    ")\n",
    "\n",
    "# Initialize MLFlow and Optuna\n",
    "initialize_mlflow(path_experiments_storage, config)\n",
    "study = initialize_optuna(path_experiments_storage, config)"
   ]
  },
  {
   "cell_type": "code",
   "execution_count": 5,
   "metadata": {},
   "outputs": [],
   "source": [
    "# testing\n",
    "debug = True\n",
    "testing_sample = 1000"
   ]
  },
  {
   "cell_type": "code",
   "execution_count": 8,
   "metadata": {},
   "outputs": [
    {
     "name": "stdout",
     "output_type": "stream",
     "text": [
      "X:(1000, 52), y:1000\n",
      "CPU times: user 3.02 s, sys: 2.33 s, total: 5.35 s\n",
      "Wall time: 1.74 s\n"
     ]
    }
   ],
   "source": [
    "%%time \n",
    "if debug:\n",
    "    X = pd.read_parquet(path_project_directory + 'data/kaggle_optiver_trading_at_the_close/XTrIntCmpNewFtre.parquet').sample(n = testing_sample)\n",
    "else:\n",
    "    X = pd.read_parquet(path_project_directory + 'data/kaggle_optiver_trading_at_the_close/XTrIntCmpNewFtre.parquet')\n",
    "    \n",
    "y = pd.read_parquet(path_project_directory + \"data/kaggle_optiver_trading_at_the_close/Ytrain.parquet\").loc[X.index].squeeze()\n",
    "X.index, y.index = range(len(X)), range(len(y))\n",
    "print(f\"X:{X.shape}, y:{y.shape[0]}\")"
   ]
  },
  {
   "cell_type": "code",
   "execution_count": 21,
   "metadata": {},
   "outputs": [],
   "source": [
    "n_splits = 3\n",
    "n_test_splits = 1\n",
    "embargo_td = 100\n",
    "\n",
    "state = 42\n",
    "\n",
    "cv_mthd = \"KF\"  # \"KF\" or \"PurgedKF\"\n",
    "n_repeats = 1"
   ]
  },
  {
   "cell_type": "code",
   "execution_count": 22,
   "metadata": {},
   "outputs": [],
   "source": [
    "from src.validation.model_validation import CombPurgedKFoldCV\n",
    "from sklearn.model_selection import (\n",
    "    KFold,\n",
    ")"
   ]
  },
  {
   "cell_type": "code",
   "execution_count": 23,
   "metadata": {},
   "outputs": [],
   "source": [
    "all_cv = {\"KF\": KFold(n_splits=n_splits, shuffle=True, random_state=state)}"
   ]
  },
  {
   "cell_type": "code",
   "execution_count": 24,
   "metadata": {},
   "outputs": [],
   "source": []
  },
  {
   "cell_type": "code",
   "execution_count": null,
   "metadata": {},
   "outputs": [],
   "source": [
    "for fold_nb, (train_idx, dev_idx) in tqdm(\n",
    "    enumerate(cv.split(X, y)), f\"{cv_mthd} CV {n_splits}x{n_repeats}\"\n",
    "):\n",
    "    # Creating the cv folds:-\n",
    "    Xtr = X.iloc[train_idx]\n",
    "    Xdev = X.iloc[dev_idx]\n",
    "    ytr = y.iloc[train_idx]\n",
    "    ydev = y.iloc[dev_idx]\n",
    "\n",
    "    print(f\"Fold {fold_nb} - Train: {Xtr.shape}, Dev: {Xdev.shape}\")"
   ]
  },
  {
   "cell_type": "code",
   "execution_count": null,
   "metadata": {},
   "outputs": [],
   "source": []
  },
  {
   "cell_type": "code",
   "execution_count": 16,
   "metadata": {},
   "outputs": [],
   "source": [
    "cv = CombPurgedKFoldCV(\n",
    "    n_splits=n_splits, n_test_splits=n_test_splits, embargo_td=embargo_td\n",
    ")"
   ]
  },
  {
   "cell_type": "code",
   "execution_count": 17,
   "metadata": {},
   "outputs": [
    {
     "data": {
      "text/plain": [
       "<generator object CombPurgedKFoldCV.split at 0x7f33a8512650>"
      ]
     },
     "execution_count": 17,
     "metadata": {},
     "output_type": "execute_result"
    }
   ],
   "source": [
    "cv.split(X, y)"
   ]
  },
  {
   "cell_type": "code",
   "execution_count": null,
   "metadata": {},
   "outputs": [],
   "source": []
  }
 ],
 "metadata": {
  "kernelspec": {
   "display_name": "training",
   "language": "python",
   "name": "python3"
  },
  "language_info": {
   "codemirror_mode": {
    "name": "ipython",
    "version": 3
   },
   "file_extension": ".py",
   "mimetype": "text/x-python",
   "name": "python",
   "nbconvert_exporter": "python",
   "pygments_lexer": "ipython3",
   "version": "3.10.13"
  }
 },
 "nbformat": 4,
 "nbformat_minor": 2
}
