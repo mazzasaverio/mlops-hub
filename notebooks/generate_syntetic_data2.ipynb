{
 "cells": [
  {
   "cell_type": "code",
   "execution_count": 1,
   "metadata": {},
   "outputs": [
    {
     "name": "stderr",
     "output_type": "stream",
     "text": [
      "/tmp/ipykernel_49973/3977533745.py:38: FutureWarning: The behavior of DataFrame concatenation with empty or all-NA entries is deprecated. In a future version, this will no longer exclude empty or all-NA columns when determining the result dtypes. To retain the old behavior, exclude the relevant entries before the concat operation.\n",
      "  data = pd.concat([data, ticker_data], ignore_index=True)\n"
     ]
    }
   ],
   "source": [
    "import pandas as pd\n",
    "import numpy as np\n",
    "from datetime import datetime\n",
    "\n",
    "# List of tickers\n",
    "tickers = ['AAPL', 'GOOGL', 'AMZN', 'MSFT', 'TSLA']\n",
    "\n",
    "# Generate random datetime index (for example, one year of daily data)\n",
    "date_start = datetime(2020, 1, 1)\n",
    "date_end = datetime(2020, 12, 31)\n",
    "date_range = pd.date_range(date_start, date_end, freq='D')\n",
    "\n",
    "# Initialize empty DataFrame to hold synthetic data\n",
    "columns = ['ticker', 'datetime'] + [f'feature_{i}' for i in range(5)] + ['target']\n",
    "data = pd.DataFrame(columns=columns)\n",
    "\n",
    "# Populate DataFrame with synthetic data for each ticker\n",
    "for ticker in tickers:\n",
    "    n = len(date_range)\n",
    "    \n",
    "    # Generate features and target variable\n",
    "    features = np.random.rand(n, 5)\n",
    "    target = np.random.choice([-1, 0, 1], size=n)\n",
    "    \n",
    "    # Create a DataFrame for the current ticker\n",
    "    ticker_data = pd.DataFrame({\n",
    "        'ticker': [ticker]*n,\n",
    "        'datetime': date_range,\n",
    "        'feature_0': features[:, 0],\n",
    "        'feature_1': features[:, 1],\n",
    "        'feature_2': features[:, 2],\n",
    "        'feature_3': features[:, 3],\n",
    "        'feature_4': features[:, 4],\n",
    "        'target': target\n",
    "    })\n",
    "    \n",
    "    # Append to the main DataFrame\n",
    "    data = pd.concat([data, ticker_data], ignore_index=True)\n"
   ]
  },
  {
   "cell_type": "code",
   "execution_count": 4,
   "metadata": {},
   "outputs": [],
   "source": [
    "data.to_csv('/home/sam/github/finance-data-driven/data/processed/synthetic_ticker_data.csv', index=False)"
   ]
  },
  {
   "cell_type": "code",
   "execution_count": null,
   "metadata": {},
   "outputs": [],
   "source": []
  },
  {
   "cell_type": "code",
   "execution_count": null,
   "metadata": {},
   "outputs": [],
   "source": []
  }
 ],
 "metadata": {
  "kernelspec": {
   "display_name": "obb",
   "language": "python",
   "name": "python3"
  },
  "language_info": {
   "codemirror_mode": {
    "name": "ipython",
    "version": 3
   },
   "file_extension": ".py",
   "mimetype": "text/x-python",
   "name": "python",
   "nbconvert_exporter": "python",
   "pygments_lexer": "ipython3",
   "version": "3.10.13"
  },
  "orig_nbformat": 4
 },
 "nbformat": 4,
 "nbformat_minor": 2
}
