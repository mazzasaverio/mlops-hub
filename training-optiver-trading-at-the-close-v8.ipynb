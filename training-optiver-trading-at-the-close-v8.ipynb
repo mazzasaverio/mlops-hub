{
 "cells": [
  {
   "cell_type": "code",
   "execution_count": 1,
   "id": "cf3614de",
   "metadata": {
    "execution": {
     "iopub.execute_input": "2023-11-12T16:06:35.208367Z",
     "iopub.status.busy": "2023-11-12T16:06:35.207615Z",
     "iopub.status.idle": "2023-11-12T16:06:35.925277Z",
     "shell.execute_reply": "2023-11-12T16:06:35.924159Z"
    },
    "papermill": {
     "duration": 0.733537,
     "end_time": "2023-11-12T16:06:35.928461",
     "exception": false,
     "start_time": "2023-11-12T16:06:35.194924",
     "status": "completed"
    },
    "tags": []
   },
   "outputs": [],
   "source": [
    "# Constants and Configuration Variables\n",
    "DEBUG = False\n",
    "TRAIN = False\n",
    "TUNING = False\n",
    "OVERWRITE_PROCESSED_DATA = True\n",
    "N_TRIALS = 2\n",
    "STATE = 42\n",
    "\n",
    "\n",
    "N_SPLITS = 5\n",
    "N_TEST_SPLITS = 1\n",
    "N_PURGE = 6\n",
    "N_EMBARGO = 6\n",
    "\n",
    "\n",
    "VERSION_NB = 6\n",
    "EXPERIMENT_PURPOSE = \"optiver_trading_at_the_close\"\n",
    "\n",
    "\n",
    "# RECORD ENSAMBLE MODEL\n",
    "model_paths = [\n",
    "    \"s3://mlflow-v1/kaggle_optiver_trading_at_the_close/d60d3f6cb2ae4e12af4414bd87c2f1f8/artifacts/LGBMR_0_20231112_010902/model.pkl\",\n",
    "    \"s3://mlflow-v1/kaggle_optiver_trading_at_the_close/2df0a094697247c08d7f8cd15f491684/artifacts/LGBMR_0_20231112_004637/model.pkl\",\n",
    "    \"s3://mlflow-v1/kaggle_optiver_trading_at_the_close/6891e5cf212b46fbb1bbe7ef611b875e/artifacts/LGBMR_0_20231112_002442/model.pkl\",\n",
    "    \"s3://mlflow-v1/kaggle_optiver_trading_at_the_close/ff61f916a31143468b73932e430aadc8/artifacts/LGBMR_0_20231112_000222/model.pkl\",\n",
    "    \"s3://mlflow-v1/kaggle_optiver_trading_at_the_close/bef29681919f455088555bc1a92206e0/artifacts/LGBMR_0_20231111_234007/model.pkl\",\n",
    "]\n",
    "\n",
    "# Define the model name for registration in MLflow\n",
    "model_name = \"YourEnsembleModelName\"\n",
    "folder_model = 'models-v2'\n",
    "model_name_artifict = \"ensemble_model.pkl\"\n",
    "\n",
    "# External general-purpose modules\n",
    "import gc\n",
    "import sys\n",
    "import os\n",
    "import itertools as itt\n",
    "from itertools import combinations, product\n",
    "from datetime import datetime\n",
    "import numpy as np\n",
    "import pandas as pd\n",
    "import polars as pl\n",
    "import joblib\n",
    "from pathlib import Path\n",
    "import warnings\n",
    "\n",
    "\n",
    "from dotenv import load_dotenv\n",
    "\n",
    "# Setting pandas options and warning filters\n",
    "pd.set_option(\"display.max_columns\", None)\n",
    "warnings.filterwarnings(\"ignore\")\n",
    "warnings.simplefilter(action=\"ignore\", category=pd.errors.PerformanceWarning)\n",
    "\n",
    "# Load environment variables\n",
    "load_dotenv()\n",
    "path_root_project = Path.cwd()\n",
    "if path_root_project.name not in [\"working\", \"content\"]:\n",
    "    path_root_project = Path(os.getenv(\"ROOT_PATH\") or path_root_project)\n",
    "\n",
    "    directories_to_add = [\"utils\", \"feat_engineering\", \"validation\"]\n",
    "    for directory in directories_to_add:\n",
    "        sys.path.append(str(path_root_project / \"src\" / directory))"
   ]
  },
  {
   "cell_type": "code",
   "execution_count": 2,
   "id": "5e30faae",
   "metadata": {
    "execution": {
     "iopub.execute_input": "2023-11-12T16:06:35.952096Z",
     "iopub.status.busy": "2023-11-12T16:06:35.951571Z",
     "iopub.status.idle": "2023-11-12T16:06:37.421459Z",
     "shell.execute_reply": "2023-11-12T16:06:37.420353Z"
    },
    "papermill": {
     "duration": 1.485335,
     "end_time": "2023-11-12T16:06:37.424433",
     "exception": false,
     "start_time": "2023-11-12T16:06:35.939098",
     "status": "completed"
    },
    "tags": []
   },
   "outputs": [],
   "source": [
    "from utils_training import create_model, experiments_data\n",
    "from utils_data import load_config, load_dataset, reduce_mem_usage, PathManager\n",
    "from utils_kaggle import (\n",
    "    setup_kaggle,\n",
    "    download_data,\n",
    "    get_data,\n",
    "    clean_directory_except_one,\n",
    ")\n",
    "\n",
    "from fe_optiver_trading_at_the_close import calculate_triplet_imbalance_numba, compute_triplet_imbalance, convert_weights_to_dict, global_stock_id_feats\n",
    "\n"
   ]
  },
  {
   "cell_type": "code",
   "execution_count": 3,
   "id": "c7770a3d",
   "metadata": {
    "execution": {
     "iopub.execute_input": "2023-11-12T16:06:37.446283Z",
     "iopub.status.busy": "2023-11-12T16:06:37.445914Z",
     "iopub.status.idle": "2023-11-12T16:06:37.451070Z",
     "shell.execute_reply": "2023-11-12T16:06:37.449794Z"
    },
    "papermill": {
     "duration": 0.019032,
     "end_time": "2023-11-12T16:06:37.453488",
     "exception": false,
     "start_time": "2023-11-12T16:06:37.434456",
     "status": "completed"
    },
    "tags": []
   },
   "outputs": [],
   "source": [
    "pm = PathManager(path_root_project)"
   ]
  },
  {
   "cell_type": "code",
   "execution_count": 4,
   "id": "f23ad6a3",
   "metadata": {
    "execution": {
     "iopub.execute_input": "2023-11-12T16:06:37.475298Z",
     "iopub.status.busy": "2023-11-12T16:06:37.474776Z",
     "iopub.status.idle": "2023-11-12T16:06:40.456129Z",
     "shell.execute_reply": "2023-11-12T16:06:40.454356Z"
    },
    "papermill": {
     "duration": 2.997417,
     "end_time": "2023-11-12T16:06:40.460653",
     "exception": false,
     "start_time": "2023-11-12T16:06:37.463236",
     "status": "completed"
    },
    "tags": []
   },
   "outputs": [],
   "source": [
    "model_prod = joblib.load(pm.path_model_production / folder_model / model_name_artifict)"
   ]
  },
  {
   "cell_type": "code",
   "execution_count": 5,
   "id": "4d7ba74c",
   "metadata": {
    "execution": {
     "iopub.execute_input": "2023-11-12T16:06:40.487105Z",
     "iopub.status.busy": "2023-11-12T16:06:40.486691Z",
     "iopub.status.idle": "2023-11-12T16:06:40.512303Z",
     "shell.execute_reply": "2023-11-12T16:06:40.510982Z"
    },
    "papermill": {
     "duration": 0.041364,
     "end_time": "2023-11-12T16:06:40.515403",
     "exception": false,
     "start_time": "2023-11-12T16:06:40.474039",
     "status": "completed"
    },
    "tags": []
   },
   "outputs": [],
   "source": [
    "\n",
    "\n",
    "# Conditional imports and settings based on TRAIN constant\n",
    "if TRAIN:\n",
    "    if pm.path_root_project.name == \"working\":\n",
    "        !pip install loguru mlflow optuna > /dev/null\n",
    "\n",
    "        from kaggle_secrets import UserSecretsClient\n",
    "        user_secrets = UserSecretsClient()\n",
    "        aws_access_key_id = user_secrets.get_secret(\"AWS_ACCESS_KEY_ID\")\n",
    "        aws_region = user_secrets.get_secret(\"AWS_DEFAULT_REGION\")\n",
    "        aws_secret_access_key = user_secrets.get_secret(\"AWS_SECRET_ACCESS_KEY\")\n",
    "        s3_bucket_name = user_secrets.get_secret(\"S3_BUCKET\")\n",
    "\n",
    "        # Set AWS credentials in the environment variables\n",
    "        os.environ['AWS_ACCESS_KEY_ID'] = aws_access_key_id\n",
    "        os.environ['AWS_SECRET_ACCESS_KEY'] = aws_secret_access_key\n",
    "        os.environ['AWS_DEFAULT_REGION'] = aws_region\n",
    "    else:\n",
    "        aws_access_key_id = os.getenv('AWS_ACCESS_KEY_ID')\n",
    "        aws_secret_access_key = os.getenv('AWS_SECRET_ACCESS_KEY')\n",
    "\n",
    "    from utils_mlflow import (\n",
    "        get_experiments_df,\n",
    "        delete_runs_and_artifacts,\n",
    "        download_and_load_model,\n",
    "        load_models_and_create_ensemble,\n",
    "        save_and_register_model,\n",
    "        log_model_parameters,\n",
    "        get_or_create_experiment,\n",
    "        experiments_data,\n",
    "    )\n",
    "    from utils_feat_importance import log_feature_importance\n",
    "    from model_validation import time_series_split\n",
    "\n",
    "    # External Libraries\n",
    "    import boto3\n",
    "    from botocore.exceptions import NoCredentialsError\n",
    "    from mlflow.exceptions import MlflowException\n",
    "    import lightgbm as lgbm\n",
    "    import mlflow\n",
    "    import optuna\n",
    "    from mlflow.tracking import MlflowClient\n",
    "    from optuna.integration.mlflow import MLflowCallback\n",
    "    from sklearn.model_selection import KFold\n",
    "    from xgboost import XGBRegressor as XGBR\n",
    "    from lightgbm import log_evaluation, early_stopping, LGBMRegressor as LGBMR\n",
    "\n",
    "\n",
    "\n",
    "    # Auto-reload modules - Specific to Jupyter Notebooks\n",
    "    %load_ext autoreload\n",
    "    %autoreload 2\n",
    "\n",
    "    mlflow.set_tracking_uri(pm.path_experiments_dir)\n",
    "    client = MlflowClient()\n",
    "    \n",
    "    # Create an S3 client\n",
    "    s3 = boto3.client(\n",
    "        \"s3\",\n",
    "        aws_access_key_id=aws_access_key_id,\n",
    "        aws_secret_access_key=aws_secret_access_key,\n",
    "    )"
   ]
  },
  {
   "cell_type": "code",
   "execution_count": 6,
   "id": "86f77413",
   "metadata": {
    "execution": {
     "iopub.execute_input": "2023-11-12T16:06:40.538958Z",
     "iopub.status.busy": "2023-11-12T16:06:40.538293Z",
     "iopub.status.idle": "2023-11-12T16:06:40.546472Z",
     "shell.execute_reply": "2023-11-12T16:06:40.545221Z"
    },
    "papermill": {
     "duration": 0.022515,
     "end_time": "2023-11-12T16:06:40.548831",
     "exception": false,
     "start_time": "2023-11-12T16:06:40.526316",
     "status": "completed"
    },
    "tags": []
   },
   "outputs": [],
   "source": [
    "if TRAIN:\n",
    "    if not os.path.exists(pm.path_dataset_processed) or OVERWRITE_PROCESSED_DATA:\n",
    "        df_train_raw = pd.read_csv(pm.path_data_train_raw)\n",
    "\n",
    "        if DEBUG:\n",
    "            df_train_raw = df_train_raw[df_train_raw[\"stock_id\"].isin([0, 1, 2])]\n",
    "\n",
    "        drop_idx = df_train_raw.loc[\n",
    "            df_train_raw[\"target\"].isna(), \"target\"\n",
    "        ].index.to_list()\n",
    "        df_train = df_train_raw.drop(drop_idx, axis=0)\n",
    "        df_train.reset_index(drop=True, inplace=True)\n",
    "    else:\n",
    "        df_train = pd.read_csv(pm.path_dataset_processed)\n",
    "        if DEBUG:\n",
    "            df_train = df_train[df_train[\"stock_id\"].isin([0, 1, 2])]"
   ]
  },
  {
   "cell_type": "code",
   "execution_count": 7,
   "id": "57da474b",
   "metadata": {
    "execution": {
     "iopub.execute_input": "2023-11-12T16:06:40.571411Z",
     "iopub.status.busy": "2023-11-12T16:06:40.571044Z",
     "iopub.status.idle": "2023-11-12T16:06:40.576009Z",
     "shell.execute_reply": "2023-11-12T16:06:40.574796Z"
    },
    "papermill": {
     "duration": 0.019189,
     "end_time": "2023-11-12T16:06:40.578465",
     "exception": false,
     "start_time": "2023-11-12T16:06:40.559276",
     "status": "completed"
    },
    "tags": []
   },
   "outputs": [],
   "source": [
    "if TRAIN:\n",
    "    global_stock_id_feats = global_stock_id_feats(df_train)"
   ]
  },
  {
   "cell_type": "code",
   "execution_count": 8,
   "id": "698f61f5",
   "metadata": {
    "execution": {
     "iopub.execute_input": "2023-11-12T16:06:40.606711Z",
     "iopub.status.busy": "2023-11-12T16:06:40.606334Z",
     "iopub.status.idle": "2023-11-12T16:06:40.611931Z",
     "shell.execute_reply": "2023-11-12T16:06:40.610699Z"
    },
    "papermill": {
     "duration": 0.026135,
     "end_time": "2023-11-12T16:06:40.615236",
     "exception": false,
     "start_time": "2023-11-12T16:06:40.589101",
     "status": "completed"
    },
    "tags": []
   },
   "outputs": [],
   "source": [
    "# df_experiments = get_experiments_df(client)\n",
    "\n",
    "# experiment_ids_to_remove = [\n",
    "#     \"999333986568643837\",\n",
    "#     \"867182202959923683\",\n",
    "#     \"773486292991054569\",\n",
    "#     \"195291970476306379\",\n",
    "# ]\n",
    "# delete_runs_and_artifacts(client, experiment_ids_to_remove, s3_bucket_name)"
   ]
  },
  {
   "cell_type": "code",
   "execution_count": null,
   "id": "83ca0cf2",
   "metadata": {
    "papermill": {
     "duration": 0.010584,
     "end_time": "2023-11-12T16:06:40.638458",
     "exception": false,
     "start_time": "2023-11-12T16:06:40.627874",
     "status": "completed"
    },
    "tags": []
   },
   "outputs": [],
   "source": []
  },
  {
   "cell_type": "code",
   "execution_count": null,
   "id": "c1b1f4a1",
   "metadata": {
    "papermill": {
     "duration": 0.010066,
     "end_time": "2023-11-12T16:06:40.658994",
     "exception": false,
     "start_time": "2023-11-12T16:06:40.648928",
     "status": "completed"
    },
    "tags": []
   },
   "outputs": [],
   "source": []
  },
  {
   "cell_type": "code",
   "execution_count": null,
   "id": "2dca354c",
   "metadata": {
    "papermill": {
     "duration": 0.01021,
     "end_time": "2023-11-12T16:06:40.682362",
     "exception": false,
     "start_time": "2023-11-12T16:06:40.672152",
     "status": "completed"
    },
    "tags": []
   },
   "outputs": [],
   "source": []
  },
  {
   "cell_type": "code",
   "execution_count": null,
   "id": "39852fa0",
   "metadata": {
    "papermill": {
     "duration": 0.010068,
     "end_time": "2023-11-12T16:06:40.703679",
     "exception": false,
     "start_time": "2023-11-12T16:06:40.693611",
     "status": "completed"
    },
    "tags": []
   },
   "outputs": [],
   "source": []
  },
  {
   "cell_type": "code",
   "execution_count": 9,
   "id": "32601ea0",
   "metadata": {
    "execution": {
     "iopub.execute_input": "2023-11-12T16:06:40.727779Z",
     "iopub.status.busy": "2023-11-12T16:06:40.727017Z",
     "iopub.status.idle": "2023-11-12T16:06:40.750652Z",
     "shell.execute_reply": "2023-11-12T16:06:40.749825Z"
    },
    "papermill": {
     "duration": 0.039382,
     "end_time": "2023-11-12T16:06:40.753692",
     "exception": false,
     "start_time": "2023-11-12T16:06:40.714310",
     "status": "completed"
    },
    "tags": []
   },
   "outputs": [],
   "source": [
    "# generate imbalance features\n",
    "def imbalance_features(df):\n",
    "    prices = [\n",
    "        \"reference_price\",\n",
    "        \"far_price\",\n",
    "        \"near_price\",\n",
    "        \"ask_price\",\n",
    "        \"bid_price\",\n",
    "        \"wap\",\n",
    "    ]\n",
    "    sizes = [\"matched_size\", \"bid_size\", \"ask_size\", \"imbalance_size\"]\n",
    "\n",
    "    # V1\n",
    "    df[\"volume\"] = df.eval(\"ask_size + bid_size\")\n",
    "    df[\"mid_price\"] = df.eval(\"(ask_price + bid_price) / 2\")\n",
    "    df[\"liquidity_imbalance\"] = df.eval(\"(bid_size-ask_size)/(bid_size+ask_size)\")\n",
    "    df[\"matched_imbalance\"] = df.eval(\n",
    "        \"(imbalance_size-matched_size)/(matched_size+imbalance_size)\"\n",
    "    )\n",
    "    df[\"size_imbalance\"] = df.eval(\"bid_size / ask_size\")\n",
    "\n",
    "    for c in combinations(prices, 2):\n",
    "        df[f\"{c[0]}_{c[1]}_imb\"] = df.eval(f\"({c[0]} - {c[1]})/({c[0]} + {c[1]})\")\n",
    "\n",
    "    for c in [[\"ask_price\", \"bid_price\", \"wap\", \"reference_price\"], sizes]:\n",
    "        triplet_feature = calculate_triplet_imbalance_numba(c, df)\n",
    "        df[triplet_feature.columns] = triplet_feature.values\n",
    "\n",
    "    # V2\n",
    "    weights = convert_weights_to_dict()\n",
    "    df[\"stock_weights\"] = df[\"stock_id\"].map(weights)\n",
    "    df[\"weighted_wap\"] = df[\"stock_weights\"] * df[\"wap\"]\n",
    "    df[\"wap_momentum\"] = df.groupby(\"stock_id\")[\"weighted_wap\"].pct_change(periods=6)\n",
    "    df[\"imbalance_momentum\"] = (\n",
    "        df.groupby([\"stock_id\"])[\"imbalance_size\"].diff(periods=1) / df[\"matched_size\"]\n",
    "    )\n",
    "    df[\"price_spread\"] = df[\"ask_price\"] - df[\"bid_price\"]\n",
    "    df[\"spread_intensity\"] = df.groupby([\"stock_id\"])[\"price_spread\"].diff()\n",
    "    df[\"price_pressure\"] = df[\"imbalance_size\"] * (df[\"ask_price\"] - df[\"bid_price\"])\n",
    "    df[\"market_urgency\"] = df[\"price_spread\"] * df[\"liquidity_imbalance\"]\n",
    "    df[\"depth_pressure\"] = (df[\"ask_size\"] - df[\"bid_size\"]) * (\n",
    "        df[\"far_price\"] - df[\"near_price\"]\n",
    "    )\n",
    "    df[\"spread_depth_ratio\"] = (df[\"ask_price\"] - df[\"bid_price\"]) / (\n",
    "        df[\"bid_size\"] + df[\"ask_size\"]\n",
    "    )\n",
    "    df[\"mid_price_movement\"] = (\n",
    "        df[\"mid_price\"]\n",
    "        .diff(periods=5)\n",
    "        .apply(lambda x: 1 if x > 0 else (-1 if x < 0 else 0))\n",
    "    )\n",
    "    df[\"micro_price\"] = (\n",
    "        (df[\"bid_price\"] * df[\"ask_size\"]) + (df[\"ask_price\"] * df[\"bid_size\"])\n",
    "    ) / (df[\"bid_size\"] + df[\"ask_size\"])\n",
    "    df[\"relative_spread\"] = (df[\"ask_price\"] - df[\"bid_price\"]) / df[\"wap\"]\n",
    "\n",
    "    for func in [\"mean\", \"std\", \"skew\", \"kurt\"]:\n",
    "        df[f\"all_prices_{func}\"] = df[prices].agg(func, axis=1)\n",
    "        df[f\"all_sizes_{func}\"] = df[sizes].agg(func, axis=1)\n",
    "\n",
    "    # V3\n",
    "    for col in [\n",
    "        \"matched_size\",\n",
    "        \"imbalance_size\",\n",
    "        \"reference_price\",\n",
    "        \"imbalance_buy_sell_flag\",\n",
    "    ]:\n",
    "        for window in [1, 2, 3, 5, 10]:\n",
    "            df[f\"{col}_shift_{window}\"] = df.groupby([\"stock_id\"])[col].shift(window)\n",
    "            df[f\"{col}_ret_{window}\"] = df.groupby([\"stock_id\"])[col].pct_change(window)\n",
    "\n",
    "    for col in [\n",
    "        \"ask_price\",\n",
    "        \"bid_price\",\n",
    "        \"ask_size\",\n",
    "        \"bid_size\",\n",
    "        \"wap\",\n",
    "        \"near_price\",\n",
    "        \"far_price\",\n",
    "    ]:\n",
    "        for window in [1, 2, 3, 5, 10]:\n",
    "            df[f\"{col}_diff_{window}\"] = df.groupby([\"stock_id\"])[col].diff(window)\n",
    "\n",
    "    return df.replace([np.inf, -np.inf], 0)\n",
    "\n",
    "\n",
    "# generate time & stock features\n",
    "def other_features(df):\n",
    "    df[\"dow\"] = df[\"date_id\"] % 5\n",
    "    df[\"dom\"] = df[\"date_id\"] % 20\n",
    "    df[\"seconds\"] = df[\"seconds_in_bucket\"] % 60\n",
    "    df[\"minute\"] = df[\"seconds_in_bucket\"] // 60\n",
    "\n",
    "    for key, value in global_stock_id_feats.items():\n",
    "        df[f\"global_{key}\"] = df[\"stock_id\"].map(value.to_dict())\n",
    "\n",
    "    return df\n",
    "\n",
    "\n",
    "# generate all features\n",
    "def feat_engineering(df):\n",
    "    cols = [c for c in df.columns if c not in [\"row_id\"]]\n",
    "    df = df[cols]\n",
    "    df = imbalance_features(df)\n",
    "    df = other_features(df)\n",
    "    gc.collect()\n",
    "\n",
    "    list_cols = [i for i in df.columns if i not in [\"row_id\"]]\n",
    "\n",
    "    return df[list_cols]"
   ]
  },
  {
   "cell_type": "code",
   "execution_count": 10,
   "id": "cebbab94",
   "metadata": {
    "execution": {
     "iopub.execute_input": "2023-11-12T16:06:40.776918Z",
     "iopub.status.busy": "2023-11-12T16:06:40.776191Z",
     "iopub.status.idle": "2023-11-12T16:06:40.781165Z",
     "shell.execute_reply": "2023-11-12T16:06:40.780363Z"
    },
    "papermill": {
     "duration": 0.01917,
     "end_time": "2023-11-12T16:06:40.783558",
     "exception": false,
     "start_time": "2023-11-12T16:06:40.764388",
     "status": "completed"
    },
    "tags": []
   },
   "outputs": [],
   "source": [
    "if TRAIN:\n",
    "    df_train_feats = feat_engineering(df_train)\n",
    "    print(\"Build Online Train Feats Finished.\")\n",
    "\n",
    "    df_train_feats = reduce_mem_usage(df_train_feats)"
   ]
  },
  {
   "cell_type": "code",
   "execution_count": 11,
   "id": "be9128bc",
   "metadata": {
    "execution": {
     "iopub.execute_input": "2023-11-12T16:06:40.807209Z",
     "iopub.status.busy": "2023-11-12T16:06:40.806490Z",
     "iopub.status.idle": "2023-11-12T16:06:40.812450Z",
     "shell.execute_reply": "2023-11-12T16:06:40.811655Z"
    },
    "papermill": {
     "duration": 0.02038,
     "end_time": "2023-11-12T16:06:40.814827",
     "exception": false,
     "start_time": "2023-11-12T16:06:40.794447",
     "status": "completed"
    },
    "tags": []
   },
   "outputs": [],
   "source": [
    "if TRAIN:\n",
    "    col_split = \"time_id\"\n",
    "    df_train_feats.sort_values([col_split], inplace=True)\n",
    "    df_train_feats.reset_index(drop=True, inplace=True)\n",
    "    df_train_feats[\"factorized\"] = pd.factorize(df_train_feats[col_split])[0]\n",
    "\n",
    "    list_cols_drop = [\"date_id\", \"time_id\"]\n",
    "    df_train_feats.drop(list_cols_drop, axis=1, inplace=True)"
   ]
  },
  {
   "cell_type": "code",
   "execution_count": null,
   "id": "1495555b",
   "metadata": {
    "papermill": {
     "duration": 0.010031,
     "end_time": "2023-11-12T16:06:40.835494",
     "exception": false,
     "start_time": "2023-11-12T16:06:40.825463",
     "status": "completed"
    },
    "tags": []
   },
   "outputs": [],
   "source": []
  },
  {
   "cell_type": "code",
   "execution_count": null,
   "id": "53671afe",
   "metadata": {
    "papermill": {
     "duration": 0.009838,
     "end_time": "2023-11-12T16:06:40.855710",
     "exception": false,
     "start_time": "2023-11-12T16:06:40.845872",
     "status": "completed"
    },
    "tags": []
   },
   "outputs": [],
   "source": []
  },
  {
   "cell_type": "code",
   "execution_count": null,
   "id": "a81b3ad2",
   "metadata": {
    "papermill": {
     "duration": 0.010478,
     "end_time": "2023-11-12T16:06:40.876639",
     "exception": false,
     "start_time": "2023-11-12T16:06:40.866161",
     "status": "completed"
    },
    "tags": []
   },
   "outputs": [],
   "source": []
  },
  {
   "cell_type": "code",
   "execution_count": null,
   "id": "a2e9188f",
   "metadata": {
    "papermill": {
     "duration": 0.009792,
     "end_time": "2023-11-12T16:06:40.896842",
     "exception": false,
     "start_time": "2023-11-12T16:06:40.887050",
     "status": "completed"
    },
    "tags": []
   },
   "outputs": [],
   "source": []
  },
  {
   "cell_type": "code",
   "execution_count": 12,
   "id": "60651034",
   "metadata": {
    "execution": {
     "iopub.execute_input": "2023-11-12T16:06:40.919723Z",
     "iopub.status.busy": "2023-11-12T16:06:40.918990Z",
     "iopub.status.idle": "2023-11-12T16:06:40.933708Z",
     "shell.execute_reply": "2023-11-12T16:06:40.932809Z"
    },
    "papermill": {
     "duration": 0.029357,
     "end_time": "2023-11-12T16:06:40.936583",
     "exception": false,
     "start_time": "2023-11-12T16:06:40.907226",
     "status": "completed"
    },
    "tags": []
   },
   "outputs": [],
   "source": [
    "if TRAIN:\n",
    "    experiment_name = f\"{EXPERIMENT_PURPOSE}_v{VERSION_NB}\"\n",
    "    name_folder_models = f\"models_v{VERSION_NB}\"\n",
    "\n",
    "    experiment_date_str = datetime.now().strftime(\"%y_%m_%d_%H%M\")\n",
    "    experiment_id = get_or_create_experiment(\n",
    "        client, experiment_name, artifact_location=pm.path_artifact_location\n",
    "    )\n",
    "\n",
    "\n",
    "    gpu_switch = \"OFF\"\n",
    "\n",
    "    nbrnd_erly_stp = 130\n",
    "    cv_mthd = \"KF\"\n",
    "\n",
    "    # Cross-Validation Setup\n",
    "    if TRAIN:\n",
    "        # Initialize MLflow callback\n",
    "        mlflow_callback = MLflowCallback(\n",
    "            tracking_uri=mlflow.get_tracking_uri(), metric_name=\"mae\"\n",
    "        )\n",
    "\n",
    "        all_cv = {\"KF\": KFold(n_splits=5, shuffle=True, random_state=STATE)}\n",
    "        cv = all_cv[cv_mthd]\n",
    "\n",
    "        model_params_dict = {\n",
    "            \"LGBMR\": {\n",
    "                \"static_params\": {\n",
    "                    \"device\": \"gpu\" if gpu_switch == \"ON\" else \"cpu\",\n",
    "                    \"objective\": \"mae\",\n",
    "                    \"boosting_type\": \"gbdt\",\n",
    "                    \"random_state\": STATE,\n",
    "                    \"n_jobs\": 4,\n",
    "                    \"verbose\": -1,\n",
    "                    \"importance_type\": \"gain\",\n",
    "                },\n",
    "                \"dynamic_params\": {\n",
    "                    \"n_estimators\": {\n",
    "                        \"type\": \"int\",\n",
    "                        \"low\": 100,\n",
    "                        \"high\": 100,\n",
    "                    },\n",
    "                    \"learning_rate\": {\n",
    "                        \"type\": \"float\",\n",
    "                        \"low\": 0.005,\n",
    "                        \"high\": 0.06,\n",
    "                    },\n",
    "                    \"max_depth\": {\"type\": \"int\", \"low\": 10, \"high\": 90},\n",
    "                    \"num_leaves\": {\n",
    "                        \"type\": \"int\",\n",
    "                        \"low\": 20,\n",
    "                        \"high\": 90,\n",
    "                    },\n",
    "                    \"min_child_samples\": {\n",
    "                        \"type\": \"int\",\n",
    "                        \"low\": 10,\n",
    "                        \"high\": 70,\n",
    "                    },\n",
    "                    \"subsample\": {\n",
    "                        \"type\": \"float\",\n",
    "                        \"low\": 0.7,\n",
    "                        \"high\": 1,\n",
    "                    },\n",
    "                    \"colsample_bytree\": {\n",
    "                        \"type\": \"float\",\n",
    "                        \"low\": 1,\n",
    "                        \"high\": 1,\n",
    "                    },\n",
    "                    \"min_split_gain\": {\n",
    "                        \"type\": \"float\",\n",
    "                        \"low\": 0,\n",
    "                        \"high\": 2,\n",
    "                    },\n",
    "                    \"reg_alpha\": {\n",
    "                        \"type\": \"float\",\n",
    "                        \"low\": 0,\n",
    "                        \"high\": 3,\n",
    "                    },\n",
    "                    \"reg_lambda\": {\n",
    "                        \"type\": \"float\",\n",
    "                        \"low\": 0,\n",
    "                        \"high\": 3,\n",
    "                    },\n",
    "                },\n",
    "            },\n",
    "        }\n",
    "\n",
    "        dict_models = {\"LGBMR\": LGBMR}\n",
    "\n",
    "        log_model = True\n",
    "\n",
    "\n",
    "    if TRAIN:\n",
    "        args = {\n",
    "            \"cv_mthd\": cv_mthd,\n",
    "            \"experiment_purpose\": EXPERIMENT_PURPOSE,\n",
    "            \"experiment_name\": experiment_name,\n",
    "            \"dict_models\": dict_models,\n",
    "            \"model_params_dict\": model_params_dict,\n",
    "            \"n_splits\": N_SPLITS,\n",
    "            \"n_test_splits\": N_TEST_SPLITS,\n",
    "            \"n_purge\": N_PURGE,\n",
    "            \"n_embargo\": N_EMBARGO,\n",
    "            \"experiment_date_str\": experiment_date_str,\n",
    "            \"path_artifact_location\": pm.path_artifact_location,\n",
    "            \"target_col\": \"target\",\n",
    "        }"
   ]
  },
  {
   "cell_type": "code",
   "execution_count": null,
   "id": "99e903da",
   "metadata": {
    "papermill": {
     "duration": 0.010226,
     "end_time": "2023-11-12T16:06:40.957104",
     "exception": false,
     "start_time": "2023-11-12T16:06:40.946878",
     "status": "completed"
    },
    "tags": []
   },
   "outputs": [],
   "source": []
  },
  {
   "cell_type": "code",
   "execution_count": 13,
   "id": "36e5f888",
   "metadata": {
    "execution": {
     "iopub.execute_input": "2023-11-12T16:06:40.980292Z",
     "iopub.status.busy": "2023-11-12T16:06:40.979556Z",
     "iopub.status.idle": "2023-11-12T16:06:41.005816Z",
     "shell.execute_reply": "2023-11-12T16:06:41.004855Z"
    },
    "papermill": {
     "duration": 0.041221,
     "end_time": "2023-11-12T16:06:41.008822",
     "exception": false,
     "start_time": "2023-11-12T16:06:40.967601",
     "status": "completed"
    },
    "tags": []
   },
   "outputs": [],
   "source": [
    "def run_mlflow_experiment(df_train, args, trial=None):\n",
    "    cv_mthd = args[\"cv_mthd\"]\n",
    "    experiment_purpose = args[\"experiment_purpose\"]\n",
    "    experiment_name = args[\"experiment_name\"]\n",
    "    dict_models = args[\"dict_models\"]\n",
    "    model_params_dict = args[\"model_params_dict\"]\n",
    "\n",
    "    n_splits = args[\"n_splits\"]\n",
    "    n_test_splits = args[\"n_test_splits\"]\n",
    "    n_purge = args[\"n_purge\"]\n",
    "    n_embargo = args[\"n_embargo\"]\n",
    "\n",
    "    experiment_date_str = args[\"experiment_date_str\"]\n",
    "    path_artifact_location = args[\"path_artifact_location\"]\n",
    "    target_col = args[\"target_col\"]\n",
    "\n",
    "    if trial == None:\n",
    "        trial = optuna.trial.FixedTrial(\n",
    "            {\n",
    "                \"n_estimators\": 500,\n",
    "                \"learning_rate\": 0.005,\n",
    "                \"max_depth\": 10,\n",
    "                \"num_leaves\": 20,\n",
    "                \"min_child_samples\": 10,\n",
    "                \"subsample\": 0.7,\n",
    "                \"colsample_bytree\": 1.0,\n",
    "                \"min_split_gain\": 0.0,\n",
    "                \"reg_alpha\": 0.0,\n",
    "                \"reg_lambda\": 0.0,\n",
    "                \"device\": \"gpu\" if gpu_switch == \"ON\" else \"cpu\",\n",
    "            }\n",
    "        )\n",
    "\n",
    "    run_time_start_trial = datetime.now().strftime(\"%y_%m_%d_%H%M%S\")\n",
    "\n",
    "    with mlflow.start_run(\n",
    "        run_name=run_time_start_trial, experiment_id=experiment_id\n",
    "    ) as run:\n",
    "        score_list = []\n",
    "\n",
    "        # mlflow.set_tag(\"cv_mthd\", cv_mthd)\n",
    "        mlflow.set_tag(\"n_splits\", n_splits)\n",
    "        mlflow.set_tag(\"n_test_splits\", n_test_splits)\n",
    "        mlflow.set_tag(\"n_purge\", n_purge)\n",
    "        mlflow.set_tag(\"n_embargo\", n_embargo)\n",
    "\n",
    "        for model_name, model_class in dict_models.items():\n",
    "            if TUNING:\n",
    "                model = create_model(\n",
    "                    trial,\n",
    "                    model_class,\n",
    "                    model_params_dict[model_name][\"static_params\"],\n",
    "                    model_params_dict[model_name][\"dynamic_params\"],\n",
    "                )\n",
    "            else:\n",
    "                model = model_class(**model_prod.get_params())\n",
    "\n",
    "            priority_params = [\"learning_rate\", \"max_depth\"]\n",
    "            excluded_params = [\n",
    "                \"device\",\n",
    "                \"class_weight\",\n",
    "                \"random_state\",\n",
    "                \"silent\",\n",
    "                \"verbose\",\n",
    "                \"n_jobs\",\n",
    "            ]\n",
    "\n",
    "            ordered_params = log_model_parameters(\n",
    "                model, priority_params, excluded_params, verbose=True\n",
    "            )\n",
    "\n",
    "            mlflow.log_params(ordered_params)\n",
    "\n",
    "            for fold_n, (train_indices, test_indices) in enumerate(\n",
    "                time_series_split(\n",
    "                    df_train,\n",
    "                    n_splits=n_splits,\n",
    "                    n_test_splits=n_test_splits,\n",
    "                    n_purge=n_purge,\n",
    "                    n_embargo=n_embargo,\n",
    "                )\n",
    "            ):\n",
    "                with mlflow.start_run(\n",
    "                    run_name=f\"fold_{fold_n+1}\",\n",
    "                    nested=True,\n",
    "                    experiment_id=experiment_id,\n",
    "                ) as nested_run:\n",
    "                    mlflow.set_tag(\"n_trial\", str(trial.number))\n",
    "\n",
    "                    mask_train = df_train[\"factorized\"].isin(train_indices)\n",
    "                    mask_test = df_train[\"factorized\"].isin(test_indices)\n",
    "\n",
    "                    y_train = df_train.loc[mask_train, target_col]\n",
    "                    y_val = df_train.loc[mask_test, target_col]\n",
    "                    X_train = df_train.loc[mask_train].drop(\n",
    "                        [target_col, \"factorized\"], axis=1\n",
    "                    )\n",
    "                    X_val = df_train.loc[mask_test].drop(\n",
    "                        [target_col, \"factorized\"], axis=1\n",
    "                    )\n",
    "\n",
    "                    mlflow.log_param(\"train_rows\", X_train.shape[0])\n",
    "                    mlflow.log_param(\"train_cols\", X_train.shape[1])\n",
    "\n",
    "                    model.fit(\n",
    "                        X_train,\n",
    "                        y_train,\n",
    "                        eval_set=[(X_val, y_val)],\n",
    "                        eval_metric=\"mae\",\n",
    "                        callbacks=[\n",
    "                            lgbm.callback.early_stopping(stopping_rounds=100),\n",
    "                            lgbm.callback.log_evaluation(period=100000),\n",
    "                        ],\n",
    "                    )\n",
    "\n",
    "                    log_feature_importance(\n",
    "                        trial.number,\n",
    "                        model,\n",
    "                        X_train,\n",
    "                        fold_n,\n",
    "                        experiment_purpose,\n",
    "                        experiment_date_str,\n",
    "                    )\n",
    "\n",
    "                    fold_score = model.best_score_[\"valid_0\"][\"l1\"]\n",
    "\n",
    "                    score_list.append(fold_score)\n",
    "\n",
    "                    mlflow.log_metric(\"fold_score\", round(fold_score, 6))\n",
    "                    mlflow.log_param(\"fold_number\", fold_n + 1)\n",
    "                    mlflow.log_param(\"model_name\", model_name)\n",
    "\n",
    "                    mlflow.log_params(ordered_params)\n",
    "\n",
    "                    current_time_str = datetime.now().strftime(\"%Y%m%d_%H%M%S\")\n",
    "                    model_log_name = f\"{model_name}_{trial.number}_{current_time_str}\"\n",
    "\n",
    "                    mlflow.sklearn.log_model(model, model_log_name)\n",
    "\n",
    "                    mlflow.log_param(\"run_time\", current_time_str)\n",
    "\n",
    "                    nested_run_id = nested_run.info.run_id\n",
    "                    model_path = f\"{path_artifact_location}/{run.info.experiment_id}/{nested_run_id}/artifacts/{model_log_name}/model.pkl\"\n",
    "                    mlflow.log_param(\"model_path\", model_path)\n",
    "\n",
    "                avg_score = sum(score_list) / len(score_list)\n",
    "                median_score = np.median(score_list)\n",
    "                mlflow.log_metric(\"avg score\", round(avg_score, 6))\n",
    "                mlflow.log_metric(\"median score\", round(median_score, 6))\n",
    "\n",
    "        return avg_score\n",
    "\n",
    "\n",
    "def objective(trial, df_train):\n",
    "    avg_score = run_mlflow_experiment(df_train, args, trial)\n",
    "    return avg_score\n",
    "\n",
    "\n",
    "# Run the Optuna study\n",
    "if TRAIN:\n",
    "    study = optuna.create_study(\n",
    "        direction=\"minimize\",\n",
    "        study_name=\"Your Study Name\",\n",
    "        load_if_exists=True,\n",
    "    )\n",
    "    study.optimize(lambda trial: objective(trial, df_train_feats), n_trials=N_TRIALS)"
   ]
  },
  {
   "cell_type": "code",
   "execution_count": 14,
   "id": "208089f3",
   "metadata": {
    "_cell_guid": "51030a77-aba3-469f-9c08-7963bc8a09d2",
    "_uuid": "6ff7d358-62f0-4ac9-b028-d1c920bb4eaf",
    "collapsed": false,
    "execution": {
     "iopub.execute_input": "2023-11-12T16:06:41.031980Z",
     "iopub.status.busy": "2023-11-12T16:06:41.031280Z",
     "iopub.status.idle": "2023-11-12T16:06:41.039491Z",
     "shell.execute_reply": "2023-11-12T16:06:41.038649Z"
    },
    "jupyter": {
     "outputs_hidden": false
    },
    "papermill": {
     "duration": 0.022995,
     "end_time": "2023-11-12T16:06:41.042106",
     "exception": false,
     "start_time": "2023-11-12T16:06:41.019111",
     "status": "completed"
    },
    "tags": []
   },
   "outputs": [],
   "source": [
    "if TRAIN:\n",
    "    df_exp = experiments_data(\n",
    "        client, list_experiment_id=None, save_df=None, list_columns=None\n",
    "    )\n",
    "    list_base_cols = [\n",
    "        \"run_time\",\n",
    "        \"experiment_id\",\n",
    "        \"n_trial\",\n",
    "        \"run_id\",\n",
    "        \"model_name\",\n",
    "        \"fold_number\",\n",
    "        \"fold_score\",\n",
    "    ]\n",
    "    list_dynamic_params = list(model_params_dict[\"LGBMR\"][\"dynamic_params\"].keys())\n",
    "\n",
    "    df_exp[\"run_time\"] = pd.to_datetime(\n",
    "        df_exp[\"run_time\"], format=\"%Y%m%d_%H%M%S\", errors=\"coerce\"\n",
    "    )\n",
    "\n",
    "    for col in df_exp.columns:\n",
    "        df_exp[col] = pd.to_numeric(df_exp[col], errors=\"ignore\")\n",
    "\n",
    "    for col in df_exp.select_dtypes(include=[\"float\", \"int\"]):\n",
    "        df_exp[col] = df_exp[col].round(5)\n",
    "\n",
    "    list_cols_exp = [\"run_time\"] + list_base_cols + list_dynamic_params + [\"model_path\"]\n",
    "\n",
    "    experiment_id\n",
    "    df_exp = df_exp[df_exp[\"experiment_id\"] != 0]\n",
    "\n",
    "    df_exp = df_exp[list_cols_exp]"
   ]
  },
  {
   "cell_type": "code",
   "execution_count": 15,
   "id": "6dd337cf",
   "metadata": {
    "execution": {
     "iopub.execute_input": "2023-11-12T16:06:41.065651Z",
     "iopub.status.busy": "2023-11-12T16:06:41.064999Z",
     "iopub.status.idle": "2023-11-12T16:06:41.070367Z",
     "shell.execute_reply": "2023-11-12T16:06:41.069181Z"
    },
    "papermill": {
     "duration": 0.020853,
     "end_time": "2023-11-12T16:06:41.073402",
     "exception": false,
     "start_time": "2023-11-12T16:06:41.052549",
     "status": "completed"
    },
    "tags": []
   },
   "outputs": [],
   "source": [
    "if TRAIN:\n",
    "    # Load the models and create an ensemble\n",
    "    ensemble_model = load_models_and_create_ensemble(s3, model_paths)\n",
    "\n",
    "    # Save and register the ensemble model in MLflow\n",
    "    save_and_register_model(ensemble_model, model_name)"
   ]
  },
  {
   "cell_type": "code",
   "execution_count": null,
   "id": "0d2713cf",
   "metadata": {
    "papermill": {
     "duration": 0.009842,
     "end_time": "2023-11-12T16:06:41.093700",
     "exception": false,
     "start_time": "2023-11-12T16:06:41.083858",
     "status": "completed"
    },
    "tags": []
   },
   "outputs": [],
   "source": []
  },
  {
   "cell_type": "code",
   "execution_count": null,
   "id": "65720f2d",
   "metadata": {
    "papermill": {
     "duration": 0.010053,
     "end_time": "2023-11-12T16:06:41.114716",
     "exception": false,
     "start_time": "2023-11-12T16:06:41.104663",
     "status": "completed"
    },
    "tags": []
   },
   "outputs": [],
   "source": []
  },
  {
   "cell_type": "code",
   "execution_count": 16,
   "id": "c06019a8",
   "metadata": {
    "_cell_guid": "d4bfb979-2758-4fe9-8947-399b1c3a574c",
    "_uuid": "bef1a199-0988-4743-813e-99d4308fc9bb",
    "collapsed": false,
    "execution": {
     "iopub.execute_input": "2023-11-12T16:06:41.137611Z",
     "iopub.status.busy": "2023-11-12T16:06:41.137207Z",
     "iopub.status.idle": "2023-11-12T16:06:41.169918Z",
     "shell.execute_reply": "2023-11-12T16:06:41.168585Z"
    },
    "jupyter": {
     "outputs_hidden": false
    },
    "papermill": {
     "duration": 0.047885,
     "end_time": "2023-11-12T16:06:41.172836",
     "exception": false,
     "start_time": "2023-11-12T16:06:41.124951",
     "status": "completed"
    },
    "tags": []
   },
   "outputs": [],
   "source": [
    "import optiver2023\n",
    "\n",
    "env = optiver2023.make_env()\n",
    "iter_test = env.iter_test()"
   ]
  },
  {
   "cell_type": "code",
   "execution_count": 17,
   "id": "67a86545",
   "metadata": {
    "execution": {
     "iopub.execute_input": "2023-11-12T16:06:41.196314Z",
     "iopub.status.busy": "2023-11-12T16:06:41.195870Z",
     "iopub.status.idle": "2023-11-12T16:07:02.245801Z",
     "shell.execute_reply": "2023-11-12T16:07:02.244566Z"
    },
    "papermill": {
     "duration": 21.065527,
     "end_time": "2023-11-12T16:07:02.248803",
     "exception": false,
     "start_time": "2023-11-12T16:06:41.183276",
     "status": "completed"
    },
    "tags": []
   },
   "outputs": [],
   "source": [
    "df_train = pd.read_csv(\"/kaggle/input/optiver-trading-at-the-close/train.csv\")\n"
   ]
  },
  {
   "cell_type": "code",
   "execution_count": 18,
   "id": "15f715bd",
   "metadata": {
    "execution": {
     "iopub.execute_input": "2023-11-12T16:07:02.273668Z",
     "iopub.status.busy": "2023-11-12T16:07:02.273296Z",
     "iopub.status.idle": "2023-11-12T16:07:04.255889Z",
     "shell.execute_reply": "2023-11-12T16:07:04.254630Z"
    },
    "papermill": {
     "duration": 1.997399,
     "end_time": "2023-11-12T16:07:04.258944",
     "exception": false,
     "start_time": "2023-11-12T16:07:02.261545",
     "status": "completed"
    },
    "tags": []
   },
   "outputs": [],
   "source": [
    "global_stock_id_feats = global_stock_id_feats(df_train)"
   ]
  },
  {
   "cell_type": "code",
   "execution_count": 19,
   "id": "03d5850d",
   "metadata": {
    "_cell_guid": "d30f3862-dca2-4242-9db0-ab9750118622",
    "_uuid": "efd9073c-aaef-4135-bf7c-1e892e9aa831",
    "collapsed": false,
    "execution": {
     "iopub.execute_input": "2023-11-12T16:07:04.282696Z",
     "iopub.status.busy": "2023-11-12T16:07:04.282301Z",
     "iopub.status.idle": "2023-11-12T16:08:18.519818Z",
     "shell.execute_reply": "2023-11-12T16:08:18.518727Z"
    },
    "jupyter": {
     "outputs_hidden": false
    },
    "papermill": {
     "duration": 74.252024,
     "end_time": "2023-11-12T16:08:18.522889",
     "exception": false,
     "start_time": "2023-11-12T16:07:04.270865",
     "status": "completed"
    },
    "tags": []
   },
   "outputs": [
    {
     "name": "stdout",
     "output_type": "stream",
     "text": [
      "This version of the API is not optimized and should not be used to estimate the runtime of your code on the hidden test set.\n"
     ]
    }
   ],
   "source": [
    "counter = 0\n",
    "df_tot_test = []\n",
    "for test, revealed_targets, sample_prediction in iter_test:\n",
    "    test[\"time_id\"] = counter\n",
    "    test[\"target\"] = \"none\"\n",
    "\n",
    "    if counter < 17:\n",
    "        df_tot_test.append(test)\n",
    "    else:\n",
    "        df_tot_test = df_tot_test[1:]\n",
    "        df_tot_test.append(test)\n",
    "\n",
    "    df_test = pd.concat(df_tot_test, axis=0, ignore_index=True)\n",
    "\n",
    "    feat = feat_engineering(df_test)\n",
    "    feat = feat.sort_values([\"date_id\", \"seconds_in_bucket\", \"stock_id\"])[-len(test) :]\n",
    "\n",
    "    list_cols_drop = [\"date_id\"]\n",
    "    feat.drop(list_cols_drop, axis=1, inplace=True)\n",
    "\n",
    "    list_features = model_prod.get_feature_names()\n",
    "    feat = feat[list_features]\n",
    "    sample_prediction[\"target\"] = model_prod.predict(feat)\n",
    "    env.predict(sample_prediction)\n",
    "    counter += 1"
   ]
  },
  {
   "cell_type": "code",
   "execution_count": null,
   "id": "b25d92b9",
   "metadata": {
    "papermill": {
     "duration": 0.009401,
     "end_time": "2023-11-12T16:08:18.542469",
     "exception": false,
     "start_time": "2023-11-12T16:08:18.533068",
     "status": "completed"
    },
    "tags": []
   },
   "outputs": [],
   "source": []
  }
 ],
 "metadata": {
  "kernelspec": {
   "display_name": "Python 3",
   "language": "python",
   "name": "python3"
  },
  "language_info": {
   "codemirror_mode": {
    "name": "ipython",
    "version": 3
   },
   "file_extension": ".py",
   "mimetype": "text/x-python",
   "name": "python",
   "nbconvert_exporter": "python",
   "pygments_lexer": "ipython3",
   "version": "3.10.12"
  },
  "papermill": {
   "default_parameters": {},
   "duration": 107.977924,
   "end_time": "2023-11-12T16:08:19.675440",
   "environment_variables": {},
   "exception": null,
   "input_path": "__notebook__.ipynb",
   "output_path": "__notebook__.ipynb",
   "parameters": {},
   "start_time": "2023-11-12T16:06:31.697516",
   "version": "2.4.0"
  }
 },
 "nbformat": 4,
 "nbformat_minor": 5
}
