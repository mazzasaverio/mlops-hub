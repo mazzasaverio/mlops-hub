{
 "cells": [
  {
   "cell_type": "code",
   "execution_count": 1,
   "id": "36c5cf93",
   "metadata": {
    "execution": {
     "iopub.execute_input": "2023-11-12T20:48:38.141274Z",
     "iopub.status.busy": "2023-11-12T20:48:38.140677Z",
     "iopub.status.idle": "2023-11-12T20:48:40.163272Z",
     "shell.execute_reply": "2023-11-12T20:48:40.162298Z"
    },
    "papermill": {
     "duration": 2.038445,
     "end_time": "2023-11-12T20:48:40.165963",
     "exception": false,
     "start_time": "2023-11-12T20:48:38.127518",
     "status": "completed"
    },
    "tags": []
   },
   "outputs": [],
   "source": [
    "# Constants and Configuration Variables\n",
    "DEBUG = False\n",
    "TRAIN = False\n",
    "TUNING = False\n",
    "OVERWRITE_PROCESSED_DATA = True\n",
    "N_TRIALS = 10\n",
    "STATE = 42\n",
    "\n",
    "\n",
    "N_SPLITS = 6\n",
    "N_TEST_SPLITS = 1\n",
    "N_PURGE = 12\n",
    "N_EMBARGO = 12\n",
    "\n",
    "\n",
    "VERSION_NB = 9\n",
    "EXPERIMENT_PURPOSE = \"optiver_trading_at_the_close\"\n",
    "\n",
    "\n",
    "# RECORD ENSAMBLE MODEL\n",
    "model_paths = [\n",
    "    \"s3://mlflow-v1/kaggle_optiver_trading_at_the_close/08dabe3978894bfb96f897856fb0c350/artifacts/LGBMR_0_20231112_185028/model.pkl\",\n",
    "    \"s3://mlflow-v1/kaggle_optiver_trading_at_the_close/271835da5f6341acb6371828020c24ec/artifacts/LGBMR_0_20231112_185329/model.pkl\",\n",
    "    \"s3://mlflow-v1/kaggle_optiver_trading_at_the_close/1f1b5a2062124a06b22621a7675ef73f/artifacts/LGBMR_0_20231112_185626/model.pkl\",\n",
    "    \"s3://mlflow-v1/kaggle_optiver_trading_at_the_close/cc7bd91dd0e943dea0ba78efef6a7843/artifacts/LGBMR_0_20231112_185923/model.pkl\",\n",
    "    \"s3://mlflow-v1/kaggle_optiver_trading_at_the_close/b9821771b3184900875a2e22051efedb/artifacts/LGBMR_0_20231112_190219/model.pkl\",\n",
    "    \"s3://mlflow-v1/kaggle_optiver_trading_at_the_close/89b0cdf08b984ec3af0beb7c384bc800/artifacts/LGBMR_0_20231112_190514/model.pkl\"\n",
    "]\n",
    "\n",
    "# Define the model name for registration in MLflow\n",
    "\n",
    "model_name = f\"ensemble_model (4)\"\n",
    "folder_model = f'models-v6'\n",
    "model_name_artifict = f\"ensemble_model (4).pkl\"\n",
    "\n",
    "# External general-purpose modules\n",
    "import gc\n",
    "import sys\n",
    "import os\n",
    "import itertools as itt\n",
    "from itertools import combinations, product\n",
    "from datetime import datetime\n",
    "import numpy as np\n",
    "import pandas as pd\n",
    "import polars as pl\n",
    "import joblib\n",
    "from pathlib import Path\n",
    "import warnings\n",
    "from numba import njit, prange\n",
    "\n",
    "from dotenv import load_dotenv\n",
    "\n",
    "# Setting pandas options and warning filters\n",
    "pd.set_option(\"display.max_columns\", None)\n",
    "warnings.filterwarnings(\"ignore\")\n",
    "warnings.simplefilter(action=\"ignore\", category=pd.errors.PerformanceWarning)\n",
    "\n",
    "# Load environment variables\n",
    "load_dotenv()\n",
    "path_root_project = Path.cwd()\n",
    "if path_root_project.name not in [\"working\", \"content\"]:\n",
    "    path_root_project = Path(os.getenv(\"ROOT_PATH\") or path_root_project)\n",
    "\n",
    "    directories_to_add = [\"utils\", \"feat_engineering\", \"validation\"]\n",
    "    for directory in directories_to_add:\n",
    "        sys.path.append(str(path_root_project / \"src\" / directory))"
   ]
  },
  {
   "cell_type": "code",
   "execution_count": 2,
   "id": "c704da4a",
   "metadata": {
    "execution": {
     "iopub.execute_input": "2023-11-12T20:48:40.188195Z",
     "iopub.status.busy": "2023-11-12T20:48:40.187672Z",
     "iopub.status.idle": "2023-11-12T20:48:40.317540Z",
     "shell.execute_reply": "2023-11-12T20:48:40.316498Z"
    },
    "papermill": {
     "duration": 0.143737,
     "end_time": "2023-11-12T20:48:40.320003",
     "exception": false,
     "start_time": "2023-11-12T20:48:40.176266",
     "status": "completed"
    },
    "tags": []
   },
   "outputs": [],
   "source": [
    "from utils_training import create_model, experiments_data\n",
    "from utils_data import load_config, load_dataset, reduce_mem_usage, PathManager\n",
    "from utils_kaggle import (\n",
    "    setup_kaggle,\n",
    "    download_data,\n",
    "    get_data,\n",
    "    clean_directory_except_one,\n",
    ")\n",
    "\n",
    "from fe_optiver_trading_at_the_close import calculate_triplet_imbalance_numba, compute_triplet_imbalance, convert_weights_to_dict, global_stock_id_feats\n",
    "\n"
   ]
  },
  {
   "cell_type": "code",
   "execution_count": 3,
   "id": "04064331",
   "metadata": {
    "execution": {
     "iopub.execute_input": "2023-11-12T20:48:40.342257Z",
     "iopub.status.busy": "2023-11-12T20:48:40.341479Z",
     "iopub.status.idle": "2023-11-12T20:48:40.346021Z",
     "shell.execute_reply": "2023-11-12T20:48:40.344892Z"
    },
    "papermill": {
     "duration": 0.018287,
     "end_time": "2023-11-12T20:48:40.348399",
     "exception": false,
     "start_time": "2023-11-12T20:48:40.330112",
     "status": "completed"
    },
    "tags": []
   },
   "outputs": [],
   "source": [
    "pm = PathManager(path_root_project)"
   ]
  },
  {
   "cell_type": "code",
   "execution_count": null,
   "id": "15556979",
   "metadata": {
    "papermill": {
     "duration": 0.009783,
     "end_time": "2023-11-12T20:48:40.368215",
     "exception": false,
     "start_time": "2023-11-12T20:48:40.358432",
     "status": "completed"
    },
    "tags": []
   },
   "outputs": [],
   "source": []
  },
  {
   "cell_type": "code",
   "execution_count": 4,
   "id": "2d7965ed",
   "metadata": {
    "execution": {
     "iopub.execute_input": "2023-11-12T20:48:40.389688Z",
     "iopub.status.busy": "2023-11-12T20:48:40.389227Z",
     "iopub.status.idle": "2023-11-12T20:48:40.393590Z",
     "shell.execute_reply": "2023-11-12T20:48:40.392628Z"
    },
    "papermill": {
     "duration": 0.017756,
     "end_time": "2023-11-12T20:48:40.395688",
     "exception": false,
     "start_time": "2023-11-12T20:48:40.377932",
     "status": "completed"
    },
    "tags": []
   },
   "outputs": [],
   "source": [
    "#clean_directory_except_one('/kaggle/working/','submission.csv')"
   ]
  },
  {
   "cell_type": "code",
   "execution_count": 5,
   "id": "ef1e6f72",
   "metadata": {
    "execution": {
     "iopub.execute_input": "2023-11-12T20:48:40.418226Z",
     "iopub.status.busy": "2023-11-12T20:48:40.417182Z",
     "iopub.status.idle": "2023-11-12T20:48:40.443194Z",
     "shell.execute_reply": "2023-11-12T20:48:40.442075Z"
    },
    "papermill": {
     "duration": 0.040212,
     "end_time": "2023-11-12T20:48:40.445870",
     "exception": false,
     "start_time": "2023-11-12T20:48:40.405658",
     "status": "completed"
    },
    "tags": []
   },
   "outputs": [],
   "source": [
    "\n",
    "\n",
    "# Conditional imports and settings based on TRAIN constant\n",
    "if TRAIN:\n",
    "    if pm.path_root_project.name == \"working\":\n",
    "        !pip install loguru mlflow optuna > /dev/null\n",
    "\n",
    "        from kaggle_secrets import UserSecretsClient\n",
    "        user_secrets = UserSecretsClient()\n",
    "        aws_access_key_id = user_secrets.get_secret(\"AWS_ACCESS_KEY_ID\")\n",
    "        aws_region = user_secrets.get_secret(\"AWS_DEFAULT_REGION\")\n",
    "        aws_secret_access_key = user_secrets.get_secret(\"AWS_SECRET_ACCESS_KEY\")\n",
    "        s3_bucket_name = user_secrets.get_secret(\"S3_BUCKET\")\n",
    "\n",
    "        # Set AWS credentials in the environment variables\n",
    "        os.environ['AWS_ACCESS_KEY_ID'] = aws_access_key_id\n",
    "        os.environ['AWS_SECRET_ACCESS_KEY'] = aws_secret_access_key\n",
    "        os.environ['AWS_DEFAULT_REGION'] = aws_region\n",
    "    else:\n",
    "        aws_access_key_id = os.getenv('AWS_ACCESS_KEY_ID')\n",
    "        aws_secret_access_key = os.getenv('AWS_SECRET_ACCESS_KEY')\n",
    "\n",
    "    from utils_mlflow import (\n",
    "        get_experiments_df,\n",
    "        delete_runs_and_artifacts,\n",
    "        download_and_load_model,\n",
    "        load_models_and_create_ensemble,\n",
    "        save_and_register_model,\n",
    "        log_model_parameters,\n",
    "        get_or_create_experiment,\n",
    "        experiments_data,\n",
    "    )\n",
    "    from utils_feat_importance import log_feature_importance, aggregate_feature_importance\n",
    "    from model_validation import time_series_split\n",
    "\n",
    "    # External Libraries\n",
    "    import boto3\n",
    "    from botocore.exceptions import NoCredentialsError\n",
    "    from mlflow.exceptions import MlflowException\n",
    "    import lightgbm as lgbm\n",
    "    import mlflow\n",
    "    import optuna\n",
    "    from mlflow.tracking import MlflowClient\n",
    "    from optuna.integration.mlflow import MLflowCallback\n",
    "    from sklearn.model_selection import KFold\n",
    "    from xgboost import XGBRegressor as XGBR\n",
    "    from lightgbm import log_evaluation, early_stopping, LGBMRegressor as LGBMR\n",
    "\n",
    "\n",
    "\n",
    "    # Auto-reload modules - Specific to Jupyter Notebooks\n",
    "    %load_ext autoreload\n",
    "    %autoreload 2\n",
    "\n",
    "    mlflow.set_tracking_uri(pm.path_experiments_dir)\n",
    "    client = MlflowClient()\n",
    "    \n",
    "    # Create an S3 client\n",
    "    s3 = boto3.client(\n",
    "        \"s3\",\n",
    "        aws_access_key_id=aws_access_key_id,\n",
    "        aws_secret_access_key=aws_secret_access_key,\n",
    "    )"
   ]
  },
  {
   "cell_type": "code",
   "execution_count": 6,
   "id": "2283a0ab",
   "metadata": {
    "execution": {
     "iopub.execute_input": "2023-11-12T20:48:40.467790Z",
     "iopub.status.busy": "2023-11-12T20:48:40.467379Z",
     "iopub.status.idle": "2023-11-12T20:48:43.394331Z",
     "shell.execute_reply": "2023-11-12T20:48:43.393384Z"
    },
    "papermill": {
     "duration": 2.941285,
     "end_time": "2023-11-12T20:48:43.397270",
     "exception": false,
     "start_time": "2023-11-12T20:48:40.455985",
     "status": "completed"
    },
    "tags": []
   },
   "outputs": [],
   "source": [
    "model_prod = joblib.load('/kaggle/input/models-v6/ensemble_model (4).pkl')"
   ]
  },
  {
   "cell_type": "code",
   "execution_count": 7,
   "id": "6b0667f5",
   "metadata": {
    "execution": {
     "iopub.execute_input": "2023-11-12T20:48:43.422871Z",
     "iopub.status.busy": "2023-11-12T20:48:43.422008Z",
     "iopub.status.idle": "2023-11-12T20:48:43.430079Z",
     "shell.execute_reply": "2023-11-12T20:48:43.429331Z"
    },
    "papermill": {
     "duration": 0.022376,
     "end_time": "2023-11-12T20:48:43.432282",
     "exception": false,
     "start_time": "2023-11-12T20:48:43.409906",
     "status": "completed"
    },
    "tags": []
   },
   "outputs": [],
   "source": [
    "if TRAIN:\n",
    "    if not os.path.exists(pm.path_dataset_processed) or OVERWRITE_PROCESSED_DATA:\n",
    "        df_train_raw = pd.read_csv(pm.path_data_train_raw)\n",
    "\n",
    "        if DEBUG:\n",
    "            df_train_raw = df_train_raw[df_train_raw[\"stock_id\"].isin([0, 1, 2])]\n",
    "\n",
    "        drop_idx = df_train_raw.loc[\n",
    "            df_train_raw[\"target\"].isna(), \"target\"\n",
    "        ].index.to_list()\n",
    "        df_train = df_train_raw.drop(drop_idx, axis=0)\n",
    "        df_train.reset_index(drop=True, inplace=True)\n",
    "    else:\n",
    "        df_train = pd.read_csv(pm.path_dataset_processed)\n",
    "        if DEBUG:\n",
    "            df_train = df_train[df_train[\"stock_id\"].isin([0, 1, 2])]"
   ]
  },
  {
   "cell_type": "code",
   "execution_count": 8,
   "id": "3cab5133",
   "metadata": {
    "execution": {
     "iopub.execute_input": "2023-11-12T20:48:43.456767Z",
     "iopub.status.busy": "2023-11-12T20:48:43.456362Z",
     "iopub.status.idle": "2023-11-12T20:48:43.461146Z",
     "shell.execute_reply": "2023-11-12T20:48:43.460024Z"
    },
    "papermill": {
     "duration": 0.018464,
     "end_time": "2023-11-12T20:48:43.463315",
     "exception": false,
     "start_time": "2023-11-12T20:48:43.444851",
     "status": "completed"
    },
    "tags": []
   },
   "outputs": [],
   "source": [
    "if TRAIN:\n",
    "    global_stock_id_feats = global_stock_id_feats(df_train)"
   ]
  },
  {
   "cell_type": "code",
   "execution_count": 9,
   "id": "38e08a76",
   "metadata": {
    "execution": {
     "iopub.execute_input": "2023-11-12T20:48:43.486038Z",
     "iopub.status.busy": "2023-11-12T20:48:43.485237Z",
     "iopub.status.idle": "2023-11-12T20:48:43.489961Z",
     "shell.execute_reply": "2023-11-12T20:48:43.489220Z"
    },
    "papermill": {
     "duration": 0.018614,
     "end_time": "2023-11-12T20:48:43.492154",
     "exception": false,
     "start_time": "2023-11-12T20:48:43.473540",
     "status": "completed"
    },
    "tags": []
   },
   "outputs": [],
   "source": [
    "#list(aggregate_feature_importance(['/kaggle/working/feat_impor_optiver_trading_at_the_close_23_11_12_1742.csv']).tail(30)['feat'][-10:])"
   ]
  },
  {
   "cell_type": "code",
   "execution_count": 10,
   "id": "26b8290e",
   "metadata": {
    "execution": {
     "iopub.execute_input": "2023-11-12T20:48:43.515455Z",
     "iopub.status.busy": "2023-11-12T20:48:43.514668Z",
     "iopub.status.idle": "2023-11-12T20:48:43.519375Z",
     "shell.execute_reply": "2023-11-12T20:48:43.518602Z"
    },
    "papermill": {
     "duration": 0.019127,
     "end_time": "2023-11-12T20:48:43.521566",
     "exception": false,
     "start_time": "2023-11-12T20:48:43.502439",
     "status": "completed"
    },
    "tags": []
   },
   "outputs": [],
   "source": [
    "# df_experiments = get_experiments_df(client)\n",
    "\n",
    "# experiment_ids_to_remove = [\n",
    "#     \"999333986568643837\",\n",
    "#     \"867182202959923683\",\n",
    "#     \"773486292991054569\",\n",
    "#     \"195291970476306379\",\n",
    "# ]\n",
    "# delete_runs_and_artifacts(client, experiment_ids_to_remove, s3_bucket_name)"
   ]
  },
  {
   "cell_type": "code",
   "execution_count": null,
   "id": "a5197a34",
   "metadata": {
    "papermill": {
     "duration": 0.010051,
     "end_time": "2023-11-12T20:48:43.541982",
     "exception": false,
     "start_time": "2023-11-12T20:48:43.531931",
     "status": "completed"
    },
    "tags": []
   },
   "outputs": [],
   "source": []
  },
  {
   "cell_type": "code",
   "execution_count": null,
   "id": "1f7f9e73",
   "metadata": {
    "papermill": {
     "duration": 0.010114,
     "end_time": "2023-11-12T20:48:43.562658",
     "exception": false,
     "start_time": "2023-11-12T20:48:43.552544",
     "status": "completed"
    },
    "tags": []
   },
   "outputs": [],
   "source": []
  },
  {
   "cell_type": "code",
   "execution_count": 11,
   "id": "37f7b12e",
   "metadata": {
    "execution": {
     "iopub.execute_input": "2023-11-12T20:48:43.585730Z",
     "iopub.status.busy": "2023-11-12T20:48:43.584937Z",
     "iopub.status.idle": "2023-11-12T20:48:43.597472Z",
     "shell.execute_reply": "2023-11-12T20:48:43.596157Z"
    },
    "papermill": {
     "duration": 0.026828,
     "end_time": "2023-11-12T20:48:43.599646",
     "exception": false,
     "start_time": "2023-11-12T20:48:43.572818",
     "status": "completed"
    },
    "tags": []
   },
   "outputs": [
    {
     "name": "stdout",
     "output_type": "stream",
     "text": [
      "CPU times: user 284 µs, sys: 3 µs, total: 287 µs\n",
      "Wall time: 293 µs\n"
     ]
    }
   ],
   "source": [
    "%%time\n",
    "\n",
    "@njit(parallel = True)\n",
    "def calculate_rsi(prices, period=14):\n",
    "    rsi_values = np.zeros_like(prices)\n",
    "\n",
    "    for col in prange(prices.shape[1]):\n",
    "        price_data = prices[:, col]\n",
    "        delta = np.zeros_like(price_data)\n",
    "        delta[1:] = price_data[1:] - price_data[:-1]\n",
    "        gain = np.where(delta > 0, delta, 0)\n",
    "        loss = np.where(delta < 0, -delta, 0)\n",
    "\n",
    "        avg_gain = np.mean(gain[:period])\n",
    "        avg_loss = np.mean(loss[:period])\n",
    "        \n",
    "        if avg_loss != 0:\n",
    "            rs = avg_gain / avg_loss\n",
    "        else:\n",
    "            rs = 1e-9  # or any other appropriate default value\n",
    "            \n",
    "        rsi_values[:period, col] = 100 - (100 / (1 + rs))\n",
    "\n",
    "        for i in prange(period-1, len(price_data)-1):\n",
    "            avg_gain = (avg_gain * (period - 1) + gain[i]) / period\n",
    "            avg_loss = (avg_loss * (period - 1) + loss[i]) / period\n",
    "            if avg_loss != 0:\n",
    "                rs = avg_gain / avg_loss\n",
    "            else:\n",
    "                rs = 1e-9  # or any other appropriate default value\n",
    "            rsi_values[i+1, col] = 100 - (100 / (1 + rs))\n",
    "\n",
    "    return rsi_values"
   ]
  },
  {
   "cell_type": "code",
   "execution_count": 12,
   "id": "fb5fee93",
   "metadata": {
    "execution": {
     "iopub.execute_input": "2023-11-12T20:48:43.622745Z",
     "iopub.status.busy": "2023-11-12T20:48:43.622356Z",
     "iopub.status.idle": "2023-11-12T20:48:43.628812Z",
     "shell.execute_reply": "2023-11-12T20:48:43.627745Z"
    },
    "papermill": {
     "duration": 0.020704,
     "end_time": "2023-11-12T20:48:43.631193",
     "exception": false,
     "start_time": "2023-11-12T20:48:43.610489",
     "status": "completed"
    },
    "tags": []
   },
   "outputs": [],
   "source": [
    "def generate_rsi(df):\n",
    "    # Define lists of price and size-related column names\n",
    "    prices = [\"reference_price\", \"far_price\", \"near_price\", \"ask_price\", \"bid_price\", \"wap\"]\n",
    "    sizes = [\"matched_size\", \"bid_size\", \"ask_size\", \"imbalance_size\"]\n",
    "    \n",
    "    for stock_id, values in df.groupby(['stock_id'])[prices]:\n",
    "        columns = [f'rsi_{col}' for col in values.columns]\n",
    "        data = calculate_rsi(values.values)\n",
    "        df.loc[values.index, columns] = data\n",
    "    \n",
    "    return df"
   ]
  },
  {
   "cell_type": "code",
   "execution_count": 13,
   "id": "af581bf7",
   "metadata": {
    "execution": {
     "iopub.execute_input": "2023-11-12T20:48:43.654832Z",
     "iopub.status.busy": "2023-11-12T20:48:43.654019Z",
     "iopub.status.idle": "2023-11-12T20:48:43.662088Z",
     "shell.execute_reply": "2023-11-12T20:48:43.661376Z"
    },
    "papermill": {
     "duration": 0.022377,
     "end_time": "2023-11-12T20:48:43.664311",
     "exception": false,
     "start_time": "2023-11-12T20:48:43.641934",
     "status": "completed"
    },
    "tags": []
   },
   "outputs": [],
   "source": [
    "def generate_macd(df):\n",
    "    # Define lists of price and size-related column names\n",
    "    prices = [\"reference_price\", \"far_price\", \"near_price\", \"ask_price\", \"bid_price\", \"wap\"]\n",
    "    sizes = [\"matched_size\", \"bid_size\", \"ask_size\", \"imbalance_size\"]\n",
    "    \n",
    "    for stock_id, values in df.groupby(['stock_id'])[prices]:\n",
    "        macd_values, signal_line_values, histogram_values = calculate_macd(values.values)\n",
    "        col_macd = [f'macd_{col}' for col in values.columns]\n",
    "        col_signal = [f'macd_sig_{col}' for col in values.columns]\n",
    "        col_hist = [f'macd_hist_{col}' for col in values.columns]\n",
    "        \n",
    "        df.loc[values.index, col_macd] = macd_values\n",
    "        df.loc[values.index, col_signal] = signal_line_values\n",
    "        df.loc[values.index, col_hist] = histogram_values\n",
    "    \n",
    "    return df"
   ]
  },
  {
   "cell_type": "code",
   "execution_count": 14,
   "id": "2ec2f253",
   "metadata": {
    "execution": {
     "iopub.execute_input": "2023-11-12T20:48:43.687679Z",
     "iopub.status.busy": "2023-11-12T20:48:43.687012Z",
     "iopub.status.idle": "2023-11-12T20:48:43.697552Z",
     "shell.execute_reply": "2023-11-12T20:48:43.696807Z"
    },
    "papermill": {
     "duration": 0.024745,
     "end_time": "2023-11-12T20:48:43.699715",
     "exception": false,
     "start_time": "2023-11-12T20:48:43.674970",
     "status": "completed"
    },
    "tags": []
   },
   "outputs": [],
   "source": [
    "@njit(parallel=True)\n",
    "def calculate_macd(data, short_window=12, long_window=26, signal_window=9):\n",
    "    rows, cols = data.shape\n",
    "    macd_values = np.empty((rows, cols))\n",
    "    signal_line_values = np.empty((rows, cols))\n",
    "    histogram_values = np.empty((rows, cols))\n",
    "\n",
    "    for i in prange(cols):\n",
    "        short_ema = np.zeros(rows)\n",
    "        long_ema = np.zeros(rows)\n",
    "\n",
    "        for j in range(1, rows):\n",
    "            short_ema[j] = (data[j, i] - short_ema[j - 1]) * (2 / (short_window + 1)) + short_ema[j - 1]\n",
    "            long_ema[j] = (data[j, i] - long_ema[j - 1]) * (2 / (long_window + 1)) + long_ema[j - 1]\n",
    "\n",
    "        macd_values[:, i] = short_ema - long_ema\n",
    "\n",
    "        signal_line = np.zeros(rows)\n",
    "        for j in range(1, rows):\n",
    "            signal_line[j] = (macd_values[j, i] - signal_line[j - 1]) * (2 / (signal_window + 1)) + signal_line[j - 1]\n",
    "\n",
    "        signal_line_values[:, i] = signal_line\n",
    "        histogram_values[:, i] = macd_values[:, i] - signal_line\n",
    "\n",
    "    return macd_values, signal_line_values, histogram_values"
   ]
  },
  {
   "cell_type": "code",
   "execution_count": 15,
   "id": "6ea9f60c",
   "metadata": {
    "execution": {
     "iopub.execute_input": "2023-11-12T20:48:43.722937Z",
     "iopub.status.busy": "2023-11-12T20:48:43.722273Z",
     "iopub.status.idle": "2023-11-12T20:48:43.747813Z",
     "shell.execute_reply": "2023-11-12T20:48:43.746562Z"
    },
    "papermill": {
     "duration": 0.040939,
     "end_time": "2023-11-12T20:48:43.751148",
     "exception": false,
     "start_time": "2023-11-12T20:48:43.710209",
     "status": "completed"
    },
    "tags": []
   },
   "outputs": [],
   "source": [
    "# generate imbalance features\n",
    "def imbalance_features(df):\n",
    "    prices = [\n",
    "        \"reference_price\",\n",
    "        \"far_price\",\n",
    "        \"near_price\",\n",
    "        \"ask_price\",\n",
    "        \"bid_price\",\n",
    "        \"wap\",\n",
    "    ]\n",
    "    sizes = [\"matched_size\", \"bid_size\", \"ask_size\", \"imbalance_size\"]\n",
    "\n",
    "    # V1\n",
    "    df[\"volume\"] = df.eval(\"ask_size + bid_size\")\n",
    "    df[\"mid_price\"] = df.eval(\"(ask_price + bid_price) / 2\")\n",
    "    df[\"liquidity_imbalance\"] = df.eval(\"(bid_size-ask_size)/(bid_size+ask_size)\")\n",
    "    df[\"matched_imbalance\"] = df.eval(\n",
    "        \"(imbalance_size-matched_size)/(matched_size+imbalance_size)\"\n",
    "    )\n",
    "    df[\"size_imbalance\"] = df.eval(\"bid_size / ask_size\")\n",
    "\n",
    "    for c in combinations(prices, 2):\n",
    "        df[f\"{c[0]}_{c[1]}_imb\"] = df.eval(f\"({c[0]} - {c[1]})/({c[0]} + {c[1]})\")\n",
    "\n",
    "    for c in [[\"ask_price\", \"bid_price\", \"wap\", \"reference_price\"], sizes]:\n",
    "        triplet_feature = calculate_triplet_imbalance_numba(c, df)\n",
    "        df[triplet_feature.columns] = triplet_feature.values\n",
    "\n",
    "    # V2\n",
    "    weights = convert_weights_to_dict()\n",
    "    df[\"stock_weights\"] = df[\"stock_id\"].map(weights)\n",
    "    df[\"weighted_wap\"] = df[\"stock_weights\"] * df[\"wap\"]\n",
    "    df[\"wap_momentum\"] = df.groupby(\"stock_id\")[\"weighted_wap\"].pct_change(periods=6)\n",
    "    df[\"imbalance_momentum\"] = (\n",
    "        df.groupby([\"stock_id\"])[\"imbalance_size\"].diff(periods=1) / df[\"matched_size\"]\n",
    "    )\n",
    "    df[\"price_spread\"] = df[\"ask_price\"] - df[\"bid_price\"]\n",
    "    df[\"spread_intensity\"] = df.groupby([\"stock_id\"])[\"price_spread\"].diff()\n",
    "    df[\"price_pressure\"] = df[\"imbalance_size\"] * (df[\"ask_price\"] - df[\"bid_price\"])\n",
    "    df[\"market_urgency\"] = df[\"price_spread\"] * df[\"liquidity_imbalance\"]\n",
    "    df[\"depth_pressure\"] = (df[\"ask_size\"] - df[\"bid_size\"]) * (\n",
    "        df[\"far_price\"] - df[\"near_price\"]\n",
    "    )\n",
    "    df[\"spread_depth_ratio\"] = (df[\"ask_price\"] - df[\"bid_price\"]) / (\n",
    "        df[\"bid_size\"] + df[\"ask_size\"]\n",
    "    )\n",
    "    df[\"mid_price_movement\"] = (\n",
    "        df[\"mid_price\"]\n",
    "        .diff(periods=5)\n",
    "        .apply(lambda x: 1 if x > 0 else (-1 if x < 0 else 0))\n",
    "    )\n",
    "    df[\"micro_price\"] = (\n",
    "        (df[\"bid_price\"] * df[\"ask_size\"]) + (df[\"ask_price\"] * df[\"bid_size\"])\n",
    "    ) / (df[\"bid_size\"] + df[\"ask_size\"])\n",
    "    df[\"relative_spread\"] = (df[\"ask_price\"] - df[\"bid_price\"]) / df[\"wap\"]\n",
    "\n",
    "    for func in [\"mean\", \"std\", \"skew\", \"kurt\"]:\n",
    "        df[f\"all_prices_{func}\"] = df[prices].agg(func, axis=1)\n",
    "        df[f\"all_sizes_{func}\"] = df[sizes].agg(func, axis=1)\n",
    "\n",
    "    # V3\n",
    "    for col in [\n",
    "        \"matched_size\",\n",
    "        \"imbalance_size\",\n",
    "        \"reference_price\",\n",
    "        \"imbalance_buy_sell_flag\",\n",
    "    ]:\n",
    "        for window in [1, 2, 3, 5, 10]:\n",
    "            df[f\"{col}_shift_{window}\"] = df.groupby([\"stock_id\"])[col].shift(window)\n",
    "            df[f\"{col}_ret_{window}\"] = df.groupby([\"stock_id\"])[col].pct_change(window)\n",
    "\n",
    "    for col in [\n",
    "        \"ask_price\",\n",
    "        \"bid_price\",\n",
    "        \"ask_size\",\n",
    "        \"bid_size\",\n",
    "        \"wap\",\n",
    "        \"near_price\",\n",
    "        \"far_price\",\n",
    "    ]:\n",
    "        for window in [1, 2, 3, 5, 10]:\n",
    "            df[f\"{col}_diff_{window}\"] = df.groupby([\"stock_id\"])[col].diff(window)\n",
    "\n",
    "    return df.replace([np.inf, -np.inf], 0)\n",
    "\n",
    "\n",
    "# generate time & stock features\n",
    "def other_features(df):\n",
    "    df[\"dow\"] = df[\"date_id\"] % 5\n",
    "    df[\"dom\"] = df[\"date_id\"] % 20\n",
    "    df[\"seconds\"] = df[\"seconds_in_bucket\"] % 60\n",
    "    df[\"minute\"] = df[\"seconds_in_bucket\"] // 60\n",
    "\n",
    "    for key, value in global_stock_id_feats.items():\n",
    "        df[f\"global_{key}\"] = df[\"stock_id\"].map(value.to_dict())\n",
    "\n",
    "    return df\n",
    "\n",
    "\n",
    "# generate all features\n",
    "def feat_engineering(df):\n",
    "    cols = [c for c in df.columns if c not in [\"row_id\"]]\n",
    "    df = df[cols]\n",
    "    df = imbalance_features(df)\n",
    "    df = other_features(df)\n",
    "    \n",
    "        \n",
    "    df = generate_rsi(df)\n",
    "    df = generate_macd(df)\n",
    "    gc.collect()\n",
    "\n",
    "    list_cols = [i for i in df.columns if i not in [\"row_id\"] + ['depth_pressure',\n",
    "         'bid_size_diff_5',\n",
    "         'ask_size_diff_5',\n",
    "         'ask_size_diff_10',\n",
    "         'imbalance_buy_sell_flag_ret_5',\n",
    "         'imbalance_buy_sell_flag_ret_10',\n",
    "         'imbalance_buy_sell_flag_ret_3',\n",
    "         'imbalance_buy_sell_flag_ret_2',\n",
    "         'minute','bid_size_diff_3',\n",
    "         'bid_size_diff_10',\n",
    "         'ask_price_diff_10',\n",
    "         'bid_price_diff_10',\n",
    "         'macd_hist_far_price',\n",
    "         'macd_far_price',\n",
    "         'macd_sig_near_price',\n",
    "         'macd_sig_far_price',\n",
    "         'macd_near_price',\n",
    "         'macd_hist_near_price']]\n",
    "\n",
    "    \n",
    "    \n",
    "\n",
    "    return df[list_cols]"
   ]
  },
  {
   "cell_type": "code",
   "execution_count": 16,
   "id": "9cd66e73",
   "metadata": {
    "execution": {
     "iopub.execute_input": "2023-11-12T20:48:43.779410Z",
     "iopub.status.busy": "2023-11-12T20:48:43.777850Z",
     "iopub.status.idle": "2023-11-12T20:48:43.792966Z",
     "shell.execute_reply": "2023-11-12T20:48:43.791066Z"
    },
    "papermill": {
     "duration": 0.032207,
     "end_time": "2023-11-12T20:48:43.795436",
     "exception": false,
     "start_time": "2023-11-12T20:48:43.763229",
     "status": "completed"
    },
    "tags": []
   },
   "outputs": [],
   "source": [
    "if TRAIN:\n",
    "    df_train_feats = feat_engineering(df_train)\n",
    "    print(\"Build Online Train Feats Finished.\")\n",
    "\n",
    "    df_train_feats = reduce_mem_usage(df_train_feats)"
   ]
  },
  {
   "cell_type": "code",
   "execution_count": 17,
   "id": "6577af68",
   "metadata": {
    "execution": {
     "iopub.execute_input": "2023-11-12T20:48:43.824952Z",
     "iopub.status.busy": "2023-11-12T20:48:43.824287Z",
     "iopub.status.idle": "2023-11-12T20:48:43.832293Z",
     "shell.execute_reply": "2023-11-12T20:48:43.831207Z"
    },
    "papermill": {
     "duration": 0.026585,
     "end_time": "2023-11-12T20:48:43.834806",
     "exception": false,
     "start_time": "2023-11-12T20:48:43.808221",
     "status": "completed"
    },
    "tags": []
   },
   "outputs": [],
   "source": [
    "if TRAIN:\n",
    "    col_split = \"time_id\"\n",
    "    df_train_feats.sort_values([col_split], inplace=True)\n",
    "    df_train_feats.reset_index(drop=True, inplace=True)\n",
    "    df_train_feats[\"factorized\"] = pd.factorize(df_train_feats[col_split])[0]\n",
    "\n",
    "    list_cols_drop = [\"date_id\", \"time_id\"]\n",
    "    df_train_feats.drop(list_cols_drop, axis=1, inplace=True)"
   ]
  },
  {
   "cell_type": "code",
   "execution_count": null,
   "id": "efab1423",
   "metadata": {
    "papermill": {
     "duration": 0.010661,
     "end_time": "2023-11-12T20:48:43.856518",
     "exception": false,
     "start_time": "2023-11-12T20:48:43.845857",
     "status": "completed"
    },
    "tags": []
   },
   "outputs": [],
   "source": []
  },
  {
   "cell_type": "code",
   "execution_count": null,
   "id": "9f21d8cb",
   "metadata": {
    "papermill": {
     "duration": 0.010438,
     "end_time": "2023-11-12T20:48:43.877940",
     "exception": false,
     "start_time": "2023-11-12T20:48:43.867502",
     "status": "completed"
    },
    "tags": []
   },
   "outputs": [],
   "source": []
  },
  {
   "cell_type": "code",
   "execution_count": null,
   "id": "b9e48494",
   "metadata": {
    "papermill": {
     "duration": 0.010595,
     "end_time": "2023-11-12T20:48:43.899454",
     "exception": false,
     "start_time": "2023-11-12T20:48:43.888859",
     "status": "completed"
    },
    "tags": []
   },
   "outputs": [],
   "source": []
  },
  {
   "cell_type": "code",
   "execution_count": 18,
   "id": "e36af1f4",
   "metadata": {
    "execution": {
     "iopub.execute_input": "2023-11-12T20:48:43.929629Z",
     "iopub.status.busy": "2023-11-12T20:48:43.929123Z",
     "iopub.status.idle": "2023-11-12T20:48:43.945179Z",
     "shell.execute_reply": "2023-11-12T20:48:43.944386Z"
    },
    "papermill": {
     "duration": 0.037305,
     "end_time": "2023-11-12T20:48:43.947571",
     "exception": false,
     "start_time": "2023-11-12T20:48:43.910266",
     "status": "completed"
    },
    "tags": []
   },
   "outputs": [],
   "source": [
    "if TRAIN:\n",
    "    experiment_name = f\"{EXPERIMENT_PURPOSE}_v{VERSION_NB}\"\n",
    "    name_folder_models = f\"models_v{VERSION_NB}\"\n",
    "\n",
    "    experiment_date_str = datetime.now().strftime(\"%y_%m_%d_%H%M\")\n",
    "    experiment_id = get_or_create_experiment(\n",
    "        client, experiment_name, artifact_location=pm.path_artifact_location\n",
    "    )\n",
    "\n",
    "\n",
    "    gpu_switch = \"ON\"\n",
    "\n",
    "    nbrnd_erly_stp = 130\n",
    "    cv_mthd = \"KF\"\n",
    "\n",
    "    # Cross-Validation Setup\n",
    "    if TRAIN:\n",
    "        # Initialize MLflow callback\n",
    "        mlflow_callback = MLflowCallback(\n",
    "            tracking_uri=mlflow.get_tracking_uri(), metric_name=\"mae\"\n",
    "        )\n",
    "\n",
    "        all_cv = {\"KF\": KFold(n_splits=5, shuffle=True, random_state=STATE)}\n",
    "        cv = all_cv[cv_mthd]\n",
    "\n",
    "        model_params_dict = {\n",
    "            \"LGBMR\": {\n",
    "                \"static_params\": {\n",
    "                    \"device\": \"gpu\" if gpu_switch == \"ON\" else \"cpu\",\n",
    "                    \"objective\": \"mae\",\n",
    "                    \"boosting_type\": \"gbdt\",\n",
    "                    \"random_state\": STATE,\n",
    "                    \"n_jobs\": 4,\n",
    "                    \"verbose\": -1,\n",
    "                    \"importance_type\": \"gain\",\n",
    "                },\n",
    "                \"dynamic_params\": {\n",
    "                    \"n_estimators\": {\n",
    "                        \"type\": \"int\",\n",
    "                        \"low\": 300,\n",
    "                        \"high\": 600,\n",
    "                    },\n",
    "                    \"learning_rate\": {\n",
    "                        \"type\": \"float\",\n",
    "                        \"low\": 0.003,\n",
    "                        \"high\": 0.04,\n",
    "                    },\n",
    "                    \"max_depth\": {\"type\": \"int\", \"low\": 10, \"high\": 90},\n",
    "                    \"num_leaves\": {\n",
    "                        \"type\": \"int\",\n",
    "                        \"low\": 20,\n",
    "                        \"high\": 80,\n",
    "                    },\n",
    "                    \"min_child_samples\": {\n",
    "                        \"type\": \"int\",\n",
    "                        \"low\": 10,\n",
    "                        \"high\": 70,\n",
    "                    },\n",
    "                    \"subsample\": {\n",
    "                        \"type\": \"float\",\n",
    "                        \"low\": 1,\n",
    "                        \"high\": 1,\n",
    "                    },\n",
    "                    \"colsample_bytree\": {\n",
    "                        \"type\": \"float\",\n",
    "                        \"low\": 1,\n",
    "                        \"high\": 1,\n",
    "                    },\n",
    "                    \"min_split_gain\": {\n",
    "                        \"type\": \"float\",\n",
    "                        \"low\": 0,\n",
    "                        \"high\": 2,\n",
    "                    },\n",
    "                    \"reg_alpha\": {\n",
    "                        \"type\": \"float\",\n",
    "                        \"low\": 0,\n",
    "                        \"high\": 3,\n",
    "                    },\n",
    "                    \"reg_lambda\": {\n",
    "                        \"type\": \"float\",\n",
    "                        \"low\": 0,\n",
    "                        \"high\": 3,\n",
    "                    },\n",
    "                },\n",
    "            },\n",
    "        }\n",
    "\n",
    "        dict_models = {\"LGBMR\": LGBMR}\n",
    "\n",
    "        log_model = True\n",
    "\n",
    "\n",
    "    if TRAIN:\n",
    "        args = {\n",
    "            \"cv_mthd\": cv_mthd,\n",
    "            \"experiment_purpose\": EXPERIMENT_PURPOSE,\n",
    "            \"experiment_name\": experiment_name,\n",
    "            \"dict_models\": dict_models,\n",
    "            \"model_params_dict\": model_params_dict,\n",
    "            \"n_splits\": N_SPLITS,\n",
    "            \"n_test_splits\": N_TEST_SPLITS,\n",
    "            \"n_purge\": N_PURGE,\n",
    "            \"n_embargo\": N_EMBARGO,\n",
    "            \"experiment_date_str\": experiment_date_str,\n",
    "            \"path_artifact_location\": pm.path_artifact_location,\n",
    "            \"target_col\": \"target\",\n",
    "        }"
   ]
  },
  {
   "cell_type": "code",
   "execution_count": null,
   "id": "06e40965",
   "metadata": {
    "papermill": {
     "duration": 0.010667,
     "end_time": "2023-11-12T20:48:43.969642",
     "exception": false,
     "start_time": "2023-11-12T20:48:43.958975",
     "status": "completed"
    },
    "tags": []
   },
   "outputs": [],
   "source": []
  },
  {
   "cell_type": "code",
   "execution_count": 19,
   "id": "02b37a0b",
   "metadata": {
    "execution": {
     "iopub.execute_input": "2023-11-12T20:48:43.995632Z",
     "iopub.status.busy": "2023-11-12T20:48:43.994809Z",
     "iopub.status.idle": "2023-11-12T20:48:44.022115Z",
     "shell.execute_reply": "2023-11-12T20:48:44.021283Z"
    },
    "papermill": {
     "duration": 0.044052,
     "end_time": "2023-11-12T20:48:44.024745",
     "exception": false,
     "start_time": "2023-11-12T20:48:43.980693",
     "status": "completed"
    },
    "tags": []
   },
   "outputs": [],
   "source": [
    "def run_mlflow_experiment(df_train, args, trial=None):\n",
    "    cv_mthd = args[\"cv_mthd\"]\n",
    "    experiment_purpose = args[\"experiment_purpose\"]\n",
    "    experiment_name = args[\"experiment_name\"]\n",
    "    dict_models = args[\"dict_models\"]\n",
    "    model_params_dict = args[\"model_params_dict\"]\n",
    "\n",
    "    n_splits = args[\"n_splits\"]\n",
    "    n_test_splits = args[\"n_test_splits\"]\n",
    "    n_purge = args[\"n_purge\"]\n",
    "    n_embargo = args[\"n_embargo\"]\n",
    "\n",
    "    experiment_date_str = args[\"experiment_date_str\"]\n",
    "    path_artifact_location = args[\"path_artifact_location\"]\n",
    "    target_col = args[\"target_col\"]\n",
    "\n",
    "    if trial == None:\n",
    "        trial = optuna.trial.FixedTrial(\n",
    "            {\n",
    "                \"n_estimators\": 500,\n",
    "                \"learning_rate\": 0.005,\n",
    "                \"max_depth\": 10,\n",
    "                \"num_leaves\": 20,\n",
    "                \"min_child_samples\": 10,\n",
    "                \"subsample\": 0.7,\n",
    "                \"colsample_bytree\": 1.0,\n",
    "                \"min_split_gain\": 0.0,\n",
    "                \"reg_alpha\": 0.0,\n",
    "                \"reg_lambda\": 0.0,\n",
    "                \"device\": \"gpu\" if gpu_switch == \"ON\" else \"cpu\",\n",
    "            }\n",
    "        )\n",
    "\n",
    "    run_time_start_trial = datetime.now().strftime(\"%y_%m_%d_%H%M%S\")\n",
    "\n",
    "    with mlflow.start_run(\n",
    "        run_name=run_time_start_trial, experiment_id=experiment_id\n",
    "    ) as run:\n",
    "        score_list = []\n",
    "\n",
    "        # mlflow.set_tag(\"cv_mthd\", cv_mthd)\n",
    "        mlflow.set_tag(\"n_splits\", n_splits)\n",
    "        mlflow.set_tag(\"n_test_splits\", n_test_splits)\n",
    "        mlflow.set_tag(\"n_purge\", n_purge)\n",
    "        mlflow.set_tag(\"n_embargo\", n_embargo)\n",
    "\n",
    "        for model_name, model_class in dict_models.items():\n",
    "            if TUNING:\n",
    "                model = create_model(\n",
    "                    trial,\n",
    "                    model_class,\n",
    "                    model_params_dict[model_name][\"static_params\"],\n",
    "                    model_params_dict[model_name][\"dynamic_params\"],\n",
    "                )\n",
    "            else:\n",
    "                params = model_prod.get_params()\n",
    "                params['device'] = \"gpu\"\n",
    "                \n",
    "                model = model_class(**params)\n",
    "\n",
    "            priority_params = [\"learning_rate\", \"max_depth\"]\n",
    "            excluded_params = [\n",
    "                \"device\",\n",
    "                \"class_weight\",\n",
    "                \"random_state\",\n",
    "                \"silent\",\n",
    "                \"verbose\",\n",
    "                \"n_jobs\",\n",
    "            ]\n",
    "\n",
    "            ordered_params = log_model_parameters(\n",
    "                model, priority_params, excluded_params, verbose=True\n",
    "            )\n",
    "\n",
    "            mlflow.log_params(ordered_params)\n",
    "\n",
    "            for fold_n, (train_indices, test_indices) in enumerate(\n",
    "                time_series_split(\n",
    "                    df_train,\n",
    "                    n_splits=n_splits,\n",
    "                    n_test_splits=n_test_splits,\n",
    "                    n_purge=n_purge,\n",
    "                    n_embargo=n_embargo,\n",
    "                )\n",
    "            ):\n",
    "                with mlflow.start_run(\n",
    "                    run_name=f\"fold_{fold_n+1}\",\n",
    "                    nested=True,\n",
    "                    experiment_id=experiment_id,\n",
    "                ) as nested_run:\n",
    "                    mlflow.set_tag(\"n_trial\", str(trial.number))\n",
    "\n",
    "                    mask_train = df_train[\"factorized\"].isin(train_indices)\n",
    "                    mask_test = df_train[\"factorized\"].isin(test_indices)\n",
    "\n",
    "                    y_train = df_train.loc[mask_train, target_col]\n",
    "                    y_val = df_train.loc[mask_test, target_col]\n",
    "                    X_train = df_train.loc[mask_train].drop(\n",
    "                        [target_col, \"factorized\"], axis=1\n",
    "                    )\n",
    "                    X_val = df_train.loc[mask_test].drop(\n",
    "                        [target_col, \"factorized\"], axis=1\n",
    "                    )\n",
    "\n",
    "                    mlflow.log_param(\"train_rows\", X_train.shape[0])\n",
    "                    mlflow.log_param(\"train_cols\", X_train.shape[1])\n",
    "\n",
    "                    model.fit(\n",
    "                        X_train,\n",
    "                        y_train,\n",
    "                        eval_set=[(X_val, y_val)],\n",
    "                        eval_metric=\"mae\",\n",
    "                        callbacks=[\n",
    "                            lgbm.callback.early_stopping(stopping_rounds=100),\n",
    "                            lgbm.callback.log_evaluation(period=100000),\n",
    "                        ],\n",
    "                    )\n",
    "\n",
    "                    log_feature_importance(\n",
    "                        trial.number,\n",
    "                        model,\n",
    "                        X_train,\n",
    "                        fold_n,\n",
    "                        experiment_purpose,\n",
    "                        experiment_date_str,\n",
    "                    )\n",
    "\n",
    "                    fold_score = model.best_score_[\"valid_0\"][\"l1\"]\n",
    "\n",
    "                    score_list.append(fold_score)\n",
    "\n",
    "                    mlflow.log_metric(\"fold_score\", round(fold_score, 6))\n",
    "                    mlflow.log_param(\"fold_number\", fold_n + 1)\n",
    "                    mlflow.log_param(\"model_name\", model_name)\n",
    "\n",
    "                    mlflow.log_params(ordered_params)\n",
    "\n",
    "                    current_time_str = datetime.now().strftime(\"%Y%m%d_%H%M%S\")\n",
    "                    model_log_name = f\"{model_name}_{trial.number}_{current_time_str}\"\n",
    "\n",
    "                    mlflow.sklearn.log_model(model, model_log_name)\n",
    "\n",
    "                    mlflow.log_param(\"run_time\", current_time_str)\n",
    "\n",
    "                    nested_run_id = nested_run.info.run_id\n",
    "                    model_path = f\"{path_artifact_location}/{run.info.experiment_id}/{nested_run_id}/artifacts/{model_log_name}/model.pkl\"\n",
    "                    mlflow.log_param(\"model_path\", model_path)\n",
    "\n",
    "                avg_score = sum(score_list) / len(score_list)\n",
    "                median_score = np.median(score_list)\n",
    "                mlflow.log_metric(\"avg score\", round(avg_score, 6))\n",
    "                mlflow.log_metric(\"median score\", round(median_score, 6))\n",
    "\n",
    "        return avg_score\n",
    "\n",
    "\n",
    "def objective(trial, df_train):\n",
    "    avg_score = run_mlflow_experiment(df_train, args, trial)\n",
    "    return avg_score\n",
    "\n",
    "\n",
    "# Run the Optuna study\n",
    "if TRAIN:\n",
    "    study = optuna.create_study(\n",
    "        direction=\"minimize\",\n",
    "        study_name=\"Your Study Name\",\n",
    "        load_if_exists=True,\n",
    "    )\n",
    "    study.optimize(lambda trial: objective(trial, df_train_feats), n_trials=N_TRIALS)"
   ]
  },
  {
   "cell_type": "code",
   "execution_count": 20,
   "id": "8e2c8252",
   "metadata": {
    "_cell_guid": "51030a77-aba3-469f-9c08-7963bc8a09d2",
    "_uuid": "6ff7d358-62f0-4ac9-b028-d1c920bb4eaf",
    "collapsed": false,
    "execution": {
     "iopub.execute_input": "2023-11-12T20:48:44.049707Z",
     "iopub.status.busy": "2023-11-12T20:48:44.048573Z",
     "iopub.status.idle": "2023-11-12T20:48:44.057648Z",
     "shell.execute_reply": "2023-11-12T20:48:44.056891Z"
    },
    "jupyter": {
     "outputs_hidden": false
    },
    "papermill": {
     "duration": 0.023877,
     "end_time": "2023-11-12T20:48:44.059930",
     "exception": false,
     "start_time": "2023-11-12T20:48:44.036053",
     "status": "completed"
    },
    "tags": []
   },
   "outputs": [],
   "source": [
    "if TRAIN:\n",
    "    df_exp = experiments_data(\n",
    "        client, list_experiment_id=None, save_df=None, list_columns=None\n",
    "    )\n",
    "    list_base_cols = [\n",
    "        \"run_time\",\n",
    "        \"experiment_id\",\n",
    "        \"n_trial\",\n",
    "        \"run_id\",\n",
    "        \"model_name\",\n",
    "        \"fold_number\",\n",
    "        \"fold_score\",\n",
    "    ]\n",
    "    list_dynamic_params = list(model_params_dict[\"LGBMR\"][\"dynamic_params\"].keys())\n",
    "\n",
    "    df_exp[\"run_time\"] = pd.to_datetime(\n",
    "        df_exp[\"run_time\"], format=\"%Y%m%d_%H%M%S\", errors=\"coerce\"\n",
    "    )\n",
    "\n",
    "    for col in df_exp.columns:\n",
    "        df_exp[col] = pd.to_numeric(df_exp[col], errors=\"ignore\")\n",
    "\n",
    "    for col in df_exp.select_dtypes(include=[\"float\", \"int\"]):\n",
    "        df_exp[col] = df_exp[col].round(5)\n",
    "\n",
    "    list_cols_exp = [\"run_time\"] + list_base_cols + list_dynamic_params + [\"model_path\"]\n",
    "\n",
    "    experiment_id\n",
    "    df_exp = df_exp[df_exp[\"experiment_id\"] != 0]\n",
    "\n",
    "    df_exp = df_exp[list_cols_exp]"
   ]
  },
  {
   "cell_type": "code",
   "execution_count": 21,
   "id": "33e38809",
   "metadata": {
    "execution": {
     "iopub.execute_input": "2023-11-12T20:48:44.092926Z",
     "iopub.status.busy": "2023-11-12T20:48:44.091725Z",
     "iopub.status.idle": "2023-11-12T20:48:44.097817Z",
     "shell.execute_reply": "2023-11-12T20:48:44.096810Z"
    },
    "papermill": {
     "duration": 0.028726,
     "end_time": "2023-11-12T20:48:44.100002",
     "exception": false,
     "start_time": "2023-11-12T20:48:44.071276",
     "status": "completed"
    },
    "tags": []
   },
   "outputs": [],
   "source": [
    "if TRAIN:\n",
    "    # Load the models and create an ensemble\n",
    "    ensemble_model = load_models_and_create_ensemble(s3, model_paths)\n",
    "\n",
    "    # Save and register the ensemble model in MLflow\n",
    "    save_and_register_model(ensemble_model, model_name)"
   ]
  },
  {
   "cell_type": "code",
   "execution_count": null,
   "id": "6464699c",
   "metadata": {
    "papermill": {
     "duration": 0.011063,
     "end_time": "2023-11-12T20:48:44.122297",
     "exception": false,
     "start_time": "2023-11-12T20:48:44.111234",
     "status": "completed"
    },
    "tags": []
   },
   "outputs": [],
   "source": []
  },
  {
   "cell_type": "code",
   "execution_count": null,
   "id": "86f8d5b9",
   "metadata": {
    "papermill": {
     "duration": 0.01142,
     "end_time": "2023-11-12T20:48:44.144659",
     "exception": false,
     "start_time": "2023-11-12T20:48:44.133239",
     "status": "completed"
    },
    "tags": []
   },
   "outputs": [],
   "source": []
  },
  {
   "cell_type": "code",
   "execution_count": 22,
   "id": "bed6c5c4",
   "metadata": {
    "_cell_guid": "d4bfb979-2758-4fe9-8947-399b1c3a574c",
    "_uuid": "bef1a199-0988-4743-813e-99d4308fc9bb",
    "collapsed": false,
    "execution": {
     "iopub.execute_input": "2023-11-12T20:48:44.235237Z",
     "iopub.status.busy": "2023-11-12T20:48:44.234650Z",
     "iopub.status.idle": "2023-11-12T20:48:44.272069Z",
     "shell.execute_reply": "2023-11-12T20:48:44.270939Z"
    },
    "jupyter": {
     "outputs_hidden": false
    },
    "papermill": {
     "duration": 0.053402,
     "end_time": "2023-11-12T20:48:44.275234",
     "exception": false,
     "start_time": "2023-11-12T20:48:44.221832",
     "status": "completed"
    },
    "tags": []
   },
   "outputs": [],
   "source": [
    "import optiver2023\n",
    "\n",
    "env = optiver2023.make_env()\n",
    "iter_test = env.iter_test()"
   ]
  },
  {
   "cell_type": "code",
   "execution_count": 23,
   "id": "0641a4bb",
   "metadata": {
    "execution": {
     "iopub.execute_input": "2023-11-12T20:48:44.304363Z",
     "iopub.status.busy": "2023-11-12T20:48:44.303585Z",
     "iopub.status.idle": "2023-11-12T20:49:04.377672Z",
     "shell.execute_reply": "2023-11-12T20:49:04.376588Z"
    },
    "papermill": {
     "duration": 20.089711,
     "end_time": "2023-11-12T20:49:04.380444",
     "exception": false,
     "start_time": "2023-11-12T20:48:44.290733",
     "status": "completed"
    },
    "tags": []
   },
   "outputs": [],
   "source": [
    "df_train = pd.read_csv(\"/kaggle/input/optiver-trading-at-the-close/train.csv\")\n"
   ]
  },
  {
   "cell_type": "code",
   "execution_count": 24,
   "id": "2077e616",
   "metadata": {
    "execution": {
     "iopub.execute_input": "2023-11-12T20:49:04.404618Z",
     "iopub.status.busy": "2023-11-12T20:49:04.404193Z",
     "iopub.status.idle": "2023-11-12T20:49:06.052590Z",
     "shell.execute_reply": "2023-11-12T20:49:06.051529Z"
    },
    "papermill": {
     "duration": 1.663504,
     "end_time": "2023-11-12T20:49:06.055277",
     "exception": false,
     "start_time": "2023-11-12T20:49:04.391773",
     "status": "completed"
    },
    "tags": []
   },
   "outputs": [],
   "source": [
    "global_stock_id_feats = global_stock_id_feats(df_train)"
   ]
  },
  {
   "cell_type": "code",
   "execution_count": 25,
   "id": "4304666d",
   "metadata": {
    "_cell_guid": "d30f3862-dca2-4242-9db0-ab9750118622",
    "_uuid": "efd9073c-aaef-4135-bf7c-1e892e9aa831",
    "collapsed": false,
    "execution": {
     "iopub.execute_input": "2023-11-12T20:49:06.081681Z",
     "iopub.status.busy": "2023-11-12T20:49:06.081247Z",
     "iopub.status.idle": "2023-11-12T20:55:58.670693Z",
     "shell.execute_reply": "2023-11-12T20:55:58.669648Z"
    },
    "jupyter": {
     "outputs_hidden": false
    },
    "papermill": {
     "duration": 412.606599,
     "end_time": "2023-11-12T20:55:58.673666",
     "exception": false,
     "start_time": "2023-11-12T20:49:06.067067",
     "status": "completed"
    },
    "tags": []
   },
   "outputs": [
    {
     "name": "stdout",
     "output_type": "stream",
     "text": [
      "This version of the API is not optimized and should not be used to estimate the runtime of your code on the hidden test set.\n"
     ]
    }
   ],
   "source": [
    "counter = 0\n",
    "df_tot_test = []\n",
    "for test, revealed_targets, sample_prediction in iter_test:\n",
    "    test[\"time_id\"] = counter\n",
    "    test[\"target\"] = \"none\"\n",
    "\n",
    "    if counter < 17:\n",
    "        df_tot_test.append(test)\n",
    "    else:\n",
    "        df_tot_test = df_tot_test[1:]\n",
    "        df_tot_test.append(test)\n",
    "\n",
    "    df_test = pd.concat(df_tot_test, axis=0, ignore_index=True)\n",
    "\n",
    "    feat = feat_engineering(df_test)\n",
    "    feat = feat.sort_values([\"date_id\", \"seconds_in_bucket\", \"stock_id\"])[-len(test) :]\n",
    "\n",
    "    list_cols_drop = [\"date_id\"]\n",
    "    feat.drop(list_cols_drop, axis=1, inplace=True)\n",
    "\n",
    "    list_features = model_prod.models[0].feature_name_\n",
    "    feat = feat[list_features]\n",
    "    sample_prediction[\"target\"] = model_prod.predict(feat, 'mean')\n",
    "    env.predict(sample_prediction)\n",
    "    counter += 1"
   ]
  },
  {
   "cell_type": "code",
   "execution_count": null,
   "id": "0ee42574",
   "metadata": {
    "papermill": {
     "duration": 0.011621,
     "end_time": "2023-11-12T20:55:58.697851",
     "exception": false,
     "start_time": "2023-11-12T20:55:58.686230",
     "status": "completed"
    },
    "tags": []
   },
   "outputs": [],
   "source": []
  },
  {
   "cell_type": "code",
   "execution_count": null,
   "id": "0829fff0",
   "metadata": {
    "papermill": {
     "duration": 0.012081,
     "end_time": "2023-11-12T20:55:58.721807",
     "exception": false,
     "start_time": "2023-11-12T20:55:58.709726",
     "status": "completed"
    },
    "tags": []
   },
   "outputs": [],
   "source": []
  }
 ],
 "metadata": {
  "kernelspec": {
   "display_name": "Python 3",
   "language": "python",
   "name": "python3"
  },
  "language_info": {
   "codemirror_mode": {
    "name": "ipython",
    "version": 3
   },
   "file_extension": ".py",
   "mimetype": "text/x-python",
   "name": "python",
   "nbconvert_exporter": "python",
   "pygments_lexer": "ipython3",
   "version": "3.10.12"
  },
  "papermill": {
   "default_parameters": {},
   "duration": 445.541126,
   "end_time": "2023-11-12T20:56:00.260403",
   "environment_variables": {},
   "exception": null,
   "input_path": "__notebook__.ipynb",
   "output_path": "__notebook__.ipynb",
   "parameters": {},
   "start_time": "2023-11-12T20:48:34.719277",
   "version": "2.4.0"
  }
 },
 "nbformat": 4,
 "nbformat_minor": 5
}
