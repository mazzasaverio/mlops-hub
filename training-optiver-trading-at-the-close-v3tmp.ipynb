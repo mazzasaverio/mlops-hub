{
 "cells": [
  {
   "cell_type": "code",
   "execution_count": 1,
   "id": "1e6440f5",
   "metadata": {
    "execution": {
     "iopub.execute_input": "2023-11-08T22:25:09.269561Z",
     "iopub.status.busy": "2023-11-08T22:25:09.269177Z",
     "iopub.status.idle": "2023-11-08T22:25:10.079574Z",
     "shell.execute_reply": "2023-11-08T22:25:10.077952Z"
    },
    "papermill": {
     "duration": 0.826914,
     "end_time": "2023-11-08T22:25:10.082540",
     "exception": false,
     "start_time": "2023-11-08T22:25:09.255626",
     "status": "completed"
    },
    "tags": []
   },
   "outputs": [
    {
     "data": {
      "text/plain": [
       "False"
      ]
     },
     "execution_count": 1,
     "metadata": {},
     "output_type": "execute_result"
    }
   ],
   "source": [
    "# Constants\n",
    "TRAIN = False\n",
    "OVERWRITE = False\n",
    "DEBUG = False\n",
    "\n",
    "models_dir = \"models_5\"\n",
    "\n",
    "N_TRIALS = 3\n",
    "\n",
    "VERSION_NB = 4\n",
    "\n",
    "state = 42\n",
    "\n",
    "download_kaggle_data = False\n",
    "\n",
    "# External general-purpose modules\n",
    "import os\n",
    "import gc\n",
    "\n",
    "import shutil\n",
    "import warnings\n",
    "from datetime import datetime\n",
    "import glob\n",
    "from itertools import combinations\n",
    "from warnings import simplefilter\n",
    "\n",
    "import numpy as np\n",
    "import pandas as pd\n",
    "import polars as pl\n",
    "from dotenv import load_dotenv\n",
    "from joblib import dump\n",
    "import joblib\n",
    "import os\n",
    "\n",
    "# Setting pandas options and warning filters\n",
    "pd.set_option(\"display.max_columns\", None)\n",
    "warnings.filterwarnings(\"ignore\", category=FutureWarning)\n",
    "warnings.filterwarnings(\"ignore\", category=UserWarning)\n",
    "warnings.filterwarnings(\"ignore\")\n",
    "simplefilter(action=\"ignore\", category=pd.errors.PerformanceWarning)\n",
    "\n",
    "# Load environment variables\n",
    "load_dotenv()"
   ]
  },
  {
   "cell_type": "code",
   "execution_count": 2,
   "id": "791f7132",
   "metadata": {
    "_cell_guid": "3bdaa15b-0b9e-4b3b-9c47-58e6b9b18b5e",
    "_uuid": "206043b9-f1d5-4691-b03a-935f2177086d",
    "collapsed": false,
    "execution": {
     "iopub.execute_input": "2023-11-08T22:25:10.108278Z",
     "iopub.status.busy": "2023-11-08T22:25:10.107613Z",
     "iopub.status.idle": "2023-11-08T22:25:11.571797Z",
     "shell.execute_reply": "2023-11-08T22:25:11.570771Z"
    },
    "jupyter": {
     "outputs_hidden": false
    },
    "papermill": {
     "duration": 1.480347,
     "end_time": "2023-11-08T22:25:11.574582",
     "exception": false,
     "start_time": "2023-11-08T22:25:10.094235",
     "status": "completed"
    },
    "tags": []
   },
   "outputs": [],
   "source": [
    "\n",
    "path_project_dir = os.getcwd()\n",
    "if path_project_dir not in [\"/kaggle/working\", \"/content\"]:\n",
    "    path_project_dir = os.getenv(\"ROOT_PATH\")\n",
    "\n",
    "# Imports and setup for training\n",
    "from numba import njit, prange\n",
    "if TRAIN:\n",
    "    \n",
    "\n",
    "    import itertools as itt\n",
    "    # Install packages and import logging libraries\n",
    "    if path_project_dir == '/kaggle/working':\n",
    "        !pip install loguru mlflow optuna > /dev/null\n",
    "        \n",
    "\n",
    "    from utils import log_feature_importance, create_model, log_training_details, aggregate_feature_importance,  get_data, clean_directory_except_one\n",
    "    \n",
    "    from loguru import logger\n",
    "    import mlflow\n",
    "    import optuna\n",
    "    from optuna.integration.mlflow import MLflowCallback\n",
    "    from mlflow.tracking import MlflowClient\n",
    "    import zipfile\n",
    "    \n",
    "    from tqdm import tqdm\n",
    "\n",
    "    # Import machine learning libraries\n",
    "    import lightgbm as lgbm\n",
    "    \n",
    "    from lightgbm import log_evaluation, early_stopping, LGBMRegressor as LGBMR\n",
    "    from sklearn.model_selection import KFold\n",
    "    from xgboost import XGBRegressor as XGBR\n",
    "\n",
    "    # Set logging\n",
    "    logger.add(\"logs.log\", format=\"{time:YYYY-MM-DD HH:mm} | {level} | {message}\")\n",
    "    optuna.logging.set_verbosity(optuna.logging.WARNING)\n",
    "    warnings.filterwarnings(\"ignore\", category=optuna.exceptions.ExperimentalWarning)\n",
    "    \n",
    "    # Auto-reload modules\n",
    "    %load_ext autoreload\n",
    "    %autoreload 2\n",
    "\n",
    "    # Initialize MLflow callback\n",
    "    mlflow_callback = MLflowCallback(\n",
    "        tracking_uri=mlflow.get_tracking_uri(), metric_name=\"mae\"\n",
    "    )"
   ]
  },
  {
   "cell_type": "code",
   "execution_count": 3,
   "id": "9b0f4aa8",
   "metadata": {
    "_cell_guid": "9765420b-f8ab-46ba-8b4c-e4487eb04b76",
    "_uuid": "c4174134-1441-41f8-adbf-f03ad3f7d7dc",
    "collapsed": false,
    "execution": {
     "iopub.execute_input": "2023-11-08T22:25:11.599896Z",
     "iopub.status.busy": "2023-11-08T22:25:11.599096Z",
     "iopub.status.idle": "2023-11-08T22:25:11.608382Z",
     "shell.execute_reply": "2023-11-08T22:25:11.607155Z"
    },
    "jupyter": {
     "outputs_hidden": false
    },
    "papermill": {
     "duration": 0.025344,
     "end_time": "2023-11-08T22:25:11.611514",
     "exception": false,
     "start_time": "2023-11-08T22:25:11.586170",
     "status": "completed"
    },
    "tags": []
   },
   "outputs": [],
   "source": [
    "if path_project_dir == \"/kaggle/working\":\n",
    "    path_data_project_dir = \"/kaggle/input/optiver-trading-at-the-close\"\n",
    "    path_experiments_storage = os.path.join(path_project_dir, \"experiments_storage\")\n",
    "\n",
    "    path_dataset_train_raw = \"/kaggle/input/optiver-trading-at-the-close/train.csv\"\n",
    "    path_dataset_test_raw = (\n",
    "        \"/kaggle/input/optiver-trading-at-the-close/example_test_files/test.csv\"\n",
    "    )\n",
    "\n",
    "    path_dataset_processed = \"/kaggle/working/processed_data\"\n",
    "    path_dataset_train = os.path.join(path_dataset_processed, \"train.csv\")\n",
    "    path_dataset_test = os.path.join(path_dataset_processed, \"test.csv\")\n",
    "\n",
    "else:\n",
    "    name_folder_data_project = \"kaggle_optiver_trading_at_the_close\"\n",
    "\n",
    "    path_data_dir = os.path.join(path_project_dir, \"data\")\n",
    "    path_dataset_train_raw = os.path.join(\n",
    "        path_data_dir, \"kaggle_optiver_trading_at_the_close/raw\", \"train.csv\"\n",
    "    )\n",
    "    path_dataset_processed = os.path.join(\n",
    "        path_data_dir, \"kaggle_optiver_trading_at_the_close/processed\"\n",
    "    )\n",
    "\n",
    "    path_data_project_dir = os.path.join(path_data_dir, name_folder_data_project)\n",
    "\n",
    "    path_config_dir = os.path.join(path_project_dir, \"config\")\n",
    "    path_config_train = os.path.join(path_config_dir, \"train_config.yaml\")\n",
    "\n",
    "    path_experiments_storage = os.path.join(\n",
    "        path_data_project_dir, \"experiments_storage\"\n",
    "    )\n",
    "\n",
    "    if download_kaggle_data:\n",
    "        dataset_name = \"ravi20076/optiver-memoryreduceddatasets\"\n",
    "        kaggle_json_path = os.path.join(path_project_dir, \"kaggle.json\")\n",
    "        get_data(\n",
    "            kaggle_json_path,\n",
    "            path_data_project_dir,\n",
    "            dataset_name=dataset_name,\n",
    "            specific_file=None,\n",
    "        )\n",
    "\n",
    "    file_name_df_train = \"train.csv\"\n",
    "    file_name_df_test = \"test.csv\"\n",
    "\n",
    "    path_dataset_train = os.path.join(path_data_project_dir, file_name_df_train)\n",
    "    path_dataset_test = os.path.join(path_data_project_dir, file_name_df_test)\n",
    "\n",
    "if TRAIN:\n",
    "    mlflow.set_tracking_uri(path_experiments_storage)\n",
    "    client = MlflowClient()"
   ]
  },
  {
   "cell_type": "code",
   "execution_count": 4,
   "id": "98b76e4c",
   "metadata": {
    "execution": {
     "iopub.execute_input": "2023-11-08T22:25:11.636794Z",
     "iopub.status.busy": "2023-11-08T22:25:11.636407Z",
     "iopub.status.idle": "2023-11-08T22:25:11.737963Z",
     "shell.execute_reply": "2023-11-08T22:25:11.736468Z"
    },
    "papermill": {
     "duration": 0.116872,
     "end_time": "2023-11-08T22:25:11.740885",
     "exception": false,
     "start_time": "2023-11-08T22:25:11.624013",
     "status": "completed"
    },
    "tags": []
   },
   "outputs": [],
   "source": [
    "\n",
    "@njit(parallel=True)\n",
    "def compute_triplet_imbalance(df_values, comb_indices):\n",
    "    num_rows = df_values.shape[0]\n",
    "    num_combinations = len(comb_indices)\n",
    "    imbalance_features = np.empty((num_rows, num_combinations))\n",
    "\n",
    "    for i in prange(num_combinations):\n",
    "        a, b, c = comb_indices[i]\n",
    "        for j in range(num_rows):\n",
    "            max_val = max(df_values[j, a], df_values[j, b], df_values[j, c])\n",
    "            min_val = min(df_values[j, a], df_values[j, b], df_values[j, c])\n",
    "            mid_val = df_values[j, a] + df_values[j, b] + df_values[j, c] - min_val - max_val\n",
    "            if mid_val == min_val:  # Prevent division by zero\n",
    "                imbalance_features[j, i] = np.nan\n",
    "            else:\n",
    "                imbalance_features[j, i] = (max_val - mid_val) / (mid_val - min_val)\n",
    "\n",
    "    return imbalance_features\n",
    "\n",
    "\n",
    "def calculate_triplet_imbalance_numba(price, df):\n",
    "    # Convert DataFrame to numpy array for Numba compatibility\n",
    "    df_values = df[price].values\n",
    "    comb_indices = [(price.index(a), price.index(b), price.index(c)) for a, b, c in combinations(price, 3)]\n",
    "\n",
    "    # Calculate the triplet imbalance\n",
    "    features_array = compute_triplet_imbalance(df_values, comb_indices)\n",
    "\n",
    "    # Create a DataFrame from the results\n",
    "    columns = [f\"{a}_{b}_{c}_imb2\" for a, b, c in combinations(price, 3)]\n",
    "    features = pd.DataFrame(features_array, columns=columns)\n",
    "\n",
    "    return features"
   ]
  },
  {
   "cell_type": "code",
   "execution_count": 5,
   "id": "16930c0e",
   "metadata": {
    "execution": {
     "iopub.execute_input": "2023-11-08T22:25:11.764817Z",
     "iopub.status.busy": "2023-11-08T22:25:11.764425Z",
     "iopub.status.idle": "2023-11-08T22:25:11.778420Z",
     "shell.execute_reply": "2023-11-08T22:25:11.777043Z"
    },
    "papermill": {
     "duration": 0.028988,
     "end_time": "2023-11-08T22:25:11.781090",
     "exception": false,
     "start_time": "2023-11-08T22:25:11.752102",
     "status": "completed"
    },
    "tags": []
   },
   "outputs": [],
   "source": [
    "def reduce_mem_usage(df, verbose=0):\n",
    "    \"\"\"\n",
    "    Iterate through all numeric columns of a dataframe and modify the data type\n",
    "    to reduce memory usage.\n",
    "    \"\"\"\n",
    "\n",
    "    start_mem = df.memory_usage().sum() / 1024**2\n",
    "\n",
    "    for col in df.columns:\n",
    "        col_type = df[col].dtype\n",
    "\n",
    "        if (col_type != object) and (col != \"target\"):\n",
    "            c_min = df[col].min()\n",
    "            c_max = df[col].max()\n",
    "            if str(col_type)[:3] == \"int\":\n",
    "                if c_min > np.iinfo(np.int8).min and c_max < np.iinfo(np.int8).max:\n",
    "                    df[col] = df[col].astype(np.int8)\n",
    "                elif c_min > np.iinfo(np.int16).min and c_max < np.iinfo(np.int16).max:\n",
    "                    df[col] = df[col].astype(np.int16)\n",
    "                elif c_min > np.iinfo(np.int32).min and c_max < np.iinfo(np.int32).max:\n",
    "                    df[col] = df[col].astype(np.int32)\n",
    "                elif c_min > np.iinfo(np.int64).min and c_max < np.iinfo(np.int64).max:\n",
    "                    df[col] = df[col].astype(np.int64)\n",
    "            else:\n",
    "                if c_min > np.finfo(np.float16).min and c_max < np.finfo(np.float16).max:\n",
    "                    df[col] = df[col].astype(np.float32)\n",
    "                elif c_min > np.finfo(np.float32).min and c_max < np.finfo(np.float32).max:\n",
    "                    df[col] = df[col].astype(np.float32)\n",
    "                else:\n",
    "                    df[col] = df[col].astype(np.float32)\n",
    "\n",
    "    if verbose:\n",
    "        logger.info(f\"Memory usage of dataframe is {start_mem:.2f} MB\")\n",
    "        end_mem = df.memory_usage().sum() / 1024**2\n",
    "        logger.info(f\"Memory usage after optimization is: {end_mem:.2f} MB\")\n",
    "        decrease = 100 * (start_mem - end_mem) / start_mem\n",
    "        logger.info(f\"Decreased by {decrease:.2f}%\")\n",
    "\n",
    "    return df\n"
   ]
  },
  {
   "cell_type": "code",
   "execution_count": 6,
   "id": "96e93649",
   "metadata": {
    "execution": {
     "iopub.execute_input": "2023-11-08T22:25:11.805824Z",
     "iopub.status.busy": "2023-11-08T22:25:11.805376Z",
     "iopub.status.idle": "2023-11-08T22:25:11.827023Z",
     "shell.execute_reply": "2023-11-08T22:25:11.825583Z"
    },
    "papermill": {
     "duration": 0.037447,
     "end_time": "2023-11-08T22:25:11.829606",
     "exception": false,
     "start_time": "2023-11-08T22:25:11.792159",
     "status": "completed"
    },
    "tags": []
   },
   "outputs": [],
   "source": [
    "# generate imbalance features\n",
    "def imbalance_features(df):\n",
    "    prices = [\"reference_price\", \"far_price\", \"near_price\", \"ask_price\", \"bid_price\", \"wap\"]\n",
    "    sizes = [\"matched_size\", \"bid_size\", \"ask_size\", \"imbalance_size\"]\n",
    "\n",
    "    # V1\n",
    "    df[\"volume\"] = df.eval(\"ask_size + bid_size\")\n",
    "    df[\"mid_price\"] = df.eval(\"(ask_price + bid_price) / 2\")\n",
    "    df[\"liquidity_imbalance\"] = df.eval(\"(bid_size-ask_size)/(bid_size+ask_size)\")\n",
    "    df[\"matched_imbalance\"] = df.eval(\"(imbalance_size-matched_size)/(matched_size+imbalance_size)\")\n",
    "    df[\"size_imbalance\"] = df.eval(\"bid_size / ask_size\")\n",
    "    \n",
    "    for c in combinations(prices, 2):\n",
    "        df[f\"{c[0]}_{c[1]}_imb\"] = df.eval(f\"({c[0]} - {c[1]})/({c[0]} + {c[1]})\")\n",
    "\n",
    "    for c in [['ask_price', 'bid_price', 'wap', 'reference_price'], sizes]:\n",
    "        triplet_feature = calculate_triplet_imbalance_numba(c, df)\n",
    "        df[triplet_feature.columns] = triplet_feature.values\n",
    "        \n",
    "    # V2\n",
    "    df[\"stock_weights\"] = df[\"stock_id\"].map(weights)\n",
    "    df[\"weighted_wap\"] = df[\"stock_weights\"] * df[\"wap\"]\n",
    "    df['wap_momentum'] = df.groupby('stock_id')['weighted_wap'].pct_change(periods=6)\n",
    "    df[\"imbalance_momentum\"] = df.groupby(['stock_id'])['imbalance_size'].diff(periods=1) / df['matched_size']\n",
    "    df[\"price_spread\"] = df[\"ask_price\"] - df[\"bid_price\"]\n",
    "    df[\"spread_intensity\"] = df.groupby(['stock_id'])['price_spread'].diff()\n",
    "    df['price_pressure'] = df['imbalance_size'] * (df['ask_price'] - df['bid_price'])\n",
    "    df['market_urgency'] = df['price_spread'] * df['liquidity_imbalance']\n",
    "    df['depth_pressure'] = (df['ask_size'] - df['bid_size']) * (df['far_price'] - df['near_price'])\n",
    "    df['spread_depth_ratio'] = (df['ask_price'] - df['bid_price']) / (df['bid_size'] + df['ask_size'])\n",
    "    df['mid_price_movement'] = df['mid_price'].diff(periods=5).apply(lambda x: 1 if x > 0 else (-1 if x < 0 else 0))\n",
    "    df['micro_price'] = ((df['bid_price'] * df['ask_size']) + (df['ask_price'] * df['bid_size'])) / (df['bid_size'] + df['ask_size'])\n",
    "    df['relative_spread'] = (df['ask_price'] - df['bid_price']) / df['wap']\n",
    "    \n",
    "    for func in [\"mean\", \"std\", \"skew\", \"kurt\"]:\n",
    "        df[f\"all_prices_{func}\"] = df[prices].agg(func, axis=1)\n",
    "        df[f\"all_sizes_{func}\"] = df[sizes].agg(func, axis=1)\n",
    "        \n",
    "    # V3\n",
    "    for col in ['matched_size', 'imbalance_size', 'reference_price', 'imbalance_buy_sell_flag']:\n",
    "        for window in [1, 2, 3, 5, 10]:\n",
    "            df[f\"{col}_shift_{window}\"] = df.groupby('stock_id')[col].shift(window)\n",
    "            df[f\"{col}_ret_{window}\"] = df.groupby('stock_id')[col].pct_change(window)\n",
    "            \n",
    "    for col in ['ask_price', 'bid_price', 'ask_size', 'bid_size',\n",
    "                'wap', 'near_price', 'far_price']:\n",
    "        for window in [1, 2, 3, 5, 10]:\n",
    "            df[f\"{col}_diff_{window}\"] = df.groupby(\"stock_id\")[col].diff(window)\n",
    "\n",
    "    return df.replace([np.inf, -np.inf], 0)\n",
    "\n",
    "# generate time & stock features\n",
    "def other_features(df):\n",
    "    df[\"dow\"] = df[\"date_id\"] % 5\n",
    "    df[\"dom\"] = df[\"date_id\"] % 20\n",
    "    df[\"seconds\"] = df[\"seconds_in_bucket\"] % 60\n",
    "    df[\"minute\"] = df[\"seconds_in_bucket\"] // 60\n",
    "\n",
    "    for key, value in global_stock_id_feats.items():\n",
    "        df[f\"global_{key}\"] = df[\"stock_id\"].map(value.to_dict())\n",
    "\n",
    "    return df\n",
    "\n",
    "# generate all features\n",
    "def feat_engineering(df):\n",
    "    cols = [c for c in df.columns if c not in [\"row_id\", \"time_id\", \"target\"]]\n",
    "    df = df[cols]\n",
    "    df = imbalance_features(df)\n",
    "    df = other_features(df)\n",
    "    gc.collect()\n",
    "    \n",
    "    feature_name = [i for i in df.columns if i not in [\"row_id\", \"target\", \"time_id\", \"date_id\"]]\n",
    "    \n",
    "    return df[feature_name]"
   ]
  },
  {
   "cell_type": "code",
   "execution_count": 7,
   "id": "d90c14c5",
   "metadata": {
    "execution": {
     "iopub.execute_input": "2023-11-08T22:25:11.855517Z",
     "iopub.status.busy": "2023-11-08T22:25:11.855000Z",
     "iopub.status.idle": "2023-11-08T22:25:11.866750Z",
     "shell.execute_reply": "2023-11-08T22:25:11.865460Z"
    },
    "papermill": {
     "duration": 0.028229,
     "end_time": "2023-11-08T22:25:11.869448",
     "exception": false,
     "start_time": "2023-11-08T22:25:11.841219",
     "status": "completed"
    },
    "tags": []
   },
   "outputs": [],
   "source": [
    "weights = [\n",
    "    0.004, 0.001, 0.002, 0.006, 0.004, 0.004, 0.002, 0.006, 0.006, 0.002, 0.002, 0.008,\n",
    "    0.006, 0.002, 0.008, 0.006, 0.002, 0.006, 0.004, 0.002, 0.004, 0.001, 0.006, 0.004,\n",
    "    0.002, 0.002, 0.004, 0.002, 0.004, 0.004, 0.001, 0.001, 0.002, 0.002, 0.006, 0.004,\n",
    "    0.004, 0.004, 0.006, 0.002, 0.002, 0.04 , 0.002, 0.002, 0.004, 0.04 , 0.002, 0.001,\n",
    "    0.006, 0.004, 0.004, 0.006, 0.001, 0.004, 0.004, 0.002, 0.006, 0.004, 0.006, 0.004,\n",
    "    0.006, 0.004, 0.002, 0.001, 0.002, 0.004, 0.002, 0.008, 0.004, 0.004, 0.002, 0.004,\n",
    "    0.006, 0.002, 0.004, 0.004, 0.002, 0.004, 0.004, 0.004, 0.001, 0.002, 0.002, 0.008,\n",
    "    0.02 , 0.004, 0.006, 0.002, 0.02 , 0.002, 0.002, 0.006, 0.004, 0.002, 0.001, 0.02,\n",
    "    0.006, 0.001, 0.002, 0.004, 0.001, 0.002, 0.006, 0.006, 0.004, 0.006, 0.001, 0.002,\n",
    "    0.004, 0.006, 0.006, 0.001, 0.04 , 0.006, 0.002, 0.004, 0.002, 0.002, 0.006, 0.002,\n",
    "    0.002, 0.004, 0.006, 0.006, 0.002, 0.002, 0.008, 0.006, 0.004, 0.002, 0.006, 0.002,\n",
    "    0.004, 0.006, 0.002, 0.004, 0.001, 0.004, 0.002, 0.004, 0.008, 0.006, 0.008, 0.002,\n",
    "    0.004, 0.002, 0.001, 0.004, 0.004, 0.004, 0.006, 0.008, 0.004, 0.001, 0.001, 0.002,\n",
    "    0.006, 0.004, 0.001, 0.002, 0.006, 0.004, 0.006, 0.008, 0.002, 0.002, 0.004, 0.002,\n",
    "    0.04 , 0.002, 0.002, 0.004, 0.002, 0.002, 0.006, 0.02 , 0.004, 0.002, 0.006, 0.02,\n",
    "    0.001, 0.002, 0.006, 0.004, 0.006, 0.004, 0.004, 0.004, 0.004, 0.002, 0.004, 0.04,\n",
    "    0.002, 0.008, 0.002, 0.004, 0.001, 0.004, 0.006, 0.004,\n",
    "]\n",
    "\n",
    "weights = {int(k):v for k,v in enumerate(weights)}"
   ]
  },
  {
   "cell_type": "code",
   "execution_count": 8,
   "id": "63f50e01",
   "metadata": {
    "execution": {
     "iopub.execute_input": "2023-11-08T22:25:11.893937Z",
     "iopub.status.busy": "2023-11-08T22:25:11.893428Z",
     "iopub.status.idle": "2023-11-08T22:25:11.901366Z",
     "shell.execute_reply": "2023-11-08T22:25:11.900018Z"
    },
    "papermill": {
     "duration": 0.023378,
     "end_time": "2023-11-08T22:25:11.903843",
     "exception": false,
     "start_time": "2023-11-08T22:25:11.880465",
     "status": "completed"
    },
    "tags": []
   },
   "outputs": [],
   "source": [
    "if TRAIN:\n",
    "    if not os.path.exists(path_dataset_processed):\n",
    "        os.makedirs(path_dataset_processed)\n",
    "\n",
    "    if not os.path.exists(path_dataset_train) or OVERWRITE:\n",
    "        df_train_raw = pd.read_csv(path_dataset_train_raw)\n",
    "        \n",
    "    else:\n",
    "        df_train_raw = pd.read_csv(path_dataset_train)\n",
    "\n",
    "    if DEBUG:\n",
    "        df_train_raw = df_train_raw[df_train_raw[\"stock_id\"].isin([0, 1, 2])]\n",
    "        \n",
    "    drop_idx = df_train_raw.loc[df_train_raw[\"target\"].isna(), \"target\"].index.to_list()\n",
    "    df_train= df_train_raw.drop(drop_idx, axis=0)\n",
    "    df_train.reset_index(drop=True, inplace=True)\n",
    "    \n",
    "    #df_train_raw = df_train_raw.drop([\"time_id\",\"row_id\"], axis = 1)"
   ]
  },
  {
   "cell_type": "code",
   "execution_count": null,
   "id": "c294540c",
   "metadata": {
    "papermill": {
     "duration": 0.012392,
     "end_time": "2023-11-08T22:25:11.928269",
     "exception": false,
     "start_time": "2023-11-08T22:25:11.915877",
     "status": "completed"
    },
    "tags": []
   },
   "outputs": [],
   "source": []
  },
  {
   "cell_type": "code",
   "execution_count": 9,
   "id": "64a321d1",
   "metadata": {
    "execution": {
     "iopub.execute_input": "2023-11-08T22:25:11.954402Z",
     "iopub.status.busy": "2023-11-08T22:25:11.953825Z",
     "iopub.status.idle": "2023-11-08T22:25:11.963045Z",
     "shell.execute_reply": "2023-11-08T22:25:11.961384Z"
    },
    "papermill": {
     "duration": 0.026475,
     "end_time": "2023-11-08T22:25:11.965706",
     "exception": false,
     "start_time": "2023-11-08T22:25:11.939231",
     "status": "completed"
    },
    "tags": []
   },
   "outputs": [],
   "source": [
    "if TRAIN:\n",
    "    global_stock_id_feats = {\n",
    "        \"median_size\": df_train.groupby(\"stock_id\")[\"bid_size\"].median() + df_train.groupby(\"stock_id\")[\"ask_size\"].median(),\n",
    "        \"std_size\": df_train.groupby(\"stock_id\")[\"bid_size\"].std() + df_train.groupby(\"stock_id\")[\"ask_size\"].std(),\n",
    "        \"ptp_size\": df_train.groupby(\"stock_id\")[\"bid_size\"].max() - df_train.groupby(\"stock_id\")[\"bid_size\"].min(),\n",
    "        \"median_price\": df_train.groupby(\"stock_id\")[\"bid_price\"].median() + df_train.groupby(\"stock_id\")[\"ask_price\"].median(),\n",
    "        \"std_price\": df_train.groupby(\"stock_id\")[\"bid_price\"].std() + df_train.groupby(\"stock_id\")[\"ask_price\"].std(),\n",
    "        \"ptp_price\": df_train.groupby(\"stock_id\")[\"bid_price\"].max() - df_train.groupby(\"stock_id\")[\"ask_price\"].min(),\n",
    "    }\n",
    "   \n",
    "\n",
    "    df_train_feats = feat_engineering(df_train)\n",
    "    print(\"Build Online Train Feats Finished.\")\n",
    "\n",
    "    df_train_feats = reduce_mem_usage(df_train_feats)"
   ]
  },
  {
   "cell_type": "code",
   "execution_count": 10,
   "id": "fd72a46c",
   "metadata": {
    "execution": {
     "iopub.execute_input": "2023-11-08T22:25:11.993277Z",
     "iopub.status.busy": "2023-11-08T22:25:11.992828Z",
     "iopub.status.idle": "2023-11-08T22:25:12.146627Z",
     "shell.execute_reply": "2023-11-08T22:25:12.145661Z"
    },
    "papermill": {
     "duration": 0.169779,
     "end_time": "2023-11-08T22:25:12.149211",
     "exception": false,
     "start_time": "2023-11-08T22:25:11.979432",
     "status": "completed"
    },
    "tags": []
   },
   "outputs": [],
   "source": [
    "def feat_engineering(df_train):\n",
    "    weights = [\n",
    "    0.004, 0.001, 0.002, 0.006, 0.004, 0.004, 0.002, 0.006, 0.006, 0.002, 0.002, 0.008,\n",
    "    0.006, 0.002, 0.008, 0.006, 0.002, 0.006, 0.004, 0.002, 0.004, 0.001, 0.006, 0.004,\n",
    "    0.002, 0.002, 0.004, 0.002, 0.004, 0.004, 0.001, 0.001, 0.002, 0.002, 0.006, 0.004,\n",
    "    0.004, 0.004, 0.006, 0.002, 0.002, 0.04 , 0.002, 0.002, 0.004, 0.04 , 0.002, 0.001,\n",
    "    0.006, 0.004, 0.004, 0.006, 0.001, 0.004, 0.004, 0.002, 0.006, 0.004, 0.006, 0.004,\n",
    "    0.006, 0.004, 0.002, 0.001, 0.002, 0.004, 0.002, 0.008, 0.004, 0.004, 0.002, 0.004,\n",
    "    0.006, 0.002, 0.004, 0.004, 0.002, 0.004, 0.004, 0.004, 0.001, 0.002, 0.002, 0.008,\n",
    "    0.02 , 0.004, 0.006, 0.002, 0.02 , 0.002, 0.002, 0.006, 0.004, 0.002, 0.001, 0.02,\n",
    "    0.006, 0.001, 0.002, 0.004, 0.001, 0.002, 0.006, 0.006, 0.004, 0.006, 0.001, 0.002,\n",
    "    0.004, 0.006, 0.006, 0.001, 0.04 , 0.006, 0.002, 0.004, 0.002, 0.002, 0.006, 0.002,\n",
    "    0.002, 0.004, 0.006, 0.006, 0.002, 0.002, 0.008, 0.006, 0.004, 0.002, 0.006, 0.002,\n",
    "    0.004, 0.006, 0.002, 0.004, 0.001, 0.004, 0.002, 0.004, 0.008, 0.006, 0.008, 0.002,\n",
    "    0.004, 0.002, 0.001, 0.004, 0.004, 0.004, 0.006, 0.008, 0.004, 0.001, 0.001, 0.002,\n",
    "    0.006, 0.004, 0.001, 0.002, 0.006, 0.004, 0.006, 0.008, 0.002, 0.002, 0.004, 0.002,\n",
    "    0.04 , 0.002, 0.002, 0.004, 0.002, 0.002, 0.006, 0.02 , 0.004, 0.002, 0.006, 0.02,\n",
    "    0.001, 0.002, 0.006, 0.004, 0.006, 0.004, 0.004, 0.004, 0.004, 0.002, 0.004, 0.04,\n",
    "    0.002, 0.008, 0.002, 0.004, 0.001, 0.004, 0.006, 0.004,\n",
    "    ]\n",
    "    df = df_train.copy()\n",
    "    del df_train\n",
    "    weights = {int(k):v for k,v in enumerate(weights)}\n",
    "    df[\"stock_weights\"] = df[\"stock_id\"].map(weights)\n",
    "\n",
    "    df[\"volume\"] = df.eval(\"ask_size + bid_size\")\n",
    "    df[\"liquidity_imbalance\"] = df.eval(\"(bid_size-ask_size)/(bid_size+ask_size)\")\n",
    "    df[\"matched_imbalance\"] = df.eval(\"(imbalance_size-matched_size)/(matched_size+imbalance_size)\")\n",
    "    df[\"size_imbalance\"] = df.eval(\"bid_size / ask_size\")\n",
    "    \n",
    "    prices = [\"reference_price\", \"far_price\", \"near_price\", \"ask_price\", \"bid_price\", \"wap\"]\n",
    "    sizes = [\"matched_size\", \"bid_size\", \"ask_size\", \"imbalance_size\"]\n",
    "    \n",
    "    for c in combinations(prices, 2):\n",
    "        df[f\"{c[0]}_{c[1]}_imb\"] = df.eval(f\"({c[0]} - {c[1]})/({c[0]} + {c[1]})\")\n",
    "\n",
    "    for c in [['ask_price', 'bid_price', 'wap', 'reference_price'], sizes]:\n",
    "        triplet_feature = calculate_triplet_imbalance_numba(c, df)\n",
    "        df[triplet_feature.columns] = triplet_feature.values\n",
    "        \n",
    "\n",
    "    df[\"weighted_wap\"] = df[\"stock_weights\"] * df[\"wap\"]\n",
    "    df['wap_momentum'] = df.groupby('stock_id')['weighted_wap'].pct_change(periods=6)\n",
    "    df[\"imbalance_momentum\"] = df.groupby(['stock_id'])['imbalance_size'].diff(periods=1) / df['matched_size']\n",
    "    df[\"price_spread\"] = df[\"ask_price\"] - df[\"bid_price\"]\n",
    "    df[\"spread_intensity\"] = df.groupby(['stock_id'])['price_spread'].diff()\n",
    "    df['market_urgency'] = df['price_spread'] * df['liquidity_imbalance']\n",
    "    df['depth_pressure'] = (df['ask_size'] - df['bid_size']) * (df['far_price'] - df['near_price'])\n",
    "    df['spread_depth_ratio'] = (df['ask_price'] - df['bid_price']) / (df['bid_size'] + df['ask_size'])\n",
    "\n",
    "\n",
    "    \n",
    "    for func in [\"mean\", \"std\", \"skew\"]:\n",
    "        df[f\"all_prices_{func}\"] = df[prices].agg(func, axis=1)\n",
    "        df[f\"all_sizes_{func}\"] = df[sizes].agg(func, axis=1)\n",
    "        \n",
    "    df = df.replace([np.inf, -np.inf], 0)\n",
    "    \n",
    "\n",
    "    df = pl.DataFrame(df)\n",
    "    df = df.sort([\"stock_id\", \"date_id\", \"seconds_in_bucket\"])\n",
    "\n",
    "    df = df.with_columns(\n",
    "        (pl.col(\"seconds_in_bucket\") / 10).cast(pl.Int32).alias(\"seconds_in_bucket\")\n",
    "    )\n",
    "\n",
    "    list_cols = list(df.columns)\n",
    "    list_cols_ma = [col for col in list_cols if col not in ['stock_id', 'date_id', 'seconds_in_bucket', \n",
    "       'imbalance_buy_sell_flag', 'reference_price', 'matched_size',\n",
    "       'far_price', 'near_price', 'bid_price', 'bid_size', 'ask_price',\n",
    "       'ask_size', 'wap', 'target', 'time_id', 'row_id','stock_weights','near_price_ask_price_imb'] ]\n",
    "    \n",
    "    \n",
    "    list_cols = ['all_prices_mean',\n",
    "         'all_prices_mean_mean_15',\n",
    "         'all_prices_mean_mean_3',\n",
    "         'all_prices_mean_mean_8',\n",
    "         'all_prices_mean_std_8',\n",
    "         'all_prices_skew_mean_10',\n",
    "         'all_prices_skew_mean_15',\n",
    "         'all_prices_skew_std_10',\n",
    "         'all_prices_skew_std_8',\n",
    "         'all_prices_std_std_8',\n",
    "         'all_sizes_mean_mean_15',\n",
    "         'all_sizes_mean_std_10',\n",
    "         'all_sizes_mean_std_15',\n",
    "         'all_sizes_std',\n",
    "         'all_sizes_std_std_15',\n",
    "         'ask_price_bid_price_imb_std_10',\n",
    "         'ask_price_bid_price_imb_std_15',\n",
    "         'ask_price_bid_price_reference_price_imb2',\n",
    "         'ask_price_bid_price_reference_price_imb2_std_10',\n",
    "         'ask_price_bid_price_reference_price_imb2_std_15',\n",
    "         'ask_price_bid_price_reference_price_imb2_std_8',\n",
    "         'ask_price_bid_price_wap_imb2',\n",
    "         'ask_price_wap_imb',\n",
    "         'ask_price_wap_imb_mean_8',\n",
    "         'ask_price_wap_imb_std_10',\n",
    "         'ask_price_wap_imb_std_8',\n",
    "         'ask_price_wap_reference_price_imb2',\n",
    "         'ask_price_wap_reference_price_imb2_mean_15',\n",
    "         'bid_price_wap_imb',\n",
    "         'bid_price_wap_imb_std_10',\n",
    "         'bid_price_wap_imb_std_8',\n",
    "         'bid_price_wap_reference_price_imb2',\n",
    "         'bid_price_wap_reference_price_imb2_std_15',\n",
    "         'bid_price_wap_reference_price_imb2_std_8',\n",
    "         'bid_size_ask_size_imbalance_size_imb2_mean_8',\n",
    "         'far_price_near_price_imb_mean_3',\n",
    "         'far_price_near_price_imb_std_8',\n",
    "         'imbalance_momentum_mean_10',\n",
    "         'imbalance_momentum_mean_15',\n",
    "         'imbalance_momentum_mean_8',\n",
    "         'imbalance_momentum_std_15',\n",
    "         'imbalance_size',\n",
    "         'imbalance_size_mean_15',\n",
    "         'imbalance_size_std_10',\n",
    "         'imbalance_size_std_8',\n",
    "         'market_urgency',\n",
    "         'market_urgency_mean_8',\n",
    "         'matched_size_ask_size_imbalance_size_imb2_std_15',\n",
    "         'matched_size_bid_size_ask_size_imb2',\n",
    "         'matched_size_bid_size_ask_size_imb2_std_10',\n",
    "         'matched_size_bid_size_imbalance_size_imb2_std_8',\n",
    "         'price_spread_std_15',\n",
    "         'reference_price_ask_price_imb',\n",
    "         'reference_price_ask_price_imb_mean_10',\n",
    "         'reference_price_ask_price_imb_mean_15',\n",
    "         'reference_price_ask_price_imb_std_15',\n",
    "         'reference_price_bid_price_imb',\n",
    "         'reference_price_bid_price_imb_mean_15',\n",
    "         'reference_price_bid_price_imb_std_8',\n",
    "         'reference_price_wap_imb',\n",
    "         'reference_price_wap_imb_mean_10',\n",
    "         'reference_price_wap_imb_mean_15',\n",
    "         'reference_price_wap_imb_mean_8',\n",
    "         'reference_price_wap_imb_std_8',\n",
    "         'seconds_in_bucket',\n",
    "         'size_imbalance',\n",
    "         'spread_depth_ratio',\n",
    "         'spread_depth_ratio_mean_15',\n",
    "         'spread_depth_ratio_std_10',\n",
    "         'spread_depth_ratio_std_15',\n",
    "         'spread_depth_ratio_std_8',\n",
    "         'spread_intensity_std_10',\n",
    "         'spread_intensity_std_15',\n",
    "         'volume_mean_15',\n",
    "         'wap_momentum',\n",
    "         'wap_momentum_mean_10',\n",
    "         'wap_momentum_mean_15',\n",
    "         'wap_momentum_mean_3',\n",
    "         'wap_momentum_mean_6',\n",
    "         'wap_momentum_mean_8',\n",
    "         'weighted_wap',\n",
    "         'weighted_wap_mean_15',\n",
    "         'weighted_wap_mean_3',\n",
    "         'weighted_wap_mean_8',\n",
    "         'weighted_wap_std_15']\n",
    "\n",
    "    def rolling_polars(df, list_cols, col_group_by, index_column):\n",
    "        for col in list_cols:\n",
    "            if TRAIN:\n",
    "                print(col)\n",
    "            function = col.split(\"_\")[-2]\n",
    "            if function in [\"mean\",\"std\"]:\n",
    "                base_col = \"_\".join(col.split(\"_\")[:-2])\n",
    "\n",
    "                window = col.split(\"_\")[-1]\n",
    "\n",
    "\n",
    "                rolling_group = df.group_by_rolling(\n",
    "                        index_column=index_column,\n",
    "                        period=f\"{window}i\",  # 'i' denotes index count (integer)\n",
    "                        by=col_group_by,\n",
    "                        closed=\"left\",  # Adjust as needed\n",
    "                    )\n",
    "                if function == \"mean\":\n",
    "                    df = df.join(\n",
    "                        rolling_group.agg(pl.col(base_col).mean().alias(f\"{base_col}_mean_{window}\")),\n",
    "                        on=[\"stock_id\", \"date_id\", \"seconds_in_bucket\"],\n",
    "                        how=\"left\",\n",
    "                    )\n",
    "                elif function == \"std\":\n",
    "                    df = df.join(\n",
    "                        rolling_group.agg(pl.col(base_col).std().alias(f\"{base_col}_std_{window}\")),\n",
    "                        on=[\"stock_id\", \"date_id\", \"seconds_in_bucket\"],\n",
    "                        how=\"left\",\n",
    "                    )\n",
    "        return df\n",
    "        \n",
    "    df = rolling_polars(df, list_cols, [\"stock_id\", \"date_id\"], \"seconds_in_bucket\")\n",
    "   \n",
    "\n",
    "\n",
    "    df = df.to_pandas()\n",
    "    \n",
    "    if TRAIN:\n",
    "        return df[list_cols + [\"date_id\",\"stock_id\",\"target\"]]\n",
    "    else:\n",
    "        return df[list_cols + [\"date_id\",\"stock_id\"]]"
   ]
  },
  {
   "cell_type": "code",
   "execution_count": null,
   "id": "f0596d73",
   "metadata": {
    "papermill": {
     "duration": 0.011661,
     "end_time": "2023-11-08T22:25:12.171600",
     "exception": false,
     "start_time": "2023-11-08T22:25:12.159939",
     "status": "completed"
    },
    "tags": []
   },
   "outputs": [],
   "source": []
  },
  {
   "cell_type": "code",
   "execution_count": 11,
   "id": "b2c669a2",
   "metadata": {
    "execution": {
     "iopub.execute_input": "2023-11-08T22:25:12.261067Z",
     "iopub.status.busy": "2023-11-08T22:25:12.260209Z",
     "iopub.status.idle": "2023-11-08T22:25:12.269437Z",
     "shell.execute_reply": "2023-11-08T22:25:12.268101Z"
    },
    "papermill": {
     "duration": 0.025445,
     "end_time": "2023-11-08T22:25:12.272333",
     "exception": false,
     "start_time": "2023-11-08T22:25:12.246888",
     "status": "completed"
    },
    "tags": []
   },
   "outputs": [],
   "source": [
    "def time_series_split(X, n_splits, n_test_splits, embargo_td=2):\n",
    "    factorized_indices = np.unique(X[\"factorized\"])\n",
    "\n",
    "    # Compute the fold boundaries\n",
    "    fold_bounds = [\n",
    "        (fold[0], fold[-1] + 1) for fold in np.array_split(factorized_indices, n_splits)\n",
    "    ]\n",
    "\n",
    "    # Create the list of all tests test_fold_bounds that will become the test sets\n",
    "    selected_fold_bounds = list(itt.combinations(fold_bounds, n_test_splits))\n",
    "\n",
    "    # Reverse to start the testing from the most recent part of the dataset\n",
    "    selected_fold_bounds.reverse()\n",
    "\n",
    "    for fold_bound_list in selected_fold_bounds:\n",
    "        test_factorized_indices = np.empty(0)\n",
    "        test_fold_bounds = []\n",
    "\n",
    "        for fold_start, fold_end in fold_bound_list:\n",
    "            # Records the boundaries of the current test split\n",
    "            if not test_fold_bounds or fold_start != test_fold_bounds[-1][-1]:\n",
    "                test_fold_bounds.append((fold_start, fold_end))\n",
    "            elif fold_start == test_fold_bounds[-1][-1]:\n",
    "                test_fold_bounds[-1] = (test_fold_bounds[-1][0], fold_end)\n",
    "\n",
    "            test_factorized_indices = np.union1d(\n",
    "                test_factorized_indices, factorized_indices[fold_start:fold_end]\n",
    "            ).astype(int)\n",
    "\n",
    "        # Compute the train set indices\n",
    "        train_indices = np.setdiff1d(factorized_indices, test_factorized_indices)\n",
    "\n",
    "        # Purge and embargo can be added here if needed\n",
    "        # ...\n",
    "\n",
    "        yield train_indices, test_factorized_indices\n",
    "\n",
    "\n",
    "# # Example usage:\n"
   ]
  },
  {
   "cell_type": "code",
   "execution_count": 12,
   "id": "146562ad",
   "metadata": {
    "execution": {
     "iopub.execute_input": "2023-11-08T22:25:12.298551Z",
     "iopub.status.busy": "2023-11-08T22:25:12.298042Z",
     "iopub.status.idle": "2023-11-08T22:25:12.304822Z",
     "shell.execute_reply": "2023-11-08T22:25:12.303583Z"
    },
    "papermill": {
     "duration": 0.023071,
     "end_time": "2023-11-08T22:25:12.307037",
     "exception": false,
     "start_time": "2023-11-08T22:25:12.283966",
     "status": "completed"
    },
    "tags": []
   },
   "outputs": [],
   "source": [
    "if TRAIN:\n",
    "    col_split = \"date_id\"\n",
    "    df_train.sort_values([col_split], inplace=True)\n",
    "    df_train.reset_index(drop=True, inplace=True)\n",
    "    df_train[\"factorized\"] = pd.factorize(df_train[col_split])[0]\n",
    "    \n",
    "    list_cols_drop = [\"date_id\"]\n",
    "    df_train.drop(list_cols_drop, axis=1, inplace=True)"
   ]
  },
  {
   "cell_type": "code",
   "execution_count": null,
   "id": "1e35c4af",
   "metadata": {
    "papermill": {
     "duration": 0.013001,
     "end_time": "2023-11-08T22:25:12.332986",
     "exception": false,
     "start_time": "2023-11-08T22:25:12.319985",
     "status": "completed"
    },
    "tags": []
   },
   "outputs": [],
   "source": []
  },
  {
   "cell_type": "code",
   "execution_count": 13,
   "id": "150e829a",
   "metadata": {
    "execution": {
     "iopub.execute_input": "2023-11-08T22:25:12.358368Z",
     "iopub.status.busy": "2023-11-08T22:25:12.357564Z",
     "iopub.status.idle": "2023-11-08T22:25:12.362451Z",
     "shell.execute_reply": "2023-11-08T22:25:12.361460Z"
    },
    "papermill": {
     "duration": 0.020268,
     "end_time": "2023-11-08T22:25:12.364761",
     "exception": false,
     "start_time": "2023-11-08T22:25:12.344493",
     "status": "completed"
    },
    "tags": []
   },
   "outputs": [],
   "source": [
    "if DEBUG:\n",
    "    n_estimators_min =n_estimators_max= 50\n",
    "else:\n",
    "    n_estimators_min = 500\n",
    "    n_estimators_max = 500\n",
    "    "
   ]
  },
  {
   "cell_type": "code",
   "execution_count": 14,
   "id": "e9da5c54",
   "metadata": {
    "execution": {
     "iopub.execute_input": "2023-11-08T22:25:12.390032Z",
     "iopub.status.busy": "2023-11-08T22:25:12.389284Z",
     "iopub.status.idle": "2023-11-08T22:25:12.400004Z",
     "shell.execute_reply": "2023-11-08T22:25:12.398928Z"
    },
    "papermill": {
     "duration": 0.026659,
     "end_time": "2023-11-08T22:25:12.402545",
     "exception": false,
     "start_time": "2023-11-08T22:25:12.375886",
     "status": "completed"
    },
    "tags": []
   },
   "outputs": [],
   "source": [
    "gpu_switch = \"OFF\"\n",
    "n_splits = 5\n",
    "n_test_split = 1\n",
    "embargo_td = 100\n",
    "\n",
    "n_repeats = 1\n",
    "nbrnd_erly_stp = 130\n",
    "\n",
    "cv_mthd = \"KF\"\n",
    "\n",
    "# Cross-Validation Setup\n",
    "if TRAIN:\n",
    "    all_cv = {\"KF\": KFold(n_splits=n_splits, shuffle=True, random_state=state)}\n",
    "    cv = all_cv[cv_mthd]\n",
    "\n",
    "    model_params_dict = {\n",
    "        \"LGBMR\": {\n",
    "            \"static_params\": {\n",
    "                \"device\": \"gpu\" if gpu_switch == \"ON\" else \"cpu\",\n",
    "                \"objective\": \"mae\",\n",
    "                \"boosting_type\": \"gbdt\",\n",
    "                \"random_state\": state,\n",
    "                \"n_jobs\" : 4,\n",
    "                \"verbose\": -1,\n",
    "                \"importance_type\" : \"gain\",\n",
    "            },\n",
    "            \"dynamic_params\": {\n",
    "                \"n_estimators\": {\n",
    "                    \"type\": \"int\",\n",
    "                    \"low\": n_estimators_min,\n",
    "                    \"high\": n_estimators_max,\n",
    "                },\n",
    "                \"learning_rate\": {\n",
    "                    \"type\": \"float\",\n",
    "                    \"low\": 0.005,\n",
    "                    \"high\": 0.06,\n",
    "                },\n",
    "                \"max_depth\": {\"type\": \"int\", \"low\": 10, \"high\": 90},\n",
    "                \"num_leaves\": {\n",
    "                    \"type\": \"int\",\n",
    "                    \"low\": 20,\n",
    "                    \"high\": 90,\n",
    "                },\n",
    "                \"min_child_samples\": {\n",
    "                    \"type\": \"int\",\n",
    "                    \"low\": 10,\n",
    "                    \"high\": 70,\n",
    "                },\n",
    "                \"subsample\": {\n",
    "                    \"type\": \"float\",\n",
    "                    \"low\": 0.7,\n",
    "                    \"high\": 1,\n",
    "                },\n",
    "                \"colsample_bytree\": {\n",
    "                    \"type\": \"float\",\n",
    "                    \"low\": 1,\n",
    "                    \"high\": 1,\n",
    "                },\n",
    "                \"min_split_gain\": {\n",
    "                    \"type\": \"float\",\n",
    "                    \"low\": 0,\n",
    "                    \"high\": 2,\n",
    "                },\n",
    "                \"reg_alpha\": {\n",
    "                    \"type\": \"float\",\n",
    "                    \"low\": 0,\n",
    "                    \"high\": 3,\n",
    "                },\n",
    "                \"reg_lambda\": {\n",
    "                    \"type\": \"float\",\n",
    "                    \"low\": 0,\n",
    "                    \"high\": 3,\n",
    "                },\n",
    "            },\n",
    "        },\n",
    "    }\n",
    "\n",
    "    dict_models = {\"LGBMR\": LGBMR}\n",
    "\n",
    "    log_model = True\n",
    "\n",
    "    experiment_date_str = datetime.now().strftime(\"%Y%m%d_%H_%M_%S\")\n",
    "    experiment_purpose = \"optiver_trading_at_the_close\"\n",
    "    experiment_name = f\"{experiment_purpose}_{experiment_date_str}\"\n",
    "\n",
    "    mlflow.set_experiment(experiment_name)\n"
   ]
  },
  {
   "cell_type": "code",
   "execution_count": 15,
   "id": "842bb15c",
   "metadata": {
    "execution": {
     "iopub.execute_input": "2023-11-08T22:25:12.427956Z",
     "iopub.status.busy": "2023-11-08T22:25:12.427210Z",
     "iopub.status.idle": "2023-11-08T22:25:12.432503Z",
     "shell.execute_reply": "2023-11-08T22:25:12.431425Z"
    },
    "papermill": {
     "duration": 0.021123,
     "end_time": "2023-11-08T22:25:12.434930",
     "exception": false,
     "start_time": "2023-11-08T22:25:12.413807",
     "status": "completed"
    },
    "tags": []
   },
   "outputs": [],
   "source": [
    "# Run the Optuna study\n",
    "if TRAIN:\n",
    "    study = optuna.create_study(\n",
    "        direction=\"minimize\",\n",
    "        study_name=\"Your Study Name\",\n",
    "        load_if_exists=True,\n",
    "    )\n",
    "    study.optimize(lambda trial: objective(trial, df_train), n_trials=N_TRIALS)"
   ]
  },
  {
   "cell_type": "code",
   "execution_count": 16,
   "id": "8446e26d",
   "metadata": {
    "execution": {
     "iopub.execute_input": "2023-11-08T22:25:12.461044Z",
     "iopub.status.busy": "2023-11-08T22:25:12.460235Z",
     "iopub.status.idle": "2023-11-08T22:25:12.466537Z",
     "shell.execute_reply": "2023-11-08T22:25:12.465430Z"
    },
    "papermill": {
     "duration": 0.02321,
     "end_time": "2023-11-08T22:25:12.469170",
     "exception": false,
     "start_time": "2023-11-08T22:25:12.445960",
     "status": "completed"
    },
    "tags": []
   },
   "outputs": [],
   "source": [
    "if TRAIN:\n",
    "    args = {\n",
    "        'trial': \"trial\",\n",
    "        'df_train': df_train,\n",
    "        'cv_mthd': cv_mthd,\n",
    "        'experiment_purpose': experiment_purpose,\n",
    "        'experiment_name': experiment_name,\n",
    "        'VERSION_NB': VERSION_NB,\n",
    "        'dict_models': dict_models,\n",
    "        'model_params_dict': model_params_dict,\n",
    "        'logger': logger,\n",
    "        'time_series_split': time_series_split,\n",
    "        'n_splits': n_splits,\n",
    "        'n_test_split': n_test_split,\n",
    "        'create_model': create_model,\n",
    "        'log_training_details': log_training_details,\n",
    "        'log_feature_importance': log_feature_importance,\n",
    "        'experiment_date_str': experiment_date_str,\n",
    "        'path_experiments_storage': path_experiments_storage,\n",
    "        'target_col': 'target'\n",
    "    }\n"
   ]
  },
  {
   "cell_type": "code",
   "execution_count": null,
   "id": "82a3cd41",
   "metadata": {
    "papermill": {
     "duration": 0.010794,
     "end_time": "2023-11-08T22:25:12.491032",
     "exception": false,
     "start_time": "2023-11-08T22:25:12.480238",
     "status": "completed"
    },
    "tags": []
   },
   "outputs": [],
   "source": []
  },
  {
   "cell_type": "code",
   "execution_count": null,
   "id": "73adb7f7",
   "metadata": {
    "papermill": {
     "duration": 0.01255,
     "end_time": "2023-11-08T22:25:12.514781",
     "exception": false,
     "start_time": "2023-11-08T22:25:12.502231",
     "status": "completed"
    },
    "tags": []
   },
   "outputs": [],
   "source": []
  },
  {
   "cell_type": "code",
   "execution_count": 17,
   "id": "7f731184",
   "metadata": {
    "_cell_guid": "51030a77-aba3-469f-9c08-7963bc8a09d2",
    "_uuid": "6ff7d358-62f0-4ac9-b028-d1c920bb4eaf",
    "collapsed": false,
    "execution": {
     "iopub.execute_input": "2023-11-08T22:25:12.540786Z",
     "iopub.status.busy": "2023-11-08T22:25:12.539249Z",
     "iopub.status.idle": "2023-11-08T22:25:12.550339Z",
     "shell.execute_reply": "2023-11-08T22:25:12.549115Z"
    },
    "jupyter": {
     "outputs_hidden": false
    },
    "papermill": {
     "duration": 0.026477,
     "end_time": "2023-11-08T22:25:12.552937",
     "exception": false,
     "start_time": "2023-11-08T22:25:12.526460",
     "status": "completed"
    },
    "tags": []
   },
   "outputs": [],
   "source": [
    "def experiments_data(list_experiment_id = None, save_df = None, list_columns = None):\n",
    "    \"\"\"\n",
    "    Ogni volta che viene chiamata questa funzione legge tutti gli esperimenti e ritorna una nuova versione del file con tutti gli esperimenti storicizzati\n",
    "    \"\"\"\n",
    "    experiments = client.search_experiments()\n",
    "    all_runs_data = []\n",
    "    for exp in experiments:\n",
    "        experiment_id = exp.experiment_id\n",
    "        if (list_experiment_id == None) or (experiment_id in list_experiment_id):\n",
    "        \n",
    "            run_infos = client.search_runs(experiment_ids=[experiment_id])\n",
    "\n",
    "            for run_info in run_infos:\n",
    "                run_data = {\n",
    "                    \"experiment_id\": experiment_id,\n",
    "                    \"experiment_name\": exp.name,\n",
    "                    \"run_id\": run_info.info.run_id,\n",
    "                }\n",
    "\n",
    "                # Add metrics to run_data\n",
    "                for key, value in run_info.data.metrics.items():\n",
    "                    run_data[f\"{key}\"] = value\n",
    "\n",
    "                # Add params to run_data\n",
    "                for key, value in run_info.data.params.items():\n",
    "                    run_data[f\"{key}\"] = value\n",
    "\n",
    "                all_runs_data.append(run_data)\n",
    "        \n",
    "    df_runs_new = pd.DataFrame(all_runs_data)\n",
    "    \n",
    "\n",
    "    \n",
    "    df_runs_new = df_runs_new[~df_runs_new[\"fold_number\"].isna()]\n",
    "    \n",
    "    if list_columns:\n",
    "        df_runs_new = df_runs_new[list_columns]\n",
    "        \n",
    "    if save_df:\n",
    "        timestamp = datetime.now().strftime(\"%Y%m%d_%H%M\")\n",
    "        csv_filename = f\"df_runs_{timestamp}.csv\"\n",
    "        df_runs_new.to_csv(csv_filename, index=False)\n",
    "\n",
    "        print(f\"DataFrame saved to {csv_filename}, Shape: {df_unique.shape}\")\n",
    "\n",
    "    return df_runs_new"
   ]
  },
  {
   "cell_type": "code",
   "execution_count": 18,
   "id": "c05a8893",
   "metadata": {
    "execution": {
     "iopub.execute_input": "2023-11-08T22:25:12.576938Z",
     "iopub.status.busy": "2023-11-08T22:25:12.576565Z",
     "iopub.status.idle": "2023-11-08T22:25:12.583196Z",
     "shell.execute_reply": "2023-11-08T22:25:12.581875Z"
    },
    "papermill": {
     "duration": 0.021345,
     "end_time": "2023-11-08T22:25:12.585378",
     "exception": false,
     "start_time": "2023-11-08T22:25:12.564033",
     "status": "completed"
    },
    "tags": []
   },
   "outputs": [],
   "source": [
    "if TRAIN:\n",
    "    df_exp  = experiments_data(list_experiment_id = None, save_df = None, list_columns = None)\n",
    "    list_base_cols = ['run_time','experiment_id','run_id','model_name','fold_number','mae','training_data_rows','training_data_columns'] \n",
    "    list_dynamic_params = list(model_params_dict[\"LGBMR\"]['dynamic_params'].keys())\n",
    "    \n",
    "    \n",
    "    \n",
    "    list_cols_exp = list_base_cols + list_dynamic_params +['model_path']\n",
    "    \n",
    "    \n",
    "    df_exp = df_exp[list_cols_exp]\n",
    "    \n",
    "    df_exp['run_time'] = pd.to_datetime(df_exp['run_time'], format='%Y%m%d_%H%M%S', errors='coerce')"
   ]
  },
  {
   "cell_type": "code",
   "execution_count": 19,
   "id": "eaa21e62",
   "metadata": {
    "execution": {
     "iopub.execute_input": "2023-11-08T22:25:12.610101Z",
     "iopub.status.busy": "2023-11-08T22:25:12.609729Z",
     "iopub.status.idle": "2023-11-08T22:25:12.615305Z",
     "shell.execute_reply": "2023-11-08T22:25:12.613857Z"
    },
    "papermill": {
     "duration": 0.021015,
     "end_time": "2023-11-08T22:25:12.617704",
     "exception": false,
     "start_time": "2023-11-08T22:25:12.596689",
     "status": "completed"
    },
    "tags": []
   },
   "outputs": [],
   "source": [
    "if TRAIN:\n",
    "    list_files_feat_importance = ['/kaggle/working/feat_impor_optiver_trading_at_the_close_20231107_14_59_05.csv']\n",
    "\n",
    "\n",
    "\n",
    "    aggregate_feature_importance( list_files_feat_importance)\n"
   ]
  },
  {
   "cell_type": "code",
   "execution_count": 20,
   "id": "512b15fa",
   "metadata": {
    "execution": {
     "iopub.execute_input": "2023-11-08T22:25:12.642678Z",
     "iopub.status.busy": "2023-11-08T22:25:12.642312Z",
     "iopub.status.idle": "2023-11-08T22:25:12.647927Z",
     "shell.execute_reply": "2023-11-08T22:25:12.646454Z"
    },
    "papermill": {
     "duration": 0.020752,
     "end_time": "2023-11-08T22:25:12.650628",
     "exception": false,
     "start_time": "2023-11-08T22:25:12.629876",
     "status": "completed"
    },
    "tags": []
   },
   "outputs": [],
   "source": [
    "#aggregate_feature_importance( list_files_feat_importance).tail(60)"
   ]
  },
  {
   "cell_type": "code",
   "execution_count": null,
   "id": "d8cb58f3",
   "metadata": {
    "papermill": {
     "duration": 0.011531,
     "end_time": "2023-11-08T22:25:12.673742",
     "exception": false,
     "start_time": "2023-11-08T22:25:12.662211",
     "status": "completed"
    },
    "tags": []
   },
   "outputs": [],
   "source": []
  },
  {
   "cell_type": "code",
   "execution_count": null,
   "id": "9a4af60c",
   "metadata": {
    "papermill": {
     "duration": 0.01081,
     "end_time": "2023-11-08T22:25:12.695724",
     "exception": false,
     "start_time": "2023-11-08T22:25:12.684914",
     "status": "completed"
    },
    "tags": []
   },
   "outputs": [],
   "source": []
  },
  {
   "cell_type": "code",
   "execution_count": 21,
   "id": "6378803f",
   "metadata": {
    "_cell_guid": "95e6c8a8-62ed-4412-944a-5b08508702fc",
    "_uuid": "60c6783c-1e42-43ca-ba32-bda313deb585",
    "collapsed": false,
    "execution": {
     "iopub.execute_input": "2023-11-08T22:25:12.719738Z",
     "iopub.status.busy": "2023-11-08T22:25:12.719368Z",
     "iopub.status.idle": "2023-11-08T22:25:12.728468Z",
     "shell.execute_reply": "2023-11-08T22:25:12.727078Z"
    },
    "jupyter": {
     "outputs_hidden": false
    },
    "papermill": {
     "duration": 0.024236,
     "end_time": "2023-11-08T22:25:12.731127",
     "exception": false,
     "start_time": "2023-11-08T22:25:12.706891",
     "status": "completed"
    },
    "tags": []
   },
   "outputs": [],
   "source": [
    "def ensemble_predict(model_paths, X_test):\n",
    "    models = []\n",
    "    predictions = []\n",
    "\n",
    "    # Load models based on full artifact paths\n",
    "    for model_path in model_paths:\n",
    "        try:\n",
    "            # If using direct path to pkl\n",
    "            if model_path.endswith(\".pkl\"):\n",
    "                model = joblib.load(model_path)\n",
    "            else:\n",
    "                print(f\"Unsupported model format for {model_path}. Skipping.\")\n",
    "                continue  # Skip this iteration\n",
    "\n",
    "            models.append(model)\n",
    "        except Exception as e:\n",
    "            print(f\"Failed to load model at {model_path}. Error: {e}\")\n",
    "\n",
    "    # Make predictions\n",
    "    for model in models:\n",
    "        try:\n",
    "            pred = model.predict(X_test)\n",
    "            predictions.append(pred)\n",
    "        except Exception as e:\n",
    "            print(f\"Failed to make prediction with model. Error: {e}\")\n",
    "\n",
    "    # Average predictions\n",
    "    if len(predictions) > 0:\n",
    "        ensemble_pred = np.median(predictions, axis=0)\n",
    "    else:\n",
    "        print(\"No valid models loaded. Cannot make ensemble predictions.\")\n",
    "        ensemble_pred = None\n",
    "\n",
    "    return ensemble_pred"
   ]
  },
  {
   "cell_type": "code",
   "execution_count": null,
   "id": "7255dd1c",
   "metadata": {
    "papermill": {
     "duration": 0.010902,
     "end_time": "2023-11-08T22:25:12.753123",
     "exception": false,
     "start_time": "2023-11-08T22:25:12.742221",
     "status": "completed"
    },
    "tags": []
   },
   "outputs": [],
   "source": []
  },
  {
   "cell_type": "code",
   "execution_count": null,
   "id": "3d66d67c",
   "metadata": {
    "papermill": {
     "duration": 0.010784,
     "end_time": "2023-11-08T22:25:12.775484",
     "exception": false,
     "start_time": "2023-11-08T22:25:12.764700",
     "status": "completed"
    },
    "tags": []
   },
   "outputs": [],
   "source": []
  },
  {
   "cell_type": "code",
   "execution_count": 22,
   "id": "b1001c42",
   "metadata": {
    "execution": {
     "iopub.execute_input": "2023-11-08T22:25:12.799572Z",
     "iopub.status.busy": "2023-11-08T22:25:12.799192Z",
     "iopub.status.idle": "2023-11-08T22:25:12.808740Z",
     "shell.execute_reply": "2023-11-08T22:25:12.807478Z"
    },
    "papermill": {
     "duration": 0.02468,
     "end_time": "2023-11-08T22:25:12.811311",
     "exception": false,
     "start_time": "2023-11-08T22:25:12.786631",
     "status": "completed"
    },
    "tags": []
   },
   "outputs": [],
   "source": [
    "\n",
    "\n",
    "if TRAIN:\n",
    "    model_paths = list(df_exp[(df_exp['experiment_id'] == \"795875964308489224\") & (df_exp['learning_rate'] == \"0.041316718960638196\") ]['model_path'])\n",
    "\n",
    "    if not os.path.exists(models_dir):\n",
    "        os.makedirs(models_dir)\n",
    "\n",
    "    for model_path in model_paths:\n",
    "        print(f\"Checking if model path exists: {model_path}\")\n",
    "\n",
    "        if not os.path.exists(model_path):\n",
    "            print(f\"File does not exist: {model_path}\")\n",
    "            continue  # Skip to the next iteration\n",
    "\n",
    "        specific_part = model_path.split(\"/\")[-2]\n",
    "        dest_path = os.path.join(models_dir, f\"{specific_part}.pkl\")\n",
    "        if not os.path.exists(dest_path):\n",
    "            print(f\"Copying from {model_path} to {dest_path}\")\n",
    "            shutil.copy(model_path, dest_path)\n",
    "        else:\n",
    "            print(f\"File {dest_path} already exists. Skipping copy.\")\n",
    "\n",
    "    zipf = zipfile.ZipFile(\n",
    "        f\"/kaggle/working/{models_dir}.zip\", \"w\", zipfile.ZIP_DEFLATED\n",
    "    )\n",
    "\n",
    "    # Navigate through the folder and add each file to the ZIP\n",
    "    for root, dirs, files in os.walk(f\"/kaggle/working/{models_dir}\"):\n",
    "        for file in files:\n",
    "            zipf.write(\n",
    "                os.path.join(root, file),\n",
    "                os.path.relpath(\n",
    "                    os.path.join(root, file), f\"/kaggle/working/{models_dir}\"\n",
    "                ),\n",
    "            )\n",
    "\n",
    "    zipf.close()"
   ]
  },
  {
   "cell_type": "code",
   "execution_count": null,
   "id": "f4734420",
   "metadata": {
    "papermill": {
     "duration": 0.01076,
     "end_time": "2023-11-08T22:25:12.833518",
     "exception": false,
     "start_time": "2023-11-08T22:25:12.822758",
     "status": "completed"
    },
    "tags": []
   },
   "outputs": [],
   "source": []
  },
  {
   "cell_type": "code",
   "execution_count": null,
   "id": "afa9ce56",
   "metadata": {
    "papermill": {
     "duration": 0.011307,
     "end_time": "2023-11-08T22:25:12.856401",
     "exception": false,
     "start_time": "2023-11-08T22:25:12.845094",
     "status": "completed"
    },
    "tags": []
   },
   "outputs": [],
   "source": []
  },
  {
   "cell_type": "code",
   "execution_count": 23,
   "id": "76359685",
   "metadata": {
    "execution": {
     "iopub.execute_input": "2023-11-08T22:25:12.880532Z",
     "iopub.status.busy": "2023-11-08T22:25:12.879998Z",
     "iopub.status.idle": "2023-11-08T22:25:12.894228Z",
     "shell.execute_reply": "2023-11-08T22:25:12.892189Z"
    },
    "papermill": {
     "duration": 0.029622,
     "end_time": "2023-11-08T22:25:12.897001",
     "exception": false,
     "start_time": "2023-11-08T22:25:12.867379",
     "status": "completed"
    },
    "tags": []
   },
   "outputs": [
    {
     "name": "stdout",
     "output_type": "stream",
     "text": [
      "List of file paths: ['/kaggle/input/models-5/LGBMR_0_20231107_154648.pkl', '/kaggle/input/models-5/LGBMR_0_20231107_151455.pkl', '/kaggle/input/models-5/LGBMR_0_20231107_161833.pkl', '/kaggle/input/models-5/LGBMR_0_20231107_160237.pkl', '/kaggle/input/models-5/LGBMR_0_20231107_153045.pkl']\n"
     ]
    }
   ],
   "source": [
    "model_paths = []\n",
    "models_dir_input = models_dir.replace(\"_\", \"-\")\n",
    "directory = f\"/kaggle/input/{models_dir_input}\"\n",
    "\n",
    "# Check if the directory exists\n",
    "if os.path.exists(directory):\n",
    "    # Traverse the directory and collect file paths\n",
    "    for filename in os.listdir(directory):\n",
    "        full_path = os.path.join(directory, filename)\n",
    "\n",
    "        # Check if the item is a file (and not a sub-directory)\n",
    "        if os.path.isfile(full_path):\n",
    "            model_paths.append(full_path)\n",
    "else:\n",
    "    print(f\"The directory {directory} does not exist.\")\n",
    "\n",
    "# Print or return the list of file paths\n",
    "print(\"List of file paths:\", model_paths)"
   ]
  },
  {
   "cell_type": "code",
   "execution_count": null,
   "id": "6c07c5c6",
   "metadata": {
    "papermill": {
     "duration": 0.012025,
     "end_time": "2023-11-08T22:25:12.921003",
     "exception": false,
     "start_time": "2023-11-08T22:25:12.908978",
     "status": "completed"
    },
    "tags": []
   },
   "outputs": [],
   "source": []
  },
  {
   "cell_type": "code",
   "execution_count": null,
   "id": "fad7308c",
   "metadata": {
    "papermill": {
     "duration": 0.011387,
     "end_time": "2023-11-08T22:25:12.944288",
     "exception": false,
     "start_time": "2023-11-08T22:25:12.932901",
     "status": "completed"
    },
    "tags": []
   },
   "outputs": [],
   "source": []
  },
  {
   "cell_type": "code",
   "execution_count": 24,
   "id": "da9b4743",
   "metadata": {
    "execution": {
     "iopub.execute_input": "2023-11-08T22:25:12.970117Z",
     "iopub.status.busy": "2023-11-08T22:25:12.969707Z",
     "iopub.status.idle": "2023-11-08T22:25:13.003564Z",
     "shell.execute_reply": "2023-11-08T22:25:13.002536Z"
    },
    "papermill": {
     "duration": 0.050375,
     "end_time": "2023-11-08T22:25:13.006425",
     "exception": false,
     "start_time": "2023-11-08T22:25:12.956050",
     "status": "completed"
    },
    "tags": []
   },
   "outputs": [],
   "source": [
    "import optiver2023\n",
    "env = optiver2023.make_env()\n",
    "iter_test = env.iter_test()"
   ]
  },
  {
   "cell_type": "code",
   "execution_count": 25,
   "id": "0b2efc68",
   "metadata": {
    "_cell_guid": "d30f3862-dca2-4242-9db0-ab9750118622",
    "_uuid": "efd9073c-aaef-4135-bf7c-1e892e9aa831",
    "collapsed": false,
    "execution": {
     "iopub.execute_input": "2023-11-08T22:25:13.033870Z",
     "iopub.status.busy": "2023-11-08T22:25:13.033421Z",
     "iopub.status.idle": "2023-11-08T22:26:44.710319Z",
     "shell.execute_reply": "2023-11-08T22:26:44.708731Z"
    },
    "jupyter": {
     "outputs_hidden": false
    },
    "papermill": {
     "duration": 91.695307,
     "end_time": "2023-11-08T22:26:44.713560",
     "exception": false,
     "start_time": "2023-11-08T22:25:13.018253",
     "status": "completed"
    },
    "tags": []
   },
   "outputs": [
    {
     "name": "stdout",
     "output_type": "stream",
     "text": [
      "This version of the API is not optimized and should not be used to estimate the runtime of your code on the hidden test set.\n"
     ]
    }
   ],
   "source": [
    "counter = 0\n",
    "df_tot_test = []\n",
    "for test, revealed_targets, sample_prediction in iter_test:\n",
    "\n",
    "    if counter < 13:\n",
    "        df_tot_test.append(test)\n",
    "    else:\n",
    "        df_tot_test = df_tot_test[1:]\n",
    "        df_tot_test.append(test)\n",
    "        \n",
    "    df_test = pd.concat(df_tot_test, axis = 0, ignore_index = True)\n",
    "    \n",
    "    feat = feat_engineering(df_test)[-len(test):]\n",
    "    feat = feat.sort_values([\"date_id\",'seconds_in_bucket','stock_id'])[-len(test):]\n",
    "    \n",
    "    list_cols_drop = [\"date_id\",\"stock_id\"]\n",
    "    feat.drop(list_cols_drop, axis=1, inplace=True)\n",
    "\n",
    "    sample_prediction[\"target\"] = ensemble_predict(model_paths, feat)\n",
    "    env.predict(sample_prediction)\n",
    "    counter += 1"
   ]
  },
  {
   "cell_type": "code",
   "execution_count": null,
   "id": "1ce6b2cc",
   "metadata": {
    "_cell_guid": "18344629-3cbc-4244-ac34-c8af6b88b0d8",
    "_uuid": "667a4d83-d235-446e-a72c-cf02718a1a7b",
    "collapsed": false,
    "jupyter": {
     "outputs_hidden": false
    },
    "papermill": {
     "duration": 0.010795,
     "end_time": "2023-11-08T22:26:44.735963",
     "exception": false,
     "start_time": "2023-11-08T22:26:44.725168",
     "status": "completed"
    },
    "tags": []
   },
   "outputs": [],
   "source": []
  },
  {
   "cell_type": "code",
   "execution_count": 26,
   "id": "bd0c8386",
   "metadata": {
    "execution": {
     "iopub.execute_input": "2023-11-08T22:26:44.759615Z",
     "iopub.status.busy": "2023-11-08T22:26:44.759215Z",
     "iopub.status.idle": "2023-11-08T22:26:44.764545Z",
     "shell.execute_reply": "2023-11-08T22:26:44.763337Z"
    },
    "papermill": {
     "duration": 0.019955,
     "end_time": "2023-11-08T22:26:44.766826",
     "exception": false,
     "start_time": "2023-11-08T22:26:44.746871",
     "status": "completed"
    },
    "tags": []
   },
   "outputs": [],
   "source": [
    "#clean_directory_except_one('/kaggle/working/', 'submission.csv')"
   ]
  },
  {
   "cell_type": "code",
   "execution_count": null,
   "id": "ecbbc7bc",
   "metadata": {
    "_cell_guid": "3ef4ae54-1bb4-4cc3-a7da-a6691a272d30",
    "_uuid": "495a4e04-554d-4ef1-919d-62bc59f089c4",
    "collapsed": false,
    "jupyter": {
     "outputs_hidden": false
    },
    "papermill": {
     "duration": 0.010808,
     "end_time": "2023-11-08T22:26:44.788695",
     "exception": false,
     "start_time": "2023-11-08T22:26:44.777887",
     "status": "completed"
    },
    "tags": []
   },
   "outputs": [],
   "source": []
  },
  {
   "cell_type": "code",
   "execution_count": null,
   "id": "34128a45",
   "metadata": {
    "papermill": {
     "duration": 0.01075,
     "end_time": "2023-11-08T22:26:44.810470",
     "exception": false,
     "start_time": "2023-11-08T22:26:44.799720",
     "status": "completed"
    },
    "tags": []
   },
   "outputs": [],
   "source": []
  },
  {
   "cell_type": "code",
   "execution_count": null,
   "id": "46b748af",
   "metadata": {
    "_cell_guid": "5498ae4b-62e8-4050-91e7-075fc549380f",
    "_uuid": "ce9653b2-7dff-4c5b-af77-5f0ef88b6e86",
    "collapsed": false,
    "jupyter": {
     "outputs_hidden": false
    },
    "papermill": {
     "duration": 0.011813,
     "end_time": "2023-11-08T22:26:44.834392",
     "exception": false,
     "start_time": "2023-11-08T22:26:44.822579",
     "status": "completed"
    },
    "tags": []
   },
   "outputs": [],
   "source": []
  },
  {
   "cell_type": "code",
   "execution_count": null,
   "id": "d83f12f1",
   "metadata": {
    "_cell_guid": "92a8ed18-3a63-464e-9d62-17cea3baed59",
    "_uuid": "0b017968-3b5a-4465-820e-e89659b10afd",
    "collapsed": false,
    "jupyter": {
     "outputs_hidden": false
    },
    "papermill": {
     "duration": 0.01172,
     "end_time": "2023-11-08T22:26:44.858829",
     "exception": false,
     "start_time": "2023-11-08T22:26:44.847109",
     "status": "completed"
    },
    "tags": []
   },
   "outputs": [],
   "source": []
  },
  {
   "cell_type": "code",
   "execution_count": null,
   "id": "d5f3cb0b",
   "metadata": {
    "_cell_guid": "f9d19e8d-0074-4ae2-adfb-4c039b700215",
    "_uuid": "b6096d27-d452-4593-9832-d15bfbd83e1b",
    "collapsed": false,
    "jupyter": {
     "outputs_hidden": false
    },
    "papermill": {
     "duration": 0.015411,
     "end_time": "2023-11-08T22:26:44.889194",
     "exception": false,
     "start_time": "2023-11-08T22:26:44.873783",
     "status": "completed"
    },
    "tags": []
   },
   "outputs": [],
   "source": []
  },
  {
   "cell_type": "code",
   "execution_count": null,
   "id": "3964d209",
   "metadata": {
    "_cell_guid": "855f8db3-e344-4d4d-b577-36499775f352",
    "_uuid": "fde5edb9-d23d-41ac-92c6-593f299230c2",
    "collapsed": false,
    "jupyter": {
     "outputs_hidden": false
    },
    "papermill": {
     "duration": 0.013214,
     "end_time": "2023-11-08T22:26:44.918156",
     "exception": false,
     "start_time": "2023-11-08T22:26:44.904942",
     "status": "completed"
    },
    "tags": []
   },
   "outputs": [],
   "source": []
  },
  {
   "cell_type": "code",
   "execution_count": null,
   "id": "c9bc0a76",
   "metadata": {
    "_cell_guid": "82330d89-f35e-4cae-876c-de852438527d",
    "_uuid": "f90f329d-b882-464c-84fc-74a815cfe1cd",
    "collapsed": false,
    "jupyter": {
     "outputs_hidden": false
    },
    "papermill": {
     "duration": 0.010711,
     "end_time": "2023-11-08T22:26:44.942545",
     "exception": false,
     "start_time": "2023-11-08T22:26:44.931834",
     "status": "completed"
    },
    "tags": []
   },
   "outputs": [],
   "source": []
  },
  {
   "cell_type": "code",
   "execution_count": null,
   "id": "d177f512",
   "metadata": {
    "_cell_guid": "ed96eca6-9765-4c90-a6bf-3071518ba2f0",
    "_uuid": "ca1d48b9-5537-491b-9de2-57360edd9844",
    "collapsed": false,
    "jupyter": {
     "outputs_hidden": false
    },
    "papermill": {
     "duration": 0.010629,
     "end_time": "2023-11-08T22:26:44.964105",
     "exception": false,
     "start_time": "2023-11-08T22:26:44.953476",
     "status": "completed"
    },
    "tags": []
   },
   "outputs": [],
   "source": []
  },
  {
   "cell_type": "markdown",
   "id": "f8b4cd00",
   "metadata": {
    "_cell_guid": "06b24b0a-6515-48c6-b4a0-240865cfc1ea",
    "_uuid": "5e9b8536-f812-432a-ba05-c2f0b0f8994f",
    "jupyter": {
     "outputs_hidden": false
    },
    "papermill": {
     "duration": 0.010634,
     "end_time": "2023-11-08T22:26:44.985786",
     "exception": false,
     "start_time": "2023-11-08T22:26:44.975152",
     "status": "completed"
    },
    "tags": []
   },
   "source": [
    "#### "
   ]
  }
 ],
 "metadata": {
  "kernelspec": {
   "display_name": "Python 3",
   "language": "python",
   "name": "python3"
  },
  "language_info": {
   "codemirror_mode": {
    "name": "ipython",
    "version": 3
   },
   "file_extension": ".py",
   "mimetype": "text/x-python",
   "name": "python",
   "nbconvert_exporter": "python",
   "pygments_lexer": "ipython3",
   "version": "3.10.12"
  },
  "papermill": {
   "default_parameters": {},
   "duration": 100.018936,
   "end_time": "2023-11-08T22:26:45.921318",
   "environment_variables": {},
   "exception": null,
   "input_path": "__notebook__.ipynb",
   "output_path": "__notebook__.ipynb",
   "parameters": {},
   "start_time": "2023-11-08T22:25:05.902382",
   "version": "2.4.0"
  }
 },
 "nbformat": 4,
 "nbformat_minor": 5
}
