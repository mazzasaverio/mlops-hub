{
 "cells": [
  {
   "cell_type": "code",
   "execution_count": 1,
   "id": "683ba289",
   "metadata": {
    "execution": {
     "iopub.execute_input": "2023-11-08T21:48:55.282575Z",
     "iopub.status.busy": "2023-11-08T21:48:55.282279Z",
     "iopub.status.idle": "2023-11-08T21:48:55.753710Z",
     "shell.execute_reply": "2023-11-08T21:48:55.752848Z"
    },
    "papermill": {
     "duration": 0.483641,
     "end_time": "2023-11-08T21:48:55.755451",
     "exception": false,
     "start_time": "2023-11-08T21:48:55.271810",
     "status": "completed"
    },
    "tags": []
   },
   "outputs": [
    {
     "data": {
      "text/plain": [
       "False"
      ]
     },
     "execution_count": 1,
     "metadata": {},
     "output_type": "execute_result"
    }
   ],
   "source": [
    "# Constants\n",
    "TRAIN = False\n",
    "OVERWRITE = False\n",
    "DEBUG = False\n",
    "\n",
    "models_dir = \"models_5\"\n",
    "\n",
    "N_TRIALS = 3\n",
    "\n",
    "VERSION_NB = 4\n",
    "\n",
    "state = 42\n",
    "\n",
    "download_kaggle_data = False\n",
    "\n",
    "# External general-purpose modules\n",
    "import os\n",
    "import gc\n",
    "\n",
    "import shutil\n",
    "import warnings\n",
    "from datetime import datetime\n",
    "import glob\n",
    "from itertools import combinations\n",
    "from warnings import simplefilter\n",
    "\n",
    "import numpy as np\n",
    "import pandas as pd\n",
    "import polars as pl\n",
    "from dotenv import load_dotenv\n",
    "from joblib import dump\n",
    "import joblib\n",
    "import os\n",
    "\n",
    "# Setting pandas options and warning filters\n",
    "pd.set_option(\"display.max_columns\", None)\n",
    "warnings.filterwarnings(\"ignore\", category=FutureWarning)\n",
    "warnings.filterwarnings(\"ignore\", category=UserWarning)\n",
    "warnings.filterwarnings(\"ignore\")\n",
    "simplefilter(action=\"ignore\", category=pd.errors.PerformanceWarning)\n",
    "\n",
    "# Load environment variables\n",
    "load_dotenv()"
   ]
  },
  {
   "cell_type": "code",
   "execution_count": 2,
   "id": "856d5dd6",
   "metadata": {
    "_cell_guid": "3bdaa15b-0b9e-4b3b-9c47-58e6b9b18b5e",
    "_uuid": "206043b9-f1d5-4691-b03a-935f2177086d",
    "collapsed": false,
    "execution": {
     "iopub.execute_input": "2023-11-08T21:48:55.774410Z",
     "iopub.status.busy": "2023-11-08T21:48:55.774057Z",
     "iopub.status.idle": "2023-11-08T21:48:56.769834Z",
     "shell.execute_reply": "2023-11-08T21:48:56.769075Z"
    },
    "jupyter": {
     "outputs_hidden": false
    },
    "papermill": {
     "duration": 1.007,
     "end_time": "2023-11-08T21:48:56.771548",
     "exception": false,
     "start_time": "2023-11-08T21:48:55.764548",
     "status": "completed"
    },
    "tags": []
   },
   "outputs": [],
   "source": [
    "\n",
    "path_project_dir = os.getcwd()\n",
    "if path_project_dir not in [\"/kaggle/working\", \"/content\"]:\n",
    "    path_project_dir = os.getenv(\"ROOT_PATH\")\n",
    "\n",
    "# Imports and setup for training\n",
    "from numba import njit, prange\n",
    "if TRAIN:\n",
    "    \n",
    "\n",
    "    import itertools as itt\n",
    "    # Install packages and import logging libraries\n",
    "    if path_project_dir == '/kaggle/working':\n",
    "        !pip install loguru mlflow optuna > /dev/null\n",
    "        \n",
    "\n",
    "    from utils import log_feature_importance, create_model, log_training_details, aggregate_feature_importance,  get_data, clean_directory_except_one\n",
    "    \n",
    "    from loguru import logger\n",
    "    import mlflow\n",
    "    import optuna\n",
    "    from optuna.integration.mlflow import MLflowCallback\n",
    "    from mlflow.tracking import MlflowClient\n",
    "    import zipfile\n",
    "    \n",
    "    from tqdm import tqdm\n",
    "\n",
    "    # Import machine learning libraries\n",
    "    import lightgbm as lgbm\n",
    "    \n",
    "    from lightgbm import log_evaluation, early_stopping, LGBMRegressor as LGBMR\n",
    "    from sklearn.model_selection import KFold\n",
    "    from xgboost import XGBRegressor as XGBR\n",
    "\n",
    "    # Set logging\n",
    "    logger.add(\"logs.log\", format=\"{time:YYYY-MM-DD HH:mm} | {level} | {message}\")\n",
    "    optuna.logging.set_verbosity(optuna.logging.WARNING)\n",
    "    warnings.filterwarnings(\"ignore\", category=optuna.exceptions.ExperimentalWarning)\n",
    "    \n",
    "    # Auto-reload modules\n",
    "    %load_ext autoreload\n",
    "    %autoreload 2\n",
    "\n",
    "    # Initialize MLflow callback\n",
    "    mlflow_callback = MLflowCallback(\n",
    "        tracking_uri=mlflow.get_tracking_uri(), metric_name=\"mae\"\n",
    "    )"
   ]
  },
  {
   "cell_type": "code",
   "execution_count": 3,
   "id": "56868fcf",
   "metadata": {
    "_cell_guid": "9765420b-f8ab-46ba-8b4c-e4487eb04b76",
    "_uuid": "c4174134-1441-41f8-adbf-f03ad3f7d7dc",
    "collapsed": false,
    "execution": {
     "iopub.execute_input": "2023-11-08T21:48:56.790872Z",
     "iopub.status.busy": "2023-11-08T21:48:56.790605Z",
     "iopub.status.idle": "2023-11-08T21:48:56.798033Z",
     "shell.execute_reply": "2023-11-08T21:48:56.797358Z"
    },
    "jupyter": {
     "outputs_hidden": false
    },
    "papermill": {
     "duration": 0.018517,
     "end_time": "2023-11-08T21:48:56.799624",
     "exception": false,
     "start_time": "2023-11-08T21:48:56.781107",
     "status": "completed"
    },
    "tags": []
   },
   "outputs": [],
   "source": [
    "if path_project_dir == \"/kaggle/working\":\n",
    "    path_data_project_dir = \"/kaggle/input/optiver-trading-at-the-close\"\n",
    "    path_experiments_storage = os.path.join(path_project_dir, \"experiments_storage\")\n",
    "\n",
    "    path_dataset_train_raw = \"/kaggle/input/optiver-trading-at-the-close/train.csv\"\n",
    "    path_dataset_test_raw = (\n",
    "        \"/kaggle/input/optiver-trading-at-the-close/example_test_files/test.csv\"\n",
    "    )\n",
    "\n",
    "    path_dataset_processed = \"/kaggle/working/processed_data\"\n",
    "    path_dataset_train = os.path.join(path_dataset_processed, \"train.csv\")\n",
    "    path_dataset_test = os.path.join(path_dataset_processed, \"test.csv\")\n",
    "\n",
    "else:\n",
    "    name_folder_data_project = \"kaggle_optiver_trading_at_the_close\"\n",
    "\n",
    "    path_data_dir = os.path.join(path_project_dir, \"data\")\n",
    "    path_dataset_train_raw = os.path.join(\n",
    "        path_data_dir, \"kaggle_optiver_trading_at_the_close/raw\", \"train.csv\"\n",
    "    )\n",
    "    path_dataset_processed = os.path.join(\n",
    "        path_data_dir, \"kaggle_optiver_trading_at_the_close/processed\"\n",
    "    )\n",
    "\n",
    "    path_data_project_dir = os.path.join(path_data_dir, name_folder_data_project)\n",
    "\n",
    "    path_config_dir = os.path.join(path_project_dir, \"config\")\n",
    "    path_config_train = os.path.join(path_config_dir, \"train_config.yaml\")\n",
    "\n",
    "    path_experiments_storage = os.path.join(\n",
    "        path_data_project_dir, \"experiments_storage\"\n",
    "    )\n",
    "\n",
    "    if download_kaggle_data:\n",
    "        dataset_name = \"ravi20076/optiver-memoryreduceddatasets\"\n",
    "        kaggle_json_path = os.path.join(path_project_dir, \"kaggle.json\")\n",
    "        get_data(\n",
    "            kaggle_json_path,\n",
    "            path_data_project_dir,\n",
    "            dataset_name=dataset_name,\n",
    "            specific_file=None,\n",
    "        )\n",
    "\n",
    "    file_name_df_train = \"train.csv\"\n",
    "    file_name_df_test = \"test.csv\"\n",
    "\n",
    "    path_dataset_train = os.path.join(path_data_project_dir, file_name_df_train)\n",
    "    path_dataset_test = os.path.join(path_data_project_dir, file_name_df_test)\n",
    "\n",
    "if TRAIN:\n",
    "    mlflow.set_tracking_uri(path_experiments_storage)\n",
    "    client = MlflowClient()"
   ]
  },
  {
   "cell_type": "code",
   "execution_count": 4,
   "id": "2305d972",
   "metadata": {
    "execution": {
     "iopub.execute_input": "2023-11-08T21:48:56.817979Z",
     "iopub.status.busy": "2023-11-08T21:48:56.817773Z",
     "iopub.status.idle": "2023-11-08T21:48:56.887177Z",
     "shell.execute_reply": "2023-11-08T21:48:56.886227Z"
    },
    "papermill": {
     "duration": 0.080914,
     "end_time": "2023-11-08T21:48:56.889293",
     "exception": false,
     "start_time": "2023-11-08T21:48:56.808379",
     "status": "completed"
    },
    "tags": []
   },
   "outputs": [],
   "source": [
    "\n",
    "@njit(parallel=True)\n",
    "def compute_triplet_imbalance(df_values, comb_indices):\n",
    "    num_rows = df_values.shape[0]\n",
    "    num_combinations = len(comb_indices)\n",
    "    imbalance_features = np.empty((num_rows, num_combinations))\n",
    "\n",
    "    for i in prange(num_combinations):\n",
    "        a, b, c = comb_indices[i]\n",
    "        for j in range(num_rows):\n",
    "            max_val = max(df_values[j, a], df_values[j, b], df_values[j, c])\n",
    "            min_val = min(df_values[j, a], df_values[j, b], df_values[j, c])\n",
    "            mid_val = df_values[j, a] + df_values[j, b] + df_values[j, c] - min_val - max_val\n",
    "            if mid_val == min_val:  # Prevent division by zero\n",
    "                imbalance_features[j, i] = np.nan\n",
    "            else:\n",
    "                imbalance_features[j, i] = (max_val - mid_val) / (mid_val - min_val)\n",
    "\n",
    "    return imbalance_features\n",
    "\n",
    "\n",
    "def calculate_triplet_imbalance_numba(price, df):\n",
    "    # Convert DataFrame to numpy array for Numba compatibility\n",
    "    df_values = df[price].values\n",
    "    comb_indices = [(price.index(a), price.index(b), price.index(c)) for a, b, c in combinations(price, 3)]\n",
    "\n",
    "    # Calculate the triplet imbalance\n",
    "    features_array = compute_triplet_imbalance(df_values, comb_indices)\n",
    "\n",
    "    # Create a DataFrame from the results\n",
    "    columns = [f\"{a}_{b}_{c}_imb2\" for a, b, c in combinations(price, 3)]\n",
    "    features = pd.DataFrame(features_array, columns=columns)\n",
    "\n",
    "    return features"
   ]
  },
  {
   "cell_type": "code",
   "execution_count": 5,
   "id": "31ae571b",
   "metadata": {
    "execution": {
     "iopub.execute_input": "2023-11-08T21:48:56.909300Z",
     "iopub.status.busy": "2023-11-08T21:48:56.909000Z",
     "iopub.status.idle": "2023-11-08T21:48:56.919581Z",
     "shell.execute_reply": "2023-11-08T21:48:56.918740Z"
    },
    "papermill": {
     "duration": 0.022742,
     "end_time": "2023-11-08T21:48:56.921548",
     "exception": false,
     "start_time": "2023-11-08T21:48:56.898806",
     "status": "completed"
    },
    "tags": []
   },
   "outputs": [],
   "source": [
    "def reduce_mem_usage(df, verbose=0):\n",
    "    \"\"\"\n",
    "    Iterate through all numeric columns of a dataframe and modify the data type\n",
    "    to reduce memory usage.\n",
    "    \"\"\"\n",
    "\n",
    "    start_mem = df.memory_usage().sum() / 1024**2\n",
    "\n",
    "    for col in df.columns:\n",
    "        col_type = df[col].dtype\n",
    "\n",
    "        if (col_type != object) and (col != \"target\"):\n",
    "            c_min = df[col].min()\n",
    "            c_max = df[col].max()\n",
    "            if str(col_type)[:3] == \"int\":\n",
    "                if c_min > np.iinfo(np.int8).min and c_max < np.iinfo(np.int8).max:\n",
    "                    df[col] = df[col].astype(np.int8)\n",
    "                elif c_min > np.iinfo(np.int16).min and c_max < np.iinfo(np.int16).max:\n",
    "                    df[col] = df[col].astype(np.int16)\n",
    "                elif c_min > np.iinfo(np.int32).min and c_max < np.iinfo(np.int32).max:\n",
    "                    df[col] = df[col].astype(np.int32)\n",
    "                elif c_min > np.iinfo(np.int64).min and c_max < np.iinfo(np.int64).max:\n",
    "                    df[col] = df[col].astype(np.int64)\n",
    "            else:\n",
    "                if c_min > np.finfo(np.float16).min and c_max < np.finfo(np.float16).max:\n",
    "                    df[col] = df[col].astype(np.float32)\n",
    "                elif c_min > np.finfo(np.float32).min and c_max < np.finfo(np.float32).max:\n",
    "                    df[col] = df[col].astype(np.float32)\n",
    "                else:\n",
    "                    df[col] = df[col].astype(np.float32)\n",
    "\n",
    "    if verbose:\n",
    "        logger.info(f\"Memory usage of dataframe is {start_mem:.2f} MB\")\n",
    "        end_mem = df.memory_usage().sum() / 1024**2\n",
    "        logger.info(f\"Memory usage after optimization is: {end_mem:.2f} MB\")\n",
    "        decrease = 100 * (start_mem - end_mem) / start_mem\n",
    "        logger.info(f\"Decreased by {decrease:.2f}%\")\n",
    "\n",
    "    return df\n"
   ]
  },
  {
   "cell_type": "code",
   "execution_count": 6,
   "id": "27b34ea9",
   "metadata": {
    "execution": {
     "iopub.execute_input": "2023-11-08T21:48:56.942317Z",
     "iopub.status.busy": "2023-11-08T21:48:56.942031Z",
     "iopub.status.idle": "2023-11-08T21:48:56.957746Z",
     "shell.execute_reply": "2023-11-08T21:48:56.956923Z"
    },
    "papermill": {
     "duration": 0.028393,
     "end_time": "2023-11-08T21:48:56.959628",
     "exception": false,
     "start_time": "2023-11-08T21:48:56.931235",
     "status": "completed"
    },
    "tags": []
   },
   "outputs": [],
   "source": [
    "# generate imbalance features\n",
    "def imbalance_features(df):\n",
    "    prices = [\"reference_price\", \"far_price\", \"near_price\", \"ask_price\", \"bid_price\", \"wap\"]\n",
    "    sizes = [\"matched_size\", \"bid_size\", \"ask_size\", \"imbalance_size\"]\n",
    "\n",
    "    # V1\n",
    "    df[\"volume\"] = df.eval(\"ask_size + bid_size\")\n",
    "    df[\"mid_price\"] = df.eval(\"(ask_price + bid_price) / 2\")\n",
    "    df[\"liquidity_imbalance\"] = df.eval(\"(bid_size-ask_size)/(bid_size+ask_size)\")\n",
    "    df[\"matched_imbalance\"] = df.eval(\"(imbalance_size-matched_size)/(matched_size+imbalance_size)\")\n",
    "    df[\"size_imbalance\"] = df.eval(\"bid_size / ask_size\")\n",
    "    \n",
    "    for c in combinations(prices, 2):\n",
    "        df[f\"{c[0]}_{c[1]}_imb\"] = df.eval(f\"({c[0]} - {c[1]})/({c[0]} + {c[1]})\")\n",
    "\n",
    "    for c in [['ask_price', 'bid_price', 'wap', 'reference_price'], sizes]:\n",
    "        triplet_feature = calculate_triplet_imbalance_numba(c, df)\n",
    "        df[triplet_feature.columns] = triplet_feature.values\n",
    "        \n",
    "    # V2\n",
    "    df[\"stock_weights\"] = df[\"stock_id\"].map(weights)\n",
    "    df[\"weighted_wap\"] = df[\"stock_weights\"] * df[\"wap\"]\n",
    "    df['wap_momentum'] = df.groupby('stock_id')['weighted_wap'].pct_change(periods=6)\n",
    "    df[\"imbalance_momentum\"] = df.groupby(['stock_id'])['imbalance_size'].diff(periods=1) / df['matched_size']\n",
    "    df[\"price_spread\"] = df[\"ask_price\"] - df[\"bid_price\"]\n",
    "    df[\"spread_intensity\"] = df.groupby(['stock_id'])['price_spread'].diff()\n",
    "    df['price_pressure'] = df['imbalance_size'] * (df['ask_price'] - df['bid_price'])\n",
    "    df['market_urgency'] = df['price_spread'] * df['liquidity_imbalance']\n",
    "    df['depth_pressure'] = (df['ask_size'] - df['bid_size']) * (df['far_price'] - df['near_price'])\n",
    "    df['spread_depth_ratio'] = (df['ask_price'] - df['bid_price']) / (df['bid_size'] + df['ask_size'])\n",
    "    df['mid_price_movement'] = df['mid_price'].diff(periods=5).apply(lambda x: 1 if x > 0 else (-1 if x < 0 else 0))\n",
    "    df['micro_price'] = ((df['bid_price'] * df['ask_size']) + (df['ask_price'] * df['bid_size'])) / (df['bid_size'] + df['ask_size'])\n",
    "    df['relative_spread'] = (df['ask_price'] - df['bid_price']) / df['wap']\n",
    "    \n",
    "    for func in [\"mean\", \"std\", \"skew\", \"kurt\"]:\n",
    "        df[f\"all_prices_{func}\"] = df[prices].agg(func, axis=1)\n",
    "        df[f\"all_sizes_{func}\"] = df[sizes].agg(func, axis=1)\n",
    "        \n",
    "    # V3\n",
    "    for col in ['matched_size', 'imbalance_size', 'reference_price', 'imbalance_buy_sell_flag']:\n",
    "        for window in [1, 2, 3, 5, 10]:\n",
    "            df[f\"{col}_shift_{window}\"] = df.groupby('stock_id')[col].shift(window)\n",
    "            df[f\"{col}_ret_{window}\"] = df.groupby('stock_id')[col].pct_change(window)\n",
    "            \n",
    "    for col in ['ask_price', 'bid_price', 'ask_size', 'bid_size',\n",
    "                'wap', 'near_price', 'far_price']:\n",
    "        for window in [1, 2, 3, 5, 10]:\n",
    "            df[f\"{col}_diff_{window}\"] = df.groupby(\"stock_id\")[col].diff(window)\n",
    "\n",
    "    return df.replace([np.inf, -np.inf], 0)\n",
    "\n",
    "# generate time & stock features\n",
    "def other_features(df):\n",
    "    df[\"dow\"] = df[\"date_id\"] % 5\n",
    "    df[\"dom\"] = df[\"date_id\"] % 20\n",
    "    df[\"seconds\"] = df[\"seconds_in_bucket\"] % 60\n",
    "    df[\"minute\"] = df[\"seconds_in_bucket\"] // 60\n",
    "\n",
    "    for key, value in global_stock_id_feats.items():\n",
    "        df[f\"global_{key}\"] = df[\"stock_id\"].map(value.to_dict())\n",
    "\n",
    "    return df\n",
    "\n",
    "# generate all features\n",
    "def feat_engineering(df):\n",
    "    cols = [c for c in df.columns if c not in [\"row_id\", \"time_id\", \"target\"]]\n",
    "    df = df[cols]\n",
    "    df = imbalance_features(df)\n",
    "    df = other_features(df)\n",
    "    gc.collect()\n",
    "    \n",
    "    feature_name = [i for i in df.columns if i not in [\"row_id\", \"target\", \"time_id\", \"date_id\"]]\n",
    "    \n",
    "    return df[feature_name]"
   ]
  },
  {
   "cell_type": "code",
   "execution_count": 7,
   "id": "1f5fba88",
   "metadata": {
    "execution": {
     "iopub.execute_input": "2023-11-08T21:48:56.980260Z",
     "iopub.status.busy": "2023-11-08T21:48:56.980024Z",
     "iopub.status.idle": "2023-11-08T21:48:56.989070Z",
     "shell.execute_reply": "2023-11-08T21:48:56.988258Z"
    },
    "papermill": {
     "duration": 0.020996,
     "end_time": "2023-11-08T21:48:56.990672",
     "exception": false,
     "start_time": "2023-11-08T21:48:56.969676",
     "status": "completed"
    },
    "tags": []
   },
   "outputs": [],
   "source": [
    "weights = [\n",
    "    0.004, 0.001, 0.002, 0.006, 0.004, 0.004, 0.002, 0.006, 0.006, 0.002, 0.002, 0.008,\n",
    "    0.006, 0.002, 0.008, 0.006, 0.002, 0.006, 0.004, 0.002, 0.004, 0.001, 0.006, 0.004,\n",
    "    0.002, 0.002, 0.004, 0.002, 0.004, 0.004, 0.001, 0.001, 0.002, 0.002, 0.006, 0.004,\n",
    "    0.004, 0.004, 0.006, 0.002, 0.002, 0.04 , 0.002, 0.002, 0.004, 0.04 , 0.002, 0.001,\n",
    "    0.006, 0.004, 0.004, 0.006, 0.001, 0.004, 0.004, 0.002, 0.006, 0.004, 0.006, 0.004,\n",
    "    0.006, 0.004, 0.002, 0.001, 0.002, 0.004, 0.002, 0.008, 0.004, 0.004, 0.002, 0.004,\n",
    "    0.006, 0.002, 0.004, 0.004, 0.002, 0.004, 0.004, 0.004, 0.001, 0.002, 0.002, 0.008,\n",
    "    0.02 , 0.004, 0.006, 0.002, 0.02 , 0.002, 0.002, 0.006, 0.004, 0.002, 0.001, 0.02,\n",
    "    0.006, 0.001, 0.002, 0.004, 0.001, 0.002, 0.006, 0.006, 0.004, 0.006, 0.001, 0.002,\n",
    "    0.004, 0.006, 0.006, 0.001, 0.04 , 0.006, 0.002, 0.004, 0.002, 0.002, 0.006, 0.002,\n",
    "    0.002, 0.004, 0.006, 0.006, 0.002, 0.002, 0.008, 0.006, 0.004, 0.002, 0.006, 0.002,\n",
    "    0.004, 0.006, 0.002, 0.004, 0.001, 0.004, 0.002, 0.004, 0.008, 0.006, 0.008, 0.002,\n",
    "    0.004, 0.002, 0.001, 0.004, 0.004, 0.004, 0.006, 0.008, 0.004, 0.001, 0.001, 0.002,\n",
    "    0.006, 0.004, 0.001, 0.002, 0.006, 0.004, 0.006, 0.008, 0.002, 0.002, 0.004, 0.002,\n",
    "    0.04 , 0.002, 0.002, 0.004, 0.002, 0.002, 0.006, 0.02 , 0.004, 0.002, 0.006, 0.02,\n",
    "    0.001, 0.002, 0.006, 0.004, 0.006, 0.004, 0.004, 0.004, 0.004, 0.002, 0.004, 0.04,\n",
    "    0.002, 0.008, 0.002, 0.004, 0.001, 0.004, 0.006, 0.004,\n",
    "]\n",
    "\n",
    "weights = {int(k):v for k,v in enumerate(weights)}"
   ]
  },
  {
   "cell_type": "code",
   "execution_count": 8,
   "id": "07fab5de",
   "metadata": {
    "execution": {
     "iopub.execute_input": "2023-11-08T21:48:57.012285Z",
     "iopub.status.busy": "2023-11-08T21:48:57.012062Z",
     "iopub.status.idle": "2023-11-08T21:48:57.017695Z",
     "shell.execute_reply": "2023-11-08T21:48:57.016552Z"
    },
    "papermill": {
     "duration": 0.018135,
     "end_time": "2023-11-08T21:48:57.019501",
     "exception": false,
     "start_time": "2023-11-08T21:48:57.001366",
     "status": "completed"
    },
    "tags": []
   },
   "outputs": [],
   "source": [
    "if TRAIN:\n",
    "    if not os.path.exists(path_dataset_processed):\n",
    "        os.makedirs(path_dataset_processed)\n",
    "\n",
    "    if not os.path.exists(path_dataset_train) or OVERWRITE:\n",
    "        df_train_raw = pd.read_csv(path_dataset_train_raw)\n",
    "        \n",
    "    else:\n",
    "        df_train_raw = pd.read_csv(path_dataset_train)\n",
    "\n",
    "    if DEBUG:\n",
    "        df_train_raw = df_train_raw[df_train_raw[\"stock_id\"].isin([0, 1, 2])]\n",
    "        \n",
    "    drop_idx = df_train_raw.loc[df_train_raw[\"target\"].isna(), \"target\"].index.to_list()\n",
    "    df_train= df_train_raw.drop(drop_idx, axis=0)\n",
    "    df_train.reset_index(drop=True, inplace=True)\n",
    "    \n",
    "    #df_train_raw = df_train_raw.drop([\"time_id\",\"row_id\"], axis = 1)"
   ]
  },
  {
   "cell_type": "code",
   "execution_count": null,
   "id": "f3a7fe73",
   "metadata": {
    "papermill": {
     "duration": 0.008616,
     "end_time": "2023-11-08T21:48:57.037406",
     "exception": false,
     "start_time": "2023-11-08T21:48:57.028790",
     "status": "completed"
    },
    "tags": []
   },
   "outputs": [],
   "source": []
  },
  {
   "cell_type": "code",
   "execution_count": 9,
   "id": "35a04dc0",
   "metadata": {
    "execution": {
     "iopub.execute_input": "2023-11-08T21:48:57.056384Z",
     "iopub.status.busy": "2023-11-08T21:48:57.056014Z",
     "iopub.status.idle": "2023-11-08T21:48:57.062418Z",
     "shell.execute_reply": "2023-11-08T21:48:57.061656Z"
    },
    "papermill": {
     "duration": 0.017953,
     "end_time": "2023-11-08T21:48:57.064084",
     "exception": false,
     "start_time": "2023-11-08T21:48:57.046131",
     "status": "completed"
    },
    "tags": []
   },
   "outputs": [],
   "source": [
    "if TRAIN:\n",
    "    global_stock_id_feats = {\n",
    "        \"median_size\": df_train.groupby(\"stock_id\")[\"bid_size\"].median() + df_train.groupby(\"stock_id\")[\"ask_size\"].median(),\n",
    "        \"std_size\": df_train.groupby(\"stock_id\")[\"bid_size\"].std() + df_train.groupby(\"stock_id\")[\"ask_size\"].std(),\n",
    "        \"ptp_size\": df_train.groupby(\"stock_id\")[\"bid_size\"].max() - df_train.groupby(\"stock_id\")[\"bid_size\"].min(),\n",
    "        \"median_price\": df_train.groupby(\"stock_id\")[\"bid_price\"].median() + df_train.groupby(\"stock_id\")[\"ask_price\"].median(),\n",
    "        \"std_price\": df_train.groupby(\"stock_id\")[\"bid_price\"].std() + df_train.groupby(\"stock_id\")[\"ask_price\"].std(),\n",
    "        \"ptp_price\": df_train.groupby(\"stock_id\")[\"bid_price\"].max() - df_train.groupby(\"stock_id\")[\"ask_price\"].min(),\n",
    "    }\n",
    "   \n",
    "\n",
    "    df_train_feats = feat_engineering(df_train)\n",
    "    print(\"Build Online Train Feats Finished.\")\n",
    "\n",
    "    df_train_feats = reduce_mem_usage(df_train_feats)"
   ]
  },
  {
   "cell_type": "code",
   "execution_count": 10,
   "id": "297a6a76",
   "metadata": {
    "execution": {
     "iopub.execute_input": "2023-11-08T21:48:57.082619Z",
     "iopub.status.busy": "2023-11-08T21:48:57.082402Z",
     "iopub.status.idle": "2023-11-08T21:48:57.158876Z",
     "shell.execute_reply": "2023-11-08T21:48:57.158026Z"
    },
    "papermill": {
     "duration": 0.087856,
     "end_time": "2023-11-08T21:48:57.160640",
     "exception": false,
     "start_time": "2023-11-08T21:48:57.072784",
     "status": "completed"
    },
    "tags": []
   },
   "outputs": [],
   "source": [
    "def feat_engineering(df_train):\n",
    "    weights = [\n",
    "    0.004, 0.001, 0.002, 0.006, 0.004, 0.004, 0.002, 0.006, 0.006, 0.002, 0.002, 0.008,\n",
    "    0.006, 0.002, 0.008, 0.006, 0.002, 0.006, 0.004, 0.002, 0.004, 0.001, 0.006, 0.004,\n",
    "    0.002, 0.002, 0.004, 0.002, 0.004, 0.004, 0.001, 0.001, 0.002, 0.002, 0.006, 0.004,\n",
    "    0.004, 0.004, 0.006, 0.002, 0.002, 0.04 , 0.002, 0.002, 0.004, 0.04 , 0.002, 0.001,\n",
    "    0.006, 0.004, 0.004, 0.006, 0.001, 0.004, 0.004, 0.002, 0.006, 0.004, 0.006, 0.004,\n",
    "    0.006, 0.004, 0.002, 0.001, 0.002, 0.004, 0.002, 0.008, 0.004, 0.004, 0.002, 0.004,\n",
    "    0.006, 0.002, 0.004, 0.004, 0.002, 0.004, 0.004, 0.004, 0.001, 0.002, 0.002, 0.008,\n",
    "    0.02 , 0.004, 0.006, 0.002, 0.02 , 0.002, 0.002, 0.006, 0.004, 0.002, 0.001, 0.02,\n",
    "    0.006, 0.001, 0.002, 0.004, 0.001, 0.002, 0.006, 0.006, 0.004, 0.006, 0.001, 0.002,\n",
    "    0.004, 0.006, 0.006, 0.001, 0.04 , 0.006, 0.002, 0.004, 0.002, 0.002, 0.006, 0.002,\n",
    "    0.002, 0.004, 0.006, 0.006, 0.002, 0.002, 0.008, 0.006, 0.004, 0.002, 0.006, 0.002,\n",
    "    0.004, 0.006, 0.002, 0.004, 0.001, 0.004, 0.002, 0.004, 0.008, 0.006, 0.008, 0.002,\n",
    "    0.004, 0.002, 0.001, 0.004, 0.004, 0.004, 0.006, 0.008, 0.004, 0.001, 0.001, 0.002,\n",
    "    0.006, 0.004, 0.001, 0.002, 0.006, 0.004, 0.006, 0.008, 0.002, 0.002, 0.004, 0.002,\n",
    "    0.04 , 0.002, 0.002, 0.004, 0.002, 0.002, 0.006, 0.02 , 0.004, 0.002, 0.006, 0.02,\n",
    "    0.001, 0.002, 0.006, 0.004, 0.006, 0.004, 0.004, 0.004, 0.004, 0.002, 0.004, 0.04,\n",
    "    0.002, 0.008, 0.002, 0.004, 0.001, 0.004, 0.006, 0.004,\n",
    "    ]\n",
    "    df = df_train.copy()\n",
    "    del df_train\n",
    "    weights = {int(k):v for k,v in enumerate(weights)}\n",
    "    df[\"stock_weights\"] = df[\"stock_id\"].map(weights)\n",
    "\n",
    "    df[\"volume\"] = df.eval(\"ask_size + bid_size\")\n",
    "    df[\"liquidity_imbalance\"] = df.eval(\"(bid_size-ask_size)/(bid_size+ask_size)\")\n",
    "    df[\"matched_imbalance\"] = df.eval(\"(imbalance_size-matched_size)/(matched_size+imbalance_size)\")\n",
    "    df[\"size_imbalance\"] = df.eval(\"bid_size / ask_size\")\n",
    "    \n",
    "    prices = [\"reference_price\", \"far_price\", \"near_price\", \"ask_price\", \"bid_price\", \"wap\"]\n",
    "    sizes = [\"matched_size\", \"bid_size\", \"ask_size\", \"imbalance_size\"]\n",
    "    \n",
    "    for c in combinations(prices, 2):\n",
    "        df[f\"{c[0]}_{c[1]}_imb\"] = df.eval(f\"({c[0]} - {c[1]})/({c[0]} + {c[1]})\")\n",
    "\n",
    "    for c in [['ask_price', 'bid_price', 'wap', 'reference_price'], sizes]:\n",
    "        triplet_feature = calculate_triplet_imbalance_numba(c, df)\n",
    "        df[triplet_feature.columns] = triplet_feature.values\n",
    "        \n",
    "\n",
    "    df[\"weighted_wap\"] = df[\"stock_weights\"] * df[\"wap\"]\n",
    "    df['wap_momentum'] = df.groupby('stock_id')['weighted_wap'].pct_change(periods=6)\n",
    "    df[\"imbalance_momentum\"] = df.groupby(['stock_id'])['imbalance_size'].diff(periods=1) / df['matched_size']\n",
    "    df[\"price_spread\"] = df[\"ask_price\"] - df[\"bid_price\"]\n",
    "    df[\"spread_intensity\"] = df.groupby(['stock_id'])['price_spread'].diff()\n",
    "    df['market_urgency'] = df['price_spread'] * df['liquidity_imbalance']\n",
    "    df['depth_pressure'] = (df['ask_size'] - df['bid_size']) * (df['far_price'] - df['near_price'])\n",
    "    df['spread_depth_ratio'] = (df['ask_price'] - df['bid_price']) / (df['bid_size'] + df['ask_size'])\n",
    "\n",
    "\n",
    "    \n",
    "    for func in [\"mean\", \"std\", \"skew\"]:\n",
    "        df[f\"all_prices_{func}\"] = df[prices].agg(func, axis=1)\n",
    "        df[f\"all_sizes_{func}\"] = df[sizes].agg(func, axis=1)\n",
    "        \n",
    "    df = df.replace([np.inf, -np.inf], 0)\n",
    "    \n",
    "\n",
    "    df = pl.DataFrame(df)\n",
    "    df = df.sort([\"stock_id\", \"date_id\", \"seconds_in_bucket\"])\n",
    "\n",
    "    df = df.with_columns(\n",
    "        (pl.col(\"seconds_in_bucket\") / 10).cast(pl.Int32).alias(\"seconds_in_bucket\")\n",
    "    )\n",
    "\n",
    "    list_cols = list(df.columns)\n",
    "    list_cols_ma = [col for col in list_cols if col not in ['stock_id', 'date_id', 'seconds_in_bucket', \n",
    "       'imbalance_buy_sell_flag', 'reference_price', 'matched_size',\n",
    "       'far_price', 'near_price', 'bid_price', 'bid_size', 'ask_price',\n",
    "       'ask_size', 'wap', 'target', 'time_id', 'row_id','stock_weights','near_price_ask_price_imb'] ]\n",
    "    \n",
    "    \n",
    "    list_cols = ['all_prices_mean',\n",
    "         'all_prices_mean_mean_15',\n",
    "         'all_prices_mean_mean_3',\n",
    "         'all_prices_mean_mean_8',\n",
    "         'all_prices_mean_std_8',\n",
    "         'all_prices_skew_mean_10',\n",
    "         'all_prices_skew_mean_15',\n",
    "         'all_prices_skew_std_10',\n",
    "         'all_prices_skew_std_8',\n",
    "         'all_prices_std_std_8',\n",
    "         'all_sizes_mean_mean_15',\n",
    "         'all_sizes_mean_std_10',\n",
    "         'all_sizes_mean_std_15',\n",
    "         'all_sizes_std',\n",
    "         'all_sizes_std_std_15',\n",
    "         'ask_price_bid_price_imb_std_10',\n",
    "         'ask_price_bid_price_imb_std_15',\n",
    "         'ask_price_bid_price_reference_price_imb2',\n",
    "         'ask_price_bid_price_reference_price_imb2_std_10',\n",
    "         'ask_price_bid_price_reference_price_imb2_std_15',\n",
    "         'ask_price_bid_price_reference_price_imb2_std_8',\n",
    "         'ask_price_bid_price_wap_imb2',\n",
    "         'ask_price_wap_imb',\n",
    "         'ask_price_wap_imb_mean_8',\n",
    "         'ask_price_wap_imb_std_10',\n",
    "         'ask_price_wap_imb_std_8',\n",
    "         'ask_price_wap_reference_price_imb2',\n",
    "         'ask_price_wap_reference_price_imb2_mean_15',\n",
    "         'bid_price_wap_imb',\n",
    "         'bid_price_wap_imb_std_10',\n",
    "         'bid_price_wap_imb_std_8',\n",
    "         'bid_price_wap_reference_price_imb2',\n",
    "         'bid_price_wap_reference_price_imb2_std_15',\n",
    "         'bid_price_wap_reference_price_imb2_std_8',\n",
    "         'bid_size_ask_size_imbalance_size_imb2_mean_8',\n",
    "         'far_price_near_price_imb_mean_3',\n",
    "         'far_price_near_price_imb_std_8',\n",
    "         'imbalance_momentum_mean_10',\n",
    "         'imbalance_momentum_mean_15',\n",
    "         'imbalance_momentum_mean_8',\n",
    "         'imbalance_momentum_std_15',\n",
    "         'imbalance_size',\n",
    "         'imbalance_size_mean_15',\n",
    "         'imbalance_size_std_10',\n",
    "         'imbalance_size_std_8',\n",
    "         'market_urgency',\n",
    "         'market_urgency_mean_8',\n",
    "         'matched_size_ask_size_imbalance_size_imb2_std_15',\n",
    "         'matched_size_bid_size_ask_size_imb2',\n",
    "         'matched_size_bid_size_ask_size_imb2_std_10',\n",
    "         'matched_size_bid_size_imbalance_size_imb2_std_8',\n",
    "         'price_spread_std_15',\n",
    "         'reference_price_ask_price_imb',\n",
    "         'reference_price_ask_price_imb_mean_10',\n",
    "         'reference_price_ask_price_imb_mean_15',\n",
    "         'reference_price_ask_price_imb_std_15',\n",
    "         'reference_price_bid_price_imb',\n",
    "         'reference_price_bid_price_imb_mean_15',\n",
    "         'reference_price_bid_price_imb_std_8',\n",
    "         'reference_price_wap_imb',\n",
    "         'reference_price_wap_imb_mean_10',\n",
    "         'reference_price_wap_imb_mean_15',\n",
    "         'reference_price_wap_imb_mean_8',\n",
    "         'reference_price_wap_imb_std_8',\n",
    "         'seconds_in_bucket',\n",
    "         'size_imbalance',\n",
    "         'spread_depth_ratio',\n",
    "         'spread_depth_ratio_mean_15',\n",
    "         'spread_depth_ratio_std_10',\n",
    "         'spread_depth_ratio_std_15',\n",
    "         'spread_depth_ratio_std_8',\n",
    "         'spread_intensity_std_10',\n",
    "         'spread_intensity_std_15',\n",
    "         'volume_mean_15',\n",
    "         'wap_momentum',\n",
    "         'wap_momentum_mean_10',\n",
    "         'wap_momentum_mean_15',\n",
    "         'wap_momentum_mean_3',\n",
    "         'wap_momentum_mean_6',\n",
    "         'wap_momentum_mean_8',\n",
    "         'weighted_wap',\n",
    "         'weighted_wap_mean_15',\n",
    "         'weighted_wap_mean_3',\n",
    "         'weighted_wap_mean_8',\n",
    "         'weighted_wap_std_15']\n",
    "\n",
    "    def rolling_polars(df, list_cols, col_group_by, index_column):\n",
    "        for col in list_cols:\n",
    "            if TRAIN:\n",
    "                print(col)\n",
    "            function = col.split(\"_\")[-2]\n",
    "            if function in [\"mean\",\"std\"]:\n",
    "                base_col = \"_\".join(col.split(\"_\")[:-2])\n",
    "\n",
    "                window = col.split(\"_\")[-1]\n",
    "\n",
    "\n",
    "                rolling_group = df.group_by_rolling(\n",
    "                        index_column=index_column,\n",
    "                        period=f\"{window}i\",  # 'i' denotes index count (integer)\n",
    "                        by=col_group_by,\n",
    "                        closed=\"left\",  # Adjust as needed\n",
    "                    )\n",
    "                if function == \"mean\":\n",
    "                    df = df.join(\n",
    "                        rolling_group.agg(pl.col(base_col).mean().alias(f\"{base_col}_mean_{window}\")),\n",
    "                        on=[\"stock_id\", \"date_id\", \"seconds_in_bucket\"],\n",
    "                        how=\"left\",\n",
    "                    )\n",
    "                elif function == \"std\":\n",
    "                    df = df.join(\n",
    "                        rolling_group.agg(pl.col(base_col).std().alias(f\"{base_col}_std_{window}\")),\n",
    "                        on=[\"stock_id\", \"date_id\", \"seconds_in_bucket\"],\n",
    "                        how=\"left\",\n",
    "                    )\n",
    "        return df\n",
    "        \n",
    "    df = rolling_polars(df, list_cols, [\"stock_id\", \"date_id\"], \"seconds_in_bucket\")\n",
    "   \n",
    "\n",
    "\n",
    "    df = df.to_pandas()\n",
    "    \n",
    "    if TRAIN:\n",
    "        return df[list_cols + [\"date_id\",\"stock_id\",\"target\"]]\n",
    "    else:\n",
    "        return df[list_cols + [\"date_id\",\"stock_id\"]]"
   ]
  },
  {
   "cell_type": "code",
   "execution_count": null,
   "id": "90d43d51",
   "metadata": {
    "papermill": {
     "duration": 0.008446,
     "end_time": "2023-11-08T21:48:57.178368",
     "exception": false,
     "start_time": "2023-11-08T21:48:57.169922",
     "status": "completed"
    },
    "tags": []
   },
   "outputs": [],
   "source": []
  },
  {
   "cell_type": "code",
   "execution_count": 11,
   "id": "11d654a7",
   "metadata": {
    "execution": {
     "iopub.execute_input": "2023-11-08T21:48:57.231834Z",
     "iopub.status.busy": "2023-11-08T21:48:57.231508Z",
     "iopub.status.idle": "2023-11-08T21:48:57.238224Z",
     "shell.execute_reply": "2023-11-08T21:48:57.237545Z"
    },
    "papermill": {
     "duration": 0.019381,
     "end_time": "2023-11-08T21:48:57.240704",
     "exception": false,
     "start_time": "2023-11-08T21:48:57.221323",
     "status": "completed"
    },
    "tags": []
   },
   "outputs": [],
   "source": [
    "def time_series_split(X, n_splits, n_test_splits, embargo_td=2):\n",
    "    factorized_indices = np.unique(X[\"factorized\"])\n",
    "\n",
    "    # Compute the fold boundaries\n",
    "    fold_bounds = [\n",
    "        (fold[0], fold[-1] + 1) for fold in np.array_split(factorized_indices, n_splits)\n",
    "    ]\n",
    "\n",
    "    # Create the list of all tests test_fold_bounds that will become the test sets\n",
    "    selected_fold_bounds = list(itt.combinations(fold_bounds, n_test_splits))\n",
    "\n",
    "    # Reverse to start the testing from the most recent part of the dataset\n",
    "    selected_fold_bounds.reverse()\n",
    "\n",
    "    for fold_bound_list in selected_fold_bounds:\n",
    "        test_factorized_indices = np.empty(0)\n",
    "        test_fold_bounds = []\n",
    "\n",
    "        for fold_start, fold_end in fold_bound_list:\n",
    "            # Records the boundaries of the current test split\n",
    "            if not test_fold_bounds or fold_start != test_fold_bounds[-1][-1]:\n",
    "                test_fold_bounds.append((fold_start, fold_end))\n",
    "            elif fold_start == test_fold_bounds[-1][-1]:\n",
    "                test_fold_bounds[-1] = (test_fold_bounds[-1][0], fold_end)\n",
    "\n",
    "            test_factorized_indices = np.union1d(\n",
    "                test_factorized_indices, factorized_indices[fold_start:fold_end]\n",
    "            ).astype(int)\n",
    "\n",
    "        # Compute the train set indices\n",
    "        train_indices = np.setdiff1d(factorized_indices, test_factorized_indices)\n",
    "\n",
    "        # Purge and embargo can be added here if needed\n",
    "        # ...\n",
    "\n",
    "        yield train_indices, test_factorized_indices\n",
    "\n",
    "\n",
    "# # Example usage:\n"
   ]
  },
  {
   "cell_type": "code",
   "execution_count": 12,
   "id": "8c03ccf1",
   "metadata": {
    "execution": {
     "iopub.execute_input": "2023-11-08T21:48:57.261607Z",
     "iopub.status.busy": "2023-11-08T21:48:57.261348Z",
     "iopub.status.idle": "2023-11-08T21:48:57.266202Z",
     "shell.execute_reply": "2023-11-08T21:48:57.265534Z"
    },
    "papermill": {
     "duration": 0.016722,
     "end_time": "2023-11-08T21:48:57.267634",
     "exception": false,
     "start_time": "2023-11-08T21:48:57.250912",
     "status": "completed"
    },
    "tags": []
   },
   "outputs": [],
   "source": [
    "if TRAIN:\n",
    "    col_split = \"date_id\"\n",
    "    df_train.sort_values([col_split], inplace=True)\n",
    "    df_train.reset_index(drop=True, inplace=True)\n",
    "    df_train[\"factorized\"] = pd.factorize(df_train[col_split])[0]\n",
    "    \n",
    "    list_cols_drop = [\"date_id\"]\n",
    "    df_train.drop(list_cols_drop, axis=1, inplace=True)"
   ]
  },
  {
   "cell_type": "code",
   "execution_count": null,
   "id": "2bee645b",
   "metadata": {
    "papermill": {
     "duration": 0.008706,
     "end_time": "2023-11-08T21:48:57.285788",
     "exception": false,
     "start_time": "2023-11-08T21:48:57.277082",
     "status": "completed"
    },
    "tags": []
   },
   "outputs": [],
   "source": []
  },
  {
   "cell_type": "code",
   "execution_count": 13,
   "id": "e701cd0f",
   "metadata": {
    "execution": {
     "iopub.execute_input": "2023-11-08T21:48:57.304382Z",
     "iopub.status.busy": "2023-11-08T21:48:57.304121Z",
     "iopub.status.idle": "2023-11-08T21:48:57.307884Z",
     "shell.execute_reply": "2023-11-08T21:48:57.307184Z"
    },
    "papermill": {
     "duration": 0.014919,
     "end_time": "2023-11-08T21:48:57.309381",
     "exception": false,
     "start_time": "2023-11-08T21:48:57.294462",
     "status": "completed"
    },
    "tags": []
   },
   "outputs": [],
   "source": [
    "if DEBUG:\n",
    "    n_estimators_min =n_estimators_max= 50\n",
    "else:\n",
    "    n_estimators_min = 500\n",
    "    n_estimators_max = 500\n",
    "    "
   ]
  },
  {
   "cell_type": "code",
   "execution_count": 14,
   "id": "55a4b9c9",
   "metadata": {
    "execution": {
     "iopub.execute_input": "2023-11-08T21:48:57.327851Z",
     "iopub.status.busy": "2023-11-08T21:48:57.327600Z",
     "iopub.status.idle": "2023-11-08T21:48:57.336080Z",
     "shell.execute_reply": "2023-11-08T21:48:57.335282Z"
    },
    "papermill": {
     "duration": 0.020691,
     "end_time": "2023-11-08T21:48:57.338776",
     "exception": false,
     "start_time": "2023-11-08T21:48:57.318085",
     "status": "completed"
    },
    "tags": []
   },
   "outputs": [],
   "source": [
    "gpu_switch = \"OFF\"\n",
    "n_splits = 5\n",
    "n_test_split = 1\n",
    "embargo_td = 100\n",
    "\n",
    "n_repeats = 1\n",
    "nbrnd_erly_stp = 130\n",
    "\n",
    "cv_mthd = \"KF\"\n",
    "\n",
    "# Cross-Validation Setup\n",
    "if TRAIN:\n",
    "    all_cv = {\"KF\": KFold(n_splits=n_splits, shuffle=True, random_state=state)}\n",
    "    cv = all_cv[cv_mthd]\n",
    "\n",
    "    model_params_dict = {\n",
    "        \"LGBMR\": {\n",
    "            \"static_params\": {\n",
    "                \"device\": \"gpu\" if gpu_switch == \"ON\" else \"cpu\",\n",
    "                \"objective\": \"mae\",\n",
    "                \"boosting_type\": \"gbdt\",\n",
    "                \"random_state\": state,\n",
    "                \"n_jobs\" : 4,\n",
    "                \"verbose\": -1,\n",
    "                \"importance_type\" : \"gain\",\n",
    "            },\n",
    "            \"dynamic_params\": {\n",
    "                \"n_estimators\": {\n",
    "                    \"type\": \"int\",\n",
    "                    \"low\": n_estimators_min,\n",
    "                    \"high\": n_estimators_max,\n",
    "                },\n",
    "                \"learning_rate\": {\n",
    "                    \"type\": \"float\",\n",
    "                    \"low\": 0.005,\n",
    "                    \"high\": 0.06,\n",
    "                },\n",
    "                \"max_depth\": {\"type\": \"int\", \"low\": 10, \"high\": 90},\n",
    "                \"num_leaves\": {\n",
    "                    \"type\": \"int\",\n",
    "                    \"low\": 20,\n",
    "                    \"high\": 90,\n",
    "                },\n",
    "                \"min_child_samples\": {\n",
    "                    \"type\": \"int\",\n",
    "                    \"low\": 10,\n",
    "                    \"high\": 70,\n",
    "                },\n",
    "                \"subsample\": {\n",
    "                    \"type\": \"float\",\n",
    "                    \"low\": 0.7,\n",
    "                    \"high\": 1,\n",
    "                },\n",
    "                \"colsample_bytree\": {\n",
    "                    \"type\": \"float\",\n",
    "                    \"low\": 1,\n",
    "                    \"high\": 1,\n",
    "                },\n",
    "                \"min_split_gain\": {\n",
    "                    \"type\": \"float\",\n",
    "                    \"low\": 0,\n",
    "                    \"high\": 2,\n",
    "                },\n",
    "                \"reg_alpha\": {\n",
    "                    \"type\": \"float\",\n",
    "                    \"low\": 0,\n",
    "                    \"high\": 3,\n",
    "                },\n",
    "                \"reg_lambda\": {\n",
    "                    \"type\": \"float\",\n",
    "                    \"low\": 0,\n",
    "                    \"high\": 3,\n",
    "                },\n",
    "            },\n",
    "        },\n",
    "    }\n",
    "\n",
    "    dict_models = {\"LGBMR\": LGBMR}\n",
    "\n",
    "    log_model = True\n",
    "\n",
    "    experiment_date_str = datetime.now().strftime(\"%Y%m%d_%H_%M_%S\")\n",
    "    experiment_purpose = \"optiver_trading_at_the_close\"\n",
    "    experiment_name = f\"{experiment_purpose}_{experiment_date_str}\"\n",
    "\n",
    "    mlflow.set_experiment(experiment_name)\n"
   ]
  },
  {
   "cell_type": "code",
   "execution_count": 15,
   "id": "b8d3d590",
   "metadata": {
    "execution": {
     "iopub.execute_input": "2023-11-08T21:48:57.359841Z",
     "iopub.status.busy": "2023-11-08T21:48:57.359540Z",
     "iopub.status.idle": "2023-11-08T21:48:57.363967Z",
     "shell.execute_reply": "2023-11-08T21:48:57.363118Z"
    },
    "papermill": {
     "duration": 0.017038,
     "end_time": "2023-11-08T21:48:57.366071",
     "exception": false,
     "start_time": "2023-11-08T21:48:57.349033",
     "status": "completed"
    },
    "tags": []
   },
   "outputs": [],
   "source": [
    "# Run the Optuna study\n",
    "if TRAIN:\n",
    "    study = optuna.create_study(\n",
    "        direction=\"minimize\",\n",
    "        study_name=\"Your Study Name\",\n",
    "        load_if_exists=True,\n",
    "    )\n",
    "    study.optimize(lambda trial: objective(trial, df_train), n_trials=N_TRIALS)"
   ]
  },
  {
   "cell_type": "code",
   "execution_count": 16,
   "id": "540bec7b",
   "metadata": {
    "execution": {
     "iopub.execute_input": "2023-11-08T21:48:57.387611Z",
     "iopub.status.busy": "2023-11-08T21:48:57.387289Z",
     "iopub.status.idle": "2023-11-08T21:48:57.392129Z",
     "shell.execute_reply": "2023-11-08T21:48:57.391458Z"
    },
    "papermill": {
     "duration": 0.017544,
     "end_time": "2023-11-08T21:48:57.393641",
     "exception": false,
     "start_time": "2023-11-08T21:48:57.376097",
     "status": "completed"
    },
    "tags": []
   },
   "outputs": [],
   "source": [
    "if TRAIN:\n",
    "    args = {\n",
    "        'trial': \"trial\",\n",
    "        'df_train': df_train,\n",
    "        'cv_mthd': cv_mthd,\n",
    "        'experiment_purpose': experiment_purpose,\n",
    "        'experiment_name': experiment_name,\n",
    "        'VERSION_NB': VERSION_NB,\n",
    "        'dict_models': dict_models,\n",
    "        'model_params_dict': model_params_dict,\n",
    "        'logger': logger,\n",
    "        'time_series_split': time_series_split,\n",
    "        'n_splits': n_splits,\n",
    "        'n_test_split': n_test_split,\n",
    "        'create_model': create_model,\n",
    "        'log_training_details': log_training_details,\n",
    "        'log_feature_importance': log_feature_importance,\n",
    "        'experiment_date_str': experiment_date_str,\n",
    "        'path_experiments_storage': path_experiments_storage,\n",
    "        'target_col': 'target'\n",
    "    }\n"
   ]
  },
  {
   "cell_type": "code",
   "execution_count": null,
   "id": "5fc743f5",
   "metadata": {
    "papermill": {
     "duration": 0.009281,
     "end_time": "2023-11-08T21:48:57.412675",
     "exception": false,
     "start_time": "2023-11-08T21:48:57.403394",
     "status": "completed"
    },
    "tags": []
   },
   "outputs": [],
   "source": []
  },
  {
   "cell_type": "code",
   "execution_count": null,
   "id": "8ffea8c5",
   "metadata": {
    "papermill": {
     "duration": 0.009594,
     "end_time": "2023-11-08T21:48:57.432617",
     "exception": false,
     "start_time": "2023-11-08T21:48:57.423023",
     "status": "completed"
    },
    "tags": []
   },
   "outputs": [],
   "source": []
  },
  {
   "cell_type": "code",
   "execution_count": 17,
   "id": "5cd1bd03",
   "metadata": {
    "_cell_guid": "51030a77-aba3-469f-9c08-7963bc8a09d2",
    "_uuid": "6ff7d358-62f0-4ac9-b028-d1c920bb4eaf",
    "collapsed": false,
    "execution": {
     "iopub.execute_input": "2023-11-08T21:48:57.453097Z",
     "iopub.status.busy": "2023-11-08T21:48:57.452741Z",
     "iopub.status.idle": "2023-11-08T21:48:57.459348Z",
     "shell.execute_reply": "2023-11-08T21:48:57.458794Z"
    },
    "jupyter": {
     "outputs_hidden": false
    },
    "papermill": {
     "duration": 0.018746,
     "end_time": "2023-11-08T21:48:57.461163",
     "exception": false,
     "start_time": "2023-11-08T21:48:57.442417",
     "status": "completed"
    },
    "tags": []
   },
   "outputs": [],
   "source": [
    "def experiments_data(list_experiment_id = None, save_df = None, list_columns = None):\n",
    "    \"\"\"\n",
    "    Ogni volta che viene chiamata questa funzione legge tutti gli esperimenti e ritorna una nuova versione del file con tutti gli esperimenti storicizzati\n",
    "    \"\"\"\n",
    "    experiments = client.search_experiments()\n",
    "    all_runs_data = []\n",
    "    for exp in experiments:\n",
    "        experiment_id = exp.experiment_id\n",
    "        if (list_experiment_id == None) or (experiment_id in list_experiment_id):\n",
    "        \n",
    "            run_infos = client.search_runs(experiment_ids=[experiment_id])\n",
    "\n",
    "            for run_info in run_infos:\n",
    "                run_data = {\n",
    "                    \"experiment_id\": experiment_id,\n",
    "                    \"experiment_name\": exp.name,\n",
    "                    \"run_id\": run_info.info.run_id,\n",
    "                }\n",
    "\n",
    "                # Add metrics to run_data\n",
    "                for key, value in run_info.data.metrics.items():\n",
    "                    run_data[f\"{key}\"] = value\n",
    "\n",
    "                # Add params to run_data\n",
    "                for key, value in run_info.data.params.items():\n",
    "                    run_data[f\"{key}\"] = value\n",
    "\n",
    "                all_runs_data.append(run_data)\n",
    "        \n",
    "    df_runs_new = pd.DataFrame(all_runs_data)\n",
    "    \n",
    "\n",
    "    \n",
    "    df_runs_new = df_runs_new[~df_runs_new[\"fold_number\"].isna()]\n",
    "    \n",
    "    if list_columns:\n",
    "        df_runs_new = df_runs_new[list_columns]\n",
    "        \n",
    "    if save_df:\n",
    "        timestamp = datetime.now().strftime(\"%Y%m%d_%H%M\")\n",
    "        csv_filename = f\"df_runs_{timestamp}.csv\"\n",
    "        df_runs_new.to_csv(csv_filename, index=False)\n",
    "\n",
    "        print(f\"DataFrame saved to {csv_filename}, Shape: {df_unique.shape}\")\n",
    "\n",
    "    return df_runs_new"
   ]
  },
  {
   "cell_type": "code",
   "execution_count": 18,
   "id": "c20695bb",
   "metadata": {
    "execution": {
     "iopub.execute_input": "2023-11-08T21:48:57.481751Z",
     "iopub.status.busy": "2023-11-08T21:48:57.481522Z",
     "iopub.status.idle": "2023-11-08T21:48:57.485824Z",
     "shell.execute_reply": "2023-11-08T21:48:57.484991Z"
    },
    "papermill": {
     "duration": 0.016477,
     "end_time": "2023-11-08T21:48:57.487305",
     "exception": false,
     "start_time": "2023-11-08T21:48:57.470828",
     "status": "completed"
    },
    "tags": []
   },
   "outputs": [],
   "source": [
    "if TRAIN:\n",
    "    df_exp  = experiments_data(list_experiment_id = None, save_df = None, list_columns = None)\n",
    "    list_base_cols = ['run_time','experiment_id','run_id','model_name','fold_number','mae','training_data_rows','training_data_columns'] \n",
    "    list_dynamic_params = list(model_params_dict[\"LGBMR\"]['dynamic_params'].keys())\n",
    "    \n",
    "    \n",
    "    \n",
    "    list_cols_exp = list_base_cols + list_dynamic_params +['model_path']\n",
    "    \n",
    "    \n",
    "    df_exp = df_exp[list_cols_exp]\n",
    "    \n",
    "    df_exp['run_time'] = pd.to_datetime(df_exp['run_time'], format='%Y%m%d_%H%M%S', errors='coerce')"
   ]
  },
  {
   "cell_type": "code",
   "execution_count": 19,
   "id": "cf1fc1aa",
   "metadata": {
    "execution": {
     "iopub.execute_input": "2023-11-08T21:48:57.508852Z",
     "iopub.status.busy": "2023-11-08T21:48:57.508219Z",
     "iopub.status.idle": "2023-11-08T21:48:57.511451Z",
     "shell.execute_reply": "2023-11-08T21:48:57.510927Z"
    },
    "papermill": {
     "duration": 0.016136,
     "end_time": "2023-11-08T21:48:57.513107",
     "exception": false,
     "start_time": "2023-11-08T21:48:57.496971",
     "status": "completed"
    },
    "tags": []
   },
   "outputs": [],
   "source": [
    "if TRAIN:\n",
    "    list_files_feat_importance = ['/kaggle/working/feat_impor_optiver_trading_at_the_close_20231107_14_59_05.csv']\n",
    "\n",
    "\n",
    "\n",
    "    aggregate_feature_importance( list_files_feat_importance)\n"
   ]
  },
  {
   "cell_type": "code",
   "execution_count": 20,
   "id": "45908272",
   "metadata": {
    "execution": {
     "iopub.execute_input": "2023-11-08T21:48:57.533945Z",
     "iopub.status.busy": "2023-11-08T21:48:57.533540Z",
     "iopub.status.idle": "2023-11-08T21:48:57.536485Z",
     "shell.execute_reply": "2023-11-08T21:48:57.535977Z"
    },
    "papermill": {
     "duration": 0.015022,
     "end_time": "2023-11-08T21:48:57.538056",
     "exception": false,
     "start_time": "2023-11-08T21:48:57.523034",
     "status": "completed"
    },
    "tags": []
   },
   "outputs": [],
   "source": [
    "#aggregate_feature_importance( list_files_feat_importance).tail(60)"
   ]
  },
  {
   "cell_type": "code",
   "execution_count": null,
   "id": "c4c7d4d6",
   "metadata": {
    "papermill": {
     "duration": 0.009317,
     "end_time": "2023-11-08T21:48:57.557121",
     "exception": false,
     "start_time": "2023-11-08T21:48:57.547804",
     "status": "completed"
    },
    "tags": []
   },
   "outputs": [],
   "source": []
  },
  {
   "cell_type": "code",
   "execution_count": null,
   "id": "8cb9bf84",
   "metadata": {
    "papermill": {
     "duration": 0.009509,
     "end_time": "2023-11-08T21:48:57.576348",
     "exception": false,
     "start_time": "2023-11-08T21:48:57.566839",
     "status": "completed"
    },
    "tags": []
   },
   "outputs": [],
   "source": []
  },
  {
   "cell_type": "code",
   "execution_count": 21,
   "id": "8034cea0",
   "metadata": {
    "_cell_guid": "95e6c8a8-62ed-4412-944a-5b08508702fc",
    "_uuid": "60c6783c-1e42-43ca-ba32-bda313deb585",
    "collapsed": false,
    "execution": {
     "iopub.execute_input": "2023-11-08T21:48:57.598754Z",
     "iopub.status.busy": "2023-11-08T21:48:57.598112Z",
     "iopub.status.idle": "2023-11-08T21:48:57.603613Z",
     "shell.execute_reply": "2023-11-08T21:48:57.603086Z"
    },
    "jupyter": {
     "outputs_hidden": false
    },
    "papermill": {
     "duration": 0.019575,
     "end_time": "2023-11-08T21:48:57.606116",
     "exception": false,
     "start_time": "2023-11-08T21:48:57.586541",
     "status": "completed"
    },
    "tags": []
   },
   "outputs": [],
   "source": [
    "def ensemble_predict(model_paths, X_test):\n",
    "    models = []\n",
    "    predictions = []\n",
    "\n",
    "    # Load models based on full artifact paths\n",
    "    for model_path in model_paths:\n",
    "        try:\n",
    "            # If using direct path to pkl\n",
    "            if model_path.endswith(\".pkl\"):\n",
    "                model = joblib.load(model_path)\n",
    "            else:\n",
    "                print(f\"Unsupported model format for {model_path}. Skipping.\")\n",
    "                continue  # Skip this iteration\n",
    "\n",
    "            models.append(model)\n",
    "        except Exception as e:\n",
    "            print(f\"Failed to load model at {model_path}. Error: {e}\")\n",
    "\n",
    "    # Make predictions\n",
    "    for model in models:\n",
    "        try:\n",
    "            pred = model.predict(X_test)\n",
    "            predictions.append(pred)\n",
    "        except Exception as e:\n",
    "            print(f\"Failed to make prediction with model. Error: {e}\")\n",
    "\n",
    "    # Average predictions\n",
    "    if len(predictions) > 0:\n",
    "        ensemble_pred = np.mean(predictions, axis=0)\n",
    "    else:\n",
    "        print(\"No valid models loaded. Cannot make ensemble predictions.\")\n",
    "        ensemble_pred = None\n",
    "\n",
    "    return ensemble_pred"
   ]
  },
  {
   "cell_type": "code",
   "execution_count": null,
   "id": "de4d6a76",
   "metadata": {
    "papermill": {
     "duration": 0.009676,
     "end_time": "2023-11-08T21:48:57.625736",
     "exception": false,
     "start_time": "2023-11-08T21:48:57.616060",
     "status": "completed"
    },
    "tags": []
   },
   "outputs": [],
   "source": []
  },
  {
   "cell_type": "code",
   "execution_count": null,
   "id": "970a1911",
   "metadata": {
    "papermill": {
     "duration": 0.009505,
     "end_time": "2023-11-08T21:48:57.645026",
     "exception": false,
     "start_time": "2023-11-08T21:48:57.635521",
     "status": "completed"
    },
    "tags": []
   },
   "outputs": [],
   "source": []
  },
  {
   "cell_type": "code",
   "execution_count": 22,
   "id": "483b160c",
   "metadata": {
    "execution": {
     "iopub.execute_input": "2023-11-08T21:48:57.665906Z",
     "iopub.status.busy": "2023-11-08T21:48:57.665383Z",
     "iopub.status.idle": "2023-11-08T21:48:57.671743Z",
     "shell.execute_reply": "2023-11-08T21:48:57.671188Z"
    },
    "papermill": {
     "duration": 0.018771,
     "end_time": "2023-11-08T21:48:57.673554",
     "exception": false,
     "start_time": "2023-11-08T21:48:57.654783",
     "status": "completed"
    },
    "tags": []
   },
   "outputs": [],
   "source": [
    "\n",
    "\n",
    "if TRAIN:\n",
    "    model_paths = list(df_exp[(df_exp['experiment_id'] == \"795875964308489224\") & (df_exp['learning_rate'] == \"0.041316718960638196\") ]['model_path'])\n",
    "\n",
    "    if not os.path.exists(models_dir):\n",
    "        os.makedirs(models_dir)\n",
    "\n",
    "    for model_path in model_paths:\n",
    "        print(f\"Checking if model path exists: {model_path}\")\n",
    "\n",
    "        if not os.path.exists(model_path):\n",
    "            print(f\"File does not exist: {model_path}\")\n",
    "            continue  # Skip to the next iteration\n",
    "\n",
    "        specific_part = model_path.split(\"/\")[-2]\n",
    "        dest_path = os.path.join(models_dir, f\"{specific_part}.pkl\")\n",
    "        if not os.path.exists(dest_path):\n",
    "            print(f\"Copying from {model_path} to {dest_path}\")\n",
    "            shutil.copy(model_path, dest_path)\n",
    "        else:\n",
    "            print(f\"File {dest_path} already exists. Skipping copy.\")\n",
    "\n",
    "    zipf = zipfile.ZipFile(\n",
    "        f\"/kaggle/working/{models_dir}.zip\", \"w\", zipfile.ZIP_DEFLATED\n",
    "    )\n",
    "\n",
    "    # Navigate through the folder and add each file to the ZIP\n",
    "    for root, dirs, files in os.walk(f\"/kaggle/working/{models_dir}\"):\n",
    "        for file in files:\n",
    "            zipf.write(\n",
    "                os.path.join(root, file),\n",
    "                os.path.relpath(\n",
    "                    os.path.join(root, file), f\"/kaggle/working/{models_dir}\"\n",
    "                ),\n",
    "            )\n",
    "\n",
    "    zipf.close()"
   ]
  },
  {
   "cell_type": "code",
   "execution_count": null,
   "id": "8ff94759",
   "metadata": {
    "papermill": {
     "duration": 0.010214,
     "end_time": "2023-11-08T21:48:57.693635",
     "exception": false,
     "start_time": "2023-11-08T21:48:57.683421",
     "status": "completed"
    },
    "tags": []
   },
   "outputs": [],
   "source": []
  },
  {
   "cell_type": "code",
   "execution_count": null,
   "id": "8eb0c683",
   "metadata": {
    "papermill": {
     "duration": 0.009433,
     "end_time": "2023-11-08T21:48:57.713353",
     "exception": false,
     "start_time": "2023-11-08T21:48:57.703920",
     "status": "completed"
    },
    "tags": []
   },
   "outputs": [],
   "source": []
  },
  {
   "cell_type": "code",
   "execution_count": 23,
   "id": "c86d784a",
   "metadata": {
    "execution": {
     "iopub.execute_input": "2023-11-08T21:48:57.734363Z",
     "iopub.status.busy": "2023-11-08T21:48:57.733962Z",
     "iopub.status.idle": "2023-11-08T21:48:57.741977Z",
     "shell.execute_reply": "2023-11-08T21:48:57.740996Z"
    },
    "papermill": {
     "duration": 0.020591,
     "end_time": "2023-11-08T21:48:57.743831",
     "exception": false,
     "start_time": "2023-11-08T21:48:57.723240",
     "status": "completed"
    },
    "tags": []
   },
   "outputs": [
    {
     "name": "stdout",
     "output_type": "stream",
     "text": [
      "List of file paths: ['/kaggle/input/models-5/LGBMR_0_20231107_154648.pkl', '/kaggle/input/models-5/LGBMR_0_20231107_151455.pkl', '/kaggle/input/models-5/LGBMR_0_20231107_161833.pkl', '/kaggle/input/models-5/LGBMR_0_20231107_160237.pkl', '/kaggle/input/models-5/LGBMR_0_20231107_153045.pkl']\n"
     ]
    }
   ],
   "source": [
    "model_paths = []\n",
    "models_dir_input = models_dir.replace(\"_\", \"-\")\n",
    "directory = f\"/kaggle/input/{models_dir_input}\"\n",
    "\n",
    "# Check if the directory exists\n",
    "if os.path.exists(directory):\n",
    "    # Traverse the directory and collect file paths\n",
    "    for filename in os.listdir(directory):\n",
    "        full_path = os.path.join(directory, filename)\n",
    "\n",
    "        # Check if the item is a file (and not a sub-directory)\n",
    "        if os.path.isfile(full_path):\n",
    "            model_paths.append(full_path)\n",
    "else:\n",
    "    print(f\"The directory {directory} does not exist.\")\n",
    "\n",
    "# Print or return the list of file paths\n",
    "print(\"List of file paths:\", model_paths)"
   ]
  },
  {
   "cell_type": "code",
   "execution_count": 24,
   "id": "97915d05",
   "metadata": {
    "_cell_guid": "79aa495a-7580-497c-b913-8941cf7d0c61",
    "_uuid": "b3efe16f-ca61-4000-94d7-568364d0e11b",
    "collapsed": false,
    "execution": {
     "iopub.execute_input": "2023-11-08T21:48:57.764790Z",
     "iopub.status.busy": "2023-11-08T21:48:57.764526Z",
     "iopub.status.idle": "2023-11-08T21:48:57.767776Z",
     "shell.execute_reply": "2023-11-08T21:48:57.767019Z"
    },
    "jupyter": {
     "outputs_hidden": false
    },
    "papermill": {
     "duration": 0.015797,
     "end_time": "2023-11-08T21:48:57.769816",
     "exception": false,
     "start_time": "2023-11-08T21:48:57.754019",
     "status": "completed"
    },
    "tags": []
   },
   "outputs": [],
   "source": [
    "# Assuming X_test for predict\n",
    "# ensemble_predictions = ensemble_predict(model_paths, df_test, mlflow_client)"
   ]
  },
  {
   "cell_type": "code",
   "execution_count": 25,
   "id": "8a0078dd",
   "metadata": {
    "execution": {
     "iopub.execute_input": "2023-11-08T21:48:57.790096Z",
     "iopub.status.busy": "2023-11-08T21:48:57.789611Z",
     "iopub.status.idle": "2023-11-08T21:48:57.812148Z",
     "shell.execute_reply": "2023-11-08T21:48:57.811354Z"
    },
    "papermill": {
     "duration": 0.034398,
     "end_time": "2023-11-08T21:48:57.813762",
     "exception": false,
     "start_time": "2023-11-08T21:48:57.779364",
     "status": "completed"
    },
    "tags": []
   },
   "outputs": [],
   "source": [
    "import optiver2023\n",
    "env = optiver2023.make_env()\n",
    "iter_test = env.iter_test()"
   ]
  },
  {
   "cell_type": "code",
   "execution_count": 26,
   "id": "f416fcc3",
   "metadata": {
    "_cell_guid": "d30f3862-dca2-4242-9db0-ab9750118622",
    "_uuid": "efd9073c-aaef-4135-bf7c-1e892e9aa831",
    "collapsed": false,
    "execution": {
     "iopub.execute_input": "2023-11-08T21:48:57.832639Z",
     "iopub.status.busy": "2023-11-08T21:48:57.832431Z",
     "iopub.status.idle": "2023-11-08T21:50:00.667283Z",
     "shell.execute_reply": "2023-11-08T21:50:00.666408Z"
    },
    "jupyter": {
     "outputs_hidden": false
    },
    "papermill": {
     "duration": 62.846682,
     "end_time": "2023-11-08T21:50:00.669574",
     "exception": false,
     "start_time": "2023-11-08T21:48:57.822892",
     "status": "completed"
    },
    "tags": []
   },
   "outputs": [
    {
     "name": "stdout",
     "output_type": "stream",
     "text": [
      "This version of the API is not optimized and should not be used to estimate the runtime of your code on the hidden test set.\n"
     ]
    }
   ],
   "source": [
    "counter = 0\n",
    "df_tot_test = []\n",
    "for test, revealed_targets, sample_prediction in iter_test:\n",
    "\n",
    "    if counter < 13:\n",
    "        df_tot_test.append(test)\n",
    "    else:\n",
    "        df_tot_test = df_tot_test[1:]\n",
    "        df_tot_test.append(test)\n",
    "        \n",
    "    df_test = pd.concat(df_tot_test, axis = 0, ignore_index = True)\n",
    "    \n",
    "    feat = feat_engineering(df_test)[-len(test):]\n",
    "    feat = feat.sort_values(['seconds_in_bucket','stock_id'])[-len(test):]\n",
    "    \n",
    "    list_cols_drop = [\"date_id\",\"stock_id\"]\n",
    "    feat.drop(list_cols_drop, axis=1, inplace=True)\n",
    "\n",
    "    sample_prediction[\"target\"] = ensemble_predict(model_paths, feat)\n",
    "    env.predict(sample_prediction)\n",
    "    counter += 1"
   ]
  },
  {
   "cell_type": "code",
   "execution_count": null,
   "id": "c5fee4e0",
   "metadata": {
    "_cell_guid": "18344629-3cbc-4244-ac34-c8af6b88b0d8",
    "_uuid": "667a4d83-d235-446e-a72c-cf02718a1a7b",
    "collapsed": false,
    "jupyter": {
     "outputs_hidden": false
    },
    "papermill": {
     "duration": 0.008669,
     "end_time": "2023-11-08T21:50:00.687675",
     "exception": false,
     "start_time": "2023-11-08T21:50:00.679006",
     "status": "completed"
    },
    "tags": []
   },
   "outputs": [],
   "source": []
  },
  {
   "cell_type": "code",
   "execution_count": 27,
   "id": "5fb7cd2f",
   "metadata": {
    "execution": {
     "iopub.execute_input": "2023-11-08T21:50:00.707726Z",
     "iopub.status.busy": "2023-11-08T21:50:00.706391Z",
     "iopub.status.idle": "2023-11-08T21:50:00.711285Z",
     "shell.execute_reply": "2023-11-08T21:50:00.710485Z"
    },
    "papermill": {
     "duration": 0.016352,
     "end_time": "2023-11-08T21:50:00.712881",
     "exception": false,
     "start_time": "2023-11-08T21:50:00.696529",
     "status": "completed"
    },
    "tags": []
   },
   "outputs": [],
   "source": [
    "#clean_directory_except_one('/kaggle/working/', 'submission.csv')"
   ]
  },
  {
   "cell_type": "code",
   "execution_count": null,
   "id": "1bae40a0",
   "metadata": {
    "_cell_guid": "3ef4ae54-1bb4-4cc3-a7da-a6691a272d30",
    "_uuid": "495a4e04-554d-4ef1-919d-62bc59f089c4",
    "collapsed": false,
    "jupyter": {
     "outputs_hidden": false
    },
    "papermill": {
     "duration": 0.00857,
     "end_time": "2023-11-08T21:50:00.730554",
     "exception": false,
     "start_time": "2023-11-08T21:50:00.721984",
     "status": "completed"
    },
    "tags": []
   },
   "outputs": [],
   "source": []
  },
  {
   "cell_type": "code",
   "execution_count": null,
   "id": "2d6a09ad",
   "metadata": {
    "papermill": {
     "duration": 0.008617,
     "end_time": "2023-11-08T21:50:00.747936",
     "exception": false,
     "start_time": "2023-11-08T21:50:00.739319",
     "status": "completed"
    },
    "tags": []
   },
   "outputs": [],
   "source": []
  },
  {
   "cell_type": "code",
   "execution_count": null,
   "id": "9ccb8299",
   "metadata": {
    "_cell_guid": "5498ae4b-62e8-4050-91e7-075fc549380f",
    "_uuid": "ce9653b2-7dff-4c5b-af77-5f0ef88b6e86",
    "collapsed": false,
    "jupyter": {
     "outputs_hidden": false
    },
    "papermill": {
     "duration": 0.008739,
     "end_time": "2023-11-08T21:50:00.765511",
     "exception": false,
     "start_time": "2023-11-08T21:50:00.756772",
     "status": "completed"
    },
    "tags": []
   },
   "outputs": [],
   "source": []
  },
  {
   "cell_type": "code",
   "execution_count": null,
   "id": "11d9d0cb",
   "metadata": {
    "_cell_guid": "92a8ed18-3a63-464e-9d62-17cea3baed59",
    "_uuid": "0b017968-3b5a-4465-820e-e89659b10afd",
    "collapsed": false,
    "jupyter": {
     "outputs_hidden": false
    },
    "papermill": {
     "duration": 0.008672,
     "end_time": "2023-11-08T21:50:00.783150",
     "exception": false,
     "start_time": "2023-11-08T21:50:00.774478",
     "status": "completed"
    },
    "tags": []
   },
   "outputs": [],
   "source": []
  },
  {
   "cell_type": "code",
   "execution_count": null,
   "id": "4c6808c7",
   "metadata": {
    "_cell_guid": "f9d19e8d-0074-4ae2-adfb-4c039b700215",
    "_uuid": "b6096d27-d452-4593-9832-d15bfbd83e1b",
    "collapsed": false,
    "jupyter": {
     "outputs_hidden": false
    },
    "papermill": {
     "duration": 0.008824,
     "end_time": "2023-11-08T21:50:00.800905",
     "exception": false,
     "start_time": "2023-11-08T21:50:00.792081",
     "status": "completed"
    },
    "tags": []
   },
   "outputs": [],
   "source": []
  },
  {
   "cell_type": "code",
   "execution_count": null,
   "id": "2131effa",
   "metadata": {
    "_cell_guid": "855f8db3-e344-4d4d-b577-36499775f352",
    "_uuid": "fde5edb9-d23d-41ac-92c6-593f299230c2",
    "collapsed": false,
    "jupyter": {
     "outputs_hidden": false
    },
    "papermill": {
     "duration": 0.00881,
     "end_time": "2023-11-08T21:50:00.818833",
     "exception": false,
     "start_time": "2023-11-08T21:50:00.810023",
     "status": "completed"
    },
    "tags": []
   },
   "outputs": [],
   "source": []
  },
  {
   "cell_type": "code",
   "execution_count": null,
   "id": "e870a99e",
   "metadata": {
    "_cell_guid": "82330d89-f35e-4cae-876c-de852438527d",
    "_uuid": "f90f329d-b882-464c-84fc-74a815cfe1cd",
    "collapsed": false,
    "jupyter": {
     "outputs_hidden": false
    },
    "papermill": {
     "duration": 0.008684,
     "end_time": "2023-11-08T21:50:00.836483",
     "exception": false,
     "start_time": "2023-11-08T21:50:00.827799",
     "status": "completed"
    },
    "tags": []
   },
   "outputs": [],
   "source": []
  },
  {
   "cell_type": "code",
   "execution_count": null,
   "id": "90b41343",
   "metadata": {
    "_cell_guid": "ed96eca6-9765-4c90-a6bf-3071518ba2f0",
    "_uuid": "ca1d48b9-5537-491b-9de2-57360edd9844",
    "collapsed": false,
    "jupyter": {
     "outputs_hidden": false
    },
    "papermill": {
     "duration": 0.008818,
     "end_time": "2023-11-08T21:50:00.854288",
     "exception": false,
     "start_time": "2023-11-08T21:50:00.845470",
     "status": "completed"
    },
    "tags": []
   },
   "outputs": [],
   "source": []
  },
  {
   "cell_type": "markdown",
   "id": "31d5ef10",
   "metadata": {
    "_cell_guid": "06b24b0a-6515-48c6-b4a0-240865cfc1ea",
    "_uuid": "5e9b8536-f812-432a-ba05-c2f0b0f8994f",
    "jupyter": {
     "outputs_hidden": false
    },
    "papermill": {
     "duration": 0.0088,
     "end_time": "2023-11-08T21:50:00.872096",
     "exception": false,
     "start_time": "2023-11-08T21:50:00.863296",
     "status": "completed"
    },
    "tags": []
   },
   "source": [
    "#### "
   ]
  }
 ],
 "metadata": {
  "kernelspec": {
   "display_name": "Python 3",
   "language": "python",
   "name": "python3"
  },
  "language_info": {
   "codemirror_mode": {
    "name": "ipython",
    "version": 3
   },
   "file_extension": ".py",
   "mimetype": "text/x-python",
   "name": "python",
   "nbconvert_exporter": "python",
   "pygments_lexer": "ipython3",
   "version": "3.10.12"
  },
  "papermill": {
   "default_parameters": {},
   "duration": 68.808396,
   "end_time": "2023-11-08T21:50:01.600367",
   "environment_variables": {},
   "exception": null,
   "input_path": "__notebook__.ipynb",
   "output_path": "__notebook__.ipynb",
   "parameters": {},
   "start_time": "2023-11-08T21:48:52.791971",
   "version": "2.4.0"
  }
 },
 "nbformat": 4,
 "nbformat_minor": 5
}
