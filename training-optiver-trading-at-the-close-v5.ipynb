{
 "cells": [
  {
   "cell_type": "code",
   "execution_count": 1,
   "metadata": {},
   "outputs": [],
   "source": [
    "# Constants and Configuration Variables\n",
    "DEBUG = True\n",
    "TRAIN = True\n",
    "TUNING = False\n",
    "OVERWRITE_PROCESSED_DATA = False\n",
    "N_TRIALS = 10\n",
    "STATE = 42\n",
    "\n",
    "NAME_FOLDER_MODELS = \"models_12\"\n",
    "\n",
    "# External general-purpose modules\n",
    "import gc\n",
    "import zipfile\n",
    "import shutil\n",
    "import os\n",
    "import itertools as itt\n",
    "from itertools import combinations, product\n",
    "from datetime import datetime\n",
    "import numpy as np\n",
    "import pandas as pd\n",
    "import polars as pl\n",
    "import joblib\n",
    "from pathlib import Path\n",
    "import warnings\n",
    "\n",
    "from dotenv import load_dotenv\n",
    "\n",
    "# Setting pandas options and warning filters\n",
    "pd.set_option(\"display.max_columns\", None)\n",
    "warnings.filterwarnings(\"ignore\")\n",
    "warnings.simplefilter(action=\"ignore\", category=pd.errors.PerformanceWarning)\n",
    "\n",
    "# Load environment variables\n",
    "load_dotenv()\n",
    "path_root_project = Path.cwd()\n",
    "if path_root_project.name not in [\"working\", \"content\"]:\n",
    "    path_root_project = Path(os.getenv(\"ROOT_PATH\") or path_root_project)"
   ]
  },
  {
   "cell_type": "code",
   "execution_count": 2,
   "metadata": {},
   "outputs": [],
   "source": [
    "class PathManager:\n",
    "    def __init__(self, path_project_dir):\n",
    "        self.path_root_project = Path(path_project_dir)\n",
    "\n",
    "        self.path_data_dir = None\n",
    "        self.path_experiments_dir = None\n",
    "        self.name_train_file = None\n",
    "        self.name_test_file = None\n",
    "\n",
    "        self.name_project_dir = None\n",
    "\n",
    "        self.path_experiments_dir = (\n",
    "            \"http://ec2-13-38-228-107.eu-west-3.compute.amazonaws.com:5000\"\n",
    "        )\n",
    "        self.path_artifact_location = (\n",
    "            f\"s3://mlflow-v1/kaggle_optiver_trading_at_the_close/\"\n",
    "        )\n",
    "\n",
    "        self.initialize_paths()\n",
    "\n",
    "    def initialize_paths(self):\n",
    "        if self.path_root_project.name == \"working\":\n",
    "            self.setup_kaggle_paths()\n",
    "        else:\n",
    "            self.setup_local_paths()\n",
    "\n",
    "    def setup_kaggle_paths(self):\n",
    "        self.name_project_dir = \"optiver-trading-at-the-close\"\n",
    "\n",
    "        self.name_train_file = \"train.csv\"\n",
    "        self.name_test_file = \"test.csv\"\n",
    "\n",
    "        self.data_dir = Path(\"/kaggle/input\") / self.name_project_dir\n",
    "        self.path_data_train_raw = self.data_dir / self.name_train_file\n",
    "        self.path_data_test_raw = self.data_dir / self.name_test_file\n",
    "\n",
    "        # path_dataset_processed = \"/kaggle/working/processed_data\"\n",
    "        # path_dataset_train = os.path.join(path_dataset_processed, \"train.csv\")\n",
    "        # path_dataset_test = os.path.join(path_dataset_processed, \"test.csv\")\n",
    "\n",
    "    def setup_local_paths(self):\n",
    "        self.name_project_dir = \"kaggle_optiver_trading_at_the_close\"\n",
    "        self.data_dir = self.path_root_project / \"data\" / self.name_project_dir\n",
    "\n",
    "        self.path_data_train_raw = self.data_dir / \"raw\" / \"train.csv\"\n",
    "        self.path_data_test_raw = self.data_dir / \"raw\" / \"test.csv\"\n",
    "\n",
    "        self.path_dataset_processed = self.path_root_project / \"data\" / \"processed\"\n",
    "        # path_dataset_train = path_dataset_processed / \"train.csv\"\n",
    "        # path_dataset_test = path_dataset_processed / \"test.csv\""
   ]
  },
  {
   "cell_type": "code",
   "execution_count": 3,
   "metadata": {},
   "outputs": [],
   "source": [
    "pm = PathManager(path_root_project)"
   ]
  },
  {
   "cell_type": "code",
   "execution_count": 5,
   "id": "6f36da2f",
   "metadata": {
    "execution": {
     "iopub.execute_input": "2023-11-10T14:44:15.934785Z",
     "iopub.status.busy": "2023-11-10T14:44:15.934366Z",
     "iopub.status.idle": "2023-11-10T14:44:18.406592Z",
     "shell.execute_reply": "2023-11-10T14:44:18.405330Z"
    },
    "papermill": {
     "duration": 2.491736,
     "end_time": "2023-11-10T14:44:18.409438",
     "exception": false,
     "start_time": "2023-11-10T14:44:15.917702",
     "status": "completed"
    },
    "tags": []
   },
   "outputs": [],
   "source": [
    "\n",
    "# Conditional imports and settings based on TRAIN constant\n",
    "if TRAIN:\n",
    "    if pm.path_root_project.name == \"working\":\n",
    "        !pip install loguru mlflow optuna > /dev/null\n",
    "\n",
    "    # External Libraries\n",
    "    import lightgbm as lgbm\n",
    "    import mlflow\n",
    "    import optuna\n",
    "    from mlflow.tracking import MlflowClient\n",
    "    from optuna.integration.mlflow import MLflowCallback\n",
    "    from sklearn.model_selection import KFold\n",
    "    from tqdm import tqdm\n",
    "    from xgboost import XGBRegressor as XGBR\n",
    "    from lightgbm import log_evaluation, early_stopping, LGBMRegressor as LGBMR\n",
    "\n",
    "    # Local Modules Imports\n",
    "    from utils import log_feature_importance, create_model, log_training_details, aggregate_feature_importance, get_data, clean_directory_except_one, experiments_data, reduce_mem_usage\n",
    "    from fe_optiver_trading_at_the_close import calculate_triplet_imbalance_numba, compute_triplet_imbalance, convert_weights_to_dict\n",
    "    \n",
    "    # Auto-reload modules - Specific to Jupyter Notebooks\n",
    "    %load_ext autoreload\n",
    "    %autoreload 2\n",
    "\n",
    "    mlflow.set_tracking_uri(pm.path_experiments_dir)\n",
    "    client = MlflowClient()\n",
    "\n",
    "\n"
   ]
  },
  {
   "cell_type": "code",
   "execution_count": 6,
   "metadata": {},
   "outputs": [],
   "source": [
    "if TRAIN:\n",
    "    if not os.path.exists(pm.path_dataset_processed) or OVERWRITE_PROCESSED_DATA:\n",
    "        df_train_raw = pd.read_csv(pm.path_data_train_raw)\n",
    "\n",
    "        if DEBUG:\n",
    "            df_train_raw = df_train_raw[df_train_raw[\"stock_id\"].isin([0, 1, 2])]\n",
    "\n",
    "        drop_idx = df_train_raw.loc[\n",
    "            df_train_raw[\"target\"].isna(), \"target\"\n",
    "        ].index.to_list()\n",
    "        df_train = df_train_raw.drop(drop_idx, axis=0)\n",
    "        df_train.reset_index(drop=True, inplace=True)\n",
    "    else:\n",
    "        df_train = pd.read_csv(pm.path_dataset_processed)\n",
    "        if DEBUG:\n",
    "            df_train = df_train[df_train[\"stock_id\"].isin([0, 1, 2])]"
   ]
  },
  {
   "cell_type": "code",
   "execution_count": 7,
   "metadata": {},
   "outputs": [],
   "source": [
    "if TRAIN:\n",
    "    global_stock_id_feats = {\n",
    "        \"median_size\": df_train.groupby(\"stock_id\")[\"bid_size\"].median()\n",
    "        + df_train.groupby(\"stock_id\")[\"ask_size\"].median(),\n",
    "        \"std_size\": df_train.groupby(\"stock_id\")[\"bid_size\"].std()\n",
    "        + df_train.groupby(\"stock_id\")[\"ask_size\"].std(),\n",
    "        \"ptp_size\": df_train.groupby(\"stock_id\")[\"bid_size\"].max()\n",
    "        - df_train.groupby(\"stock_id\")[\"bid_size\"].min(),\n",
    "        \"median_price\": df_train.groupby(\"stock_id\")[\"bid_price\"].median()\n",
    "        + df_train.groupby(\"stock_id\")[\"ask_price\"].median(),\n",
    "        \"std_price\": df_train.groupby(\"stock_id\")[\"bid_price\"].std()\n",
    "        + df_train.groupby(\"stock_id\")[\"ask_price\"].std(),\n",
    "        \"ptp_price\": df_train.groupby(\"stock_id\")[\"bid_price\"].max()\n",
    "        - df_train.groupby(\"stock_id\")[\"ask_price\"].min(),\n",
    "    }"
   ]
  },
  {
   "cell_type": "code",
   "execution_count": null,
   "id": "c419f8c6",
   "metadata": {
    "execution": {
     "iopub.execute_input": "2023-11-10T14:44:18.898884Z",
     "iopub.status.busy": "2023-11-10T14:44:18.898049Z",
     "iopub.status.idle": "2023-11-10T14:44:18.918250Z",
     "shell.execute_reply": "2023-11-10T14:44:18.916917Z"
    },
    "papermill": {
     "duration": 0.03958,
     "end_time": "2023-11-10T14:44:18.920902",
     "exception": false,
     "start_time": "2023-11-10T14:44:18.881322",
     "status": "completed"
    },
    "tags": []
   },
   "outputs": [],
   "source": []
  },
  {
   "cell_type": "code",
   "execution_count": null,
   "metadata": {},
   "outputs": [],
   "source": []
  },
  {
   "cell_type": "code",
   "execution_count": 8,
   "id": "463552cb",
   "metadata": {
    "execution": {
     "iopub.execute_input": "2023-11-10T14:44:18.955007Z",
     "iopub.status.busy": "2023-11-10T14:44:18.954506Z",
     "iopub.status.idle": "2023-11-10T14:44:19.095404Z",
     "shell.execute_reply": "2023-11-10T14:44:19.094121Z"
    },
    "papermill": {
     "duration": 0.162358,
     "end_time": "2023-11-10T14:44:19.098720",
     "exception": false,
     "start_time": "2023-11-10T14:44:18.936362",
     "status": "completed"
    },
    "tags": []
   },
   "outputs": [],
   "source": [
    "# generate imbalance features\n",
    "def imbalance_features(df):\n",
    "    prices = [\n",
    "        \"reference_price\",\n",
    "        \"far_price\",\n",
    "        \"near_price\",\n",
    "        \"ask_price\",\n",
    "        \"bid_price\",\n",
    "        \"wap\",\n",
    "    ]\n",
    "    sizes = [\"matched_size\", \"bid_size\", \"ask_size\", \"imbalance_size\"]\n",
    "\n",
    "    # V1\n",
    "    df[\"volume\"] = df.eval(\"ask_size + bid_size\")\n",
    "    df[\"mid_price\"] = df.eval(\"(ask_price + bid_price) / 2\")\n",
    "    df[\"liquidity_imbalance\"] = df.eval(\"(bid_size-ask_size)/(bid_size+ask_size)\")\n",
    "    df[\"matched_imbalance\"] = df.eval(\n",
    "        \"(imbalance_size-matched_size)/(matched_size+imbalance_size)\"\n",
    "    )\n",
    "    df[\"size_imbalance\"] = df.eval(\"bid_size / ask_size\")\n",
    "\n",
    "    for c in combinations(prices, 2):\n",
    "        df[f\"{c[0]}_{c[1]}_imb\"] = df.eval(f\"({c[0]} - {c[1]})/({c[0]} + {c[1]})\")\n",
    "\n",
    "    for c in [[\"ask_price\", \"bid_price\", \"wap\", \"reference_price\"], sizes]:\n",
    "        triplet_feature = calculate_triplet_imbalance_numba(c, df)\n",
    "        df[triplet_feature.columns] = triplet_feature.values\n",
    "\n",
    "    # V2\n",
    "    weights = convert_weights_to_dict()\n",
    "    df[\"stock_weights\"] = df[\"stock_id\"].map(weights)\n",
    "    df[\"weighted_wap\"] = df[\"stock_weights\"] * df[\"wap\"]\n",
    "    df[\"wap_momentum\"] = df.groupby(\"stock_id\")[\"weighted_wap\"].pct_change(periods=6)\n",
    "    df[\"imbalance_momentum\"] = (\n",
    "        df.groupby([\"stock_id\"])[\"imbalance_size\"].diff(periods=1) / df[\"matched_size\"]\n",
    "    )\n",
    "    df[\"price_spread\"] = df[\"ask_price\"] - df[\"bid_price\"]\n",
    "    df[\"spread_intensity\"] = df.groupby([\"stock_id\"])[\"price_spread\"].diff()\n",
    "    df[\"price_pressure\"] = df[\"imbalance_size\"] * (df[\"ask_price\"] - df[\"bid_price\"])\n",
    "    df[\"market_urgency\"] = df[\"price_spread\"] * df[\"liquidity_imbalance\"]\n",
    "    df[\"depth_pressure\"] = (df[\"ask_size\"] - df[\"bid_size\"]) * (\n",
    "        df[\"far_price\"] - df[\"near_price\"]\n",
    "    )\n",
    "    df[\"spread_depth_ratio\"] = (df[\"ask_price\"] - df[\"bid_price\"]) / (\n",
    "        df[\"bid_size\"] + df[\"ask_size\"]\n",
    "    )\n",
    "    df[\"mid_price_movement\"] = (\n",
    "        df[\"mid_price\"]\n",
    "        .diff(periods=5)\n",
    "        .apply(lambda x: 1 if x > 0 else (-1 if x < 0 else 0))\n",
    "    )\n",
    "    df[\"micro_price\"] = (\n",
    "        (df[\"bid_price\"] * df[\"ask_size\"]) + (df[\"ask_price\"] * df[\"bid_size\"])\n",
    "    ) / (df[\"bid_size\"] + df[\"ask_size\"])\n",
    "    df[\"relative_spread\"] = (df[\"ask_price\"] - df[\"bid_price\"]) / df[\"wap\"]\n",
    "\n",
    "    for func in [\"mean\", \"std\", \"skew\", \"kurt\"]:\n",
    "        df[f\"all_prices_{func}\"] = df[prices].agg(func, axis=1)\n",
    "        df[f\"all_sizes_{func}\"] = df[sizes].agg(func, axis=1)\n",
    "\n",
    "    # V3\n",
    "    for col in [\n",
    "        \"matched_size\",\n",
    "        \"imbalance_size\",\n",
    "        \"reference_price\",\n",
    "        \"imbalance_buy_sell_flag\",\n",
    "    ]:\n",
    "        for window in [1, 2, 3, 5, 10]:\n",
    "            df[f\"{col}_shift_{window}\"] = df.groupby([\"stock_id\"])[col].shift(window)\n",
    "            df[f\"{col}_ret_{window}\"] = df.groupby([\"stock_id\"])[col].pct_change(window)\n",
    "\n",
    "    for col in [\n",
    "        \"ask_price\",\n",
    "        \"bid_price\",\n",
    "        \"ask_size\",\n",
    "        \"bid_size\",\n",
    "        \"wap\",\n",
    "        \"near_price\",\n",
    "        \"far_price\",\n",
    "    ]:\n",
    "        for window in [1, 2, 3, 5, 10]:\n",
    "            df[f\"{col}_diff_{window}\"] = df.groupby([\"stock_id\"])[col].diff(window)\n",
    "\n",
    "    return df.replace([np.inf, -np.inf], 0)\n",
    "\n",
    "\n",
    "# generate time & stock features\n",
    "def other_features(df):\n",
    "    df[\"dow\"] = df[\"date_id\"] % 5\n",
    "    df[\"dom\"] = df[\"date_id\"] % 20\n",
    "    df[\"seconds\"] = df[\"seconds_in_bucket\"] % 60\n",
    "    df[\"minute\"] = df[\"seconds_in_bucket\"] // 60\n",
    "\n",
    "    for key, value in global_stock_id_feats.items():\n",
    "        df[f\"global_{key}\"] = df[\"stock_id\"].map(value.to_dict())\n",
    "\n",
    "    return df\n",
    "\n",
    "\n",
    "# generate all features\n",
    "def feat_engineering(df):\n",
    "    cols = [c for c in df.columns if c not in [\"row_id\"]]\n",
    "    df = df[cols]\n",
    "    df = imbalance_features(df)\n",
    "    df = other_features(df)\n",
    "    gc.collect()\n",
    "\n",
    "    list_cols = [i for i in df.columns if i not in [\"row_id\"]]\n",
    "\n",
    "    return df[list_cols]"
   ]
  },
  {
   "cell_type": "code",
   "execution_count": 9,
   "id": "46c37142",
   "metadata": {
    "execution": {
     "iopub.execute_input": "2023-11-10T14:44:19.181810Z",
     "iopub.status.busy": "2023-11-10T14:44:19.181265Z",
     "iopub.status.idle": "2023-11-10T14:44:19.193322Z",
     "shell.execute_reply": "2023-11-10T14:44:19.192419Z"
    },
    "papermill": {
     "duration": 0.031835,
     "end_time": "2023-11-10T14:44:19.195928",
     "exception": false,
     "start_time": "2023-11-10T14:44:19.164093",
     "status": "completed"
    },
    "tags": []
   },
   "outputs": [
    {
     "name": "stdout",
     "output_type": "stream",
     "text": [
      "Build Online Train Feats Finished.\n"
     ]
    }
   ],
   "source": [
    "if TRAIN:\n",
    "    df_train_feats = feat_engineering(df_train)\n",
    "    print(\"Build Online Train Feats Finished.\")\n",
    "\n",
    "    df_train_feats = reduce_mem_usage(df_train_feats)\n",
    "\n",
    "    df_train = df_train_feats.copy()\n",
    "\n",
    "    del df_train_feats"
   ]
  },
  {
   "cell_type": "code",
   "execution_count": 11,
   "id": "0e7433b3",
   "metadata": {
    "execution": {
     "iopub.execute_input": "2023-11-10T14:44:19.289418Z",
     "iopub.status.busy": "2023-11-10T14:44:19.289015Z",
     "iopub.status.idle": "2023-11-10T14:44:19.301128Z",
     "shell.execute_reply": "2023-11-10T14:44:19.299905Z"
    },
    "papermill": {
     "duration": 0.031577,
     "end_time": "2023-11-10T14:44:19.304003",
     "exception": false,
     "start_time": "2023-11-10T14:44:19.272426",
     "status": "completed"
    },
    "tags": []
   },
   "outputs": [],
   "source": [
    "def time_series_split(X, n_splits, n_test_splits, embargo_td=2):\n",
    "    factorized_indices = np.unique(X[\"factorized\"])\n",
    "\n",
    "    # Compute the fold boundaries\n",
    "    fold_bounds = [\n",
    "        (fold[0], fold[-1] + 1) for fold in np.array_split(factorized_indices, n_splits)\n",
    "    ]\n",
    "\n",
    "    # Create the list of all tests test_fold_bounds that will become the test sets\n",
    "    selected_fold_bounds = list(itt.combinations(fold_bounds, n_test_splits))\n",
    "\n",
    "    # Reverse to start the testing from the most recent part of the dataset\n",
    "    selected_fold_bounds.reverse()\n",
    "\n",
    "    for fold_bound_list in selected_fold_bounds:\n",
    "        test_factorized_indices = np.empty(0)\n",
    "        test_fold_bounds = []\n",
    "\n",
    "        for fold_start, fold_end in fold_bound_list:\n",
    "            # Records the boundaries of the current test split\n",
    "            if not test_fold_bounds or fold_start != test_fold_bounds[-1][-1]:\n",
    "                test_fold_bounds.append((fold_start, fold_end))\n",
    "            elif fold_start == test_fold_bounds[-1][-1]:\n",
    "                test_fold_bounds[-1] = (test_fold_bounds[-1][0], fold_end)\n",
    "\n",
    "            test_factorized_indices = np.union1d(\n",
    "                test_factorized_indices, factorized_indices[fold_start:fold_end]\n",
    "            ).astype(int)\n",
    "\n",
    "        # Compute the train set indices\n",
    "        train_indices = np.setdiff1d(factorized_indices, test_factorized_indices)\n",
    "\n",
    "        # Purge and embargo can be added here if needed\n",
    "        # ...\n",
    "\n",
    "        yield train_indices, test_factorized_indices"
   ]
  },
  {
   "cell_type": "code",
   "execution_count": 12,
   "id": "01294da2",
   "metadata": {
    "execution": {
     "iopub.execute_input": "2023-11-10T14:44:19.336730Z",
     "iopub.status.busy": "2023-11-10T14:44:19.336167Z",
     "iopub.status.idle": "2023-11-10T14:44:19.343874Z",
     "shell.execute_reply": "2023-11-10T14:44:19.342532Z"
    },
    "papermill": {
     "duration": 0.026978,
     "end_time": "2023-11-10T14:44:19.346471",
     "exception": false,
     "start_time": "2023-11-10T14:44:19.319493",
     "status": "completed"
    },
    "tags": []
   },
   "outputs": [],
   "source": [
    "if TRAIN:\n",
    "    col_split = \"date_id\"\n",
    "    df_train.sort_values([col_split], inplace=True)\n",
    "    df_train.reset_index(drop=True, inplace=True)\n",
    "    df_train[\"factorized\"] = pd.factorize(df_train[col_split])[0]\n",
    "\n",
    "    list_cols_drop = [\"date_id\", \"time_id\"]\n",
    "    df_train.drop(list_cols_drop, axis=1, inplace=True)"
   ]
  },
  {
   "cell_type": "code",
   "execution_count": null,
   "id": "2d79fcec",
   "metadata": {
    "papermill": {
     "duration": 0.017992,
     "end_time": "2023-11-10T14:44:19.447847",
     "exception": false,
     "start_time": "2023-11-10T14:44:19.429855",
     "status": "completed"
    },
    "tags": []
   },
   "outputs": [],
   "source": []
  },
  {
   "cell_type": "code",
   "execution_count": 13,
   "id": "66307742",
   "metadata": {
    "execution": {
     "iopub.execute_input": "2023-11-10T14:44:19.482932Z",
     "iopub.status.busy": "2023-11-10T14:44:19.482262Z",
     "iopub.status.idle": "2023-11-10T14:44:19.488902Z",
     "shell.execute_reply": "2023-11-10T14:44:19.487503Z"
    },
    "papermill": {
     "duration": 0.028073,
     "end_time": "2023-11-10T14:44:19.491497",
     "exception": false,
     "start_time": "2023-11-10T14:44:19.463424",
     "status": "completed"
    },
    "tags": []
   },
   "outputs": [],
   "source": [
    "if DEBUG:\n",
    "    n_estimators_min = n_estimators_max = 50\n",
    "else:\n",
    "    n_estimators_min = 100\n",
    "    n_estimators_max = 100"
   ]
  },
  {
   "cell_type": "code",
   "execution_count": null,
   "id": "0e242d28",
   "metadata": {
    "papermill": {
     "duration": 0.015225,
     "end_time": "2023-11-10T14:44:19.523011",
     "exception": false,
     "start_time": "2023-11-10T14:44:19.507786",
     "status": "completed"
    },
    "tags": []
   },
   "outputs": [],
   "source": []
  },
  {
   "cell_type": "code",
   "execution_count": 14,
   "id": "e11182a7",
   "metadata": {
    "execution": {
     "iopub.execute_input": "2023-11-10T14:44:19.556582Z",
     "iopub.status.busy": "2023-11-10T14:44:19.556151Z",
     "iopub.status.idle": "2023-11-10T14:44:19.571395Z",
     "shell.execute_reply": "2023-11-10T14:44:19.570074Z"
    },
    "papermill": {
     "duration": 0.03573,
     "end_time": "2023-11-10T14:44:19.574211",
     "exception": false,
     "start_time": "2023-11-10T14:44:19.538481",
     "status": "completed"
    },
    "tags": []
   },
   "outputs": [],
   "source": [
    "gpu_switch = \"OFF\"\n",
    "n_splits = 6\n",
    "n_test_split = 1\n",
    "embargo_td = 100\n",
    "\n",
    "n_repeats = 1\n",
    "nbrnd_erly_stp = 130\n",
    "\n",
    "cv_mthd = \"KF\"\n",
    "\n",
    "# Cross-Validation Setup\n",
    "if TRAIN:\n",
    "    # Initialize MLflow callback\n",
    "    mlflow_callback = MLflowCallback(\n",
    "        tracking_uri=mlflow.get_tracking_uri(), metric_name=\"mae\"\n",
    "    )\n",
    "\n",
    "    all_cv = {\"KF\": KFold(n_splits=n_splits, shuffle=True, random_state=STATE)}\n",
    "    cv = all_cv[cv_mthd]\n",
    "\n",
    "    model_params_dict = {\n",
    "        \"LGBMR\": {\n",
    "            \"static_params\": {\n",
    "                \"device\": \"gpu\" if gpu_switch == \"ON\" else \"cpu\",\n",
    "                \"objective\": \"mae\",\n",
    "                \"boosting_type\": \"gbdt\",\n",
    "                \"random_state\": STATE,\n",
    "                \"n_jobs\": 4,\n",
    "                \"verbose\": -1,\n",
    "                \"importance_type\": \"gain\",\n",
    "            },\n",
    "            \"dynamic_params\": {\n",
    "                \"n_estimators\": {\n",
    "                    \"type\": \"int\",\n",
    "                    \"low\": n_estimators_min,\n",
    "                    \"high\": n_estimators_max,\n",
    "                },\n",
    "                \"learning_rate\": {\n",
    "                    \"type\": \"float\",\n",
    "                    \"low\": 0.005,\n",
    "                    \"high\": 0.06,\n",
    "                },\n",
    "                \"max_depth\": {\"type\": \"int\", \"low\": 10, \"high\": 90},\n",
    "                \"num_leaves\": {\n",
    "                    \"type\": \"int\",\n",
    "                    \"low\": 20,\n",
    "                    \"high\": 90,\n",
    "                },\n",
    "                \"min_child_samples\": {\n",
    "                    \"type\": \"int\",\n",
    "                    \"low\": 10,\n",
    "                    \"high\": 70,\n",
    "                },\n",
    "                \"subsample\": {\n",
    "                    \"type\": \"float\",\n",
    "                    \"low\": 0.7,\n",
    "                    \"high\": 1,\n",
    "                },\n",
    "                \"colsample_bytree\": {\n",
    "                    \"type\": \"float\",\n",
    "                    \"low\": 1,\n",
    "                    \"high\": 1,\n",
    "                },\n",
    "                \"min_split_gain\": {\n",
    "                    \"type\": \"float\",\n",
    "                    \"low\": 0,\n",
    "                    \"high\": 2,\n",
    "                },\n",
    "                \"reg_alpha\": {\n",
    "                    \"type\": \"float\",\n",
    "                    \"low\": 0,\n",
    "                    \"high\": 3,\n",
    "                },\n",
    "                \"reg_lambda\": {\n",
    "                    \"type\": \"float\",\n",
    "                    \"low\": 0,\n",
    "                    \"high\": 3,\n",
    "                },\n",
    "            },\n",
    "        },\n",
    "    }\n",
    "\n",
    "    dict_models = {\"LGBMR\": LGBMR}\n",
    "\n",
    "    log_model = True\n",
    "\n",
    "    experiment_date_str = datetime.now().strftime(\"%Y%m%d_%H_%M_%S\")\n",
    "    experiment_purpose = \"optiver_trading_at_the_close\"\n",
    "    experiment_name = f\"{experiment_purpose}_{experiment_date_str}\"\n",
    "\n",
    "    mlflow.set_experiment(experiment_name, artifact_location=pm.path_artifact_location)"
   ]
  },
  {
   "cell_type": "code",
   "execution_count": 15,
   "id": "a551771c",
   "metadata": {
    "execution": {
     "iopub.execute_input": "2023-11-10T14:44:19.609294Z",
     "iopub.status.busy": "2023-11-10T14:44:19.608860Z",
     "iopub.status.idle": "2023-11-10T14:44:19.614956Z",
     "shell.execute_reply": "2023-11-10T14:44:19.613499Z"
    },
    "papermill": {
     "duration": 0.027049,
     "end_time": "2023-11-10T14:44:19.617639",
     "exception": false,
     "start_time": "2023-11-10T14:44:19.590590",
     "status": "completed"
    },
    "tags": []
   },
   "outputs": [],
   "source": [
    "def get_params_trained_models(model_path):\n",
    "    model = joblib.load(model_path)\n",
    "    return model.get_params()\n",
    "\n",
    "\n",
    "if TRAIN:\n",
    "    dict_fixed_model_params = get_params_trained_models(\n",
    "        \"/kaggle/input/models-6/LGBMR_0_20231108_235435.pkl\"\n",
    "    )"
   ]
  },
  {
   "cell_type": "code",
   "execution_count": null,
   "id": "9172e769",
   "metadata": {
    "papermill": {
     "duration": 0.015654,
     "end_time": "2023-11-10T14:44:19.648863",
     "exception": false,
     "start_time": "2023-11-10T14:44:19.633209",
     "status": "completed"
    },
    "tags": []
   },
   "outputs": [],
   "source": []
  },
  {
   "cell_type": "code",
   "execution_count": null,
   "id": "3b2e89ba",
   "metadata": {
    "papermill": {
     "duration": 0.015429,
     "end_time": "2023-11-10T14:44:19.679855",
     "exception": false,
     "start_time": "2023-11-10T14:44:19.664426",
     "status": "completed"
    },
    "tags": []
   },
   "outputs": [],
   "source": []
  },
  {
   "cell_type": "code",
   "execution_count": 16,
   "id": "7c524659",
   "metadata": {
    "execution": {
     "iopub.execute_input": "2023-11-10T14:44:19.715130Z",
     "iopub.status.busy": "2023-11-10T14:44:19.714726Z",
     "iopub.status.idle": "2023-11-10T14:44:19.721837Z",
     "shell.execute_reply": "2023-11-10T14:44:19.720542Z"
    },
    "papermill": {
     "duration": 0.028382,
     "end_time": "2023-11-10T14:44:19.724537",
     "exception": false,
     "start_time": "2023-11-10T14:44:19.696155",
     "status": "completed"
    },
    "tags": []
   },
   "outputs": [],
   "source": [
    "if TRAIN:\n",
    "    args = {\n",
    "        \"cv_mthd\": cv_mthd,\n",
    "        \"experiment_purpose\": experiment_purpose,\n",
    "        \"experiment_name\": experiment_name,\n",
    "        \"dict_models\": dict_models,\n",
    "        \"model_params_dict\": model_params_dict,\n",
    "        \"n_splits\": n_splits,\n",
    "        \"n_test_split\": n_test_split,\n",
    "        \"experiment_date_str\": experiment_date_str,\n",
    "        \"path_experiments_storage\": pm.path_experiments_dir,\n",
    "        \"target_col\": \"target\",\n",
    "    }"
   ]
  },
  {
   "cell_type": "code",
   "execution_count": 17,
   "id": "95e88d80",
   "metadata": {
    "execution": {
     "iopub.execute_input": "2023-11-10T14:44:19.760364Z",
     "iopub.status.busy": "2023-11-10T14:44:19.759929Z",
     "iopub.status.idle": "2023-11-10T14:44:19.787309Z",
     "shell.execute_reply": "2023-11-10T14:44:19.785845Z"
    },
    "papermill": {
     "duration": 0.048842,
     "end_time": "2023-11-10T14:44:19.790253",
     "exception": false,
     "start_time": "2023-11-10T14:44:19.741411",
     "status": "completed"
    },
    "tags": []
   },
   "outputs": [],
   "source": [
    "def run_mlflow_experiment(df_train, args, trial=None):\n",
    "    cv_mthd = args[\"cv_mthd\"]\n",
    "    experiment_purpose = args[\"experiment_purpose\"]\n",
    "    experiment_name = args[\"experiment_name\"]\n",
    "    dict_models = args[\"dict_models\"]\n",
    "    model_params_dict = args[\"model_params_dict\"]\n",
    "    logger = args[\"logger\"]\n",
    "    n_splits = args[\"n_splits\"]\n",
    "    n_test_split = args[\"n_test_split\"]\n",
    "    experiment_date_str = args[\"experiment_date_str\"]\n",
    "    path_experiments_storage = args[\"path_experiments_storage\"]\n",
    "    target_col = args[\"target_col\"]\n",
    "\n",
    "    if trial == None:\n",
    "        trial = optuna.trial.FixedTrial(\n",
    "            {\n",
    "                \"n_estimators\": 500,\n",
    "                \"learning_rate\": 0.005,\n",
    "                \"max_depth\": 10,\n",
    "                \"num_leaves\": 20,\n",
    "                \"min_child_samples\": 10,\n",
    "                \"subsample\": 0.7,\n",
    "                \"colsample_bytree\": 1.0,\n",
    "                \"min_split_gain\": 0.0,\n",
    "                \"reg_alpha\": 0.0,\n",
    "                \"reg_lambda\": 0.0,\n",
    "                \"device\": \"gpu\" if gpu_switch == \"ON\" else \"cpu\",\n",
    "            }\n",
    "        )\n",
    "\n",
    "    with mlflow.start_run() as run:\n",
    "        score_list = []\n",
    "\n",
    "        run_time_start_trial = datetime.now().strftime(\"%Y%m%d_%H%M%S\")\n",
    "\n",
    "        for model_name, model_class in dict_models.items():\n",
    "            if TUNING:\n",
    "                model = create_model(\n",
    "                    trial,\n",
    "                    model_class,\n",
    "                    model_params_dict[model_name][\"static_params\"],\n",
    "                    model_params_dict[model_name][\"dynamic_params\"],\n",
    "                )\n",
    "            else:\n",
    "                print(dict_fixed_model_params)\n",
    "                model = model_class(**dict_fixed_model_params)\n",
    "\n",
    "            log_training_details(logger, model, trial, model_name)\n",
    "\n",
    "            for fold_n, (train_indices, test_indices) in enumerate(\n",
    "                time_series_split(\n",
    "                    df_train, n_splits=n_splits, n_test_splits=n_test_split\n",
    "                )\n",
    "            ):\n",
    "                with mlflow.start_run(\n",
    "                    run_name=f\"fold_{fold_n+1}\", nested=True\n",
    "                ) as nested_run:\n",
    "                    mlflow.log_param(\"cv_mthd\", cv_mthd)\n",
    "                    mlflow.set_tag(\"experiment_purpose\", experiment_purpose)\n",
    "                    mlflow.set_tag(\"experiment_name\", experiment_name)\n",
    "\n",
    "                    mlflow.set_tag(\"n_trial\", str(trial.number))\n",
    "                    mlflow.set_tag(\"run_time_start_trial\", run_time_start_trial)\n",
    "\n",
    "                    mask_train = df_train[\"factorized\"].isin(train_indices)\n",
    "                    mask_test = df_train[\"factorized\"].isin(test_indices)\n",
    "\n",
    "                    y_train = df_train.loc[mask_train, target_col]\n",
    "                    y_val = df_train.loc[mask_test, target_col]\n",
    "                    X_train = df_train.loc[mask_train].drop(\n",
    "                        [target_col, \"factorized\"], axis=1\n",
    "                    )\n",
    "                    X_val = df_train.loc[mask_test].drop(\n",
    "                        [target_col, \"factorized\"], axis=1\n",
    "                    )\n",
    "\n",
    "                    mlflow.log_param(\"train_rows\", X_train.shape[0])\n",
    "                    mlflow.log_param(\"train_cols\", X_train.shape[1])\n",
    "\n",
    "                    model.fit(\n",
    "                        X_train,\n",
    "                        y_train,\n",
    "                        eval_set=[(X_val, y_val)],\n",
    "                        eval_metric=\"mae\",\n",
    "                        callbacks=[\n",
    "                            lgbm.callback.early_stopping(stopping_rounds=100),\n",
    "                            lgbm.callback.log_evaluation(period=100000),\n",
    "                        ],\n",
    "                    )\n",
    "\n",
    "                    log_feature_importance(\n",
    "                        trial.number,\n",
    "                        model,\n",
    "                        X_train,\n",
    "                        fold_n,\n",
    "                        experiment_purpose,\n",
    "                        experiment_date_str,\n",
    "                    )\n",
    "\n",
    "                    fold_score = model.best_score_[\"valid_0\"][\"l1\"]\n",
    "\n",
    "                    score_list.append(fold_score)\n",
    "\n",
    "                    mlflow.log_param(\"fold_score\", fold_score)\n",
    "                    mlflow.log_param(\"fold_number\", fold_n + 1)\n",
    "                    mlflow.log_param(\"model_name\", model_name)\n",
    "\n",
    "                    params_to_log = model.get_params()\n",
    "                    mlflow.log_params(params_to_log)\n",
    "\n",
    "                    current_time_str = datetime.now().strftime(\"%Y%m%d_%H%M%S\")\n",
    "                    model_log_name = f\"{model_name}_{trial.number}_{current_time_str}\"\n",
    "\n",
    "                    mlflow.log_param(\"model_log_name\", model_log_name)\n",
    "                    mlflow.sklearn.log_model(model, model_log_name)\n",
    "\n",
    "                    mlflow.log_param(\"run_time\", current_time_str)\n",
    "\n",
    "                    nested_run_id = nested_run.info.run_id\n",
    "                    model_path = f\"{path_experiments_storage}/{run.info.experiment_id}/{nested_run_id}/artifacts/{model_log_name}/model.pkl\"\n",
    "                    mlflow.log_param(\"model_path\", model_path)\n",
    "\n",
    "        avg_score = sum(score_list) / len(score_list)\n",
    "\n",
    "        return avg_score"
   ]
  },
  {
   "cell_type": "code",
   "execution_count": null,
   "id": "a8767c71",
   "metadata": {
    "papermill": {
     "duration": 0.015746,
     "end_time": "2023-11-10T14:44:19.821864",
     "exception": false,
     "start_time": "2023-11-10T14:44:19.806118",
     "status": "completed"
    },
    "tags": []
   },
   "outputs": [],
   "source": []
  },
  {
   "cell_type": "code",
   "execution_count": 18,
   "id": "79112905",
   "metadata": {
    "_cell_guid": "334e81a6-b09b-4a3d-96a1-fe0278deff13",
    "_uuid": "4288a49c-b472-4af2-b2bb-95cf0cd2bd6d",
    "collapsed": false,
    "execution": {
     "iopub.execute_input": "2023-11-10T14:44:19.857679Z",
     "iopub.status.busy": "2023-11-10T14:44:19.857191Z",
     "iopub.status.idle": "2023-11-10T14:44:19.864955Z",
     "shell.execute_reply": "2023-11-10T14:44:19.863528Z"
    },
    "jupyter": {
     "outputs_hidden": false
    },
    "papermill": {
     "duration": 0.029764,
     "end_time": "2023-11-10T14:44:19.867468",
     "exception": false,
     "start_time": "2023-11-10T14:44:19.837704",
     "status": "completed"
    },
    "tags": []
   },
   "outputs": [],
   "source": [
    "def objective(trial, df_train):\n",
    "    avg_score = run_mlflow_experiment(df_train, args, trial)\n",
    "    return avg_score\n",
    "\n",
    "\n",
    "# Run the Optuna study\n",
    "if TRAIN:\n",
    "    study = optuna.create_study(\n",
    "        direction=\"minimize\",\n",
    "        study_name=\"Your Study Name\",\n",
    "        load_if_exists=True,\n",
    "    )\n",
    "    study.optimize(lambda trial: objective(trial, df_train), n_trials=N_TRIALS)"
   ]
  },
  {
   "cell_type": "code",
   "execution_count": null,
   "id": "c0423486",
   "metadata": {
    "papermill": {
     "duration": 0.016242,
     "end_time": "2023-11-10T14:44:19.900436",
     "exception": false,
     "start_time": "2023-11-10T14:44:19.884194",
     "status": "completed"
    },
    "tags": []
   },
   "outputs": [],
   "source": []
  },
  {
   "cell_type": "code",
   "execution_count": 19,
   "id": "15eba728",
   "metadata": {
    "_cell_guid": "51030a77-aba3-469f-9c08-7963bc8a09d2",
    "_uuid": "6ff7d358-62f0-4ac9-b028-d1c920bb4eaf",
    "collapsed": false,
    "execution": {
     "iopub.execute_input": "2023-11-10T14:44:19.935073Z",
     "iopub.status.busy": "2023-11-10T14:44:19.934104Z",
     "iopub.status.idle": "2023-11-10T14:44:19.946728Z",
     "shell.execute_reply": "2023-11-10T14:44:19.945715Z"
    },
    "jupyter": {
     "outputs_hidden": false
    },
    "papermill": {
     "duration": 0.032999,
     "end_time": "2023-11-10T14:44:19.949435",
     "exception": false,
     "start_time": "2023-11-10T14:44:19.916436",
     "status": "completed"
    },
    "tags": []
   },
   "outputs": [],
   "source": []
  },
  {
   "cell_type": "code",
   "execution_count": 10,
   "id": "8055eabb",
   "metadata": {
    "execution": {
     "iopub.execute_input": "2023-11-10T14:44:19.984722Z",
     "iopub.status.busy": "2023-11-10T14:44:19.983953Z",
     "iopub.status.idle": "2023-11-10T14:44:19.992728Z",
     "shell.execute_reply": "2023-11-10T14:44:19.991691Z"
    },
    "papermill": {
     "duration": 0.029628,
     "end_time": "2023-11-10T14:44:19.995532",
     "exception": false,
     "start_time": "2023-11-10T14:44:19.965904",
     "status": "completed"
    },
    "tags": []
   },
   "outputs": [
    {
     "ename": "NameError",
     "evalue": "name 'model_params_dict' is not defined",
     "output_type": "error",
     "traceback": [
      "\u001b[0;31m---------------------------------------------------------------------------\u001b[0m",
      "\u001b[0;31mNameError\u001b[0m                                 Traceback (most recent call last)",
      "\u001b[1;32m/home/sam/github/mlops-hub/training-optiver-trading-at-the-close-v5.ipynb Cell 26\u001b[0m line \u001b[0;36m1\n\u001b[1;32m      <a href='vscode-notebook-cell:/home/sam/github/mlops-hub/training-optiver-trading-at-the-close-v5.ipynb#X36sZmlsZQ%3D%3D?line=1'>2</a>\u001b[0m df_exp \u001b[39m=\u001b[39m experiments_data(\n\u001b[1;32m      <a href='vscode-notebook-cell:/home/sam/github/mlops-hub/training-optiver-trading-at-the-close-v5.ipynb#X36sZmlsZQ%3D%3D?line=2'>3</a>\u001b[0m     client, list_experiment_id\u001b[39m=\u001b[39m\u001b[39mNone\u001b[39;00m, save_df\u001b[39m=\u001b[39m\u001b[39mNone\u001b[39;00m, list_columns\u001b[39m=\u001b[39m\u001b[39mNone\u001b[39;00m\n\u001b[1;32m      <a href='vscode-notebook-cell:/home/sam/github/mlops-hub/training-optiver-trading-at-the-close-v5.ipynb#X36sZmlsZQ%3D%3D?line=3'>4</a>\u001b[0m )\n\u001b[1;32m      <a href='vscode-notebook-cell:/home/sam/github/mlops-hub/training-optiver-trading-at-the-close-v5.ipynb#X36sZmlsZQ%3D%3D?line=4'>5</a>\u001b[0m list_base_cols \u001b[39m=\u001b[39m [\n\u001b[1;32m      <a href='vscode-notebook-cell:/home/sam/github/mlops-hub/training-optiver-trading-at-the-close-v5.ipynb#X36sZmlsZQ%3D%3D?line=5'>6</a>\u001b[0m     \u001b[39m\"\u001b[39m\u001b[39mrun_time\u001b[39m\u001b[39m\"\u001b[39m,\n\u001b[1;32m      <a href='vscode-notebook-cell:/home/sam/github/mlops-hub/training-optiver-trading-at-the-close-v5.ipynb#X36sZmlsZQ%3D%3D?line=6'>7</a>\u001b[0m     \u001b[39m\"\u001b[39m\u001b[39mexperiment_id\u001b[39m\u001b[39m\"\u001b[39m,\n\u001b[0;32m   (...)\u001b[0m\n\u001b[1;32m     <a href='vscode-notebook-cell:/home/sam/github/mlops-hub/training-optiver-trading-at-the-close-v5.ipynb#X36sZmlsZQ%3D%3D?line=11'>12</a>\u001b[0m     \u001b[39m\"\u001b[39m\u001b[39mfold_score\u001b[39m\u001b[39m\"\u001b[39m,\n\u001b[1;32m     <a href='vscode-notebook-cell:/home/sam/github/mlops-hub/training-optiver-trading-at-the-close-v5.ipynb#X36sZmlsZQ%3D%3D?line=12'>13</a>\u001b[0m ]\n\u001b[0;32m---> <a href='vscode-notebook-cell:/home/sam/github/mlops-hub/training-optiver-trading-at-the-close-v5.ipynb#X36sZmlsZQ%3D%3D?line=13'>14</a>\u001b[0m list_dynamic_params \u001b[39m=\u001b[39m \u001b[39mlist\u001b[39m(model_params_dict[\u001b[39m\"\u001b[39m\u001b[39mLGBMR\u001b[39m\u001b[39m\"\u001b[39m][\u001b[39m\"\u001b[39m\u001b[39mdynamic_params\u001b[39m\u001b[39m\"\u001b[39m]\u001b[39m.\u001b[39mkeys())\n\u001b[1;32m     <a href='vscode-notebook-cell:/home/sam/github/mlops-hub/training-optiver-trading-at-the-close-v5.ipynb#X36sZmlsZQ%3D%3D?line=15'>16</a>\u001b[0m df_exp[\u001b[39m\"\u001b[39m\u001b[39mrun_time\u001b[39m\u001b[39m\"\u001b[39m] \u001b[39m=\u001b[39m pd\u001b[39m.\u001b[39mto_datetime(\n\u001b[1;32m     <a href='vscode-notebook-cell:/home/sam/github/mlops-hub/training-optiver-trading-at-the-close-v5.ipynb#X36sZmlsZQ%3D%3D?line=16'>17</a>\u001b[0m     df_exp[\u001b[39m\"\u001b[39m\u001b[39mrun_time\u001b[39m\u001b[39m\"\u001b[39m], \u001b[39mformat\u001b[39m\u001b[39m=\u001b[39m\u001b[39m\"\u001b[39m\u001b[39m%\u001b[39m\u001b[39mY\u001b[39m\u001b[39m%\u001b[39m\u001b[39mm\u001b[39m\u001b[39m%d\u001b[39;00m\u001b[39m_\u001b[39m\u001b[39m%\u001b[39m\u001b[39mH\u001b[39m\u001b[39m%\u001b[39m\u001b[39mM\u001b[39m\u001b[39m%\u001b[39m\u001b[39mS\u001b[39m\u001b[39m\"\u001b[39m, errors\u001b[39m=\u001b[39m\u001b[39m\"\u001b[39m\u001b[39mcoerce\u001b[39m\u001b[39m\"\u001b[39m\n\u001b[1;32m     <a href='vscode-notebook-cell:/home/sam/github/mlops-hub/training-optiver-trading-at-the-close-v5.ipynb#X36sZmlsZQ%3D%3D?line=17'>18</a>\u001b[0m )\n\u001b[1;32m     <a href='vscode-notebook-cell:/home/sam/github/mlops-hub/training-optiver-trading-at-the-close-v5.ipynb#X36sZmlsZQ%3D%3D?line=19'>20</a>\u001b[0m \u001b[39mfor\u001b[39;00m col \u001b[39min\u001b[39;00m df_exp\u001b[39m.\u001b[39mcolumns:\n",
      "\u001b[0;31mNameError\u001b[0m: name 'model_params_dict' is not defined"
     ]
    }
   ],
   "source": [
    "if TRAIN:\n",
    "    df_exp = experiments_data(\n",
    "        client, list_experiment_id=None, save_df=None, list_columns=None\n",
    "    )\n",
    "    list_base_cols = [\n",
    "        \"run_time\",\n",
    "        \"experiment_id\",\n",
    "        \"n_trial\",\n",
    "        \"run_id\",\n",
    "        \"model_name\",\n",
    "        \"fold_number\",\n",
    "        \"fold_score\",\n",
    "    ]\n",
    "    list_dynamic_params = list(model_params_dict[\"LGBMR\"][\"dynamic_params\"].keys())\n",
    "\n",
    "    df_exp[\"run_time\"] = pd.to_datetime(\n",
    "        df_exp[\"run_time\"], format=\"%Y%m%d_%H%M%S\", errors=\"coerce\"\n",
    "    )\n",
    "\n",
    "    for col in df_exp.columns:\n",
    "        df_exp[col] = pd.to_numeric(df_exp[col], errors=\"ignore\")\n",
    "\n",
    "    for col in df_exp.select_dtypes(include=[\"float\", \"int\"]):\n",
    "        df_exp[col] = df_exp[col].round(5)\n",
    "\n",
    "    list_cols_exp = [\"run_time\"] + list_base_cols + list_dynamic_params + [\"model_path\"]\n",
    "\n",
    "    df_exp = df_exp[list_cols_exp]"
   ]
  },
  {
   "cell_type": "code",
   "execution_count": null,
   "id": "f1ae9859",
   "metadata": {
    "papermill": {
     "duration": 0.015652,
     "end_time": "2023-11-10T14:44:20.027579",
     "exception": false,
     "start_time": "2023-11-10T14:44:20.011927",
     "status": "completed"
    },
    "tags": []
   },
   "outputs": [],
   "source": []
  },
  {
   "cell_type": "code",
   "execution_count": 21,
   "id": "d1c01c73",
   "metadata": {
    "_cell_guid": "95e6c8a8-62ed-4412-944a-5b08508702fc",
    "_uuid": "60c6783c-1e42-43ca-ba32-bda313deb585",
    "collapsed": false,
    "execution": {
     "iopub.execute_input": "2023-11-10T14:44:20.063102Z",
     "iopub.status.busy": "2023-11-10T14:44:20.062050Z",
     "iopub.status.idle": "2023-11-10T14:44:20.071710Z",
     "shell.execute_reply": "2023-11-10T14:44:20.070724Z"
    },
    "jupyter": {
     "outputs_hidden": false
    },
    "papermill": {
     "duration": 0.030622,
     "end_time": "2023-11-10T14:44:20.074568",
     "exception": false,
     "start_time": "2023-11-10T14:44:20.043946",
     "status": "completed"
    },
    "tags": []
   },
   "outputs": [],
   "source": [
    "def ensemble_predict(model_paths, X_test):\n",
    "    models = []\n",
    "    predictions = []\n",
    "\n",
    "    # Load models based on full artifact paths\n",
    "    for model_path in model_paths:\n",
    "        try:\n",
    "            # If using direct path to pkl\n",
    "            if model_path.endswith(\".pkl\"):\n",
    "                model = joblib.load(model_path)\n",
    "            else:\n",
    "                print(f\"Unsupported model format for {model_path}. Skipping.\")\n",
    "                continue  # Skip this iteration\n",
    "\n",
    "            models.append(model)\n",
    "        except Exception as e:\n",
    "            print(f\"Failed to load model at {model_path}. Error: {e}\")\n",
    "\n",
    "    # Make predictions\n",
    "    for model in models:\n",
    "        try:\n",
    "            pred = model.predict(X_test)\n",
    "            predictions.append(pred)\n",
    "        except Exception as e:\n",
    "            print(f\"Failed to make prediction with model. Error: {e}\")\n",
    "\n",
    "    # Average predictions\n",
    "    if len(predictions) > 0:\n",
    "        ensemble_pred = np.mean(predictions, axis=0)\n",
    "    else:\n",
    "        print(\"No valid models loaded. Cannot make ensemble predictions.\")\n",
    "        ensemble_pred = None\n",
    "\n",
    "    return ensemble_pred"
   ]
  },
  {
   "cell_type": "code",
   "execution_count": null,
   "id": "9095fb0c",
   "metadata": {
    "papermill": {
     "duration": 0.01664,
     "end_time": "2023-11-10T14:44:20.108743",
     "exception": false,
     "start_time": "2023-11-10T14:44:20.092103",
     "status": "completed"
    },
    "tags": []
   },
   "outputs": [],
   "source": []
  },
  {
   "cell_type": "code",
   "execution_count": null,
   "id": "7045029d",
   "metadata": {
    "papermill": {
     "duration": 0.017846,
     "end_time": "2023-11-10T14:44:20.142834",
     "exception": false,
     "start_time": "2023-11-10T14:44:20.124988",
     "status": "completed"
    },
    "tags": []
   },
   "outputs": [],
   "source": []
  },
  {
   "cell_type": "code",
   "execution_count": 22,
   "id": "80b304ef",
   "metadata": {
    "execution": {
     "iopub.execute_input": "2023-11-10T14:44:20.177336Z",
     "iopub.status.busy": "2023-11-10T14:44:20.176602Z",
     "iopub.status.idle": "2023-11-10T14:44:20.187481Z",
     "shell.execute_reply": "2023-11-10T14:44:20.185966Z"
    },
    "papermill": {
     "duration": 0.032021,
     "end_time": "2023-11-10T14:44:20.190910",
     "exception": false,
     "start_time": "2023-11-10T14:44:20.158889",
     "status": "completed"
    },
    "tags": []
   },
   "outputs": [],
   "source": [
    "if TRAIN:\n",
    "    model_paths = [\n",
    "        path\n",
    "        for path in list(\n",
    "            df_exp[df_exp[\"experiment_id\"] == 223740748204133848][\"model_path\"]\n",
    "        )\n",
    "        if path is not np.nan\n",
    "    ]\n",
    "\n",
    "    if not os.path.exists(models_dir):\n",
    "        os.makedirs(models_dir)\n",
    "\n",
    "    for model_path in model_paths:\n",
    "        if not os.path.exists(model_path):\n",
    "            print(f\"File does not exist: {model_path}\")\n",
    "            continue  # Skip to the next iteration\n",
    "\n",
    "        specific_part = model_path.split(\"/\")[-2]\n",
    "        dest_path = os.path.join(models_dir, f\"{specific_part}.pkl\")\n",
    "        if not os.path.exists(dest_path):\n",
    "            print(f\"Copying model to {dest_path}\")\n",
    "            shutil.copy(model_path, dest_path)\n",
    "        else:\n",
    "            print(f\"File {dest_path} already exists. Skipping copy.\")\n",
    "\n",
    "    zipf = zipfile.ZipFile(\n",
    "        f\"/kaggle/working/{models_dir}.zip\", \"w\", zipfile.ZIP_DEFLATED\n",
    "    )\n",
    "\n",
    "    # Navigate through the folder and add each file to the ZIP\n",
    "    for root, dirs, files in os.walk(f\"/kaggle/working/{models_dir}\"):\n",
    "        for file in files:\n",
    "            zipf.write(\n",
    "                os.path.join(root, file),\n",
    "                os.path.relpath(\n",
    "                    os.path.join(root, file), f\"/kaggle/working/{models_dir}\"\n",
    "                ),\n",
    "            )\n",
    "\n",
    "    zipf.close()"
   ]
  },
  {
   "cell_type": "code",
   "execution_count": null,
   "id": "852138c2",
   "metadata": {
    "papermill": {
     "duration": 0.01577,
     "end_time": "2023-11-10T14:44:20.223457",
     "exception": false,
     "start_time": "2023-11-10T14:44:20.207687",
     "status": "completed"
    },
    "tags": []
   },
   "outputs": [],
   "source": []
  },
  {
   "cell_type": "code",
   "execution_count": null,
   "id": "7132b840",
   "metadata": {
    "papermill": {
     "duration": 0.016247,
     "end_time": "2023-11-10T14:44:20.256463",
     "exception": false,
     "start_time": "2023-11-10T14:44:20.240216",
     "status": "completed"
    },
    "tags": []
   },
   "outputs": [],
   "source": []
  },
  {
   "cell_type": "code",
   "execution_count": 23,
   "id": "db7c6754",
   "metadata": {
    "execution": {
     "iopub.execute_input": "2023-11-10T14:44:20.294555Z",
     "iopub.status.busy": "2023-11-10T14:44:20.293768Z",
     "iopub.status.idle": "2023-11-10T14:44:20.307457Z",
     "shell.execute_reply": "2023-11-10T14:44:20.306413Z"
    },
    "papermill": {
     "duration": 0.035117,
     "end_time": "2023-11-10T14:44:20.310608",
     "exception": false,
     "start_time": "2023-11-10T14:44:20.275491",
     "status": "completed"
    },
    "tags": []
   },
   "outputs": [
    {
     "name": "stdout",
     "output_type": "stream",
     "text": [
      "List of file paths: ['/kaggle/input/models-12/LGBMR_0_20231110_101710.pkl', '/kaggle/input/models-12/LGBMR_0_20231110_111522.pkl', '/kaggle/input/models-12/LGBMR_0_20231110_103148.pkl', '/kaggle/input/models-12/LGBMR_0_20231110_100236.pkl', '/kaggle/input/models-12/LGBMR_0_20231110_104630.pkl', '/kaggle/input/models-12/LGBMR_0_20231110_110053.pkl']\n"
     ]
    }
   ],
   "source": [
    "model_paths = []\n",
    "models_dir_input = models_dir.replace(\"_\", \"-\")\n",
    "directory = f\"/kaggle/input/{models_dir_input}\"\n",
    "\n",
    "# Check if the directory exists\n",
    "if os.path.exists(directory):\n",
    "    # Traverse the directory and collect file paths\n",
    "    for filename in os.listdir(directory):\n",
    "        full_path = os.path.join(directory, filename)\n",
    "\n",
    "        # Check if the item is a file (and not a sub-directory)\n",
    "        if os.path.isfile(full_path):\n",
    "            model_paths.append(full_path)\n",
    "else:\n",
    "    print(f\"The directory {directory} does not exist.\")\n",
    "\n",
    "# Print or return the list of file paths\n",
    "print(\"List of file paths:\", model_paths)"
   ]
  },
  {
   "cell_type": "code",
   "execution_count": null,
   "id": "f2f6fe9f",
   "metadata": {
    "papermill": {
     "duration": 0.016211,
     "end_time": "2023-11-10T14:44:20.343671",
     "exception": false,
     "start_time": "2023-11-10T14:44:20.327460",
     "status": "completed"
    },
    "tags": []
   },
   "outputs": [],
   "source": []
  },
  {
   "cell_type": "code",
   "execution_count": 24,
   "id": "db83137f",
   "metadata": {
    "_cell_guid": "79aa495a-7580-497c-b913-8941cf7d0c61",
    "_uuid": "b3efe16f-ca61-4000-94d7-568364d0e11b",
    "collapsed": false,
    "execution": {
     "iopub.execute_input": "2023-11-10T14:44:20.378822Z",
     "iopub.status.busy": "2023-11-10T14:44:20.378353Z",
     "iopub.status.idle": "2023-11-10T14:44:20.383423Z",
     "shell.execute_reply": "2023-11-10T14:44:20.382380Z"
    },
    "jupyter": {
     "outputs_hidden": false
    },
    "papermill": {
     "duration": 0.025272,
     "end_time": "2023-11-10T14:44:20.385877",
     "exception": false,
     "start_time": "2023-11-10T14:44:20.360605",
     "status": "completed"
    },
    "tags": []
   },
   "outputs": [],
   "source": [
    "# Assuming X_test for predict\n",
    "# ensemble_predictions = ensemble_predict(model_paths, df_test, mlflow_client)"
   ]
  },
  {
   "cell_type": "code",
   "execution_count": 25,
   "id": "b3825d9e",
   "metadata": {
    "_cell_guid": "d4bfb979-2758-4fe9-8947-399b1c3a574c",
    "_uuid": "bef1a199-0988-4743-813e-99d4308fc9bb",
    "collapsed": false,
    "execution": {
     "iopub.execute_input": "2023-11-10T14:44:20.421196Z",
     "iopub.status.busy": "2023-11-10T14:44:20.420357Z",
     "iopub.status.idle": "2023-11-10T14:44:20.447776Z",
     "shell.execute_reply": "2023-11-10T14:44:20.446693Z"
    },
    "jupyter": {
     "outputs_hidden": false
    },
    "papermill": {
     "duration": 0.047897,
     "end_time": "2023-11-10T14:44:20.450561",
     "exception": false,
     "start_time": "2023-11-10T14:44:20.402664",
     "status": "completed"
    },
    "tags": []
   },
   "outputs": [],
   "source": [
    "import optiver2023\n",
    "\n",
    "env = optiver2023.make_env()\n",
    "iter_test = env.iter_test()"
   ]
  },
  {
   "cell_type": "code",
   "execution_count": 26,
   "id": "71c7d4ec",
   "metadata": {
    "execution": {
     "iopub.execute_input": "2023-11-10T14:44:20.487636Z",
     "iopub.status.busy": "2023-11-10T14:44:20.486356Z",
     "iopub.status.idle": "2023-11-10T14:44:46.227232Z",
     "shell.execute_reply": "2023-11-10T14:44:46.225847Z"
    },
    "papermill": {
     "duration": 25.763647,
     "end_time": "2023-11-10T14:44:46.231581",
     "exception": false,
     "start_time": "2023-11-10T14:44:20.467934",
     "status": "completed"
    },
    "tags": []
   },
   "outputs": [],
   "source": [
    "df_train = pd.read_csv(\"/kaggle/input/optiver-trading-at-the-close/train.csv\")\n",
    "global_stock_id_feats = {\n",
    "    \"median_size\": df_train.groupby(\"stock_id\")[\"bid_size\"].median()\n",
    "    + df_train.groupby(\"stock_id\")[\"ask_size\"].median(),\n",
    "    \"std_size\": df_train.groupby(\"stock_id\")[\"bid_size\"].std()\n",
    "    + df_train.groupby(\"stock_id\")[\"ask_size\"].std(),\n",
    "    \"ptp_size\": df_train.groupby(\"stock_id\")[\"bid_size\"].max()\n",
    "    - df_train.groupby(\"stock_id\")[\"bid_size\"].min(),\n",
    "    \"median_price\": df_train.groupby(\"stock_id\")[\"bid_price\"].median()\n",
    "    + df_train.groupby(\"stock_id\")[\"ask_price\"].median(),\n",
    "    \"std_price\": df_train.groupby(\"stock_id\")[\"bid_price\"].std()\n",
    "    + df_train.groupby(\"stock_id\")[\"ask_price\"].std(),\n",
    "    \"ptp_price\": df_train.groupby(\"stock_id\")[\"bid_price\"].max()\n",
    "    - df_train.groupby(\"stock_id\")[\"ask_price\"].min(),\n",
    "}"
   ]
  },
  {
   "cell_type": "code",
   "execution_count": 27,
   "id": "028297e4",
   "metadata": {
    "_cell_guid": "d30f3862-dca2-4242-9db0-ab9750118622",
    "_uuid": "efd9073c-aaef-4135-bf7c-1e892e9aa831",
    "collapsed": false,
    "execution": {
     "iopub.execute_input": "2023-11-10T14:44:46.268158Z",
     "iopub.status.busy": "2023-11-10T14:44:46.267659Z",
     "iopub.status.idle": "2023-11-10T14:47:31.004592Z",
     "shell.execute_reply": "2023-11-10T14:47:31.003228Z"
    },
    "jupyter": {
     "outputs_hidden": false
    },
    "papermill": {
     "duration": 164.759051,
     "end_time": "2023-11-10T14:47:31.007995",
     "exception": false,
     "start_time": "2023-11-10T14:44:46.248944",
     "status": "completed"
    },
    "tags": []
   },
   "outputs": [
    {
     "name": "stdout",
     "output_type": "stream",
     "text": [
      "This version of the API is not optimized and should not be used to estimate the runtime of your code on the hidden test set.\n"
     ]
    }
   ],
   "source": [
    "counter = 0\n",
    "df_tot_test = []\n",
    "for test, revealed_targets, sample_prediction in iter_test:\n",
    "    test[\"time_id\"] = counter\n",
    "    test[\"target\"] = \"none\"\n",
    "\n",
    "    if counter < 17:\n",
    "        df_tot_test.append(test)\n",
    "    else:\n",
    "        df_tot_test = df_tot_test[1:]\n",
    "        df_tot_test.append(test)\n",
    "\n",
    "    df_test = pd.concat(df_tot_test, axis=0, ignore_index=True)\n",
    "\n",
    "    feat = feat_engineering(df_test)\n",
    "    feat = feat.sort_values([\"date_id\", \"seconds_in_bucket\", \"stock_id\"])[-len(test) :]\n",
    "\n",
    "    list_cols_drop = [\"date_id\"]\n",
    "    feat.drop(list_cols_drop, axis=1, inplace=True)\n",
    "\n",
    "    model = joblib.load(\"/kaggle/input/models-12/LGBMR_0_20231110_100236.pkl\")\n",
    "\n",
    "    list_features = model.feature_name_\n",
    "    feat = feat[list_features]\n",
    "    sample_prediction[\"target\"] = ensemble_predict(model_paths, feat)\n",
    "    env.predict(sample_prediction)\n",
    "    counter += 1"
   ]
  },
  {
   "cell_type": "code",
   "execution_count": null,
   "id": "522f6b5c",
   "metadata": {
    "_cell_guid": "5498ae4b-62e8-4050-91e7-075fc549380f",
    "_uuid": "ce9653b2-7dff-4c5b-af77-5f0ef88b6e86",
    "collapsed": false,
    "jupyter": {
     "outputs_hidden": false
    },
    "papermill": {
     "duration": 0.017701,
     "end_time": "2023-11-10T14:47:31.044079",
     "exception": false,
     "start_time": "2023-11-10T14:47:31.026378",
     "status": "completed"
    },
    "tags": []
   },
   "outputs": [],
   "source": []
  },
  {
   "cell_type": "code",
   "execution_count": null,
   "id": "4d15293c",
   "metadata": {
    "_cell_guid": "92a8ed18-3a63-464e-9d62-17cea3baed59",
    "_uuid": "0b017968-3b5a-4465-820e-e89659b10afd",
    "collapsed": false,
    "jupyter": {
     "outputs_hidden": false
    },
    "papermill": {
     "duration": 0.016233,
     "end_time": "2023-11-10T14:47:31.077055",
     "exception": false,
     "start_time": "2023-11-10T14:47:31.060822",
     "status": "completed"
    },
    "tags": []
   },
   "outputs": [],
   "source": []
  },
  {
   "cell_type": "code",
   "execution_count": null,
   "id": "daf398e2",
   "metadata": {
    "_cell_guid": "f9d19e8d-0074-4ae2-adfb-4c039b700215",
    "_uuid": "b6096d27-d452-4593-9832-d15bfbd83e1b",
    "collapsed": false,
    "jupyter": {
     "outputs_hidden": false
    },
    "papermill": {
     "duration": 0.016943,
     "end_time": "2023-11-10T14:47:31.110719",
     "exception": false,
     "start_time": "2023-11-10T14:47:31.093776",
     "status": "completed"
    },
    "tags": []
   },
   "outputs": [],
   "source": []
  },
  {
   "cell_type": "code",
   "execution_count": null,
   "id": "05d9e408",
   "metadata": {
    "_cell_guid": "855f8db3-e344-4d4d-b577-36499775f352",
    "_uuid": "fde5edb9-d23d-41ac-92c6-593f299230c2",
    "collapsed": false,
    "jupyter": {
     "outputs_hidden": false
    },
    "papermill": {
     "duration": 0.016193,
     "end_time": "2023-11-10T14:47:31.143403",
     "exception": false,
     "start_time": "2023-11-10T14:47:31.127210",
     "status": "completed"
    },
    "tags": []
   },
   "outputs": [],
   "source": []
  },
  {
   "cell_type": "code",
   "execution_count": null,
   "id": "95860a54",
   "metadata": {
    "_cell_guid": "82330d89-f35e-4cae-876c-de852438527d",
    "_uuid": "f90f329d-b882-464c-84fc-74a815cfe1cd",
    "collapsed": false,
    "jupyter": {
     "outputs_hidden": false
    },
    "papermill": {
     "duration": 0.017088,
     "end_time": "2023-11-10T14:47:31.177101",
     "exception": false,
     "start_time": "2023-11-10T14:47:31.160013",
     "status": "completed"
    },
    "tags": []
   },
   "outputs": [],
   "source": []
  },
  {
   "cell_type": "code",
   "execution_count": null,
   "id": "a434b95d",
   "metadata": {
    "_cell_guid": "ed96eca6-9765-4c90-a6bf-3071518ba2f0",
    "_uuid": "ca1d48b9-5537-491b-9de2-57360edd9844",
    "collapsed": false,
    "jupyter": {
     "outputs_hidden": false
    },
    "papermill": {
     "duration": 0.016634,
     "end_time": "2023-11-10T14:47:31.210341",
     "exception": false,
     "start_time": "2023-11-10T14:47:31.193707",
     "status": "completed"
    },
    "tags": []
   },
   "outputs": [],
   "source": []
  }
 ],
 "metadata": {
  "kernelspec": {
   "display_name": "Python 3",
   "language": "python",
   "name": "python3"
  },
  "language_info": {
   "codemirror_mode": {
    "name": "ipython",
    "version": 3
   },
   "file_extension": ".py",
   "mimetype": "text/x-python",
   "name": "python",
   "nbconvert_exporter": "python",
   "pygments_lexer": "ipython3",
   "version": "3.10.13"
  },
  "papermill": {
   "default_parameters": {},
   "duration": 200.508893,
   "end_time": "2023-11-10T14:47:32.653955",
   "environment_variables": {},
   "exception": null,
   "input_path": "__notebook__.ipynb",
   "output_path": "__notebook__.ipynb",
   "parameters": {},
   "start_time": "2023-11-10T14:44:12.145062",
   "version": "2.4.0"
  }
 },
 "nbformat": 4,
 "nbformat_minor": 5
}
